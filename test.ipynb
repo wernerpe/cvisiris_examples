{
 "cells": [
  {
   "cell_type": "code",
   "execution_count": 1,
   "metadata": {},
   "outputs": [],
   "source": [
    "import math\n",
    "\n",
    "import numpy as np\n",
    "import matplotlib.pyplot as plt\n",
    "\n",
    "from pydrake.solvers import MathematicalProgram, Solve\n",
    "import pydrake.symbolic as sym\n",
    "\n"
   ]
  },
  {
   "cell_type": "code",
   "execution_count": 6,
   "metadata": {},
   "outputs": [],
   "source": [
    "prog = MathematicalProgram()\n",
    "# Declares indeterminates\n",
    "t = prog.NewIndeterminates(1,'t')\n",
    "p0 = prog.NewContinuousVariables(1, 'p0')\n",
    "p1 = prog.NewContinuousVariables(1, 'p1')\n",
    "p2 = prog.NewContinuousVariables(1, 'p2')\n",
    "p3 = prog.NewContinuousVariables(1, 'p3')\n",
    "\n"
   ]
  },
  {
   "cell_type": "code",
   "execution_count": 7,
   "metadata": {},
   "outputs": [],
   "source": [
    "exp = (1-t)**3*p0 + 3*(1-t)**2*t*p1 + 3*(1-t)*t**2*p2 + 3*t**2*p3 "
   ]
  },
  {
   "cell_type": "code",
   "execution_count": 8,
   "metadata": {},
   "outputs": [
    {
     "data": {
      "text/plain": [
       "array([<Expression \"(3 * (t(0) * p1(0) * pow((1 - t(0)), 2)) + 3 * (pow(t(0), 2) * p2(0) * (1 - t(0))) + 3 * (pow(t(0), 2) * p3(0)) + (p0(0) * pow((1 - t(0)), 3)))\">],\n",
       "      dtype=object)"
      ]
     },
     "execution_count": 8,
     "metadata": {},
     "output_type": "execute_result"
    }
   ],
   "source": [
    "exp"
   ]
  }
 ],
 "metadata": {
  "kernelspec": {
   "display_name": "Python 3",
   "language": "python",
   "name": "python3"
  },
  "language_info": {
   "codemirror_mode": {
    "name": "ipython",
    "version": 3
   },
   "file_extension": ".py",
   "mimetype": "text/x-python",
   "name": "python",
   "nbconvert_exporter": "python",
   "pygments_lexer": "ipython3",
   "version": "3.8.10"
  }
 },
 "nbformat": 4,
 "nbformat_minor": 2
}
