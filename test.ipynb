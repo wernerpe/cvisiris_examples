{
 "cells": [
  {
   "cell_type": "code",
   "execution_count": 1,
   "metadata": {},
   "outputs": [],
   "source": [
    "import math\n",
    "\n",
    "import numpy as np\n",
    "import matplotlib.pyplot as plt\n",
    "\n",
    "from pydrake.solvers import MathematicalProgram, Solve\n",
    "import pydrake.symbolic as sym\n",
    "\n"
   ]
  },
  {
   "cell_type": "code",
   "execution_count": 2,
   "metadata": {},
   "outputs": [],
   "source": [
    "import sympy as sp"
   ]
  },
  {
   "cell_type": "code",
   "execution_count": 3,
   "metadata": {},
   "outputs": [],
   "source": [
    "t, p0x, p1x, p2x, p3x, p0y, p1y, p2y, p3y = sp.symbols('t p_{0x} p1x p2x p3x p0y p1y p2y p3y')\n",
    "b3x = p0x*(1-t)**3 + p1x*3*(1-t)**2*t + p2x*3*(1-t)*t**2 + p3x*t**3\n",
    "b3y = p0y*(1-t)**3 + p1y*3*(1-t)**2*t + p2y*3*(1-t)*t**2 + p3y*t**3"
   ]
  },
  {
   "cell_type": "code",
   "execution_count": 4,
   "metadata": {},
   "outputs": [
    {
     "data": {
      "text/latex": [
       "$\\displaystyle 3 p1x t \\left(1 - t\\right)^{2} + 3 p2x t^{2} \\cdot \\left(1 - t\\right) + p3x t^{3} + p_{0x} \\left(1 - t\\right)^{3}$"
      ],
      "text/plain": [
       "3*p1x*t*(1 - t)**2 + 3*p2x*t**2*(1 - t) + p3x*t**3 + p_{0x}*(1 - t)**3"
      ]
     },
     "execution_count": 4,
     "metadata": {},
     "output_type": "execute_result"
    }
   ],
   "source": [
    "b3x.collect(p0x).collect(p1x).collect(p2x).collect(p3x)"
   ]
  },
  {
   "cell_type": "code",
   "execution_count": 35,
   "metadata": {},
   "outputs": [],
   "source": [
    "from pydrake.all import HPolyhedron\n",
    "import numpy as np\n",
    "from visualization_utils import plot_HPoly\n",
    "import matplotlib.pyplot as plt\n",
    "\n",
    "points = np.array([[0,-0.8],[-5,5]])\n",
    "center_points = np.array([[0, 0],\n",
    "                          [1.3, 1.4],\n",
    "                          [2.2, 4.2],\n",
    "                          [-1.6, 1],\n",
    "                          [-3,3.7],\n",
    "                          [-4.2, 5],\n",
    "                          [0,6],\n",
    "                          [0,3.7]])\n",
    "\n",
    "sizes = np.array([[1,2],\n",
    "                  [2,2],\n",
    "                  [0.5,5.],\n",
    "                  [3,1],\n",
    "                  [1,5],\n",
    "                  [2.2,2],\n",
    "                  [6,0.3],\n",
    "                  [0.8,5]])\n",
    "\n",
    "regions =[]\n",
    "for c, s in zip(center_points, sizes):\n",
    "    l = c- s/2\n",
    "    u = c + s/2\n",
    "    regions.append(HPolyhedron.MakeBox(l,u))\n",
    "\n",
    "safe_sets = []\n",
    "safe_adjacencies = []\n",
    "\n",
    "for id1, r1 in enumerate(regions):\n",
    "    for id2, r2 in enumerate(regions):\n",
    "        if id1 != id2:\n",
    "            if r1.IntersectsWith(r2):\n",
    "                safe_sets.append(r1.Intersection(r2))\n",
    "                safe_adjacencies.append([id1, id2])\n",
    "\n",
    "reppts = np.array([s.ChebyshevCenter() for s in safe_sets])\n",
    "\n",
    "safe_ad = np.zeros((len(safe_sets), len(safe_sets)))\n",
    "for id in range(len(regions)):\n",
    "    idxs = np.where(np.array(safe_adjacencies)[:,0]==id)[0]\n",
    "    for id1 in idxs:\n",
    "        for id2 in idxs:\n",
    "            if id1 != id2:\n",
    "                safe_ad[id1, id2] =1"
   ]
  },
  {
   "cell_type": "code",
   "execution_count": 36,
   "metadata": {},
   "outputs": [
    {
     "data": {
      "text/plain": [
       "<matplotlib.collections.PathCollection at 0x7fa2795f2dc0>"
      ]
     },
     "execution_count": 36,
     "metadata": {},
     "output_type": "execute_result"
    },
    {
     "data": {
      "image/png": "[encoded data removed]",
      "text/plain": [
       "<Figure size 720x720 with 1 Axes>"
      ]
     },
     "metadata": {
      "needs_background": "light"
     },
     "output_type": "display_data"
    }
   ],
   "source": [
    "fig, ax = plt.subplots(figsize = (10,10))\n",
    "for p,c in zip(points, ['k','r']):\n",
    "    ax.scatter(p[0], p[1], c = c)\n",
    "ax.axis('equal')\n",
    "for r in regions:\n",
    "    plot_HPoly(ax, r)\n",
    "for r in safe_sets:\n",
    "    plot_HPoly(ax, r, color = 'r')\n",
    "\n",
    "for i in range(len(safe_sets)):\n",
    "    for j in range(i+1, len(safe_sets)):\n",
    "        if safe_ad[i,j]==1:\n",
    "            x = [reppts[i][0], reppts[j][0]]\n",
    "            y = [reppts[i][1], reppts[j][1]]\n",
    "            ax.plot(x,y, linewidth = 1, c = 'k')\n",
    "ax.scatter(reppts[:,0], reppts[:,1], c = 'k')"
   ]
  },
  {
   "cell_type": "code",
   "execution_count": 15,
   "metadata": {},
   "outputs": [
    {
     "data": {
      "text/plain": [
       "[[0, 1],\n",
       " [0, 3],\n",
       " [1, 0],\n",
       " [1, 2],\n",
       " [2, 1],\n",
       " [2, 6],\n",
       " [3, 0],\n",
       " [3, 4],\n",
       " [4, 3],\n",
       " [4, 5],\n",
       " [4, 6],\n",
       " [5, 4],\n",
       " [6, 2],\n",
       " [6, 4]]"
      ]
     },
     "execution_count": 15,
     "metadata": {},
     "output_type": "execute_result"
    }
   ],
   "source": [
    "safe_adjacencies"
   ]
  },
  {
   "cell_type": "code",
   "execution_count": null,
   "metadata": {},
   "outputs": [],
   "source": []
  },
  {
   "cell_type": "code",
   "execution_count": 46,
   "metadata": {},
   "outputs": [
    {
     "data": {
      "text/plain": [
       "array([ 0. , -0.8])"
      ]
     },
     "execution_count": 46,
     "metadata": {},
     "output_type": "execute_result"
    }
   ],
   "source": [
    "from dijkstraspp import DijkstraSPPsolver\n",
    "def conv(q):\n",
    "    return q\n",
    "dspp = DijkstraSPPsolver(regions, conv)\n",
    "wps, _ = dspp.solve(points[0], points[1], refine_path=True)\n",
    "for i in range(len(wps)-1):\n",
    "    ax.plot([wps[i][0], wps[i+1][0]], [wps[i][1], wps[i+1][1]], c = 'k', linewidth = 1)\n"
   ]
  },
  {
   "cell_type": "code",
   "execution_count": 43,
   "metadata": {},
   "outputs": [
    {
     "data": {
      "text/plain": [
       "([array([ 0. , -0.8]),\n",
       "  array([-0.3,  0.8]),\n",
       "  array([-2.65,  1.35]),\n",
       "  array([-3.45,  5.95]),\n",
       "  array([-5.,  5.])],\n",
       " 10.528398645080689)"
      ]
     },
     "execution_count": 43,
     "metadata": {},
     "output_type": "execute_result"
    }
   ],
   "source": []
  },
  {
   "cell_type": "code",
   "execution_count": null,
   "metadata": {},
   "outputs": [],
   "source": []
  },
  {
   "cell_type": "code",
   "execution_count": 40,
   "metadata": {},
   "outputs": [
    {
     "data": {
      "text/latex": [
       "$\\displaystyle p_{0} \\left(- 3 t^{2} + 6 t - 3\\right) + p_{1} \\cdot \\left(9 t^{2} - 12 t + 3\\right) + p_{2} \\left(- 9 t^{2} + 6 t\\right) + 3 p_{3} t^{2}$"
      ],
      "text/plain": [
       "p0*(-3*t**2 + 6*t - 3) + p1*(9*t**2 - 12*t + 3) + p2*(-9*t**2 + 6*t) + 3*p3*t**2"
      ]
     },
     "execution_count": 40,
     "metadata": {},
     "output_type": "execute_result"
    }
   ],
   "source": [
    "b3diff= sp.diff(b3, t)\n",
    "b3diffexp = sp.expand(b3diff)\n",
    "b3diffexp.collect(p0).collect(p1).collect(p2).collect(p3)"
   ]
  },
  {
   "cell_type": "code",
   "execution_count": 42,
   "metadata": {},
   "outputs": [
    {
     "data": {
      "text/latex": [
       "$\\displaystyle p_{0} \\cdot \\left(6 - 6 t\\right) + p_{1} \\cdot \\left(18 t - 12\\right) + p_{2} \\cdot \\left(6 - 18 t\\right) + 6 p_{3} t$"
      ],
      "text/plain": [
       "p0*(6 - 6*t) + p1*(18*t - 12) + p2*(6 - 18*t) + 6*p3*t"
      ]
     },
     "execution_count": 42,
     "metadata": {},
     "output_type": "execute_result"
    }
   ],
   "source": [
    "b3ddiff= sp.diff(b3diffexp, t)\n",
    "b3ddiffexp = sp.expand(b3ddiff)\n",
    "b3ddiffexp.collect(p0).collect(p1).collect(p2).collect(p3)"
   ]
  },
  {
   "cell_type": "code",
   "execution_count": 43,
   "metadata": {},
   "outputs": [
    {
     "data": {
      "text/latex": [
       "$\\displaystyle - 6 p_{0} + 18 p_{1} - 18 p_{2} + 6 p_{3}$"
      ],
      "text/plain": [
       "-6*p0 + 18*p1 - 18*p2 + 6*p3"
      ]
     },
     "execution_count": 43,
     "metadata": {},
     "output_type": "execute_result"
    }
   ],
   "source": [
    "b3dddiff= sp.diff(b3ddiffexp, t)\n",
    "b3dddiffexp = sp.expand(b3dddiff)\n",
    "b3dddiffexp.collect(p0).collect(p1).collect(p2).collect(p3)"
   ]
  },
  {
   "cell_type": "code",
   "execution_count": 12,
   "metadata": {},
   "outputs": [
    {
     "ename": "AttributeError",
     "evalue": "'tuple' object has no attribute 'sort'",
     "output_type": "error",
     "traceback": [
      "\u001b[0;31m---------------------------------------------------------------------------\u001b[0m",
      "\u001b[0;31mAttributeError\u001b[0m                            Traceback (most recent call last)",
      "\u001b[0;32m<ipython-input-12-ebcf16b5293b>\u001b[0m in \u001b[0;36m<module>\u001b[0;34m\u001b[0m\n\u001b[1;32m     11\u001b[0m     \u001b[0;32mreturn\u001b[0m \u001b[0msorted_poly\u001b[0m\u001b[0;34m\u001b[0m\u001b[0;34m\u001b[0m\u001b[0m\n\u001b[1;32m     12\u001b[0m \u001b[0;34m\u001b[0m\u001b[0m\n\u001b[0;32m---> 13\u001b[0;31m \u001b[0msort_terms_by_power\u001b[0m\u001b[0;34m(\u001b[0m\u001b[0mb3diffexp\u001b[0m\u001b[0;34m)\u001b[0m\u001b[0;34m\u001b[0m\u001b[0;34m\u001b[0m\u001b[0m\n\u001b[0m",
      "\u001b[0;32m<ipython-input-12-ebcf16b5293b>\u001b[0m in \u001b[0;36msort_terms_by_power\u001b[0;34m(poly)\u001b[0m\n\u001b[1;32m      4\u001b[0m \u001b[0;34m\u001b[0m\u001b[0m\n\u001b[1;32m      5\u001b[0m     \u001b[0;31m# Sort the terms by their powers of 't'\u001b[0m\u001b[0;34m\u001b[0m\u001b[0;34m\u001b[0m\u001b[0;34m\u001b[0m\u001b[0m\n\u001b[0;32m----> 6\u001b[0;31m     \u001b[0mterms\u001b[0m\u001b[0;34m.\u001b[0m\u001b[0msort\u001b[0m\u001b[0;34m(\u001b[0m\u001b[0mkey\u001b[0m\u001b[0;34m=\u001b[0m\u001b[0;32mlambda\u001b[0m \u001b[0mterm\u001b[0m\u001b[0;34m:\u001b[0m \u001b[0msp\u001b[0m\u001b[0;34m.\u001b[0m\u001b[0mPoly\u001b[0m\u001b[0;34m(\u001b[0m\u001b[0mterm\u001b[0m\u001b[0;34m,\u001b[0m \u001b[0mdomain\u001b[0m\u001b[0;34m=\u001b[0m\u001b[0msp\u001b[0m\u001b[0;34m.\u001b[0m\u001b[0mEX\u001b[0m\u001b[0;34m)\u001b[0m\u001b[0;34m.\u001b[0m\u001b[0mas_dict\u001b[0m\u001b[0;34m(\u001b[0m\u001b[0;34m)\u001b[0m\u001b[0;34m.\u001b[0m\u001b[0mget\u001b[0m\u001b[0;34m(\u001b[0m\u001b[0mt\u001b[0m\u001b[0;34m,\u001b[0m \u001b[0;36m0\u001b[0m\u001b[0;34m)\u001b[0m\u001b[0;34m)\u001b[0m\u001b[0;34m\u001b[0m\u001b[0;34m\u001b[0m\u001b[0m\n\u001b[0m\u001b[1;32m      7\u001b[0m \u001b[0;34m\u001b[0m\u001b[0m\n\u001b[1;32m      8\u001b[0m     \u001b[0;31m# Create a new polynomial with the sorted terms\u001b[0m\u001b[0;34m\u001b[0m\u001b[0;34m\u001b[0m\u001b[0;34m\u001b[0m\u001b[0m\n",
      "\u001b[0;31mAttributeError\u001b[0m: 'tuple' object has no attribute 'sort'"
     ]
    }
   ],
   "source": [
    "def sort_terms_by_power(poly):\n",
    "    # Get the terms of the polynomial\n",
    "    terms = sp.Add.make_args(poly)\n",
    "    \n",
    "    # Sort the terms by their powers of 't'\n",
    "    terms.sort(key=lambda term: sp.Poly(term, domain=sp.EX).as_dict().get(t, 0))\n",
    "\n",
    "    # Create a new polynomial with the sorted terms\n",
    "    sorted_poly = sp.Add(*terms)\n",
    "\n",
    "    return sorted_poly\n",
    "\n",
    "sort_terms_by_power(b3diffexp)"
   ]
  },
  {
   "cell_type": "code",
   "execution_count": 30,
   "metadata": {},
   "outputs": [
    {
     "data": {
      "text/latex": [
       "$\\displaystyle p_{0} \\left(1 - t\\right)^{3} + 3 p_{1} t \\left(1 - t\\right)^{2} + 3 p_{2} t^{2} \\cdot \\left(1 - t\\right) + p_{3} t^{3}$"
      ],
      "text/plain": [
       "p0*(1 - t)**3 + 3*p1*t*(1 - t)**2 + 3*p2*t**2*(1 - t) + p3*t**3"
      ]
     },
     "execution_count": 30,
     "metadata": {},
     "output_type": "execute_result"
    }
   ],
   "source": [
    "terms =list(sp.Add.make_args(b3diffexp))\n",
    "sp.collect(b3, t)\n"
   ]
  },
  {
   "cell_type": "code",
   "execution_count": 37,
   "metadata": {},
   "outputs": [
    {
     "name": "stdout",
     "output_type": "stream",
     "text": [
      "False\n"
     ]
    },
    {
     "data": {
      "text/latex": [
       "$\\displaystyle - 9 p_{2} t^{2}$"
      ],
      "text/plain": [
       "-9*p2*t**2"
      ]
     },
     "execution_count": 37,
     "metadata": {},
     "output_type": "execute_result"
    }
   ],
   "source": [
    "terms[3].has(t**3)\n"
   ]
  },
  {
   "cell_type": "code",
   "execution_count": 6,
   "metadata": {},
   "outputs": [],
   "source": [
    "prog = MathematicalProgram()\n",
    "# Declares indeterminates\n",
    "t = prog.NewIndeterminates(1,'t')\n",
    "p0 = prog.NewContinuousVariables(1, 'p0')\n",
    "p1 = prog.NewContinuousVariables(1, 'p1')\n",
    "p2 = prog.NewContinuousVariables(1, 'p2')\n",
    "p3 = prog.NewContinuousVariables(1, 'p3')\n",
    "\n"
   ]
  },
  {
   "cell_type": "code",
   "execution_count": 7,
   "metadata": {},
   "outputs": [],
   "source": [
    "exp = (1-t)**3*p0 + 3*(1-t)**2*t*p1 + 3*(1-t)*t**2*p2 + 3*t**2*p3 "
   ]
  },
  {
   "cell_type": "code",
   "execution_count": 8,
   "metadata": {},
   "outputs": [
    {
     "data": {
      "text/plain": [
       "array([<Expression \"(3 * (t(0) * p1(0) * pow((1 - t(0)), 2)) + 3 * (pow(t(0), 2) * p2(0) * (1 - t(0))) + 3 * (pow(t(0), 2) * p3(0)) + (p0(0) * pow((1 - t(0)), 3)))\">],\n",
       "      dtype=object)"
      ]
     },
     "execution_count": 8,
     "metadata": {},
     "output_type": "execute_result"
    }
   ],
   "source": []
  }
 ],
 "metadata": {
  "kernelspec": {
   "display_name": "Python 3",
   "language": "python",
   "name": "python3"
  },
  "language_info": {
   "codemirror_mode": {
    "name": "ipython",
    "version": 3
   },
   "file_extension": ".py",
   "mimetype": "text/x-python",
   "name": "python",
   "nbconvert_exporter": "python",
   "pygments_lexer": "ipython3",
   "version": "3.8.10"
  }
 },
 "nbformat": 4,
 "nbformat_minor": 2
}
