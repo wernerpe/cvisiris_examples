{
 "cells": [
  {
   "cell_type": "code",
   "execution_count": 1,
   "metadata": {},
   "outputs": [],
   "source": [
    "import numpy as np\n",
    "from functools import partial\n",
    "import ipywidgets as widgets\n",
    "from IPython.display import display"
   ]
  },
  {
   "cell_type": "code",
   "execution_count": 2,
   "metadata": {},
   "outputs": [],
   "source": [
    "#pydrake imports\n",
    "from pydrake.all import RationalForwardKinematics\n",
    "from pydrake.geometry.optimization import IrisOptions, HPolyhedron, Hyperellipsoid\n",
    "from pydrake.solvers import MosekSolver, CommonSolverOption, SolverOptions\n",
    "from pydrake.all import PiecewisePolynomial, InverseKinematics, Sphere, Rgba, RigidTransform, RotationMatrix, IrisInConfigurationSpace\n",
    "import time\n",
    "import pydrake"
   ]
  },
  {
   "cell_type": "code",
   "execution_count": 3,
   "metadata": {},
   "outputs": [
    {
     "name": "stderr",
     "output_type": "stream",
     "text": [
      "/home/peter/.local/lib/python3.8/site-packages/scipy/__init__.py:143: UserWarning: A NumPy version >=1.19.5 and <1.27.0 is required for this version of SciPy (detected version 1.17.4)\n",
      "  warnings.warn(f\"A NumPy version >={np_minversion} and <{np_maxversion}\"\n"
     ]
    }
   ],
   "source": [
    "from ur3e_demo import UrDiagram, SetDiffuse\n",
    "import ur3e_demo\n",
    "import visualization_utils as viz_utils"
   ]
  },
  {
   "cell_type": "code",
   "execution_count": 7,
   "metadata": {},
   "outputs": [
    {
     "name": "stderr",
     "output_type": "stream",
     "text": [
      "INFO:drake:Meshcat listening for connections at http://localhost:7001\n",
      "WARNING:drake:/home/peter/git/drake_vgraphbuild_russ/drake-build/install/lib/python3.8/site-packages/pydrake/common/../../../../../share/drake/manipulation/models/ur3e/ur3e_cylinder_weld_wrist.urdf:287: warning: Skipping transmission since it's attached to a fixed joint \"ur_wrist_3_joint\".\n"
     ]
    },
    {
     "name": "stdout",
     "output_type": "stream",
     "text": [
      "http://localhost:7001\n",
      "{'ur_wrist_2_link': <GeometryId value=335>, 'ur_wrist_3_link': <GeometryId value=339>, 'body': <GeometryId value=348>, 'left_finger': <GeometryId value=354>, 'right_finger': <GeometryId value=360>}\n"
     ]
    }
   ],
   "source": [
    "ur = UrDiagram(num_ur = 1, weld_wrist = True, add_shelf = True,\n",
    "                 add_gripper = True, use_meshcat=True)\n",
    "diagram_context = ur.diagram.CreateDefaultContext()\n",
    "diagram = ur.diagram.ForcedPublish(diagram_context)\n",
    "\n",
    "plant_context = ur.plant.GetMyMutableContextFromRoot(\n",
    "        diagram_context)\n",
    "scene_graph_context = ur.scene_graph.GetMyMutableContextFromRoot(\n",
    "    diagram_context)\n",
    "inspector = ur.scene_graph.model_inspector()        \n",
    "        \n",
    "# # construct the RationalForwardKinematics of this plant. This object handles the\n",
    "# # computations for the forward kinematics in the tangent-configuration space\n",
    "# Ratfk = RationalForwardKinematics(ur.plant)\n",
    "\n",
    "# # the point about which we will take the stereographic projections\n",
    "# q_star = np.zeros(ur.plant.num_positions())\n",
    "\n",
    "# # The object we will use to perform our certification.\n",
    "# cspace_free_polytope = CspaceFreePolytope(ur.plant, ur.scene_graph,\n",
    "#                                           SeparatingPlaneOrder.kAffine, q_star)\n",
    "\n",
    "#from pydrake.all import Box, GetVertices\n",
    "query = ur.scene_graph.get_query_output_port().Eval(ur.scene_graph.GetMyContextFromRoot(diagram_context))\n",
    "inspector = query.inspector()\n",
    "a = inspector.GetCollisionCandidates()\n",
    "geomids= []\n",
    "for b, c in a:\n",
    "    geomids.append(b)\n",
    "    geomids.append(c)\n",
    "ids = list(set(inspector.GetAllGeometryIds()))\n",
    "frame_id_dict = {}\n",
    "for idx in range(len(ids)):\n",
    "    #print(idx, plant.GetBodyFromFrameId(inspector.GetFrameId(ids[idx])))\n",
    "    if ur.plant.GetBodyFromFrameId(inspector.GetFrameId(ids[idx])).name() =='body':\n",
    "        frame_id_dict['body'] = ids[idx]\n",
    "    if ur.plant.GetBodyFromFrameId(inspector.GetFrameId(ids[idx])).name() =='left_finger':\n",
    "        frame_id_dict['left_finger'] = ids[idx]\n",
    "    if ur.plant.GetBodyFromFrameId(inspector.GetFrameId(ids[idx])).name() =='right_finger':\n",
    "        frame_id_dict['right_finger'] = ids[idx]\n",
    "    if ur.plant.GetBodyFromFrameId(inspector.GetFrameId(ids[idx])).name() =='ur_wrist_3_link':\n",
    "        frame_id_dict['ur_wrist_3_link'] = ids[idx]\n",
    "    if ur.plant.GetBodyFromFrameId(inspector.GetFrameId(ids[idx])).name() =='ur_wrist_2_link':\n",
    "        frame_id_dict['ur_wrist_2_link'] = ids[idx]\n",
    "\n",
    "print(frame_id_dict)\n",
    "geom_ids = [inspector.GetGeometries(inspector.GetFrameId(frame_id_dict[k]))[0] for k in ['ur_wrist_2_link','ur_wrist_3_link','body', 'left_finger', 'right_finger']]\n",
    "\n",
    "sh_frames = [6,7, 11,12,13]\n",
    "sh_geom = [inspector.GetShape(id) for id in geom_ids] \n",
    "sh_names = ['ur_wrist_2_link','ur_wrist_3_link', 'box', 'l','r']\n",
    "\n",
    "def plot_endeff_pose(q2, name = '', color = Rgba(1,1,0.1,0.8)):\n",
    "    ur.plant.SetPositions(plant_context, q2)\n",
    "    tfs = [ur.plant.EvalBodyPoseInWorld(plant_context, ur.plant.get_body(pydrake.multibody.tree.BodyIndex(fr))) for fr in sh_frames]\n",
    "    for n, f, geom in zip(sh_names[2:], tfs[2:], sh_geom[2:]):\n",
    "        #print(n,f,geom)\n",
    "        ur.meshcat.SetObject(\"/iris/shunk/\"+name+\"/\"+n,\n",
    "                                geom,\n",
    "                                color)\n",
    "        ur.meshcat.SetTransform(\"/iris/shunk/\"+name+\"/\"+n, f)\n",
    "# for i,p in enumerate(poi):\n",
    "#     plot_endeff_pose(p, str(i))\n",
    "def densify_waypoints(waypoints_q):\n",
    "    densify = 200\n",
    "    dists = []\n",
    "    dense_waypoints = []\n",
    "    for idx in range(len(waypoints_q[:-1])):\n",
    "        a = waypoints_q[idx]\n",
    "        b = waypoints_q[idx+1]\n",
    "        t = np.linspace(1,0, 10)\n",
    "        locs_endeff = []\n",
    "        dists_endeff = []\n",
    "        for tval in t:\n",
    "            a = a*tval + b*(1-tval)\n",
    "            qa = a#Ratfk.ComputeQValue(ta, np.zeros(7))\n",
    "            #showres(qa)\n",
    "            #time.sleep(0.1)            \n",
    "            ur.plant.SetPositions(plant_context, qa)\n",
    "            tf_tot= ur.plant.EvalBodyPoseInWorld(plant_context, ur.plant.get_body(pydrake.multibody.tree.BodyIndex(11)))\n",
    "            tf = tf_tot.translation() + tf_tot.GetAsMatrix4()[:3,:3][:,1] *0.15\n",
    "            locs_endeff.append(tf)\n",
    "        for i in range(len(locs_endeff)-1):\n",
    "            dists_endeff.append(np.linalg.norm(locs_endeff[i]- locs_endeff[i+1]))\n",
    "        d = np.sum(dists_endeff)\n",
    "        #print(d * densify)\n",
    "        t = np.linspace(1,0,int(densify*d))\n",
    "        for tval in t:\n",
    "            dense_waypoints.append(waypoints_q[idx]*tval + waypoints_q[idx+1]*(1-tval))\n",
    "    return dense_waypoints\n",
    "\n",
    "def plot_endeff_traj(dense_waypoints):\n",
    "    color = Rgba(1,0,0,1.0)\n",
    "    start_idx = 0\n",
    "    for i, qa in enumerate(dense_waypoints):\n",
    "        #qa = Ratfk.ComputeQValue(ta, np.zeros(7))\n",
    "        #showres(qa)\n",
    "        #time.sleep(0.1)            \n",
    "        ur.plant.SetPositions(plant_context, qa)\n",
    "        tf_tot= ur.plant.EvalBodyPoseInWorld(plant_context, ur.plant.get_body(pydrake.multibody.tree.BodyIndex(11)))\n",
    "        tf = tf_tot.translation() + tf_tot.GetAsMatrix4()[:3,:3][:,1] *0.15\n",
    "\n",
    "        ur.meshcat.SetObject(f\"/iris/points/traj/{i+start_idx}\",\n",
    "                               Sphere(0.005),\n",
    "                               color)\n",
    "\n",
    "        ur.meshcat.SetTransform(f\"/iris/points/traj/{i+start_idx}\",\n",
    "                                   RigidTransform(RotationMatrix(),\n",
    "                                                  tf))\n",
    "\n"
   ]
  },
  {
   "cell_type": "code",
   "execution_count": 5,
   "metadata": {},
   "outputs": [
    {
     "ename": "FileNotFoundError",
     "evalue": "[Errno 2] No such file or directory: 'logs/5DOf_ur_20230703210916_16_1000_0.050_0.140/regions'",
     "output_type": "error",
     "traceback": [
      "\u001b[0;31m---------------------------------------------------------------------------\u001b[0m",
      "\u001b[0;31mFileNotFoundError\u001b[0m                         Traceback (most recent call last)",
      "\u001b[0;32m<ipython-input-5-b662243c94f4>\u001b[0m in \u001b[0;36m<module>\u001b[0;34m\u001b[0m\n\u001b[1;32m      3\u001b[0m \u001b[0;34m\u001b[0m\u001b[0m\n\u001b[1;32m      4\u001b[0m \u001b[0mexp_name\u001b[0m \u001b[0;34m=\u001b[0m \u001b[0;34m\"5DOf_ur_20230703210916_16_1000_0.050_0.140\"\u001b[0m\u001b[0;31m#\"5DOf_ur_20230703162006_12_1000_0.050_0.140\"\u001b[0m\u001b[0;34m\u001b[0m\u001b[0;34m\u001b[0m\u001b[0m\n\u001b[0;32m----> 5\u001b[0;31m \u001b[0mpoly_names\u001b[0m \u001b[0;34m=\u001b[0m \u001b[0mos\u001b[0m\u001b[0;34m.\u001b[0m\u001b[0mlistdir\u001b[0m\u001b[0;34m(\u001b[0m\u001b[0;34m\"logs/\"\u001b[0m\u001b[0;34m+\u001b[0m\u001b[0mexp_name\u001b[0m\u001b[0;34m+\u001b[0m\u001b[0;34m\"/regions\"\u001b[0m\u001b[0;34m)\u001b[0m\u001b[0;34m\u001b[0m\u001b[0;34m\u001b[0m\u001b[0m\n\u001b[0m\u001b[1;32m      6\u001b[0m \u001b[0mdata_chkpts\u001b[0m \u001b[0;34m=\u001b[0m \u001b[0mos\u001b[0m\u001b[0;34m.\u001b[0m\u001b[0mlistdir\u001b[0m\u001b[0;34m(\u001b[0m\u001b[0;34m\"logs/\"\u001b[0m\u001b[0;34m+\u001b[0m\u001b[0mexp_name\u001b[0m\u001b[0;34m+\u001b[0m\u001b[0;34m\"/data\"\u001b[0m\u001b[0;34m)\u001b[0m\u001b[0;34m\u001b[0m\u001b[0;34m\u001b[0m\u001b[0m\n\u001b[1;32m      7\u001b[0m \u001b[0mpoly_names\u001b[0m\u001b[0;34m.\u001b[0m\u001b[0msort\u001b[0m\u001b[0;34m(\u001b[0m\u001b[0;34m)\u001b[0m\u001b[0;34m\u001b[0m\u001b[0;34m\u001b[0m\u001b[0m\n",
      "\u001b[0;31mFileNotFoundError\u001b[0m: [Errno 2] No such file or directory: 'logs/5DOf_ur_20230703210916_16_1000_0.050_0.140/regions'"
     ]
    }
   ],
   "source": [
    "import pickle\n",
    "import os\n",
    "\n",
    "exp_name = \"5DOf_ur_20230703210916_16_1000_0.050_0.140\"#\"5DOf_ur_20230703162006_12_1000_0.050_0.140\"\n",
    "poly_names = os.listdir(\"logs/\"+exp_name+\"/regions\")\n",
    "data_chkpts = os.listdir(\"logs/\"+exp_name+\"/data\")\n",
    "poly_names.sort()\n",
    "data_chkpts.sort()\n",
    "regions = []\n",
    "for p in poly_names:\n",
    "    with open(\"logs/\"+exp_name+\"/regions/\"+p, 'rb') as f:\n",
    "        d = pickle.load(f)\n",
    "    regions.append(HPolyhedron(d['ra'], d['rb']))\n",
    "\n",
    "with open(\"logs/\"+exp_name+\"/data/\"+data_chkpts[-1], 'rb') as f:\n",
    "    d2 = pickle.load(f)\n",
    "\n",
    "seed_points = d2['sp'][-1]"
   ]
  },
  {
   "cell_type": "code",
   "execution_count": 21,
   "metadata": {},
   "outputs": [],
   "source": [
    "showres(seed_points[0, :])"
   ]
  },
  {
   "cell_type": "code",
   "execution_count": 7,
   "metadata": {},
   "outputs": [
    {
     "name": "stdout",
     "output_type": "stream",
     "text": [
      "[DijkstraSPP] Pre-Building adjacency matrix  0 / 24\n",
      "[DijkstraSPP] Pre-Building adjacency matrix  10 / 24\n",
      "[DijkstraSPP] Pre-Building adjacency matrix  20 / 24\n",
      "[DijkstraSPP] Pre-Building d-adjacency matrix  0 / 56\n"
     ]
    }
   ],
   "source": [
    "def conversion_dummy(q):\n",
    "    return q\n",
    "import dijkstraspp\n",
    "dspp = dijkstraspp.DijkstraSPPsolver(regions, conversion_dummy)"
   ]
  },
  {
   "cell_type": "code",
   "execution_count": 8,
   "metadata": {},
   "outputs": [
    {
     "data": {
      "application/vnd.jupyter.widget-view+json": {
       "model_id": "7f9f877aaab5440dbe65c3cf3f16c006",
       "version_major": 2,
       "version_minor": 0
      },
      "text/plain": [
       "FloatSlider(value=0.0, description='q0', max=2.827433388230814, min=-2.827433388230814)"
      ]
     },
     "metadata": {},
     "output_type": "display_data"
    },
    {
     "data": {
      "application/vnd.jupyter.widget-view+json": {
       "model_id": "7f9f877aaab5440dbe65c3cf3f16c006",
       "version_major": 2,
       "version_minor": 0
      },
      "text/plain": [
       "FloatSlider(value=0.0, description='q0', max=2.827433388230814, min=-2.827433388230814)"
      ]
     },
     "metadata": {},
     "output_type": "display_data"
    },
    {
     "data": {
      "application/vnd.jupyter.widget-view+json": {
       "model_id": "322b2d57acdf4e279f5b4d75dba2f107",
       "version_major": 2,
       "version_minor": 0
      },
      "text/plain": [
       "FloatSlider(value=0.0, description='q1', max=2.827433388230814, min=-2.827433388230814)"
      ]
     },
     "metadata": {},
     "output_type": "display_data"
    },
    {
     "data": {
      "application/vnd.jupyter.widget-view+json": {
       "model_id": "45e579dd39b94e05acc84553569571cb",
       "version_major": 2,
       "version_minor": 0
      },
      "text/plain": [
       "FloatSlider(value=0.0, description='q2', max=2.827433388230814, min=-2.827433388230814)"
      ]
     },
     "metadata": {},
     "output_type": "display_data"
    },
    {
     "data": {
      "application/vnd.jupyter.widget-view+json": {
       "model_id": "76905ab411ad4845888fb39e3a6a6c50",
       "version_major": 2,
       "version_minor": 0
      },
      "text/plain": [
       "FloatSlider(value=0.0, description='q3', max=2.827433388230814, min=-2.827433388230814)"
      ]
     },
     "metadata": {},
     "output_type": "display_data"
    },
    {
     "data": {
      "application/vnd.jupyter.widget-view+json": {
       "model_id": "c39de00c801d47c8b45252d45e621b86",
       "version_major": 2,
       "version_minor": 0
      },
      "text/plain": [
       "FloatSlider(value=0.0, description='q4', max=2.827433388230814, min=-2.827433388230814)"
      ]
     },
     "metadata": {},
     "output_type": "display_data"
    }
   ],
   "source": [
    "sliders = []\n",
    "for i in range(ur.plant.num_positions()):\n",
    "    q_low = ur.plant.GetPositionLowerLimits()[i]\n",
    "    q_high = ur.plant.GetPositionUpperLimits()[i]\n",
    "    sliders.append(widgets.FloatSlider(min=q_low, max=q_high, value=0, description=f\"q{i}\"))\n",
    "\n",
    "q = np.zeros(ur.plant.num_positions())\n",
    "ik = InverseKinematics(ur.plant, plant_context)\n",
    "collision_constraint = ik.AddMinimumDistanceConstraint(0.001, 0.001)\n",
    "def eval_cons(q, c, tol):\n",
    "    return 1-1*float(c.evaluator().CheckSatisfied(q, tol))\n",
    "    \n",
    "col_func_handle = partial(eval_cons, c=collision_constraint, tol=0.01)\n",
    "col_shunk_col =  Rgba(0.8, 0.0, 0, 0.5)    \n",
    "col_shunk_free =  Rgba(0.0, 0.8, 0.5, 0.5)   \n",
    "\n",
    "def handle_slider_change(change, idx):\n",
    "    q[idx] = change['new']\n",
    "    showres_regions(q)\n",
    "\n",
    "def showres(qvis):\n",
    "    ur.plant.SetPositions(plant_context, qvis)\n",
    "    col = col_func_handle(qvis)\n",
    "    shunk = ur.plant.get_body(pydrake.multibody.tree.BodyIndex(11))\n",
    "    tf_tot = shunk.EvalPoseInWorld(plant_context)\n",
    "    tf = tf_tot.translation()\n",
    "    \n",
    "   # tf_tot= plant.EvalBodyPoseInWorld(plant_context, plant.get_body(pydrake.multibody.tree.BodyIndex(7)))\n",
    "    #tf = tf_tot.translation() - tf_tot.GetAsMatrix4()[:3,:3][:,1] *0.15\n",
    "    if col:\n",
    "        ur.meshcat.SetObject(f\"/drake/visualizer/shunk\",\n",
    "                                   Sphere(0.05),\n",
    "                                   col_shunk_col)\n",
    "    else:\n",
    "        ur.meshcat.SetObject(f\"/drake/visualizer/shunk\",\n",
    "                                   Sphere(0.05),\n",
    "                                   col_shunk_free)\n",
    "    ur.meshcat.SetTransform(f\"/drake/visualizer/shunk\",\n",
    "                                   RigidTransform(RotationMatrix(),\n",
    "                                                  tf))\n",
    "    \n",
    "    ur.diagram.ForcedPublish(diagram_context)\n",
    "\n",
    "from visibility_utils import point_in_regions\n",
    "\n",
    "def showres_regions(qvis):\n",
    "    ur.plant.SetPositions(plant_context, qvis)\n",
    "    is_in_regions = False #point_in_regions(qvis, regions)\n",
    "    col = col_func_handle(qvis)\n",
    "    shunk = ur.plant.get_body(pydrake.multibody.tree.BodyIndex(11))\n",
    "    tf_tot = shunk.EvalPoseInWorld(plant_context)\n",
    "    tf = tf_tot.translation()\n",
    "    \n",
    "   # tf_tot= plant.EvalBodyPoseInWorld(plant_context, plant.get_body(pydrake.multibody.tree.BodyIndex(7)))\n",
    "    #tf = tf_tot.translation() - tf_tot.GetAsMatrix4()[:3,:3][:,1] *0.15\n",
    "    if col:\n",
    "        ur.meshcat.SetObject(f\"/drake/visualizer/shunk\",\n",
    "                                   Sphere(0.05),\n",
    "                                   col_shunk_col)\n",
    "    else:\n",
    "        ur.meshcat.SetObject(f\"/drake/visualizer/shunk\",\n",
    "                                   Sphere(0.05),\n",
    "                                   col_shunk_free)\n",
    "    \n",
    "    ur.meshcat.SetTransform(f\"/drake/visualizer/shunk\",\n",
    "                                   RigidTransform(RotationMatrix(),\n",
    "                                                 tf))\n",
    "    \n",
    "        \n",
    "    if is_in_regions:\n",
    "        ur.meshcat.SetObject(f\"/drake/visualizer/inreg\",\n",
    "                                   Sphere(0.2),\n",
    "                                   col_shunk_free)\n",
    "    else:\n",
    "        ur.meshcat.SetObject(f\"/drake/visualizer/inreg\",\n",
    "                                   Sphere(0.2),\n",
    "                                   col_shunk_col)\n",
    "    ur.meshcat.SetTransform(f\"/drake/visualizer/inreg\",\n",
    "                                   RigidTransform(RotationMatrix(),\n",
    "                                                  np.array([0.5,0,0.5])))\n",
    "    \n",
    "    ur.diagram.ForcedPublish(diagram_context)\n",
    "\n",
    "scaler = 1 #np.array([0.8, 1., 0.8, 1, 0.8, 1, 0.8]) #do you even geometry bro?\n",
    "q_min = np.array(q_low)*scaler\n",
    "q_max = np.array(q_high)*scaler\n",
    "q_diff = q_max-q_min\n",
    "\n",
    "def sample_cfree_QPoint(MAXIT=1000):\n",
    "\tit = 0\n",
    "\twhile it<MAXIT:\n",
    "\t\trand = np.random.rand(5)\n",
    "\t\tq_s = q_min + rand*q_diff\n",
    "\t\tcol = False\n",
    "\t\tfor _ in range(10):\n",
    "\t\t\tr  = 0.05*(np.random.rand(5)-0.5)\n",
    "\t\t\tcol |= (col_func_handle(q_s+r) > 0)\n",
    "\t\tif not col:\n",
    "\t\t\treturn q_s #Ratfk.ComputeQValue(q_s, q_star)\n",
    "\t\tit+=1\n",
    "\traise ValueError(\"no col free point found\")\n",
    "\n",
    "idx = 0\n",
    "for slider in sliders:\n",
    "    slider.observe(partial(handle_slider_change, idx = idx), names='value')\n",
    "    idx+=1\n",
    "\n",
    "display(sliders[0])\n",
    "for slider in sliders:\n",
    "    display(slider)"
   ]
  },
  {
   "cell_type": "code",
   "execution_count": 8,
   "metadata": {},
   "outputs": [
    {
     "data": {
      "text/plain": [
       "<pydrake.multibody.plant.MultibodyPlant at 0x7fb228f63030>"
      ]
     },
     "execution_count": 8,
     "metadata": {},
     "output_type": "execute_result"
    }
   ],
   "source": [
    "ur.plant"
   ]
  },
  {
   "cell_type": "code",
   "execution_count": 11,
   "metadata": {},
   "outputs": [],
   "source": [
    "points = np.array([sample_cfree_QPoint() for i in range(50)])"
   ]
  },
  {
   "cell_type": "code",
   "execution_count": 26,
   "metadata": {},
   "outputs": [],
   "source": [
    "from pydrake.all import VisibilityGraph\n",
    "from pydrake.all import SceneGraphCollisionChecker, CollisionCheckerParams\n"
   ]
  },
  {
   "cell_type": "code",
   "execution_count": 28,
   "metadata": {},
   "outputs": [],
   "source": [
    "ccp = CollisionCheckerParams()"
   ]
  },
  {
   "cell_type": "code",
   "execution_count": 32,
   "metadata": {},
   "outputs": [
    {
     "ename": "TypeError",
     "evalue": "'pydrake.planning.CollisionCheckerParams' object is not callable",
     "output_type": "error",
     "traceback": [
      "\u001b[0;31m---------------------------------------------------------------------------\u001b[0m",
      "\u001b[0;31mTypeError\u001b[0m                                 Traceback (most recent call last)",
      "\u001b[0;32m<ipython-input-32-1c5d40ef1bff>\u001b[0m in \u001b[0;36m<module>\u001b[0;34m\u001b[0m\n\u001b[0;32m----> 1\u001b[0;31m \u001b[0mccp\u001b[0m\u001b[0;34m(\u001b[0m\u001b[0;34m)\u001b[0m\u001b[0;34m\u001b[0m\u001b[0;34m\u001b[0m\u001b[0m\n\u001b[0m",
      "\u001b[0;31mTypeError\u001b[0m: 'pydrake.planning.CollisionCheckerParams' object is not callable"
     ]
    }
   ],
   "source": [
    "ccp."
   ]
  },
  {
   "cell_type": "code",
   "execution_count": 14,
   "metadata": {},
   "outputs": [
    {
     "ename": "TypeError",
     "evalue": "VisibilityGraph(): incompatible function arguments. The following argument types are supported:\n    1. (checker: pydrake.planning.CollisionChecker, points: numpy.ndarray[numpy.float64[m, n], flags.f_contiguous], parallelize: bool = True) -> scipy.sparse.csc_matrix[bool]\n\nInvoked with: ",
     "output_type": "error",
     "traceback": [
      "\u001b[0;31m---------------------------------------------------------------------------\u001b[0m",
      "\u001b[0;31mTypeError\u001b[0m                                 Traceback (most recent call last)",
      "\u001b[0;32m<ipython-input-14-cd65099291ab>\u001b[0m in \u001b[0;36m<module>\u001b[0;34m\u001b[0m\n\u001b[0;32m----> 1\u001b[0;31m \u001b[0mVisibilityGraph\u001b[0m\u001b[0;34m(\u001b[0m\u001b[0;34m)\u001b[0m\u001b[0;34m\u001b[0m\u001b[0;34m\u001b[0m\u001b[0m\n\u001b[0m",
      "\u001b[0;31mTypeError\u001b[0m: VisibilityGraph(): incompatible function arguments. The following argument types are supported:\n    1. (checker: pydrake.planning.CollisionChecker, points: numpy.ndarray[numpy.float64[m, n], flags.f_contiguous], parallelize: bool = True) -> scipy.sparse.csc_matrix[bool]\n\nInvoked with: "
     ]
    }
   ],
   "source": [
    "VisibilityGraph()"
   ]
  },
  {
   "cell_type": "code",
   "execution_count": 25,
   "metadata": {},
   "outputs": [
    {
     "ename": "TypeError",
     "evalue": "__init__(): incompatible constructor arguments. The following argument types are supported:\n    1. pydrake.planning.SceneGraphCollisionChecker(*, model: pydrake.planning.RobotDiagram, **kwargs)\n\nInvoked with: <pydrake.geometry.SceneGraph object at 0x7fb22a4a0c30>, <pydrake.systems.framework.Diagram object at 0x7fb1f2f16cb0>",
     "output_type": "error",
     "traceback": [
      "\u001b[0;31m---------------------------------------------------------------------------\u001b[0m",
      "\u001b[0;31mTypeError\u001b[0m                                 Traceback (most recent call last)",
      "\u001b[0;32m<ipython-input-25-c6f40dc0ecd2>\u001b[0m in \u001b[0;36m<module>\u001b[0;34m\u001b[0m\n\u001b[0;32m----> 1\u001b[0;31m \u001b[0mSceneGraphCollisionChecker\u001b[0m\u001b[0;34m(\u001b[0m\u001b[0mur\u001b[0m\u001b[0;34m.\u001b[0m\u001b[0mscene_graph\u001b[0m\u001b[0;34m,\u001b[0m \u001b[0mur\u001b[0m\u001b[0;34m.\u001b[0m\u001b[0mdiagram\u001b[0m\u001b[0;34m)\u001b[0m\u001b[0;34m\u001b[0m\u001b[0;34m\u001b[0m\u001b[0m\n\u001b[0m",
      "\u001b[0;31mTypeError\u001b[0m: __init__(): incompatible constructor arguments. The following argument types are supported:\n    1. pydrake.planning.SceneGraphCollisionChecker(*, model: pydrake.planning.RobotDiagram, **kwargs)\n\nInvoked with: <pydrake.geometry.SceneGraph object at 0x7fb22a4a0c30>, <pydrake.systems.framework.Diagram object at 0x7fb1f2f16cb0>"
     ]
    }
   ],
   "source": [
    "SceneGraphCollisionChecker(ur.scene_graph, ur.diagram)"
   ]
  },
  {
   "cell_type": "code",
   "execution_count": 20,
   "metadata": {},
   "outputs": [
    {
     "data": {
      "text/plain": [
       "<pydrake.systems.framework.Diagram at 0x7fb1f2f16cb0>"
      ]
     },
     "execution_count": 20,
     "metadata": {},
     "output_type": "execute_result"
    }
   ],
   "source": [
    "ur.diagram"
   ]
  },
  {
   "cell_type": "code",
   "execution_count": 26,
   "metadata": {},
   "outputs": [
    {
     "name": "stdout",
     "output_type": "stream",
     "text": [
      "[ 1.36407114  0.30154314 -0.87237632  1.21614163 -1.68963116]\n"
     ]
    }
   ],
   "source": [
    "q = seed_points[0, :].copy()\n",
    "print(q)"
   ]
  },
  {
   "cell_type": "code",
   "execution_count": 15,
   "metadata": {},
   "outputs": [
    {
     "name": "stdout",
     "output_type": "stream",
     "text": [
      "[DijkstraSPP] optimized distance/ start-distance = 2.99 / 2.99 = 1.00\n",
      "2.9879363788134192\n",
      "[DijkstraSPP] optimized distance/ start-distance = 2.84 / 2.84 = 1.00\n",
      "2.8387958145218644\n",
      "[DijkstraSPP] optimized distance/ start-distance = 4.74 / 4.74 = 1.00\n",
      "4.74247521817468\n",
      "[DijkstraSPP] optimized distance/ start-distance = 4.38 / 9.31 = 0.47\n",
      "4.377970990412701\n",
      "[DijkstraSPP] optimized distance/ start-distance = 4.10 / 7.82 = 0.52\n",
      "4.102441038373757\n",
      "[DijkstraSPP] optimized distance/ start-distance = 4.31 / 4.31 = 1.00\n",
      "4.3118886085047246\n",
      "[DijkstraSPP] optimized distance/ start-distance = 4.37 / 4.37 = 1.00\n",
      "4.365168225140918\n",
      "[DijkstraSPP] optimized distance/ start-distance = 3.18 / 3.18 = 1.00\n",
      "3.1838748432890105\n",
      "[DijkstraSPP] Points not in set, idxs [0, 3] ,  []\n",
      "[DijkstraSPP] Points not in regions\n",
      "-1\n",
      "[DijkstraSPP] optimized distance/ start-distance = 5.46 / 5.74 = 0.95\n",
      "5.455250634320856\n",
      "[DijkstraSPP] optimized distance/ start-distance = 2.74 / 2.74 = 1.00\n",
      "2.736370264184464\n",
      "[DijkstraSPP] optimized distance/ start-distance = 2.53 / 2.53 = 1.00\n",
      "2.527063141656649\n",
      "[DijkstraSPP] optimized distance/ start-distance = 4.87 / 6.10 = 0.80\n",
      "4.865199649645628\n",
      "[DijkstraSPP] optimized distance/ start-distance = 3.91 / 3.91 = 1.00\n",
      "3.908830878036839\n",
      "[DijkstraSPP] optimized distance/ start-distance = 4.22 / 6.10 = 0.69\n",
      "4.223701136215706\n",
      "[DijkstraSPP] Points not in set, idxs [0, 3] ,  []\n",
      "[DijkstraSPP] Points not in regions\n",
      "-1\n",
      "[DijkstraSPP] optimized distance/ start-distance = 4.67 / 4.67 = 1.00\n",
      "4.66747836188082\n",
      "[DijkstraSPP] optimized distance/ start-distance = 5.68 / 10.20 = 0.56\n",
      "5.675237970688756\n",
      "[DijkstraSPP] optimized distance/ start-distance = 4.50 / 4.50 = 1.00\n",
      "4.495225394612662\n",
      "[DijkstraSPP] optimized distance/ start-distance = 5.12 / 6.46 = 0.79\n",
      "5.1225120860600395\n",
      "[DijkstraSPP] optimized distance/ start-distance = 3.46 / 3.46 = 1.00\n",
      "3.464338999908016\n",
      "[DijkstraSPP] optimized distance/ start-distance = 2.75 / 2.75 = 1.00\n",
      "2.7469371657539363\n",
      "[DijkstraSPP] Points not in set, idxs [3, 4] ,  []\n",
      "[DijkstraSPP] Points not in regions\n",
      "-1\n",
      "[DijkstraSPP] optimized distance/ start-distance = 4.56 / 4.56 = 1.00\n",
      "4.5607796988942\n",
      "[DijkstraSPP] Points not in set, idxs [0, 3] ,  []\n",
      "[DijkstraSPP] Points not in regions\n",
      "-1\n",
      "[DijkstraSPP] optimized distance/ start-distance = 3.35 / 3.35 = 1.00\n",
      "3.3453948466696968\n",
      "[DijkstraSPP] optimized distance/ start-distance = 2.20 / 2.20 = 1.00\n",
      "2.201363508460701\n",
      "[DijkstraSPP] optimized distance/ start-distance = 3.72 / 3.72 = 1.00\n",
      "3.7169920545317168\n",
      "[DijkstraSPP] optimized distance/ start-distance = 3.19 / 3.19 = 1.00\n",
      "3.194966626714448\n",
      "[DijkstraSPP] Points not in set, idxs [0, 3] ,  []\n",
      "[DijkstraSPP] Points not in regions\n",
      "-1\n",
      "[DijkstraSPP] Points not in set, idxs [0, 3] ,  []\n",
      "[DijkstraSPP] Points not in regions\n",
      "-1\n",
      "[DijkstraSPP] optimized distance/ start-distance = 5.16 / 7.17 = 0.72\n",
      "5.1581125315419065\n",
      "[DijkstraSPP] optimized distance/ start-distance = 5.81 / 10.02 = 0.58\n",
      "5.812323209919313\n",
      "[DijkstraSPP] optimized distance/ start-distance = 4.07 / 4.07 = 1.00\n",
      "4.07490893647205\n",
      "[DijkstraSPP] Points not in set, idxs [0, 3] ,  []\n",
      "[DijkstraSPP] Points not in regions\n",
      "-1\n",
      "[DijkstraSPP] Points not in set, idxs [0, 3] ,  []\n",
      "[DijkstraSPP] Points not in regions\n",
      "-1\n",
      "[DijkstraSPP] Points not in set, idxs [0, 3] ,  []\n",
      "[DijkstraSPP] Points not in regions\n",
      "-1\n",
      "[DijkstraSPP] Points not in set, idxs [0, 3] ,  []\n",
      "[DijkstraSPP] Points not in regions\n",
      "-1\n",
      "[DijkstraSPP] optimized distance/ start-distance = 3.54 / 3.54 = 1.00\n",
      "3.537389372859552\n",
      "[DijkstraSPP] optimized distance/ start-distance = 4.19 / 7.22 = 0.58\n",
      "4.193812126017239\n",
      "[DijkstraSPP] optimized distance/ start-distance = 3.24 / 7.59 = 0.43\n",
      "3.243680593485719\n",
      "[DijkstraSPP] optimized distance/ start-distance = 3.34 / 3.34 = 1.00\n",
      "3.340231613970912\n",
      "[DijkstraSPP] optimized distance/ start-distance = 2.74 / 2.74 = 1.00\n",
      "2.739989362627583\n",
      "[DijkstraSPP] optimized distance/ start-distance = 5.43 / 8.44 = 0.64\n",
      "5.43457120190159\n",
      "[DijkstraSPP] optimized distance/ start-distance = 2.56 / 2.56 = 1.00\n",
      "2.560760981571508\n",
      "[DijkstraSPP] optimized distance/ start-distance = 5.24 / 11.41 = 0.46\n",
      "5.23632260654187\n",
      "[DijkstraSPP] optimized distance/ start-distance = 3.03 / 3.03 = 1.00\n",
      "3.031596185012477\n",
      "[DijkstraSPP] optimized distance/ start-distance = 4.23 / 4.23 = 1.00\n",
      "4.234124568232566\n",
      "[DijkstraSPP] optimized distance/ start-distance = 4.04 / 4.04 = 1.00\n",
      "4.04076417634335\n",
      "[DijkstraSPP] Points not in set, idxs [0, 3] ,  []\n",
      "[DijkstraSPP] Points not in regions\n",
      "-1\n"
     ]
    }
   ],
   "source": [
    "import time\n",
    "centers = [r.ChebyshevCenter() for r in regions]\n",
    "start = centers[0]\n",
    "for _ in range(50):\n",
    "    #nxt = vs.sample_in_regions() #\n",
    "    while True:\n",
    "        nxt = sample_cfree_QPoint()#centers[np.random.choice(len(centers))]\n",
    "        plot_endeff_pose(nxt, str(0))\n",
    "        if nxt[0] != start[0]:\n",
    "            break\n",
    "    wp, dist = dspp.solve(start, nxt, refine_path=True)#dijkstra_spp(start, nxt, node_intersections, base_ad_mat, vs.regions, point_conversion, optimize= True)\n",
    "    print(dist)\n",
    "    if dist >0:\n",
    "        dense_waypoints = densify_waypoints(wp)\n",
    "        plot_endeff_traj(dense_waypoints)\n",
    "        for qa in dense_waypoints:\n",
    "            #qa = #Ratfk.ComputeQValue(ta, np.zeros(3))\n",
    "            showres(qa)\n",
    "            if col_func_handle(qa):\n",
    "                print('col')\n",
    "                break\n",
    "            time.sleep(0.002)\n",
    "        start = nxt\n",
    "        time.sleep(0.01)\n",
    "        ur.meshcat.Delete(\"/iris/points/traj/\")\n",
    "        \n",
    "    else:\n",
    "        nxt = centers[np.random.choice(len(centers))]"
   ]
  },
  {
   "cell_type": "code",
   "execution_count": 15,
   "metadata": {},
   "outputs": [],
   "source": [
    "plot_endeff_pose(centers[25],'0')\n",
    "plot_endeff_pose(centers[1],'1')\n",
    "\n",
    "\n"
   ]
  },
  {
   "cell_type": "code",
   "execution_count": 25,
   "metadata": {},
   "outputs": [],
   "source": [
    "showres(centers[25])"
   ]
  },
  {
   "cell_type": "code",
   "execution_count": 10,
   "metadata": {},
   "outputs": [],
   "source": [
    "# poi = []\n",
    "# poi.append(np.array([-0.32743, -0.92743,  0.47257,  0.07257, -0.02743]))\n",
    "# poi.append(np.array([-1.62743, -1.32743,  2.57257, -1.22743, -0.02743]))\n",
    "# poi.append(np.array([-1.62743, -2.02743,  1.67257,  0.37257, -0.02743]))\n",
    "# poi.append(np.array([-1.72743, -1.82743, -2.02743,  0.67257, -0.02743]))\n",
    "# poi.append(np.array([-1.72743, -1.92743,  1.07257, -2.32743, -0.02743]))\n",
    "# poi.append(np.array([-1.72743, -1.32743, -0.92743, -1.02743, -0.02743]))\n",
    "# poi.append(np.array([-1.52743, -2.42743,  0.87257, -1.62743, -0.02743]))\n",
    "# poi.append(np.array([-2.12743, -0.52743, -1.92743,  2.47257, -1.02743]))"
   ]
  },
  {
   "cell_type": "code",
   "execution_count": 35,
   "metadata": {},
   "outputs": [
    {
     "name": "stdout",
     "output_type": "stream",
     "text": [
      "[DijkstraSPP] optimized distance/ start-distance = 5.73 / 8.28 = 0.69\n"
     ]
    },
    {
     "data": {
      "text/plain": [
       "([array([ 2.7558658 , -0.80848381,  0.38950312,  2.25436946,  1.38754319]),\n",
       "  array([ 2.75398444, -0.91686666,  0.59956416,  2.18697959,  1.37426211]),\n",
       "  array([ 2.75019843, -1.10857771,  0.93493879,  1.9522034 ,  1.18961017]),\n",
       "  array([ 2.7134379 , -1.28521756, -1.92986662,  2.67303004, -2.5139722 ]),\n",
       "  array([ 2.71147619, -1.29464271, -2.08265237,  2.71147619, -2.71147619])],\n",
       " 5.728172158276497)"
      ]
     },
     "execution_count": 35,
     "metadata": {},
     "output_type": "execute_result"
    }
   ],
   "source": [
    "dspp.solve(centers[25], centers[24], refine_path=True)"
   ]
  },
  {
   "cell_type": "code",
   "execution_count": 12,
   "metadata": {},
   "outputs": [],
   "source": [
    "snopt_iris_options = IrisOptions()\n",
    "snopt_iris_options.require_sample_point_is_contained = True\n",
    "snopt_iris_options.iteration_limit = 8\n",
    "snopt_iris_options.configuration_space_margin = 1.5e-3\n",
    "#snopt_iris_options.max_faces_per_collision_pair = 60\n",
    "snopt_iris_options.termination_threshold = -1\n",
    "#snopt_iris_options.q_star = np.zeros(3)\n",
    "snopt_iris_options.num_collision_infeasible_samples = 15\n",
    "snopt_iris_options.relative_termination_threshold = 0.02\n",
    "\n",
    "def SNOPT_IRIS(q_seeds,  region_obstacles, logger, plant, context, snoptiris_options):\n",
    "\tregions = []\n",
    "\tfor reg_indx, q_seed in enumerate(q_seeds):\n",
    "\t\t#q_seed = Ratforwardkin.ComputeQValue(s_seed.reshape(-1,1), np.zeros((7,1)))\n",
    "\t\t#print('snopt iris call')\n",
    "\t\tsnoptiris_options.configuration_obstacles = []\n",
    "\t\tif len(region_obstacles):\n",
    "\t\t\tsnoptiris_options.configuration_obstacles = region_obstacles\n",
    "\t\tplant.SetPositions(plant.GetMyMutableContextFromRoot(context), q_seed.reshape(-1,1))\n",
    "\t\ttry:\n",
    "\t\t\t#r = IrisInRationalConfigurationSpace(plant, plant.GetMyContextFromRoot(context), q_star, snoptiris_options)\n",
    "\t\t\tr = IrisInConfigurationSpace(plant, plant_context, snoptiris_options)\n",
    "\t\t\tr_red = r.ReduceInequalities()\n",
    "\t\t\tprint(f\"[SNOPT IRIS]: Region:{reg_indx} / {len(q_seeds)}\")\n",
    "\t\t\t#run the certifier\n",
    "\t\t\t# cert = cspace_free_polytope.BinarySearch(set(),\n",
    "\t\t\t# \t\t\t\t\t\t\t\tr.A(),\n",
    "\t\t\t# \t\t\t\t\t\t\t\tr.b(), \n",
    "\t\t\t# \t\t\t\t\t\t\t\tnp.array(s_seed),\n",
    "\t\t\t# \t\t\t\t\t\t\t\tbinary_search_options)\n",
    "\t\t\tif logger is not None: logger.log_region(r_red)\n",
    "\t\t\t# r = cert.certified_polytope\n",
    "\t\t\tregions.append(r_red)\n",
    "\t\texcept:\n",
    "\t\t\tprint(\"error, SNOPT IRIS FAILED\")\n",
    "\treturn regions\n",
    "\n",
    "SNOPT_IRIS_Handle = partial(SNOPT_IRIS,\n",
    "                            plant = ur.plant,\n",
    "                            context = diagram_context,\n",
    "                            snoptiris_options = snopt_iris_options,\n",
    "\t\t\t    \t\t\t#binary_search_options = binary_search_options,\n",
    "                            #Ratforwardkin = Ratfk,\n",
    "                            )"
   ]
  },
  {
   "cell_type": "code",
   "execution_count": 13,
   "metadata": {},
   "outputs": [],
   "source": [
    "#setup visibility seeding helpers\n",
    "from visibility_utils import point_in_regions\n",
    "from tqdm import tqdm\n",
    "from scipy.sparse import lil_matrix\n",
    "\n",
    "scaler = 1 #np.array([0.8, 1., 0.8, 1, 0.8, 1, 0.8]) #do you even geometry bro?\n",
    "q_min = np.array(q_low)*scaler\n",
    "q_max = np.array(q_high)*scaler\n",
    "q_diff = q_max-q_min\n",
    "\n",
    "alpha = 0.05\n",
    "eps = 0.25\n",
    "N = 1000\n",
    "seed = 1\n",
    "np.random.seed(seed)\n",
    "\n",
    "def estimate_coverage(regions, pts = 3000):\n",
    "\tpts_ = [sample_cfree_QPoint() for _ in range(pts)]\n",
    "\tinreg = 0\n",
    "\tfor pt in pts_:\n",
    "\t\tif point_in_regions(pt, regions): inreg+=1\n",
    "\treturn inreg/pts\n",
    "\n",
    "def sample_cfree_QPoint(MAXIT=1000):\n",
    "\tit = 0\n",
    "\twhile it<MAXIT:\n",
    "\t\trand = np.random.rand(5)\n",
    "\t\tq_s = q_min + rand*q_diff\n",
    "\t\tcol = False\n",
    "\t\tfor _ in range(10):\n",
    "\t\t\tr  = 0.05*(np.random.rand(5)-0.5)\n",
    "\t\t\tcol |= (col_func_handle(q_s+r) > 0)\n",
    "\t\tif not col:\n",
    "\t\t\treturn q_s #Ratfk.ComputeQValue(q_s, q_star)\n",
    "\t\tit+=1\n",
    "\traise ValueError(\"no col free point found\")\n",
    "\n",
    "def sample_cfree_QPoint_in_regions(regions):\n",
    "\tfor _ in range(1000):\n",
    "\t\tpt = sample_cfree_QPoint()\n",
    "\t\tif point_in_regions(pt, regions): return pt\n",
    "\treturn None\n",
    "\n",
    "def sample_cfree_handle(n, m, regions=None):\n",
    "\t\tpoints = np.zeros((n,5))\n",
    "\t\tif regions is None: regions = []\t\t\n",
    "\t\tfor i in range(n):\n",
    "\t\t\tbt_tries = 0\n",
    "\t\t\twhile bt_tries<m:\n",
    "\t\t\t\tpoint = sample_cfree_QPoint()\n",
    "\t\t\t\tcol = False\n",
    "\t\t\t\tfor _ in range(10):\n",
    "\t\t\t\t\tr  = 0.05*(np.random.rand(5)-0.5)\n",
    "\t\t\t\t\tcol |= point_in_regions(point+r, regions)\n",
    "\t\t\t\tif col:\n",
    "\t\t\t\t\tbt_tries += 1\n",
    "\t\t\t\t\tif bt_tries == m:\n",
    "\t\t\t\t\t\treturn points, True \n",
    "\t\t\t\telse:\n",
    "\t\t\t\t\tbreak\n",
    "\t\t\tpoints[i] = point\n",
    "\t\treturn points, False\n",
    "\n",
    "# def visSSpace(t1, t2, regions, num_checks, visualizer):\n",
    "# \tt1flat = t1.reshape(-1)\n",
    "# \tt2flat = t2.reshape(-1)\n",
    "# \tif np.linalg.norm(t1-t2) < 1e-6:\n",
    "# \t\treturn (1-col_func_handle(Ratfk.ComputeQValue(t1flat, q_star)))>0\n",
    "\t\t\t\t\n",
    "# \ttvec = np.linspace(0,1, num_checks)\n",
    "# \tfor t in tvec:\n",
    "# \t\ttinterp = t1flat*t + (1-t)*t2flat\n",
    "# \t\tif col_func_handle(Ratfk.ComputeQValue(tinterp, q_star)):\n",
    "# \t\t\treturn False\n",
    "# \t\telif point_in_regions(tinterp, regions):\n",
    "# \t\t\treturn False\n",
    "# \telse:\n",
    "# \t\treturn True\n",
    "\n",
    "def vis(q1, q2, regions, num_checks):\n",
    "\tq1flat = q1.reshape(-1)\n",
    "\tq2flat = q2.reshape(-1)\n",
    "\tif np.linalg.norm(q1-q2) < 1e-6:\n",
    "\t\treturn (1-col_func_handle(q1))>0\n",
    "\t\t\t\t\n",
    "\ttvec = np.linspace(0,1, num_checks)\n",
    "\tfor t in tvec:\n",
    "\t\tqinterp = q1flat*t + (1-t)*q2flat\n",
    "\t\tif col_func_handle(qinterp):\n",
    "\t\t\treturn False\n",
    "\t\telif point_in_regions(qinterp, regions):\n",
    "\t\t\treturn False\n",
    "\telse:\n",
    "\t\treturn True\n",
    "    \n",
    "visibility_checker = partial(vis, num_checks = 80)\n",
    "\n",
    "def vgraph_builder(points, regions):\n",
    "\tn = len(points)\n",
    "\tadj_mat = lil_matrix((n,n))\n",
    "\tfor i in tqdm(range(n)):\n",
    "\t\tpoint = points[i, :]\n",
    "\t\tfor j in range(len(points[:i])):\n",
    "\t\t\tother = points[j]\n",
    "\t\t\tresult = visibility_checker(point, other, regions)\n",
    "\t\t\t#print(result)\n",
    "\t\t\tif result:\n",
    "\t\t\t\tadj_mat[i,j] = adj_mat[j,i] = 1\n",
    "\treturn adj_mat"
   ]
  },
  {
   "cell_type": "code",
   "execution_count": 14,
   "metadata": {},
   "outputs": [
    {
     "name": "stdout",
     "output_type": "stream",
     "text": [
      "[21:21:10] [DoubleGreedy] Point insertion attempts M: 298\n",
      "[21:21:10] [DoubleGreedy] 0.95 probability that unseen region is less than 1.0 \"%\" of Cfree \n"
     ]
    }
   ],
   "source": [
    "from doublegreedyhiddenset import HiddensetDoubleGreedy\n",
    "\n",
    "dg = HiddensetDoubleGreedy(\n",
    "    alpha=alpha,\n",
    "    eps = 0.01,\n",
    "    max_samples = 100000,\n",
    "    sample_node_handle=sample_cfree_handle,\n",
    "    los_handle=visibility_checker,\n",
    "    verbose=True\n",
    ")"
   ]
  },
  {
   "cell_type": "code",
   "execution_count": 15,
   "metadata": {},
   "outputs": [
    {
     "name": "stdout",
     "output_type": "stream",
     "text": [
      "[21:21:12] [DoubleGreedy] New hidden point placed N =  0 it =  0\n",
      "[21:21:12] [DoubleGreedy] New hidden point placed N =  1 it =  3\n",
      "[21:21:13] [DoubleGreedy] New hidden point placed N =  2 it =  81\n",
      "[21:21:14] [DoubleGreedy] New hidden point placed N =  3 it =  112\n",
      "[21:21:15] [DoubleGreedy] New hidden point placed N =  4 it =  118\n",
      "[21:21:19] [DoubleGreedy] Sample set size 607\n"
     ]
    },
    {
     "data": {
      "text/plain": [
       "[array([[-2.5256753 ,  0.41912518, -1.99770284,  0.50501091,  1.12960691]]),\n",
       " array([[-2.08007974, -1.65996319, -2.39659582,  0.04479616, -1.34840552]]),\n",
       " array([[-2.81117992,  0.39651947, -2.13662351,  2.28737286, -1.83243351]]),\n",
       " array([[-0.28439241,  2.71893411,  1.24373364,  0.07368333,  2.35293506]]),\n",
       " array([[ 0.17271196, -0.54277826,  2.57226623,  2.25752134, -0.1432099 ]])]"
      ]
     },
     "execution_count": 15,
     "metadata": {},
     "output_type": "execute_result"
    }
   ],
   "source": [
    "dg.construct_independent_set([])\n"
   ]
  },
  {
   "cell_type": "code",
   "execution_count": 16,
   "metadata": {},
   "outputs": [
    {
     "name": "stdout",
     "output_type": "stream",
     "text": [
      "[21:21:20] [DoubleGreedy] Hidden point found to split into 2\n"
     ]
    },
    {
     "ename": "TypeError",
     "evalue": "CheckSatisfied(): incompatible function arguments. The following argument types are supported:\n    1. (self: pydrake.solvers.Constraint, x: numpy.ndarray[numpy.float64[m, 1]], tol: float = 1e-06) -> bool\n    2. (self: pydrake.solvers.Constraint, x: numpy.ndarray[object[m, 1]], tol: float = 1e-06) -> bool\n    3. (self: pydrake.solvers.Constraint, x: numpy.ndarray[object[m, 1]]) -> pydrake.symbolic.Formula\n\nInvoked with: <pydrake.multibody.inverse_kinematics.MinimumDistanceConstraint object at 0x7fafe7e0b530>, array([[-1.14594289,  2.7761749 ,  0.84579928, -0.38859878, -2.17381076]]), 0.01",
     "output_type": "error",
     "traceback": [
      "\u001b[0;31m---------------------------------------------------------------------------\u001b[0m",
      "\u001b[0;31mTypeError\u001b[0m                                 Traceback (most recent call last)",
      "\u001b[0;32m<ipython-input-16-6c3565c4eb90>\u001b[0m in \u001b[0;36m<module>\u001b[0;34m\u001b[0m\n\u001b[0;32m----> 1\u001b[0;31m \u001b[0mdg\u001b[0m\u001b[0;34m.\u001b[0m\u001b[0mrefine_independent_set_greedy\u001b[0m\u001b[0;34m(\u001b[0m\u001b[0;34m[\u001b[0m\u001b[0;34m]\u001b[0m\u001b[0;34m)\u001b[0m\u001b[0;34m\u001b[0m\u001b[0;34m\u001b[0m\u001b[0m\n\u001b[0m",
      "\u001b[0;32m~/git/drake_visiris_build/drake/C_Iris_Examples/doublegreedyhiddenset.py\u001b[0m in \u001b[0;36mrefine_independent_set_greedy\u001b[0;34m(self, regions)\u001b[0m\n\u001b[1;32m    103\u001b[0m                                         \u001b[0mp_sample\u001b[0m \u001b[0;34m=\u001b[0m \u001b[0mself\u001b[0m\u001b[0;34m.\u001b[0m\u001b[0msample_set\u001b[0m\u001b[0;34m[\u001b[0m\u001b[0ms_key\u001b[0m\u001b[0;34m]\u001b[0m\u001b[0;34m[\u001b[0m\u001b[0;36m0\u001b[0m\u001b[0;34m]\u001b[0m\u001b[0;34m\u001b[0m\u001b[0;34m\u001b[0m\u001b[0m\n\u001b[1;32m    104\u001b[0m                                         \u001b[0;32mfor\u001b[0m \u001b[0midnr\u001b[0m\u001b[0;34m,\u001b[0m \u001b[0mp_split\u001b[0m \u001b[0;32min\u001b[0m \u001b[0menumerate\u001b[0m\u001b[0;34m(\u001b[0m\u001b[0mbest_split\u001b[0m\u001b[0;34m)\u001b[0m\u001b[0;34m:\u001b[0m\u001b[0;34m\u001b[0m\u001b[0;34m\u001b[0m\u001b[0m\n\u001b[0;32m--> 105\u001b[0;31m                                                 \u001b[0;32mif\u001b[0m \u001b[0mself\u001b[0m\u001b[0;34m.\u001b[0m\u001b[0mis_los\u001b[0m\u001b[0;34m(\u001b[0m\u001b[0mp_split\u001b[0m\u001b[0;34m,\u001b[0m \u001b[0mp_sample\u001b[0m\u001b[0;34m,\u001b[0m \u001b[0mregions\u001b[0m\u001b[0;34m)\u001b[0m\u001b[0;34m:\u001b[0m\u001b[0;34m\u001b[0m\u001b[0;34m\u001b[0m\u001b[0m\n\u001b[0m\u001b[1;32m    106\u001b[0m                                                         \u001b[0mvis_points\u001b[0m\u001b[0;34m.\u001b[0m\u001b[0mappend\u001b[0m\u001b[0;34m(\u001b[0m\u001b[0mp_split\u001b[0m\u001b[0;34m)\u001b[0m\u001b[0;34m\u001b[0m\u001b[0;34m\u001b[0m\u001b[0m\n\u001b[1;32m    107\u001b[0m                                 \u001b[0;31m#remove old hidden point from hidden set\u001b[0m\u001b[0;34m\u001b[0m\u001b[0;34m\u001b[0m\u001b[0;34m\u001b[0m\u001b[0m\n",
      "\u001b[0;32m<ipython-input-13-8b17ac28521e>\u001b[0m in \u001b[0;36mvis\u001b[0;34m(q1, q2, regions, num_checks)\u001b[0m\n\u001b[1;32m     82\u001b[0m         \u001b[0mq2flat\u001b[0m \u001b[0;34m=\u001b[0m \u001b[0mq2\u001b[0m\u001b[0;34m.\u001b[0m\u001b[0mreshape\u001b[0m\u001b[0;34m(\u001b[0m\u001b[0;34m-\u001b[0m\u001b[0;36m1\u001b[0m\u001b[0;34m)\u001b[0m\u001b[0;34m\u001b[0m\u001b[0;34m\u001b[0m\u001b[0m\n\u001b[1;32m     83\u001b[0m         \u001b[0;32mif\u001b[0m \u001b[0mnp\u001b[0m\u001b[0;34m.\u001b[0m\u001b[0mlinalg\u001b[0m\u001b[0;34m.\u001b[0m\u001b[0mnorm\u001b[0m\u001b[0;34m(\u001b[0m\u001b[0mq1\u001b[0m\u001b[0;34m-\u001b[0m\u001b[0mq2\u001b[0m\u001b[0;34m)\u001b[0m \u001b[0;34m<\u001b[0m \u001b[0;36m1e-6\u001b[0m\u001b[0;34m:\u001b[0m\u001b[0;34m\u001b[0m\u001b[0;34m\u001b[0m\u001b[0m\n\u001b[0;32m---> 84\u001b[0;31m                 \u001b[0;32mreturn\u001b[0m \u001b[0;34m(\u001b[0m\u001b[0;36m1\u001b[0m\u001b[0;34m-\u001b[0m\u001b[0mcol_func_handle\u001b[0m\u001b[0;34m(\u001b[0m\u001b[0mq1\u001b[0m\u001b[0;34m)\u001b[0m\u001b[0;34m)\u001b[0m\u001b[0;34m>\u001b[0m\u001b[0;36m0\u001b[0m\u001b[0;34m\u001b[0m\u001b[0;34m\u001b[0m\u001b[0m\n\u001b[0m\u001b[1;32m     85\u001b[0m \u001b[0;34m\u001b[0m\u001b[0m\n\u001b[1;32m     86\u001b[0m         \u001b[0mtvec\u001b[0m \u001b[0;34m=\u001b[0m \u001b[0mnp\u001b[0m\u001b[0;34m.\u001b[0m\u001b[0mlinspace\u001b[0m\u001b[0;34m(\u001b[0m\u001b[0;36m0\u001b[0m\u001b[0;34m,\u001b[0m\u001b[0;36m1\u001b[0m\u001b[0;34m,\u001b[0m \u001b[0mnum_checks\u001b[0m\u001b[0;34m)\u001b[0m\u001b[0;34m\u001b[0m\u001b[0;34m\u001b[0m\u001b[0m\n",
      "\u001b[0;32m<ipython-input-6-ba2aecd23365>\u001b[0m in \u001b[0;36meval_cons\u001b[0;34m(q, c, tol)\u001b[0m\n\u001b[1;32m      9\u001b[0m \u001b[0mcollision_constraint\u001b[0m \u001b[0;34m=\u001b[0m \u001b[0mik\u001b[0m\u001b[0;34m.\u001b[0m\u001b[0mAddMinimumDistanceConstraint\u001b[0m\u001b[0;34m(\u001b[0m\u001b[0;36m0.001\u001b[0m\u001b[0;34m,\u001b[0m \u001b[0;36m0.001\u001b[0m\u001b[0;34m)\u001b[0m\u001b[0;34m\u001b[0m\u001b[0;34m\u001b[0m\u001b[0m\n\u001b[1;32m     10\u001b[0m \u001b[0;32mdef\u001b[0m \u001b[0meval_cons\u001b[0m\u001b[0;34m(\u001b[0m\u001b[0mq\u001b[0m\u001b[0;34m,\u001b[0m \u001b[0mc\u001b[0m\u001b[0;34m,\u001b[0m \u001b[0mtol\u001b[0m\u001b[0;34m)\u001b[0m\u001b[0;34m:\u001b[0m\u001b[0;34m\u001b[0m\u001b[0;34m\u001b[0m\u001b[0m\n\u001b[0;32m---> 11\u001b[0;31m     \u001b[0;32mreturn\u001b[0m \u001b[0;36m1\u001b[0m\u001b[0;34m-\u001b[0m\u001b[0;36m1\u001b[0m\u001b[0;34m*\u001b[0m\u001b[0mfloat\u001b[0m\u001b[0;34m(\u001b[0m\u001b[0mc\u001b[0m\u001b[0;34m.\u001b[0m\u001b[0mevaluator\u001b[0m\u001b[0;34m(\u001b[0m\u001b[0;34m)\u001b[0m\u001b[0;34m.\u001b[0m\u001b[0mCheckSatisfied\u001b[0m\u001b[0;34m(\u001b[0m\u001b[0mq\u001b[0m\u001b[0;34m,\u001b[0m \u001b[0mtol\u001b[0m\u001b[0;34m)\u001b[0m\u001b[0;34m)\u001b[0m\u001b[0;34m\u001b[0m\u001b[0;34m\u001b[0m\u001b[0m\n\u001b[0m\u001b[1;32m     12\u001b[0m \u001b[0;34m\u001b[0m\u001b[0m\n\u001b[1;32m     13\u001b[0m \u001b[0mcol_func_handle\u001b[0m \u001b[0;34m=\u001b[0m \u001b[0mpartial\u001b[0m\u001b[0;34m(\u001b[0m\u001b[0meval_cons\u001b[0m\u001b[0;34m,\u001b[0m \u001b[0mc\u001b[0m\u001b[0;34m=\u001b[0m\u001b[0mcollision_constraint\u001b[0m\u001b[0;34m,\u001b[0m \u001b[0mtol\u001b[0m\u001b[0;34m=\u001b[0m\u001b[0;36m0.01\u001b[0m\u001b[0;34m)\u001b[0m\u001b[0;34m\u001b[0m\u001b[0;34m\u001b[0m\u001b[0m\n",
      "\u001b[0;31mTypeError\u001b[0m: CheckSatisfied(): incompatible function arguments. The following argument types are supported:\n    1. (self: pydrake.solvers.Constraint, x: numpy.ndarray[numpy.float64[m, 1]], tol: float = 1e-06) -> bool\n    2. (self: pydrake.solvers.Constraint, x: numpy.ndarray[object[m, 1]], tol: float = 1e-06) -> bool\n    3. (self: pydrake.solvers.Constraint, x: numpy.ndarray[object[m, 1]]) -> pydrake.symbolic.Formula\n\nInvoked with: <pydrake.multibody.inverse_kinematics.MinimumDistanceConstraint object at 0x7fafe7e0b530>, array([[-1.14594289,  2.7761749 ,  0.84579928, -0.38859878, -2.17381076]]), 0.01"
     ]
    }
   ],
   "source": [
    "dg.refine_independent_set_greedy([])"
   ]
  },
  {
   "cell_type": "code",
   "execution_count": 11,
   "metadata": {},
   "outputs": [],
   "source": [
    "from visibility_seeding import VisSeeder\n",
    "from visibility_logging import Logger\n",
    "import os\n",
    "LOAD_CHKPT = True\n",
    "\n",
    "if not LOAD_CHKPT:\n",
    "    logger = Logger(\"5DOf_ur\", seed, N, alpha, eps, estimate_coverage)\n",
    "    VS = VisSeeder(N = N,\n",
    "                alpha = alpha,\n",
    "                eps = eps,\n",
    "                max_iterations = 10,\n",
    "                sample_cfree = sample_cfree_handle,\n",
    "                build_vgraph = vgraph_builder,\n",
    "                iris_w_obstacles = SNOPT_IRIS_Handle,\n",
    "                verbose = True,\n",
    "                logger = logger\n",
    "                )\n",
    "    out = VS.run()\n",
    "else:\n",
    "    pass\n",
    "    #exp_name = \"7DOf_shelves_20230617114513_1_1000_0.050_0.200\"\n",
    "    #poly_names = os.listdir(\"logs/\"+exp_name+\"/regions\")"
   ]
  },
  {
   "cell_type": "code",
   "execution_count": 12,
   "metadata": {},
   "outputs": [],
   "source": [
    "# r_poi = SNOPT_IRIS_Handle(poi, [], None)\n",
    "# import pickle\n",
    "# with open('r_poi_UR5_19.pkl', 'wb') as f:\n",
    "#     d = {'ra': [r.A() for r in r_poi], 'rb': [r.b() for r in r_poi]}\n",
    "#     pickle.dump(d, f)"
   ]
  },
  {
   "cell_type": "code",
   "execution_count": 12,
   "metadata": {},
   "outputs": [
    {
     "ename": "NameError",
     "evalue": "name 'VS' is not defined",
     "output_type": "error",
     "traceback": [
      "\u001b[0;31m---------------------------------------------------------------------------\u001b[0m",
      "\u001b[0;31mNameError\u001b[0m                                 Traceback (most recent call last)",
      "\u001b[0;32m<ipython-input-12-6748039c9094>\u001b[0m in \u001b[0;36m<module>\u001b[0;34m\u001b[0m\n\u001b[1;32m      1\u001b[0m \u001b[0;32mfor\u001b[0m \u001b[0mp\u001b[0m \u001b[0;32min\u001b[0m \u001b[0mpoi\u001b[0m\u001b[0;34m:\u001b[0m\u001b[0;34m\u001b[0m\u001b[0;34m\u001b[0m\u001b[0m\n\u001b[0;32m----> 2\u001b[0;31m     \u001b[0mprint\u001b[0m\u001b[0;34m(\u001b[0m\u001b[0mpoint_in_regions\u001b[0m\u001b[0;34m(\u001b[0m\u001b[0mp\u001b[0m\u001b[0;34m,\u001b[0m \u001b[0mVS\u001b[0m\u001b[0;34m.\u001b[0m\u001b[0mregions\u001b[0m\u001b[0;34m)\u001b[0m\u001b[0;34m)\u001b[0m\u001b[0;34m\u001b[0m\u001b[0;34m\u001b[0m\u001b[0m\n\u001b[0m",
      "\u001b[0;31mNameError\u001b[0m: name 'VS' is not defined"
     ]
    }
   ],
   "source": [
    "for p in poi:\n",
    "    print(point_in_regions(p, VS.regions))"
   ]
  },
  {
   "cell_type": "code",
   "execution_count": 12,
   "metadata": {},
   "outputs": [
    {
     "name": "stdout",
     "output_type": "stream",
     "text": [
      "[SNOPT IRIS]: Region:0 / 8\n",
      "[SNOPT IRIS]: Region:1 / 8\n",
      "[SNOPT IRIS]: Region:2 / 8\n",
      "[SNOPT IRIS]: Region:3 / 8\n",
      "[SNOPT IRIS]: Region:4 / 8\n",
      "[SNOPT IRIS]: Region:5 / 8\n",
      "[SNOPT IRIS]: Region:6 / 8\n",
      "[SNOPT IRIS]: Region:7 / 8\n"
     ]
    }
   ],
   "source": [
    "# r_poi = SNOPT_IRIS_Handle(poi, [], None) "
   ]
  },
  {
   "cell_type": "code",
   "execution_count": 13,
   "metadata": {},
   "outputs": [],
   "source": [
    "import pickle\n",
    "with open('r_poi_UR5.pkl', 'wb') as f:\n",
    "    d = {'ra': [r.A() for r in r_poi], 'rb': [r.b() for r in r_poi]}\n",
    "    pickle.dump(d, f)"
   ]
  },
  {
   "cell_type": "code",
   "execution_count": 10,
   "metadata": {},
   "outputs": [],
   "source": [
    "import pickle\n",
    "with open('r_poi_UR5.pkl', 'rb') as f:\n",
    "   data = pickle.load(f)\n",
    "\n",
    "r_poi = []\n",
    "for a,b in zip(data['ra'], data['rb']):\n",
    "   r_poi.append(HPolyhedron(a,b))"
   ]
  },
  {
   "cell_type": "code",
   "execution_count": 13,
   "metadata": {},
   "outputs": [
    {
     "data": {
      "image/png": "[encoded data removed]",
      "text/plain": [
       "<Figure size 720x720 with 1 Axes>"
      ]
     },
     "metadata": {},
     "output_type": "display_data"
    }
   ],
   "source": [
    "import pickle\n",
    "import networkx as nx\n",
    "from visibility_utils import generate_distinct_colors\n",
    "import matplotlib.pyplot as plt\n",
    "import os\n",
    "exp_name = \"5DOf_ur_20230628191053_5_1000_0.050_0.250\"\n",
    "poly_names = os.listdir(\"logs/\"+exp_name+\"/regions\")\n",
    "data_chkpts = os.listdir(\"logs/\"+exp_name+\"/data\")\n",
    "poly_names.sort()\n",
    "data_chkpts.sort()\n",
    "regions = []\n",
    "for p in poly_names:\n",
    "    with open(\"logs/\"+exp_name+\"/regions/\"+p, 'rb') as f:\n",
    "        d = pickle.load(f)\n",
    "    regions.append(HPolyhedron(d['ra'], d['rb']))\n",
    "\n",
    "with open(\"logs/\"+exp_name+\"/data/\"+data_chkpts[-1], 'rb') as f:\n",
    "    d = pickle.load(f)\n",
    "\n",
    "r_poi = []\n",
    "with open(\"r_poi_UR5_19.pkl\", 'rb') as f:\n",
    "    drpoi = pickle.load(f)\n",
    "    for A,b in zip(drpoi['ra'], drpoi['rb']):\n",
    "        r_poi.append(HPolyhedron(A,b))\n",
    "\n",
    "region_groups_sizes = [len(g) for g in d['rb']]\n",
    "len_reg = np.sum(region_groups_sizes) \n",
    "region_groups_sizes.append(len(regions)-len_reg)\n",
    "region_groups = []\n",
    "idx = 0\n",
    "for s in region_groups_sizes:\n",
    "    grp = []\n",
    "    for i in range(s):\n",
    "        grp.append(regions[i+idx])\n",
    "    idx+=len(grp)\n",
    "    region_groups.append(grp)\n",
    "\n",
    "regions+=r_poi\n",
    "region_groups.append(r_poi)\n",
    "connectivity_graph = nx.Graph()\n",
    "for idx in range(len(regions)):\n",
    "    connectivity_graph.add_node(idx)\n",
    "    \n",
    "for idx1 in range(len(regions)):\n",
    "    for idx2 in range(idx1 +1, len(regions)):\n",
    "        r1 = regions[idx1]\n",
    "        r2 = regions[idx2]\n",
    "        if r1.IntersectsWith(r2):\n",
    "            connectivity_graph.add_edge(idx1,idx2)\n",
    "\n",
    "fig = plt.figure(figsize=(10,10))\n",
    "hues = generate_distinct_colors(len(region_groups)+1)[1:]\n",
    "colors = []\n",
    "for g, h in zip(region_groups, hues):\n",
    "    colors += [h]*len(g)\n",
    "\n",
    "nx.draw_spring(connectivity_graph, \n",
    "                with_labels = True, \n",
    "                node_color = colors)\n",
    "plt.show()"
   ]
  },
  {
   "cell_type": "code",
   "execution_count": null,
   "metadata": {},
   "outputs": [
    {
     "name": "stdout",
     "output_type": "stream",
     "text": [
      "False\n",
      "True\n",
      "False\n",
      "False\n",
      "False\n",
      "False\n",
      "False\n",
      "False\n"
     ]
    }
   ],
   "source": [
    "for p in poi:\n",
    "    print(point_in_regions(p, regions))"
   ]
  },
  {
   "cell_type": "code",
   "execution_count": 12,
   "metadata": {},
   "outputs": [
    {
     "name": "stdout",
     "output_type": "stream",
     "text": [
      "{'ur_wrist_2_link': <GeometryId value=66>, 'ur_wrist_3_link': <GeometryId value=70>, 'body': <GeometryId value=79>, 'left_finger': <GeometryId value=85>, 'right_finger': <GeometryId value=91>}\n"
     ]
    }
   ],
   "source": [
    "#from pydrake.all import Box, GetVertices\n",
    "query = ur.scene_graph.get_query_output_port().Eval(ur.scene_graph.GetMyContextFromRoot(diagram_context))\n",
    "inspector = query.inspector()\n",
    "a = inspector.GetCollisionCandidates()\n",
    "geomids= []\n",
    "for b, c in a:\n",
    "    geomids.append(b)\n",
    "    geomids.append(c)\n",
    "ids = list(set(inspector.GetAllGeometryIds()))\n",
    "frame_id_dict = {}\n",
    "for idx in range(len(ids)):\n",
    "    #print(idx, plant.GetBodyFromFrameId(inspector.GetFrameId(ids[idx])))\n",
    "    if ur.plant.GetBodyFromFrameId(inspector.GetFrameId(ids[idx])).name() =='body':\n",
    "        frame_id_dict['body'] = ids[idx]\n",
    "    if ur.plant.GetBodyFromFrameId(inspector.GetFrameId(ids[idx])).name() =='left_finger':\n",
    "        frame_id_dict['left_finger'] = ids[idx]\n",
    "    if ur.plant.GetBodyFromFrameId(inspector.GetFrameId(ids[idx])).name() =='right_finger':\n",
    "        frame_id_dict['right_finger'] = ids[idx]\n",
    "    if ur.plant.GetBodyFromFrameId(inspector.GetFrameId(ids[idx])).name() =='ur_wrist_3_link':\n",
    "        frame_id_dict['ur_wrist_3_link'] = ids[idx]\n",
    "    if ur.plant.GetBodyFromFrameId(inspector.GetFrameId(ids[idx])).name() =='ur_wrist_2_link':\n",
    "        frame_id_dict['ur_wrist_2_link'] = ids[idx]\n",
    "\n",
    "print(frame_id_dict)\n",
    "geom_ids = [inspector.GetGeometries(inspector.GetFrameId(frame_id_dict[k]))[0] for k in ['ur_wrist_2_link','ur_wrist_3_link','body', 'left_finger', 'right_finger']]\n",
    "\n",
    "sh_frames = [6,7, 11,12,13]\n",
    "sh_geom = [inspector.GetShape(id) for id in geom_ids] \n",
    "sh_names = ['ur_wrist_2_link','ur_wrist_3_link', 'box', 'l','r']\n",
    "\n",
    "def plot_endeff_pose(q2, name = '', color = Rgba(1,1,0.1,0.8)):\n",
    "    ur.plant.SetPositions(plant_context, q2)\n",
    "    tfs = [ur.plant.EvalBodyPoseInWorld(plant_context, ur.plant.get_body(pydrake.multibody.tree.BodyIndex(fr))) for fr in sh_frames]\n",
    "    for n, f, geom in zip(sh_names, tfs, sh_geom):\n",
    "        #print(n,f,geom)\n",
    "        ur.meshcat.SetObject(\"/iris/shunk/\"+name+\"/\"+n,\n",
    "                                geom,\n",
    "                                color)\n",
    "        ur.meshcat.SetTransform(\"/iris/shunk/\"+name+\"/\"+n, f)\n",
    "# for i,p in enumerate(poi):\n",
    "#     plot_endeff_pose(p, str(i))"
   ]
  },
  {
   "cell_type": "code",
   "execution_count": 80,
   "metadata": {},
   "outputs": [
    {
     "name": "stdout",
     "output_type": "stream",
     "text": [
      "<FrameId value=155> ur_base_link\n",
      "<FrameId value=155> ur_base_link\n",
      "<FrameId value=162> ur_shoulder_link\n",
      "<FrameId value=162> ur_shoulder_link\n",
      "<FrameId value=169> ur_upper_arm_link\n",
      "<FrameId value=169> ur_upper_arm_link\n",
      "<FrameId value=169> ur_upper_arm_link\n",
      "<FrameId value=169> ur_upper_arm_link\n",
      "<FrameId value=182> ur_forearm_link\n",
      "<FrameId value=182> ur_forearm_link\n",
      "<FrameId value=182> ur_forearm_link\n",
      "<FrameId value=192> ur_wrist_1_link\n",
      "<FrameId value=192> ur_wrist_1_link\n",
      "<FrameId value=199> ur_wrist_2_link\n",
      "<FrameId value=199> ur_wrist_2_link\n",
      "<FrameId value=206> ur_wrist_3_link\n",
      "<FrameId value=213> body\n",
      "<FrameId value=213> body\n",
      "<FrameId value=219> left_finger\n",
      "<FrameId value=219> left_finger\n",
      "<FrameId value=225> right_finger\n",
      "<FrameId value=225> right_finger\n",
      "<FrameId value=9> world\n",
      "<FrameId value=9> world\n"
     ]
    }
   ],
   "source": [
    "for i in ids:\n",
    "    #print(ur.plant.GetBodyFromFrameId(inspector.GetFrameId(i)).name())\n",
    "    print(inspector.GetFrameId(i), ur.plant.GetBodyFromFrameId(inspector.GetFrameId(i)).name())"
   ]
  },
  {
   "cell_type": "code",
   "execution_count": 73,
   "metadata": {},
   "outputs": [
    {
     "data": {
      "text/plain": [
       "[<GeometryId value=231>,\n",
       " <GeometryId value=227>,\n",
       " <GeometryId value=221>,\n",
       " <GeometryId value=217>,\n",
       " <GeometryId value=208>,\n",
       " <GeometryId value=233>,\n",
       " <GeometryId value=204>,\n",
       " <GeometryId value=201>,\n",
       " <GeometryId value=215>,\n",
       " <GeometryId value=157>,\n",
       " <GeometryId value=160>,\n",
       " <GeometryId value=164>,\n",
       " <GeometryId value=177>,\n",
       " <GeometryId value=190>,\n",
       " <GeometryId value=167>,\n",
       " <GeometryId value=180>,\n",
       " <GeometryId value=229>,\n",
       " <GeometryId value=171>,\n",
       " <GeometryId value=184>,\n",
       " <GeometryId value=197>,\n",
       " <GeometryId value=174>,\n",
       " <GeometryId value=187>,\n",
       " <GeometryId value=223>,\n",
       " <GeometryId value=194>]"
      ]
     },
     "execution_count": 73,
     "metadata": {},
     "output_type": "execute_result"
    }
   ],
   "source": []
  },
  {
   "cell_type": "code",
   "execution_count": 84,
   "metadata": {},
   "outputs": [],
   "source": [
    "plot_endeff_pose(centers[0])"
   ]
  },
  {
   "cell_type": "code",
   "execution_count": 70,
   "metadata": {},
   "outputs": [
    {
     "name": "stdout",
     "output_type": "stream",
     "text": [
      "<RigidBody_[float] name='world' index=0 model_instance=0>\n",
      "<RigidBody_[float] name='ur_base_link' index=1 model_instance=2>\n",
      "<RigidBody_[float] name='ur_shoulder_link' index=2 model_instance=2>\n",
      "<RigidBody_[float] name='ur_upper_arm_link' index=3 model_instance=2>\n",
      "<RigidBody_[float] name='ur_forearm_link' index=4 model_instance=2>\n",
      "<RigidBody_[float] name='ur_wrist_1_link' index=5 model_instance=2>\n",
      "<RigidBody_[float] name='ur_wrist_2_link' index=6 model_instance=2>\n",
      "<RigidBody_[float] name='ur_wrist_3_link' index=7 model_instance=2>\n",
      "<RigidBody_[float] name='ur_ee_link' index=8 model_instance=2>\n",
      "<RigidBody_[float] name='ur_base' index=9 model_instance=2>\n",
      "<RigidBody_[float] name='ur_tool0' index=10 model_instance=2>\n",
      "<RigidBody_[float] name='body' index=11 model_instance=3>\n",
      "<RigidBody_[float] name='left_finger' index=12 model_instance=3>\n",
      "<RigidBody_[float] name='right_finger' index=13 model_instance=3>\n"
     ]
    },
    {
     "ename": "SystemExit",
     "evalue": "Failure at bazel-out/k8-opt/bin/multibody/tree/_virtual_includes/multibody_tree_core/drake/multibody/tree/multibody_tree.h:644 in get_body(): condition 'body_index < num_bodies()' failed.",
     "output_type": "error",
     "traceback": [
      "An exception has occurred, use %tb to see the full traceback.\n",
      "\u001b[0;31mSystemExit\u001b[0m\u001b[0;31m:\u001b[0m Failure at bazel-out/k8-opt/bin/multibody/tree/_virtual_includes/multibody_tree_core/drake/multibody/tree/multibody_tree.h:644 in get_body(): condition 'body_index < num_bodies()' failed.\n"
     ]
    },
    {
     "name": "stderr",
     "output_type": "stream",
     "text": [
      "/usr/lib/python3/dist-packages/IPython/core/interactiveshell.py:3339: UserWarning: To exit: use 'exit', 'quit', or Ctrl-D.\n",
      "  warn(\"To exit: use 'exit', 'quit', or Ctrl-D.\", stacklevel=1)\n"
     ]
    }
   ],
   "source": [
    "for i in range(15):\n",
    "    print(ur.plant.get_body(pydrake.multibody.tree.BodyIndex(i)))"
   ]
  },
  {
   "cell_type": "code",
   "execution_count": 11,
   "metadata": {},
   "outputs": [],
   "source": [
    "def densify_waypoints(waypoints_q):\n",
    "    densify = 200\n",
    "    dists = []\n",
    "    dense_waypoints = []\n",
    "    for idx in range(len(waypoints_q[:-1])):\n",
    "        a = waypoints_q[idx]\n",
    "        b = waypoints_q[idx+1]\n",
    "        t = np.linspace(1,0, 10)\n",
    "        locs_endeff = []\n",
    "        dists_endeff = []\n",
    "        for tval in t:\n",
    "            a = a*tval + b*(1-tval)\n",
    "            qa = a#Ratfk.ComputeQValue(ta, np.zeros(7))\n",
    "            #showres(qa)\n",
    "            #time.sleep(0.1)            \n",
    "            ur.plant.SetPositions(plant_context, qa)\n",
    "            tf_tot= ur.plant.EvalBodyPoseInWorld(plant_context, ur.plant.get_body(pydrake.multibody.tree.BodyIndex(11)))\n",
    "            tf = tf_tot.translation() + tf_tot.GetAsMatrix4()[:3,:3][:,1] *0.15\n",
    "            locs_endeff.append(tf)\n",
    "        for i in range(len(locs_endeff)-1):\n",
    "            dists_endeff.append(np.linalg.norm(locs_endeff[i]- locs_endeff[i+1]))\n",
    "        d = np.sum(dists_endeff)\n",
    "        #print(d * densify)\n",
    "        t = np.linspace(1,0,int(densify*d))\n",
    "        for tval in t:\n",
    "            dense_waypoints.append(waypoints_q[idx]*tval + waypoints_q[idx+1]*(1-tval))\n",
    "    return dense_waypoints\n",
    "\n",
    "def plot_endeff_traj(dense_waypoints):\n",
    "    color = Rgba(1,0,0,1.0)\n",
    "    start_idx = 0\n",
    "    for i, qa in enumerate(dense_waypoints):\n",
    "        #qa = Ratfk.ComputeQValue(ta, np.zeros(7))\n",
    "        #showres(qa)\n",
    "        #time.sleep(0.1)            \n",
    "        ur.plant.SetPositions(plant_context, qa)\n",
    "        tf_tot= ur.plant.EvalBodyPoseInWorld(plant_context, ur.plant.get_body(pydrake.multibody.tree.BodyIndex(11)))\n",
    "        tf = tf_tot.translation() + tf_tot.GetAsMatrix4()[:3,:3][:,1] *0.15\n",
    "\n",
    "        ur.meshcat.SetObject(f\"/iris/points/traj/{i+start_idx}\",\n",
    "                               Sphere(0.005),\n",
    "                               color)\n",
    "\n",
    "        ur.meshcat.SetTransform(f\"/iris/points/traj/{i+start_idx}\",\n",
    "                                   RigidTransform(RotationMatrix(),\n",
    "                                                  tf))"
   ]
  },
  {
   "cell_type": "code",
   "execution_count": 12,
   "metadata": {},
   "outputs": [
    {
     "name": "stdout",
     "output_type": "stream",
     "text": [
      "[DijkstraSPP] Pre-Building adjacency matrix  0 / 35\n",
      "[DijkstraSPP] Pre-Building adjacency matrix  10 / 35\n",
      "[DijkstraSPP] Pre-Building adjacency matrix  20 / 35\n",
      "[DijkstraSPP] Pre-Building adjacency matrix  30 / 35\n",
      "[DijkstraSPP] Pre-Building d-adjacency matrix  0 / 122\n"
     ]
    }
   ],
   "source": [
    "def conversion_dummy(q):\n",
    "    return q\n",
    "import dijkstraspp\n",
    "dspp = dijkstraspp.DijkstraSPPsolver(regions, conversion_dummy)"
   ]
  },
  {
   "cell_type": "code",
   "execution_count": 18,
   "metadata": {},
   "outputs": [],
   "source": [
    "# import pickle \n",
    "\n",
    "# with open('logs/5DOf_ur_20230619092515_1_1000_0.050_0.250/5DOf_ur_20230619092515_1_1000_0.050_0.250dspp.pkl', 'rb') as f:\n",
    "#     a = pickle.load(f)\n",
    "\n",
    "# dspp = a['dspp']"
   ]
  },
  {
   "cell_type": "code",
   "execution_count": 19,
   "metadata": {},
   "outputs": [
    {
     "name": "stdout",
     "output_type": "stream",
     "text": [
      "[DijkstraSPP] Points not reachable\n",
      "-1\n",
      "[DijkstraSPP] optimized distance/ start-distance = 5.95 / 7.28 = 0.82\n",
      "5.949949010349506\n",
      "[DijkstraSPP] optimized distance/ start-distance = 5.95 / 7.28 = 0.82\n",
      "5.949949010376381\n",
      "[DijkstraSPP] Points not reachable\n",
      "-1\n",
      "[DijkstraSPP] optimized distance/ start-distance = 1.52 / 4.04 = 0.38\n",
      "1.5187160678449014\n",
      "[DijkstraSPP] optimized distance/ start-distance = 6.65 / 8.63 = 0.77\n",
      "6.64700387717575\n",
      "[DijkstraSPP] Points not reachable\n",
      "-1\n",
      "[DijkstraSPP] optimized distance/ start-distance = 11.04 / 13.15 = 0.84\n",
      "11.04192402466747\n",
      "[DijkstraSPP] optimized distance/ start-distance = 11.04 / 13.15 = 0.84\n",
      "11.041924027970772\n",
      "[DijkstraSPP] optimized distance/ start-distance = 11.04 / 13.15 = 0.84\n",
      "11.04192402466747\n",
      "[DijkstraSPP] optimized distance/ start-distance = 7.47 / 8.53 = 0.88\n",
      "7.468842971405732\n",
      "[DijkstraSPP] optimized distance/ start-distance = 2.22 / 3.84 = 0.58\n",
      "2.219805993029459\n",
      "[DijkstraSPP] Points not reachable\n",
      "-1\n",
      "[DijkstraSPP] Points not reachable\n",
      "-1\n",
      "[DijkstraSPP] Points not reachable\n",
      "-1\n",
      "[DijkstraSPP] optimized distance/ start-distance = 2.22 / 3.84 = 0.58\n",
      "2.2198059925092535\n",
      "[DijkstraSPP] optimized distance/ start-distance = 7.47 / 8.53 = 0.88\n",
      "7.468842969637025\n",
      "[DijkstraSPP] optimized distance/ start-distance = 5.95 / 7.28 = 0.82\n",
      "5.949949010376381\n",
      "[DijkstraSPP] Points not reachable\n",
      "-1\n",
      "[DijkstraSPP] optimized distance/ start-distance = 5.95 / 7.28 = 0.82\n",
      "5.949949010349506\n",
      "[DijkstraSPP] optimized distance/ start-distance = 6.13 / 8.50 = 0.72\n",
      "6.134508448314139\n",
      "[DijkstraSPP] optimized distance/ start-distance = 9.36 / 12.19 = 0.77\n",
      "9.357438053279594\n",
      "[DijkstraSPP] optimized distance/ start-distance = 9.65 / 12.15 = 0.79\n",
      "9.653117924844832\n",
      "[DijkstraSPP] optimized distance/ start-distance = 6.65 / 8.63 = 0.77\n",
      "6.64700387717069\n",
      "[DijkstraSPP] Points not reachable\n",
      "-1\n",
      "[DijkstraSPP] optimized distance/ start-distance = 9.36 / 12.19 = 0.77\n",
      "9.357438053279594\n",
      "[DijkstraSPP] Points not reachable\n",
      "-1\n",
      "[DijkstraSPP] optimized distance/ start-distance = 9.87 / 11.82 = 0.83\n",
      "9.866129485051792\n",
      "[DijkstraSPP] Points not reachable\n",
      "-1\n",
      "[DijkstraSPP] optimized distance/ start-distance = 2.22 / 3.84 = 0.58\n",
      "2.219805993029459\n",
      "[DijkstraSPP] optimized distance/ start-distance = 6.65 / 8.63 = 0.77\n",
      "6.64700387717575\n",
      "[DijkstraSPP] Points not reachable\n",
      "-1\n",
      "[DijkstraSPP] Points not reachable\n",
      "-1\n",
      "[DijkstraSPP] Points not reachable\n",
      "-1\n",
      "[DijkstraSPP] Points not reachable\n",
      "-1\n",
      "[DijkstraSPP] optimized distance/ start-distance = 11.04 / 13.15 = 0.84\n",
      "11.04192402466747\n",
      "[DijkstraSPP] optimized distance/ start-distance = 7.47 / 8.53 = 0.88\n",
      "7.468842971405732\n",
      "[DijkstraSPP] Points not reachable\n",
      "-1\n",
      "[DijkstraSPP] optimized distance/ start-distance = 2.22 / 3.84 = 0.58\n",
      "2.219805993029459\n",
      "[DijkstraSPP] Points not reachable\n",
      "-1\n",
      "[DijkstraSPP] optimized distance/ start-distance = 1.52 / 4.04 = 0.38\n",
      "1.5187160678414897\n",
      "[DijkstraSPP] optimized distance/ start-distance = 8.57 / 10.54 = 0.81\n",
      "8.57442737243158\n",
      "[DijkstraSPP] optimized distance/ start-distance = 9.65 / 12.15 = 0.79\n",
      "9.653117924844832\n"
     ]
    },
    {
     "ename": "KeyboardInterrupt",
     "evalue": "",
     "output_type": "error",
     "traceback": [
      "\u001b[0;31m---------------------------------------------------------------------------\u001b[0m",
      "\u001b[0;31mKeyboardInterrupt\u001b[0m                         Traceback (most recent call last)",
      "\u001b[0;32m<ipython-input-19-c3cb7695993b>\u001b[0m in \u001b[0;36m<module>\u001b[0;34m\u001b[0m\n\u001b[1;32m     20\u001b[0m             \u001b[0;31m#print(col)\u001b[0m\u001b[0;34m\u001b[0m\u001b[0;34m\u001b[0m\u001b[0;34m\u001b[0m\u001b[0m\n\u001b[1;32m     21\u001b[0m             \u001b[0;31m#break\u001b[0m\u001b[0;34m\u001b[0m\u001b[0;34m\u001b[0m\u001b[0;34m\u001b[0m\u001b[0m\n\u001b[0;32m---> 22\u001b[0;31m             \u001b[0mtime\u001b[0m\u001b[0;34m.\u001b[0m\u001b[0msleep\u001b[0m\u001b[0;34m(\u001b[0m\u001b[0;36m0.01\u001b[0m\u001b[0;34m)\u001b[0m\u001b[0;34m\u001b[0m\u001b[0;34m\u001b[0m\u001b[0m\n\u001b[0m\u001b[1;32m     23\u001b[0m         \u001b[0mstart\u001b[0m \u001b[0;34m=\u001b[0m \u001b[0mnxt\u001b[0m\u001b[0;34m\u001b[0m\u001b[0;34m\u001b[0m\u001b[0m\n\u001b[1;32m     24\u001b[0m         \u001b[0mtime\u001b[0m\u001b[0;34m.\u001b[0m\u001b[0msleep\u001b[0m\u001b[0;34m(\u001b[0m\u001b[0;36m0.01\u001b[0m\u001b[0;34m)\u001b[0m\u001b[0;34m\u001b[0m\u001b[0;34m\u001b[0m\u001b[0m\n",
      "\u001b[0;31mKeyboardInterrupt\u001b[0m: "
     ]
    }
   ],
   "source": [
    "import time\n",
    "\n",
    "start = poi[np.random.choice(8)]\n",
    "for _ in range(50):\n",
    "    #nxt = vs.sample_in_regions() #\n",
    "    while True:\n",
    "        nxt = poi[np.random.choice(8)]\n",
    "        plot_endeff_pose(nxt, str(0))\n",
    "        if nxt[0] != start[0]:\n",
    "            break\n",
    "    wp, dist = dspp.solve(start, nxt, refine_path=True)#dijkstra_spp(start, nxt, node_intersections, base_ad_mat, vs.regions, point_conversion, optimize= True)\n",
    "    print(dist)\n",
    "    if dist >0:\n",
    "        dense_waypoints = densify_waypoints(wp)\n",
    "        plot_endeff_traj(dense_waypoints)\n",
    "        for qa in dense_waypoints:\n",
    "            #qa = #Ratfk.ComputeQValue(ta, np.zeros(3))\n",
    "            showres(qa)\n",
    "            #if col_func_handle(qa):\n",
    "            #print(col)\n",
    "            #break\n",
    "            time.sleep(0.01)\n",
    "        start = nxt\n",
    "        time.sleep(0.01)\n",
    "        ur.meshcat.Delete(\"/iris/points/traj/\")\n",
    "        \n",
    "    else:\n",
    "        nxt = poi[np.random.choice(8)]"
   ]
  },
  {
   "cell_type": "code",
   "execution_count": 21,
   "metadata": {},
   "outputs": [],
   "source": [
    "### estimate overlapping region volume\n",
    "coverage = estimate_coverage(regions, pts = 5000)\n",
    "\n",
    "\n",
    "\n"
   ]
  },
  {
   "cell_type": "code",
   "execution_count": 22,
   "metadata": {},
   "outputs": [],
   "source": [
    "def point_in_regions_multi(pt, regions):\n",
    "    nr_sets =0\n",
    "    for r in regions:\n",
    "        if r.PointInSet(pt.reshape(-1,1)):\n",
    "            nr_sets+=1\n",
    "    return nr_sets    \n",
    "\n",
    "npts = 5000\n",
    "pts_ = [sample_cfree_QPoint() for _ in range(npts)]\n",
    "inreg = 0\n",
    "inreg_mult = []\n",
    "for pt in pts_:\n",
    "    nr = point_in_regions_multi(pt, regions)\n",
    "    if nr>0: \n",
    "        inreg+=1\n",
    "        inreg_mult.append(nr)\n"
   ]
  },
  {
   "cell_type": "code",
   "execution_count": 26,
   "metadata": {},
   "outputs": [
    {
     "name": "stdout",
     "output_type": "stream",
     "text": [
      "coverage est  0.817\n",
      "multicoverage fraction est  0.397\n"
     ]
    }
   ],
   "source": [
    "print('coverage est ',  inreg/npts)\n",
    "mult = 0\n",
    "for i in  inreg_mult:\n",
    "    if i>1:\n",
    "        mult+=1\n",
    "print('multicoverage fraction est ', mult/npts)"
   ]
  },
  {
   "cell_type": "code",
   "execution_count": 24,
   "metadata": {},
   "outputs": [
    {
     "data": {
      "text/plain": [
       "0.8214"
      ]
     },
     "execution_count": 24,
     "metadata": {},
     "output_type": "execute_result"
    }
   ],
   "source": [
    "coverage"
   ]
  },
  {
   "cell_type": "code",
   "execution_count": 30,
   "metadata": {},
   "outputs": [
    {
     "data": {
      "image/png": "[encoded data removed]",
      "text/plain": [
       "<Figure size 720x720 with 1 Axes>"
      ]
     },
     "metadata": {},
     "output_type": "display_data"
    }
   ],
   "source": [
    "connectivity_graph = nx.Graph()\n",
    "for idx in range(len(regions)):\n",
    "    connectivity_graph.add_node(idx)\n",
    "    \n",
    "for idx1 in range(len(regions)):\n",
    "    for idx2 in range(idx1 +1, len(regions)):\n",
    "        r1 = regions[idx1]\n",
    "        r2 = regions[idx2]\n",
    "        if r1.IntersectsWith(r2):\n",
    "            connectivity_graph.add_edge(idx1,idx2)\n",
    "\n",
    "fig = plt.figure(figsize=(10,10))\n",
    "hues = generate_distinct_colors(len(region_groups)+1)[1:]\n",
    "colors = []\n",
    "for g, h in zip(region_groups, hues):\n",
    "    colors += [h]*len(g)\n",
    "\n",
    "nx.draw_spring(connectivity_graph, \n",
    "                with_labels = True, \n",
    "                node_color = colors)\n",
    "plt.show()"
   ]
  },
  {
   "cell_type": "code",
   "execution_count": 31,
   "metadata": {},
   "outputs": [
    {
     "data": {
      "text/plain": [
       "3411"
      ]
     },
     "execution_count": 31,
     "metadata": {},
     "output_type": "execute_result"
    }
   ],
   "source": [
    "len(connectivity_graph.edges)"
   ]
  },
  {
   "cell_type": "code",
   "execution_count": 32,
   "metadata": {},
   "outputs": [],
   "source": [
    "coords = [2,3,4]\n",
    "\n",
    "q_low_vis = (np.array(ur.plant.GetPositionLowerLimits())[coords]).tolist()\n",
    "q_high_vis = (np.array(ur.plant.GetPositionUpperLimits())[coords]).tolist()\n",
    "#coordinates of q0 that are not in coords list are the ones we project onto \n",
    "q0 = np.array([0.0,-0.2,0,0,0])\n",
    "\n"
   ]
  },
  {
   "cell_type": "code",
   "execution_count": 29,
   "metadata": {},
   "outputs": [
    {
     "name": "stderr",
     "output_type": "stream",
     "text": [
      "INFO:drake:Meshcat listening for connections at http://localhost:7003\n"
     ]
    }
   ],
   "source": [
    "from  pydrake.all import StartMeshcat, DiagramBuilder, AddMultibodyPlantSceneGraph, MeshcatVisualizer\n",
    "\n",
    "meshcat2 = StartMeshcat()\n",
    "builder2 = DiagramBuilder()\n",
    "plant2, scene_graph2 = AddMultibodyPlantSceneGraph(builder2, time_step=0.0)\n",
    "vis2 = MeshcatVisualizer.AddToBuilder(builder2, scene_graph2, meshcat2)"
   ]
  },
  {
   "cell_type": "code",
   "execution_count": 33,
   "metadata": {},
   "outputs": [],
   "source": [
    "import old_vis_utils as viz_utils\n",
    "import mcubes\n",
    "from pydrake.all import  StartMeshcat, MeshcatVisualizer, DiagramBuilder, \\\n",
    "    AddMultibodyPlantSceneGraph, TriangleSurfaceMesh, Rgba, SurfaceTriangle, Sphere\n",
    "\n",
    "def transfrom_regions(regions, q_proj, dof_coords):\n",
    "    small_regs = []\n",
    "    for r in regions:\n",
    "        A_new = r.A()[:,dof_coords]\n",
    "        c_dofs = []\n",
    "        for i in range(5):\n",
    "            if i not in dof_coords:\n",
    "                c_dofs.append(i)\n",
    "        A_const = r.A()[:, c_dofs]  \n",
    "        b_new = r.b() - A_const@q_proj[c_dofs]\n",
    "        #check if region is empty\n",
    "        rn = HPolyhedron(A_new, b_new)\n",
    "        if not rn.IsEmpty():\n",
    "            small_regs.append(rn)\n",
    "        else:\n",
    "            print(\"projected region is empty\")\n",
    "    return small_regs\n",
    "\n",
    "def plot_regions(regions, ellipses = None,\n",
    "                     region_suffix = '', colors = None,\n",
    "                     wireframe = False,\n",
    "                     opacity = 0.7,\n",
    "                     fill = True,\n",
    "                     line_width = 10,\n",
    "                     darken_factor = .2,\n",
    "                     el_opacity = 0.3):\n",
    "        if colors is None:\n",
    "            colors = viz_utils.n_colors_random(len(regions), rgbs_ret=True)\n",
    "\n",
    "        for i, region in enumerate(regions):\n",
    "            c = Rgba(*[col/255 for col in colors[i]],opacity)\n",
    "            prefix = f\"/iris/regions{region_suffix}/{i}\"\n",
    "            name = prefix + \"/hpoly\"\n",
    "            if region.ambient_dimension() == 3:\n",
    "                plot_hpoly3d(name, region,\n",
    "                                  c, wireframe = wireframe, resolution = 50)\n",
    "\n",
    "def get_plot_poly_mesh(region, resolution):\n",
    "\n",
    "        def inpolycheck(q0, q1, q2, A, b):\n",
    "            q = np.array([q0, q1, q2])\n",
    "            res = np.min(1.0 * (A @ q - b <= 0))\n",
    "            # print(res)\n",
    "            return res\n",
    "\n",
    "        aabb_max, aabb_min = viz_utils.get_AABB_limits(region)\n",
    "\n",
    "        col_hand = partial(inpolycheck, A=region.A(), b=region.b())\n",
    "        vertices, triangles = mcubes.marching_cubes_func(tuple(aabb_min),\n",
    "                                                         tuple(aabb_max),\n",
    "                                                         resolution,\n",
    "                                                         resolution,\n",
    "                                                         resolution,\n",
    "                                                         col_hand,\n",
    "                                                         0.5)\n",
    "        tri_drake = [SurfaceTriangle(*t) for t in triangles]\n",
    "        return vertices, tri_drake\n",
    "\n",
    "def plot_hpoly3d( name, hpoly, color, wireframe = True, resolution = 30):\n",
    "        verts, triangles = get_plot_poly_mesh(hpoly,\n",
    "                                                   resolution=resolution)\n",
    "        meshcat2.SetObject(name, TriangleSurfaceMesh(triangles, verts),\n",
    "                                color, wireframe=wireframe)"
   ]
  },
  {
   "cell_type": "code",
   "execution_count": 35,
   "metadata": {},
   "outputs": [],
   "source": [
    "def col_func_handle_vis(qv0,qv1,qv2):\n",
    "    q_eval = q0.copy()\n",
    "    q_eval[coords] = np.array([qv0,qv1,qv2])\n",
    "    return col_func_handle(q_eval)\n",
    "\n",
    "col_shunk_col =  Rgba(0.8, 0.0, 0, 0.5)    \n",
    "col_shunk_free =  Rgba(0.0, 0.8, 0.5, 0.5)   \n",
    "\n",
    "\n",
    "def showres_viz(qv):\n",
    "    #print(q2)\n",
    "    \n",
    "    ur.plant.SetPositions(plant_context, qv) #GetJointByName(f\"iiwa_joint_{joint_idx}\").set_angle(plant_context, q2[joint_idx-1])\n",
    "    col = col_func_handle(qv)\n",
    "    color = Rgba(1, 0.72, 0, 1) if col else Rgba(0.24, 1, 0, 1)\n",
    "    shunk = ur.plant.get_body(pydrake.multibody.tree.BodyIndex(11))\n",
    "    tf_tot = shunk.EvalPoseInWorld(plant_context)\n",
    "    tf = tf_tot.translation()\n",
    "    #diagram.Publish(context)\n",
    "    #self.visualize_planes(idx_list)\n",
    "    #don't change this order\n",
    "    meshcat2.SetObject(f\"/s\",\n",
    "                            Sphere(0.05),\n",
    "                            color)\n",
    "    meshcat2.SetTransform(f\"/s\",\n",
    "                                RigidTransform(RotationMatrix(),\n",
    "                                                qv[coords]))\n",
    "    \n",
    "    if col:\n",
    "        ur.meshcat.SetObject(f\"/drake/visualizer/shunk\",\n",
    "                                   Sphere(0.05),\n",
    "                                   col_shunk_col)\n",
    "    else:\n",
    "        ur.meshcat.SetObject(f\"/drake/visualizer/shunk\",\n",
    "                                   Sphere(0.05),\n",
    "                                   col_shunk_free)\n",
    "    ur.meshcat.SetTransform(f\"/drake/visualizer/shunk\",\n",
    "                                   RigidTransform(RotationMatrix(),\n",
    "                                                  tf))\n",
    "    \n",
    "    ur.diagram.ForcedPublish(diagram_context)\n",
    "\n",
    "def visualize_collision_constraint(vis2, N = 50, factor = 1, iso_surface = 0.5, wireframe = True):\n",
    "        \"\"\"\n",
    "        :param N: N is density of marchingcubes grid. Runtime scales cubically in N\n",
    "        :return:\n",
    "        \"\"\"\n",
    "\n",
    "        vertices, triangles = mcubes.marching_cubes_func(tuple(factor*q_low_vis),\n",
    "                                                         tuple(factor*q_high_vis),\n",
    "                                                         N, N, N, col_func_handle_vis, iso_surface)\n",
    "        tri_drake = [SurfaceTriangle(*t) for t in triangles]\n",
    "        meshcat2.SetObject(\"/collision_constraint\",\n",
    "                                      TriangleSurfaceMesh(tri_drake, vertices),\n",
    "                                      Rgba(1, 0, 0, 0.5), wireframe=wireframe)\n",
    "        return tri_drake, vertices\n",
    "tri, v = visualize_collision_constraint(vis2, N=40)"
   ]
  },
  {
   "cell_type": "code",
   "execution_count": null,
   "metadata": {},
   "outputs": [],
   "source": []
  },
  {
   "cell_type": "code",
   "execution_count": 13,
   "metadata": {},
   "outputs": [
    {
     "name": "stdout",
     "output_type": "stream",
     "text": [
      "projected region is empty\n",
      "projected region is empty\n",
      "projected region is empty\n",
      "projected region is empty\n",
      "projected region is empty\n",
      "projected region is empty\n",
      "projected region is empty\n",
      "projected region is empty\n"
     ]
    }
   ],
   "source": [
    "r_s = transfrom_regions(regions, q0, coords)\n",
    "plot_regions(r_s)"
   ]
  },
  {
   "cell_type": "code",
   "execution_count": 27,
   "metadata": {},
   "outputs": [
    {
     "name": "stdout",
     "output_type": "stream",
     "text": [
      "[2, 3, 4]\n",
      "[2, 3, 4]\n",
      "[2, 3, 4]\n"
     ]
    },
    {
     "data": {
      "application/vnd.jupyter.widget-view+json": {
       "model_id": "f3f13cf7b27d4b55bbe0ba27c4a3a0e4",
       "version_major": 2,
       "version_minor": 0
      },
      "text/plain": [
       "FloatSlider(value=0.0, description='ur_joint_3', max=2.827433388230814, min=-2.827433388230814)"
      ]
     },
     "metadata": {},
     "output_type": "display_data"
    },
    {
     "data": {
      "application/vnd.jupyter.widget-view+json": {
       "model_id": "a09488c873c74fc88fb55b9493fde65a",
       "version_major": 2,
       "version_minor": 0
      },
      "text/plain": [
       "FloatSlider(value=0.0, description='ur_joint_4', max=2.827433388230814, min=-2.827433388230814)"
      ]
     },
     "metadata": {},
     "output_type": "display_data"
    },
    {
     "data": {
      "application/vnd.jupyter.widget-view+json": {
       "model_id": "803b838e1f6d4f0abfb9424331fbd718",
       "version_major": 2,
       "version_minor": 0
      },
      "text/plain": [
       "FloatSlider(value=0.0, description='ur_joint_5', max=2.827433388230814, min=-2.827433388230814)"
      ]
     },
     "metadata": {},
     "output_type": "display_data"
    },
    {
     "name": "stdout",
     "output_type": "stream",
     "text": [
      "-0.12743\n",
      "-0.22743\n",
      "-0.12743\n",
      "-0.02743\n",
      "0.07257\n",
      "0.27257\n",
      "0.47257\n",
      "0.57257\n",
      "0.47257\n",
      "0.37257\n",
      "0.17257\n",
      "0.07257\n",
      "-0.02743\n",
      "0.07257\n",
      "-0.02743\n",
      "-0.12743\n",
      "-0.22743\n",
      "-0.42743\n",
      "-0.52743\n",
      "-0.72743\n",
      "-1.02743\n",
      "-1.12743\n",
      "-1.22743\n",
      "-1.32743\n",
      "-1.22743\n",
      "-0.92743\n",
      "0.47257\n",
      "1.27257\n",
      "1.17257\n",
      "-0.22743\n",
      "-0.42743\n",
      "-0.22743\n",
      "-0.12743\n",
      "-0.22743\n",
      "-0.42743\n",
      "-0.62743\n",
      "-0.82743\n",
      "-0.92743\n",
      "-0.82743\n",
      "-0.72743\n",
      "-0.82743\n",
      "-0.92743\n",
      "-0.82743\n",
      "-0.92743\n",
      "-1.02743\n",
      "-0.92743\n",
      "-0.82743\n",
      "0.07257\n",
      "0.17257\n",
      "0.27257\n",
      "0.37257\n",
      "0.47257\n",
      "0.57257\n",
      "0.67257\n",
      "0.77257\n",
      "0.87257\n",
      "0.97257\n",
      "1.07257\n",
      "1.17257\n",
      "1.27257\n",
      "1.37257\n",
      "1.27257\n",
      "1.17257\n",
      "-0.12743\n",
      "-0.22743\n",
      "-0.32743\n",
      "-0.52743\n",
      "-0.72743\n",
      "-0.92743\n",
      "-1.02743\n",
      "-1.12743\n",
      "-1.22743\n",
      "-1.32743\n",
      "-1.42743\n",
      "-1.52743\n",
      "-1.62743\n"
     ]
    }
   ],
   "source": [
    "\n",
    "sliders2 = []\n",
    "for joint_id in coords:\n",
    "    print(coords)\n",
    "    joint_idx = joint_id + 1\n",
    "    sliders2.append(\n",
    "        widgets.FloatSlider(\n",
    "        min= np.array(ur.plant.GetPositionLowerLimits())[joint_id],##plant.GetJointByName(f\"iiwa_joint_{joint_idx}\").position_lower_limit(), \n",
    "        max= np.array(ur.plant.GetPositionUpperLimits())[joint_id],#plant.GetJointByName(f\"iiwa_joint_{joint_idx}\").position_upper_limit(), \n",
    "        value=0, \n",
    "        description=f'ur_joint_{joint_idx}'\n",
    "        )\n",
    "    )\n",
    "\n",
    "q2 = 1.0*q0.copy()\n",
    "\n",
    "def handle_slider_change_viz(change, idx):\n",
    "    idch = coords[idx]\n",
    "    q2[idch] = change['new']\n",
    "    print(q2[coords[idx]])\n",
    "    showres_viz(q2)\n",
    "    \n",
    "idx = 0\n",
    "for s in sliders2:\n",
    "    s.observe(partial(handle_slider_change_viz, idx = idx), names='value')\n",
    "    idx+=1\n",
    "\n",
    "for s in sliders2:\n",
    "    display(s)\n",
    "    #-0.87237632  1.21614163 -1.68963116"
   ]
  },
  {
   "cell_type": "code",
   "execution_count": 48,
   "metadata": {},
   "outputs": [
    {
     "data": {
      "text/plain": [
       "[2, 3, 4]"
      ]
     },
     "execution_count": 48,
     "metadata": {},
     "output_type": "execute_result"
    }
   ],
   "source": [
    "coords"
   ]
  },
  {
   "cell_type": "code",
   "execution_count": 30,
   "metadata": {},
   "outputs": [
    {
     "name": "stdout",
     "output_type": "stream",
     "text": [
      "[DijkstraSPP] optimized distance/ start-distance = 4.11 / 4.37 = 0.94\n",
      "[DijkstraSPP] optimized distance/ start-distance = 7.10 / 8.54 = 0.83\n",
      "[DijkstraSPP] optimized distance/ start-distance = 4.34 / 7.12 = 0.61\n",
      "[DijkstraSPP] optimized distance/ start-distance = 6.18 / 7.51 = 0.82\n",
      "[DijkstraSPP] optimized distance/ start-distance = 5.43 / 7.38 = 0.73\n",
      "[DijkstraSPP] optimized distance/ start-distance = 6.84 / 8.24 = 0.83\n",
      "[DijkstraSPP] optimized distance/ start-distance = 4.11 / 4.37 = 0.94\n",
      "[DijkstraSPP] optimized distance/ start-distance = 4.37 / 5.36 = 0.81\n",
      "[DijkstraSPP] optimized distance/ start-distance = 5.15 / 6.97 = 0.74\n",
      "[DijkstraSPP] optimized distance/ start-distance = 4.94 / 7.01 = 0.70\n",
      "[DijkstraSPP] optimized distance/ start-distance = 4.72 / 6.85 = 0.69\n",
      "[DijkstraSPP] optimized distance/ start-distance = 5.47 / 5.90 = 0.93\n",
      "[DijkstraSPP] optimized distance/ start-distance = 7.10 / 8.54 = 0.83\n",
      "[DijkstraSPP] optimized distance/ start-distance = 4.37 / 5.36 = 0.81\n",
      "[DijkstraSPP] optimized distance/ start-distance = 6.56 / 7.72 = 0.85\n",
      "[DijkstraSPP] optimized distance/ start-distance = 4.77 / 5.96 = 0.80\n",
      "[DijkstraSPP] optimized distance/ start-distance = 6.29 / 7.53 = 0.84\n",
      "[DijkstraSPP] optimized distance/ start-distance = 4.78 / 6.88 = 0.69\n",
      "[DijkstraSPP] optimized distance/ start-distance = 4.34 / 7.12 = 0.61\n",
      "[DijkstraSPP] optimized distance/ start-distance = 5.15 / 6.97 = 0.74\n",
      "[DijkstraSPP] optimized distance/ start-distance = 6.56 / 7.72 = 0.85\n",
      "[DijkstraSPP] optimized distance/ start-distance = 2.60 / 3.55 = 0.73\n",
      "[DijkstraSPP] optimized distance/ start-distance = 1.43 / 3.24 = 0.44\n",
      "[DijkstraSPP] optimized distance/ start-distance = 7.93 / 9.38 = 0.84\n",
      "[DijkstraSPP] optimized distance/ start-distance = 6.18 / 7.51 = 0.82\n",
      "[DijkstraSPP] optimized distance/ start-distance = 4.94 / 7.01 = 0.70\n",
      "[DijkstraSPP] optimized distance/ start-distance = 4.77 / 5.96 = 0.80\n",
      "[DijkstraSPP] optimized distance/ start-distance = 2.60 / 3.55 = 0.73\n",
      "[DijkstraSPP] optimized distance/ start-distance = 2.70 / 3.32 = 0.81\n",
      "[DijkstraSPP] optimized distance/ start-distance = 7.19 / 9.60 = 0.75\n",
      "[DijkstraSPP] optimized distance/ start-distance = 5.43 / 7.38 = 0.73\n",
      "[DijkstraSPP] optimized distance/ start-distance = 4.72 / 6.85 = 0.69\n",
      "[DijkstraSPP] optimized distance/ start-distance = 6.29 / 7.53 = 0.84\n",
      "[DijkstraSPP] optimized distance/ start-distance = 1.43 / 3.24 = 0.44\n",
      "[DijkstraSPP] optimized distance/ start-distance = 2.70 / 3.32 = 0.81\n",
      "[DijkstraSPP] optimized distance/ start-distance = 8.80 / 10.17 = 0.87\n",
      "[DijkstraSPP] optimized distance/ start-distance = 6.84 / 8.24 = 0.83\n",
      "[DijkstraSPP] optimized distance/ start-distance = 5.47 / 5.90 = 0.93\n",
      "[DijkstraSPP] optimized distance/ start-distance = 4.78 / 6.88 = 0.69\n",
      "[DijkstraSPP] optimized distance/ start-distance = 7.93 / 9.38 = 0.84\n",
      "[DijkstraSPP] optimized distance/ start-distance = 7.19 / 9.60 = 0.75\n",
      "[DijkstraSPP] optimized distance/ start-distance = 8.80 / 10.17 = 0.87\n"
     ]
    }
   ],
   "source": [
    "for i1, p1 in enumerate(poi[1:]):\n",
    "    for i2, p2 in enumerate(poi[1:]):\n",
    "        if i1 !=i2:\n",
    "            dspp.solve(p1, p2, refine_path=True)"
   ]
  },
  {
   "cell_type": "code",
   "execution_count": 17,
   "metadata": {},
   "outputs": [],
   "source": [
    "with open(exp_name + 'dspp.pkl', 'wb') as f:\n",
    "    pickle.dump({'dspp': dspp}, f)"
   ]
  },
  {
   "cell_type": "code",
   "execution_count": null,
   "metadata": {},
   "outputs": [],
   "source": [
    "dspppath = \"logs/5DOf_ur_20230619092515_1_1000_0.050_0.250dspp.pkl\""
   ]
  },
  {
   "cell_type": "code",
   "execution_count": 24,
   "metadata": {},
   "outputs": [],
   "source": [
    "from gcs.bezier import BezierGCS"
   ]
  },
  {
   "cell_type": "code",
   "execution_count": 25,
   "metadata": {},
   "outputs": [],
   "source": [
    "convex_relaxation = True\n",
    "b_gcs = BezierGCS(regions, order=5, continuity=2)\n",
    "b_gcs.addTimeCost(1)\n",
    "b_gcs.addPathLengthCost(1)\n",
    "b_gcs.setSolver(MosekSolver())\n",
    "\n",
    "def solve_path(start, end):\n",
    "    b_gcs.addSourceTarget(start, end)\n",
    "    bezier_traj = b_gcs.SolvePath(convex_relaxation)[0]\n",
    "\n",
    "    samples = np.linspace(bezier_traj.start_time(), bezier_traj.end_time(), 200)\n",
    "    values = np.squeeze([bezier_traj.value(s) for s in samples])\n",
    "    return values"
   ]
  },
  {
   "cell_type": "code",
   "execution_count": null,
   "metadata": {},
   "outputs": [
    {
     "ename": "",
     "evalue": "",
     "output_type": "error",
     "traceback": [
      "\u001b[1;31mCannot execute code, session has been disposed. Please try restarting the Kernel."
     ]
    },
    {
     "ename": "",
     "evalue": "",
     "output_type": "error",
     "traceback": [
      "\u001b[1;31mThe Kernel crashed while executing code in the the current cell or a previous cell. Please review the code in the cell(s) to identify a possible cause of the failure. Click <a href='https://aka.ms/vscodeJupyterKernelCrash'>here</a> for more info. View Jupyter <a href='command:jupyter.viewOutput'>log</a> for further details."
     ]
    }
   ],
   "source": [
    "import time\n",
    "\n",
    "\n",
    "start = poi[1+np.random.choice(7)]\n",
    "for _ in range(50):\n",
    "    #nxt = vs.sample_in_regions() #\n",
    "    while True:\n",
    "        nxt = poi[1+np.random.choice(7)]\n",
    "        plot_endeff_pose(nxt, str(0))\n",
    "        if nxt[0] != start[0]:\n",
    "            break\n",
    "    #wp, dist = dspp.solve(start, nxt, refine_path=True)#dijkstra_spp(start, nxt, node_intersections, base_ad_mat, vs.regions, point_conversion, optimize= True)\n",
    "    dense_waypoints = solve_path(start, nxt)\n",
    "    dist =1\n",
    "    if dist >0:\n",
    "        #dense_waypoints = densify_waypoints(wp)\n",
    "        plot_endeff_traj(dense_waypoints)\n",
    "        for qa in dense_waypoints:\n",
    "            #qa = #Ratfk.ComputeQValue(ta, np.zeros(3))\n",
    "            showres(qa)\n",
    "            #if col_func_handle(qa):\n",
    "            #print(col)\n",
    "            #break\n",
    "            time.sleep(0.01)\n",
    "        start = nxt\n",
    "        time.sleep(0.01)\n",
    "        ur.meshcat.Delete(\"/iris/points/traj/\")\n",
    "        \n",
    "    else:\n",
    "        nxt = poi[1+np.random.choice(7)]"
   ]
  },
  {
   "cell_type": "code",
   "execution_count": null,
   "metadata": {},
   "outputs": [],
   "source": []
  },
  {
   "cell_type": "code",
   "execution_count": null,
   "metadata": {},
   "outputs": [],
   "source": []
  }
 ],
 "metadata": {
  "kernelspec": {
   "display_name": "Python 3",
   "language": "python",
   "name": "python3"
  },
  "language_info": {
   "codemirror_mode": {
    "name": "ipython",
    "version": 3
   },
   "file_extension": ".py",
   "mimetype": "text/x-python",
   "name": "python",
   "nbconvert_exporter": "python",
   "pygments_lexer": "ipython3",
   "version": "3.8.10"
  },
  "orig_nbformat": 4
 },
 "nbformat": 4,
 "nbformat_minor": 2
}
