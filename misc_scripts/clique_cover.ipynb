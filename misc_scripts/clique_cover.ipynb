{
 "cells": [
  {
   "cell_type": "code",
   "execution_count": 3,
   "metadata": {},
   "outputs": [],
   "source": [
    "import numpy as np\n",
    "from pydrake.all import (AddDefaultVisualization, Binding, LinearConstraint,\n",
    "                         MathematicalProgram, PointCloud, Rgba, RigidTransform,\n",
    "                         RobotDiagramBuilder, RollPitchYaw,\n",
    "                         SceneGraphCollisionChecker, Solve, StartMeshcat,\n",
    "                         VisibilityGraph)"
   ]
  },
  {
   "cell_type": "code",
   "execution_count": 4,
   "metadata": {},
   "outputs": [
    {
     "name": "stderr",
     "output_type": "stream",
     "text": [
      "INFO:drake:Meshcat listening for connections at http://localhost:7001\n"
     ]
    }
   ],
   "source": [
    "meshcat = StartMeshcat()\n"
   ]
  },
  {
   "cell_type": "code",
   "execution_count": 5,
   "metadata": {},
   "outputs": [
    {
     "name": "stderr",
     "output_type": "stream",
     "text": [
      "INFO:drake:Allocating contexts to support 1 parallel queries given omp_num_threads 1 omp_max_threads 1 and omp_thread_limit 1 OpenMP enabled in build? false\n"
     ]
    }
   ],
   "source": [
    "# A movable sphere with fixed boxes in all corners.\n",
    "# ┌─────┬───┬─────┐\n",
    "# │     │   │     │\n",
    "# │     │   │     │\n",
    "# ├─────┘   └─────┤\n",
    "# │       o       │\n",
    "# ├─────┐   ┌─────┤\n",
    "# │     │   │     │\n",
    "# │     │   │     │\n",
    "# └─────┴───┴─────┘\n",
    "boxes_in_corners = \"\"\"\n",
    "<robot name=\"boxes\">\n",
    "  <link name=\"fixed\">\n",
    "    <collision name=\"top_left\">\n",
    "      <origin rpy=\"0 0 0\" xyz=\"-1 1 0\"/>\n",
    "      <geometry><box size=\"1 1 1\"/></geometry>\n",
    "    </collision>\n",
    "    <collision name=\"top_right\">\n",
    "      <origin rpy=\"0 0 0\" xyz=\"1 1 0\"/>\n",
    "      <geometry><box size=\"1 1 1\"/></geometry>\n",
    "    </collision>\n",
    "    <collision name=\"bottom_left\">\n",
    "      <origin rpy=\"0 0 0\" xyz=\"-1 -1 0\"/>\n",
    "      <geometry><box size=\"1 1 1\"/></geometry>\n",
    "    </collision>\n",
    "    <collision name=\"bottom_right\">\n",
    "      <origin rpy=\"0 0 0\" xyz=\"1 -1 0\"/>\n",
    "      <geometry><box size=\"1 1 1\"/></geometry>\n",
    "    </collision>\n",
    "  </link>\n",
    "  <joint name=\"fixed_link_weld\" type=\"fixed\">\n",
    "    <parent link=\"world\"/>\n",
    "    <child link=\"fixed\"/>\n",
    "  </joint>\n",
    "  <link name=\"movable\">\n",
    "    <collision name=\"sphere\">\n",
    "      <geometry><sphere radius=\"0.1\"/></geometry>\n",
    "    </collision>\n",
    "  </link>\n",
    "  <link name=\"for_joint\"/>\n",
    "  <joint name=\"x\" type=\"prismatic\">\n",
    "    <axis xyz=\"1 0 0\"/>\n",
    "    <limit lower=\"-2\" upper=\"2\"/>\n",
    "    <parent link=\"world\"/>\n",
    "    <child link=\"for_joint\"/>\n",
    "  </joint>\n",
    "  <joint name=\"y\" type=\"prismatic\">\n",
    "    <axis xyz=\"0 1 0\"/>\n",
    "    <limit lower=\"-2\" upper=\"2\"/>\n",
    "    <parent link=\"for_joint\"/>\n",
    "    <child link=\"movable\"/>\n",
    "  </joint>\n",
    "</robot>\n",
    "\"\"\"\n",
    "\n",
    "meshcat.Set2dRenderMode(X_WC=RigidTransform(RollPitchYaw(-np.pi / 2, 0, 0),\n",
    "                                            [0, 0, -5]),\n",
    "                        xmin=-2,\n",
    "                        xmax=2,\n",
    "                        ymin=-2,\n",
    "                        ymax=2)\n",
    "\n",
    "builder = RobotDiagramBuilder(0.0)\n",
    "robot_model_instances = builder.parser().AddModelsFromString(\n",
    "    boxes_in_corners, \"urdf\")\n",
    "builder.plant().Finalize()\n",
    "AddDefaultVisualization(builder.builder(), meshcat=meshcat)\n",
    "distance_function_weights = [1] * builder.plant().num_positions()\n",
    "\n",
    "checker = SceneGraphCollisionChecker(model=builder.Build(),\n",
    "            robot_model_instances=robot_model_instances,\n",
    "            distance_function_weights = distance_function_weights,\n",
    "            edge_step_size=0.01)\n",
    "checker.model().ForcedPublish(checker.model_context().model_context())\n",
    "meshcat.SetProperty(\"/drake/proximity\", \"visible\", True)\n",
    "\n",
    "# Sample random points\n",
    "rng = np.random.default_rng(0)\n",
    "N = 1000\n",
    "points = rng.uniform(-1.5, 1.5, size=(3, N))\n",
    "points[2, :] = 0.7\n",
    "cloud = PointCloud(N)\n",
    "cloud.mutable_xyzs()[:] = points\n",
    "meshcat.SetObject(\"points\", cloud, point_size=0.02, rgba=Rgba(0, 0, 0, 1.0))\n",
    "meshcat.SetTransform(\"points\", RigidTransform())\n",
    "\n",
    "indices = [\n",
    "    i for i, val in enumerate(\n",
    "        checker.CheckConfigsCollisionFree(points[:2, :].T, parallelize=True))\n",
    "    if val\n",
    "]\n",
    "points = points[:2, indices]\n",
    "A = VisibilityGraph(checker, points)\n"
   ]
  },
  {
   "cell_type": "code",
   "execution_count": 6,
   "metadata": {},
   "outputs": [],
   "source": [
    "def max_clique(A):\n",
    "    N = A.shape[0]\n",
    "    prog = MathematicalProgram()\n",
    "    v = prog.NewBinaryVariables(N, \"v\")\n",
    "    prog.AddLinearCost(-np.ones(N), v)\n",
    "    # Make the constraint once, and use it many times.\n",
    "    c = LinearConstraint(np.ones((1,2)), [0],[1])  # [1, 1] x <= 1.\n",
    "    for i in range(N):\n",
    "        for j in range(i):\n",
    "            if A[i,j] == 0:\n",
    "                # v[i] + v[j] <= 1\n",
    "                prog.AddConstraint(\n",
    "                    binding=Binding[LinearConstraint](c, [v[i], v[j]]))\n",
    "\n",
    "    result = Solve(prog)\n",
    "    return [i for i, val in enumerate(result.GetSolution(v)) if val]\n"
   ]
  },
  {
   "cell_type": "code",
   "execution_count": 8,
   "metadata": {},
   "outputs": [
    {
     "name": "stdout",
     "output_type": "stream",
     "text": [
      "[3, 4, 6, 7, 9, 10, 14, 16, 17, 20, 21, 22, 24, 28, 29, 30, 33, 34, 35, 36, 37, 38, 40, 41, 42, 45, 47, 48, 50, 52, 55, 57, 59, 60, 61, 62, 64, 65, 66, 67, 68, 71, 78, 79, 80, 82, 85, 86, 87, 88, 89, 90, 92, 94, 95, 96, 98, 100, 101, 102, 105, 106, 108, 110, 113, 115, 116, 117, 118, 120, 121, 122, 125, 127, 128, 130, 132, 133, 134, 135, 136, 138, 140, 141, 144, 145, 146, 149, 150, 152, 155, 157, 159, 160, 161, 163, 169, 170, 171, 173, 174, 175, 176, 178, 179, 183, 184, 187, 189, 190, 192, 193, 194, 195, 196, 197, 198, 199, 200, 201, 202, 203, 206, 207, 208, 209, 210, 211, 213, 215, 217, 218, 219, 220, 221, 222, 224, 225, 226, 227, 228, 229, 231, 233, 234, 236, 238, 240, 241, 242, 243, 245, 246, 247, 248, 250, 252, 253, 254, 255, 257, 259, 260, 264, 265, 266, 268, 270, 271, 272, 273, 278, 280, 281, 283, 284, 285, 287, 293, 294, 296, 297, 299, 300, 301, 303, 304, 306, 307, 309, 311, 314, 316, 317, 320, 321, 323, 324, 327, 328, 330, 331, 334, 335, 336, 337, 338, 340, 341, 342, 343, 347, 351, 352, 353, 358, 359, 360, 361, 362, 364, 367, 369, 371, 372, 373, 374, 375, 376, 380, 381, 383, 384, 385, 387, 391, 392, 393, 394, 396, 397, 400, 402, 403, 405, 406, 407, 409, 411, 412, 414, 415, 416, 417, 418, 419, 421, 422, 423, 424, 425, 426, 428, 429, 430, 434, 435, 436, 438, 439, 440, 441, 443, 444, 446, 447, 449, 457, 458, 459, 460]\n",
      "[0, 1, 2, 3, 4, 5, 6, 7, 8, 9, 10, 11, 12, 13, 14, 15, 16, 17, 18, 19, 20, 21, 22, 23, 24, 25, 26, 27, 28, 29, 30, 31, 32, 33, 34, 35, 36, 37, 38, 39, 40, 41, 42, 43, 44, 45, 46, 47, 48, 49, 50, 51, 52, 53, 54, 55, 56, 57, 58, 59, 60, 61, 62, 63, 64, 65, 66, 67, 68, 69, 70, 71, 72, 73, 74, 75, 76, 77, 78, 79, 80, 81, 82, 83, 84, 85, 86, 87, 88, 89, 90, 91, 92, 93, 94, 95, 96, 97, 98, 99, 100, 101, 102, 103, 104, 105, 106, 107, 108, 109, 110, 111, 112, 113, 114, 115, 116, 117, 118, 119, 120, 121, 122, 123, 124, 125, 126, 127, 128, 129, 130, 131, 132, 133, 134, 135, 136, 137, 138, 139, 140, 141, 142, 143, 144, 145, 146, 147, 148, 149, 150, 151, 152, 153, 154, 155, 156, 157, 158, 159, 160, 161, 162, 163, 164, 165, 166, 167, 168, 169, 170, 171, 172, 173, 174, 175, 176, 177, 178, 179]\n"
     ]
    }
   ],
   "source": [
    "def clique_cover(A, min_clique_size=3):\n",
    "    indices = range(A.shape[0])\n",
    "    while True:\n",
    "        clique = max_clique(A)\n",
    "        if (len(clique) < min_clique_size):\n",
    "            break\n",
    "        print(clique)\n",
    "        mask = np.ones(A.shape[0], dtype=bool)\n",
    "        mask[clique] = False\n",
    "        indices = np.delete(indices, clique)\n",
    "        A = A[:, mask]\n",
    "        A = A[mask, :]\n",
    "\n",
    "clique_cover(A)\n"
   ]
  },
  {
   "cell_type": "code",
   "execution_count": null,
   "metadata": {},
   "outputs": [],
   "source": [
    "# Deleting columns with indices 1 and 2\n",
    "#A = np.delete(A, [1, 2], axis=0)\n",
    "print(A.shape)"
   ]
  },
  {
   "cell_type": "code",
   "execution_count": null,
   "metadata": {},
   "outputs": [],
   "source": []
  }
 ],
 "metadata": {
  "kernelspec": {
   "display_name": "Python 3",
   "language": "python",
   "name": "python3"
  },
  "language_info": {
   "codemirror_mode": {
    "name": "ipython",
    "version": 3
   },
   "file_extension": ".py",
   "mimetype": "text/x-python",
   "name": "python",
   "nbconvert_exporter": "python",
   "pygments_lexer": "ipython3",
   "version": "3.11.3"
  },
  "orig_nbformat": 4
 },
 "nbformat": 4,
 "nbformat_minor": 2
}
