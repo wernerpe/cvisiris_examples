{
 "cells": [
  {
   "cell_type": "code",
   "execution_count": 1,
   "metadata": {},
   "outputs": [
    {
     "name": "stderr",
     "output_type": "stream",
     "text": [
      "/home/peter/.local/lib/python3.8/site-packages/scipy/__init__.py:143: UserWarning: A NumPy version >=1.19.5 and <1.27.0 is required for this version of SciPy (detected version 1.17.4)\n",
      "  warnings.warn(f\"A NumPy version >={np_minversion} and <{np_maxversion}\"\n"
     ]
    }
   ],
   "source": [
    "from environments import get_environment_builder\n",
    "import numpy as np\n",
    "from pydrake.all import (RigidTransform,\n",
    "                         RotationMatrix, \n",
    "                         InverseKinematics,\n",
    "                         MathematicalProgram,\n",
    "                         Solve,\n",
    "                         Cylinder,\n",
    "                         Rgba,\n",
    "                         RollPitchYaw)\n",
    "\n",
    "import ipywidgets as widgets\n",
    "from functools import partial\n",
    "from visibility_utils import (get_col_func, \n",
    "                              get_sample_cfree_handle,\n",
    "                              get_coverage_estimator,\n",
    "                              vgraph,\n",
    "                              point_in_regions)\n",
    "from pydrake.all import SceneGraphCollisionChecker, IrisOptions\n",
    "from visibility_logging import CliqueApproachLogger\n",
    "from visibility_clique_decomposition import VisCliqueInflation\n",
    "from region_generation import SNOPT_IRIS_ellipsoid_parallel\n",
    "from tqdm import tqdm\n"
   ]
  },
  {
   "cell_type": "code",
   "execution_count": 2,
   "metadata": {},
   "outputs": [
    {
     "name": "stderr",
     "output_type": "stream",
     "text": [
      "INFO:drake:Meshcat listening for connections at http://localhost:7000\n",
      "WARNING:drake:/home/peter/git/drake_vgraphbuild_russ/drake-build/install/lib/python3.8/site-packages/pydrake/common/../../../../../share/drake/manipulation/models/ur3e/ur3e_cylinder_weld_wrist.urdf:287: warning: Skipping transmission since it's attached to a fixed joint \"ur_wrist_3_joint\".\n"
     ]
    },
    {
     "name": "stdout",
     "output_type": "stream",
     "text": [
      "http://localhost:7000\n"
     ]
    }
   ],
   "source": [
    "\n",
    "env_builder = get_environment_builder('5DOFUR5')\n",
    "plant, scene_graph, diagram, diagram_context, plant_context, meshcat = env_builder(True)"
   ]
  },
  {
   "cell_type": "code",
   "execution_count": 3,
   "metadata": {},
   "outputs": [],
   "source": [
    "from pydrake.all import GlobalInverseKinematics\n",
    "\n",
    "def get_ik_problem_solver(plant_ik, plant_context_ik, frames, collision_free= False):\n",
    "    def solve_ik_problem(poses, q0, collision_free = collision_free):\n",
    "        tries = 3\n",
    "        q_min = plant.GetPositionLowerLimits()\n",
    "        q_max = plant.GetPositionUpperLimits()\n",
    "        q_diff =  q_max-q_min\n",
    "        ik = InverseKinematics(plant_ik, plant_context_ik)\n",
    "        #GlobalInverseKinematics(plant_ik) #InverseKinematics(plant_ik, plant_context_ik)\n",
    "    \n",
    "        for pose, f in zip(poses, frames):\n",
    "            ik.AddPositionConstraint(\n",
    "                f,\n",
    "                [0, 0, 0],\n",
    "                plant_ik.world_frame(),\n",
    "                pose.translation()-0.05,\n",
    "                pose.translation()+0.05,\n",
    "            )\n",
    "            # ik.AddWorldPositionConstraint(plant.GetBodyByName('ur_tool0').index(), \n",
    "            #                               pose.translation(),\n",
    "            #                               pose.translation()-0.05,\n",
    "            #                               pose.translation()+0.05)\n",
    "            # ik.AddOrientationConstraint(\n",
    "            #     f,\n",
    "            #     RotationMatrix(),\n",
    "            #     plant_ik.world_frame(),\n",
    "            #     pose.rotation(),\n",
    "            #     np.pi/4,\n",
    "            # )\n",
    "        if collision_free:\n",
    "            ik.AddMinimumDistanceConstraint(0.001, 0.1)\n",
    "        prog = ik.get_mutable_prog()\n",
    "        q = ik.q()\n",
    "        prog.AddQuadraticErrorCost(np.identity(len(q)), q0, q)\n",
    "        prog.SetInitialGuess(q, q0)\n",
    "        result = Solve(ik.prog())\n",
    "        if result.is_success():\n",
    "                return result.GetSolution(q)\n",
    "        return None\n",
    "    return solve_ik_problem\n",
    "\n",
    "def show_pose(qvis, plant, plant_context, diagram, diagram_context, endeff_frame, show_body_frame = None):\n",
    "    plant.SetPositions(plant_context, qvis)\n",
    "    diagram.ForcedPublish(diagram_context)\n",
    "    tf =plant.EvalBodyPoseInWorld(plant_context,  plant.GetBodyByName(endeff_frame))\n",
    "    if show_body_frame is not None:\n",
    "        show_body_frame(tf)\n",
    "\n",
    "def show_ik_target(pose, meshcat, name):\n",
    "    h = 0.2\n",
    "    if 'targ' in name:\n",
    "        colors = [Rgba(1,0.5,0, 0.5), Rgba(0.5,1,0, 0.5), Rgba(0.0,0.5,1, 0.5)]\n",
    "    else:\n",
    "        colors = [Rgba(1,0,0, 1), Rgba(0.,1,0, 1), Rgba(0.0,0.0,1, 1)]\n",
    "\n",
    "    rot = pose.rotation()@RotationMatrix.MakeYRotation(np.pi/2)\n",
    "    pos= pose.translation() +pose.rotation()@np.array([h/2, 0,0])\n",
    "    meshcat.SetObject(f\"/drake/ik_target{name}/triad1\",\n",
    "                                   Cylinder(0.01,0.2),\n",
    "                                   colors[0])\n",
    "    meshcat.SetTransform(f\"/drake/ik_target{name}/triad1\",RigidTransform(rot, pos))\n",
    "    rot = pose.rotation()@RotationMatrix.MakeXRotation(-np.pi/2)\n",
    "    pos= pose.translation() +pose.rotation()@np.array([0,h/2,0])\n",
    "\n",
    "    meshcat.SetObject(f\"/drake/ik_target{name}/triad2\",\n",
    "                                   Cylinder(0.01,0.2),\n",
    "                                   colors[1])\n",
    "    meshcat.SetTransform(f\"/drake/ik_target{name}/triad2\",RigidTransform(rot, pos))\n",
    "    pos= pose.translation().copy()\n",
    "    rot = pose.rotation()\n",
    "    pos = pos + rot@np.array([0,0,h/2])\n",
    "    meshcat.SetObject(f\"/drake/ik_target{name}/triad3\",\n",
    "                                   Cylinder(0.01,0.2),\n",
    "                                   colors[2])\n",
    "    meshcat.SetTransform(f\"/drake/ik_target{name}/triad3\",RigidTransform(rot, pos))\n"
   ]
  },
  {
   "cell_type": "code",
   "execution_count": 4,
   "metadata": {},
   "outputs": [
    {
     "data": {
      "application/vnd.jupyter.widget-view+json": {
       "model_id": "19985358ecdb4094acbd5dff6d7b8f6c",
       "version_major": 2,
       "version_minor": 0
      },
      "text/plain": [
       "FloatSlider(value=0.0, description='q0', max=2.827433388230814, min=-2.827433388230814)"
      ]
     },
     "metadata": {},
     "output_type": "display_data"
    },
    {
     "data": {
      "application/vnd.jupyter.widget-view+json": {
       "model_id": "19985358ecdb4094acbd5dff6d7b8f6c",
       "version_major": 2,
       "version_minor": 0
      },
      "text/plain": [
       "FloatSlider(value=0.0, description='q0', max=2.827433388230814, min=-2.827433388230814)"
      ]
     },
     "metadata": {},
     "output_type": "display_data"
    },
    {
     "data": {
      "application/vnd.jupyter.widget-view+json": {
       "model_id": "9dc49cc17ad6400e8faf17955edb4218",
       "version_major": 2,
       "version_minor": 0
      },
      "text/plain": [
       "FloatSlider(value=0.0, description='q1', max=2.827433388230814, min=-2.827433388230814)"
      ]
     },
     "metadata": {},
     "output_type": "display_data"
    },
    {
     "data": {
      "application/vnd.jupyter.widget-view+json": {
       "model_id": "c2010df0f59d4454a6bdfa28c0e88165",
       "version_major": 2,
       "version_minor": 0
      },
      "text/plain": [
       "FloatSlider(value=0.0, description='q2', max=2.827433388230814, min=-2.827433388230814)"
      ]
     },
     "metadata": {},
     "output_type": "display_data"
    },
    {
     "data": {
      "application/vnd.jupyter.widget-view+json": {
       "model_id": "1c16323655d841749875428be0356e92",
       "version_major": 2,
       "version_minor": 0
      },
      "text/plain": [
       "FloatSlider(value=0.0, description='q3', max=2.827433388230814, min=-2.827433388230814)"
      ]
     },
     "metadata": {},
     "output_type": "display_data"
    },
    {
     "data": {
      "application/vnd.jupyter.widget-view+json": {
       "model_id": "2842e568677248eea9c405fd9c0baf68",
       "version_major": 2,
       "version_minor": 0
      },
      "text/plain": [
       "FloatSlider(value=0.0, description='q4', max=2.827433388230814, min=-2.827433388230814)"
      ]
     },
     "metadata": {},
     "output_type": "display_data"
    }
   ],
   "source": [
    "show_body_frame = partial(show_ik_target, \n",
    "                          meshcat=meshcat, \n",
    "                          name='endeff_acutal', \n",
    "                          )\n",
    "showres = partial(show_pose, \n",
    "                  plant = plant, \n",
    "                  plant_context = plant_context, \n",
    "                  diagram = diagram, \n",
    "                  diagram_context = diagram_context,\n",
    "                  endeff_frame = 'ur_tool0',\n",
    "                  show_body_frame=show_body_frame)\n",
    "\n",
    "q = np.zeros(plant.num_positions())\n",
    "\n",
    "sliders = []\n",
    "for i in range(plant.num_positions()):\n",
    "    q_low = plant.GetPositionLowerLimits()[i]\n",
    "    q_high = plant.GetPositionUpperLimits()[i]\n",
    "    sliders.append(widgets.FloatSlider(min=q_low, max=q_high, value=0, description=f\"q{i}\"))\n",
    "\n",
    "def handle_slider_change(change, idx):\n",
    "    q[idx] = change['new']\n",
    "    showres(q)\n",
    "idx = 0\n",
    "for slider in sliders:\n",
    "    slider.observe(partial(handle_slider_change, idx = idx), names='value')\n",
    "    idx+=1\n",
    "\n",
    "display(sliders[0])\n",
    "for slider in sliders:\n",
    "    display(slider)\n"
   ]
  },
  {
   "cell_type": "code",
   "execution_count": 5,
   "metadata": {},
   "outputs": [
    {
     "data": {
      "application/vnd.jupyter.widget-view+json": {
       "model_id": "c63a26619d524823bd536d1223006724",
       "version_major": 2,
       "version_minor": 0
      },
      "text/plain": [
       "FloatSlider(value=0.0, description='x', max=0.5, min=-0.5)"
      ]
     },
     "metadata": {},
     "output_type": "display_data"
    },
    {
     "data": {
      "application/vnd.jupyter.widget-view+json": {
       "model_id": "d9960c76ef0c4bc7a59a417326700067",
       "version_major": 2,
       "version_minor": 0
      },
      "text/plain": [
       "FloatSlider(value=0.0, description='y', max=0.5, min=-0.5)"
      ]
     },
     "metadata": {},
     "output_type": "display_data"
    },
    {
     "data": {
      "application/vnd.jupyter.widget-view+json": {
       "model_id": "87eebe2a903a454aa6c19836f57bef11",
       "version_major": 2,
       "version_minor": 0
      },
      "text/plain": [
       "FloatSlider(value=0.01, description='z', max=1.0, min=0.01)"
      ]
     },
     "metadata": {},
     "output_type": "display_data"
    },
    {
     "data": {
      "application/vnd.jupyter.widget-view+json": {
       "model_id": "38f6dc0cc06f454aaa09c56fff4fff1f",
       "version_major": 2,
       "version_minor": 0
      },
      "text/plain": [
       "FloatSlider(value=0.0, description='rx', max=3.141592653589793, min=-3.141592653589793)"
      ]
     },
     "metadata": {},
     "output_type": "display_data"
    },
    {
     "data": {
      "application/vnd.jupyter.widget-view+json": {
       "model_id": "1ee774882fb04d44b4db84f6adb97751",
       "version_major": 2,
       "version_minor": 0
      },
      "text/plain": [
       "FloatSlider(value=0.0, description='ry', max=3.141592653589793, min=-3.141592653589793)"
      ]
     },
     "metadata": {},
     "output_type": "display_data"
    },
    {
     "data": {
      "application/vnd.jupyter.widget-view+json": {
       "model_id": "93b1b0981ac345cd9a858f0a5a29ae9b",
       "version_major": 2,
       "version_minor": 0
      },
      "text/plain": [
       "FloatSlider(value=0.0, description='rz', max=3.141592653589793, min=-3.141592653589793)"
      ]
     },
     "metadata": {},
     "output_type": "display_data"
    }
   ],
   "source": [
    "#ik sliders \n",
    "show_ik_targets = partial(show_ik_target, \n",
    "                          meshcat=meshcat, \n",
    "                          name='endeff_targ', \n",
    "                          )\n",
    "\n",
    "ik_solver = get_ik_problem_solver(plant, \n",
    "                                  plant_context, \n",
    "                                  [plant.GetFrameByName('ur_tool0')], \n",
    "                                  collision_free=False)\n",
    "sliders_ik = []\n",
    "pos_min = np.array([-0.5,-0.5, 0.01, -np.pi,-np.pi, -np.pi])\n",
    "pos_max = np.array([0.5,0.5, 1, np.pi,np.pi,np.pi])\n",
    "names = ['x', 'y', 'z','rx', 'ry', 'rz']\n",
    "_ik_positions = np.zeros(6)\n",
    "\n",
    "for i in range(6):\n",
    "    sliders_ik.append(widgets.FloatSlider(min=pos_min[i], \n",
    "                                       max=pos_max[i], \n",
    "                                       value=0, \n",
    "                                       description=names[i]))\n",
    "\n",
    "def handle_slider_change_ik(change, idx):\n",
    "    _ik_positions[idx] = change['new']\n",
    "    rot = RotationMatrix.MakeXRotation(_ik_positions[3])@RotationMatrix.MakeYRotation(_ik_positions[4])@RotationMatrix.MakeZRotation(_ik_positions[5])\n",
    "\n",
    "    \n",
    "    \n",
    "    RollPitchYaw(_ik_positions[3],\n",
    "                       _ik_positions[4],\n",
    "                       _ik_positions[5]).ToRotationMatrix()\n",
    "    tf = RigidTransform(rot, _ik_positions[:3])\n",
    "    show_ik_targets(tf)\n",
    "    res = ik_solver([tf])\n",
    "    if res is not None:\n",
    "        showres(res)\n",
    "\n",
    "idx = 0\n",
    "for slider in sliders_ik:\n",
    "    slider.observe(partial(handle_slider_change_ik, idx = idx), names='value')\n",
    "    idx+=1\n",
    "\n",
    "for slider in sliders_ik:\n",
    "    display(slider)\n"
   ]
  },
  {
   "cell_type": "code",
   "execution_count": 6,
   "metadata": {},
   "outputs": [],
   "source": [
    "#task space sampling\n",
    "q0  = np.array([-1.32743, -2.42743,  1.17257, -1.82743, -0.12743])\n",
    "plant.SetPositions(plant_context, q0)\n",
    "plant.ForcedPublish(plant_context)\n",
    "showres(q0)\n",
    "t0 =plant.EvalBodyPoseInWorld(plant_context,  plant.GetBodyByName(\"ur_tool0\")).translation()       \n",
    "\n",
    "def task_space_sampler(n_points, M, regions, limits, ik_solver, collision_free = True, MAXIT = 100, q0 = q0, t0 = t0):\n",
    "    q_points = [q0]\n",
    "    t_points = [t0]\n",
    "    t_min = limits[0]\n",
    "    t_max = limits[1]\n",
    "    t_diff = t_max-t_min\n",
    "    for i in tqdm(range(n_points)):\n",
    "        for it in range(MAXIT):\n",
    "            t_point = t_min + t_diff*np.random.rand(3)\n",
    "\n",
    "            idx_closest = np.argmin(np.linalg.norm(np.array(t_points)-t_point))\n",
    "            q0 = q_points[idx_closest]\n",
    "            res = ik_solver([RigidTransform(RotationMatrix(), t_point)], \n",
    "                            q0= q0,\n",
    "                            collision_free = collision_free)\n",
    "            if res is not None and not point_in_regions(res, regions):\n",
    "                q_points.append(res)\n",
    "                t_points.append(t_point)\n",
    "                #print(f\"found point {i}\")\n",
    "                break\n",
    "            if it ==MAXIT:\n",
    "                print(\"[SAMPLER] CANT FIND IK SOLUTION\")\n",
    "                return None\n",
    "    return np.array(q_points), False#np.array(t_points)\n",
    "\n",
    "ik_solver_S = get_ik_problem_solver(plant, \n",
    "                                  plant_context, \n",
    "                                  [plant.GetFrameByName('ur_tool0')], \n",
    "                                  collision_free=True)\n",
    "\n",
    "sample_handle = partial(task_space_sampler, \n",
    "                        limits = [np.array([-0.2,-0.5, 0.1]), np.array([1,0.5, 1])],\n",
    "                        ik_solver =ik_solver_S,\n",
    "                        )"
   ]
  },
  {
   "cell_type": "code",
   "execution_count": 8,
   "metadata": {},
   "outputs": [
    {
     "name": "stderr",
     "output_type": "stream",
     "text": [
      "INFO:drake:Allocating contexts to support 20 parallel queries given omp_num_threads 20 omp_max_threads 20 and omp_thread_limit 2147483647 OpenMP enabled in build? true\n"
     ]
    },
    {
     "name": "stdout",
     "output_type": "stream",
     "text": [
      "logdir created\n",
      "[18:41:37] [VisCliqueDecomp] Attempting to cover 75.0 '%' of Cfree \n"
     ]
    }
   ],
   "source": [
    "N = 500\n",
    "eps = 0.25\n",
    "add_shelf = True\n",
    "add_gripper = True\n",
    "seed = 1\n",
    "max_iterations_clique = 15\n",
    "min_clique_size = 10\n",
    "approach = 1\n",
    "ap_names = ['redu', 'greedy', 'nx', 'cvx_hull', '_cvxh_e_sdd_']\n",
    "extend_cliques = False\n",
    "\n",
    "require_sample_point_is_contained = True\n",
    "iteration_limit = 1\n",
    "configuration_space_margin = 1.e-3\n",
    "termination_threshold = -1\n",
    "num_collision_infeasible_samples = 19\n",
    "relative_termination_threshold = 0.02\n",
    "\n",
    "pts_coverage_estimator = 5000\n",
    "cfg = {'add_shelf': add_shelf,\n",
    "        'add_gripper': add_gripper,\n",
    "        'seed': seed,\n",
    "        'N': N,\n",
    "        'eps': eps,\n",
    "        'max_iterations_clique': max_iterations_clique,\n",
    "        'approach': approach,\n",
    "        'extend_cliques': extend_cliques,\n",
    "        'require_sample_point_is_contained':require_sample_point_is_contained,\n",
    "        'iteration_limit': iteration_limit,\n",
    "        'configuration_space_margin':configuration_space_margin,\n",
    "        'termination_threshold':termination_threshold,\n",
    "        'num_collision_infeasible_samples':num_collision_infeasible_samples,\n",
    "        'relative_termination_threshold':relative_termination_threshold,\n",
    "        'pts_coverage_estimator':pts_coverage_estimator}\n",
    "robot_instances = [plant.GetModelInstanceByName(\"ur0\"), plant.GetModelInstanceByName(\"schunk0\")]\n",
    "\n",
    "checker = SceneGraphCollisionChecker(model = diagram.Clone(), \n",
    "                robot_model_instances = robot_instances,\n",
    "                distance_function_weights =  [1] * plant.num_positions(),\n",
    "                #configuration_distance_function = _configuration_distance,\n",
    "                edge_step_size = 0.125)\n",
    "\n",
    "\n",
    "scaler = 1 #np.array([0.8, 1., 0.8, 1, 0.8, 1, 0.8]) \n",
    "q_min = plant.GetPositionLowerLimits()*scaler\n",
    "q_max =  plant.GetPositionUpperLimits()*scaler\n",
    "\n",
    "col_func_handle_ = get_col_func(plant, plant_context)\n",
    "sample_cfree = get_sample_cfree_handle(q_min,q_max, col_func_handle_)\n",
    "estimate_coverage = get_coverage_estimator(sample_cfree, pts = pts_coverage_estimator)\n",
    "\n",
    "\n",
    "\n",
    "snopt_iris_options = IrisOptions()\n",
    "snopt_iris_options.require_sample_point_is_contained = require_sample_point_is_contained\n",
    "snopt_iris_options.iteration_limit = iteration_limit\n",
    "snopt_iris_options.configuration_space_margin = configuration_space_margin\n",
    "snopt_iris_options.termination_threshold = termination_threshold\n",
    "snopt_iris_options.num_collision_infeasible_samples = num_collision_infeasible_samples\n",
    "snopt_iris_options.relative_termination_threshold = relative_termination_threshold\n",
    "\n",
    "vgraph_handle = partial(vgraph, checker = checker, parallelize = True) \n",
    "clogger = CliqueApproachLogger(f\"TASKSPACE_5dof_ur_{'shelf' if add_shelf else 'noshelf'}\",\n",
    "                                f\"{ap_names[approach]}\", \n",
    "                                estimate_coverage=estimate_coverage, \n",
    "                                cfg_dict=cfg)\n",
    "\n",
    "iris_handle = partial(SNOPT_IRIS_ellipsoid_parallel,\n",
    "                        region_obstacles = [],\n",
    "                        logger = clogger, \n",
    "                        plant_builder = partial(env_builder, cfg=cfg),\n",
    "                        snoptiris_options = snopt_iris_options,\n",
    "                        estimate_coverage = estimate_coverage,\n",
    "                        coverage_threshold = 1- eps)\n",
    "    \n",
    "vcd = VisCliqueInflation(N, \n",
    "                    eps,\n",
    "                    max_iterations=max_iterations_clique,\n",
    "                    sample_cfree = sample_handle,\n",
    "                    col_handle= col_func_handle_,\n",
    "                    build_vgraph=vgraph_handle,\n",
    "                    iris_w_obstacles=iris_handle,\n",
    "                    verbose = True,\n",
    "                    logger=clogger,\n",
    "                    approach=approach,\n",
    "                    extend_cliques=extend_cliques,\n",
    "                    min_clique_size=min_clique_size\n",
    "                    )"
   ]
  },
  {
   "cell_type": "code",
   "execution_count": 9,
   "metadata": {},
   "outputs": [
    {
     "name": "stderr",
     "output_type": "stream",
     "text": [
      "100%|██████████| 500/500 [05:11<00:00,  1.61it/s]\n"
     ]
    },
    {
     "name": "stdout",
     "output_type": "stream",
     "text": [
      "[18:46:59] [VisCliqueDecomp] Found  7  cliques\n"
     ]
    },
    {
     "name": "stderr",
     "output_type": "stream",
     "text": [
      "WARNING:drake:/home/peter/git/drake_vgraphbuild_russ/drake-build/install/lib/python3.8/site-packages/pydrake/common/../../../../../share/drake/manipulation/models/ur3e/ur3e_cylinder_weld_wrist.urdf:287: warning: Skipping transmission since it's attached to a fixed joint \"ur_wrist_3_joint\".\n",
      "WARNING:drake:/home/peter/git/drake_vgraphbuild_russ/drake-build/install/lib/python3.8/site-packages/pydrake/common/../../../../../share/drake/manipulation/models/ur3e/ur3e_cylinder_weld_wrist.urdf:287: warning: Skipping transmission since it's attached to a fixed joint \"ur_wrist_3_joint\".\n",
      "WARNING:drake:/home/peter/git/drake_vgraphbuild_russ/drake-build/install/lib/python3.8/site-packages/pydrake/common/../../../../../share/drake/manipulation/models/ur3e/ur3e_cylinder_weld_wrist.urdf:287: warning: Skipping transmission since it's attached to a fixed joint \"ur_wrist_3_joint\".\n",
      "WARNING:drake:/home/peter/git/drake_vgraphbuild_russ/drake-build/install/lib/python3.8/site-packages/pydrake/common/../../../../../share/drake/manipulation/models/ur3e/ur3e_cylinder_weld_wrist.urdf:287: warning: Skipping transmission since it's attached to a fixed joint \"ur_wrist_3_joint\".\n",
      "WARNING:drake:/home/peter/git/drake_vgraphbuild_russ/drake-build/install/lib/python3.8/site-packages/pydrake/common/../../../../../share/drake/manipulation/models/ur3e/ur3e_cylinder_weld_wrist.urdf:287: warning: Skipping transmission since it's attached to a fixed joint \"ur_wrist_3_joint\".\n",
      "WARNING:drake:/home/peter/git/drake_vgraphbuild_russ/drake-build/install/lib/python3.8/site-packages/pydrake/common/../../../../../share/drake/manipulation/models/ur3e/ur3e_cylinder_weld_wrist.urdf:287: warning: Skipping transmission since it's attached to a fixed joint \"ur_wrist_3_joint\".\n",
      "WARNING:drake:/home/peter/git/drake_vgraphbuild_russ/drake-build/install/lib/python3.8/site-packages/pydrake/common/../../../../../share/drake/manipulation/models/ur3e/ur3e_cylinder_weld_wrist.urdf:287: warning: Skipping transmission since it's attached to a fixed joint \"ur_wrist_3_joint\".\n",
      "WARNING:drake:/home/peter/git/drake_vgraphbuild_russ/drake-build/install/lib/python3.8/site-packages/pydrake/common/../../../../../share/drake/manipulation/models/ur3e/ur3e_cylinder_weld_wrist.urdf:287: warning: Skipping transmission since it's attached to a fixed joint \"ur_wrist_3_joint\".\n",
      "WARNING:drake:/home/peter/git/drake_vgraphbuild_russ/drake-build/install/lib/python3.8/site-packages/pydrake/common/../../../../../share/drake/manipulation/models/ur3e/ur3e_cylinder_weld_wrist.urdf:287: warning: Skipping transmission since it's attached to a fixed joint \"ur_wrist_3_joint\".\n",
      "WARNING:drake:/home/peter/git/drake_vgraphbuild_russ/drake-build/install/lib/python3.8/site-packages/pydrake/common/../../../../../share/drake/manipulation/models/ur3e/ur3e_cylinder_weld_wrist.urdf:287: warning: Skipping transmission since it's attached to a fixed joint \"ur_wrist_3_joint\".\n",
      "WARNING:drake:/home/peter/git/drake_vgraphbuild_russ/drake-build/install/lib/python3.8/site-packages/pydrake/common/../../../../../share/drake/manipulation/models/ur3e/ur3e_cylinder_weld_wrist.urdf:287: warning: Skipping transmission since it's attached to a fixed joint \"ur_wrist_3_joint\".\n",
      "WARNING:drake:/home/peter/git/drake_vgraphbuild_russ/drake-build/install/lib/python3.8/site-packages/pydrake/common/../../../../../share/drake/manipulation/models/ur3e/ur3e_cylinder_weld_wrist.urdf:287: warning: Skipping transmission since it's attached to a fixed joint \"ur_wrist_3_joint\".\n",
      "WARNING:drake:/home/peter/git/drake_vgraphbuild_russ/drake-build/install/lib/python3.8/site-packages/pydrake/common/../../../../../share/drake/manipulation/models/ur3e/ur3e_cylinder_weld_wrist.urdf:287: warning: Skipping transmission since it's attached to a fixed joint \"ur_wrist_3_joint\".\n",
      "WARNING:drake:/home/peter/git/drake_vgraphbuild_russ/drake-build/install/lib/python3.8/site-packages/pydrake/common/../../../../../share/drake/manipulation/models/ur3e/ur3e_cylinder_weld_wrist.urdf:287: warning: Skipping transmission since it's attached to a fixed joint \"ur_wrist_3_joint\".\n",
      "WARNING:drake:/home/peter/git/drake_vgraphbuild_russ/drake-build/install/lib/python3.8/site-packages/pydrake/common/../../../../../share/drake/manipulation/models/ur3e/ur3e_cylinder_weld_wrist.urdf:287: warning: Skipping transmission since it's attached to a fixed joint \"ur_wrist_3_joint\".\n",
      "WARNING:drake:/home/peter/git/drake_vgraphbuild_russ/drake-build/install/lib/python3.8/site-packages/pydrake/common/../../../../../share/drake/manipulation/models/ur3e/ur3e_cylinder_weld_wrist.urdf:287: warning: Skipping transmission since it's attached to a fixed joint \"ur_wrist_3_joint\".\n",
      "WARNING:drake:/home/peter/git/drake_vgraphbuild_russ/drake-build/install/lib/python3.8/site-packages/pydrake/common/../../../../../share/drake/manipulation/models/ur3e/ur3e_cylinder_weld_wrist.urdf:287: warning: Skipping transmission since it's attached to a fixed joint \"ur_wrist_3_joint\".\n",
      "WARNING:drake:/home/peter/git/drake_vgraphbuild_russ/drake-build/install/lib/python3.8/site-packages/pydrake/common/../../../../../share/drake/manipulation/models/ur3e/ur3e_cylinder_weld_wrist.urdf:287: warning: Skipping transmission since it's attached to a fixed joint \"ur_wrist_3_joint\".\n",
      "INFO:drake:IrisInConfigurationSpace iteration 0\n",
      "INFO:drake:IrisInConfigurationSpace iteration 0\n",
      "INFO:drake:IrisInConfigurationSpace iteration 0\n",
      "INFO:drake:IrisInConfigurationSpace iteration 0\n",
      "INFO:drake:IrisInConfigurationSpace iteration 0\n",
      "INFO:drake:IrisInConfigurationSpace iteration 0\n",
      "INFO:drake:IrisInConfigurationSpace iteration 0\n"
     ]
    },
    {
     "name": "stdout",
     "output_type": "stream",
     "text": [
      "[SNOPT IRIS Worker]: Region:0 / 1\n",
      "[SNOPT IRIS Worker]: Region:0 / 1\n",
      "[SNOPT IRIS Worker]: Region:0 / 1\n",
      "[SNOPT IRIS Worker]: Region:0 / 1\n",
      "[SNOPT IRIS Worker]: Region:0 / 1\n",
      "[SNOPT IRIS Worker]: Region:0 / 1\n",
      "[SNOPT IRIS Worker]: Region:0 / 1\n"
     ]
    },
    {
     "name": "stderr",
     "output_type": "stream",
     "text": [
      "100%|██████████| 500/500 [08:05<00:00,  1.03it/s]\n"
     ]
    },
    {
     "name": "stdout",
     "output_type": "stream",
     "text": [
      "[18:56:20] [VisCliqueDecomp] Found  13  cliques\n"
     ]
    },
    {
     "name": "stderr",
     "output_type": "stream",
     "text": [
      "WARNING:drake:/home/peter/git/drake_vgraphbuild_russ/drake-build/install/lib/python3.8/site-packages/pydrake/common/../../../../../share/drake/manipulation/models/ur3e/ur3e_cylinder_weld_wrist.urdf:287: warning: Skipping transmission since it's attached to a fixed joint \"ur_wrist_3_joint\".\n",
      "WARNING:drake:/home/peter/git/drake_vgraphbuild_russ/drake-build/install/lib/python3.8/site-packages/pydrake/common/../../../../../share/drake/manipulation/models/ur3e/ur3e_cylinder_weld_wrist.urdf:287: warning: Skipping transmission since it's attached to a fixed joint \"ur_wrist_3_joint\".\n",
      "WARNING:drake:/home/peter/git/drake_vgraphbuild_russ/drake-build/install/lib/python3.8/site-packages/pydrake/common/../../../../../share/drake/manipulation/models/ur3e/ur3e_cylinder_weld_wrist.urdf:287: warning: Skipping transmission since it's attached to a fixed joint \"ur_wrist_3_joint\".\n",
      "WARNING:drake:/home/peter/git/drake_vgraphbuild_russ/drake-build/install/lib/python3.8/site-packages/pydrake/common/../../../../../share/drake/manipulation/models/ur3e/ur3e_cylinder_weld_wrist.urdf:287: warning: Skipping transmission since it's attached to a fixed joint \"ur_wrist_3_joint\".\n",
      "WARNING:drake:/home/peter/git/drake_vgraphbuild_russ/drake-build/install/lib/python3.8/site-packages/pydrake/common/../../../../../share/drake/manipulation/models/ur3e/ur3e_cylinder_weld_wrist.urdf:287: warning: Skipping transmission since it's attached to a fixed joint \"ur_wrist_3_joint\".\n",
      "WARNING:drake:/home/peter/git/drake_vgraphbuild_russ/drake-build/install/lib/python3.8/site-packages/pydrake/common/../../../../../share/drake/manipulation/models/ur3e/ur3e_cylinder_weld_wrist.urdf:287: warning: Skipping transmission since it's attached to a fixed joint \"ur_wrist_3_joint\".\n",
      "WARNING:drake:/home/peter/git/drake_vgraphbuild_russ/drake-build/install/lib/python3.8/site-packages/pydrake/common/../../../../../share/drake/manipulation/models/ur3e/ur3e_cylinder_weld_wrist.urdf:287: warning: Skipping transmission since it's attached to a fixed joint \"ur_wrist_3_joint\".\n",
      "WARNING:drake:/home/peter/git/drake_vgraphbuild_russ/drake-build/install/lib/python3.8/site-packages/pydrake/common/../../../../../share/drake/manipulation/models/ur3e/ur3e_cylinder_weld_wrist.urdf:287: warning: Skipping transmission since it's attached to a fixed joint \"ur_wrist_3_joint\".\n",
      "WARNING:drake:/home/peter/git/drake_vgraphbuild_russ/drake-build/install/lib/python3.8/site-packages/pydrake/common/../../../../../share/drake/manipulation/models/ur3e/ur3e_cylinder_weld_wrist.urdf:287: warning: Skipping transmission since it's attached to a fixed joint \"ur_wrist_3_joint\".\n",
      "WARNING:drake:/home/peter/git/drake_vgraphbuild_russ/drake-build/install/lib/python3.8/site-packages/pydrake/common/../../../../../share/drake/manipulation/models/ur3e/ur3e_cylinder_weld_wrist.urdf:287: warning: Skipping transmission since it's attached to a fixed joint \"ur_wrist_3_joint\".\n",
      "WARNING:drake:/home/peter/git/drake_vgraphbuild_russ/drake-build/install/lib/python3.8/site-packages/pydrake/common/../../../../../share/drake/manipulation/models/ur3e/ur3e_cylinder_weld_wrist.urdf:287: warning: Skipping transmission since it's attached to a fixed joint \"ur_wrist_3_joint\".\n",
      "WARNING:drake:/home/peter/git/drake_vgraphbuild_russ/drake-build/install/lib/python3.8/site-packages/pydrake/common/../../../../../share/drake/manipulation/models/ur3e/ur3e_cylinder_weld_wrist.urdf:287: warning: Skipping transmission since it's attached to a fixed joint \"ur_wrist_3_joint\".\n",
      "WARNING:drake:/home/peter/git/drake_vgraphbuild_russ/drake-build/install/lib/python3.8/site-packages/pydrake/common/../../../../../share/drake/manipulation/models/ur3e/ur3e_cylinder_weld_wrist.urdf:287: warning: Skipping transmission since it's attached to a fixed joint \"ur_wrist_3_joint\".\n",
      "WARNING:drake:/home/peter/git/drake_vgraphbuild_russ/drake-build/install/lib/python3.8/site-packages/pydrake/common/../../../../../share/drake/manipulation/models/ur3e/ur3e_cylinder_weld_wrist.urdf:287: warning: Skipping transmission since it's attached to a fixed joint \"ur_wrist_3_joint\".\n",
      "WARNING:drake:/home/peter/git/drake_vgraphbuild_russ/drake-build/install/lib/python3.8/site-packages/pydrake/common/../../../../../share/drake/manipulation/models/ur3e/ur3e_cylinder_weld_wrist.urdf:287: warning: Skipping transmission since it's attached to a fixed joint \"ur_wrist_3_joint\".\n",
      "WARNING:drake:/home/peter/git/drake_vgraphbuild_russ/drake-build/install/lib/python3.8/site-packages/pydrake/common/../../../../../share/drake/manipulation/models/ur3e/ur3e_cylinder_weld_wrist.urdf:287: warning: Skipping transmission since it's attached to a fixed joint \"ur_wrist_3_joint\".\n",
      "WARNING:drake:/home/peter/git/drake_vgraphbuild_russ/drake-build/install/lib/python3.8/site-packages/pydrake/common/../../../../../share/drake/manipulation/models/ur3e/ur3e_cylinder_weld_wrist.urdf:287: warning: Skipping transmission since it's attached to a fixed joint \"ur_wrist_3_joint\".\n",
      "WARNING:drake:/home/peter/git/drake_vgraphbuild_russ/drake-build/install/lib/python3.8/site-packages/pydrake/common/../../../../../share/drake/manipulation/models/ur3e/ur3e_cylinder_weld_wrist.urdf:287: warning: Skipping transmission since it's attached to a fixed joint \"ur_wrist_3_joint\".\n",
      "INFO:drake:IrisInConfigurationSpace iteration 0\n",
      "INFO:drake:IrisInConfigurationSpace iteration 0\n",
      "INFO:drake:IrisInConfigurationSpace iteration 0\n",
      "INFO:drake:IrisInConfigurationSpace iteration 0\n",
      "INFO:drake:IrisInConfigurationSpace iteration 0\n",
      "INFO:drake:IrisInConfigurationSpace iteration 0\n",
      "INFO:drake:IrisInConfigurationSpace iteration 0\n",
      "INFO:drake:IrisInConfigurationSpace iteration 0\n",
      "INFO:drake:IrisInConfigurationSpace iteration 0\n",
      "INFO:drake:IrisInConfigurationSpace iteration 0\n",
      "INFO:drake:IrisInConfigurationSpace iteration 0\n",
      "INFO:drake:IrisInConfigurationSpace iteration 0\n",
      "INFO:drake:IrisInConfigurationSpace iteration 0\n"
     ]
    },
    {
     "name": "stdout",
     "output_type": "stream",
     "text": [
      "[SNOPT IRIS Worker]: Region:0 / 1\n",
      "[SNOPT IRIS Worker]: Region:0 / 1\n",
      "[SNOPT IRIS Worker]: Region:0 / 1\n",
      "[SNOPT IRIS Worker]: Region:0 / 1\n",
      "[SNOPT IRIS Worker]: Region:0 / 1\n",
      "[SNOPT IRIS Worker]: Region:0 / 1\n",
      "[SNOPT IRIS Worker]: Region:0 / 1\n",
      "[SNOPT IRIS Worker]: Region:0 / 1\n",
      "[SNOPT IRIS Worker]: Region:0 / 1\n",
      "[SNOPT IRIS Worker]: Region:0 / 1\n",
      "[SNOPT IRIS Worker]: Region:0 / 1\n",
      "[SNOPT IRIS Worker]: Region:0 / 1\n",
      "[SNOPT IRIS Worker]: Region:0 / 1\n"
     ]
    },
    {
     "name": "stderr",
     "output_type": "stream",
     "text": [
      "100%|██████████| 500/500 [11:08<00:00,  1.34s/it]\n"
     ]
    },
    {
     "name": "stdout",
     "output_type": "stream",
     "text": [
      "[19:08:58] [VisCliqueDecomp] Found  13  cliques\n"
     ]
    },
    {
     "name": "stderr",
     "output_type": "stream",
     "text": [
      "WARNING:drake:/home/peter/git/drake_vgraphbuild_russ/drake-build/install/lib/python3.8/site-packages/pydrake/common/../../../../../share/drake/manipulation/models/ur3e/ur3e_cylinder_weld_wrist.urdf:287: warning: Skipping transmission since it's attached to a fixed joint \"ur_wrist_3_joint\".\n",
      "WARNING:drake:/home/peter/git/drake_vgraphbuild_russ/drake-build/install/lib/python3.8/site-packages/pydrake/common/../../../../../share/drake/manipulation/models/ur3e/ur3e_cylinder_weld_wrist.urdf:287: warning: Skipping transmission since it's attached to a fixed joint \"ur_wrist_3_joint\".\n",
      "WARNING:drake:/home/peter/git/drake_vgraphbuild_russ/drake-build/install/lib/python3.8/site-packages/pydrake/common/../../../../../share/drake/manipulation/models/ur3e/ur3e_cylinder_weld_wrist.urdf:287: warning: Skipping transmission since it's attached to a fixed joint \"ur_wrist_3_joint\".\n",
      "WARNING:drake:/home/peter/git/drake_vgraphbuild_russ/drake-build/install/lib/python3.8/site-packages/pydrake/common/../../../../../share/drake/manipulation/models/ur3e/ur3e_cylinder_weld_wrist.urdf:287: warning: Skipping transmission since it's attached to a fixed joint \"ur_wrist_3_joint\".\n",
      "WARNING:drake:/home/peter/git/drake_vgraphbuild_russ/drake-build/install/lib/python3.8/site-packages/pydrake/common/../../../../../share/drake/manipulation/models/ur3e/ur3e_cylinder_weld_wrist.urdf:287: warning: Skipping transmission since it's attached to a fixed joint \"ur_wrist_3_joint\".\n",
      "WARNING:drake:/home/peter/git/drake_vgraphbuild_russ/drake-build/install/lib/python3.8/site-packages/pydrake/common/../../../../../share/drake/manipulation/models/ur3e/ur3e_cylinder_weld_wrist.urdf:287: warning: Skipping transmission since it's attached to a fixed joint \"ur_wrist_3_joint\".\n",
      "WARNING:drake:/home/peter/git/drake_vgraphbuild_russ/drake-build/install/lib/python3.8/site-packages/pydrake/common/../../../../../share/drake/manipulation/models/ur3e/ur3e_cylinder_weld_wrist.urdf:287: warning: Skipping transmission since it's attached to a fixed joint \"ur_wrist_3_joint\".\n",
      "WARNING:drake:/home/peter/git/drake_vgraphbuild_russ/drake-build/install/lib/python3.8/site-packages/pydrake/common/../../../../../share/drake/manipulation/models/ur3e/ur3e_cylinder_weld_wrist.urdf:287: warning: Skipping transmission since it's attached to a fixed joint \"ur_wrist_3_joint\".\n",
      "WARNING:drake:/home/peter/git/drake_vgraphbuild_russ/drake-build/install/lib/python3.8/site-packages/pydrake/common/../../../../../share/drake/manipulation/models/ur3e/ur3e_cylinder_weld_wrist.urdf:287: warning: Skipping transmission since it's attached to a fixed joint \"ur_wrist_3_joint\".\n",
      "WARNING:drake:/home/peter/git/drake_vgraphbuild_russ/drake-build/install/lib/python3.8/site-packages/pydrake/common/../../../../../share/drake/manipulation/models/ur3e/ur3e_cylinder_weld_wrist.urdf:287: warning: Skipping transmission since it's attached to a fixed joint \"ur_wrist_3_joint\".\n",
      "WARNING:drake:/home/peter/git/drake_vgraphbuild_russ/drake-build/install/lib/python3.8/site-packages/pydrake/common/../../../../../share/drake/manipulation/models/ur3e/ur3e_cylinder_weld_wrist.urdf:287: warning: Skipping transmission since it's attached to a fixed joint \"ur_wrist_3_joint\".\n",
      "WARNING:drake:/home/peter/git/drake_vgraphbuild_russ/drake-build/install/lib/python3.8/site-packages/pydrake/common/../../../../../share/drake/manipulation/models/ur3e/ur3e_cylinder_weld_wrist.urdf:287: warning: Skipping transmission since it's attached to a fixed joint \"ur_wrist_3_joint\".\n",
      "WARNING:drake:/home/peter/git/drake_vgraphbuild_russ/drake-build/install/lib/python3.8/site-packages/pydrake/common/../../../../../share/drake/manipulation/models/ur3e/ur3e_cylinder_weld_wrist.urdf:287: warning: Skipping transmission since it's attached to a fixed joint \"ur_wrist_3_joint\".\n",
      "WARNING:drake:/home/peter/git/drake_vgraphbuild_russ/drake-build/install/lib/python3.8/site-packages/pydrake/common/../../../../../share/drake/manipulation/models/ur3e/ur3e_cylinder_weld_wrist.urdf:287: warning: Skipping transmission since it's attached to a fixed joint \"ur_wrist_3_joint\".\n",
      "WARNING:drake:/home/peter/git/drake_vgraphbuild_russ/drake-build/install/lib/python3.8/site-packages/pydrake/common/../../../../../share/drake/manipulation/models/ur3e/ur3e_cylinder_weld_wrist.urdf:287: warning: Skipping transmission since it's attached to a fixed joint \"ur_wrist_3_joint\".\n",
      "WARNING:drake:/home/peter/git/drake_vgraphbuild_russ/drake-build/install/lib/python3.8/site-packages/pydrake/common/../../../../../share/drake/manipulation/models/ur3e/ur3e_cylinder_weld_wrist.urdf:287: warning: Skipping transmission since it's attached to a fixed joint \"ur_wrist_3_joint\".\n",
      "WARNING:drake:/home/peter/git/drake_vgraphbuild_russ/drake-build/install/lib/python3.8/site-packages/pydrake/common/../../../../../share/drake/manipulation/models/ur3e/ur3e_cylinder_weld_wrist.urdf:287: warning: Skipping transmission since it's attached to a fixed joint \"ur_wrist_3_joint\".\n",
      "WARNING:drake:/home/peter/git/drake_vgraphbuild_russ/drake-build/install/lib/python3.8/site-packages/pydrake/common/../../../../../share/drake/manipulation/models/ur3e/ur3e_cylinder_weld_wrist.urdf:287: warning: Skipping transmission since it's attached to a fixed joint \"ur_wrist_3_joint\".\n",
      "INFO:drake:IrisInConfigurationSpace iteration 0\n",
      "INFO:drake:IrisInConfigurationSpace iteration 0\n",
      "INFO:drake:IrisInConfigurationSpace iteration 0\n",
      "INFO:drake:IrisInConfigurationSpace iteration 0\n",
      "INFO:drake:IrisInConfigurationSpace iteration 0\n",
      "INFO:drake:IrisInConfigurationSpace iteration 0\n",
      "INFO:drake:IrisInConfigurationSpace iteration 0\n",
      "INFO:drake:IrisInConfigurationSpace iteration 0\n",
      "INFO:drake:IrisInConfigurationSpace iteration 0\n",
      "INFO:drake:IrisInConfigurationSpace iteration 0\n",
      "INFO:drake:IrisInConfigurationSpace iteration 0\n",
      "INFO:drake:IrisInConfigurationSpace iteration 0\n",
      "INFO:drake:IrisInConfigurationSpace iteration 0\n"
     ]
    },
    {
     "name": "stdout",
     "output_type": "stream",
     "text": [
      "[SNOPT IRIS Worker]: Region:0 / 1\n",
      "[SNOPT IRIS Worker]: Region:0 / 1\n",
      "[SNOPT IRIS Worker]: Region:0 / 1\n",
      "[SNOPT IRIS Worker]: Region:0 / 1\n",
      "[SNOPT IRIS Worker]: Region:0 / 1\n",
      "[SNOPT IRIS Worker]: Region:0 / 1\n",
      "[SNOPT IRIS Worker]: Region:0 / 1\n",
      "[SNOPT IRIS Worker]: Region:0 / 1\n",
      "[SNOPT IRIS Worker]: Region:0 / 1\n",
      "[SNOPT IRIS Worker]: Region:0 / 1\n",
      "[SNOPT IRIS Worker]: Region:0 / 1\n",
      "[SNOPT IRIS Worker]: Region:0 / 1\n",
      "[SNOPT IRIS Worker]: Region:0 / 1\n"
     ]
    },
    {
     "name": "stderr",
     "output_type": "stream",
     "text": [
      "100%|██████████| 500/500 [13:55<00:00,  1.67s/it]\n"
     ]
    },
    {
     "name": "stdout",
     "output_type": "stream",
     "text": [
      "[19:24:09] [VisCliqueDecomp] Found  14  cliques\n"
     ]
    },
    {
     "name": "stderr",
     "output_type": "stream",
     "text": [
      "WARNING:drake:/home/peter/git/drake_vgraphbuild_russ/drake-build/install/lib/python3.8/site-packages/pydrake/common/../../../../../share/drake/manipulation/models/ur3e/ur3e_cylinder_weld_wrist.urdf:287: warning: Skipping transmission since it's attached to a fixed joint \"ur_wrist_3_joint\".\n",
      "WARNING:drake:/home/peter/git/drake_vgraphbuild_russ/drake-build/install/lib/python3.8/site-packages/pydrake/common/../../../../../share/drake/manipulation/models/ur3e/ur3e_cylinder_weld_wrist.urdf:287: warning: Skipping transmission since it's attached to a fixed joint \"ur_wrist_3_joint\".\n",
      "WARNING:drake:/home/peter/git/drake_vgraphbuild_russ/drake-build/install/lib/python3.8/site-packages/pydrake/common/../../../../../share/drake/manipulation/models/ur3e/ur3e_cylinder_weld_wrist.urdf:287: warning: Skipping transmission since it's attached to a fixed joint \"ur_wrist_3_joint\".\n",
      "WARNING:drake:/home/peter/git/drake_vgraphbuild_russ/drake-build/install/lib/python3.8/site-packages/pydrake/common/../../../../../share/drake/manipulation/models/ur3e/ur3e_cylinder_weld_wrist.urdf:287: warning: Skipping transmission since it's attached to a fixed joint \"ur_wrist_3_joint\".\n",
      "WARNING:drake:/home/peter/git/drake_vgraphbuild_russ/drake-build/install/lib/python3.8/site-packages/pydrake/common/../../../../../share/drake/manipulation/models/ur3e/ur3e_cylinder_weld_wrist.urdf:287: warning: Skipping transmission since it's attached to a fixed joint \"ur_wrist_3_joint\".\n",
      "WARNING:drake:/home/peter/git/drake_vgraphbuild_russ/drake-build/install/lib/python3.8/site-packages/pydrake/common/../../../../../share/drake/manipulation/models/ur3e/ur3e_cylinder_weld_wrist.urdf:287: warning: Skipping transmission since it's attached to a fixed joint \"ur_wrist_3_joint\".\n",
      "WARNING:drake:/home/peter/git/drake_vgraphbuild_russ/drake-build/install/lib/python3.8/site-packages/pydrake/common/../../../../../share/drake/manipulation/models/ur3e/ur3e_cylinder_weld_wrist.urdf:287: warning: Skipping transmission since it's attached to a fixed joint \"ur_wrist_3_joint\".\n",
      "WARNING:drake:/home/peter/git/drake_vgraphbuild_russ/drake-build/install/lib/python3.8/site-packages/pydrake/common/../../../../../share/drake/manipulation/models/ur3e/ur3e_cylinder_weld_wrist.urdf:287: warning: Skipping transmission since it's attached to a fixed joint \"ur_wrist_3_joint\".\n",
      "WARNING:drake:/home/peter/git/drake_vgraphbuild_russ/drake-build/install/lib/python3.8/site-packages/pydrake/common/../../../../../share/drake/manipulation/models/ur3e/ur3e_cylinder_weld_wrist.urdf:287: warning: Skipping transmission since it's attached to a fixed joint \"ur_wrist_3_joint\".\n",
      "WARNING:drake:/home/peter/git/drake_vgraphbuild_russ/drake-build/install/lib/python3.8/site-packages/pydrake/common/../../../../../share/drake/manipulation/models/ur3e/ur3e_cylinder_weld_wrist.urdf:287: warning: Skipping transmission since it's attached to a fixed joint \"ur_wrist_3_joint\".\n",
      "WARNING:drake:/home/peter/git/drake_vgraphbuild_russ/drake-build/install/lib/python3.8/site-packages/pydrake/common/../../../../../share/drake/manipulation/models/ur3e/ur3e_cylinder_weld_wrist.urdf:287: warning: Skipping transmission since it's attached to a fixed joint \"ur_wrist_3_joint\".\n",
      "WARNING:drake:/home/peter/git/drake_vgraphbuild_russ/drake-build/install/lib/python3.8/site-packages/pydrake/common/../../../../../share/drake/manipulation/models/ur3e/ur3e_cylinder_weld_wrist.urdf:287: warning: Skipping transmission since it's attached to a fixed joint \"ur_wrist_3_joint\".\n",
      "WARNING:drake:/home/peter/git/drake_vgraphbuild_russ/drake-build/install/lib/python3.8/site-packages/pydrake/common/../../../../../share/drake/manipulation/models/ur3e/ur3e_cylinder_weld_wrist.urdf:287: warning: Skipping transmission since it's attached to a fixed joint \"ur_wrist_3_joint\".\n",
      "WARNING:drake:/home/peter/git/drake_vgraphbuild_russ/drake-build/install/lib/python3.8/site-packages/pydrake/common/../../../../../share/drake/manipulation/models/ur3e/ur3e_cylinder_weld_wrist.urdf:287: warning: Skipping transmission since it's attached to a fixed joint \"ur_wrist_3_joint\".\n",
      "WARNING:drake:/home/peter/git/drake_vgraphbuild_russ/drake-build/install/lib/python3.8/site-packages/pydrake/common/../../../../../share/drake/manipulation/models/ur3e/ur3e_cylinder_weld_wrist.urdf:287: warning: Skipping transmission since it's attached to a fixed joint \"ur_wrist_3_joint\".\n",
      "WARNING:drake:/home/peter/git/drake_vgraphbuild_russ/drake-build/install/lib/python3.8/site-packages/pydrake/common/../../../../../share/drake/manipulation/models/ur3e/ur3e_cylinder_weld_wrist.urdf:287: warning: Skipping transmission since it's attached to a fixed joint \"ur_wrist_3_joint\".\n",
      "WARNING:drake:/home/peter/git/drake_vgraphbuild_russ/drake-build/install/lib/python3.8/site-packages/pydrake/common/../../../../../share/drake/manipulation/models/ur3e/ur3e_cylinder_weld_wrist.urdf:287: warning: Skipping transmission since it's attached to a fixed joint \"ur_wrist_3_joint\".\n",
      "WARNING:drake:/home/peter/git/drake_vgraphbuild_russ/drake-build/install/lib/python3.8/site-packages/pydrake/common/../../../../../share/drake/manipulation/models/ur3e/ur3e_cylinder_weld_wrist.urdf:287: warning: Skipping transmission since it's attached to a fixed joint \"ur_wrist_3_joint\".\n",
      "INFO:drake:IrisInConfigurationSpace iteration 0\n",
      "INFO:drake:IrisInConfigurationSpace iteration 0\n",
      "INFO:drake:IrisInConfigurationSpace iteration 0\n",
      "INFO:drake:IrisInConfigurationSpace iteration 0\n",
      "INFO:drake:IrisInConfigurationSpace iteration 0\n",
      "INFO:drake:IrisInConfigurationSpace iteration 0\n",
      "INFO:drake:IrisInConfigurationSpace iteration 0\n",
      "INFO:drake:IrisInConfigurationSpace iteration 0\n",
      "INFO:drake:IrisInConfigurationSpace iteration 0\n",
      "INFO:drake:IrisInConfigurationSpace iteration 0\n",
      "INFO:drake:IrisInConfigurationSpace iteration 0\n",
      "INFO:drake:IrisInConfigurationSpace iteration 0\n",
      "INFO:drake:IrisInConfigurationSpace iteration 0\n",
      "INFO:drake:IrisInConfigurationSpace iteration 0\n"
     ]
    },
    {
     "name": "stdout",
     "output_type": "stream",
     "text": [
      "[SNOPT IRIS Worker]: Region:0 / 1\n",
      "[SNOPT IRIS Worker]: Region:0 / 1\n",
      "[SNOPT IRIS Worker]: Region:0 / 1\n",
      "[SNOPT IRIS Worker]: Region:0 / 1\n",
      "[SNOPT IRIS Worker]: Region:0 / 1\n",
      "[SNOPT IRIS Worker]: Region:0 / 1\n",
      "[SNOPT IRIS Worker]: Region:0 / 1\n",
      "[SNOPT IRIS Worker]: Region:0 / 1\n",
      "[SNOPT IRIS Worker]: Region:0 / 1\n",
      "[SNOPT IRIS Worker]: Region:0 / 1\n",
      "[SNOPT IRIS Worker]: Region:0 / 1\n",
      "[SNOPT IRIS Worker]: Region:0 / 1\n",
      "[SNOPT IRIS Worker]: Region:0 / 1\n",
      "[SNOPT IRIS Worker]: Region:0 / 1\n"
     ]
    },
    {
     "name": "stderr",
     "output_type": "stream",
     "text": [
      " 15%|█▌        | 76/500 [01:53<10:32,  1.49s/it]\n"
     ]
    },
    {
     "ename": "KeyboardInterrupt",
     "evalue": "",
     "output_type": "error",
     "traceback": [
      "\u001b[0;31m---------------------------------------------------------------------------\u001b[0m",
      "\u001b[0;31mKeyboardInterrupt\u001b[0m                         Traceback (most recent call last)",
      "\u001b[0;32m<ipython-input-9-8db94b86e328>\u001b[0m in \u001b[0;36m<module>\u001b[0;34m\u001b[0m\n\u001b[0;32m----> 1\u001b[0;31m \u001b[0mvcd\u001b[0m\u001b[0;34m.\u001b[0m\u001b[0mrun\u001b[0m\u001b[0;34m(\u001b[0m\u001b[0;34m)\u001b[0m\u001b[0;34m\u001b[0m\u001b[0;34m\u001b[0m\u001b[0m\n\u001b[0m",
      "\u001b[0;32m~/git/cvisiris_examples/visibility_clique_decomposition.py\u001b[0m in \u001b[0;36mrun\u001b[0;34m(self)\u001b[0m\n\u001b[1;32m     63\u001b[0m         \u001b[0;32mwhile\u001b[0m \u001b[0mit\u001b[0m\u001b[0;34m<\u001b[0m\u001b[0mself\u001b[0m\u001b[0;34m.\u001b[0m\u001b[0mmaxit\u001b[0m\u001b[0;34m:\u001b[0m\u001b[0;34m\u001b[0m\u001b[0;34m\u001b[0m\u001b[0m\n\u001b[1;32m     64\u001b[0m             \u001b[0;31m#sample N points in cfree\u001b[0m\u001b[0;34m\u001b[0m\u001b[0;34m\u001b[0m\u001b[0;34m\u001b[0m\u001b[0m\n\u001b[0;32m---> 65\u001b[0;31m             \u001b[0mpoints\u001b[0m\u001b[0;34m,\u001b[0m \u001b[0msampling_failed\u001b[0m \u001b[0;34m=\u001b[0m \u001b[0mself\u001b[0m\u001b[0;34m.\u001b[0m\u001b[0msample_cfree\u001b[0m\u001b[0;34m(\u001b[0m\u001b[0mint\u001b[0m\u001b[0;34m(\u001b[0m\u001b[0mself\u001b[0m\u001b[0;34m.\u001b[0m\u001b[0mN\u001b[0m\u001b[0;34m/\u001b[0m\u001b[0;34m(\u001b[0m\u001b[0;36m1\u001b[0m\u001b[0;34m+\u001b[0m\u001b[0mit\u001b[0m\u001b[0;34m*\u001b[0m\u001b[0;36m0\u001b[0m\u001b[0;34m)\u001b[0m\u001b[0;34m)\u001b[0m\u001b[0;34m,\u001b[0m \u001b[0mself\u001b[0m\u001b[0;34m.\u001b[0m\u001b[0mM\u001b[0m\u001b[0;34m,\u001b[0m \u001b[0mself\u001b[0m\u001b[0;34m.\u001b[0m\u001b[0mregions\u001b[0m\u001b[0;34m)\u001b[0m\u001b[0;34m\u001b[0m\u001b[0;34m\u001b[0m\u001b[0m\n\u001b[0m\u001b[1;32m     66\u001b[0m             \u001b[0;32mif\u001b[0m \u001b[0msampling_failed\u001b[0m\u001b[0;34m:\u001b[0m\u001b[0;34m\u001b[0m\u001b[0;34m\u001b[0m\u001b[0m\n\u001b[1;32m     67\u001b[0m                 \u001b[0mprint\u001b[0m\u001b[0;34m(\u001b[0m\u001b[0mstrftime\u001b[0m\u001b[0;34m(\u001b[0m\u001b[0;34m\"[%H:%M:%S] \"\u001b[0m\u001b[0;34m,\u001b[0m \u001b[0mgmtime\u001b[0m\u001b[0;34m(\u001b[0m\u001b[0;34m)\u001b[0m\u001b[0;34m)\u001b[0m \u001b[0;34m+\u001b[0m\u001b[0;34mf\"[VisCliqueDecomp] Sampling failed after {self.M} attempts \"\u001b[0m\u001b[0;34m)\u001b[0m\u001b[0;34m\u001b[0m\u001b[0;34m\u001b[0m\u001b[0m\n",
      "\u001b[0;32m<ipython-input-6-a01659fe042b>\u001b[0m in \u001b[0;36mtask_space_sampler\u001b[0;34m(n_points, M, regions, limits, ik_solver, collision_free, MAXIT, q0, t0)\u001b[0m\n\u001b[1;32m     18\u001b[0m             \u001b[0midx_closest\u001b[0m \u001b[0;34m=\u001b[0m \u001b[0mnp\u001b[0m\u001b[0;34m.\u001b[0m\u001b[0margmin\u001b[0m\u001b[0;34m(\u001b[0m\u001b[0mnp\u001b[0m\u001b[0;34m.\u001b[0m\u001b[0mlinalg\u001b[0m\u001b[0;34m.\u001b[0m\u001b[0mnorm\u001b[0m\u001b[0;34m(\u001b[0m\u001b[0mnp\u001b[0m\u001b[0;34m.\u001b[0m\u001b[0marray\u001b[0m\u001b[0;34m(\u001b[0m\u001b[0mt_points\u001b[0m\u001b[0;34m)\u001b[0m\u001b[0;34m-\u001b[0m\u001b[0mt_point\u001b[0m\u001b[0;34m)\u001b[0m\u001b[0;34m)\u001b[0m\u001b[0;34m\u001b[0m\u001b[0;34m\u001b[0m\u001b[0m\n\u001b[1;32m     19\u001b[0m             \u001b[0mq0\u001b[0m \u001b[0;34m=\u001b[0m \u001b[0mq_points\u001b[0m\u001b[0;34m[\u001b[0m\u001b[0midx_closest\u001b[0m\u001b[0;34m]\u001b[0m\u001b[0;34m\u001b[0m\u001b[0;34m\u001b[0m\u001b[0m\n\u001b[0;32m---> 20\u001b[0;31m             res = ik_solver([RigidTransform(RotationMatrix(), t_point)], \n\u001b[0m\u001b[1;32m     21\u001b[0m                             \u001b[0mq0\u001b[0m\u001b[0;34m=\u001b[0m \u001b[0mq0\u001b[0m\u001b[0;34m,\u001b[0m\u001b[0;34m\u001b[0m\u001b[0;34m\u001b[0m\u001b[0m\n\u001b[1;32m     22\u001b[0m                             collision_free = collision_free)\n",
      "\u001b[0;32m<ipython-input-3-ef7129c8e5e3>\u001b[0m in \u001b[0;36msolve_ik_problem\u001b[0;34m(poses, q0, collision_free)\u001b[0m\n\u001b[1;32m     35\u001b[0m         \u001b[0mprog\u001b[0m\u001b[0;34m.\u001b[0m\u001b[0mAddQuadraticErrorCost\u001b[0m\u001b[0;34m(\u001b[0m\u001b[0mnp\u001b[0m\u001b[0;34m.\u001b[0m\u001b[0midentity\u001b[0m\u001b[0;34m(\u001b[0m\u001b[0mlen\u001b[0m\u001b[0;34m(\u001b[0m\u001b[0mq\u001b[0m\u001b[0;34m)\u001b[0m\u001b[0;34m)\u001b[0m\u001b[0;34m,\u001b[0m \u001b[0mq0\u001b[0m\u001b[0;34m,\u001b[0m \u001b[0mq\u001b[0m\u001b[0;34m)\u001b[0m\u001b[0;34m\u001b[0m\u001b[0;34m\u001b[0m\u001b[0m\n\u001b[1;32m     36\u001b[0m         \u001b[0mprog\u001b[0m\u001b[0;34m.\u001b[0m\u001b[0mSetInitialGuess\u001b[0m\u001b[0;34m(\u001b[0m\u001b[0mq\u001b[0m\u001b[0;34m,\u001b[0m \u001b[0mq0\u001b[0m\u001b[0;34m)\u001b[0m\u001b[0;34m\u001b[0m\u001b[0;34m\u001b[0m\u001b[0m\n\u001b[0;32m---> 37\u001b[0;31m         \u001b[0mresult\u001b[0m \u001b[0;34m=\u001b[0m \u001b[0mSolve\u001b[0m\u001b[0;34m(\u001b[0m\u001b[0mik\u001b[0m\u001b[0;34m.\u001b[0m\u001b[0mprog\u001b[0m\u001b[0;34m(\u001b[0m\u001b[0;34m)\u001b[0m\u001b[0;34m)\u001b[0m\u001b[0;34m\u001b[0m\u001b[0;34m\u001b[0m\u001b[0m\n\u001b[0m\u001b[1;32m     38\u001b[0m         \u001b[0;32mif\u001b[0m \u001b[0mresult\u001b[0m\u001b[0;34m.\u001b[0m\u001b[0mis_success\u001b[0m\u001b[0;34m(\u001b[0m\u001b[0;34m)\u001b[0m\u001b[0;34m:\u001b[0m\u001b[0;34m\u001b[0m\u001b[0;34m\u001b[0m\u001b[0m\n\u001b[1;32m     39\u001b[0m                 \u001b[0;32mreturn\u001b[0m \u001b[0mresult\u001b[0m\u001b[0;34m.\u001b[0m\u001b[0mGetSolution\u001b[0m\u001b[0;34m(\u001b[0m\u001b[0mq\u001b[0m\u001b[0;34m)\u001b[0m\u001b[0;34m\u001b[0m\u001b[0;34m\u001b[0m\u001b[0m\n",
      "\u001b[0;31mKeyboardInterrupt\u001b[0m: "
     ]
    },
    {
     "data": {
      "image/png": "[encoded data removed]",
      "text/plain": [
       "<Figure size 720x720 with 1 Axes>"
      ]
     },
     "metadata": {},
     "output_type": "display_data"
    },
    {
     "data": {
      "image/png": "[encoded data removed]",
      "text/plain": [
       "<Figure size 720x720 with 1 Axes>"
      ]
     },
     "metadata": {},
     "output_type": "display_data"
    },
    {
     "data": {
      "image/png": "[encoded data removed]",
      "text/plain": [
       "<Figure size 720x720 with 1 Axes>"
      ]
     },
     "metadata": {},
     "output_type": "display_data"
    },
    {
     "data": {
      "image/png": "[encoded data removed]",
      "text/plain": [
       "<Figure size 720x720 with 1 Axes>"
      ]
     },
     "metadata": {},
     "output_type": "display_data"
    }
   ],
   "source": [
    "vcd.run()"
   ]
  },
  {
   "cell_type": "code",
   "execution_count": null,
   "metadata": {},
   "outputs": [],
   "source": []
  },
  {
   "cell_type": "code",
   "execution_count": null,
   "metadata": {},
   "outputs": [],
   "source": []
  },
  {
   "cell_type": "code",
   "execution_count": null,
   "metadata": {},
   "outputs": [],
   "source": []
  },
  {
   "cell_type": "code",
   "execution_count": null,
   "metadata": {},
   "outputs": [],
   "source": []
  },
  {
   "cell_type": "code",
   "execution_count": 19,
   "metadata": {},
   "outputs": [
    {
     "name": "stdout",
     "output_type": "stream",
     "text": [
      "found point 0\n",
      "found point 1\n",
      "found point 2\n",
      "found point 3\n",
      "found point 4\n",
      "found point 5\n",
      "found point 6\n",
      "found point 7\n",
      "found point 8\n",
      "found point 9\n",
      "found point 10\n",
      "found point 11\n",
      "found point 12\n",
      "found point 13\n",
      "found point 14\n",
      "found point 15\n",
      "found point 16\n",
      "found point 17\n",
      "found point 18\n",
      "found point 19\n",
      "found point 20\n",
      "found point 21\n",
      "found point 22\n",
      "found point 23\n",
      "found point 24\n",
      "found point 25\n",
      "found point 26\n",
      "found point 27\n",
      "found point 28\n",
      "found point 29\n",
      "found point 30\n",
      "found point 31\n",
      "found point 32\n",
      "found point 33\n",
      "found point 34\n",
      "found point 35\n",
      "found point 36\n",
      "found point 37\n",
      "found point 38\n",
      "found point 39\n",
      "found point 40\n",
      "found point 41\n",
      "found point 42\n",
      "found point 43\n",
      "found point 44\n",
      "found point 45\n",
      "found point 46\n",
      "found point 47\n",
      "found point 48\n",
      "found point 49\n",
      "found point 50\n",
      "found point 51\n",
      "found point 52\n",
      "found point 53\n",
      "found point 54\n",
      "found point 55\n",
      "found point 56\n",
      "found point 57\n",
      "found point 58\n",
      "found point 59\n",
      "found point 60\n",
      "found point 61\n",
      "found point 62\n",
      "found point 63\n",
      "found point 64\n",
      "found point 65\n",
      "found point 66\n",
      "found point 67\n",
      "found point 68\n",
      "found point 69\n",
      "found point 70\n",
      "found point 71\n",
      "found point 72\n",
      "found point 73\n",
      "found point 74\n",
      "found point 75\n",
      "found point 76\n",
      "found point 77\n",
      "found point 78\n",
      "found point 79\n",
      "found point 80\n",
      "found point 81\n",
      "found point 82\n",
      "found point 83\n",
      "found point 84\n",
      "found point 85\n",
      "found point 86\n",
      "found point 87\n",
      "found point 88\n",
      "found point 89\n",
      "found point 90\n",
      "found point 91\n",
      "found point 92\n",
      "found point 93\n",
      "found point 94\n",
      "found point 95\n",
      "found point 96\n",
      "found point 97\n",
      "found point 98\n",
      "found point 99\n",
      "found point 100\n",
      "found point 101\n",
      "found point 102\n",
      "found point 103\n",
      "found point 104\n",
      "found point 105\n",
      "found point 106\n",
      "found point 107\n",
      "found point 108\n",
      "found point 109\n",
      "found point 110\n",
      "found point 111\n",
      "found point 112\n",
      "found point 113\n",
      "found point 114\n",
      "found point 115\n",
      "found point 116\n",
      "found point 117\n",
      "found point 118\n",
      "found point 119\n",
      "found point 120\n",
      "found point 121\n",
      "found point 122\n",
      "found point 123\n",
      "found point 124\n",
      "found point 125\n",
      "found point 126\n",
      "found point 127\n",
      "found point 128\n",
      "found point 129\n",
      "found point 130\n",
      "found point 131\n",
      "found point 132\n",
      "found point 133\n",
      "found point 134\n",
      "found point 135\n",
      "found point 136\n",
      "found point 137\n",
      "found point 138\n",
      "found point 139\n",
      "found point 140\n",
      "found point 141\n",
      "found point 142\n",
      "found point 143\n",
      "found point 144\n",
      "found point 145\n",
      "found point 146\n",
      "found point 147\n",
      "found point 148\n",
      "found point 149\n",
      "found point 150\n",
      "found point 151\n",
      "found point 152\n",
      "found point 153\n",
      "found point 154\n",
      "found point 155\n",
      "found point 156\n",
      "found point 157\n",
      "found point 158\n",
      "found point 159\n",
      "found point 160\n",
      "found point 161\n",
      "found point 162\n",
      "found point 163\n",
      "found point 164\n",
      "found point 165\n",
      "found point 166\n",
      "found point 167\n",
      "found point 168\n",
      "found point 169\n",
      "found point 170\n",
      "found point 171\n",
      "found point 172\n",
      "found point 173\n",
      "found point 174\n",
      "found point 175\n",
      "found point 176\n",
      "found point 177\n",
      "found point 178\n",
      "found point 179\n",
      "found point 180\n",
      "found point 181\n",
      "found point 182\n",
      "found point 183\n",
      "found point 184\n",
      "found point 185\n",
      "found point 186\n",
      "found point 187\n",
      "found point 188\n",
      "found point 189\n",
      "found point 190\n",
      "found point 191\n",
      "found point 192\n",
      "found point 193\n",
      "found point 194\n",
      "found point 195\n",
      "found point 196\n",
      "found point 197\n",
      "found point 198\n",
      "found point 199\n",
      "found point 200\n",
      "found point 201\n",
      "found point 202\n",
      "found point 203\n",
      "found point 204\n",
      "found point 205\n",
      "found point 206\n",
      "found point 207\n",
      "found point 208\n",
      "found point 209\n",
      "found point 210\n",
      "found point 211\n",
      "found point 212\n",
      "found point 213\n",
      "found point 214\n",
      "found point 215\n",
      "found point 216\n",
      "found point 217\n",
      "found point 218\n",
      "found point 219\n",
      "found point 220\n",
      "found point 221\n",
      "found point 222\n",
      "found point 223\n",
      "found point 224\n",
      "found point 225\n",
      "found point 226\n",
      "found point 227\n",
      "found point 228\n",
      "found point 229\n",
      "found point 230\n",
      "found point 231\n",
      "found point 232\n",
      "found point 233\n",
      "found point 234\n",
      "found point 235\n",
      "found point 236\n",
      "found point 237\n",
      "found point 238\n",
      "found point 239\n",
      "found point 240\n",
      "found point 241\n",
      "found point 242\n",
      "found point 243\n",
      "found point 244\n",
      "found point 245\n",
      "found point 246\n",
      "found point 247\n",
      "found point 248\n",
      "found point 249\n",
      "found point 250\n",
      "found point 251\n",
      "found point 252\n",
      "found point 253\n",
      "found point 254\n",
      "found point 255\n",
      "found point 256\n",
      "found point 257\n",
      "found point 258\n",
      "found point 259\n",
      "found point 260\n",
      "found point 261\n",
      "found point 262\n",
      "found point 263\n",
      "found point 264\n",
      "found point 265\n",
      "found point 266\n",
      "found point 267\n",
      "found point 268\n",
      "found point 269\n",
      "found point 270\n",
      "found point 271\n",
      "found point 272\n",
      "found point 273\n",
      "found point 274\n",
      "found point 275\n",
      "found point 276\n",
      "found point 277\n",
      "found point 278\n",
      "found point 279\n",
      "found point 280\n",
      "found point 281\n",
      "found point 282\n",
      "found point 283\n",
      "found point 284\n",
      "found point 285\n",
      "found point 286\n",
      "found point 287\n",
      "found point 288\n",
      "found point 289\n",
      "found point 290\n",
      "found point 291\n",
      "found point 292\n",
      "found point 293\n",
      "found point 294\n",
      "found point 295\n",
      "found point 296\n",
      "found point 297\n",
      "found point 298\n",
      "found point 299\n",
      "found point 300\n",
      "found point 301\n",
      "found point 302\n",
      "found point 303\n",
      "found point 304\n",
      "found point 305\n",
      "found point 306\n",
      "found point 307\n",
      "found point 308\n",
      "found point 309\n",
      "found point 310\n",
      "found point 311\n",
      "found point 312\n",
      "found point 313\n",
      "found point 314\n",
      "found point 315\n",
      "found point 316\n",
      "found point 317\n",
      "found point 318\n",
      "found point 319\n",
      "found point 320\n",
      "found point 321\n",
      "found point 322\n",
      "found point 323\n",
      "found point 324\n",
      "found point 325\n",
      "found point 326\n",
      "found point 327\n",
      "found point 328\n",
      "found point 329\n",
      "found point 330\n",
      "found point 331\n",
      "found point 332\n",
      "found point 333\n",
      "found point 334\n",
      "found point 335\n",
      "found point 336\n",
      "found point 337\n",
      "found point 338\n",
      "found point 339\n",
      "found point 340\n",
      "found point 341\n",
      "found point 342\n",
      "found point 343\n",
      "found point 344\n",
      "found point 345\n",
      "found point 346\n",
      "found point 347\n",
      "found point 348\n",
      "found point 349\n",
      "found point 350\n",
      "found point 351\n",
      "found point 352\n",
      "found point 353\n",
      "found point 354\n",
      "found point 355\n",
      "found point 356\n",
      "found point 357\n",
      "found point 358\n",
      "found point 359\n",
      "found point 360\n",
      "found point 361\n",
      "found point 362\n",
      "found point 363\n",
      "found point 364\n",
      "found point 365\n",
      "found point 366\n",
      "found point 367\n",
      "found point 368\n",
      "found point 369\n",
      "found point 370\n",
      "found point 371\n",
      "found point 372\n",
      "found point 373\n",
      "found point 374\n",
      "found point 375\n",
      "found point 376\n",
      "found point 377\n",
      "found point 378\n",
      "found point 379\n",
      "found point 380\n",
      "found point 381\n",
      "found point 382\n",
      "found point 383\n",
      "found point 384\n",
      "found point 385\n",
      "found point 386\n",
      "found point 387\n",
      "found point 388\n",
      "found point 389\n",
      "found point 390\n",
      "found point 391\n",
      "found point 392\n",
      "found point 393\n",
      "found point 394\n",
      "found point 395\n",
      "found point 396\n",
      "found point 397\n",
      "found point 398\n",
      "found point 399\n",
      "found point 400\n",
      "found point 401\n",
      "found point 402\n",
      "found point 403\n",
      "found point 404\n",
      "found point 405\n",
      "found point 406\n",
      "found point 407\n",
      "found point 408\n",
      "found point 409\n",
      "found point 410\n",
      "found point 411\n",
      "found point 412\n",
      "found point 413\n",
      "found point 414\n",
      "found point 415\n",
      "found point 416\n",
      "found point 417\n",
      "found point 418\n",
      "found point 419\n",
      "found point 420\n",
      "found point 421\n",
      "found point 422\n",
      "found point 423\n",
      "found point 424\n",
      "found point 425\n",
      "found point 426\n",
      "found point 427\n",
      "found point 428\n",
      "found point 429\n",
      "found point 430\n",
      "found point 431\n",
      "found point 432\n",
      "found point 433\n",
      "found point 434\n",
      "found point 435\n",
      "found point 436\n",
      "found point 437\n",
      "found point 438\n",
      "found point 439\n",
      "found point 440\n",
      "found point 441\n",
      "found point 442\n",
      "found point 443\n",
      "found point 444\n",
      "found point 445\n",
      "found point 446\n",
      "found point 447\n",
      "found point 448\n",
      "found point 449\n",
      "found point 450\n",
      "found point 451\n",
      "found point 452\n",
      "found point 453\n",
      "found point 454\n",
      "found point 455\n",
      "found point 456\n",
      "found point 457\n",
      "found point 458\n",
      "found point 459\n",
      "found point 460\n",
      "found point 461\n",
      "found point 462\n",
      "found point 463\n",
      "found point 464\n",
      "found point 465\n",
      "found point 466\n",
      "found point 467\n",
      "found point 468\n",
      "found point 469\n",
      "found point 470\n",
      "found point 471\n",
      "found point 472\n",
      "found point 473\n",
      "found point 474\n",
      "found point 475\n",
      "found point 476\n",
      "found point 477\n",
      "found point 478\n",
      "found point 479\n",
      "found point 480\n",
      "found point 481\n",
      "found point 482\n",
      "found point 483\n",
      "found point 484\n",
      "found point 485\n",
      "found point 486\n",
      "found point 487\n",
      "found point 488\n",
      "found point 489\n",
      "found point 490\n",
      "found point 491\n",
      "found point 492\n",
      "found point 493\n",
      "found point 494\n",
      "found point 495\n",
      "found point 496\n",
      "found point 497\n",
      "found point 498\n",
      "found point 499\n"
     ]
    }
   ],
   "source": [
    "points, ts_points = sample_handle(500)"
   ]
  },
  {
   "cell_type": "code",
   "execution_count": 10,
   "metadata": {},
   "outputs": [],
   "source": [
    "from pydrake.all import Sphere\n",
    "\n",
    "def plot_points(points, name, size = 0.05, color = Rgba(0.06, 0.0, 0, 1)):\n",
    "    for i, pt in enumerate(points):\n",
    "        n_i = name+f\"/pt{i}\"\n",
    "        meshcat.SetObject(n_i,\n",
    "                          Sphere(size),\n",
    "                          color)\n",
    "        meshcat.SetTransform(n_i, \n",
    "                             RigidTransform(\n",
    "                             RotationMatrix(), \n",
    "                             np.array(pt)))"
   ]
  },
  {
   "cell_type": "code",
   "execution_count": 20,
   "metadata": {},
   "outputs": [],
   "source": [
    "plot_points(ts_points, 'tspts', size=0.01)"
   ]
  },
  {
   "cell_type": "code",
   "execution_count": 44,
   "metadata": {},
   "outputs": [],
   "source": [
    "plot_points(ts_points, 'tspts', size=0.01)"
   ]
  },
  {
   "cell_type": "code",
   "execution_count": 22,
   "metadata": {},
   "outputs": [],
   "source": [
    "import time\n",
    "for p in points:\n",
    "    showres(p)\n",
    "    time.sleep(0.05)"
   ]
  },
  {
   "cell_type": "code",
   "execution_count": 32,
   "metadata": {},
   "outputs": [],
   "source": []
  },
  {
   "cell_type": "code",
   "execution_count": null,
   "metadata": {},
   "outputs": [],
   "source": []
  },
  {
   "cell_type": "code",
   "execution_count": 9,
   "metadata": {},
   "outputs": [
    {
     "ename": "ImportError",
     "evalue": "cannot import name 'IkCartesianWaypoint' from 'pydrake.all' (/home/peter/git/drake_vgraphbuild_russ/drake-build/install/lib/python3.8/site-packages/pydrake/all.py)",
     "output_type": "error",
     "traceback": [
      "\u001b[0;31m---------------------------------------------------------------------------\u001b[0m",
      "\u001b[0;31mImportError\u001b[0m                               Traceback (most recent call last)",
      "\u001b[0;32m<ipython-input-9-ae9bb939ea04>\u001b[0m in \u001b[0;36m<module>\u001b[0;34m\u001b[0m\n\u001b[0;32m----> 1\u001b[0;31m \u001b[0;32mfrom\u001b[0m \u001b[0mpydrake\u001b[0m\u001b[0;34m.\u001b[0m\u001b[0mall\u001b[0m \u001b[0;32mimport\u001b[0m \u001b[0mIkCartesianWaypoint\u001b[0m\u001b[0;34m\u001b[0m\u001b[0;34m\u001b[0m\u001b[0m\n\u001b[0m",
      "\u001b[0;31mImportError\u001b[0m: cannot import name 'IkCartesianWaypoint' from 'pydrake.all' (/home/peter/git/drake_vgraphbuild_russ/drake-build/install/lib/python3.8/site-packages/pydrake/all.py)"
     ]
    }
   ],
   "source": [
    "from pydrake.all import IkCartesianWaypoint"
   ]
  },
  {
   "cell_type": "code",
   "execution_count": 6,
   "metadata": {},
   "outputs": [],
   "source": [
    "ik_solver = get_ik_problem_solver(plant, plant_context, [plant.GetFrameByName('ur_tool0')], np.zeros(plant.num_positions()))"
   ]
  },
  {
   "cell_type": "code",
   "execution_count": 7,
   "metadata": {},
   "outputs": [],
   "source": [
    "rot = RotationMatrix.MakeXRotation(_ik_positions[3])@RotationMatrix.MakeYRotation(_ik_positions[4])@RotationMatrix.MakeZRotation(_ik_positions[5])\n",
    "\n",
    "RollPitchYaw(_ik_positions[3],\n",
    "                    _ik_positions[4],\n",
    "                    _ik_positions[5]).ToRotationMatrix()\n",
    "tf = RigidTransform(rot, _ik_positions[:3])\n",
    "\n"
   ]
  },
  {
   "cell_type": "code",
   "execution_count": 8,
   "metadata": {},
   "outputs": [
    {
     "data": {
      "application/vnd.jupyter.widget-view+json": {
       "model_id": "3195600923ae4176806d7a1089406fb6",
       "version_major": 2,
       "version_minor": 0
      },
      "text/plain": [
       "FloatSlider(value=0.0, description='q0', max=2.827433388230814, min=-2.827433388230814)"
      ]
     },
     "metadata": {},
     "output_type": "display_data"
    },
    {
     "data": {
      "application/vnd.jupyter.widget-view+json": {
       "model_id": "c3b5af25cd9b42909557052cbab8846b",
       "version_major": 2,
       "version_minor": 0
      },
      "text/plain": [
       "FloatSlider(value=0.0, description='q1', max=2.827433388230814, min=-2.827433388230814)"
      ]
     },
     "metadata": {},
     "output_type": "display_data"
    },
    {
     "data": {
      "application/vnd.jupyter.widget-view+json": {
       "model_id": "7241bf96691e4a61b70b9f703f53088e",
       "version_major": 2,
       "version_minor": 0
      },
      "text/plain": [
       "FloatSlider(value=0.0, description='q2', max=2.827433388230814, min=-2.827433388230814)"
      ]
     },
     "metadata": {},
     "output_type": "display_data"
    },
    {
     "data": {
      "application/vnd.jupyter.widget-view+json": {
       "model_id": "68c024dffad64c12a127d89d06bfd25e",
       "version_major": 2,
       "version_minor": 0
      },
      "text/plain": [
       "FloatSlider(value=0.0, description='q3', max=2.827433388230814, min=-2.827433388230814)"
      ]
     },
     "metadata": {},
     "output_type": "display_data"
    },
    {
     "data": {
      "application/vnd.jupyter.widget-view+json": {
       "model_id": "4c6fd51a3ee541a6bcfa05006c5c9331",
       "version_major": 2,
       "version_minor": 0
      },
      "text/plain": [
       "FloatSlider(value=0.0, description='q4', max=2.827433388230814, min=-2.827433388230814)"
      ]
     },
     "metadata": {},
     "output_type": "display_data"
    }
   ],
   "source": [
    "for slider in sliders:\n",
    "    display(slider)"
   ]
  },
  {
   "cell_type": "code",
   "execution_count": 10,
   "metadata": {},
   "outputs": [
    {
     "name": "stdout",
     "output_type": "stream",
     "text": [
      "ik sol [-0.07819221  0.25785377  0.50098872  0.24209873 -0.44499895]\n",
      "q current [0.      0.      0.77257 0.77257 0.87257]\n",
      "IK success\n"
     ]
    }
   ],
   "source": [
    "\n",
    "ik = InverseKinematics(plant, plant_context)\n",
    "tf = plant.EvalBodyPoseInWorld(plant_context,  plant.GetBodyByName('ur_tool0'))\n",
    "for pose, f in zip([tf], [plant.GetFrameByName('ur_tool0')]):\n",
    "    ik.AddPositionConstraint(\n",
    "        f,\n",
    "        [0, 0, 0],\n",
    "        plant.world_frame(),\n",
    "        pose.translation(),\n",
    "        pose.translation(),\n",
    "    )\n",
    "    # ik.AddOrientationConstraint(\n",
    "    #     f,\n",
    "    #     RotationMatrix(),\n",
    "    #     plant_ik.world_frame(),\n",
    "    #     pose.rotation(),\n",
    "    #     0.0,\n",
    "    # )\n",
    "prog = ik.get_mutable_prog()\n",
    "qik = ik.q()\n",
    "prog.AddQuadraticErrorCost(np.identity(len(qik)), np.zeros(5), qik)\n",
    "prog.SetInitialGuess(qik, np.zeros(5))\n",
    "result = Solve(ik.prog())\n",
    "if result.is_success():\n",
    "    print(f\"ik sol {result.GetSolution(qik)}\")\n",
    "    print(f\"q current {q}\")\n",
    "    print(\"IK success\")\n",
    "    \n",
    "else:\n",
    "    print(\"IK failure\")\n",
    "    "
   ]
  },
  {
   "cell_type": "code",
   "execution_count": null,
   "metadata": {},
   "outputs": [],
   "source": []
  }
 ],
 "metadata": {
  "kernelspec": {
   "display_name": "Python 3",
   "language": "python",
   "name": "python3"
  },
  "language_info": {
   "codemirror_mode": {
    "name": "ipython",
    "version": 3
   },
   "file_extension": ".py",
   "mimetype": "text/x-python",
   "name": "python",
   "nbconvert_exporter": "python",
   "pygments_lexer": "ipython3",
   "version": "3.8.10"
  },
  "orig_nbformat": 4
 },
 "nbformat": 4,
 "nbformat_minor": 2
}
