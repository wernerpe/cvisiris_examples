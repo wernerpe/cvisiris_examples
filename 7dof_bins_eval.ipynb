{
 "cells": [
  {
   "cell_type": "code",
   "execution_count": 1,
   "metadata": {},
   "outputs": [],
   "source": [
    "import numpy as np\n",
    "from functools import partial\n",
    "import ipywidgets as widgets\n",
    "from IPython.display import display"
   ]
  },
  {
   "cell_type": "code",
   "execution_count": 2,
   "metadata": {},
   "outputs": [],
   "source": [
    "from pydrake.geometry.optimization import IrisOptions, HPolyhedron, Hyperellipsoid\n",
    "from pydrake.solvers import MosekSolver, CommonSolverOption, SolverOptions\n",
    "from pydrake.all import (PiecewisePolynomial, \n",
    "                         InverseKinematics, \n",
    "                         Sphere, \n",
    "                         Rgba, \n",
    "                         RigidTransform, \n",
    "                         RotationMatrix, \n",
    "                         Solve,\n",
    "                         MathematicalProgram,\n",
    "                         RollPitchYaw,\n",
    "                         Cylinder)\n",
    "import time\n",
    "import pydrake"
   ]
  },
  {
   "cell_type": "code",
   "execution_count": 3,
   "metadata": {},
   "outputs": [
    {
     "name": "stderr",
     "output_type": "stream",
     "text": [
      "INFO:drake:Meshcat listening for connections at http://localhost:7000\n"
     ]
    }
   ],
   "source": [
    "from environments import get_environment_builder\n",
    "\n",
    "plant_builder = get_environment_builder('7DOFBINS')\n",
    "plant, scene_graph, diagram, diagram_context, plant_context, meshcat = plant_builder(usemeshcat=True)\n",
    "\n",
    "scene_graph_context = scene_graph.GetMyMutableContextFromRoot(\n",
    "    diagram_context)"
   ]
  },
  {
   "cell_type": "code",
   "execution_count": 4,
   "metadata": {},
   "outputs": [
    {
     "name": "stdout",
     "output_type": "stream",
     "text": [
      "{'body': <GeometryId value=69>, 'left_finger': <GeometryId value=75>, 'right_finger': <GeometryId value=81>}\n"
     ]
    },
    {
     "name": "stderr",
     "output_type": "stream",
     "text": [
      "/home/peter/.local/lib/python3.8/site-packages/scipy/__init__.py:143: UserWarning: A NumPy version >=1.19.5 and <1.27.0 is required for this version of SciPy (detected version 1.17.4)\n",
      "  warnings.warn(f\"A NumPy version >={np_minversion} and <{np_maxversion}\"\n"
     ]
    }
   ],
   "source": [
    "def show_pose(qvis, plant, plant_context, diagram, diagram_context, endeff_frame, show_body_frame = None):\n",
    "    plant.SetPositions(plant_context, qvis)\n",
    "    diagram.ForcedPublish(diagram_context)\n",
    "    tf =plant.EvalBodyPoseInWorld(plant_context,  plant.GetBodyByName(endeff_frame))\n",
    "    transl = tf.translation()+tf.rotation()@np.array([0,0.1,0])\n",
    "    if show_body_frame is not None:\n",
    "        show_body_frame(RigidTransform(tf.rotation(), transl))\n",
    "\n",
    "def show_ik_target(pose, meshcat, name):\n",
    "    h = 0.2\n",
    "    if 'targ' in name:\n",
    "        colors = [Rgba(1,0.5,0, 0.5), Rgba(0.5,1,0, 0.5), Rgba(0.0,0.5,1, 0.5)]\n",
    "    else:\n",
    "        colors = [Rgba(1,0,0, 1), Rgba(0.,1,0, 1), Rgba(0.0,0.0,1, 1)]\n",
    "\n",
    "    rot = pose.rotation()@RotationMatrix.MakeYRotation(np.pi/2)\n",
    "    pos= pose.translation() +pose.rotation()@np.array([h/2, 0,0])\n",
    "    meshcat.SetObject(f\"/drake/ik_target{name}/triad1\",\n",
    "                                   Cylinder(0.01,0.2),\n",
    "                                   colors[0])\n",
    "    meshcat.SetTransform(f\"/drake/ik_target{name}/triad1\",RigidTransform(rot, pos))\n",
    "    rot = pose.rotation()@RotationMatrix.MakeXRotation(-np.pi/2)\n",
    "    pos= pose.translation() +pose.rotation()@np.array([0,h/2,0])\n",
    "\n",
    "    meshcat.SetObject(f\"/drake/ik_target{name}/triad2\",\n",
    "                                   Cylinder(0.01,0.2),\n",
    "                                   colors[1])\n",
    "    meshcat.SetTransform(f\"/drake/ik_target{name}/triad2\",RigidTransform(rot, pos))\n",
    "    pos= pose.translation().copy()\n",
    "    rot = pose.rotation()\n",
    "    pos = pos + rot@np.array([0,0,h/2])\n",
    "    meshcat.SetObject(f\"/drake/ik_target{name}/triad3\",\n",
    "                                   Cylinder(0.01,0.2),\n",
    "                                   colors[2])\n",
    "    meshcat.SetTransform(f\"/drake/ik_target{name}/triad3\",RigidTransform(rot, pos))\n",
    "from visualization_utils import get_shunk_plotter\n",
    "\n",
    "plot_endeff_poses = get_shunk_plotter(plant, scene_graph, plant_context, diagram_context)"
   ]
  },
  {
   "cell_type": "code",
   "execution_count": 5,
   "metadata": {},
   "outputs": [],
   "source": [
    "show_body_frame = partial(show_ik_target, \n",
    "                          meshcat=meshcat, \n",
    "                          name='endeff_acutal', \n",
    "                          )\n",
    "showres = partial(show_pose, \n",
    "                  plant = plant, \n",
    "                  plant_context = plant_context, \n",
    "                  diagram = diagram, \n",
    "                  diagram_context = diagram_context,\n",
    "                  endeff_frame = 'body',\n",
    "                  show_body_frame=show_body_frame)"
   ]
  },
  {
   "cell_type": "code",
   "execution_count": 6,
   "metadata": {},
   "outputs": [],
   "source": [
    "from visualization_utils import plot_points, plot_regions\n",
    "from pydrake.all import VPolytope, Role\n",
    "from task_space_seeding_utils import (get_cvx_hulls_of_bodies,\n",
    "                                      get_AABB_cvxhull,\n",
    "                                      task_space_sampler_mp,\n",
    "                                      task_space_sampler)"
   ]
  },
  {
   "cell_type": "code",
   "execution_count": 7,
   "metadata": {},
   "outputs": [],
   "source": [
    "#Samplers for testing coverage\n",
    "from visibility_utils import generate_distinct_colors\n",
    "offset_size = 0.05\n",
    "geom_names = ['bin_base', \n",
    "              'bin_base', \n",
    "              'shelves_body']\n",
    "model_names = ['binL', \n",
    "               'binR', \n",
    "               'shelves']\n",
    "default_pos = [np.array([ 1.53294,  0.4056 ,  0.23294, -0.5944 ,0.,0.9056 ,0.]),\n",
    "               np.array([-1.53294,  0.4056 ,  0.23294, -0.5944 ,0.,  0.9056 ,0. ]),\n",
    "               np.array([ 0., -0.08940423,  0., -1.7087849,  0., 1.32867852,  0.])]\n",
    "approach_dir = [2, \n",
    "                2, \n",
    "                0] \n",
    "approach_sign = [1,1,-1]\n",
    "ts_samplers = []\n",
    "cols = generate_distinct_colors(2*len(model_names), rgb = True)[1:]\n",
    "#cols = [list(c)+[1] for c in cols]\n",
    "AABB_sampling_regions = []\n",
    "for i, (g, m) in enumerate(zip(geom_names, model_names)):\n",
    "    cvx_hulls_of_ROI_unsc, bodies = get_cvx_hulls_of_bodies([g], [m], plant, scene_graph, scene_graph_context, scaling = 1.0)\n",
    "    verts = [VPolytope(c).vertices().T for c in cvx_hulls_of_ROI_unsc]\n",
    "    cvx_hulls_of_ROI = cvx_hulls_of_ROI_unsc\n",
    "    cvx_hulls_of_ROI = []\n",
    "    for v in verts:\n",
    "        offset = approach_sign[i]*(np.sign(v[:,approach_dir[i]] - np.mean(v[:,approach_dir[i]]))==approach_sign[i])*offset_size\n",
    "        v[:,approach_dir[i]] += offset #scale*(v[:,approach_dir[i]] - np.mean(v[:,approach_dir[i]])) +  np.mean(v[:,approach_dir[i]])\n",
    "        cvx_hulls_of_ROI.append(HPolyhedron(VPolytope(v.T)))\n",
    "    ts_min, ts_max, cvxh_hpoly = get_AABB_cvxhull(cvx_hulls_of_ROI)\n",
    "    AABB_sampling_regions.append([ts_min, ts_max])\n",
    "    plot_regions(meshcat, cvx_hulls_of_ROI, region_suffix=m,opacity=0.2, colors=[cols[i]])\n",
    "    q0  = default_pos[i] #np.zeros(7)\n",
    "    plant.SetPositions(plant_context, q0)\n",
    "    plant.ForcedPublish(plant_context)\n",
    "    showres(q0)\n",
    "    t0 = plant.EvalBodyPoseInWorld(plant_context,  plant.GetBodyByName(\"body\")).translation()       \n",
    "    sample_handle_ts = partial(task_space_sampler_mp,\n",
    "                            q0 = q0,\n",
    "                            t0 = t0,\n",
    "                            plant_builder = plant_builder,\n",
    "                            frame_names = ['body'],\n",
    "                            offsets = [np.array([0,0.1,0])],\n",
    "                            cvx_hulls_of_ROI =cvx_hulls_of_ROI,\n",
    "                            ts_min = ts_min,\n",
    "                            ts_max = ts_max,\n",
    "                            collision_free = True,\n",
    "                            track_orientation = True,\n",
    "                            axis_alignment = approach_dir[i]\n",
    "                            )\n",
    "    ts_samplers.append(sample_handle_ts)"
   ]
  },
  {
   "cell_type": "code",
   "execution_count": 8,
   "metadata": {},
   "outputs": [
    {
     "name": "stderr",
     "output_type": "stream",
     "text": [
      "INFO:drake:Allocating contexts to support 20 parallel queries given omp_num_threads 20 omp_max_threads 20 and omp_thread_limit 2147483647 OpenMP enabled in build? true\n"
     ]
    }
   ],
   "source": [
    "from pydrake.all import SceneGraphCollisionChecker\n",
    "from visibility_utils import vgraph\n",
    "from clique_covers import compute_greedy_clique_partition\n",
    "\n",
    "robot_instances = [plant.GetModelInstanceByName(\"iiwa\"), plant.GetModelInstanceByName(\"wsg\")]\n",
    "checker = SceneGraphCollisionChecker(model = diagram,#.Clone(), \n",
    "                    robot_model_instances = robot_instances,\n",
    "                    distance_function_weights =  [1] * plant.num_positions(),\n",
    "                    #configuration_distance_function = _configuration_distance,\n",
    "                    edge_step_size = 0.125)\n",
    "vgraph_handle = partial(vgraph, checker = checker, parallelize = True) "
   ]
  },
  {
   "cell_type": "code",
   "execution_count": 9,
   "metadata": {},
   "outputs": [],
   "source": [
    "import os\n",
    "import pickle\n",
    "Npts= 100\n",
    "if f\"7dof_bin_test_samps{Npts}_{offset_size}.pkl\" in os.listdir('tmp'):\n",
    "    with open(f\"tmp/7dof_bin_test_samps{Npts}_{offset_size}.pkl\", 'rb') as f:\n",
    "        d = pickle.load(f)\n",
    "        q_obj = d['q_obj']\n",
    "        t_obj = d['t_obj']\n",
    "        ad_mat = d['ad_obj']\n",
    "else:\n",
    "    q_obj = []\n",
    "    t_obj = []\n",
    "    ad_obj = []\n",
    "    for sh in ts_samplers:\n",
    "        q, t, _, res = sh(Npts,[])\n",
    "        ad_mat = vgraph_handle(q)\n",
    "        q_obj +=[q]\n",
    "        t_obj +=[t]\n",
    "        ad_obj +=[ad_obj]\n",
    "    with open(f\"tmp/7dof_bin_test_samps{Npts}_{offset_size}.pkl\", 'wb') as f:\n",
    "        pickle.dump({'q_obj':q_obj, 't_obj':t_obj, 'ad_obj': ad_obj}, f)"
   ]
  },
  {
   "cell_type": "code",
   "execution_count": 10,
   "metadata": {},
   "outputs": [],
   "source": [
    "# meshcat.Delete('/iris/shunk')\n",
    "# meshcat.SetProperty('/iris/regionsshelves', 'visible', False)\n",
    "# plot_endeff_poses(meshcat, q_obj[0])"
   ]
  },
  {
   "cell_type": "code",
   "execution_count": 11,
   "metadata": {},
   "outputs": [],
   "source": [
    "from visibility_utils import check_visibility_to_regions\n",
    "from utils import load_regions_from_experiment_dir\n",
    "\n",
    "regions_c = load_regions_from_experiment_dir(\n",
    "                    'logs/experiment_7dof_iiwa_bins_taskspace_1_1500_0.400greedy20231024205238')\n",
    "\n",
    "#7dof_bin_regions_noapproachdir_2000_0.05_1337\n",
    "#7dof_bin_regions_2000_0.05_1337.pkl\n",
    "with open(f\"tmp/7dof_bin_regions_noapproachdir_2000_0.05_1337.pkl\", 'rb') as f:\n",
    "    d = pickle.load(f)\n",
    "    regions_shelves = d['r']"
   ]
  },
  {
   "cell_type": "code",
   "execution_count": 12,
   "metadata": {},
   "outputs": [
    {
     "data": {
      "text/plain": [
       "Text(0.5, 1.0, 'connectivity')"
      ]
     },
     "execution_count": 12,
     "metadata": {},
     "output_type": "execute_result"
    },
    {
     "data": {
      "image/png": "[encoded data removed]",
      "text/plain": [
       "<Figure size 720x720 with 1 Axes>"
      ]
     },
     "metadata": {},
     "output_type": "display_data"
    }
   ],
   "source": [
    "import networkx as nx\n",
    "import matplotlib.pyplot as plt\n",
    "from visibility_utils import generate_distinct_colors\n",
    "regs = regions_shelves+regions_c\n",
    "connectivity_graph = nx.Graph()\n",
    "for idx in range(len(regs)):\n",
    "    connectivity_graph.add_node(idx)\n",
    "\n",
    "for idx1 in range(len(regs)):\n",
    "    for idx2 in range(idx1 +1, len(regs)):\n",
    "        r1 = regs[idx1]\n",
    "        r2 = regs[idx2]\n",
    "        if r1.IntersectsWith(r2):\n",
    "            connectivity_graph.add_edge(idx1,idx2)\n",
    "\n",
    "largest_con_comp = list(list(nx.connected_components(connectivity_graph))[0])\n",
    "regions_connected_component = [regs[i] for i in largest_con_comp]\n",
    "\n",
    "fig = plt.figure(figsize=(10,10))\n",
    "hues = generate_distinct_colors(2+1)[1:]\n",
    "colors = []\n",
    "for g, h in zip([regs], hues):\n",
    "    colors += [h]*len(g)\n",
    "\n",
    "nx.draw_spring(connectivity_graph, \n",
    "                with_labels = True, \n",
    "                node_color = colors)\n",
    "plt.title(f\"connectivity\")"
   ]
  },
  {
   "cell_type": "code",
   "execution_count": 13,
   "metadata": {},
   "outputs": [
    {
     "name": "stdout",
     "output_type": "stream",
     "text": [
      "0.94\n"
     ]
    }
   ],
   "source": [
    "q_tot = np.concatenate(tuple(q_obj))\n",
    "visible_centers = check_visibility_to_regions(q_tot, regions_shelves, checker)\n",
    "visibility_coverage_in_shelves = np.mean([1 if len(v) else 0 for v in visible_centers])\n",
    "print(visibility_coverage_in_shelves)"
   ]
  },
  {
   "cell_type": "code",
   "execution_count": 53,
   "metadata": {},
   "outputs": [
    {
     "data": {
      "text/plain": [
       "[]"
      ]
     },
     "execution_count": 53,
     "metadata": {},
     "output_type": "execute_result"
    }
   ],
   "source": [
    "visible[2]"
   ]
  },
  {
   "cell_type": "code",
   "execution_count": 50,
   "metadata": {},
   "outputs": [
    {
     "name": "stdout",
     "output_type": "stream",
     "text": [
      "True\n",
      "False\n",
      "False\n",
      "False\n",
      "False\n",
      "False\n",
      "True\n",
      "True\n",
      "True\n",
      "True\n",
      "True\n",
      "False\n",
      "False\n",
      "False\n",
      "False\n",
      "False\n",
      "False\n",
      "False\n",
      "False\n",
      "False\n",
      "False\n",
      "False\n",
      "False\n",
      "False\n",
      "False\n",
      "False\n",
      "False\n",
      "False\n",
      "False\n",
      "False\n",
      "False\n",
      "False\n",
      "False\n",
      "False\n",
      "False\n",
      "False\n",
      "False\n",
      "False\n",
      "False\n",
      "False\n",
      "False\n",
      "False\n",
      "False\n",
      "False\n",
      "False\n",
      "False\n",
      "False\n",
      "False\n",
      "False\n",
      "False\n",
      "False\n",
      "False\n",
      "False\n",
      "False\n",
      "False\n"
     ]
    }
   ],
   "source": [
    "for r in regions_shelves:\n",
    "    print(point_in_regions(q_tot[2], [r]))"
   ]
  },
  {
   "cell_type": "code",
   "execution_count": 49,
   "metadata": {},
   "outputs": [
    {
     "name": "stdout",
     "output_type": "stream",
     "text": [
      "False\n",
      "True\n"
     ]
    }
   ],
   "source": [
    "center = regions_shelves[1].MaximumVolumeInscribedEllipsoid().center()\n",
    "pt = q_tot[2]\n",
    "print(point_in_regions(pt, [regions_shelves[5]]))\n",
    "print(checker.CheckEdgeCollisionFreeParallel(pt,center))"
   ]
  },
  {
   "cell_type": "code",
   "execution_count": 41,
   "metadata": {},
   "outputs": [
    {
     "data": {
      "text/plain": [
       "True"
      ]
     },
     "execution_count": 41,
     "metadata": {},
     "output_type": "execute_result"
    }
   ],
   "source": [
    "point_in_regions(q_tot[2], [regions_shelves[0]])"
   ]
  },
  {
   "cell_type": "code",
   "execution_count": null,
   "metadata": {},
   "outputs": [],
   "source": [
    "q_tot[2]"
   ]
  },
  {
   "cell_type": "code",
   "execution_count": 22,
   "metadata": {},
   "outputs": [
    {
     "name": "stdout",
     "output_type": "stream",
     "text": [
      "0.33666666666666667\n"
     ]
    }
   ],
   "source": [
    "from visibility_utils import point_in_regions\n",
    "inreg = 0\n",
    "for q in q_tot:\n",
    "    if point_in_regions(q, regions_shelves):\n",
    "        inreg+=1\n",
    "print(inreg/len(q_tot))"
   ]
  },
  {
   "cell_type": "code",
   "execution_count": 17,
   "metadata": {},
   "outputs": [
    {
     "data": {
      "text/plain": [
       "[[],\n",
       " [],\n",
       " [],\n",
       " [],\n",
       " [],\n",
       " [],\n",
       " [],\n",
       " [],\n",
       " [],\n",
       " [],\n",
       " [],\n",
       " [],\n",
       " [],\n",
       " [],\n",
       " [],\n",
       " [],\n",
       " [],\n",
       " [],\n",
       " [],\n",
       " [],\n",
       " [],\n",
       " [],\n",
       " [],\n",
       " [],\n",
       " [],\n",
       " [],\n",
       " [],\n",
       " [],\n",
       " [],\n",
       " [],\n",
       " [],\n",
       " [],\n",
       " [],\n",
       " [],\n",
       " [],\n",
       " [],\n",
       " [],\n",
       " [],\n",
       " [],\n",
       " [],\n",
       " [],\n",
       " [],\n",
       " [],\n",
       " [],\n",
       " [],\n",
       " [],\n",
       " [],\n",
       " [],\n",
       " [],\n",
       " [],\n",
       " [],\n",
       " [],\n",
       " [],\n",
       " [],\n",
       " [],\n",
       " [],\n",
       " [],\n",
       " [],\n",
       " [],\n",
       " [],\n",
       " [],\n",
       " [],\n",
       " [],\n",
       " [],\n",
       " [],\n",
       " [],\n",
       " [],\n",
       " [],\n",
       " [],\n",
       " [],\n",
       " [],\n",
       " [],\n",
       " [],\n",
       " [],\n",
       " [],\n",
       " [],\n",
       " [],\n",
       " [],\n",
       " [],\n",
       " [],\n",
       " [],\n",
       " [],\n",
       " [],\n",
       " [],\n",
       " [],\n",
       " [],\n",
       " [],\n",
       " [],\n",
       " [],\n",
       " [],\n",
       " [],\n",
       " [],\n",
       " [],\n",
       " [],\n",
       " [],\n",
       " [],\n",
       " [],\n",
       " [],\n",
       " [],\n",
       " [],\n",
       " [],\n",
       " [],\n",
       " [],\n",
       " [],\n",
       " [],\n",
       " [],\n",
       " [],\n",
       " [],\n",
       " [],\n",
       " [],\n",
       " [],\n",
       " [],\n",
       " [],\n",
       " [],\n",
       " [],\n",
       " [],\n",
       " [],\n",
       " [],\n",
       " [],\n",
       " [],\n",
       " [],\n",
       " [],\n",
       " [],\n",
       " [],\n",
       " [],\n",
       " [],\n",
       " [],\n",
       " [],\n",
       " [],\n",
       " [],\n",
       " [],\n",
       " [],\n",
       " [],\n",
       " [],\n",
       " [],\n",
       " [],\n",
       " [],\n",
       " [],\n",
       " [],\n",
       " [],\n",
       " [],\n",
       " [],\n",
       " [],\n",
       " [],\n",
       " [],\n",
       " [],\n",
       " [],\n",
       " [],\n",
       " [],\n",
       " [],\n",
       " [],\n",
       " [],\n",
       " [],\n",
       " [],\n",
       " [],\n",
       " [],\n",
       " [],\n",
       " [],\n",
       " [],\n",
       " [],\n",
       " [],\n",
       " [],\n",
       " [],\n",
       " [],\n",
       " [],\n",
       " [],\n",
       " [],\n",
       " [],\n",
       " [],\n",
       " [],\n",
       " [],\n",
       " [],\n",
       " [],\n",
       " [],\n",
       " [],\n",
       " [],\n",
       " [],\n",
       " [],\n",
       " [],\n",
       " [],\n",
       " [],\n",
       " [],\n",
       " [],\n",
       " [],\n",
       " [],\n",
       " [],\n",
       " [],\n",
       " [],\n",
       " [],\n",
       " [],\n",
       " [],\n",
       " [],\n",
       " [],\n",
       " [],\n",
       " [],\n",
       " [],\n",
       " [],\n",
       " [],\n",
       " [],\n",
       " [],\n",
       " [],\n",
       " [],\n",
       " [],\n",
       " [],\n",
       " [],\n",
       " [],\n",
       " [],\n",
       " [],\n",
       " [],\n",
       " [],\n",
       " [],\n",
       " [],\n",
       " [],\n",
       " [],\n",
       " [],\n",
       " [],\n",
       " [],\n",
       " [],\n",
       " [],\n",
       " [],\n",
       " [],\n",
       " [],\n",
       " [],\n",
       " [],\n",
       " [],\n",
       " [],\n",
       " [],\n",
       " [],\n",
       " [],\n",
       " [],\n",
       " [],\n",
       " [],\n",
       " [],\n",
       " [],\n",
       " [],\n",
       " [],\n",
       " [],\n",
       " [],\n",
       " [],\n",
       " [],\n",
       " [],\n",
       " [],\n",
       " [],\n",
       " [],\n",
       " [],\n",
       " [],\n",
       " [54],\n",
       " [],\n",
       " [],\n",
       " [],\n",
       " [],\n",
       " [],\n",
       " [],\n",
       " [],\n",
       " [],\n",
       " [],\n",
       " [],\n",
       " [],\n",
       " [],\n",
       " [],\n",
       " [],\n",
       " [54],\n",
       " [],\n",
       " [],\n",
       " [],\n",
       " [],\n",
       " [],\n",
       " [],\n",
       " [],\n",
       " [],\n",
       " [],\n",
       " [],\n",
       " [],\n",
       " [],\n",
       " [],\n",
       " [],\n",
       " [],\n",
       " [],\n",
       " [],\n",
       " [],\n",
       " [],\n",
       " [],\n",
       " [],\n",
       " [],\n",
       " [],\n",
       " [],\n",
       " [],\n",
       " [],\n",
       " [],\n",
       " [],\n",
       " [],\n",
       " [],\n",
       " [],\n",
       " [],\n",
       " [],\n",
       " [],\n",
       " [],\n",
       " [],\n",
       " [],\n",
       " []]"
      ]
     },
     "execution_count": 17,
     "metadata": {},
     "output_type": "execute_result"
    }
   ],
   "source": [
    "visible_centers"
   ]
  },
  {
   "cell_type": "code",
   "execution_count": null,
   "metadata": {},
   "outputs": [],
   "source": []
  }
 ],
 "metadata": {
  "kernelspec": {
   "display_name": "Python 3",
   "language": "python",
   "name": "python3"
  },
  "language_info": {
   "codemirror_mode": {
    "name": "ipython",
    "version": 3
   },
   "file_extension": ".py",
   "mimetype": "text/x-python",
   "name": "python",
   "nbconvert_exporter": "python",
   "pygments_lexer": "ipython3",
   "version": "3.8.10"
  }
 },
 "nbformat": 4,
 "nbformat_minor": 2
}
