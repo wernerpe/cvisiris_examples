{
 "cells": [
  {
   "cell_type": "code",
   "execution_count": 1,
   "metadata": {},
   "outputs": [],
   "source": [
    "import numpy as np\n",
    "from functools import partial\n",
    "import ipywidgets as widgets\n",
    "from IPython.display import display"
   ]
  },
  {
   "cell_type": "code",
   "execution_count": 2,
   "metadata": {},
   "outputs": [],
   "source": [
    "from pydrake.geometry.optimization import IrisOptions, HPolyhedron, Hyperellipsoid\n",
    "from pydrake.solvers import MosekSolver, CommonSolverOption, SolverOptions\n",
    "from pydrake.all import (PiecewisePolynomial, \n",
    "                         InverseKinematics, \n",
    "                         Sphere, \n",
    "                         Rgba, \n",
    "                         RigidTransform, \n",
    "                         RotationMatrix, \n",
    "                         Solve,\n",
    "                         MathematicalProgram,\n",
    "                         RollPitchYaw,\n",
    "                         Cylinder)\n",
    "import time\n",
    "import pydrake"
   ]
  },
  {
   "cell_type": "code",
   "execution_count": 3,
   "metadata": {},
   "outputs": [
    {
     "name": "stderr",
     "output_type": "stream",
     "text": [
      "INFO:drake:Meshcat listening for connections at http://localhost:7000\n"
     ]
    }
   ],
   "source": [
    "from environments import get_environment_builder\n",
    "\n",
    "plant_builder = get_environment_builder('7DOFBINS')\n",
    "plant, scene_graph, diagram, diagram_context, plant_context, meshcat = plant_builder(usemeshcat=True)\n",
    "\n",
    "scene_graph_context = scene_graph.GetMyMutableContextFromRoot(\n",
    "    diagram_context)"
   ]
  },
  {
   "cell_type": "code",
   "execution_count": 4,
   "metadata": {},
   "outputs": [
    {
     "name": "stdout",
     "output_type": "stream",
     "text": [
      "{'body': <GeometryId value=69>, 'left_finger': <GeometryId value=75>, 'right_finger': <GeometryId value=81>}\n"
     ]
    },
    {
     "name": "stderr",
     "output_type": "stream",
     "text": [
      "/home/peter/.local/lib/python3.8/site-packages/scipy/__init__.py:143: UserWarning: A NumPy version >=1.19.5 and <1.27.0 is required for this version of SciPy (detected version 1.17.4)\n",
      "  warnings.warn(f\"A NumPy version >={np_minversion} and <{np_maxversion}\"\n"
     ]
    }
   ],
   "source": [
    "def show_pose(qvis, plant, plant_context, diagram, diagram_context, endeff_frame, show_body_frame = None):\n",
    "    plant.SetPositions(plant_context, qvis)\n",
    "    diagram.ForcedPublish(diagram_context)\n",
    "    tf =plant.EvalBodyPoseInWorld(plant_context,  plant.GetBodyByName(endeff_frame))\n",
    "    transl = tf.translation()+tf.rotation()@np.array([0,0.1,0])\n",
    "    if show_body_frame is not None:\n",
    "        show_body_frame(RigidTransform(tf.rotation(), transl))\n",
    "\n",
    "def show_ik_target(pose, meshcat, name):\n",
    "    h = 0.2\n",
    "    if 'targ' in name:\n",
    "        colors = [Rgba(1,0.5,0, 0.5), Rgba(0.5,1,0, 0.5), Rgba(0.0,0.5,1, 0.5)]\n",
    "    else:\n",
    "        colors = [Rgba(1,0,0, 1), Rgba(0.,1,0, 1), Rgba(0.0,0.0,1, 1)]\n",
    "\n",
    "    rot = pose.rotation()@RotationMatrix.MakeYRotation(np.pi/2)\n",
    "    pos= pose.translation() +pose.rotation()@np.array([h/2, 0,0])\n",
    "    meshcat.SetObject(f\"/drake/ik_target{name}/triad1\",\n",
    "                                   Cylinder(0.01,0.2),\n",
    "                                   colors[0])\n",
    "    meshcat.SetTransform(f\"/drake/ik_target{name}/triad1\",RigidTransform(rot, pos))\n",
    "    rot = pose.rotation()@RotationMatrix.MakeXRotation(-np.pi/2)\n",
    "    pos= pose.translation() +pose.rotation()@np.array([0,h/2,0])\n",
    "\n",
    "    meshcat.SetObject(f\"/drake/ik_target{name}/triad2\",\n",
    "                                   Cylinder(0.01,0.2),\n",
    "                                   colors[1])\n",
    "    meshcat.SetTransform(f\"/drake/ik_target{name}/triad2\",RigidTransform(rot, pos))\n",
    "    pos= pose.translation().copy()\n",
    "    rot = pose.rotation()\n",
    "    pos = pos + rot@np.array([0,0,h/2])\n",
    "    meshcat.SetObject(f\"/drake/ik_target{name}/triad3\",\n",
    "                                   Cylinder(0.01,0.2),\n",
    "                                   colors[2])\n",
    "    meshcat.SetTransform(f\"/drake/ik_target{name}/triad3\",RigidTransform(rot, pos))\n",
    "from visualization_utils import get_shunk_plotter\n",
    "\n",
    "plot_endeff_poses = get_shunk_plotter(plant, scene_graph, plant_context, diagram_context)"
   ]
  },
  {
   "cell_type": "code",
   "execution_count": 5,
   "metadata": {},
   "outputs": [],
   "source": [
    "show_body_frame = partial(show_ik_target, \n",
    "                          meshcat=meshcat, \n",
    "                          name='endeff_acutal', \n",
    "                          )\n",
    "showres = partial(show_pose, \n",
    "                  plant = plant, \n",
    "                  plant_context = plant_context, \n",
    "                  diagram = diagram, \n",
    "                  diagram_context = diagram_context,\n",
    "                  endeff_frame = 'body',\n",
    "                  show_body_frame=show_body_frame)"
   ]
  },
  {
   "cell_type": "code",
   "execution_count": 6,
   "metadata": {},
   "outputs": [],
   "source": [
    "from visualization_utils import plot_points, plot_regions\n",
    "from pydrake.all import VPolytope, Role\n",
    "from task_space_seeding_utils import (get_cvx_hulls_of_bodies,\n",
    "                                      get_AABB_cvxhull,\n",
    "                                      task_space_sampler_mp,\n",
    "                                      task_space_sampler)"
   ]
  },
  {
   "cell_type": "code",
   "execution_count": 7,
   "metadata": {},
   "outputs": [],
   "source": [
    "def densify_waypoints(waypoints_q, densify = 200):\n",
    "    dists = []\n",
    "    dense_waypoints = []\n",
    "    for idx in range(len(waypoints_q[:-1])):\n",
    "        a = waypoints_q[idx]\n",
    "        b = waypoints_q[idx+1]\n",
    "        t = np.linspace(1,0, 10)\n",
    "        locs_endeff = []\n",
    "        dists_endeff = []\n",
    "        for tval in t:\n",
    "            a = a*tval + b*(1-tval)\n",
    "            qa = a#Ratfk.ComputeQValue(ta, np.zeros(7))\n",
    "            #showres(qa)\n",
    "            #time.sleep(0.1)            \n",
    "            plant.SetPositions(plant_context, qa)\n",
    "            tf_tot= plant.EvalBodyPoseInWorld(plant_context, plant.GetBodyByName('body'))\n",
    "            tf = tf_tot.translation() + tf_tot.GetAsMatrix4()[:3,:3][:,1] *0.13\n",
    "            locs_endeff.append(tf)\n",
    "        for i in range(len(locs_endeff)-1):\n",
    "            dists_endeff.append(np.linalg.norm(locs_endeff[i]- locs_endeff[i+1]))\n",
    "        d = np.sum(dists_endeff)\n",
    "        #print(d * densify)\n",
    "        t = np.linspace(1,0,int(densify*d))\n",
    "        for tval in t:\n",
    "            dense_waypoints.append(waypoints_q[idx]*tval + waypoints_q[idx+1]*(1-tval))\n",
    "    return dense_waypoints\n",
    "\n",
    "def plot_endeff_traj(dense_waypoints, name = '', color= (1,0,0,1)):\n",
    "    color = Rgba(color[0], color[1], color[2], color[3])\n",
    "    start_idx = 0\n",
    "    for i, qa in enumerate(dense_waypoints):\n",
    "        #qa = Ratfk.ComputeQValue(ta, np.zeros(7))\n",
    "        #showres(qa)\n",
    "        #time.sleep(0.1)            \n",
    "        plant.SetPositions(plant_context, qa)\n",
    "        tf_tot= plant.EvalBodyPoseInWorld(plant_context, plant.GetBodyByName('body'))\n",
    "        tf = tf_tot.translation() + tf_tot.GetAsMatrix4()[:3,:3][:,1] *0.13\n",
    "\n",
    "        meshcat.SetObject(f\"/iris/points/traj/{name}/{i+start_idx}\",\n",
    "                               Sphere(0.01),\n",
    "                               color)\n",
    "\n",
    "        meshcat.SetTransform(f\"/iris/points/traj/{name}/{i+start_idx}\",\n",
    "                                   RigidTransform(RotationMatrix(),\n",
    "                                                  tf))"
   ]
  },
  {
   "cell_type": "code",
   "execution_count": 8,
   "metadata": {},
   "outputs": [],
   "source": [
    "#Samplers for testing coverage\n",
    "from visibility_utils import generate_distinct_colors\n",
    "offset_size = -0.05\n",
    "geom_names = ['bin_base', \n",
    "              'bin_base', \n",
    "              'shelves_body']\n",
    "model_names = ['binL', \n",
    "               'binR', \n",
    "               'shelves']\n",
    "default_pos = [np.array([ 1.53294,  0.4056 ,  0.23294, -0.5944 ,0.,0.9056 ,0.]),\n",
    "               np.array([-1.53294,  0.4056 ,  0.23294, -0.5944 ,0.,  0.9056 ,0. ]),\n",
    "               np.array([ 0., -0.08940423,  0., -1.7087849,  0., 1.32867852,  0.])]\n",
    "approach_dir = [2, \n",
    "                2, \n",
    "                0] \n",
    "approach_sign = [1,1,-1]\n",
    "ts_samplers = []\n",
    "cols = generate_distinct_colors(2*len(model_names), rgb = True)[1:]\n",
    "#cols = [list(c)+[1] for c in cols]\n",
    "AABB_sampling_regions = []\n",
    "for i, (g, m) in enumerate(zip(geom_names, model_names)):\n",
    "    cvx_hulls_of_ROI_unsc, bodies = get_cvx_hulls_of_bodies([g], [m], plant, scene_graph, scene_graph_context, scaling = 1.0)\n",
    "    verts = [VPolytope(c).vertices().T for c in cvx_hulls_of_ROI_unsc]\n",
    "    cvx_hulls_of_ROI = cvx_hulls_of_ROI_unsc\n",
    "    cvx_hulls_of_ROI = []\n",
    "    for v in verts:\n",
    "        offset = approach_sign[i]*(np.sign(v[:,approach_dir[i]] - np.mean(v[:,approach_dir[i]]))==approach_sign[i])*offset_size\n",
    "        v[:,approach_dir[i]] += offset #scale*(v[:,approach_dir[i]] - np.mean(v[:,approach_dir[i]])) +  np.mean(v[:,approach_dir[i]])\n",
    "        cvx_hulls_of_ROI.append(HPolyhedron(VPolytope(v.T)))\n",
    "    ts_min, ts_max, cvxh_hpoly = get_AABB_cvxhull(cvx_hulls_of_ROI)\n",
    "    AABB_sampling_regions.append([ts_min, ts_max])\n",
    "    plot_regions(meshcat, cvx_hulls_of_ROI, region_suffix=m,opacity=0.2, colors=[cols[i]])\n",
    "    q0  = default_pos[i] #np.zeros(7)\n",
    "    plant.SetPositions(plant_context, q0)\n",
    "    plant.ForcedPublish(plant_context)\n",
    "    showres(q0)\n",
    "    t0 = plant.EvalBodyPoseInWorld(plant_context,  plant.GetBodyByName(\"body\")).translation()       \n",
    "    sample_handle_ts = partial(task_space_sampler_mp,\n",
    "                            q0 = q0,\n",
    "                            t0 = t0,\n",
    "                            plant_builder = plant_builder,\n",
    "                            frame_names = ['body'],\n",
    "                            offsets = [np.array([0,0.1,0])],\n",
    "                            cvx_hulls_of_ROI =cvx_hulls_of_ROI,\n",
    "                            ts_min = ts_min,\n",
    "                            ts_max = ts_max,\n",
    "                            collision_free = True,\n",
    "                            track_orientation = True,\n",
    "                            axis_alignment = approach_dir[i]\n",
    "                            )\n",
    "    ts_samplers.append(sample_handle_ts)"
   ]
  },
  {
   "cell_type": "code",
   "execution_count": 9,
   "metadata": {},
   "outputs": [
    {
     "name": "stderr",
     "output_type": "stream",
     "text": [
      "INFO:drake:Allocating contexts to support 20 parallel queries given omp_num_threads 20 omp_max_threads 20 and omp_thread_limit 2147483647 OpenMP enabled in build? true\n"
     ]
    }
   ],
   "source": [
    "from pydrake.all import SceneGraphCollisionChecker\n",
    "from visibility_utils import vgraph\n",
    "from clique_covers import compute_greedy_clique_partition\n",
    "\n",
    "robot_instances = [plant.GetModelInstanceByName(\"iiwa\"), plant.GetModelInstanceByName(\"wsg\")]\n",
    "checker = SceneGraphCollisionChecker(model = diagram,#.Clone(), \n",
    "                    robot_model_instances = robot_instances,\n",
    "                    distance_function_weights =  [1] * plant.num_positions(),\n",
    "                    #configuration_distance_function = _configuration_distance,\n",
    "                    edge_step_size = 0.02)\n",
    "vgraph_handle = partial(vgraph, checker = checker, parallelize = True) "
   ]
  },
  {
   "cell_type": "code",
   "execution_count": 10,
   "metadata": {},
   "outputs": [],
   "source": [
    "import os\n",
    "import pickle\n",
    "Npts= 500\n",
    "if f\"7dof_bin_test_samps{Npts}_{offset_size}.pkl\" in os.listdir('tmp'):\n",
    "    with open(f\"tmp/7dof_bin_test_samps{Npts}_{offset_size}.pkl\", 'rb') as f:\n",
    "        d = pickle.load(f)\n",
    "        q_obj = d['q_obj']\n",
    "        t_obj = d['t_obj']\n",
    "        ad_mat = d['ad_obj']\n",
    "else:\n",
    "    q_obj = []\n",
    "    t_obj = []\n",
    "    ad_obj = []\n",
    "    for sh in ts_samplers:\n",
    "        q, t, _, res = sh(Npts,[])\n",
    "        ad_mat = vgraph_handle(q)\n",
    "        q_obj +=[q]\n",
    "        t_obj +=[t]\n",
    "        ad_obj +=[ad_obj]\n",
    "    with open(f\"tmp/7dof_bin_test_samps{Npts}_{offset_size}.pkl\", 'wb') as f:\n",
    "        pickle.dump({'q_obj':q_obj, 't_obj':t_obj, 'ad_obj': ad_obj}, f)"
   ]
  },
  {
   "cell_type": "code",
   "execution_count": 11,
   "metadata": {},
   "outputs": [],
   "source": [
    "# meshcat.Delete('/iris/shunk')\n",
    "# meshcat.SetProperty('/iris/regionsshelves', 'visible', False)\n",
    "# plot_endeff_poses(meshcat, q_obj[0])"
   ]
  },
  {
   "cell_type": "code",
   "execution_count": 12,
   "metadata": {},
   "outputs": [],
   "source": [
    "from visibility_utils import check_visibility_to_regions\n",
    "from utils import load_regions_from_experiment_dir\n",
    "\n",
    "regions_c = load_regions_from_experiment_dir(\n",
    "                    'logs/experiment_7dof_iiwa_bins_taskspace_1_1500_0.400greedy20231024205238')\n",
    "\n",
    "#7dof_bin_regions_noapproachdir_2000_0.05_1337\n",
    "#7dof_bin_regions_2000_0.05_1337.pkl\n",
    "with open(f\"tmp/7dof_bin_regions_noapproachdir_2000_0.05_1337.pkl\", 'rb') as f:\n",
    "    d = pickle.load(f)\n",
    "    regions_shelves = d['r']"
   ]
  },
  {
   "cell_type": "code",
   "execution_count": 13,
   "metadata": {},
   "outputs": [
    {
     "data": {
      "text/plain": [
       "Text(0.5, 1.0, 'connectivity')"
      ]
     },
     "execution_count": 13,
     "metadata": {},
     "output_type": "execute_result"
    },
    {
     "data": {
      "image/png": "[encoded data removed]",
      "text/plain": [
       "<Figure size 720x720 with 1 Axes>"
      ]
     },
     "metadata": {},
     "output_type": "display_data"
    }
   ],
   "source": [
    "import networkx as nx\n",
    "import matplotlib.pyplot as plt\n",
    "from visibility_utils import generate_distinct_colors\n",
    "regs = regions_shelves+regions_c\n",
    "connectivity_graph = nx.Graph()\n",
    "for idx in range(len(regs)):\n",
    "    connectivity_graph.add_node(idx)\n",
    "\n",
    "for idx1 in range(len(regs)):\n",
    "    for idx2 in range(idx1 +1, len(regs)):\n",
    "        r1 = regs[idx1]\n",
    "        r2 = regs[idx2]\n",
    "        if r1.IntersectsWith(r2):\n",
    "            connectivity_graph.add_edge(idx1,idx2)\n",
    "\n",
    "largest_con_comp = list(list(nx.connected_components(connectivity_graph))[0])\n",
    "regions_connected_component = [regs[i] for i in largest_con_comp]\n",
    "\n",
    "fig = plt.figure(figsize=(10,10))\n",
    "hues = generate_distinct_colors(2+1)[1:]\n",
    "colors = []\n",
    "for g, h in zip([regs], hues):\n",
    "    colors += [h]*len(g)\n",
    "\n",
    "nx.draw_spring(connectivity_graph, \n",
    "                with_labels = True, \n",
    "                node_color = colors)\n",
    "plt.title(f\"connectivity\")"
   ]
  },
  {
   "cell_type": "code",
   "execution_count": 14,
   "metadata": {},
   "outputs": [
    {
     "name": "stdout",
     "output_type": "stream",
     "text": [
      "[DijkstraSPP] Pre-Building adjacency matrix  0 / 101\n",
      "[DijkstraSPP] Pre-Building adjacency matrix  10 / 101\n",
      "[DijkstraSPP] Pre-Building adjacency matrix  20 / 101\n",
      "[DijkstraSPP] Pre-Building adjacency matrix  30 / 101\n",
      "[DijkstraSPP] Pre-Building adjacency matrix  40 / 101\n",
      "[DijkstraSPP] Pre-Building adjacency matrix  50 / 101\n",
      "[DijkstraSPP] Pre-Building adjacency matrix  60 / 101\n",
      "[DijkstraSPP] Pre-Building adjacency matrix  70 / 101\n",
      "[DijkstraSPP] Pre-Building adjacency matrix  80 / 101\n",
      "[DijkstraSPP] Pre-Building adjacency matrix  90 / 101\n",
      "[DijkstraSPP] Pre-Building adjacency matrix  100 / 101\n",
      "[DijkstraSPP] Pre-Building safe-adjacency matrix  0 / 101\n",
      "[DijkstraSPP] Pre-Building safe-adjacency matrix  10 / 101\n",
      "[DijkstraSPP] Pre-Building safe-adjacency matrix  20 / 101\n",
      "[DijkstraSPP] Pre-Building safe-adjacency matrix  30 / 101\n",
      "[DijkstraSPP] Pre-Building safe-adjacency matrix  40 / 101\n",
      "[DijkstraSPP] Pre-Building safe-adjacency matrix  50 / 101\n",
      "[DijkstraSPP] Pre-Building safe-adjacency matrix  60 / 101\n",
      "[DijkstraSPP] Pre-Building safe-adjacency matrix  70 / 101\n",
      "[DijkstraSPP] Pre-Building safe-adjacency matrix  80 / 101\n",
      "[DijkstraSPP] Pre-Building safe-adjacency matrix  90 / 101\n",
      "[DijkstraSPP] Pre-Building safe-adjacency matrix  100 / 101\n",
      "[DijkstraSPP] Optimizing 1463 point locations in safe sets\n",
      "True\n"
     ]
    }
   ],
   "source": [
    "from dijkstraspp import DijkstraSPP\n",
    "# checker_dspp = SceneGraphCollisionChecker(model = diagram,#.Clone(), \n",
    "#                     robot_model_instances = robot_instances,\n",
    "#                     distance_function_weights =  [1] * plant.num_positions(),\n",
    "#                     #configuration_distance_function = _configuration_distance,\n",
    "#                     edge_step_size = 0.01)\n",
    "dspp = DijkstraSPP(regions_connected_component, checker, verbose=True)"
   ]
  },
  {
   "cell_type": "code",
   "execution_count": 15,
   "metadata": {},
   "outputs": [],
   "source": [
    "q_tot = np.concatenate(tuple(q_obj))"
   ]
  },
  {
   "cell_type": "code",
   "execution_count": 26,
   "metadata": {},
   "outputs": [
    {
     "name": "stdout",
     "output_type": "stream",
     "text": [
      "0.994\n",
      "0.996\n",
      "0.532\n"
     ]
    }
   ],
   "source": [
    "q_obj_vis_idx = []\n",
    "for i in range(3):\n",
    "    visible_centers = check_visibility_to_regions(q_obj[i], regions_connected_component, checker)\n",
    "    visibility_coverage = np.mean([1 if len(v) else 0 for v in visible_centers])\n",
    "    print(visibility_coverage)\n",
    "    q_obj_vis_idx.append(np.where([len(v) for v in visible_centers])[0])"
   ]
  },
  {
   "cell_type": "code",
   "execution_count": 27,
   "metadata": {},
   "outputs": [],
   "source": [
    "q_obj_vis = [q_obj[i][qidx] for i, qidx in enumerate(q_obj_vis_idx)]"
   ]
  },
  {
   "cell_type": "code",
   "execution_count": 28,
   "metadata": {},
   "outputs": [],
   "source": [
    "meshcat.Delete('/iris/shunk')\n",
    "plot_endeff_poses(meshcat, np.concatenate(tuple(q_obj_vis),axis = 0)[::2])"
   ]
  },
  {
   "cell_type": "code",
   "execution_count": 31,
   "metadata": {},
   "outputs": [
    {
     "name": "stdout",
     "output_type": "stream",
     "text": [
      "53\n",
      "[DijkstraSPP] Attempting visibility extension for end\n",
      "[DijkstraSPP] optimized distance/ start-distance = 6.30 / 7.80 = 0.81\n",
      "356\n",
      "[DijkstraSPP] Attempting visibility extension for start\n",
      "[DijkstraSPP] Attempting visibility extension for end\n",
      "[DijkstraSPP] optimized distance/ start-distance = 14.21 / 14.63 = 0.97\n",
      "456\n",
      "[DijkstraSPP] Attempting visibility extension for start\n",
      "[DijkstraSPP] Attempting visibility extension for end\n",
      "[DijkstraSPP] optimized distance/ start-distance = 8.80 / 9.48 = 0.93\n",
      "207\n",
      "[DijkstraSPP] Attempting visibility extension for start\n",
      "[DijkstraSPP] optimized distance/ start-distance = 5.71 / 7.40 = 0.77\n",
      "127\n",
      "[DijkstraSPP] optimized distance/ start-distance = 4.93 / 5.86 = 0.84\n",
      "280\n",
      "[DijkstraSPP] Attempting visibility extension for end\n",
      "[DijkstraSPP] optimized distance/ start-distance = 5.91 / 7.05 = 0.84\n",
      "304\n",
      "[DijkstraSPP] Attempting visibility extension for start\n",
      "[DijkstraSPP] Attempting visibility extension for end\n",
      "143\n",
      "[DijkstraSPP] Attempting visibility extension for start\n",
      "[DijkstraSPP] Attempting visibility extension for end\n",
      "[DijkstraSPP] optimized distance/ start-distance = 6.48 / 7.34 = 0.88\n",
      "180\n",
      "[DijkstraSPP] Attempting visibility extension for start\n",
      "[DijkstraSPP] Attempting visibility extension for end\n",
      "[DijkstraSPP] optimized distance/ start-distance = 3.45 / 4.16 = 0.83\n",
      "58\n",
      "[DijkstraSPP] Attempting visibility extension for start\n",
      "[DijkstraSPP] Attempting visibility extension for end\n",
      "[DijkstraSPP] optimized distance/ start-distance = 6.10 / 6.10 = 1.00\n",
      "151\n",
      "[DijkstraSPP] Attempting visibility extension for start\n",
      "[DijkstraSPP] Attempting visibility extension for end\n",
      "[DijkstraSPP] optimized distance/ start-distance = 11.27 / 13.00 = 0.87\n",
      "261\n",
      "[DijkstraSPP] Attempting visibility extension for start\n",
      "[DijkstraSPP] Attempting visibility extension for end\n",
      "[DijkstraSPP] optimized distance/ start-distance = 8.78 / 10.69 = 0.82\n",
      "298\n",
      "[DijkstraSPP] Attempting visibility extension for start\n",
      "[DijkstraSPP] Attempting visibility extension for end\n",
      "13\n",
      "[DijkstraSPP] Attempting visibility extension for start\n",
      "[DijkstraSPP] Attempting visibility extension for end\n",
      "[DijkstraSPP] optimized distance/ start-distance = 7.87 / 9.09 = 0.87\n",
      "177\n",
      "[DijkstraSPP] Attempting visibility extension for start\n",
      "[DijkstraSPP] Attempting visibility extension for end\n",
      "[DijkstraSPP] optimized distance/ start-distance = 7.65 / 8.52 = 0.90\n",
      "211\n",
      "[DijkstraSPP] Attempting visibility extension for start\n",
      "[DijkstraSPP] Attempting visibility extension for end\n",
      "[DijkstraSPP] optimized distance/ start-distance = 6.61 / 8.30 = 0.80\n",
      "175\n",
      "[DijkstraSPP] Attempting visibility extension for start\n",
      "[DijkstraSPP] Attempting visibility extension for end\n",
      "[DijkstraSPP] optimized distance/ start-distance = 9.20 / 9.74 = 0.94\n",
      "257\n",
      "[DijkstraSPP] Attempting visibility extension for start\n",
      "[DijkstraSPP] Attempting visibility extension for end\n",
      "[DijkstraSPP] optimized distance/ start-distance = 8.88 / 9.42 = 0.94\n",
      "255\n",
      "[DijkstraSPP] Attempting visibility extension for start\n",
      "[DijkstraSPP] Attempting visibility extension for end\n",
      "[DijkstraSPP] optimized distance/ start-distance = 8.66 / 9.75 = 0.89\n",
      "167\n",
      "[DijkstraSPP] Attempting visibility extension for start\n",
      "[DijkstraSPP] optimized distance/ start-distance = 9.91 / 10.42 = 0.95\n",
      "94\n",
      "[DijkstraSPP] Attempting visibility extension for end\n",
      "[DijkstraSPP] optimized distance/ start-distance = 5.37 / 6.28 = 0.86\n",
      "174\n",
      "[DijkstraSPP] Attempting visibility extension for start\n",
      "[DijkstraSPP] optimized distance/ start-distance = 4.64 / 5.31 = 0.87\n",
      "304\n",
      "[DijkstraSPP] Attempting visibility extension for end\n",
      "[DijkstraSPP] optimized distance/ start-distance = 5.89 / 6.13 = 0.96\n",
      "184\n",
      "[DijkstraSPP] Attempting visibility extension for start\n",
      "[DijkstraSPP] Attempting visibility extension for end\n",
      "[DijkstraSPP] optimized distance/ start-distance = 10.10 / 12.27 = 0.82\n",
      "233\n",
      "[DijkstraSPP] Attempting visibility extension for start\n",
      "[DijkstraSPP] Attempting visibility extension for end\n",
      "[DijkstraSPP] optimized distance/ start-distance = 7.91 / 8.77 = 0.90\n",
      "215\n",
      "[DijkstraSPP] Attempting visibility extension for start\n",
      "[DijkstraSPP] Attempting visibility extension for end\n",
      "45\n",
      "[DijkstraSPP] Attempting visibility extension for start\n",
      "[DijkstraSPP] Attempting visibility extension for end\n",
      "[DijkstraSPP] optimized distance/ start-distance = 5.77 / 6.88 = 0.84\n",
      "283\n",
      "[DijkstraSPP] Attempting visibility extension for start\n",
      "[DijkstraSPP] Attempting visibility extension for end\n",
      "[DijkstraSPP] optimized distance/ start-distance = 6.76 / 7.44 = 0.91\n",
      "218\n",
      "[DijkstraSPP] Attempting visibility extension for start\n",
      "[DijkstraSPP] optimized distance/ start-distance = 6.15 / 7.68 = 0.80\n",
      "401\n",
      "[DijkstraSPP] Attempting visibility extension for end\n",
      "[DijkstraSPP] optimized distance/ start-distance = 3.58 / 4.44 = 0.81\n",
      "125\n",
      "[DijkstraSPP] Attempting visibility extension for start\n",
      "[DijkstraSPP] Attempting visibility extension for end\n",
      "[DijkstraSPP] optimized distance/ start-distance = 6.40 / 7.95 = 0.80\n",
      "105\n",
      "[DijkstraSPP] Attempting visibility extension for start\n",
      "[DijkstraSPP] Attempting visibility extension for end\n",
      "[DijkstraSPP] optimized distance/ start-distance = 9.39 / 9.58 = 0.98\n",
      "113\n",
      "[DijkstraSPP] Attempting visibility extension for start\n",
      "[DijkstraSPP] Attempting visibility extension for end\n",
      "[DijkstraSPP] optimized distance/ start-distance = 5.85 / 6.24 = 0.94\n",
      "90\n",
      "[DijkstraSPP] Attempting visibility extension for start\n",
      "[DijkstraSPP] Attempting visibility extension for end\n",
      "[DijkstraSPP] optimized distance/ start-distance = 8.28 / 9.84 = 0.84\n",
      "138\n",
      "[DijkstraSPP] Attempting visibility extension for start\n",
      "[DijkstraSPP] Attempting visibility extension for end\n",
      "[DijkstraSPP] optimized distance/ start-distance = 11.71 / 12.83 = 0.91\n",
      "227\n",
      "[DijkstraSPP] Attempting visibility extension for start\n",
      "[DijkstraSPP] Attempting visibility extension for end\n",
      "2\n",
      "[DijkstraSPP] Attempting visibility extension for start\n",
      "[DijkstraSPP] Attempting visibility extension for end\n",
      "[DijkstraSPP] optimized distance/ start-distance = 8.76 / 9.31 = 0.94\n",
      "187\n",
      "[DijkstraSPP] Attempting visibility extension for start\n",
      "[DijkstraSPP] Attempting visibility extension for end\n",
      "[DijkstraSPP] optimized distance/ start-distance = 7.23 / 7.25 = 1.00\n",
      "192\n",
      "[DijkstraSPP] Attempting visibility extension for start\n",
      "[DijkstraSPP] optimized distance/ start-distance = 6.99 / 7.33 = 0.95\n",
      "176\n"
     ]
    },
    {
     "ename": "KeyboardInterrupt",
     "evalue": "",
     "output_type": "error",
     "traceback": [
      "\u001b[0;31m---------------------------------------------------------------------------\u001b[0m",
      "\u001b[0;31mKeyboardInterrupt\u001b[0m                         Traceback (most recent call last)",
      "\u001b[0;32m<ipython-input-31-6e656b8559c1>\u001b[0m in \u001b[0;36m<module>\u001b[0;34m\u001b[0m\n\u001b[1;32m     41\u001b[0m             \u001b[0;31m#break\u001b[0m\u001b[0;34m\u001b[0m\u001b[0;34m\u001b[0m\u001b[0;34m\u001b[0m\u001b[0m\n\u001b[1;32m     42\u001b[0m         \u001b[0;31m#frame+=1\u001b[0m\u001b[0;34m\u001b[0m\u001b[0;34m\u001b[0m\u001b[0;34m\u001b[0m\u001b[0m\n\u001b[0;32m---> 43\u001b[0;31m         \u001b[0mtime\u001b[0m\u001b[0;34m.\u001b[0m\u001b[0msleep\u001b[0m\u001b[0;34m(\u001b[0m\u001b[0;36m0.01\u001b[0m\u001b[0;34m)\u001b[0m\u001b[0;34m\u001b[0m\u001b[0;34m\u001b[0m\u001b[0m\n\u001b[0m\u001b[1;32m     44\u001b[0m     \u001b[0mstart\u001b[0m \u001b[0;34m=\u001b[0m \u001b[0mnxt\u001b[0m\u001b[0;34m.\u001b[0m\u001b[0mcopy\u001b[0m\u001b[0;34m(\u001b[0m\u001b[0;34m)\u001b[0m\u001b[0;34m\u001b[0m\u001b[0;34m\u001b[0m\u001b[0m\n\u001b[1;32m     45\u001b[0m     \u001b[0mtime\u001b[0m\u001b[0;34m.\u001b[0m\u001b[0msleep\u001b[0m\u001b[0;34m(\u001b[0m\u001b[0;36m0.01\u001b[0m\u001b[0;34m)\u001b[0m\u001b[0;34m\u001b[0m\u001b[0;34m\u001b[0m\u001b[0m\n",
      "\u001b[0;31mKeyboardInterrupt\u001b[0m: "
     ]
    }
   ],
   "source": [
    "import time\n",
    "from visibility_utils import point_in_regions\n",
    "centers = [r.ChebyshevCenter() for r in regions_connected_component]\n",
    "# meshcat.SetProperty(f\"/Grid\", \"visible\", False)\n",
    "# meshcat.SetProperty(f\"/drake/visualizer/shunk\", \"visible\", False)\n",
    "objs = [0,1,2,2,2]\n",
    "\n",
    "np.random.seed(112)\n",
    "start = centers[1]\n",
    "cur_time = 0\n",
    "obj = 0\n",
    "dist_ratio = []\n",
    "cols = []\n",
    "for _ in range(100):\n",
    "    #nxt = vs.sample_in_regions() #\n",
    "    nxt = q_obj_vis[obj][np.random.choice(len(q_obj_vis[obj]))]\n",
    "    objidx = np.random.choice(len(objs))\n",
    "    obj = objs[objidx]\n",
    "    wp, dist = dspp.solve(start, nxt, refine_path=True)#dijkstra_spp(start, nxt, node_intersections, base_ad_mat, vs.regions, point_conversion, optimize= True)\n",
    "    #wp2, dist2 = dspp2.solve(start, nxt, refine_path=True)\n",
    "    #dist_ratio.append([dist, dist2])\n",
    "    #print(dist)\n",
    "    meshcat.Delete(\"/iris/points/traj/\")\n",
    "    dense_waypoints = densify_waypoints(wp, densify=100)\n",
    "    dense_waypoints_plt = densify_waypoints(wp, densify=90)\n",
    "    plot_endeff_traj(dense_waypoints_plt)\n",
    "    print(len(dense_waypoints))\n",
    "    for qa in dense_waypoints:\n",
    "        #anim_endeff_traj(dense_waypoints_plt, animation, frame)\n",
    "        #qa = #Ratfk.ComputeQValue(ta, np.zeros(3))\n",
    "        showres(qa)\n",
    "        #diagram_context.SetTime(cur_time)\n",
    "        if not checker.CheckConfigCollisionFree(qa):\n",
    "            print('col')\n",
    "            cols.append(wp)\n",
    "            \n",
    "            break\n",
    "            # for idx, r in enumerate(regions_connected_component):\n",
    "            #     if point_in_regions(qa, [r]):\n",
    "            #         print(f\"collision in region {largest_con_comp[idx]}\")\n",
    "            #break\n",
    "        #frame+=1\n",
    "        time.sleep(0.01)\n",
    "    start = nxt.copy()\n",
    "    time.sleep(0.01)\n",
    "        \n",
    "        # meshcat.Delete(\"/iris/points/traj/\")"
   ]
  },
  {
   "cell_type": "code",
   "execution_count": 21,
   "metadata": {},
   "outputs": [
    {
     "data": {
      "text/plain": [
       "[array([ 1.48154867,  0.57168651,  0.27176364, -1.58355748, -0.41569331,\n",
       "         0.94480828, -1.32896028]),\n",
       " array([ 1.17418488,  0.5570616 ,  0.22913215, -1.66059692, -0.02802541,\n",
       "         0.86231895, -0.44658728]),\n",
       " array([-1.38473695,  0.60535617, -0.16707129, -1.88802861,  0.17961375,\n",
       "         0.49833209,  0.74410805])]"
      ]
     },
     "execution_count": 21,
     "metadata": {},
     "output_type": "execute_result"
    }
   ],
   "source": [
    "cols[0]"
   ]
  },
  {
   "cell_type": "code",
   "execution_count": 20,
   "metadata": {},
   "outputs": [],
   "source": [
    "wps_problem = wp \n",
    "[start_p, target_p]=dist "
   ]
  },
  {
   "cell_type": "code",
   "execution_count": 25,
   "metadata": {},
   "outputs": [
    {
     "name": "stdout",
     "output_type": "stream",
     "text": [
      "[DijkstraSPP] Refine path SCOP failed\n"
     ]
    },
    {
     "data": {
      "text/plain": [
       "(array([1463,  803,  935, 1409, 1456,  403,  390,   15, 1464]),\n",
       " [array([-1.38473695,  0.60535617, -0.16707129, -1.88802861,  0.17961375,\n",
       "          0.49833209,  0.74410805]),\n",
       "  array([ 1.52588808,  0.26182172,  0.02066826, -1.86727358, -0.17205274,\n",
       "          0.94465888, -0.88172573])])"
      ]
     },
     "execution_count": 25,
     "metadata": {},
     "output_type": "execute_result"
    }
   ],
   "source": [
    "dspp.refine_path_SOCP(wps_problem, start_p, target_p, [1, -2])"
   ]
  },
  {
   "cell_type": "code",
   "execution_count": 24,
   "metadata": {},
   "outputs": [
    {
     "data": {
      "text/plain": [
       "[1, 7]"
      ]
     },
     "execution_count": 24,
     "metadata": {},
     "output_type": "execute_result"
    }
   ],
   "source": [
    "[len(wps_problem)+i if i<0 else i for i in [1, -2]]"
   ]
  },
  {
   "cell_type": "code",
   "execution_count": 29,
   "metadata": {},
   "outputs": [
    {
     "name": "stdout",
     "output_type": "stream",
     "text": [
      "[DijkstraSPP] Refine path SCOP failed\n",
      "[1463  803  935 1409 1456  403  390   15 1464] [array([-1.38473695,  0.60535617, -0.16707129, -1.88802861,  0.17961375,\n",
      "        0.49833209,  0.74410805]), array([ 1.52588808,  0.26182172,  0.02066826, -1.86727358, -0.17205274,\n",
      "        0.94465888, -0.88172573])]\n"
     ]
    }
   ],
   "source": [
    "#intermediate_nodes = [self.node_intersections[idx] for idx in wps[1:-1]]\n",
    "from pydrake.all import eq\n",
    "dim = len(start_p)\n",
    "fixed_idx = [1,-2]\n",
    "prog = MathematicalProgram()\n",
    "wps = np.array(wps_problem)\n",
    "int_waypoints = prog.NewContinuousVariables(len(wps[1:-1]), dim)\n",
    "for i, wp in enumerate(wps[1:-1]):\n",
    "    dspp.safe_sets[wp].AddPointInSetConstraints(prog, int_waypoints[i,:])\n",
    "#convert fixed_idx \n",
    "fixed_idx_conv = [len(wps)+i if i<0 else i for i in fixed_idx]\n",
    "for i in fixed_idx_conv:\n",
    "    prog.AddLinearConstraint(eq(int_waypoints[i-1,:], dspp.reppts[wps[1:-1][i-1],:]))\n",
    "\n",
    "prev = start_p\n",
    "cost = 0 \n",
    "for idx in range(len(wps[1:-1])):\n",
    "    t = prog.NewContinuousVariables(dim+1, 't'+str(idx))\n",
    "    prog.AddConstraint(eq(t[1:], prev-int_waypoints[idx]))\n",
    "    prev = int_waypoints[idx]\n",
    "    prog.AddLorentzConeConstraint(t)\n",
    "    cost += t[0]\n",
    "t = prog.NewContinuousVariables(dim+1, 'tend')\n",
    "prog.AddConstraint(eq(t[1:], prev-target_p))\n",
    "prog.AddLorentzConeConstraint(t)\n",
    "prog.SetInitialGuess(int_waypoints, dspp.reppts[wps[1:-1]])\n",
    "cost += t[0]\n",
    "prog.AddCost(cost)\n",
    "\n",
    "res = Solve(prog)\n",
    "if res.is_success():\n",
    "    path = [start]\n",
    "    for i in res.GetSolution(int_waypoints):\n",
    "        path.append(i)\n",
    "    path.append(target_p)\n",
    "    wps_start = [dspp.reppts[idx] for idx in wps[1:-1]]\n",
    "    dist_start = 0\n",
    "    prev = start\n",
    "    for wp in wps_start + [target_p]:\n",
    "        #dist_start += np.linalg.norm()#* np.array([4.0,3.5,3,2.5,2,2.5,1])\n",
    "        a = prev-wp\n",
    "        dist_start += np.sqrt(a.T@a)\n",
    "        prev = wp\n",
    "    if dspp.verbose: print(\"[DijkstraSPP] optimized distance/ start-distance = {opt:.2f} / {start:.2f} = {res:.2f}\".format(opt = res.get_optimal_cost(), start = dist_start, res = res.get_optimal_cost()/dist_start))\n",
    "    print(path, res.get_optimal_cost())\n",
    "else:\n",
    "    print(\"[DijkstraSPP] Refine path SCOP failed\")\n",
    "    print( wps, [start_p,target_p])"
   ]
  },
  {
   "cell_type": "code",
   "execution_count": 30,
   "metadata": {},
   "outputs": [
    {
     "name": "stdout",
     "output_type": "stream",
     "text": [
      "True\n",
      "True\n",
      "True\n",
      "True\n",
      "True\n",
      "True\n",
      "False\n"
     ]
    }
   ],
   "source": [
    "for i in wps[1:-1]:\n",
    "    pt = dspp.reppts[i]\n",
    "    print(dspp.safe_sets[i].PointInSet(pt))\n"
   ]
  },
  {
   "cell_type": "code",
   "execution_count": 35,
   "metadata": {},
   "outputs": [
    {
     "data": {
      "text/plain": [
       "15"
      ]
     },
     "execution_count": 35,
     "metadata": {},
     "output_type": "execute_result"
    }
   ],
   "source": [
    "wps[-2]"
   ]
  },
  {
   "cell_type": "code",
   "execution_count": 38,
   "metadata": {},
   "outputs": [
    {
     "data": {
      "text/plain": [
       "1.0047917387012717e-08"
      ]
     },
     "execution_count": 38,
     "metadata": {},
     "output_type": "execute_result"
    }
   ],
   "source": [
    "p = dspp.reppts[15,:]\n",
    "r =dspp.safe_sets[15] \n",
    "np.max(r.A()@p - r.b())"
   ]
  },
  {
   "cell_type": "code",
   "execution_count": 28,
   "metadata": {},
   "outputs": [
    {
     "data": {
      "text/plain": [
       "'Mosek'"
      ]
     },
     "execution_count": 28,
     "metadata": {},
     "output_type": "execute_result"
    }
   ],
   "source": [
    "from pydrake.all import ChooseBestSolver\n",
    "ChooseBestSolver(prog).name()"
   ]
  },
  {
   "cell_type": "code",
   "execution_count": 22,
   "metadata": {},
   "outputs": [
    {
     "name": "stdout",
     "output_type": "stream",
     "text": [
      "True\n",
      "False\n"
     ]
    }
   ],
   "source": [
    "for i in range(len(cols[0])-1):\n",
    "    print(checker.CheckEdgeCollisionFreeParallel(cols[0][i], cols[0][i+1]))"
   ]
  },
  {
   "cell_type": "code",
   "execution_count": 50,
   "metadata": {},
   "outputs": [
    {
     "name": "stdout",
     "output_type": "stream",
     "text": [
      "True\n",
      "False\n",
      "False\n",
      "False\n",
      "False\n",
      "False\n",
      "True\n",
      "True\n",
      "True\n",
      "True\n",
      "True\n",
      "False\n",
      "False\n",
      "False\n",
      "False\n",
      "False\n",
      "False\n",
      "False\n",
      "False\n",
      "False\n",
      "False\n",
      "False\n",
      "False\n",
      "False\n",
      "False\n",
      "False\n",
      "False\n",
      "False\n",
      "False\n",
      "False\n",
      "False\n",
      "False\n",
      "False\n",
      "False\n",
      "False\n",
      "False\n",
      "False\n",
      "False\n",
      "False\n",
      "False\n",
      "False\n",
      "False\n",
      "False\n",
      "False\n",
      "False\n",
      "False\n",
      "False\n",
      "False\n",
      "False\n",
      "False\n",
      "False\n",
      "False\n",
      "False\n",
      "False\n",
      "False\n"
     ]
    }
   ],
   "source": [
    "for r in regions_shelves:\n",
    "    print(point_in_regions(q_tot[2], [r]))"
   ]
  },
  {
   "cell_type": "code",
   "execution_count": 49,
   "metadata": {},
   "outputs": [
    {
     "name": "stdout",
     "output_type": "stream",
     "text": [
      "False\n",
      "True\n"
     ]
    }
   ],
   "source": [
    "center = regions_shelves[1].MaximumVolumeInscribedEllipsoid().center()\n",
    "pt = q_tot[2]\n",
    "print(point_in_regions(pt, [regions_shelves[5]]))\n",
    "print(checker.CheckEdgeCollisionFreeParallel(pt,center))"
   ]
  },
  {
   "cell_type": "code",
   "execution_count": 41,
   "metadata": {},
   "outputs": [
    {
     "data": {
      "text/plain": [
       "True"
      ]
     },
     "execution_count": 41,
     "metadata": {},
     "output_type": "execute_result"
    }
   ],
   "source": [
    "point_in_regions(q_tot[2], [regions_shelves[0]])"
   ]
  },
  {
   "cell_type": "code",
   "execution_count": null,
   "metadata": {},
   "outputs": [],
   "source": [
    "q_tot[2]"
   ]
  },
  {
   "cell_type": "code",
   "execution_count": 22,
   "metadata": {},
   "outputs": [
    {
     "name": "stdout",
     "output_type": "stream",
     "text": [
      "0.33666666666666667\n"
     ]
    }
   ],
   "source": [
    "from visibility_utils import point_in_regions\n",
    "inreg = 0\n",
    "for q in q_tot:\n",
    "    if point_in_regions(q, regions_shelves):\n",
    "        inreg+=1\n",
    "print(inreg/len(q_tot))"
   ]
  },
  {
   "cell_type": "code",
   "execution_count": 17,
   "metadata": {},
   "outputs": [
    {
     "data": {
      "text/plain": [
       "[[],\n",
       " [],\n",
       " [],\n",
       " [],\n",
       " [],\n",
       " [],\n",
       " [],\n",
       " [],\n",
       " [],\n",
       " [],\n",
       " [],\n",
       " [],\n",
       " [],\n",
       " [],\n",
       " [],\n",
       " [],\n",
       " [],\n",
       " [],\n",
       " [],\n",
       " [],\n",
       " [],\n",
       " [],\n",
       " [],\n",
       " [],\n",
       " [],\n",
       " [],\n",
       " [],\n",
       " [],\n",
       " [],\n",
       " [],\n",
       " [],\n",
       " [],\n",
       " [],\n",
       " [],\n",
       " [],\n",
       " [],\n",
       " [],\n",
       " [],\n",
       " [],\n",
       " [],\n",
       " [],\n",
       " [],\n",
       " [],\n",
       " [],\n",
       " [],\n",
       " [],\n",
       " [],\n",
       " [],\n",
       " [],\n",
       " [],\n",
       " [],\n",
       " [],\n",
       " [],\n",
       " [],\n",
       " [],\n",
       " [],\n",
       " [],\n",
       " [],\n",
       " [],\n",
       " [],\n",
       " [],\n",
       " [],\n",
       " [],\n",
       " [],\n",
       " [],\n",
       " [],\n",
       " [],\n",
       " [],\n",
       " [],\n",
       " [],\n",
       " [],\n",
       " [],\n",
       " [],\n",
       " [],\n",
       " [],\n",
       " [],\n",
       " [],\n",
       " [],\n",
       " [],\n",
       " [],\n",
       " [],\n",
       " [],\n",
       " [],\n",
       " [],\n",
       " [],\n",
       " [],\n",
       " [],\n",
       " [],\n",
       " [],\n",
       " [],\n",
       " [],\n",
       " [],\n",
       " [],\n",
       " [],\n",
       " [],\n",
       " [],\n",
       " [],\n",
       " [],\n",
       " [],\n",
       " [],\n",
       " [],\n",
       " [],\n",
       " [],\n",
       " [],\n",
       " [],\n",
       " [],\n",
       " [],\n",
       " [],\n",
       " [],\n",
       " [],\n",
       " [],\n",
       " [],\n",
       " [],\n",
       " [],\n",
       " [],\n",
       " [],\n",
       " [],\n",
       " [],\n",
       " [],\n",
       " [],\n",
       " [],\n",
       " [],\n",
       " [],\n",
       " [],\n",
       " [],\n",
       " [],\n",
       " [],\n",
       " [],\n",
       " [],\n",
       " [],\n",
       " [],\n",
       " [],\n",
       " [],\n",
       " [],\n",
       " [],\n",
       " [],\n",
       " [],\n",
       " [],\n",
       " [],\n",
       " [],\n",
       " [],\n",
       " [],\n",
       " [],\n",
       " [],\n",
       " [],\n",
       " [],\n",
       " [],\n",
       " [],\n",
       " [],\n",
       " [],\n",
       " [],\n",
       " [],\n",
       " [],\n",
       " [],\n",
       " [],\n",
       " [],\n",
       " [],\n",
       " [],\n",
       " [],\n",
       " [],\n",
       " [],\n",
       " [],\n",
       " [],\n",
       " [],\n",
       " [],\n",
       " [],\n",
       " [],\n",
       " [],\n",
       " [],\n",
       " [],\n",
       " [],\n",
       " [],\n",
       " [],\n",
       " [],\n",
       " [],\n",
       " [],\n",
       " [],\n",
       " [],\n",
       " [],\n",
       " [],\n",
       " [],\n",
       " [],\n",
       " [],\n",
       " [],\n",
       " [],\n",
       " [],\n",
       " [],\n",
       " [],\n",
       " [],\n",
       " [],\n",
       " [],\n",
       " [],\n",
       " [],\n",
       " [],\n",
       " [],\n",
       " [],\n",
       " [],\n",
       " [],\n",
       " [],\n",
       " [],\n",
       " [],\n",
       " [],\n",
       " [],\n",
       " [],\n",
       " [],\n",
       " [],\n",
       " [],\n",
       " [],\n",
       " [],\n",
       " [],\n",
       " [],\n",
       " [],\n",
       " [],\n",
       " [],\n",
       " [],\n",
       " [],\n",
       " [],\n",
       " [],\n",
       " [],\n",
       " [],\n",
       " [],\n",
       " [],\n",
       " [],\n",
       " [],\n",
       " [],\n",
       " [],\n",
       " [],\n",
       " [],\n",
       " [],\n",
       " [],\n",
       " [],\n",
       " [],\n",
       " [],\n",
       " [],\n",
       " [],\n",
       " [],\n",
       " [],\n",
       " [],\n",
       " [],\n",
       " [],\n",
       " [],\n",
       " [],\n",
       " [],\n",
       " [],\n",
       " [],\n",
       " [],\n",
       " [54],\n",
       " [],\n",
       " [],\n",
       " [],\n",
       " [],\n",
       " [],\n",
       " [],\n",
       " [],\n",
       " [],\n",
       " [],\n",
       " [],\n",
       " [],\n",
       " [],\n",
       " [],\n",
       " [],\n",
       " [54],\n",
       " [],\n",
       " [],\n",
       " [],\n",
       " [],\n",
       " [],\n",
       " [],\n",
       " [],\n",
       " [],\n",
       " [],\n",
       " [],\n",
       " [],\n",
       " [],\n",
       " [],\n",
       " [],\n",
       " [],\n",
       " [],\n",
       " [],\n",
       " [],\n",
       " [],\n",
       " [],\n",
       " [],\n",
       " [],\n",
       " [],\n",
       " [],\n",
       " [],\n",
       " [],\n",
       " [],\n",
       " [],\n",
       " [],\n",
       " [],\n",
       " [],\n",
       " [],\n",
       " [],\n",
       " [],\n",
       " [],\n",
       " [],\n",
       " [],\n",
       " []]"
      ]
     },
     "execution_count": 17,
     "metadata": {},
     "output_type": "execute_result"
    }
   ],
   "source": [
    "visible_centers"
   ]
  },
  {
   "cell_type": "code",
   "execution_count": null,
   "metadata": {},
   "outputs": [],
   "source": []
  }
 ],
 "metadata": {
  "kernelspec": {
   "display_name": "Python 3",
   "language": "python",
   "name": "python3"
  },
  "language_info": {
   "codemirror_mode": {
    "name": "ipython",
    "version": 3
   },
   "file_extension": ".py",
   "mimetype": "text/x-python",
   "name": "python",
   "nbconvert_exporter": "python",
   "pygments_lexer": "ipython3",
   "version": "3.8.10"
  }
 },
 "nbformat": 4,
 "nbformat_minor": 2
}
