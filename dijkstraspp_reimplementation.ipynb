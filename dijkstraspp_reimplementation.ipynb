{
 "cells": [
  {
   "cell_type": "code",
   "execution_count": 1,
   "metadata": {},
   "outputs": [],
   "source": [
    "import math\n",
    "\n",
    "import numpy as np\n",
    "import matplotlib.pyplot as plt\n",
    "\n",
    "from pydrake.solvers import MathematicalProgram, Solve\n",
    "import pydrake.symbolic as sym\n",
    "\n"
   ]
  },
  {
   "cell_type": "code",
   "execution_count": 2,
   "metadata": {},
   "outputs": [],
   "source": [
    "import sympy as sp"
   ]
  },
  {
   "cell_type": "code",
   "execution_count": 3,
   "metadata": {},
   "outputs": [],
   "source": [
    "t, p0x, p1x, p2x, p3x, p0y, p1y, p2y, p3y = sp.symbols('t p_{0x} p1x p2x p3x p0y p1y p2y p3y')\n",
    "b3x = p0x*(1-t)**3 + p1x*3*(1-t)**2*t + p2x*3*(1-t)*t**2 + p3x*t**3\n",
    "b3y = p0y*(1-t)**3 + p1y*3*(1-t)**2*t + p2y*3*(1-t)*t**2 + p3y*t**3"
   ]
  },
  {
   "cell_type": "code",
   "execution_count": 4,
   "metadata": {},
   "outputs": [
    {
     "data": {
      "text/latex": [
       "$\\displaystyle 3 p1x t \\left(1 - t\\right)^{2} + 3 p2x t^{2} \\cdot \\left(1 - t\\right) + p3x t^{3} + p_{0x} \\left(1 - t\\right)^{3}$"
      ],
      "text/plain": [
       "3*p1x*t*(1 - t)**2 + 3*p2x*t**2*(1 - t) + p3x*t**3 + p_{0x}*(1 - t)**3"
      ]
     },
     "execution_count": 4,
     "metadata": {},
     "output_type": "execute_result"
    }
   ],
   "source": [
    "b3x.collect(p0x).collect(p1x).collect(p2x).collect(p3x)"
   ]
  },
  {
   "cell_type": "code",
   "execution_count": 53,
   "metadata": {},
   "outputs": [],
   "source": [
    "from scipy.sparse import coo_matrix\n",
    "import numpy as np\n",
    "from pydrake.all import MathematicalProgram, Solve, eq\n",
    "from scipy.sparse.csgraph import dijkstra\n",
    "from scipy.sparse import lil_matrix \n",
    "\n",
    "class DijkstraSPP:\n",
    "    def __init__(self, regions, verbose = True):\n",
    "        self.verbose = verbose\n",
    "        self.safe_sets = []\n",
    "        self.safe_adjacencies = []\n",
    "        self.regions = [r for r in regions]\n",
    "        for id1, r1 in enumerate(regions):\n",
    "            for id2, r2 in enumerate(regions):\n",
    "                if id1 != id2 and id1 < id2:\n",
    "                    if r1.IntersectsWith(r2):\n",
    "                        self.safe_sets.append(r1.Intersection(r2))\n",
    "                        self.safe_adjacencies.append([id1, id2])\n",
    "                        \n",
    "        reppts = np.array([s.ChebyshevCenter() for s in self.safe_sets])\n",
    "        \n",
    "        safe_ad = lil_matrix((len(self.safe_sets), len(self.safe_sets)))\n",
    "        for id in range(len(regions)):\n",
    "            safeset_idxs_in_region_id = np.where([id in s for s in self.safe_adjacencies])[0]\n",
    "            for i,id1 in enumerate(safeset_idxs_in_region_id[:-1]):\n",
    "                for id2 in safeset_idxs_in_region_id[i:]:     \n",
    "                    safe_ad[id1, id2] = 1\n",
    "                    safe_ad[id2, id1] = 1\n",
    "                    \n",
    "        #optimize_reppts\n",
    "        prog = MathematicalProgram()\n",
    "        repopt = prog.NewContinuousVariables(*reppts.shape)\n",
    "        for i, s in enumerate(self.safe_sets):\n",
    "            s.AddPointInSetConstraints(prog, repopt[i,:])\n",
    "\n",
    "        for i in range(len(self.safe_sets)):\n",
    "            for j in range(i+1, len(self.safe_sets)):\n",
    "                if safe_ad[i,j]==1:\n",
    "                    prog.AddCost(np.linalg.norm(repopt[i,:]- repopt[j,:]))\n",
    "        result = Solve(prog)\n",
    "        print(result.is_success())\n",
    "        self.reppts = result.GetSolution(repopt)\n",
    "        dist_mat = lil_matrix((len(self.safe_sets), len(self.safe_sets)))\n",
    "        for i in range(len(self.safe_sets)):\n",
    "            for j in range(i+1, len(self.safe_sets)):\n",
    "                if safe_ad[i,j]==1:\n",
    "                    dist = np.linalg.norm(self.reppts[i,:]- self.reppts[j,:])\n",
    "                    dist_mat[i,j] = dist_mat[j,i] = dist\n",
    "        self.dist_mat = dist_mat.tocoo()\n",
    "    \n",
    "    def solve(self, \n",
    "              start,\n",
    "              target,\n",
    "              refine_path = True):\n",
    "        ad_mat = self.extend_adjacency_mat(start, target)\n",
    "        if ad_mat is not None:\n",
    "            wps, dist = self.dijkstra_in_configspace(adj_mat=ad_mat)\n",
    "            if dist<0:\n",
    "                print('[DijkstraSPP] Points not reachable')\n",
    "                return [], -1\n",
    "            if refine_path:\n",
    "                location_wps_optimized, dist_optimized = self.refine_path_SOCP(wps, \n",
    "                                                                        start, \n",
    "                                                                        target, \n",
    "                                                                        )\n",
    "                return location_wps_optimized, dist_optimized\n",
    "            \n",
    "            intermediate_nodes = [self.reppts[idx, :] for idx in wps[1:-1]]\n",
    "            waypoints = [start] + intermediate_nodes + [target]\n",
    "            return waypoints, dist\n",
    "        else:\n",
    "            print('[DijkstraSPP] Points not in regions')\n",
    "            return [], -1\n",
    "\n",
    "\n",
    "    def dijkstra_in_configspace(self, adj_mat):\n",
    "        # convention for start and target: source point is second to last and target is last point\n",
    "        src = adj_mat.shape[0] -2\n",
    "        target = adj_mat.shape[0] -1\n",
    "        dist, pred = dijkstra(adj_mat, directed=False, indices=src, return_predecessors=True)\n",
    "        #print(f'{len(np.argwhere(pred == -9999))} disconnected nodes'), #np.argwhere(pred == -9999))\n",
    "        idxs = (pred == -9999)\n",
    "        pred[idxs] = -1000000\n",
    "        dist[idxs] = -1000000\n",
    "        sp_list = []\n",
    "        sp_length = dist[target]\n",
    "        if sp_length<0:\n",
    "            return [], sp_length\n",
    "        current_idx = target\n",
    "        sp_list.append(current_idx)\n",
    "        while not current_idx == adj_mat.shape[0] - 2:\n",
    "            current_idx = pred[current_idx]\n",
    "            sp_list.append(current_idx)\n",
    "            if current_idx==src: break\n",
    "        return [idx for idx in sp_list[::-1]], sp_length\n",
    "\n",
    "\n",
    "    def extend_adjacency_mat(self, start, target):\n",
    "        #first check point memberships\n",
    "        start_idx = []\n",
    "        target_idx = []\n",
    "        for idx, r in enumerate(self.regions):\n",
    "            if r.PointInSet(start):\n",
    "                start_idx.append(idx)\n",
    "            if r.PointInSet(target):\n",
    "                target_idx.append(idx)\n",
    "        if len(start_idx)==0 or len(target_idx)==0:\n",
    "            print('[DijkstraSPP] Points not in set, idxs', start_idx,', ', target_idx)\n",
    "            return None\n",
    "        N = self.dist_mat.shape[0] + 2\n",
    "        data = list(self.dist_mat.data)\n",
    "        rows = list(self.dist_mat.row)\n",
    "        cols = list(self.dist_mat.col)\n",
    "        start_adj_idx = N-2\n",
    "        target_adj_idx = N-1\n",
    "        for id in start_idx:\n",
    "            safeset_idxs_in_region_id = np.where([id in s for s in self.safe_adjacencies])[0]\n",
    "            for idx in safeset_idxs_in_region_id:\n",
    "                dist = np.linalg.norm(start - self.reppts[idx, :])\n",
    "                data.append(dist)\n",
    "                rows.append(start_adj_idx)\n",
    "                cols.append(idx)\n",
    "                data.append(dist)\n",
    "                rows.append(idx)\n",
    "                cols.append(start_adj_idx)\n",
    "        for id in target_idx:\n",
    "            safeset_idxs_in_region_id = np.where([id in s for s in self.safe_adjacencies])[0]\n",
    "            for idx in safeset_idxs_in_region_id:\n",
    "                dist = np.linalg.norm(target - self.reppts[idx, :])\n",
    "                data.append(dist)\n",
    "                rows.append(target_adj_idx)\n",
    "                cols.append(idx)\n",
    "                data.append(dist)\n",
    "                rows.append(idx)\n",
    "                cols.append(target_adj_idx)\n",
    "        if len(list(set(start_idx)& set(target_idx))):\n",
    "            dist = np.linalg.norm(target - start)\n",
    "            data.append(dist)\n",
    "            rows.append(target_adj_idx)\n",
    "            cols.append(start_adj_idx)\n",
    "            data.append(dist)\n",
    "            rows.append(start_adj_idx)\n",
    "            cols.append(target_adj_idx)     \n",
    "            \n",
    "        ad_mat_extend = coo_matrix((data, (rows, cols)), shape=(N, N))\n",
    "        return ad_mat_extend\n",
    "    \n",
    "    def refine_path_SOCP(self, wps, start, target):\n",
    "            #intermediate_nodes = [self.node_intersections[idx] for idx in wps[1:-1]]\n",
    "            dim = len(start)\n",
    "            prog = MathematicalProgram()\n",
    "            wps = np.array(wps)\n",
    "            \n",
    "            int_waypoints = prog.NewContinuousVariables(len(wps[1:-1]), dim)\n",
    "            for i, wp in enumerate(wps[1:-1]):\n",
    "                self.safe_sets[wp].AddPointInSetConstraints(prog, int_waypoints[i,:])\n",
    "            \n",
    "            prev = start\n",
    "            cost = 0 \n",
    "            for idx in range(len(wps[1:-1])):\n",
    "                t = prog.NewContinuousVariables(dim+1, 't'+str(idx))\n",
    "                prog.AddConstraint(eq(t[1:], prev-int_waypoints[idx]))\n",
    "                prev = int_waypoints[idx]\n",
    "                prog.AddLorentzConeConstraint(t)\n",
    "                cost += t[0]\n",
    "            t = prog.NewContinuousVariables(dim+1, 'tend')\n",
    "            prog.AddConstraint(eq(t[1:], prev-target))\n",
    "            prog.AddLorentzConeConstraint(t)\n",
    "            cost += t[0]\n",
    "            prog.AddCost(cost)\n",
    "\n",
    "            res = Solve(prog)\n",
    "            if res.is_success():\n",
    "                path = [start]\n",
    "                for i in res.GetSolution(int_waypoints):\n",
    "                    path.append(i)\n",
    "                path.append(target)\n",
    "                wps_start = [self.reppts[idx] for idx in wps[1:-1]]\n",
    "                dist_start = 0\n",
    "                prev = start\n",
    "                for wp in wps_start + [target]:\n",
    "                    #dist_start += np.linalg.norm()#* np.array([4.0,3.5,3,2.5,2,2.5,1])\n",
    "                    a = prev-wp\n",
    "                    dist_start += np.sqrt(a.T@a)\n",
    "                    prev = wp\n",
    "                if self.verbose: print(\"[DijkstraSPP] optimized distance/ start-distance = {opt:.2f} / {start:.2f} = {res:.2f}\".format(opt = res.get_optimal_cost(), start = dist_start, res = res.get_optimal_cost()/dist_start))\n",
    "                return path, res.get_optimal_cost()\n",
    "            else:\n",
    "                print(\"[DijkstraSPP] Refine path SCOP failed\")\n",
    "                return None, None"
   ]
  },
  {
   "cell_type": "code",
   "execution_count": 54,
   "metadata": {},
   "outputs": [
    {
     "name": "stdout",
     "output_type": "stream",
     "text": [
      "True\n"
     ]
    }
   ],
   "source": [
    "from pydrake.all import HPolyhedron\n",
    "import numpy as np\n",
    "from visualization_utils import plot_HPoly\n",
    "import matplotlib.pyplot as plt\n",
    "\n",
    "points = np.array([[0,-0.8],[-5,5]])\n",
    "center_points = np.array([[0, 0],\n",
    "                          [1.3, 1.4],\n",
    "                          [2.2, 4.2],\n",
    "                          [-1.6, 1],\n",
    "                          [-3,3.7],\n",
    "                          [-4.2, 5],\n",
    "                          [0,6],\n",
    "                          [0,3.7]])\n",
    "\n",
    "sizes = np.array([[1,2],\n",
    "                  [2,2],\n",
    "                  [0.5,5.],\n",
    "                  [3,1],\n",
    "                  [1,5],\n",
    "                  [2.2,2],\n",
    "                  [6,0.3],\n",
    "                  [0.8,5]])\n",
    "\n",
    "regions =[]\n",
    "for c, s in zip(center_points, sizes):\n",
    "    l = c- s/2\n",
    "    u = c + s/2\n",
    "    regions.append(HPolyhedron.MakeBox(l,u))\n",
    "\n",
    "dspp = DijkstraSPP(regions)"
   ]
  },
  {
   "cell_type": "code",
   "execution_count": 55,
   "metadata": {},
   "outputs": [
    {
     "name": "stdout",
     "output_type": "stream",
     "text": [
      "[DijkstraSPP] optimized distance/ start-distance = 8.12 / 8.96 = 0.91\n"
     ]
    },
    {
     "data": {
      "text/plain": [
       "<matplotlib.collections.PathCollection at 0x7fecef2bad00>"
      ]
     },
     "execution_count": 55,
     "metadata": {},
     "output_type": "execute_result"
    },
    {
     "data": {
      "image/png": "[encoded data removed]",
      "text/plain": [
       "<Figure size 720x720 with 1 Axes>"
      ]
     },
     "metadata": {
      "needs_background": "light"
     },
     "output_type": "display_data"
    }
   ],
   "source": [
    "wps, dist = dspp.solve(points[0], points[1])\n",
    "wps = np.array(wps)\n",
    "ad_coo = dspp.extend_adjacency_mat(points[0], points[1])\n",
    "ad_dense = ad_coo.toarray()\n",
    "reppoints_tot = np.concatenate((dspp.reppts, np.array(points)), axis = 0)\n",
    "fig, ax = plt.subplots(figsize = (10,10))\n",
    "for p,c in zip(points, ['k','r']):\n",
    "    ax.scatter(p[0], p[1], c = c)\n",
    "ax.axis('equal')\n",
    "for r in regions:\n",
    "    plot_HPoly(ax, r)\n",
    "for r in dspp.safe_sets:\n",
    "    plot_HPoly(ax, r, color = 'r')\n",
    "\n",
    "ax.plot(wps[:,0], wps[:, 1], linewidth = 5 , c = 'r')\n",
    "\n",
    "for i in range(len(dspp.safe_sets)+1):\n",
    "    for j in range(i+1, len(dspp.safe_sets)+2):\n",
    "        if ad_dense[i,j]!=0:\n",
    "            x = [reppoints_tot[i][0], reppoints_tot[j][0]]\n",
    "            y = [reppoints_tot[i][1], reppoints_tot[j][1]]\n",
    "            ax.plot(x,y, linewidth = 1, c = 'k',zorder =10)\n",
    "ax.scatter(dspp.reppts[:,0], dspp.reppts[:,1], c = 'k')\n"
   ]
  },
  {
   "cell_type": "code",
   "execution_count": 52,
   "metadata": {},
   "outputs": [
    {
     "data": {
      "text/plain": [
       "[array([ 0. , -0.8]),\n",
       " array([[<Expression \"-0.49999998534452622\">],\n",
       "        [<Expression \"0.50000000398512201\">]], dtype=object),\n",
       " array([[<Expression \"-2.4999999947436473\">],\n",
       "        [<Expression \"1.4999999832198567\">]], dtype=object),\n",
       " array([[<Expression \"-3.4999999955046937\">],\n",
       "        [<Expression \"4.0000000137434339\">]], dtype=object),\n",
       " array([-5.,  5.])]"
      ]
     },
     "execution_count": 52,
     "metadata": {},
     "output_type": "execute_result"
    }
   ],
   "source": [
    "wps"
   ]
  },
  {
   "cell_type": "code",
   "execution_count": null,
   "metadata": {},
   "outputs": [],
   "source": []
  },
  {
   "cell_type": "code",
   "execution_count": 46,
   "metadata": {},
   "outputs": [
    {
     "data": {
      "text/plain": [
       "array([ 0. , -0.8])"
      ]
     },
     "execution_count": 46,
     "metadata": {},
     "output_type": "execute_result"
    }
   ],
   "source": [
    "from dijkstraspp import DijkstraSPPsolver\n",
    "def conv(q):\n",
    "    return q\n",
    "dspp = DijkstraSPPsolver(regions, conv)\n",
    "wps, _ = dspp.solve(points[0], points[1], refine_path=True)\n",
    "for i in range(len(wps)-1):\n",
    "    ax.plot([wps[i][0], wps[i+1][0]], [wps[i][1], wps[i+1][1]], c = 'k', linewidth = 1)\n"
   ]
  },
  {
   "cell_type": "code",
   "execution_count": 43,
   "metadata": {},
   "outputs": [
    {
     "data": {
      "text/plain": [
       "([array([ 0. , -0.8]),\n",
       "  array([-0.3,  0.8]),\n",
       "  array([-2.65,  1.35]),\n",
       "  array([-3.45,  5.95]),\n",
       "  array([-5.,  5.])],\n",
       " 10.528398645080689)"
      ]
     },
     "execution_count": 43,
     "metadata": {},
     "output_type": "execute_result"
    }
   ],
   "source": []
  },
  {
   "cell_type": "code",
   "execution_count": null,
   "metadata": {},
   "outputs": [],
   "source": []
  },
  {
   "cell_type": "code",
   "execution_count": 40,
   "metadata": {},
   "outputs": [
    {
     "data": {
      "text/latex": [
       "$\\displaystyle p_{0} \\left(- 3 t^{2} + 6 t - 3\\right) + p_{1} \\cdot \\left(9 t^{2} - 12 t + 3\\right) + p_{2} \\left(- 9 t^{2} + 6 t\\right) + 3 p_{3} t^{2}$"
      ],
      "text/plain": [
       "p0*(-3*t**2 + 6*t - 3) + p1*(9*t**2 - 12*t + 3) + p2*(-9*t**2 + 6*t) + 3*p3*t**2"
      ]
     },
     "execution_count": 40,
     "metadata": {},
     "output_type": "execute_result"
    }
   ],
   "source": [
    "b3diff= sp.diff(b3, t)\n",
    "b3diffexp = sp.expand(b3diff)\n",
    "b3diffexp.collect(p0).collect(p1).collect(p2).collect(p3)"
   ]
  },
  {
   "cell_type": "code",
   "execution_count": 42,
   "metadata": {},
   "outputs": [
    {
     "data": {
      "text/latex": [
       "$\\displaystyle p_{0} \\cdot \\left(6 - 6 t\\right) + p_{1} \\cdot \\left(18 t - 12\\right) + p_{2} \\cdot \\left(6 - 18 t\\right) + 6 p_{3} t$"
      ],
      "text/plain": [
       "p0*(6 - 6*t) + p1*(18*t - 12) + p2*(6 - 18*t) + 6*p3*t"
      ]
     },
     "execution_count": 42,
     "metadata": {},
     "output_type": "execute_result"
    }
   ],
   "source": [
    "b3ddiff= sp.diff(b3diffexp, t)\n",
    "b3ddiffexp = sp.expand(b3ddiff)\n",
    "b3ddiffexp.collect(p0).collect(p1).collect(p2).collect(p3)"
   ]
  },
  {
   "cell_type": "code",
   "execution_count": 43,
   "metadata": {},
   "outputs": [
    {
     "data": {
      "text/latex": [
       "$\\displaystyle - 6 p_{0} + 18 p_{1} - 18 p_{2} + 6 p_{3}$"
      ],
      "text/plain": [
       "-6*p0 + 18*p1 - 18*p2 + 6*p3"
      ]
     },
     "execution_count": 43,
     "metadata": {},
     "output_type": "execute_result"
    }
   ],
   "source": [
    "b3dddiff= sp.diff(b3ddiffexp, t)\n",
    "b3dddiffexp = sp.expand(b3dddiff)\n",
    "b3dddiffexp.collect(p0).collect(p1).collect(p2).collect(p3)"
   ]
  },
  {
   "cell_type": "code",
   "execution_count": 12,
   "metadata": {},
   "outputs": [
    {
     "ename": "AttributeError",
     "evalue": "'tuple' object has no attribute 'sort'",
     "output_type": "error",
     "traceback": [
      "\u001b[0;31m---------------------------------------------------------------------------\u001b[0m",
      "\u001b[0;31mAttributeError\u001b[0m                            Traceback (most recent call last)",
      "\u001b[0;32m<ipython-input-12-ebcf16b5293b>\u001b[0m in \u001b[0;36m<module>\u001b[0;34m\u001b[0m\n\u001b[1;32m     11\u001b[0m     \u001b[0;32mreturn\u001b[0m \u001b[0msorted_poly\u001b[0m\u001b[0;34m\u001b[0m\u001b[0;34m\u001b[0m\u001b[0m\n\u001b[1;32m     12\u001b[0m \u001b[0;34m\u001b[0m\u001b[0m\n\u001b[0;32m---> 13\u001b[0;31m \u001b[0msort_terms_by_power\u001b[0m\u001b[0;34m(\u001b[0m\u001b[0mb3diffexp\u001b[0m\u001b[0;34m)\u001b[0m\u001b[0;34m\u001b[0m\u001b[0;34m\u001b[0m\u001b[0m\n\u001b[0m",
      "\u001b[0;32m<ipython-input-12-ebcf16b5293b>\u001b[0m in \u001b[0;36msort_terms_by_power\u001b[0;34m(poly)\u001b[0m\n\u001b[1;32m      4\u001b[0m \u001b[0;34m\u001b[0m\u001b[0m\n\u001b[1;32m      5\u001b[0m     \u001b[0;31m# Sort the terms by their powers of 't'\u001b[0m\u001b[0;34m\u001b[0m\u001b[0;34m\u001b[0m\u001b[0;34m\u001b[0m\u001b[0m\n\u001b[0;32m----> 6\u001b[0;31m     \u001b[0mterms\u001b[0m\u001b[0;34m.\u001b[0m\u001b[0msort\u001b[0m\u001b[0;34m(\u001b[0m\u001b[0mkey\u001b[0m\u001b[0;34m=\u001b[0m\u001b[0;32mlambda\u001b[0m \u001b[0mterm\u001b[0m\u001b[0;34m:\u001b[0m \u001b[0msp\u001b[0m\u001b[0;34m.\u001b[0m\u001b[0mPoly\u001b[0m\u001b[0;34m(\u001b[0m\u001b[0mterm\u001b[0m\u001b[0;34m,\u001b[0m \u001b[0mdomain\u001b[0m\u001b[0;34m=\u001b[0m\u001b[0msp\u001b[0m\u001b[0;34m.\u001b[0m\u001b[0mEX\u001b[0m\u001b[0;34m)\u001b[0m\u001b[0;34m.\u001b[0m\u001b[0mas_dict\u001b[0m\u001b[0;34m(\u001b[0m\u001b[0;34m)\u001b[0m\u001b[0;34m.\u001b[0m\u001b[0mget\u001b[0m\u001b[0;34m(\u001b[0m\u001b[0mt\u001b[0m\u001b[0;34m,\u001b[0m \u001b[0;36m0\u001b[0m\u001b[0;34m)\u001b[0m\u001b[0;34m)\u001b[0m\u001b[0;34m\u001b[0m\u001b[0;34m\u001b[0m\u001b[0m\n\u001b[0m\u001b[1;32m      7\u001b[0m \u001b[0;34m\u001b[0m\u001b[0m\n\u001b[1;32m      8\u001b[0m     \u001b[0;31m# Create a new polynomial with the sorted terms\u001b[0m\u001b[0;34m\u001b[0m\u001b[0;34m\u001b[0m\u001b[0;34m\u001b[0m\u001b[0m\n",
      "\u001b[0;31mAttributeError\u001b[0m: 'tuple' object has no attribute 'sort'"
     ]
    }
   ],
   "source": [
    "def sort_terms_by_power(poly):\n",
    "    # Get the terms of the polynomial\n",
    "    terms = sp.Add.make_args(poly)\n",
    "    \n",
    "    # Sort the terms by their powers of 't'\n",
    "    terms.sort(key=lambda term: sp.Poly(term, domain=sp.EX).as_dict().get(t, 0))\n",
    "\n",
    "    # Create a new polynomial with the sorted terms\n",
    "    sorted_poly = sp.Add(*terms)\n",
    "\n",
    "    return sorted_poly\n",
    "\n",
    "sort_terms_by_power(b3diffexp)"
   ]
  },
  {
   "cell_type": "code",
   "execution_count": 30,
   "metadata": {},
   "outputs": [
    {
     "data": {
      "text/latex": [
       "$\\displaystyle p_{0} \\left(1 - t\\right)^{3} + 3 p_{1} t \\left(1 - t\\right)^{2} + 3 p_{2} t^{2} \\cdot \\left(1 - t\\right) + p_{3} t^{3}$"
      ],
      "text/plain": [
       "p0*(1 - t)**3 + 3*p1*t*(1 - t)**2 + 3*p2*t**2*(1 - t) + p3*t**3"
      ]
     },
     "execution_count": 30,
     "metadata": {},
     "output_type": "execute_result"
    }
   ],
   "source": [
    "terms =list(sp.Add.make_args(b3diffexp))\n",
    "sp.collect(b3, t)\n"
   ]
  },
  {
   "cell_type": "code",
   "execution_count": 37,
   "metadata": {},
   "outputs": [
    {
     "name": "stdout",
     "output_type": "stream",
     "text": [
      "False\n"
     ]
    },
    {
     "data": {
      "text/latex": [
       "$\\displaystyle - 9 p_{2} t^{2}$"
      ],
      "text/plain": [
       "-9*p2*t**2"
      ]
     },
     "execution_count": 37,
     "metadata": {},
     "output_type": "execute_result"
    }
   ],
   "source": [
    "terms[3].has(t**3)\n"
   ]
  },
  {
   "cell_type": "code",
   "execution_count": 6,
   "metadata": {},
   "outputs": [],
   "source": [
    "prog = MathematicalProgram()\n",
    "# Declares indeterminates\n",
    "t = prog.NewIndeterminates(1,'t')\n",
    "p0 = prog.NewContinuousVariables(1, 'p0')\n",
    "p1 = prog.NewContinuousVariables(1, 'p1')\n",
    "p2 = prog.NewContinuousVariables(1, 'p2')\n",
    "p3 = prog.NewContinuousVariables(1, 'p3')\n",
    "\n"
   ]
  },
  {
   "cell_type": "code",
   "execution_count": 7,
   "metadata": {},
   "outputs": [],
   "source": [
    "exp = (1-t)**3*p0 + 3*(1-t)**2*t*p1 + 3*(1-t)*t**2*p2 + 3*t**2*p3 "
   ]
  },
  {
   "cell_type": "code",
   "execution_count": 8,
   "metadata": {},
   "outputs": [
    {
     "data": {
      "text/plain": [
       "array([<Expression \"(3 * (t(0) * p1(0) * pow((1 - t(0)), 2)) + 3 * (pow(t(0), 2) * p2(0) * (1 - t(0))) + 3 * (pow(t(0), 2) * p3(0)) + (p0(0) * pow((1 - t(0)), 3)))\">],\n",
       "      dtype=object)"
      ]
     },
     "execution_count": 8,
     "metadata": {},
     "output_type": "execute_result"
    }
   ],
   "source": []
  }
 ],
 "metadata": {
  "kernelspec": {
   "display_name": "Python 3",
   "language": "python",
   "name": "python3"
  },
  "language_info": {
   "codemirror_mode": {
    "name": "ipython",
    "version": 3
   },
   "file_extension": ".py",
   "mimetype": "text/x-python",
   "name": "python",
   "nbconvert_exporter": "python",
   "pygments_lexer": "ipython3",
   "version": "3.8.10"
  }
 },
 "nbformat": 4,
 "nbformat_minor": 2
}
