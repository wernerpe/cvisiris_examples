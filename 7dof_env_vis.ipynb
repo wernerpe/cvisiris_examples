{
 "cells": [
  {
   "cell_type": "code",
   "execution_count": 94,
   "metadata": {},
   "outputs": [],
   "source": [
    "import numpy as np\n",
    "from functools import partial\n",
    "import ipywidgets as widgets\n",
    "from IPython.display import display"
   ]
  },
  {
   "cell_type": "code",
   "execution_count": 95,
   "metadata": {},
   "outputs": [],
   "source": [
    "#pydrake imports\n",
    "from pydrake.all import RationalForwardKinematics\n",
    "from pydrake.geometry.optimization import IrisOptions, HPolyhedron, Hyperellipsoid\n",
    "from pydrake.solvers import MosekSolver, CommonSolverOption, SolverOptions\n",
    "from pydrake.all import PiecewisePolynomial, InverseKinematics, Sphere, Rgba, RigidTransform, RotationMatrix, IrisInConfigurationSpace\n",
    "import time\n",
    "import pydrake\n",
    "from pydrake.all import (SceneGraphCollisionChecker, \n",
    "                         StartMeshcat, \n",
    "                         RobotDiagramBuilder,\n",
    "                         ProcessModelDirectives,\n",
    "                         LoadModelDirectives,\n",
    "                         MeshcatVisualizer)\n",
    "from pydrake.all import GeometrySet, CollisionFilterDeclaration\n",
    "from scipy.special import comb\n",
    "import matplotlib.pyplot as plt\n",
    "from pydrake.all import PiecewisePolynomial\n",
    "from pydrake.polynomial import Polynomial as CommonPolynomial"
   ]
  },
  {
   "cell_type": "code",
   "execution_count": 96,
   "metadata": {},
   "outputs": [],
   "source": [
    "# meshcat = StartMeshcat()"
   ]
  },
  {
   "cell_type": "code",
   "execution_count": 97,
   "metadata": {},
   "outputs": [
    {
     "name": "stderr",
     "output_type": "stream",
     "text": [
      "INFO:drake:Meshcat listening for connections at http://localhost:7002\n"
     ]
    }
   ],
   "source": [
    "from pydrake.all import Role, MeshcatVisualizerParams\n",
    "def plant_builder(usemeshcat = False):\n",
    "    if usemeshcat:\n",
    "        meshcat = StartMeshcat()\n",
    "    builder = RobotDiagramBuilder()\n",
    "    plant = builder.plant()\n",
    "    scene_graph = builder.scene_graph()\n",
    "    parser = builder.parser()\n",
    "    #parser.package_map().Add(\"cvisirisexamples\", missing directory)\n",
    "    if usemeshcat:\n",
    "        meshcat_params = MeshcatVisualizerParams()\n",
    "#         meshcat_params.role = Role.kProximity\n",
    "        visualizer = MeshcatVisualizer.AddToBuilder(builder.builder(), scene_graph, meshcat,meshcat_params)\n",
    "    directives_file = \"7_dof_directives_newshelf.yaml\"#FindResourceOrThrow() \n",
    "    directives = LoadModelDirectives(directives_file)\n",
    "    models = ProcessModelDirectives(directives, plant, parser)\n",
    "    \n",
    "#     collision_filter_manager = scene_graph.collision_filter_manager()\n",
    "#     inspector = scene_graph.model_inspector()\n",
    "#     schunk_body = plant.GetBodyByName(\"body\")\n",
    "#     iiwa_link_7 = plant.GetBodyByName(\"iiwa_link_7\")\n",
    "#     iiwa_link_6 = plant.GetBodyByName(\"iiwa_link_6\")\n",
    "#     iiwa_links = [plant.GetBodyByName(f\"iiwa_link_{i}\") for i in range(8)]\n",
    "#     bodies = []\n",
    "#     for b in iiwa_links+[schunk_body]:#[schunk_body, iiwa_link_7, iiwa_link_6]:\n",
    "#         bodies += plant.GetCollisionGeometriesForBody(b)\n",
    "#     geom_set = GeometrySet(bodies)\n",
    "#     decl = CollisionFilterDeclaration().ExcludeWithin(geom_set)\n",
    "#     collision_filter_manager.Apply(decl)\n",
    "\n",
    "#     shelves = [plant.GetBodyByName(f\"shelf{i}\",\n",
    "#                                   plant.GetModelInstanceByName(f\"shelves{i}\")) for i in range(1,3)]\n",
    "#     bodies = []\n",
    "#     for b in iiwa_links[:5]+shelves:\n",
    "#         bodies += plant.GetCollisionGeometriesForBody(b)\n",
    "#     geom_set = GeometrySet(bodies)\n",
    "#     decl = CollisionFilterDeclaration().ExcludeWithin(geom_set)\n",
    "#     collision_filter_manager.Apply(decl)\n",
    "    \n",
    "    plant.Finalize()\n",
    "    diagram = builder.Build()\n",
    "    diagram_context = diagram.CreateDefaultContext()\n",
    "    plant_context = plant.GetMyContextFromRoot(diagram_context)\n",
    "    diagram.ForcedPublish(diagram_context)\n",
    "    return plant, scene_graph, diagram, diagram_context, plant_context, meshcat if usemeshcat else None\n",
    "\n",
    "plant, scene_graph, diagram, diagram_context, plant_context, meshcat = plant_builder(usemeshcat=True)\n",
    "\n",
    "scene_graph_context = scene_graph.GetMyMutableContextFromRoot(\n",
    "    diagram_context)\n",
    "import pydrake.multibody.rational as rational_forward_kinematics\n",
    "from pydrake.all import RationalForwardKinematics\n",
    "Ratfk = RationalForwardKinematics(plant)"
   ]
  },
  {
   "cell_type": "code",
   "execution_count": 98,
   "metadata": {},
   "outputs": [
    {
     "name": "stdout",
     "output_type": "stream",
     "text": [
      "Time to build collision checker 6.662067413330078\n"
     ]
    }
   ],
   "source": [
    "from pydrake.geometry.optimization_dev import CspaceFreePath\n",
    "q_star = np.zeros(plant.num_positions())\n",
    "plane_order =1\n",
    "max_degree = 1 # CHANGE THIS TO 3!!!\n",
    "t0 = time.time()\n",
    "cspace_free_path = CspaceFreePath(\n",
    "    plant,\n",
    "    scene_graph,\n",
    "    q_star,\n",
    "    maximum_path_degree=max_degree,\n",
    "    plane_order=plane_order,\n",
    ")\n",
    "t1 = time.time()\n",
    "print(f\"Time to build collision checker {t1-t0}\")"
   ]
  },
  {
   "cell_type": "code",
   "execution_count": 100,
   "metadata": {},
   "outputs": [
    {
     "data": {
      "application/vnd.jupyter.widget-view+json": {
       "model_id": "f9575f043e134b3694d1339ff5d57114",
       "version_major": 2,
       "version_minor": 0
      },
      "text/plain": [
       "FloatSlider(value=0.0, description='q0', max=2.96706, min=-2.96706)"
      ]
     },
     "metadata": {},
     "output_type": "display_data"
    },
    {
     "data": {
      "application/vnd.jupyter.widget-view+json": {
       "model_id": "f9575f043e134b3694d1339ff5d57114",
       "version_major": 2,
       "version_minor": 0
      },
      "text/plain": [
       "FloatSlider(value=0.0, description='q0', max=2.96706, min=-2.96706)"
      ]
     },
     "metadata": {},
     "output_type": "display_data"
    },
    {
     "data": {
      "application/vnd.jupyter.widget-view+json": {
       "model_id": "ecd2c04907c544f78b84fab078ca383b",
       "version_major": 2,
       "version_minor": 0
      },
      "text/plain": [
       "FloatSlider(value=0.0, description='q1', max=2.0944, min=-2.0944)"
      ]
     },
     "metadata": {},
     "output_type": "display_data"
    },
    {
     "data": {
      "application/vnd.jupyter.widget-view+json": {
       "model_id": "c113a89c9e23422ead84028858abe338",
       "version_major": 2,
       "version_minor": 0
      },
      "text/plain": [
       "FloatSlider(value=0.0, description='q2', max=2.96706, min=-2.96706)"
      ]
     },
     "metadata": {},
     "output_type": "display_data"
    },
    {
     "data": {
      "application/vnd.jupyter.widget-view+json": {
       "model_id": "2604303354fe4303a17ead7a79f3ee9c",
       "version_major": 2,
       "version_minor": 0
      },
      "text/plain": [
       "FloatSlider(value=0.0, description='q3', max=2.0944, min=-2.0944)"
      ]
     },
     "metadata": {},
     "output_type": "display_data"
    },
    {
     "data": {
      "application/vnd.jupyter.widget-view+json": {
       "model_id": "4316e88dda124238af3995680f7b335f",
       "version_major": 2,
       "version_minor": 0
      },
      "text/plain": [
       "FloatSlider(value=0.0, description='q4', max=2.96706, min=-2.96706)"
      ]
     },
     "metadata": {},
     "output_type": "display_data"
    },
    {
     "data": {
      "application/vnd.jupyter.widget-view+json": {
       "model_id": "1b278e5e74ab4c0a8579eb949ddf67b7",
       "version_major": 2,
       "version_minor": 0
      },
      "text/plain": [
       "FloatSlider(value=0.0, description='q5', max=2.0944, min=-2.0944)"
      ]
     },
     "metadata": {},
     "output_type": "display_data"
    },
    {
     "data": {
      "application/vnd.jupyter.widget-view+json": {
       "model_id": "851b84be835e42fe91c3aaeb349d8efd",
       "version_major": 2,
       "version_minor": 0
      },
      "text/plain": [
       "FloatSlider(value=0.0, description='q6', max=3.05433, min=-3.05433)"
      ]
     },
     "metadata": {},
     "output_type": "display_data"
    }
   ],
   "source": [
    "sliders = []\n",
    "for i in range(plant.num_positions()):\n",
    "    q_low = plant.GetPositionLowerLimits()[i]\n",
    "    q_high = plant.GetPositionUpperLimits()[i]\n",
    "    sliders.append(widgets.FloatSlider(min=q_low, max=q_high, value=0, description=f\"q{i}\"))\n",
    "\n",
    "q = np.zeros(plant.num_positions())\n",
    "ik = InverseKinematics(plant, plant_context)\n",
    "collision_constraint = ik.AddMinimumDistanceConstraint(0.001, 0.001)\n",
    "def eval_cons(q, c, tol):\n",
    "    return 1-1*float(c.evaluator().CheckSatisfied(q, tol))\n",
    "diagram_col_context = diagram.CreateDefaultContext()\n",
    "plant_col_context = diagram.GetMutableSubsystemContext(plant, diagram_col_context)\n",
    "scene_graph_col_context = diagram.GetMutableSubsystemContext(\n",
    "        scene_graph, diagram_col_context\n",
    "    )\n",
    "query_port = scene_graph.get_query_output_port()\n",
    "\n",
    "\n",
    "def check_collision_q_by_query(q):\n",
    "    plant.SetPositions(plant_context, q)\n",
    "    query_object = query_port.Eval(scene_graph_context)\n",
    "    return 1 if query_object.HasCollisions() else 0\n",
    "    \n",
    "\n",
    "def check_collision_s_by_query(s):\n",
    "    s = np.array(s)\n",
    "    q = Ratfk.ComputeQValue(s, q_star)\n",
    "    return check_collision_q_by_query(q)\n",
    "\n",
    "\n",
    "    \n",
    "col_func_handle = check_collision_q_by_query#partial(eval_cons, c=collision_constraint, tol=0.01)\n",
    "\n",
    "col_shunk_col =  Rgba(0.8, 0.0, 0, 0.5)    \n",
    "col_shunk_free =  Rgba(0.0, 0.8, 0.5, 0.5)   \n",
    "\n",
    "def handle_slider_change(change, idx):\n",
    "    q[idx] = change['new']\n",
    "    showres(q)\n",
    "\n",
    "def showres_s(s_vis):\n",
    "    showres(Ratfk.ComputeQValue(s_vis, np.zeros(7)))\n",
    "\n",
    "def showres(qvis):\n",
    "    plant.SetPositions(plant_context, qvis)\n",
    "    col = col_func_handle(qvis)\n",
    "    shunk = plant.get_body(pydrake.multibody.tree.BodyIndex(9))\n",
    "    tf_tot = shunk.EvalPoseInWorld(plant_context)\n",
    "    tf = tf_tot.translation()\n",
    "    \n",
    "   # tf_tot= plant.EvalBodyPoseInWorld(plant_context, plant.get_body(pydrake.multibody.tree.BodyIndex(7)))\n",
    "    #tf = tf_tot.translation() - tf_tot.GetAsMatrix4()[:3,:3][:,1] *0.15\n",
    "#     if col:\n",
    "#         meshcat.SetObject(f\"/drake/visualizer/shunk\",\n",
    "#                                    Sphere(0.05),\n",
    "#                                    col_shunk_col)\n",
    "#     else:\n",
    "#         meshcat.SetObject(f\"/drake/visualizer/shunk\",\n",
    "#                                    Sphere(0.05),\n",
    "#                                    col_shunk_free)\n",
    "#     meshcat.SetTransform(f\"/drake/visualizer/shunk\",\n",
    "#                                    RigidTransform(RotationMatrix(),\n",
    "#                                                   tf))\n",
    "    \n",
    "    diagram.ForcedPublish(diagram_context)\n",
    "\n",
    "scaler = 1 #np.array([0.8, 1., 0.8, 1, 0.8, 1, 0.8]) #do you even geometry bro?\n",
    "q_min = np.array(q_low)*scaler\n",
    "q_max = np.array(q_high)*scaler\n",
    "q_diff = q_max-q_min\n",
    "\n",
    "# def sample_cfree_QPoint(MAXIT=1000):\n",
    "# \tit = 0\n",
    "# \twhile it<MAXIT:\n",
    "# \t\trand = np.random.rand(5)\n",
    "# \t\tq_s = q_min + rand*q_diff\n",
    "# \t\tcol = False\n",
    "# \t\tfor _ in range(10):\n",
    "# \t\t\tr  = 0.05*(np.random.rand(5)-0.5)\n",
    "# \t\t\tcol |= (col_func_handle(q_s+r) > 0)\n",
    "# \t\tif not col:\n",
    "# \t\t\treturn q_s #Ratfk.ComputeQValue(q_s, q_star)\n",
    "# \t\tit+=1\n",
    "# \traise ValueError(\"no col free point found\")\n",
    "\n",
    "idx = 0\n",
    "for slider in sliders:\n",
    "    slider.observe(partial(handle_slider_change, idx = idx), names='value')\n",
    "    idx+=1\n",
    "\n",
    "display(sliders[0])\n",
    "for slider in sliders:\n",
    "    display(slider)"
   ]
  },
  {
   "cell_type": "code",
   "execution_count": 104,
   "metadata": {},
   "outputs": [],
   "source": [
    "# from scipy.interpolate import CubicSpline\n",
    "# waypoints_q =  np.array([[-2.06706, -0.3944 ,  1.43294,  0.9056 ,  0.53294, -0.8944 ,\n",
    "#         0.74567],\n",
    "# [-2.26706, -0.3944 ,  1.43294,  0.9056 ,  0.73294, -0.9944 ,\n",
    "#         1.04567],\n",
    "# [-2.96706, -0.344 ,  2.83294,  0.9056 ,  0.73294, -0.9944 ,\n",
    "#         1.04567],\n",
    "# [-1.06706,  0.1056 ,  2.43294,  0.9056 ,  0.73294,  0.2056 ,\n",
    "#         1.04567],\n",
    "# [-1.06706,  0.1056 ,  2.43294,  1.1056 ,  1.73294,  0.2056 ,\n",
    "#         0.0567],\n",
    "# [-1.56706,  0.1056 ,  2.43294,  1.2056 ,  1.73294,  0.8056 ,\n",
    "#        -0.25433]])\n",
    "# t = np.linspace(0, 1, waypoints_q.shape[0])\n",
    "# coord_splines = [CubicSpline(t,waypoints_q[:,i]) for i in range(7)]\n",
    "# t_refined = np.linspace(0,1,30)\n",
    "# waypoints_q_refined = [[c(t) for c in coord_splines]for t in t_refined] \n",
    "# waypoints_s = np.array([Ratfk.ComputeSValue(w, np.zeros(7)) for w in waypoints_q_refined])\n",
    "# waypoints_q_col = waypoints_q.copy()\n",
    "\n",
    "# # waypoints_q_col[1,:]=np.array([-2.36706, -0.3344 ,  1.43294,  0.8956 ,  0.73294, -0.9944 ,\n",
    "# #         1.04567])\n",
    "# waypoints_q_col[1,:]=np.array([-2.02706, \n",
    "#                                -0.3944 , \n",
    "#                                1.43294, \n",
    "#                                0.9056 ,\n",
    "#                                0.73294,\n",
    "#                                -0.9944 ,\n",
    "#         1.04567])\n",
    "\n",
    "# t = np.linspace(0, 1, waypoints_q_col.shape[0])\n",
    "# coord_splines = [CubicSpline(t,waypoints_q_col[:,i]) for i in range(7)]\n",
    "# t_refined = np.linspace(0,1,30)\n",
    "# waypoints_q_col_refined = [[c(t) for c in coord_splines]for t in t_refined] \n",
    "\n",
    "# t = np.linspace(0, 1, waypoints_q_col.shape[0])\n",
    "# coord_splines = [CubicSpline(t,waypoints_q_col[:,i]) for i in range(7)]\n",
    "# t_refined = np.linspace(0,1,30)\n",
    "# waypoints_q_col_refined = [[c(t) for c in coord_splines]for t in t_refined] \n",
    "\n",
    "\n",
    "# waypoints_s_col = np.array([Ratfk.ComputeSValue(w, np.zeros(7)) for w in waypoints_q_col_refined])\n",
    "# #np.array([-2.0706, -0.3244 ,  1.43294,  0.8756 ,  0.73294, -0.9944 ,\n",
    "# #      1.04567])\n",
    "\n",
    "# breaks = np.linspace(0, 1, waypoints_s.shape[0])\n",
    "# samples = waypoints_s\n",
    "# # traj_safe = PiecewisePolynomial.CubicShapePreserving(breaks,samples.T)\n",
    "# # polys_safe = np.array([traj_safe.getPolynomialMatrix(i) for i in breaks[:-1]]).squeeze().T\n",
    "# traj_safe = PiecewisePolynomial.CubicWithContinuousSecondDerivatives(breaks,samples.T)\n",
    "# polys_safe = np.array([traj_safe.getPolynomialMatrix(i) for i in range(len(breaks)-1)]).squeeze().T\n",
    "\n",
    "\n",
    "# breaks = np.linspace(0, 1, waypoints_s_col.shape[0])\n",
    "# samples = waypoints_s_col\n",
    "# # traj_unsafe = PiecewisePolynomial.CubicShapePreserving(breaks,samples.T)\n",
    "# # polys_unsafe = np.array([traj_safe.getPolynomialMatrix(i) for i in breaks[:-1]]).squeeze().T\n",
    "# traj_unsafe = PiecewisePolynomial.CubicWithContinuousSecondDerivatives(breaks,samples.T)\n",
    "# polys_unsafe = np.array([traj_safe.getPolynomialMatrix(i) for i in range(len(breaks)-1)]).squeeze().T\n",
    "\n",
    "# animate_traj(traj_safe, int(1e4), do_break = False)\n"
   ]
  },
  {
   "cell_type": "code",
   "execution_count": 106,
   "metadata": {},
   "outputs": [],
   "source": [
    "from scipy.interpolate import CubicSpline\n",
    "waypoints_q =  np.array([[-2.06706, -0.3944 ,  1.43294,  0.9056 ,  0.53294, -0.8944 ,\n",
    "        0.74567],\n",
    "[-2.26706, -0.3944 ,  1.43294,  0.9056 ,  0.73294, -0.9944 ,\n",
    "        1.04567],\n",
    "[-2.96706, -0.344 ,  2.83294,  0.9056 ,  0.73294, -0.9944 ,\n",
    "        1.04567],\n",
    "[-1.06706,  0.1056 ,  2.43294,  0.9056 ,  0.73294,  0.2056 ,\n",
    "        1.04567],\n",
    "[-1.06706,  0.1056 ,  2.43294,  1.1056 ,  1.73294,  0.2056 ,\n",
    "        0.0567],\n",
    "[-1.56706,  0.1056 ,  2.43294,  1.2056 ,  1.73294,  0.8056 ,\n",
    "       -0.25433]])\n",
    "\n",
    "# waypoints_q[1,:]=np.array([\n",
    "#     -2.16706, -0.3944 ,  1.43294,  0.9056 ,  0.73294, -1.0944, 1.04567\n",
    "# ])\n",
    "\n",
    "t = np.linspace(0, 1, waypoints_q.shape[0])\n",
    "coord_splines = [CubicSpline(t,waypoints_q[:,i]) for i in range(7)]\n",
    "t_refined = np.linspace(0,1,30)\n",
    "waypoints_q_refined = [[c(t) for c in coord_splines]for t in t_refined] \n",
    "\n",
    "\n",
    "\n",
    "waypoints_s = np.array([Ratfk.ComputeSValue(w, np.zeros(7)) for w in waypoints_q_refined])\n",
    "\n",
    "\n",
    "waypoints_q_col = waypoints_q.copy()\n",
    "\n",
    "waypoints_q_col[1,:]=np.array([-2.22706, -0.3944 ,  1.43294,  0.9056 ,  0.73294, -0.9944 ,\n",
    "        1.04567])\n",
    "# waypoints_q_col[1,:]=np.array([\n",
    "#     -2.06706, -0.3944 ,  1.33294,  0.9056 ,  0.73294, -0.5944 ,  0.54567\n",
    "# ])\n",
    "# waypoints_q_col[2,:]=np.array([\n",
    "#     -2.06706, -0.3944 ,  1.33294,  0.9056 ,  0.73294, -0.5944 ,\n",
    "#         0.54567\n",
    "# ])\n",
    "\n",
    "t = np.linspace(0, 1, waypoints_q_col.shape[0])\n",
    "coord_splines = [CubicSpline(t,waypoints_q_col[:,i]) for i in range(7)]\n",
    "t_refined = np.linspace(0,1,30)\n",
    "waypoints_q_col_refined = [[c(t) for c in coord_splines]for t in t_refined] \n",
    "\n",
    "t = np.linspace(0, 1, waypoints_q_col.shape[0])\n",
    "coord_splines = [CubicSpline(t,waypoints_q_col[:,i]) for i in range(7)]\n",
    "t_refined = np.linspace(0,1,30)\n",
    "waypoints_q_col_refined = [[c(t) for c in coord_splines]for t in t_refined] \n",
    "\n",
    "\n",
    "waypoints_s_col = np.array([Ratfk.ComputeSValue(w, np.zeros(7)) for w in waypoints_q_col_refined])\n",
    "#np.array([-2.0706, -0.3244 ,  1.43294,  0.8756 ,  0.73294, -0.9944 ,\n",
    "#      1.04567])\n",
    "\n",
    "breaks = np.linspace(0, 1, waypoints_s.shape[0])\n",
    "samples = waypoints_s\n",
    "\n",
    "traj_time = 3\n",
    "\n",
    "# traj_safe = PiecewisePolynomial.CubicShapePreserving(breaks,samples.T)\n",
    "# polys_safe = np.array([traj_safe.getPolynomialMatrix(i) for i in breaks[:-1]]).squeeze().T\n",
    "traj_safe = PiecewisePolynomial.CubicWithContinuousSecondDerivatives(breaks,samples.T)\n",
    "traj_safe.ScaleTime(traj_time)\n",
    "polys_safe = np.array([traj_safe.getPolynomialMatrix(i) for i in range(len(breaks)-1)]).squeeze().T\n",
    "\n",
    "\n",
    "breaks = np.linspace(0, 1, waypoints_s_col.shape[0])\n",
    "samples = waypoints_s_col\n",
    "# traj_unsafe = PiecewisePolynomial.CubicShapePreserving(breaks,samples.T)\n",
    "# polys_unsafe = np.array([traj_safe.getPolynomialMatrix(i) for i in breaks[:-1]]).squeeze().T\n",
    "traj_unsafe = PiecewisePolynomial.CubicWithContinuousSecondDerivatives(breaks,samples.T)\n",
    "traj_unsafe.ScaleTime(traj_time)\n",
    "\n",
    "polys_unsafe = np.array([traj_safe.getPolynomialMatrix(i) for i in range(len(breaks)-1)]).squeeze().T\n",
    "\n"
   ]
  },
  {
   "cell_type": "code",
   "execution_count": 107,
   "metadata": {},
   "outputs": [],
   "source": [
    "import C_Iris_Examples.visualization_utils as vis_utils\n",
    "q_star = np.zeros(plant.num_positions())\n",
    "vis_bundle = vis_utils.VisualizationBundle(\n",
    "    diagram, diagram_context, plant, plant_context,\n",
    "    Ratfk, meshcat, q_star\n",
    ")\n",
    "\n",
    "num_points = int(1e4)\n",
    "safe_color=Rgba(0,1,0,1)\n",
    "vis_utils.visualize_s_space_trajectory(\n",
    "    vis_bundle, traj_safe,\n",
    "    plant.GetBodyByName(\"body\"), #shunk,\n",
    "    \"/safe_traj\",\n",
    "    vis_utils.TrajectoryVisualizationOptions(start_size = 0.001,\n",
    "                                            end_size=0.001,\n",
    "                                            start_color=safe_color,\n",
    "                                            end_color=safe_color,\n",
    "                                            path_color=safe_color,\n",
    "                                            num_points = num_points)\n",
    ")\n",
    "\n",
    "unsafe_color = Rgba(1,0,0,1)\n",
    "vis_utils.visualize_s_space_trajectory(\n",
    "    vis_bundle, traj_unsafe,\n",
    "    plant.GetBodyByName(\"body\"), #shunk,\n",
    "    \"/unsafe_traj\",\n",
    "    vis_utils.TrajectoryVisualizationOptions(start_size = 0.001,\n",
    "                                            end_size=0.001,\n",
    "                                            start_color=unsafe_color,\n",
    "                                            end_color=unsafe_color,\n",
    "                                            path_color=unsafe_color,\n",
    "                                            num_points = num_points)\n",
    ")"
   ]
  },
  {
   "cell_type": "code",
   "execution_count": 110,
   "metadata": {},
   "outputs": [],
   "source": [
    "animate_traj(traj_safe, int(1e4), do_break = False)"
   ]
  },
  {
   "cell_type": "code",
   "execution_count": 109,
   "metadata": {},
   "outputs": [
    {
     "name": "stdout",
     "output_type": "stream",
     "text": [
      "col\n",
      "col\n",
      "col\n",
      "col\n",
      "col\n",
      "col\n",
      "col\n",
      "col\n",
      "col\n",
      "col\n",
      "col\n",
      "col\n",
      "col\n",
      "col\n",
      "col\n",
      "col\n",
      "col\n",
      "col\n",
      "col\n",
      "col\n",
      "col\n",
      "col\n",
      "col\n",
      "col\n",
      "col\n",
      "col\n",
      "col\n",
      "col\n"
     ]
    }
   ],
   "source": [
    "animate_traj(traj_unsafe, int(1e4), do_break = False)"
   ]
  },
  {
   "cell_type": "code",
   "execution_count": 111,
   "metadata": {},
   "outputs": [],
   "source": [
    "cert_options = CspaceFreePath.FindSeparationCertificateGivenPathOptions()\n",
    "cert_options.terminate_segment_certification_at_failure = False\n",
    "cert_options.num_threads = -1\n",
    "cert_options.verbose = False\n",
    "cert_options.solver_id = MosekSolver.id()\n",
    "cert_options.solver_options = SolverOptions()\n",
    "cert_options.terminate_path_certification_at_failure = False"
   ]
  },
  {
   "cell_type": "markdown",
   "metadata": {},
   "source": [
    "## The Certifier Runs HERE"
   ]
  },
  {
   "cell_type": "code",
   "execution_count": 44,
   "metadata": {},
   "outputs": [
    {
     "name": "stdout",
     "output_type": "stream",
     "text": [
      "Time to certify path 328.44463086128235\n"
     ]
    }
   ],
   "source": [
    "t0 = time.time()\n",
    "stats, res = cspace_free_path.FindSeparationCertificateGivenPath(polys_safe,\n",
    "                                                                 set(),\n",
    "                                                                 cert_options)\n",
    "t1 = time.time()\n",
    "print(f\"Time to certify path {t1-t0}\")"
   ]
  },
  {
   "cell_type": "code",
   "execution_count": 45,
   "metadata": {},
   "outputs": [
    {
     "name": "stdout",
     "output_type": "stream",
     "text": [
      "True\n",
      "True\n",
      "True\n",
      "True\n",
      "True\n",
      "True\n",
      "True\n",
      "True\n",
      "True\n",
      "True\n",
      "True\n",
      "True\n",
      "True\n",
      "True\n",
      "True\n",
      "True\n",
      "True\n",
      "True\n",
      "True\n",
      "True\n",
      "True\n",
      "True\n",
      "True\n",
      "True\n",
      "True\n",
      "True\n",
      "True\n",
      "True\n",
      "True\n"
     ]
    }
   ],
   "source": [
    "for s in stats:\n",
    "    print(s.certified_safe())\n",
    "    "
   ]
  },
  {
   "cell_type": "code",
   "execution_count": 48,
   "metadata": {},
   "outputs": [
    {
     "name": "stdout",
     "output_type": "stream",
     "text": [
      "Time to certify path 330.6732964515686\n"
     ]
    }
   ],
   "source": [
    "t0 = time.time()\n",
    "stats, res = cspace_free_path.FindSeparationCertificateGivenPath(polys_unsafe,\n",
    "                                                                 set(),\n",
    "                                                                 cert_options)\n",
    "t1 = time.time()\n",
    "print(f\"Time to certify path {t1-t0}\")"
   ]
  },
  {
   "cell_type": "code",
   "execution_count": 49,
   "metadata": {},
   "outputs": [
    {
     "name": "stdout",
     "output_type": "stream",
     "text": [
      "True\n",
      "True\n",
      "True\n",
      "True\n",
      "True\n",
      "True\n",
      "True\n",
      "True\n",
      "True\n",
      "True\n",
      "True\n",
      "True\n",
      "True\n",
      "True\n",
      "True\n",
      "True\n",
      "True\n",
      "True\n",
      "True\n",
      "True\n",
      "True\n",
      "True\n",
      "True\n",
      "True\n",
      "True\n",
      "True\n",
      "True\n",
      "True\n",
      "True\n"
     ]
    }
   ],
   "source": [
    "for s in stats:\n",
    "    print(s.certified_safe())\n",
    "    "
   ]
  },
  {
   "cell_type": "code",
   "execution_count": 43,
   "metadata": {},
   "outputs": [
    {
     "name": "stdout",
     "output_type": "stream",
     "text": [
      "9212.635742750183\n"
     ]
    }
   ],
   "source": [
    "print(f\"Total unsafe solver time = {sum([s.total_time_to_solve_progs()/20 for s in stats])}\")"
   ]
  },
  {
   "cell_type": "code",
   "execution_count": 143,
   "metadata": {},
   "outputs": [
    {
     "name": "stdout",
     "output_type": "stream",
     "text": [
      "(7, 99)\n"
     ]
    }
   ],
   "source": [
    "num_lin_samples = 100\n",
    "t_samples = np.linspace(0, traj_safe.end_time(), num_lin_samples)\n",
    "traj_lin = PiecewisePolynomial.FirstOrderHold(t_samples,\n",
    "                              np.array([traj_safe.value(t) for t in t_samples]).squeeze().T)\n",
    "polys_lin = np.array([traj_lin.getPolynomialMatrix(i) for i in range(len(t_samples)-1)]).squeeze().T\n",
    "print(polys_lin.shape)"
   ]
  },
  {
   "cell_type": "code",
   "execution_count": null,
   "metadata": {},
   "outputs": [],
   "source": [
    "t0 = time.time()\n",
    "stats, res = cspace_free_path.FindSeparationCertificateGivenPath(polys_lin,\n",
    "                                                                 set(),\n",
    "                                                                 cert_options)\n",
    "t1 = time.time()\n",
    "print(f\"Time to certify path {t1-t0}\")"
   ]
  },
  {
   "cell_type": "code",
   "execution_count": 121,
   "metadata": {},
   "outputs": [
    {
     "name": "stdout",
     "output_type": "stream",
     "text": [
      "False\n"
     ]
    }
   ],
   "source": [
    "for s in stats:\n",
    "    print(s.certified_safe())\n",
    "    "
   ]
  }
 ],
 "metadata": {
  "kernelspec": {
   "display_name": "Python 3 (ipykernel)",
   "language": "python",
   "name": "python3"
  },
  "language_info": {
   "codemirror_mode": {
    "name": "ipython",
    "version": 3
   },
   "file_extension": ".py",
   "mimetype": "text/x-python",
   "name": "python",
   "nbconvert_exporter": "python",
   "pygments_lexer": "ipython3",
   "version": "3.10.12"
  }
 },
 "nbformat": 4,
 "nbformat_minor": 2
}
