{
 "cells": [
  {
   "cell_type": "code",
   "execution_count": 1,
   "metadata": {},
   "outputs": [],
   "source": [
    "import numpy as np\n",
    "from functools import partial\n",
    "import ipywidgets as widgets\n",
    "from IPython.display import display"
   ]
  },
  {
   "cell_type": "code",
   "execution_count": 2,
   "metadata": {},
   "outputs": [],
   "source": [
    "#pydrake imports\n",
    "from pydrake.all import RationalForwardKinematics\n",
    "from pydrake.geometry.optimization import IrisOptions, HPolyhedron, Hyperellipsoid\n",
    "from pydrake.solvers import MosekSolver, CommonSolverOption, SolverOptions\n",
    "from pydrake.all import PiecewisePolynomial, InverseKinematics, Sphere, Rgba, RigidTransform, RotationMatrix, IrisInConfigurationSpace\n",
    "import time\n",
    "import pydrake\n",
    "from pydrake.all import (SceneGraphCollisionChecker, \n",
    "                         StartMeshcat, \n",
    "                         DiagramBuilder,\n",
    "                         ProcessModelDirectives,\n",
    "                         LoadModelDirectives,\n",
    "                         MeshcatVisualizer, SpatialInertia, Box,\n",
    "                        AddMultibodyPlantSceneGraph,Parser, MultibodyPlant)\n",
    "from pydrake.all import GeometrySet, CollisionFilterDeclaration\n",
    "from scipy.special import comb\n",
    "import matplotlib.pyplot as plt\n",
    "from pydrake.all import PiecewisePolynomial\n",
    "from pydrake.polynomial import Polynomial as CommonPolynomial"
   ]
  },
  {
   "cell_type": "code",
   "execution_count": 3,
   "metadata": {},
   "outputs": [
    {
     "name": "stderr",
     "output_type": "stream",
     "text": [
      "INFO:drake:Meshcat listening for connections at http://localhost:7000\n"
     ]
    }
   ],
   "source": [
    "from pydrake.all import Role, MeshcatVisualizerParams\n",
    "#def plant_builder(usemeshcat = False):\n",
    "usemeshcat = True\n",
    "if usemeshcat:\n",
    "    meshcat = StartMeshcat()\n",
    "builder = DiagramBuilder()\n",
    "plant, scene_graph = AddMultibodyPlantSceneGraph(builder, 0.001)\n",
    "inspector = scene_graph.model_inspector()\n",
    "parser = Parser(plant)\n",
    "#parser.package_map().Add(\"cvisirisexamples\", missing directory)\n",
    "if usemeshcat:\n",
    "    meshcat_params = MeshcatVisualizerParams()\n",
    "#         meshcat_params.role = Role.kProximity\n",
    "    visualizer = MeshcatVisualizer.AddToBuilder(builder, scene_graph, meshcat,meshcat_params)\n",
    "directives_file = \"7_dof_directives_newshelf.yaml\"#FindResourceOrThrow() \n",
    "directives = LoadModelDirectives(directives_file)\n",
    "models = ProcessModelDirectives(directives, plant, parser)\n",
    "\n",
    "#     collision_filter_manager = scene_graph.collision_filter_manager()\n",
    "#     inspector = scene_graph.model_inspector()\n",
    "#     schunk_body = plant.GetBodyByName(\"body\")\n",
    "#     iiwa_link_7 = plant.GetBodyByName(\"iiwa_link_7\")\n",
    "#     iiwa_link_6 = plant.GetBodyByName(\"iiwa_link_6\")\n",
    "#     iiwa_links = [plant.GetBodyByName(f\"iiwa_link_{i}\") for i in range(8)]\n",
    "#     bodies = []\n",
    "#     for b in iiwa_links+[schunk_body]:#[schunk_body, iiwa_link_7, iiwa_link_6]:\n",
    "#         bodies += plant.GetCollisionGeometriesForBody(b)\n",
    "#     geom_set = GeometrySet(bodies)\n",
    "#     decl = CollisionFilterDeclaration().ExcludeWithin(geom_set)\n",
    "#     collision_filter_manager.Apply(decl)\n",
    "\n",
    "#     shelves = [plant.GetBodyByName(f\"shelf{i}\",\n",
    "#                                   plant.GetModelInstanceByName(f\"shelves{i}\")) for i in range(1,3)]\n",
    "#     bodies = []\n",
    "#     for b in iiwa_links[:5]+shelves:\n",
    "#         bodies += plant.GetCollisionGeometriesForBody(b)\n",
    "#     geom_set = GeometrySet(bodies)\n",
    "#     decl = CollisionFilterDeclaration().ExcludeWithin(geom_set)\n",
    "#     collision_filter_manager.Apply(decl)\n",
    "\n",
    "# add one plane to plant\n",
    "\n",
    "gripper_col_geoms_by_gripper = []\n",
    "gripper_visual_geoms_by_gripper = []\n",
    "for model_info in [plant.GetModelInstanceByName(\"wsg\")]:\n",
    "\n",
    "    col_geoms = []\n",
    "    vis_geoms = []\n",
    "\n",
    "    gripper_body = plant.GetBodyByName(\"body\", model_info)\n",
    "    left_finger_body = plant.GetBodyByName(\"left_finger\", model_info)\n",
    "    right_finger_body = plant.GetBodyByName(\"right_finger\", model_info)\n",
    "    gripper_all_bodies = [gripper_body, left_finger_body, right_finger_body]\n",
    "    gripper_all_body_frame_ids = [plant.GetBodyFrameIdIfExists(b.index()) for b in gripper_all_bodies]\n",
    "    for frame_id in gripper_all_body_frame_ids:\n",
    "        for geometry_id in inspector.GetGeometries(frame_id,\n",
    "                                               Role.kIllustration):\n",
    "            vis_props = inspector.GetProperties(geometry_id, Role.kIllustration)\n",
    "            # has visualization properties\n",
    "            if vis_props is not None and vis_props.HasProperty(\"phong\", \"diffuse\"):\n",
    "                vis_geoms.append(geometry_id)\n",
    "        for geometry_id in inspector.GetGeometries(frame_id,\n",
    "                                               Role.kProximity):\n",
    "            col_props = inspector.GetProperties(geometry_id, Role.kProximity)\n",
    "            # has visualization properties\n",
    "            if col_props is not None:\n",
    "                col_geoms.append(geometry_id)       \n",
    "\n",
    "    gripper_col_geoms_by_gripper.append(col_geoms)\n",
    "    gripper_visual_geoms_by_gripper.append(vis_geoms)\n",
    "\n",
    "top_shelves_col_geoms = []\n",
    "for model_info in [plant.GetModelInstanceByName(\"shelves1\"), plant.GetModelInstanceByName(\"shelves2\")]:\n",
    "\n",
    "    col_geoms = []\n",
    "    vis_geoms = []\n",
    "\n",
    "    top_shelf = plant.GetBodyByName(\"top\", model_info)\n",
    "    top_shelf_frame_id = [plant.GetBodyFrameIdIfExists(b.index()) for b in [top_shelf]]\n",
    "    for frame_id in top_shelf_frame_id:\n",
    "        for geometry_id in inspector.GetGeometries(frame_id,\n",
    "                                               Role.kIllustration):\n",
    "            vis_props = inspector.GetProperties(geometry_id, Role.kIllustration)\n",
    "            # has visualization properties\n",
    "            if vis_props is not None and vis_props.HasProperty(\"phong\", \"diffuse\"):\n",
    "                vis_geoms.append(geometry_id)\n",
    "        for geometry_id in inspector.GetGeometries(frame_id,\n",
    "                                               Role.kProximity):\n",
    "            col_props = inspector.GetProperties(geometry_id, Role.kProximity)\n",
    "            # has visualization properties\n",
    "            if col_props is not None:\n",
    "                col_geoms.append(geometry_id)       \n",
    "\n",
    "    top_shelves_col_geoms.append(col_geoms)\n",
    "\n",
    "#col_cands = inspector.GetCollisionCandidates()        \n",
    "gripper_geom = gripper_col_geoms_by_gripper[0][0]\n",
    "shelves_geoms = [s[0] for s in top_shelves_col_geoms]\n",
    "important_collision_pairs = [(p1,p2) for p1 in shelves_geoms for p2 in [gripper_geom]]\n",
    "#     for shelves_geoms in col_cands:\n",
    "#         if gripper_geom in cand and (top_shelves_col_geoms[0][0] in cand or top_shelves_col_geoms[1][0] in cand):\n",
    "#             important_collision_pairs.append(cand)\n",
    "\n",
    "\n",
    "hyperplane_plants = {} # map a geometry pair to the appropriate hyerplane plant\n",
    "plane_dimensions = (4,4,0.001)\n",
    "plane_color = (0,1,0,0.25)\n",
    "dummy_inertia = SpatialInertia.SolidBoxWithDensity(0.01, *plane_dimensions)\n",
    "dummy_box = Box(*plane_dimensions)\n",
    "\n",
    "for p1, p2 in important_collision_pairs:\n",
    "    hyperplane_plant = builder.AddSystem(MultibodyPlant(0.01))\n",
    "    hyperplane_plant.RegisterAsSourceForSceneGraph(scene_graph)\n",
    "    builder.Connect(hyperplane_plant.get_geometry_poses_output_port(), scene_graph.get_source_pose_port(\n",
    "              hyperplane_plant.get_source_id()))\n",
    "    builder.Connect(\n",
    "          scene_graph.get_query_output_port(),\n",
    "          hyperplane_plant.get_geometry_query_input_port())\n",
    "    hyperplane_model_instance = hyperplane_plant.AddModelInstance(\"hyperplane\")\n",
    "    body_name = f\"hyperplane_{p1, p2}\"\n",
    "    body = hyperplane_plant.AddRigidBody(body_name, hyperplane_model_instance, dummy_inertia)    \n",
    "    hyperplane_plant.RegisterVisualGeometry(body, RigidTransform(), dummy_box, body_name, plane_color)\n",
    "    hyperplane_plant.Finalize()\n",
    "    hyperplane_plants[p1, p2] = hyperplane_plant \n",
    "    meshcat.SetProperty(f\"visualizer/hyperplane/{body_name}\", \"visible\", False)\n",
    "\n",
    "plant.Finalize()\n",
    "\n",
    "\n",
    "diagram = builder.Build()\n",
    "diagram_context = diagram.CreateDefaultContext()\n",
    "plant_context = plant.GetMyContextFromRoot(diagram_context)\n",
    "diagram.ForcedPublish(diagram_context)\n",
    "    \n",
    "    \n",
    "    #return plant, scene_graph, diagram, diagram_context, plant_context, meshcat if usemeshcat else None, important_collision_pairs\n",
    "\n",
    "#plant, scene_graph, diagram, diagram_context, plant_context, meshcat, important_collision_pairs = plant_builder(usemeshcat=True)\n",
    "#find shunk geom id\n",
    "       \n",
    "        \n",
    "\n",
    "\n",
    "scene_graph_context = scene_graph.GetMyMutableContextFromRoot(\n",
    "    diagram_context)\n",
    "import pydrake.multibody.rational as rational_forward_kinematics\n",
    "from pydrake.all import RationalForwardKinematics\n",
    "Ratfk = RationalForwardKinematics(plant)"
   ]
  },
  {
   "cell_type": "code",
   "execution_count": 135,
   "metadata": {},
   "outputs": [],
   "source": [
    "geoms = []\n",
    "# for model_info in [plant.GetModelInstanceByName(\"shelves1\"), plant.GetModelInstanceByName(\"shelves2\")]:\n",
    "\n",
    "names = [\"top\", \"bottom\", \"right\", \"left\", \"shelf1\", \"shelf2\"]\n",
    "for n in names:\n",
    "# shelf_geom = plant.GetBodyByName(, model_info)\n",
    "\n",
    "    for s in [\"shelves1\", \"shelves2\"]:\n",
    "        path = f\"/drake/visualizer/{s}/{n}\"\n",
    "        \n",
    "        meshcat.SetProperty(path, \"color\", np.array([0.5,0.95,0.6,1]))  \n",
    "#     #meshcat.SetProperty(path+body, \"color\", np.array([0.8,.2,0,0.3]))\n",
    "#     meshcat.SetProperty(f\"visualizer/hyperplane/{body}\", \"visible\", True)\n",
    "#     body_obs = plant.GetBodyFromFrameId(inspector.GetFrameId(pair[0]))\n",
    "#     if plant.GetModelInstanceByName('shelves2') ==body_obs.model_instance():\n",
    "#         path = f\"/drake/visualizer/shelves2/{body_obs.name()}\"\n",
    "#         meshcat.SetProperty(path, \"color\",np.array([color[0],color[1],color[2],1.0]))\n",
    "#     else:\n",
    "#         path = f\"/drake/visualizer/shelves1/{body_obs.name()}\"\n",
    "#         meshcat.SetProperty(path, \"color\",np.array([color[0],color[1],color[2],1.0]))\n",
    "#     body_obs = plant.GetBodyFromFrameId(inspector.GetFrameId(pair[1]))\n",
    "#     path = f\"/drake/visualizer/wsg/{body_obs.name()}\"\n",
    "#     meshcat.SetProperty(path, \"color\",np.array([1,0,0,1.0]))"
   ]
  },
  {
   "cell_type": "code",
   "execution_count": 9,
   "metadata": {},
   "outputs": [],
   "source": [
    "hyperplane_plant_contexts = {k: diagram.GetMutableSubsystemContext(v, diagram_context) for k,v in hyperplane_plants.items()}"
   ]
  },
  {
   "cell_type": "code",
   "execution_count": 10,
   "metadata": {},
   "outputs": [
    {
     "name": "stdout",
     "output_type": "stream",
     "text": [
      "Time to build collision checker 276.0826680660248\n"
     ]
    }
   ],
   "source": [
    "from pydrake.geometry.optimization_dev import CspaceFreePath\n",
    "q_star = np.zeros(plant.num_positions())\n",
    "plane_order =1\n",
    "max_degree = 3 # CHANGE THIS TO 3!!!\n",
    "t0 = time.time()\n",
    "cspace_free_path = CspaceFreePath(\n",
    "    plant,\n",
    "    scene_graph,\n",
    "    q_star,\n",
    "    maximum_path_degree=max_degree,\n",
    "    plane_order=plane_order,\n",
    ")\n",
    "t1 = time.time()\n",
    "print(f\"Time to build collision checker {t1-t0}\")"
   ]
  },
  {
   "cell_type": "code",
   "execution_count": 11,
   "metadata": {},
   "outputs": [
    {
     "name": "stderr",
     "output_type": "stream",
     "text": [
      "Widget Javascript not detected.  It may not be installed or enabled properly. Reconnecting the current kernel may help.\n"
     ]
    },
    {
     "data": {
      "application/vnd.jupyter.widget-view+json": {
       "model_id": "150db2df3ae64517b68684a4a6b0133e"
      }
     },
     "metadata": {},
     "output_type": "display_data"
    },
    {
     "name": "stderr",
     "output_type": "stream",
     "text": [
      "Widget Javascript not detected.  It may not be installed or enabled properly. Reconnecting the current kernel may help.\n"
     ]
    },
    {
     "data": {
      "application/vnd.jupyter.widget-view+json": {
       "model_id": "150db2df3ae64517b68684a4a6b0133e"
      }
     },
     "metadata": {},
     "output_type": "display_data"
    },
    {
     "name": "stderr",
     "output_type": "stream",
     "text": [
      "Widget Javascript not detected.  It may not be installed or enabled properly. Reconnecting the current kernel may help.\n"
     ]
    },
    {
     "data": {
      "application/vnd.jupyter.widget-view+json": {
       "model_id": "694b19acc3154c648ce9d98e6f9aaa39"
      }
     },
     "metadata": {},
     "output_type": "display_data"
    },
    {
     "name": "stderr",
     "output_type": "stream",
     "text": [
      "Widget Javascript not detected.  It may not be installed or enabled properly. Reconnecting the current kernel may help.\n"
     ]
    },
    {
     "data": {
      "application/vnd.jupyter.widget-view+json": {
       "model_id": "15484fc02bb042e081bcdfb722390c9b"
      }
     },
     "metadata": {},
     "output_type": "display_data"
    },
    {
     "name": "stderr",
     "output_type": "stream",
     "text": [
      "Widget Javascript not detected.  It may not be installed or enabled properly. Reconnecting the current kernel may help.\n"
     ]
    },
    {
     "data": {
      "application/vnd.jupyter.widget-view+json": {
       "model_id": "6a80f71a4f374428b5693a4783bdb484"
      }
     },
     "metadata": {},
     "output_type": "display_data"
    },
    {
     "name": "stderr",
     "output_type": "stream",
     "text": [
      "Widget Javascript not detected.  It may not be installed or enabled properly. Reconnecting the current kernel may help.\n"
     ]
    },
    {
     "data": {
      "application/vnd.jupyter.widget-view+json": {
       "model_id": "616cc5eebd814007ac8215f75a1e95d2"
      }
     },
     "metadata": {},
     "output_type": "display_data"
    },
    {
     "name": "stderr",
     "output_type": "stream",
     "text": [
      "Widget Javascript not detected.  It may not be installed or enabled properly. Reconnecting the current kernel may help.\n"
     ]
    },
    {
     "data": {
      "application/vnd.jupyter.widget-view+json": {
       "model_id": "07137502a2634a95a3afc724981eccec"
      }
     },
     "metadata": {},
     "output_type": "display_data"
    },
    {
     "name": "stderr",
     "output_type": "stream",
     "text": [
      "Widget Javascript not detected.  It may not be installed or enabled properly. Reconnecting the current kernel may help.\n"
     ]
    },
    {
     "data": {
      "application/vnd.jupyter.widget-view+json": {
       "model_id": "94121099848440b78b91cab62e09b2e4"
      }
     },
     "metadata": {},
     "output_type": "display_data"
    }
   ],
   "source": [
    "sliders = []\n",
    "for i in range(plant.num_positions()):\n",
    "    q_low = plant.GetPositionLowerLimits()[i]\n",
    "    q_high = plant.GetPositionUpperLimits()[i]\n",
    "    sliders.append(widgets.FloatSlider(min=q_low, max=q_high, value=0, description=f\"q{i}\"))\n",
    "\n",
    "q = np.zeros(plant.num_positions())\n",
    "ik = InverseKinematics(plant, plant_context)\n",
    "collision_constraint = ik.AddMinimumDistanceConstraint(0.001, 0.001)\n",
    "def eval_cons(q, c, tol):\n",
    "    return 1-1*float(c.evaluator().CheckSatisfied(q, tol))\n",
    "diagram_col_context = diagram.CreateDefaultContext()\n",
    "plant_col_context = diagram.GetMutableSubsystemContext(plant, diagram_col_context)\n",
    "scene_graph_col_context = diagram.GetMutableSubsystemContext(\n",
    "        scene_graph, diagram_col_context\n",
    "    )\n",
    "query_port = scene_graph.get_query_output_port()\n",
    "\n",
    "\n",
    "def check_collision_q_by_query(q):\n",
    "    plant.SetPositions(plant_context, q)\n",
    "    query_object = query_port.Eval(scene_graph_context)\n",
    "    return 1 if query_object.HasCollisions() else 0\n",
    "    \n",
    "\n",
    "def check_collision_s_by_query(s):\n",
    "    s = np.array(s)\n",
    "    q = Ratfk.ComputeQValue(s, q_star)\n",
    "    return check_collision_q_by_query(q)\n",
    "\n",
    "\n",
    "    \n",
    "col_func_handle = check_collision_q_by_query#partial(eval_cons, c=collision_constraint, tol=0.01)\n",
    "\n",
    "col_shunk_col =  Rgba(0.8, 0.0, 0, 0.5)    \n",
    "col_shunk_free =  Rgba(0.0, 0.8, 0.5, 0.5)   \n",
    "\n",
    "def handle_slider_change(change, idx):\n",
    "    q[idx] = change['new']\n",
    "    showres(q)\n",
    "\n",
    "def showres_s(s_vis):\n",
    "    showres(Ratfk.ComputeQValue(s_vis, np.zeros(7)))\n",
    "\n",
    "def showres(qvis):\n",
    "    plant.SetPositions(plant_context, qvis)\n",
    "    col = col_func_handle(qvis)\n",
    "    shunk = plant.get_body(pydrake.multibody.tree.BodyIndex(9))\n",
    "    tf_tot = shunk.EvalPoseInWorld(plant_context)\n",
    "    tf = tf_tot.translation()\n",
    "    \n",
    "   # tf_tot= plant.EvalBodyPoseInWorld(plant_context, plant.get_body(pydrake.multibody.tree.BodyIndex(7)))\n",
    "    #tf = tf_tot.translation() - tf_tot.GetAsMatrix4()[:3,:3][:,1] *0.15\n",
    "#     if col:\n",
    "#         meshcat.SetObject(f\"/drake/visualizer/shunk\",\n",
    "#                                    Sphere(0.05),\n",
    "#                                    col_shunk_col)\n",
    "#     else:\n",
    "#         meshcat.SetObject(f\"/drake/visualizer/shunk\",\n",
    "#                                    Sphere(0.05),\n",
    "#                                    col_shunk_free)\n",
    "#     meshcat.SetTransform(f\"/drake/visualizer/shunk\",\n",
    "#                                    RigidTransform(RotationMatrix(),\n",
    "#                                                   tf))\n",
    "    \n",
    "    diagram.ForcedPublish(diagram_context)\n",
    "\n",
    "scaler = 1 #np.array([0.8, 1., 0.8, 1, 0.8, 1, 0.8]) #do you even geometry bro?\n",
    "q_min = np.array(q_low)*scaler\n",
    "q_max = np.array(q_high)*scaler\n",
    "q_diff = q_max-q_min\n",
    "\n",
    "# def sample_cfree_QPoint(MAXIT=1000):\n",
    "# \tit = 0\n",
    "# \twhile it<MAXIT:\n",
    "# \t\trand = np.random.rand(5)\n",
    "# \t\tq_s = q_min + rand*q_diff\n",
    "# \t\tcol = False\n",
    "# \t\tfor _ in range(10):\n",
    "# \t\t\tr  = 0.05*(np.random.rand(5)-0.5)\n",
    "# \t\t\tcol |= (col_func_handle(q_s+r) > 0)\n",
    "# \t\tif not col:\n",
    "# \t\t\treturn q_s #Ratfk.ComputeQValue(q_s, q_star)\n",
    "# \t\tit+=1\n",
    "# \traise ValueError(\"no col free point found\")\n",
    "\n",
    "idx = 0\n",
    "for slider in sliders:\n",
    "    slider.observe(partial(handle_slider_change, idx = idx), names='value')\n",
    "    idx+=1\n",
    "\n",
    "display(sliders[0])\n",
    "for slider in sliders:\n",
    "    display(slider)"
   ]
  },
  {
   "cell_type": "code",
   "execution_count": 12,
   "metadata": {},
   "outputs": [],
   "source": [
    "# from scipy.interpolate import CubicSpline\n",
    "# waypoints_q =  np.array([[-2.06706, -0.3944 ,  1.43294,  0.9056 ,  0.53294, -0.8944 ,\n",
    "#         0.74567],\n",
    "# [-2.26706, -0.3944 ,  1.43294,  0.9056 ,  0.73294, -0.9944 ,\n",
    "#         1.04567],\n",
    "# [-2.96706, -0.344 ,  2.83294,  0.9056 ,  0.73294, -0.9944 ,\n",
    "#         1.04567],\n",
    "# [-1.06706,  0.1056 ,  2.43294,  0.9056 ,  0.73294,  0.2056 ,\n",
    "#         1.04567],\n",
    "# [-1.06706,  0.1056 ,  2.43294,  1.1056 ,  1.73294,  0.2056 ,\n",
    "#         0.0567],\n",
    "# [-1.56706,  0.1056 ,  2.43294,  1.2056 ,  1.73294,  0.8056 ,\n",
    "#        -0.25433]])\n",
    "# t = np.linspace(0, 1, waypoints_q.shape[0])\n",
    "# coord_splines = [CubicSpline(t,waypoints_q[:,i]) for i in range(7)]\n",
    "# t_refined = np.linspace(0,1,30)\n",
    "# waypoints_q_refined = [[c(t) for c in coord_splines]for t in t_refined] \n",
    "# waypoints_s = np.array([Ratfk.ComputeSValue(w, np.zeros(7)) for w in waypoints_q_refined])\n",
    "# waypoints_q_col = waypoints_q.copy()\n",
    "\n",
    "# # waypoints_q_col[1,:]=np.array([-2.36706, -0.3344 ,  1.43294,  0.8956 ,  0.73294, -0.9944 ,\n",
    "# #         1.04567])\n",
    "# waypoints_q_col[1,:]=np.array([-2.02706, \n",
    "#                                -0.3944 , \n",
    "#                                1.43294, \n",
    "#                                0.9056 ,\n",
    "#                                0.73294,\n",
    "#                                -0.9944 ,\n",
    "#         1.04567])\n",
    "\n",
    "# t = np.linspace(0, 1, waypoints_q_col.shape[0])\n",
    "# coord_splines = [CubicSpline(t,waypoints_q_col[:,i]) for i in range(7)]\n",
    "# t_refined = np.linspace(0,1,30)\n",
    "# waypoints_q_col_refined = [[c(t) for c in coord_splines]for t in t_refined] \n",
    "\n",
    "# t = np.linspace(0, 1, waypoints_q_col.shape[0])\n",
    "# coord_splines = [CubicSpline(t,waypoints_q_col[:,i]) for i in range(7)]\n",
    "# t_refined = np.linspace(0,1,30)\n",
    "# waypoints_q_col_refined = [[c(t) for c in coord_splines]for t in t_refined] \n",
    "\n",
    "\n",
    "# waypoints_s_col = np.array([Ratfk.ComputeSValue(w, np.zeros(7)) for w in waypoints_q_col_refined])\n",
    "# #np.array([-2.0706, -0.3244 ,  1.43294,  0.8756 ,  0.73294, -0.9944 ,\n",
    "# #      1.04567])\n",
    "\n",
    "# breaks = np.linspace(0, 1, waypoints_s.shape[0])\n",
    "# samples = waypoints_s\n",
    "# # traj_safe = PiecewisePolynomial.CubicShapePreserving(breaks,samples.T)\n",
    "# # polys_safe = np.array([traj_safe.getPolynomialMatrix(i) for i in breaks[:-1]]).squeeze().T\n",
    "# traj_safe = PiecewisePolynomial.CubicWithContinuousSecondDerivatives(breaks,samples.T)\n",
    "# polys_safe = np.array([traj_safe.getPolynomialMatrix(i) for i in range(len(breaks)-1)]).squeeze().T\n",
    "\n",
    "\n",
    "# breaks = np.linspace(0, 1, waypoints_s_col.shape[0])\n",
    "# samples = waypoints_s_col\n",
    "# # traj_unsafe = PiecewisePolynomial.CubicShapePreserving(breaks,samples.T)\n",
    "# # polys_unsafe = np.array([traj_safe.getPolynomialMatrix(i) for i in breaks[:-1]]).squeeze().T\n",
    "# traj_unsafe = PiecewisePolynomial.CubicWithContinuousSecondDerivatives(breaks,samples.T)\n",
    "# polys_unsafe = np.array([traj_safe.getPolynomialMatrix(i) for i in range(len(breaks)-1)]).squeeze().T\n",
    "\n",
    "# animate_traj(traj_safe, int(1e4), do_break = False)\n",
    "\n",
    "def animate_traj(traj, num_samples = int(1e3), do_break = False):\n",
    "    for t in np.linspace(traj.start_time(), traj.end_time(),num_samples):\n",
    "        s = traj.value(t)\n",
    "        showres_s(s)\n",
    "        if col_func_handle(Ratfk.ComputeQValue(s, np.zeros(7))):\n",
    "            print('col')\n",
    "            if do_break:\n",
    "                break"
   ]
  },
  {
   "cell_type": "code",
   "execution_count": 13,
   "metadata": {},
   "outputs": [
    {
     "name": "stdout",
     "output_type": "stream",
     "text": [
      "pre start 0.0 end 1.0\n",
      "post start 0.0 end 1.0\n",
      "pre start 1.0 end 2.0\n",
      "post start 0.0 end 1.0\n",
      "pre start 2.0 end 3.0\n",
      "post start 0.0 end 1.0\n",
      "pre start 3.0 end 4.0\n",
      "post start 0.0 end 1.0\n",
      "pre start 4.0 end 5.0\n",
      "post start 0.0 end 1.0\n",
      "pre start 5.0 end 6.0\n",
      "post start 0.0 end 1.0\n",
      "pre start 6.0 end 7.0\n",
      "post start 0.0 end 1.0\n",
      "pre start 7.0 end 8.0\n",
      "post start 0.0 end 1.0\n",
      "pre start 8.0 end 9.0\n",
      "post start 0.0 end 1.0\n",
      "pre start 9.0 end 10.0\n",
      "post start 0.0 end 1.0\n",
      "pre start 10.0 end 11.0\n",
      "post start 0.0 end 1.0\n",
      "pre start 11.0 end 12.0\n",
      "post start 0.0 end 1.0\n",
      "pre start 12.0 end 13.0\n",
      "post start 0.0 end 1.0\n",
      "pre start 13.0 end 14.0\n",
      "post start 0.0 end 1.0\n",
      "pre start 14.0 end 15.0\n",
      "post start 0.0 end 1.0\n",
      "pre start 15.0 end 16.0\n",
      "post start 0.0 end 1.0\n",
      "pre start 16.0 end 17.0\n",
      "post start 0.0 end 1.0\n",
      "pre start 17.0 end 18.0\n",
      "post start 0.0 end 1.0\n",
      "pre start 18.0 end 19.0\n",
      "post start 0.0 end 1.0\n",
      "pre start 19.0 end 20.0\n",
      "post start 0.0 end 1.0\n",
      "pre start 20.0 end 21.0\n",
      "post start 0.0 end 1.0\n",
      "pre start 21.0 end 22.0\n",
      "post start 0.0 end 1.0\n",
      "pre start 22.0 end 23.0\n",
      "post start 0.0 end 1.0\n",
      "pre start 23.0 end 24.0\n",
      "post start 0.0 end 1.0\n",
      "pre start 24.0 end 25.0\n",
      "post start 0.0 end 1.0\n",
      "pre start 25.0 end 26.0\n",
      "post start 0.0 end 1.0\n",
      "pre start 26.0 end 27.0\n",
      "post start 0.0 end 1.0\n",
      "pre start 27.0 end 28.0\n",
      "post start 0.0 end 1.0\n",
      "pre start 28.0 end 29.0\n",
      "post start 0.0 end 1.0\n"
     ]
    }
   ],
   "source": [
    "from scipy.interpolate import CubicSpline\n",
    "waypoints_q =  np.array([[-2.06706, -0.3944 ,  1.43294,  0.9056 ,  0.53294, -0.8944 ,\n",
    "        0.74567],\n",
    "[-2.26706, -0.3944 ,  1.43294,  0.9056 ,  0.73294, -0.9944 ,\n",
    "        1.04567],\n",
    "[-2.96706, -0.344 ,  2.83294,  0.9056 ,  0.73294, -0.9944 ,\n",
    "        1.04567],\n",
    "[-1.06706,  0.1056 ,  2.43294,  0.9056 ,  0.73294,  0.2056 ,\n",
    "        1.04567],\n",
    "[-1.06706,  0.1056 ,  2.43294,  1.1056 ,  1.73294,  0.2056 ,\n",
    "        0.0567],\n",
    "[-1.56706,  0.1056 ,  2.43294,  1.2056 ,  1.73294,  0.8056 ,\n",
    "       -0.25433]])\n",
    "\n",
    "# waypoints_q[1,:]=np.array([\n",
    "#     -2.16706, -0.3944 ,  1.43294,  0.9056 ,  0.73294, -1.0944, 1.04567\n",
    "# ])\n",
    "\n",
    "t = np.linspace(0, 1, waypoints_q.shape[0])\n",
    "coord_splines = [CubicSpline(t,waypoints_q[:,i]) for i in range(7)]\n",
    "t_refined = np.linspace(0,1,30)\n",
    "waypoints_q_refined = [[c(t) for c in coord_splines]for t in t_refined] \n",
    "\n",
    "\n",
    "waypoints_s = np.array([Ratfk.ComputeSValue(w, np.zeros(7)) for w in waypoints_q_refined])\n",
    "\n",
    "\n",
    "waypoints_q_col = waypoints_q.copy()\n",
    "\n",
    "waypoints_q_col[1,:]=np.array([-2.22706, -0.3944 ,  1.43294,  0.9056 ,  0.73294, -0.9944 ,\n",
    "        1.04567])\n",
    "# waypoints_q_col[1,:]=np.array([\n",
    "#     -2.06706, -0.3944 ,  1.33294,  0.9056 ,  0.73294, -0.5944 ,  0.54567\n",
    "# ])\n",
    "# waypoints_q_col[2,:]=np.array([\n",
    "#     -2.06706, -0.3944 ,  1.33294,  0.9056 ,  0.73294, -0.5944 ,\n",
    "#         0.54567\n",
    "# ])\n",
    "\n",
    "t = np.linspace(0, 1, waypoints_q_col.shape[0])\n",
    "coord_splines = [CubicSpline(t,waypoints_q_col[:,i]) for i in range(7)]\n",
    "t_refined = np.linspace(0,1,30)\n",
    "waypoints_q_col_refined = [[c(t) for c in coord_splines]for t in t_refined] \n",
    "\n",
    "t = np.linspace(0, 1, waypoints_q_col.shape[0])\n",
    "coord_splines = [CubicSpline(t,waypoints_q_col[:,i]) for i in range(7)]\n",
    "t_refined = np.linspace(0,1,30)\n",
    "waypoints_q_col_refined = [[c(t) for c in coord_splines]for t in t_refined] \n",
    "\n",
    "\n",
    "waypoints_s_col = np.array([Ratfk.ComputeSValue(w, np.zeros(7)) for w in waypoints_q_col_refined])\n",
    "#np.array([-2.0706, -0.3244 ,  1.43294,  0.8756 ,  0.73294, -0.9944 ,\n",
    "#      1.04567])\n",
    "\n",
    "breaks = np.linspace(0, 1, waypoints_s.shape[0])\n",
    "samples = waypoints_s\n",
    "\n",
    "traj_time = 3\n",
    "\n",
    "# traj_safe = PiecewisePolynomial.CubicShapePreserving(breaks,samples.T)\n",
    "# polys_safe = np.array([traj_safe.getPolynomialMatrix(i) for i in breaks[:-1]]).squeeze().T\n",
    "traj_safe = PiecewisePolynomial.CubicWithContinuousSecondDerivatives(breaks,samples.T)\n",
    "traj_safe.ScaleTime(traj_time)\n",
    "polys_safe = np.array([traj_safe.getPolynomialMatrix(i) for i in range(len(breaks)-1)]).squeeze().T\n",
    "\n",
    "breaks = np.arange(0, waypoints_s.shape[0])\n",
    "samples = waypoints_s\n",
    "derivs = np.zeros_like(waypoints_s)\n",
    "traj2 = PiecewisePolynomial.CubicHermite(breaks,samples.T, derivs.T)\n",
    "polys2 =np.array([traj2.getPolynomialMatrix(i) for i in breaks[:-1]]).squeeze().T\n",
    "\n",
    "def piecewise_traj_to_cert_input(traj, num_segments):\n",
    "    polys = []\n",
    "    for i in range(num_segments):\n",
    "        traj_seg = traj.slice(i, 1)\n",
    "        print(f\"pre start {traj_seg.start_time()} end {traj_seg.end_time()}\")\n",
    "        #traj_seg.ReverseTime()\n",
    "        start_time = traj_seg.start_time()\n",
    "        traj_seg.shiftRight(-start_time)\n",
    "        #traj_seg.ReverseTime()\n",
    "        print(f\"post start {traj_seg.start_time()} end {traj_seg.end_time()}\")\n",
    "        traj_seg.ScaleTime(1/traj_seg.end_time())\n",
    "        polys.append(\n",
    "            traj_seg.getPolynomialMatrix(0)\n",
    "        )\n",
    "    polys = np.array(polys).squeeze().T\n",
    "    return polys\n",
    "poly_safe_final = piecewise_traj_to_cert_input(traj2, len(breaks)-1)\n",
    "breaks = np.linspace(0, 1, waypoints_s_col.shape[0])\n",
    "samples = waypoints_s_col\n",
    "# traj_unsafe = PiecewisePolynomial.CubicShapePreserving(breaks,samples.T)\n",
    "# polys_unsafe = np.array([traj_safe.getPolynomialMatrix(i) for i in breaks[:-1]]).squeeze().T\n",
    "traj_unsafe = PiecewisePolynomial.CubicWithContinuousSecondDerivatives(breaks,samples.T)\n",
    "traj_unsafe.ScaleTime(traj_time)\n",
    "\n",
    "polys_unsafe = np.array([traj_safe.getPolynomialMatrix(i) for i in range(len(breaks)-1)]).squeeze().T\n",
    "\n"
   ]
  },
  {
   "cell_type": "code",
   "execution_count": 14,
   "metadata": {},
   "outputs": [],
   "source": [
    "import C_Iris_Examples.visualization_utils as vis_utils\n",
    "q_star = np.zeros(plant.num_positions())\n",
    "vis_bundle = vis_utils.VisualizationBundle(\n",
    "    diagram, diagram_context, plant, plant_context,\n",
    "    Ratfk, meshcat, q_star\n",
    ")\n",
    "\n",
    "num_points = int(1e4)\n",
    "safe_color=Rgba(0,1,0,1)\n",
    "vis_utils.visualize_s_space_trajectory(\n",
    "    vis_bundle, traj_safe,\n",
    "    plant.GetBodyByName(\"body\"), #shunk,\n",
    "    \"/safe_traj\",\n",
    "    vis_utils.TrajectoryVisualizationOptions(start_size = 0.001,\n",
    "                                            end_size=0.001,\n",
    "                                            start_color=safe_color,\n",
    "                                            end_color=safe_color,\n",
    "                                            path_color=safe_color,\n",
    "                                            num_points = num_points)\n",
    ")\n",
    "\n",
    "unsafe_color = Rgba(1,0,0,1)\n",
    "vis_utils.visualize_s_space_trajectory(\n",
    "    vis_bundle, traj_unsafe,\n",
    "    plant.GetBodyByName(\"body\"), #shunk,\n",
    "    \"/unsafe_traj\",\n",
    "    vis_utils.TrajectoryVisualizationOptions(start_size = 0.001,\n",
    "                                            end_size=0.001,\n",
    "                                            start_color=unsafe_color,\n",
    "                                            end_color=unsafe_color,\n",
    "                                            path_color=unsafe_color,\n",
    "                                            num_points = num_points)\n",
    ")"
   ]
  },
  {
   "cell_type": "code",
   "execution_count": 15,
   "metadata": {},
   "outputs": [],
   "source": [
    "animate_traj(traj2, int(1e4), do_break = False)"
   ]
  },
  {
   "cell_type": "code",
   "execution_count": 16,
   "metadata": {},
   "outputs": [],
   "source": [
    "#animate_traj(traj_unsafe, int(1e4), do_break = False)"
   ]
  },
  {
   "cell_type": "code",
   "execution_count": 17,
   "metadata": {},
   "outputs": [],
   "source": [
    "cert_options = CspaceFreePath.FindSeparationCertificateGivenPathOptions()\n",
    "cert_options.terminate_segment_certification_at_failure = False\n",
    "cert_options.num_threads = -1\n",
    "cert_options.verbose = False\n",
    "cert_options.solver_id = MosekSolver.id()\n",
    "cert_options.solver_options = SolverOptions()\n",
    "cert_options.terminate_path_certification_at_failure = False"
   ]
  },
  {
   "cell_type": "markdown",
   "metadata": {},
   "source": [
    "## The Certifier Runs HERE"
   ]
  },
  {
   "cell_type": "code",
   "execution_count": 18,
   "metadata": {},
   "outputs": [
    {
     "name": "stdout",
     "output_type": "stream",
     "text": [
      "Time to certify path 230.7496109008789\n"
     ]
    }
   ],
   "source": [
    "t0 = time.time()\n",
    "stats, res = cspace_free_path.FindSeparationCertificateGivenPath(poly_safe_final,\n",
    "                                                                 set(),\n",
    "                                                                 cert_options)\n",
    "t1 = time.time()\n",
    "print(f\"Time to certify path {t1-t0}\")"
   ]
  },
  {
   "cell_type": "code",
   "execution_count": 19,
   "metadata": {},
   "outputs": [
    {
     "name": "stdout",
     "output_type": "stream",
     "text": [
      "True\n",
      "True\n",
      "True\n",
      "True\n",
      "True\n",
      "True\n",
      "True\n",
      "True\n",
      "True\n",
      "True\n",
      "True\n",
      "True\n",
      "True\n",
      "True\n",
      "True\n",
      "True\n",
      "True\n",
      "True\n",
      "True\n",
      "True\n",
      "True\n",
      "True\n",
      "True\n",
      "True\n",
      "True\n",
      "True\n",
      "True\n",
      "True\n",
      "True\n"
     ]
    }
   ],
   "source": [
    "for s in stats:\n",
    "    print(s.certified_safe())\n",
    "    "
   ]
  },
  {
   "cell_type": "code",
   "execution_count": 22,
   "metadata": {},
   "outputs": [],
   "source": [
    "important_collision_pairs_f = [i[::-1] for i in important_collision_pairs]"
   ]
  },
  {
   "cell_type": "markdown",
   "metadata": {},
   "source": [
    "# Plane Plotting"
   ]
  },
  {
   "cell_type": "code",
   "execution_count": 20,
   "metadata": {},
   "outputs": [
    {
     "ename": "NameError",
     "evalue": "name 'pair' is not defined",
     "output_type": "error",
     "traceback": [
      "\u001b[0;31m---------------------------------------------------------------------------\u001b[0m",
      "\u001b[0;31mNameError\u001b[0m                                 Traceback (most recent call last)",
      "\u001b[0;32m/tmp/ipykernel_88826/755271657.py\u001b[0m in \u001b[0;36m<module>\u001b[0;34m\u001b[0m\n\u001b[0;32m----> 1\u001b[0;31m \u001b[0mname_obs\u001b[0m \u001b[0;34m=\u001b[0m \u001b[0mplant\u001b[0m\u001b[0;34m.\u001b[0m\u001b[0mGetBodyFromFrameId\u001b[0m\u001b[0;34m(\u001b[0m\u001b[0minspector\u001b[0m\u001b[0;34m.\u001b[0m\u001b[0mGetFrameId\u001b[0m\u001b[0;34m(\u001b[0m\u001b[0mpair\u001b[0m\u001b[0;34m[\u001b[0m\u001b[0;36m1\u001b[0m\u001b[0;34m]\u001b[0m\u001b[0;34m)\u001b[0m\u001b[0;34m)\u001b[0m\u001b[0;34m.\u001b[0m\u001b[0mname\u001b[0m\u001b[0;34m(\u001b[0m\u001b[0;34m)\u001b[0m\u001b[0;34m\u001b[0m\u001b[0;34m\u001b[0m\u001b[0m\n\u001b[0m",
      "\u001b[0;31mNameError\u001b[0m: name 'pair' is not defined"
     ]
    }
   ],
   "source": [
    "#name_obs = plant.GetBodyFromFrameId(inspector.GetFrameId(pair[1])).name()"
   ]
  },
  {
   "cell_type": "code",
   "execution_count": 136,
   "metadata": {},
   "outputs": [],
   "source": [
    "pairs_to_show = important_collision_pairs\n",
    "for pair in important_collision_pairs_f:\n",
    "    if pair not in pairs_to_show:\n",
    "        path = \"/drake/visualizer/hyperplane/\"\n",
    "        body = f\"hyperplane_{pair[0], pair[1]}\"\n",
    "        meshcat.Delete(path+body)  \n",
    "\n",
    "pair = pairs_to_show\n",
    "\n",
    "def set_colors_col_pair(pair, color):\n",
    "    path = \"/drake/visualizer/hyperplane/\"\n",
    "    body = f\"hyperplane_{pair[0], pair[1]}\"\n",
    "    meshcat.SetProperty(path+body, \"color\", np.array([color[0],color[1],color[2],0.2]))  \n",
    "    #meshcat.SetProperty(path+body, \"color\", np.array([0.8,.2,0,0.3]))\n",
    "    meshcat.SetProperty(f\"visualizer/hyperplane/{body}\", \"visible\", True)\n",
    "    body_obs = plant.GetBodyFromFrameId(inspector.GetFrameId(pair[0]))\n",
    "    if plant.GetModelInstanceByName('shelves2') ==body_obs.model_instance():\n",
    "        path = f\"/drake/visualizer/shelves2/{body_obs.name()}\"\n",
    "        meshcat.SetProperty(path, \"color\",np.array([color[0],color[1],color[2],1.0]))\n",
    "    else:\n",
    "        path = f\"/drake/visualizer/shelves1/{body_obs.name()}\"\n",
    "        meshcat.SetProperty(path, \"color\",np.array([color[0],color[1],color[2],1.0]))\n",
    "    body_obs = plant.GetBodyFromFrameId(inspector.GetFrameId(pair[1]))\n",
    "    path = f\"/drake/visualizer/wsg/{body_obs.name()}\"\n",
    "    meshcat.SetProperty(path, \"color\",np.array([0.8,0.,.1,1.0]))\n",
    "    path = f\"/drake/visualizer/wsg/left_finger\"\n",
    "    meshcat.SetProperty(path, \"color\",np.array([0.8,0.,.1,1.0]))\n",
    "    path = f\"/drake/visualizer/wsg/right_finger\"\n",
    "    meshcat.SetProperty(path, \"color\",np.array([0.8,0.,.1,1.0]))\n",
    "    \n",
    "    #print(body_obs)\n",
    "#     path = \"/drake/visualizer/obstacle/\"\n",
    "#     meshcat.SetProperty(path+name_obs, \"color\",np.array([0.8,.2,0,0.9]))  \n",
    "#     name_link = plant.GetBodyFromFrameId(inspector.GetFrameId(pair[0])).name()\n",
    "#     path = \"/drake/visualizer/pendulum/\"\n",
    "#     meshcat.SetProperty(path+name_link, \"color\",np.array([0.8,.2,0,0.9])) \n",
    "\n",
    "colors_pallete = np.array(vis_utils.n_colors(100)) / 255\n",
    "colors = colors_pallete[np.random.choice(100,3)]\n",
    "colors = np.array([[0.8,0,0.1], [0.4,0.9,0.5]])\n",
    "for pair,c  in zip(pairs_to_show,colors):\n",
    "    set_colors_col_pair(pair,c)"
   ]
  },
  {
   "cell_type": "code",
   "execution_count": 126,
   "metadata": {},
   "outputs": [
    {
     "data": {
      "text/plain": [
       "<RigidBody name='left' index=21 model_instance=5>"
      ]
     },
     "execution_count": 126,
     "metadata": {},
     "output_type": "execute_result"
    }
   ],
   "source": []
  },
  {
   "cell_type": "code",
   "execution_count": 137,
   "metadata": {},
   "outputs": [],
   "source": [
    "def set_hyperplane_transform_by_col_pair(p1, p2, X):\n",
    "    key = (p1, p2) if (p1,p2) in hyperplane_plants.keys() else (p2, p1)\n",
    "    plant = hyperplane_plants[key]\n",
    "    plant_context = hyperplane_plant_contexts[key]\n",
    "    p = X.translation()\n",
    "    quat = X.rotation().ToQuaternion().wxyz()\n",
    "    plant.SetPositions(plant_context, np.append(quat, p))\n",
    "    \n",
    "from pydrake.all import Evaluate\n",
    "from pydrake.all import AngleAxis,RigidTransform\n",
    "from scipy.linalg import null_space\n",
    "query = scene_graph.get_query_output_port().Eval(scene_graph.GetMyContextFromRoot(diagram_context))\n",
    "inspector = query.inspector()\n",
    "geompair_to_planes = CspaceFreePath.map_geometries_to_separating_planes(cspace_free_path)\n",
    "def get_associated_plane_result_tuple(p1, p2, cert_result_for_edge):\n",
    "    key = (p1, p2) if (p1,p2) in cert_result_for_edge.keys() else (p2,p1)\n",
    "    return cert_result_for_edge[key]\n",
    "def compute_plane_transform(a, b, p1, p2):\n",
    "    #determine normal\n",
    "    assert len(a)==3\n",
    "    p1 = p1.squeeze()\n",
    "    p2 = p2.squeeze()\n",
    "    t = (-b -a.T@p2)/ (a.T @ (p1 - p2))\n",
    "    np.clip(t, 0,1)\n",
    "    offset = t*p1 + (1-t)*p2\n",
    "    #offset = mu * (p2 - p1)\n",
    "#         offset = 0.5*(p2 - p1)\n",
    "    axis = (a / np.linalg.norm(a))[:]\n",
    "    n = (a/np.linalg.norm(a)).squeeze()\n",
    "    a = a.squeeze()\n",
    "    target_vector = np.array([0, 0, 1])\n",
    "    cos_theta = np.dot(target_vector, n)\n",
    "    rotation_axis = np.cross(target_vector, n)\n",
    "    rotation_axis = rotation_axis/np.linalg.norm(rotation_axis) \n",
    "    theta = np.arccos(cos_theta)\n",
    "    rotation = AngleAxis(theta, rotation_axis).rotation()\n",
    "    #print(axis.shape)\n",
    "    #P = null_space(axis.T)\n",
    "    #rotation = np.hstack([P, axis])\n",
    "    R = RotationMatrix(rotation)\n",
    "    return RigidTransform(R, offset)\n",
    "    \n",
    "#     translation = (-b-a@pt2)/(a@pt1-a@pt2) *pt1\n",
    "#     X = RigidTransform(RotationMatrix(rotation),translation)\n",
    "    #return X\n",
    "\n",
    "def get_hyperplane_transform_from_geom_pair(pair, mu_val, edge_result):\n",
    "    cert = get_associated_plane_result_tuple(*pair,\n",
    "                                            edge_result)\n",
    "    a = Evaluate(cert.a, {mu: mu_val for mu in cert.a[0].indeterminates()})\n",
    "    b = Evaluate(np.array([cert.b]), {mu: mu_val for mu in cert.b.indeterminates()})[0].item()\n",
    "    \n",
    "    plane_idx = geompair_to_planes[pair]\n",
    "    body_index = cspace_free_path.separating_planes()[plane_idx].expressed_body\n",
    "    expressed_body = plant.get_body(body_index)\n",
    "    X_WE = plant.EvalBodyPoseInWorld(\n",
    "                plant_context, expressed_body)\n",
    "    X_EW = X_WE.inverse()\n",
    "    f_ids = [inspector.GetFrameId(p) for p in pair]\n",
    "    bodies = [plant.GetBodyFromFrameId(f) for f in f_ids]\n",
    "    X_WG = [plant.EvalBodyPoseInWorld(plant_context,b) for b in bodies]\n",
    "    p1 = (X_EW @ X_WG[0]).translation()\n",
    "    p2 = (X_EW @ X_WG[1]).translation()\n",
    "    X_E_plane = compute_plane_transform(a,b,p1, p2)\n",
    "    return X_WE @ X_E_plane"
   ]
  },
  {
   "cell_type": "code",
   "execution_count": null,
   "metadata": {},
   "outputs": [],
   "source": []
  },
  {
   "cell_type": "code",
   "execution_count": 144,
   "metadata": {},
   "outputs": [
    {
     "name": "stderr",
     "output_type": "stream",
     "text": [
      " 10%|█▎           | 400/4000 [00:21<03:09, 19.00it/s]\n"
     ]
    },
    {
     "ename": "IndexError",
     "evalue": "list index out of range",
     "output_type": "error",
     "traceback": [
      "\u001b[0;31m---------------------------------------------------------------------------\u001b[0m",
      "\u001b[0;31mIndexError\u001b[0m                                Traceback (most recent call last)",
      "\u001b[0;32m/tmp/ipykernel_88826/2636246332.py\u001b[0m in \u001b[0;36m<module>\u001b[0;34m\u001b[0m\n\u001b[1;32m      5\u001b[0m     \u001b[0mseg\u001b[0m \u001b[0;34m=\u001b[0m \u001b[0mint\u001b[0m\u001b[0;34m(\u001b[0m\u001b[0mt\u001b[0m\u001b[0;34m*\u001b[0m\u001b[0;36m10.0\u001b[0m\u001b[0;34m)\u001b[0m\u001b[0;34m\u001b[0m\u001b[0;34m\u001b[0m\u001b[0m\n\u001b[1;32m      6\u001b[0m     \u001b[0;32mfor\u001b[0m \u001b[0mpair\u001b[0m \u001b[0;32min\u001b[0m \u001b[0mimportant_collision_pairs_f\u001b[0m\u001b[0;34m:\u001b[0m\u001b[0;34m\u001b[0m\u001b[0;34m\u001b[0m\u001b[0m\n\u001b[0;32m----> 7\u001b[0;31m         \u001b[0mX\u001b[0m \u001b[0;34m=\u001b[0m \u001b[0mget_hyperplane_transform_from_geom_pair\u001b[0m\u001b[0;34m(\u001b[0m\u001b[0mpair\u001b[0m\u001b[0;34m,\u001b[0m \u001b[0mt\u001b[0m\u001b[0;34m-\u001b[0m\u001b[0mseg\u001b[0m\u001b[0;34m/\u001b[0m\u001b[0;36m10.\u001b[0m\u001b[0;34m,\u001b[0m \u001b[0mres\u001b[0m\u001b[0;34m[\u001b[0m\u001b[0mseg\u001b[0m\u001b[0;34m]\u001b[0m\u001b[0;34m)\u001b[0m\u001b[0;34m\u001b[0m\u001b[0;34m\u001b[0m\u001b[0m\n\u001b[0m\u001b[1;32m      8\u001b[0m         \u001b[0mset_hyperplane_transform_by_col_pair\u001b[0m\u001b[0;34m(\u001b[0m\u001b[0;34m*\u001b[0m\u001b[0mpair\u001b[0m\u001b[0;34m[\u001b[0m\u001b[0;34m:\u001b[0m\u001b[0;34m:\u001b[0m\u001b[0;34m-\u001b[0m\u001b[0;36m1\u001b[0m\u001b[0;34m]\u001b[0m\u001b[0;34m,\u001b[0m \u001b[0mX\u001b[0m\u001b[0;34m)\u001b[0m\u001b[0;34m\u001b[0m\u001b[0;34m\u001b[0m\u001b[0m\n\u001b[1;32m      9\u001b[0m \u001b[0;31m#     if seg-seg_prev>0:\u001b[0m\u001b[0;34m\u001b[0m\u001b[0;34m\u001b[0m\u001b[0m\n",
      "\u001b[0;31mIndexError\u001b[0m: list index out of range"
     ]
    }
   ],
   "source": [
    "from tqdm import tqdm\n",
    "#def animate_traj(traj, num_samples = int(1e3), do_break = False):\\\n",
    "seg_prev = 0\n",
    "for t in tqdm(np.linspace(traj2.start_time(), traj2.end_time(),4000)):\n",
    "    seg = int(t*10.0)\n",
    "    for pair in important_collision_pairs_f:\n",
    "        X = get_hyperplane_transform_from_geom_pair(pair, t-seg/10., res[seg])\n",
    "        set_hyperplane_transform_by_col_pair(*pair[::-1], X)\n",
    "#     if seg-seg_prev>0:\n",
    "#         colors = colors_pallete[np.random.choice(100,3)]\n",
    "#         for pair,c  in zip(pairs_to_show,colors):\n",
    "#             set_colors_col_pair(pair,c)\n",
    "    \n",
    "    \n",
    "    s = traj_safe.value(t)\n",
    "    showres_s(s)\n",
    "    time.sleep(0.05)\n",
    "    if col_func_handle(Ratfk.ComputeQValue(s, np.zeros(7))):\n",
    "        print('col')\n",
    "        if do_break:\n",
    "            break\n",
    "    if t>2.9:\n",
    "        break"
   ]
  },
  {
   "cell_type": "code",
   "execution_count": 30,
   "metadata": {},
   "outputs": [
    {
     "data": {
      "text/plain": [
       "29.0"
      ]
     },
     "execution_count": 30,
     "metadata": {},
     "output_type": "execute_result"
    }
   ],
   "source": [
    "traj2.end_time()"
   ]
  },
  {
   "cell_type": "code",
   "execution_count": 19,
   "metadata": {},
   "outputs": [
    {
     "ename": "NameError",
     "evalue": "name 'hyperplane_plant_contexts' is not defined",
     "output_type": "error",
     "traceback": [
      "\u001b[0;31m---------------------------------------------------------------------------\u001b[0m",
      "\u001b[0;31mNameError\u001b[0m                                 Traceback (most recent call last)",
      "\u001b[0;32m/tmp/ipykernel_76059/2751501897.py\u001b[0m in \u001b[0;36m<module>\u001b[0;34m\u001b[0m\n\u001b[1;32m      1\u001b[0m \u001b[0mX\u001b[0m \u001b[0;34m=\u001b[0m \u001b[0mget_hyperplane_transform_from_geom_pair\u001b[0m\u001b[0;34m(\u001b[0m\u001b[0mimportant_collision_pairs_f\u001b[0m\u001b[0;34m[\u001b[0m\u001b[0;36m0\u001b[0m\u001b[0;34m]\u001b[0m\u001b[0;34m,\u001b[0m \u001b[0;36m0.1\u001b[0m\u001b[0;34m,\u001b[0m \u001b[0mres\u001b[0m\u001b[0;34m[\u001b[0m\u001b[0;36m0\u001b[0m\u001b[0;34m]\u001b[0m\u001b[0;34m)\u001b[0m\u001b[0;34m\u001b[0m\u001b[0;34m\u001b[0m\u001b[0m\n\u001b[0;32m----> 2\u001b[0;31m \u001b[0mset_hyperplane_transform_by_col_pair\u001b[0m\u001b[0;34m(\u001b[0m\u001b[0;34m*\u001b[0m\u001b[0mimportant_collision_pairs_f\u001b[0m\u001b[0;34m[\u001b[0m\u001b[0;36m0\u001b[0m\u001b[0;34m]\u001b[0m\u001b[0;34m,\u001b[0m \u001b[0mX\u001b[0m\u001b[0;34m)\u001b[0m\u001b[0;34m\u001b[0m\u001b[0;34m\u001b[0m\u001b[0m\n\u001b[0m",
      "\u001b[0;32m/tmp/ipykernel_76059/356845128.py\u001b[0m in \u001b[0;36mset_hyperplane_transform_by_col_pair\u001b[0;34m(p1, p2, X)\u001b[0m\n\u001b[1;32m      2\u001b[0m     \u001b[0mkey\u001b[0m \u001b[0;34m=\u001b[0m \u001b[0;34m(\u001b[0m\u001b[0mp1\u001b[0m\u001b[0;34m,\u001b[0m \u001b[0mp2\u001b[0m\u001b[0;34m)\u001b[0m \u001b[0;32mif\u001b[0m \u001b[0;34m(\u001b[0m\u001b[0mp1\u001b[0m\u001b[0;34m,\u001b[0m\u001b[0mp2\u001b[0m\u001b[0;34m)\u001b[0m \u001b[0;32min\u001b[0m \u001b[0mhyperplane_plants\u001b[0m\u001b[0;34m.\u001b[0m\u001b[0mkeys\u001b[0m\u001b[0;34m(\u001b[0m\u001b[0;34m)\u001b[0m \u001b[0;32melse\u001b[0m \u001b[0;34m(\u001b[0m\u001b[0mp2\u001b[0m\u001b[0;34m,\u001b[0m \u001b[0mp1\u001b[0m\u001b[0;34m)\u001b[0m\u001b[0;34m\u001b[0m\u001b[0;34m\u001b[0m\u001b[0m\n\u001b[1;32m      3\u001b[0m     \u001b[0mplant\u001b[0m \u001b[0;34m=\u001b[0m \u001b[0mhyperplane_plants\u001b[0m\u001b[0;34m[\u001b[0m\u001b[0mkey\u001b[0m\u001b[0;34m]\u001b[0m\u001b[0;34m\u001b[0m\u001b[0;34m\u001b[0m\u001b[0m\n\u001b[0;32m----> 4\u001b[0;31m     \u001b[0mplant_context\u001b[0m \u001b[0;34m=\u001b[0m \u001b[0mhyperplane_plant_contexts\u001b[0m\u001b[0;34m[\u001b[0m\u001b[0mkey\u001b[0m\u001b[0;34m]\u001b[0m\u001b[0;34m\u001b[0m\u001b[0;34m\u001b[0m\u001b[0m\n\u001b[0m\u001b[1;32m      5\u001b[0m     \u001b[0mp\u001b[0m \u001b[0;34m=\u001b[0m \u001b[0mX\u001b[0m\u001b[0;34m.\u001b[0m\u001b[0mtranslation\u001b[0m\u001b[0;34m(\u001b[0m\u001b[0;34m)\u001b[0m\u001b[0;34m\u001b[0m\u001b[0;34m\u001b[0m\u001b[0m\n\u001b[1;32m      6\u001b[0m     \u001b[0mquat\u001b[0m \u001b[0;34m=\u001b[0m \u001b[0mX\u001b[0m\u001b[0;34m.\u001b[0m\u001b[0mrotation\u001b[0m\u001b[0;34m(\u001b[0m\u001b[0;34m)\u001b[0m\u001b[0;34m.\u001b[0m\u001b[0mToQuaternion\u001b[0m\u001b[0;34m(\u001b[0m\u001b[0;34m)\u001b[0m\u001b[0;34m.\u001b[0m\u001b[0mwxyz\u001b[0m\u001b[0;34m(\u001b[0m\u001b[0;34m)\u001b[0m\u001b[0;34m\u001b[0m\u001b[0;34m\u001b[0m\u001b[0m\n",
      "\u001b[0;31mNameError\u001b[0m: name 'hyperplane_plant_contexts' is not defined"
     ]
    }
   ],
   "source": [
    "X = get_hyperplane_transform_from_geom_pair(important_collision_pairs_f[0], 0.1, res[0])\n",
    "set_hyperplane_transform_by_col_pair(*important_collision_pairs_f[0], X)"
   ]
  },
  {
   "cell_type": "code",
   "execution_count": 24,
   "metadata": {},
   "outputs": [
    {
     "data": {
      "text/plain": [
       "[(<GeometryId value=90>, <GeometryId value=70>),\n",
       " (<GeometryId value=126>, <GeometryId value=70>)]"
      ]
     },
     "execution_count": 24,
     "metadata": {},
     "output_type": "execute_result"
    }
   ],
   "source": [
    "important_collision_pairs"
   ]
  },
  {
   "cell_type": "code",
   "execution_count": 33,
   "metadata": {},
   "outputs": [
    {
     "data": {
      "text/plain": [
       "29.0"
      ]
     },
     "execution_count": 33,
     "metadata": {},
     "output_type": "execute_result"
    }
   ],
   "source": [
    "traj2.end_time()"
   ]
  },
  {
   "cell_type": "code",
   "execution_count": null,
   "metadata": {},
   "outputs": [],
   "source": []
  },
  {
   "cell_type": "code",
   "execution_count": null,
   "metadata": {},
   "outputs": [],
   "source": []
  },
  {
   "cell_type": "code",
   "execution_count": 48,
   "metadata": {},
   "outputs": [
    {
     "name": "stdout",
     "output_type": "stream",
     "text": [
      "Time to certify path 330.6732964515686\n"
     ]
    }
   ],
   "source": [
    "# t0 = time.time()\n",
    "# stats_unsafe, res_unsafe = cspace_free_path.FindSeparationCertificateGivenPath(polys_unsafe,\n",
    "#                                                                  set(),\n",
    "#                                                                  cert_options)\n",
    "# t1 = time.time()\n",
    "# print(f\"Time to certify path {t1-t0}\")"
   ]
  },
  {
   "cell_type": "code",
   "execution_count": 49,
   "metadata": {},
   "outputs": [
    {
     "name": "stdout",
     "output_type": "stream",
     "text": [
      "True\n",
      "True\n",
      "True\n",
      "True\n",
      "True\n",
      "True\n",
      "True\n",
      "True\n",
      "True\n",
      "True\n",
      "True\n",
      "True\n",
      "True\n",
      "True\n",
      "True\n",
      "True\n",
      "True\n",
      "True\n",
      "True\n",
      "True\n",
      "True\n",
      "True\n",
      "True\n",
      "True\n",
      "True\n",
      "True\n",
      "True\n",
      "True\n",
      "True\n"
     ]
    }
   ],
   "source": [
    "# for s in stats:\n",
    "#     print(s.certified_safe())\n",
    "    "
   ]
  },
  {
   "cell_type": "code",
   "execution_count": 43,
   "metadata": {},
   "outputs": [
    {
     "name": "stdout",
     "output_type": "stream",
     "text": [
      "9212.635742750183\n"
     ]
    }
   ],
   "source": [
    "print(f\"Total unsafe solver time = {sum([s.total_time_to_solve_progs()/20 for s in stats])}\")"
   ]
  },
  {
   "cell_type": "code",
   "execution_count": 143,
   "metadata": {},
   "outputs": [
    {
     "name": "stdout",
     "output_type": "stream",
     "text": [
      "(7, 99)\n"
     ]
    }
   ],
   "source": [
    "num_lin_samples = 100\n",
    "t_samples = np.linspace(0, traj_safe.end_time(), num_lin_samples)\n",
    "traj_lin = PiecewisePolynomial.FirstOrderHold(t_samples,\n",
    "                              np.array([traj_safe.value(t) for t in t_samples]).squeeze().T)\n",
    "polys_lin = np.array([traj_lin.getPolynomialMatrix(i) for i in range(len(t_samples)-1)]).squeeze().T\n",
    "print(polys_lin.shape)"
   ]
  },
  {
   "cell_type": "code",
   "execution_count": null,
   "metadata": {},
   "outputs": [],
   "source": [
    "t0 = time.time()\n",
    "stats, res = cspace_free_path.FindSeparationCertificateGivenPath(polys_lin,\n",
    "                                                                 set(),\n",
    "                                                                 cert_options)\n",
    "t1 = time.time()\n",
    "print(f\"Time to certify path {t1-t0}\")"
   ]
  },
  {
   "cell_type": "code",
   "execution_count": 121,
   "metadata": {},
   "outputs": [
    {
     "name": "stdout",
     "output_type": "stream",
     "text": [
      "False\n"
     ]
    }
   ],
   "source": [
    "for s in stats:\n",
    "    print(s.certified_safe())\n",
    "    "
   ]
  }
 ],
 "metadata": {
  "kernelspec": {
   "display_name": "Python 3 (ipykernel)",
   "language": "python",
   "name": "python3"
  },
  "language_info": {
   "codemirror_mode": {
    "name": "ipython",
    "version": 3
   },
   "file_extension": ".py",
   "mimetype": "text/x-python",
   "name": "python",
   "nbconvert_exporter": "python",
   "pygments_lexer": "ipython3",
   "version": "3.10.12"
  }
 },
 "nbformat": 4,
 "nbformat_minor": 2
}
