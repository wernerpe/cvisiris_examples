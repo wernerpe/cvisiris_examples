{
 "cells": [
  {
   "cell_type": "code",
   "execution_count": 1,
   "metadata": {},
   "outputs": [],
   "source": [
    "import numpy as np\n",
    "from functools import partial\n",
    "import ipywidgets as widgets\n",
    "from IPython.display import display"
   ]
  },
  {
   "cell_type": "code",
   "execution_count": 2,
   "metadata": {},
   "outputs": [],
   "source": [
    "#pydrake imports\n",
    "from pydrake.all import RationalForwardKinematics\n",
    "from pydrake.geometry.optimization import IrisOptions, HPolyhedron, Hyperellipsoid\n",
    "from pydrake.solvers import MosekSolver, CommonSolverOption, SolverOptions\n",
    "from pydrake.all import PiecewisePolynomial, InverseKinematics, Sphere, Rgba, RigidTransform, RotationMatrix, IrisInConfigurationSpace\n",
    "import time\n",
    "import pydrake\n",
    "from pydrake.all import (SceneGraphCollisionChecker, \n",
    "                         StartMeshcat, \n",
    "                         RobotDiagramBuilder,\n",
    "                         ProcessModelDirectives,\n",
    "                         LoadModelDirectives,\n",
    "                         MeshcatVisualizer,\n",
    "                         DiagramBuilder,\n",
    "                         AddMultibodyPlantSceneGraph,\n",
    "                         Box,\n",
    "                         Parser,\n",
    "                         MultibodyPlant,\n",
    "                        SpatialInertia)\n",
    "from pydrake.all import (SceneGraphCollisionChecker, \n",
    "                         StartMeshcat, \n",
    "                         RobotDiagramBuilder,\n",
    "                         ProcessModelDirectives,\n",
    "                         LoadModelDirectives,\n",
    "                         MeshcatVisualizer,\n",
    "                        DiagramBuilder,\n",
    "                         MultibodyPlant,\n",
    "                         AddMultibodyPlantSceneGraph,\n",
    "                         PiecewisePolynomial,\n",
    "                        Parser)\n",
    "from pydrake.all import GeometrySet, CollisionFilterDeclaration\n",
    "from scipy.special import comb\n",
    "from pydrake.all import Role, MeshcatVisualizerParams\n",
    "\n",
    "import matplotlib.pyplot as plt\n",
    "import logging\n",
    "# from C_Iris_Examples.visualization_utils import visualize_body_at_s\n",
    "from C_Iris_Examples.sampling_based_motion_planners import StraightLineCollisionChecker, PRMFixedEdges, BiRRT\n",
    "import C_Iris_Examples.visualization_utils as vis_utils\n",
    "from pathlib import Path\n",
    "import pickle\n",
    "from pydrake.all import ModelInstanceIndex\n",
    "from pydrake.polynomial import Polynomial as PolynomialCommon\n",
    "\n",
    "drake_logger = logging.getLogger(\"drake\")\n",
    "drake_logger.setLevel(logging.DEBUG)\n"
   ]
  },
  {
   "cell_type": "code",
   "execution_count": 3,
   "metadata": {},
   "outputs": [
    {
     "name": "stderr",
     "output_type": "stream",
     "text": [
      "DEBUG:drake:FindResource ignoring DRAKE_RESOURCE_ROOT because it is not set.\n",
      "DEBUG:drake:FindRunfile mechanism = RUNFILES_{MANIFEST_FILE,DIR}\n",
      "DEBUG:drake:cwd = \"/home/peter/git/drake/cvisiris_examples\"\n",
      "DEBUG:drake:FindRunfile found by-manifest '/home/peter/git/drake/.drake-find_resource-sentinel' (good) and by-directory '/home/peter/.cache/bazel/_bazel_peter/76bc0000d64a792547034bb2ef203b82/execroot/drake/bazel-out/k8-opt/bin/cvisiris_examples/14dof_env_vis.runfiles/drake/.drake-find_resource-sentinel' (good)\n",
      "DEBUG:drake:FindRunfile found by-manifest '/home/peter/.cache/bazel/_bazel_peter/76bc0000d64a792547034bb2ef203b82/execroot/drake/bazel-out/k8-opt/bin/geometry/meshcat.js' (good) and by-directory '/home/peter/.cache/bazel/_bazel_peter/76bc0000d64a792547034bb2ef203b82/execroot/drake/bazel-out/k8-opt/bin/cvisiris_examples/14dof_env_vis.runfiles/drake/geometry/meshcat.js' (good)\n",
      "DEBUG:drake:FindResource ignoring DRAKE_RESOURCE_ROOT because it is not set.\n",
      "DEBUG:drake:FindRunfile found by-manifest '/home/peter/git/drake/.drake-find_resource-sentinel' (good) and by-directory '/home/peter/.cache/bazel/_bazel_peter/76bc0000d64a792547034bb2ef203b82/execroot/drake/bazel-out/k8-opt/bin/cvisiris_examples/14dof_env_vis.runfiles/drake/.drake-find_resource-sentinel' (good)\n",
      "DEBUG:drake:FindRunfile found by-manifest '/home/peter/.cache/bazel/_bazel_peter/76bc0000d64a792547034bb2ef203b82/execroot/drake/bazel-out/k8-opt/bin/geometry/stats.min.js' (good) and by-directory '/home/peter/.cache/bazel/_bazel_peter/76bc0000d64a792547034bb2ef203b82/execroot/drake/bazel-out/k8-opt/bin/cvisiris_examples/14dof_env_vis.runfiles/drake/geometry/stats.min.js' (good)\n",
      "DEBUG:drake:FindResource ignoring DRAKE_RESOURCE_ROOT because it is not set.\n",
      "DEBUG:drake:FindRunfile found by-manifest '/home/peter/git/drake/.drake-find_resource-sentinel' (good) and by-directory '/home/peter/.cache/bazel/_bazel_peter/76bc0000d64a792547034bb2ef203b82/execroot/drake/bazel-out/k8-opt/bin/cvisiris_examples/14dof_env_vis.runfiles/drake/.drake-find_resource-sentinel' (good)\n",
      "DEBUG:drake:FindRunfile found by-manifest '/home/peter/.cache/bazel/_bazel_peter/76bc0000d64a792547034bb2ef203b82/execroot/drake/bazel-out/k8-opt/bin/geometry/meshcat.ico' (good) and by-directory '/home/peter/.cache/bazel/_bazel_peter/76bc0000d64a792547034bb2ef203b82/execroot/drake/bazel-out/k8-opt/bin/cvisiris_examples/14dof_env_vis.runfiles/drake/geometry/meshcat.ico' (good)\n",
      "DEBUG:drake:FindResource ignoring DRAKE_RESOURCE_ROOT because it is not set.\n",
      "DEBUG:drake:FindRunfile found by-manifest '/home/peter/git/drake/.drake-find_resource-sentinel' (good) and by-directory '/home/peter/.cache/bazel/_bazel_peter/76bc0000d64a792547034bb2ef203b82/execroot/drake/bazel-out/k8-opt/bin/cvisiris_examples/14dof_env_vis.runfiles/drake/.drake-find_resource-sentinel' (good)\n",
      "DEBUG:drake:FindRunfile found by-manifest '/home/peter/git/drake/geometry/meshcat.html' (good) and by-directory '/home/peter/.cache/bazel/_bazel_peter/76bc0000d64a792547034bb2ef203b82/execroot/drake/bazel-out/k8-opt/bin/cvisiris_examples/14dof_env_vis.runfiles/drake/geometry/meshcat.html' (good)\n",
      "INFO:drake:Meshcat listening for connections at http://localhost:7001\n"
     ]
    }
   ],
   "source": [
    "meshcat = StartMeshcat()"
   ]
  },
  {
   "cell_type": "code",
   "execution_count": 4,
   "metadata": {},
   "outputs": [],
   "source": []
  },
  {
   "cell_type": "code",
   "execution_count": 5,
   "metadata": {},
   "outputs": [
    {
     "name": "stderr",
     "output_type": "stream",
     "text": [
      "DEBUG:drake:FindResource ignoring DRAKE_RESOURCE_ROOT because it is not set.\n",
      "DEBUG:drake:FindRunfile found by-manifest '/home/peter/git/drake/.drake-find_resource-sentinel' (good) and by-directory '/home/peter/.cache/bazel/_bazel_peter/76bc0000d64a792547034bb2ef203b82/execroot/drake/bazel-out/k8-opt/bin/cvisiris_examples/14dof_env_vis.runfiles/drake/.drake-find_resource-sentinel' (good)\n",
      "DEBUG:drake:FindRunfile found by-manifest '/home/peter/git/drake/package.xml' (good) and by-directory '/home/peter/.cache/bazel/_bazel_peter/76bc0000d64a792547034bb2ef203b82/execroot/drake/bazel-out/k8-opt/bin/cvisiris_examples/14dof_env_vis.runfiles/drake/package.xml' (good)\n",
      "DEBUG:drake:FindResource ignoring DRAKE_RESOURCE_ROOT because it is not set.\n",
      "DEBUG:drake:FindRunfile found by-manifest '/home/peter/git/drake/.drake-find_resource-sentinel' (good) and by-directory '/home/peter/.cache/bazel/_bazel_peter/76bc0000d64a792547034bb2ef203b82/execroot/drake/bazel-out/k8-opt/bin/cvisiris_examples/14dof_env_vis.runfiles/drake/.drake-find_resource-sentinel' (good)\n",
      "DEBUG:drake:FindRunfile found by-manifest '/home/peter/.cache/bazel/_bazel_peter/76bc0000d64a792547034bb2ef203b82/execroot/drake/bazel-out/k8-opt/bin/multibody/parsing/drake_models.json' (good) and by-directory '/home/peter/.cache/bazel/_bazel_peter/76bc0000d64a792547034bb2ef203b82/execroot/drake/bazel-out/k8-opt/bin/cvisiris_examples/14dof_env_vis.runfiles/drake/multibody/parsing/drake_models.json' (good)\n",
      "DEBUG:drake:FindRunfile found by-manifest '/home/peter/.cache/bazel/_bazel_peter/76bc0000d64a792547034bb2ef203b82/external/drake_models/package.xml' (good) and by-directory '/home/peter/.cache/bazel/_bazel_peter/76bc0000d64a792547034bb2ef203b82/execroot/drake/bazel-out/k8-opt/bin/cvisiris_examples/14dof_env_vis.runfiles/drake_models/package.xml' (good)\n",
      "DEBUG:drake:LoadModelDirectives: 14_dof_directives_newshelf.yaml\n",
      "DEBUG:drake:ParseModelDirectivesImpl(MultibodyPlant)\n",
      "DEBUG:drake:  add_model: iiwa1\n",
      "    package://drake/cvisiris_examples/assets/models/iiwa_description/iiwa6/iiwa6_with_box_collision.sdf\n",
      "DEBUG:drake:SDFormat Dbg [parser.cc:1096] Converting a deprecated source[/home/peter/.cache/bazel/_bazel_peter/76bc0000d64a792547034bb2ef203b82/execroot/drake/bazel-out/k8-opt/bin/cvisiris_examples/14dof_env_vis.runfiles/drake/cvisiris_examples/assets/models/iiwa_description/iiwa6/iiwa6_with_box_collision.sdf].\n",
      "DEBUG:drake:SDFormat Dbg [Converter.cc:117] Version[1.7] to Version[1.10]\n",
      "  Please use the gz sdf tool to update your SDF files.\n",
      "    $ gz sdf -c [sdf_file]\n",
      "DEBUG:drake:  add_frame: iiwa1_origin\n",
      "DEBUG:drake:    resolved_name: WorldModelInstance::iiwa1_origin\n",
      "DEBUG:drake:  add_model: iiwa2\n",
      "    package://drake/cvisiris_examples/assets/models/iiwa_description/iiwa6/iiwa6_with_box_collision.sdf\n",
      "DEBUG:drake:SDFormat Dbg [parser.cc:1096] Converting a deprecated source[/home/peter/.cache/bazel/_bazel_peter/76bc0000d64a792547034bb2ef203b82/execroot/drake/bazel-out/k8-opt/bin/cvisiris_examples/14dof_env_vis.runfiles/drake/cvisiris_examples/assets/models/iiwa_description/iiwa6/iiwa6_with_box_collision.sdf].\n",
      "DEBUG:drake:SDFormat Dbg [Converter.cc:117] Version[1.7] to Version[1.10]\n",
      "  Please use the gz sdf tool to update your SDF files.\n",
      "    $ gz sdf -c [sdf_file]\n",
      "DEBUG:drake:  add_frame: iiwa2_origin\n",
      "DEBUG:drake:    resolved_name: WorldModelInstance::iiwa2_origin\n",
      "DEBUG:drake:  add_model: wsg1\n",
      "    package://drake/cvisiris_examples/assets/models/wsg_50_description/sdf/schunk_wsg_50_welded_fingers_box_geom.sdf\n",
      "DEBUG:drake:SDFormat Dbg [parser.cc:1096] Converting a deprecated source[/home/peter/.cache/bazel/_bazel_peter/76bc0000d64a792547034bb2ef203b82/execroot/drake/bazel-out/k8-opt/bin/cvisiris_examples/14dof_env_vis.runfiles/drake/cvisiris_examples/assets/models/wsg_50_description/sdf/schunk_wsg_50_welded_fingers_box_geom.sdf].\n",
      "DEBUG:drake:SDFormat Dbg [Converter.cc:117] Version[1.7] to Version[1.10]\n",
      "  Please use the gz sdf tool to update your SDF files.\n",
      "    $ gz sdf -c [sdf_file]\n",
      "DEBUG:drake:  add_frame: iiwa1::wsg_attach\n",
      "DEBUG:drake:    resolved_name: iiwa1::wsg_attach\n",
      "DEBUG:drake:  add_model: wsg2\n",
      "    package://drake/cvisiris_examples/assets/models/wsg_50_description/sdf/schunk_wsg_50_welded_fingers_box_geom.sdf\n",
      "DEBUG:drake:SDFormat Dbg [parser.cc:1096] Converting a deprecated source[/home/peter/.cache/bazel/_bazel_peter/76bc0000d64a792547034bb2ef203b82/execroot/drake/bazel-out/k8-opt/bin/cvisiris_examples/14dof_env_vis.runfiles/drake/cvisiris_examples/assets/models/wsg_50_description/sdf/schunk_wsg_50_welded_fingers_box_geom.sdf].\n",
      "DEBUG:drake:SDFormat Dbg [Converter.cc:117] Version[1.7] to Version[1.10]\n",
      "  Please use the gz sdf tool to update your SDF files.\n",
      "    $ gz sdf -c [sdf_file]\n",
      "DEBUG:drake:  add_frame: iiwa2::wsg_attach\n",
      "DEBUG:drake:    resolved_name: iiwa2::wsg_attach\n",
      "DEBUG:drake:  add_model: shelves1\n",
      "    package://drake/cvisiris_examples/assets/shelves_big.sdf\n",
      "DEBUG:drake:SDFormat Dbg [parser.cc:1096] Converting a deprecated source[/home/peter/.cache/bazel/_bazel_peter/76bc0000d64a792547034bb2ef203b82/execroot/drake/bazel-out/k8-opt/bin/cvisiris_examples/14dof_env_vis.runfiles/drake/cvisiris_examples/assets/shelves_big.sdf].\n",
      "DEBUG:drake:SDFormat Dbg [Converter.cc:117] Version[1.7] to Version[1.10]\n",
      "  Please use the gz sdf tool to update your SDF files.\n",
      "    $ gz sdf -c [sdf_file]\n",
      "DEBUG:drake:  add_frame: shelf1_origin\n",
      "DEBUG:drake:    resolved_name: WorldModelInstance::shelf1_origin\n",
      "DEBUG:drake:  add_model: ground\n",
      "    package://drake/cvisiris_examples/assets/ground_big.urdf\n",
      "DEBUG:drake:  add_frame: ground_origin\n",
      "DEBUG:drake:    resolved_name: WorldModelInstance::ground_origin\n"
     ]
    }
   ],
   "source": [
    "builder = DiagramBuilder()\n",
    "plant, scene_graph = AddMultibodyPlantSceneGraph(builder, 0.001)\n",
    "inspector = scene_graph.model_inspector()\n",
    "parser = Parser(plant)\n",
    "#parser.package_map().Add(\"cvisirisexamples\", missing directory)\n",
    "meshcat_params = MeshcatVisualizerParams()\n",
    "#         meshcat_params.role = Role.kProximity\n",
    "visualizer = MeshcatVisualizer.AddToBuilder(builder, scene_graph, meshcat,meshcat_params)\n",
    "directives_file = \"14_dof_directives_newshelf.yaml\"#FindResourceOrThrow() \n",
    "directives = LoadModelDirectives(directives_file)\n",
    "models = ProcessModelDirectives(directives, plant, parser)\n",
    "\n",
    "#     collision_filter_manager = scene_graph.collision_filter_manager()\n",
    "#     inspector = scene_graph.model_inspector()\n",
    "#     schunk_body = plant.GetBodyByName(\"body\")\n",
    "#     iiwa_link_7 = plant.GetBodyByName(\"iiwa_link_7\")\n",
    "#     iiwa_link_6 = plant.GetBodyByName(\"iiwa_link_6\")\n",
    "#     iiwa_links = [plant.GetBodyByName(f\"iiwa_link_{i}\") for i in range(8)]\n",
    "#     bodies = []\n",
    "#     for b in iiwa_links+[schunk_body]:#[schunk_body, iiwa_link_7, iiwa_link_6]:\n",
    "#         bodies += plant.GetCollisionGeometriesForBody(b)\n",
    "#     geom_set = GeometrySet(bodies)\n",
    "#     decl = CollisionFilterDeclaration().ExcludeWithin(geom_set)\n",
    "#     collision_filter_manager.Apply(decl)\n",
    "\n",
    "#     shelves = [plant.GetBodyByName(f\"shelf{i}\",\n",
    "#                                   plant.GetModelInstanceByName(f\"shelves{i}\")) for i in range(1,3)]\n",
    "#     bodies = []\n",
    "#     for b in iiwa_links[:5]+shelves:\n",
    "#         bodies += plant.GetCollisionGeometriesForBody(b)\n",
    "#     geom_set = GeometrySet(bodies)\n",
    "#     decl = CollisionFilterDeclaration().ExcludeWithin(geom_set)\n",
    "#     collision_filter_manager.Apply(decl)\n",
    "\n",
    "# plant.Finalize()\n",
    "\n",
    "gripper_col_geoms_by_gripper = []\n",
    "gripper_visual_geoms_by_gripper = []\n",
    "shelf_col_geom_ids = []\n",
    "shelf_vis_geom_ids = []\n",
    "for model_info in models:\n",
    "    if \"wsg\" in model_info.model_name:\n",
    "        col_geoms = []\n",
    "        vis_geoms = []\n",
    "\n",
    "        gripper_body = plant.GetBodyByName(\"body\", model_info.model_instance)\n",
    "        left_finger_body = plant.GetBodyByName(\"left_finger\", model_info.model_instance)\n",
    "        right_finger_body = plant.GetBodyByName(\"right_finger\", model_info.model_instance)\n",
    "        gripper_all_bodies = [gripper_body, left_finger_body, right_finger_body]\n",
    "        gripper_all_body_frame_ids = [plant.GetBodyFrameIdIfExists(b.index()) for b in gripper_all_bodies]\n",
    "        for frame_id in gripper_all_body_frame_ids:\n",
    "            for geometry_id in inspector.GetGeometries(frame_id,\n",
    "                                                   Role.kIllustration):\n",
    "                vis_props = inspector.GetProperties(geometry_id, Role.kIllustration)\n",
    "                # has visualization properties\n",
    "                if vis_props is not None and vis_props.HasProperty(\"phong\", \"diffuse\"):\n",
    "                    vis_geoms.append(geometry_id)\n",
    "            for geometry_id in inspector.GetGeometries(frame_id,\n",
    "                                                   Role.kProximity):\n",
    "                col_props = inspector.GetProperties(geometry_id, Role.kProximity)\n",
    "                # has visualization properties\n",
    "                if col_props is not None:\n",
    "                    col_geoms.append(geometry_id)       \n",
    "\n",
    "        gripper_col_geoms_by_gripper.append(col_geoms)\n",
    "        gripper_visual_geoms_by_gripper.append(vis_geoms)\n",
    "    elif \"shelves1\" in model_info.model_name:\n",
    "        shelf_body_indices = plant.GetBodyIndices(model_info.model_instance)\n",
    "        for body_index in shelf_body_indices:\n",
    "            frame_id = plant.GetBodyFrameIdIfExists(body_index)\n",
    "            for geometry_id in inspector.GetGeometries(frame_id,\n",
    "                                       Role.kIllustration):\n",
    "                vis_props = inspector.GetProperties(geometry_id, Role.kIllustration)\n",
    "                # has visualization properties\n",
    "                if vis_props is not None and vis_props.HasProperty(\"phong\", \"diffuse\"):\n",
    "                    shelf_vis_geom_ids.append(geometry_id)\n",
    "\n",
    "            for geometry_id in inspector.GetGeometries(frame_id,\n",
    "                                                   Role.kProximity):\n",
    "                col_props = inspector.GetProperties(geometry_id, Role.kProximity)\n",
    "                # has visualization properties\n",
    "                if col_props is not None:\n",
    "                    shelf_col_geom_ids.append(geometry_id) \n",
    "\n",
    "gripper_col_geoms_ids = [item for l in gripper_col_geoms_by_gripper for item in l]\n",
    "\n",
    "important_collision_pairs = [(p1, p2) for p2 in shelf_col_geom_ids \n",
    "                             for p1 in gripper_col_geoms_ids]\n",
    "important_collision_pairs += [(p1,p2) for p1, p2 in zip(gripper_col_geoms_ids[:-1], gripper_col_geoms_ids[1:])]\n",
    "\n",
    "#important_collision_pairs.append((p1,p2) for p1, p2 in zip(gripper_col_geoms_ids[:-1], gripper_col_geoms_ids[1:]))\n",
    "\n",
    "hyperplane_plants = {} # map a geometry pair to the appropriate hyerplane plant\n",
    "plane_dimensions = (4,4,0.001)\n",
    "plane_color = (0,1,0,0.25)\n",
    "dummy_inertia = SpatialInertia.SolidBoxWithDensity(0.01, *plane_dimensions)\n",
    "dummy_box = Box(*plane_dimensions)\n",
    "\n",
    "for p1, p2 in important_collision_pairs:\n",
    "    hyperplane_plant = builder.AddSystem(MultibodyPlant(0.01))\n",
    "    hyperplane_plant.RegisterAsSourceForSceneGraph(scene_graph)\n",
    "    builder.Connect(hyperplane_plant.get_geometry_poses_output_port(), scene_graph.get_source_pose_port(\n",
    "              hyperplane_plant.get_source_id()))\n",
    "    builder.Connect(\n",
    "          scene_graph.get_query_output_port(),\n",
    "          hyperplane_plant.get_geometry_query_input_port())\n",
    "    hyperplane_model_instance = hyperplane_plant.AddModelInstance(\"hyperplane\")\n",
    "    body_name = f\"hyperplane_{p1, p2}\"\n",
    "    body = hyperplane_plant.AddRigidBody(body_name, hyperplane_model_instance, dummy_inertia)    \n",
    "    hyperplane_plant.RegisterVisualGeometry(body, RigidTransform(), dummy_box, body_name, plane_color)\n",
    "    hyperplane_plant.Finalize()\n",
    "    hyperplane_plants[p1, p2] = hyperplane_plant\n",
    "    meshcat.SetProperty(f\"visualizer/hyperplane/{body_name}\", \"visible\", False)\n",
    "\n",
    "plant.Finalize()\n",
    "\n",
    "\n",
    "diagram = builder.Build()\n",
    "diagram_context = diagram.CreateDefaultContext()\n",
    "plant_context = plant.GetMyContextFromRoot(diagram_context)\n",
    "diagram.ForcedPublish(diagram_context)\n",
    "scene_graph_context = scene_graph.GetMyMutableContextFromRoot(\n",
    "    diagram_context)\n",
    "import pydrake.multibody.rational as rational_forward_kinematics\n",
    "from pydrake.all import RationalForwardKinematics\n",
    "Ratfk = RationalForwardKinematics(plant)"
   ]
  },
  {
   "cell_type": "code",
   "execution_count": 6,
   "metadata": {},
   "outputs": [],
   "source": [
    "hyperplane_plant_contexts = {k: diagram.GetMutableSubsystemContext(v, diagram_context) for k,v in hyperplane_plants.items()}"
   ]
  },
  {
   "cell_type": "code",
   "execution_count": 8,
   "metadata": {},
   "outputs": [
    {
     "name": "stdout",
     "output_type": "stream",
     "text": [
      "(12,)\n"
     ]
    }
   ],
   "source": [
    "from pydrake.geometry.optimization_dev import CspaceFreePath\n",
    "q_star = np.zeros(plant.num_positions())\n",
    "print(q_star.shape)\n"
   ]
  },
  {
   "cell_type": "code",
   "execution_count": 9,
   "metadata": {},
   "outputs": [],
   "source": [
    "important_collision_pairs += [(p1,p2) for p1, p2 in zip(gripper_col_geoms_ids[:-1], gripper_col_geoms_ids[1:])]\n"
   ]
  },
  {
   "cell_type": "code",
   "execution_count": 11,
   "metadata": {
    "scrolled": true
   },
   "outputs": [
    {
     "data": {
      "application/vnd.jupyter.widget-view+json": {
       "model_id": "a98b232e3d074155b53fef791ffad166"
      }
     },
     "metadata": {},
     "output_type": "display_data"
    },
    {
     "data": {
      "application/vnd.jupyter.widget-view+json": {
       "model_id": "a98b232e3d074155b53fef791ffad166"
      }
     },
     "metadata": {},
     "output_type": "display_data"
    },
    {
     "data": {
      "application/vnd.jupyter.widget-view+json": {
       "model_id": "f474ccb91975499b9baf8a14040f58dd"
      }
     },
     "metadata": {},
     "output_type": "display_data"
    },
    {
     "data": {
      "application/vnd.jupyter.widget-view+json": {
       "model_id": "a9c19760b94a4834b33a73d47e96d5d0"
      }
     },
     "metadata": {},
     "output_type": "display_data"
    },
    {
     "data": {
      "application/vnd.jupyter.widget-view+json": {
       "model_id": "8dee5f46e5fd4dfba1d36f48be1931f1"
      }
     },
     "metadata": {},
     "output_type": "display_data"
    },
    {
     "data": {
      "application/vnd.jupyter.widget-view+json": {
       "model_id": "65fbf4808dc64740b72def749b29d0a6"
      }
     },
     "metadata": {},
     "output_type": "display_data"
    },
    {
     "data": {
      "application/vnd.jupyter.widget-view+json": {
       "model_id": "bed9e60227f246a1928f4a60d6dd08ec"
      }
     },
     "metadata": {},
     "output_type": "display_data"
    },
    {
     "data": {
      "application/vnd.jupyter.widget-view+json": {
       "model_id": "9657eb261c2d4459ba5353a0c330f0f5"
      }
     },
     "metadata": {},
     "output_type": "display_data"
    },
    {
     "data": {
      "application/vnd.jupyter.widget-view+json": {
       "model_id": "8482f1e94c9640a68cfef81cfc8b4786"
      }
     },
     "metadata": {},
     "output_type": "display_data"
    },
    {
     "data": {
      "application/vnd.jupyter.widget-view+json": {
       "model_id": "05252b0d15b448e3834cc3ef4b2442c1"
      }
     },
     "metadata": {},
     "output_type": "display_data"
    },
    {
     "data": {
      "application/vnd.jupyter.widget-view+json": {
       "model_id": "234d1e37179c429aace7c0b2e930457b"
      }
     },
     "metadata": {},
     "output_type": "display_data"
    },
    {
     "data": {
      "application/vnd.jupyter.widget-view+json": {
       "model_id": "e962702569994d8184ab048699deb532"
      }
     },
     "metadata": {},
     "output_type": "display_data"
    },
    {
     "data": {
      "application/vnd.jupyter.widget-view+json": {
       "model_id": "90e88402bba1437cb23f2f2079dd2eb7"
      }
     },
     "metadata": {},
     "output_type": "display_data"
    }
   ],
   "source": [
    "sliders = []\n",
    "\n",
    "rrt_end_q = np.array([\n",
    "    -0.96706,  0.3056 , -0.26706, -1.3944 , -1.66706, -0.6944 ,\n",
    "       -1.76706, -1.0944 ,  1.33294,  0.9056 ,  0.73294, -1.29\n",
    "])\n",
    "q = rrt_end_q.copy()\n",
    "\n",
    "for i in range(plant.num_positions()):\n",
    "    q_low = plant.GetPositionLowerLimits()[i]\n",
    "    q_high = plant.GetPositionUpperLimits()[i]\n",
    "    sliders.append(widgets.FloatSlider(min=q_low, max=q_high, value=q[i], description=f\"q{i}\"))\n",
    "#np.zeros(plant.num_positions())\n",
    "ik = InverseKinematics(plant, plant_context)\n",
    "collision_constraint = ik.AddMinimumDistanceConstraint(0.001, 0.001)\n",
    "def eval_cons(q, c, tol):\n",
    "    return 1-1*float(c.evaluator().CheckSatisfied(q, tol))\n",
    "diagram_col_context = diagram.CreateDefaultContext()\n",
    "plant_col_context = diagram.GetMutableSubsystemContext(plant, diagram_col_context)\n",
    "scene_graph_col_context = diagram.GetMutableSubsystemContext(\n",
    "        scene_graph, diagram_col_context\n",
    "    )\n",
    "query_port = scene_graph.get_query_output_port()\n",
    "\n",
    "\n",
    "def check_collision_q_by_query(q):\n",
    "#     if np.all(q >= plant.GetPositionLowerLimits()) and np.all(\n",
    "#         q <= plant.GetPositionUpperLimits()\n",
    "#     ):\n",
    "#         plant.SetPositions(plant_context, q)\n",
    "#         query_object = query_port.Eval(scene_graph_context)\n",
    "# #         if query_object.HasCollisions():\n",
    "# #         print(query_object.ComputePointPairPenetration())\n",
    "#         return 1 if query_object.HasCollisions() else 0\n",
    "#     else:\n",
    "#         print(\"exiting position limits\")\n",
    "#         print(np.logical_and(q >= plant.GetPositionLowerLimits(), \n",
    "#         q <= plant.GetPositionUpperLimits()))\n",
    "#         print(plant.GetPositionLowerLimits())\n",
    "#         print(q)\n",
    "\n",
    "#         print(plant.GetPositionUpperLimits())\n",
    "#         print()\n",
    "#         return 1\n",
    "    plant.SetPositions(plant_context, q)\n",
    "    query_object = query_port.Eval(scene_graph_context)\n",
    "#         if query_object.HasCollisions():\n",
    "#         print(query_object.ComputePointPairPenetration())\n",
    "    return 1 if query_object.HasCollisions() else 0\n",
    "    \n",
    "\n",
    "def check_collision_s_by_query(s):\n",
    "    s = np.array(s)\n",
    "    q = Ratfk.ComputeQValue(s, q_star)\n",
    "    return check_collision_q_by_query(q)\n",
    "\n",
    "\n",
    "    \n",
    "col_func_handle = check_collision_q_by_query#partial(eval_cons, c=collision_constraint, tol=0.01)\n",
    "# col_func_handle = partial(eval_cons, c=collision_constraint, tol=0.01)\n",
    "\n",
    "col_shunk_col =  Rgba(0.8, 0.0, 0, 0.5)    \n",
    "col_shunk_free =  Rgba(0.0, 0.8, 0.5, 0.5)   \n",
    "\n",
    "def handle_slider_change(change, idx):\n",
    "    q[idx] = change['new']\n",
    "    showres(q)\n",
    "\n",
    "def showres_s(s_vis):\n",
    "    showres(Ratfk.ComputeQValue(s_vis, np.zeros(7)))\n",
    "\n",
    "def showres(qvis):\n",
    "    plant.SetPositions(plant_context, qvis)\n",
    "    col = col_func_handle(qvis)\n",
    "    shunk = plant.get_body(pydrake.multibody.tree.BodyIndex(9))\n",
    "    tf_tot = shunk.EvalPoseInWorld(plant_context)\n",
    "    tf = tf_tot.translation()\n",
    "    \n",
    "   # tf_tot= plant.EvalBodyPoseInWorld(plant_context, plant.get_body(pydrake.multibody.tree.BodyIndex(7)))\n",
    "    #tf = tf_tot.translation() - tf_tot.GetAsMatrix4()[:3,:3][:,1] *0.15\n",
    "    if col:\n",
    "        meshcat.SetObject(f\"/drake/visualizer/shunk\",\n",
    "                                   Sphere(0.05),\n",
    "                                   col_shunk_col)\n",
    "    else:\n",
    "        meshcat.SetObject(f\"/drake/visualizer/shunk\",\n",
    "                                   Sphere(0.05),\n",
    "                                   col_shunk_free)\n",
    "    meshcat.SetTransform(f\"/drake/visualizer/shunk\",\n",
    "                                   RigidTransform(RotationMatrix(),\n",
    "                                                  tf))\n",
    "    \n",
    "    diagram.ForcedPublish(diagram_context)\n",
    "\n",
    "scaler = 1 #np.array([0.8, 1., 0.8, 1, 0.8, 1, 0.8]) #do you even geometry bro?\n",
    "q_min = np.array(q_low)*scaler\n",
    "q_max = np.array(q_high)*scaler\n",
    "q_diff = q_max-q_min\n",
    "\n",
    "# def sample_cfree_QPoint(MAXIT=1000):\n",
    "# \tit = 0\n",
    "# \twhile it<MAXIT:\n",
    "# \t\trand = np.random.rand(5)\n",
    "# \t\tq_s = q_min + rand*q_diff\n",
    "# \t\tcol = False\n",
    "# \t\tfor _ in range(10):\n",
    "# \t\t\tr  = 0.05*(np.random.rand(5)-0.5)\n",
    "# \t\t\tcol |= (col_func_handle(q_s+r) > 0)\n",
    "# \t\tif not col:\n",
    "# \t\t\treturn q_s #Ratfk.ComputeQValue(q_s, q_star)\n",
    "# \t\tit+=1\n",
    "# \traise ValueError(\"no col free point found\")\n",
    "\n",
    "idx = 0\n",
    "for slider in sliders:\n",
    "    slider.observe(partial(handle_slider_change, idx = idx), names='value')\n",
    "    idx+=1\n",
    "\n",
    "display(sliders[0])\n",
    "for slider in sliders:\n",
    "    display(slider)"
   ]
  },
  {
   "cell_type": "code",
   "execution_count": 12,
   "metadata": {},
   "outputs": [
    {
     "name": "stdout",
     "output_type": "stream",
     "text": [
      "array([-0.96706,  0.3056 , -0.26706, -1.3944 , -1.66706, -0.6944 ,\n",
      "       -1.76706, -1.0944 ,  1.33294,  0.9056 ,  0.73294, -1.29   ])\n",
      "0\n"
     ]
    }
   ],
   "source": [
    "print(repr(q))\n",
    "print(check_collision_q_by_query(q))"
   ]
  },
  {
   "cell_type": "code",
   "execution_count": 13,
   "metadata": {},
   "outputs": [],
   "source": [
    "rrt_end_s = Ratfk.ComputeSValue(rrt_end_q, q_star)\n",
    "rrt_start_s = Ratfk.ComputeSValue(np.zeros_like(q_star), q_star)\n"
   ]
  },
  {
   "cell_type": "code",
   "execution_count": 14,
   "metadata": {},
   "outputs": [
    {
     "name": "stderr",
     "output_type": "stream",
     "text": [
      "100%|██████████████████████████████████| 100/100 [00:02<00:00, 34.14it/s]\n"
     ]
    },
    {
     "data": {
      "text/plain": [
       "True"
      ]
     },
     "execution_count": 14,
     "metadata": {},
     "output_type": "execute_result"
    }
   ],
   "source": [
    "np.random.seed(0)\n",
    "collision_checker = StraightLineCollisionChecker(check_collision_s_by_query, 200)\n",
    "good_rrt = BiRRT(tuple(rrt_end_s), tuple(rrt_start_s),\n",
    "           Ratfk.ComputeSValue(plant.GetPositionLowerLimits(),q_star),\n",
    "           Ratfk.ComputeSValue(plant.GetPositionUpperLimits(),q_star),\n",
    "           collision_checker, max_dist = 0.5)\n",
    "good_rrt.build_tree(int(100), exit_on_path = False)"
   ]
  },
  {
   "cell_type": "code",
   "execution_count": 15,
   "metadata": {},
   "outputs": [
    {
     "name": "stderr",
     "output_type": "stream",
     "text": [
      "100%|█████████████████████████████████| 100/100 [00:00<00:00, 369.59it/s]\n"
     ]
    },
    {
     "data": {
      "text/plain": [
       "True"
      ]
     },
     "execution_count": 15,
     "metadata": {},
     "output_type": "execute_result"
    }
   ],
   "source": [
    "np.random.seed(1)\n",
    "collision_checker = StraightLineCollisionChecker(check_collision_s_by_query, 10)\n",
    "bad_rrt = BiRRT(tuple(rrt_end_s), tuple(rrt_start_s),\n",
    "           Ratfk.ComputeSValue(plant.GetPositionLowerLimits(),q_star),\n",
    "           Ratfk.ComputeSValue(plant.GetPositionUpperLimits(),q_star),\n",
    "           collision_checker, max_dist = 1)\n",
    "bad_rrt.build_tree(int(1e2), exit_on_path = False)"
   ]
  },
  {
   "cell_type": "code",
   "execution_count": 16,
   "metadata": {},
   "outputs": [],
   "source": [
    "diagram_vis_context = diagram.CreateDefaultContext()\n",
    "plant_vis_context = diagram.GetMutableSubsystemContext(\n",
    "    plant, diagram_vis_context\n",
    ")\n",
    "vis_bundle = vis_utils.VisualizationBundle(\n",
    "        diagram,\n",
    "        diagram_context,\n",
    "        plant,\n",
    "        plant_vis_context,\n",
    "        Ratfk,\n",
    "        meshcat,\n",
    "        q_star,\n",
    "    )\n",
    "for i, body in enumerate([plant.GetBodyByName(f\"iiwa_link_{7}\", ModelInstanceIndex(3)), \n",
    "             plant.GetBodyByName(f\"iiwa_link_{7}\", ModelInstanceIndex(2))]):\n",
    "#     good_rrt.draw_tree(vis_bundle,\n",
    "#                  body,\n",
    "#                  prefix=f\"bi_rrt_{body.name()}{i}/\")\n",
    "    good_rrt.draw_start_target_path(vis_bundle,\n",
    "                 body,\n",
    "                 prefix=f\"bi_rrt_{body.name()}{i}/\")"
   ]
  },
  {
   "cell_type": "code",
   "execution_count": 52,
   "metadata": {},
   "outputs": [],
   "source": [
    "import networkx as nx\n",
    "def make_line_polys(tree, max_num_edges=-1):\n",
    "    polys = np.empty(\n",
    "        shape=(\n",
    "            plant.num_positions(),\n",
    "            len(tree.edges()) if max_num_edges < 0 else max_num_edges,\n",
    "        ),\n",
    "        dtype=object,\n",
    "    )\n",
    "    for i, (s0, s1) in enumerate(tree.edges()):\n",
    "        for j in range(plant.num_positions()):\n",
    "            if max_num_edges > 0 and not i < max_num_edges:\n",
    "                break\n",
    "            polys[j, i] = PolynomialCommon(np.array([s0[j], s1[j] - s0[j]]))\n",
    "\n",
    "    return polys\n",
    "\n",
    "def make_line_polys_shortest_path(rrt):\n",
    "    path = nx.dijkstra_path(rrt.connected_tree, rrt.start_pos, rrt.end_pos)\n",
    "    pairs = list(zip(path[:-1],path[1:]))\n",
    "    polys = np.empty(\n",
    "        shape=(\n",
    "            plant.num_positions(),\n",
    "            len(pairs),\n",
    "        ),\n",
    "        dtype=object,\n",
    "    )\n",
    "    for i, (s0, s1) in enumerate(pairs):\n",
    "        for j in range(plant.num_positions()):\n",
    "            polys[j, i] = PolynomialCommon(np.array([s0[j], s1[j] - s0[j]]))\n",
    "\n",
    "    return polys\n",
    "        \n",
    "    \n",
    "path_safe = make_line_polys_shortest_path(good_rrt)\n",
    "for idx in range(1):#path_safe.shape[1]):\n",
    "    cur_traj = PiecewisePolynomial([path_safe[:,idx]], [0,1])\n",
    "    cur_traj.ReverseTime()\n",
    "    cur_traj.shiftRight(1)\n",
    "    for t in np.linspace(0,1,20000):\n",
    "        s = cur_traj.value(t)\n",
    "        q = Ratfk.ComputeQValue(s, q_star)\n",
    "        plant.SetPositions(plant_context, q)\n",
    "        diagram.ForcedPublish(diagram_context)\n",
    "        #time.sleep(0.05)\n",
    "        if check_collision_q_by_query(q):\n",
    "            print(\"collision detected\")\n",
    "            time.sleep(0.01)\n",
    "            break"
   ]
  },
  {
   "cell_type": "code",
   "execution_count": 40,
   "metadata": {},
   "outputs": [],
   "source": []
  },
  {
   "cell_type": "code",
   "execution_count": 20,
   "metadata": {},
   "outputs": [
    {
     "name": "stderr",
     "output_type": "stream",
     "text": [
      "DEBUG:drake:Generating collision pairs\n",
      "DEBUG:drake:Collision pairs generated in 0.00119904 seconds\n",
      "DEBUG:drake:Generating separating planes\n",
      "DEBUG:drake:Separating planes generated in 0.004256168 seconds\n",
      "DEBUG:drake:Generating TC-space rationals\n",
      "DEBUG:drake:TC-space rationals generated in 46.420404572 seconds\n",
      "DEBUG:drake:Pre-allocating PSD\n",
      "DEBUG:drake:PSD allocated in 0.147485531 seconds\n",
      "DEBUG:drake:Expanding rationals and pre-allocating programs\n",
      "DEBUG:drake:Path rationals and programs allocated in 657.762665355 seconds\n"
     ]
    },
    {
     "name": "stdout",
     "output_type": "stream",
     "text": [
      "Time to build collision checker 705.3631045818329\n"
     ]
    }
   ],
   "source": [
    "plane_order = 1\n",
    "max_degree = 1\n",
    "t0 = time.time()\n",
    "cspace_free_path = CspaceFreePath(\n",
    "    plant,\n",
    "    scene_graph,\n",
    "    q_star,\n",
    "    maximum_path_degree=max_degree,\n",
    "    plane_order=plane_order,\n",
    ")\n",
    "t1 = time.time()\n",
    "print(f\"Time to build collision checker {t1-t0}\")"
   ]
  },
  {
   "cell_type": "code",
   "execution_count": 68,
   "metadata": {},
   "outputs": [],
   "source": []
  },
  {
   "cell_type": "code",
   "execution_count": 42,
   "metadata": {},
   "outputs": [],
   "source": [
    "path_to_data_save_folder = Path(\n",
    "    \"/home/amice/Documents/coding_projects/drake/C_Iris_Examples/final_experiment_data_redo\"\n",
    ")\n",
    "############## CERTIFICATION ##################\n",
    "cert_options = CspaceFreePath.FindSeparationCertificateGivenPathOptions()\n",
    "cert_options.terminate_segment_certification_at_failure = False\n",
    "\n",
    "cert_options.num_threads = -1\n",
    "cert_options.verbose = False\n",
    "cert_options.solver_id = MosekSolver.id()\n",
    "cert_options.solver_options = SolverOptions()\n",
    "cert_options.terminate_path_certification_at_failure = False"
   ]
  },
  {
   "cell_type": "code",
   "execution_count": 43,
   "metadata": {},
   "outputs": [
    {
     "data": {
      "text/plain": [
       "120"
      ]
     },
     "execution_count": 43,
     "metadata": {},
     "output_type": "execute_result"
    }
   ],
   "source": [
    "len(good_rrt.connected_tree.edges)"
   ]
  },
  {
   "cell_type": "code",
   "execution_count": 24,
   "metadata": {},
   "outputs": [],
   "source": [
    "# def rrt_experiment(rrt, save_name):\n",
    "#     edges = make_line_polys(rrt.connected_tree)\n",
    "#     print(edges.shape)\n",
    "#     t0 = time.time()\n",
    "#     (\n",
    "#         statistics,\n",
    "#         cert_result,\n",
    "#     ) = cspace_free_path.FindSeparationCertificateGivenPath(\n",
    "#         edges, set(), cert_options\n",
    "#     )\n",
    "#     t1 = time.time()\n",
    "#     file_name = path_to_data_save_folder / (save_name)\n",
    "#     with open(\n",
    "#         file_name,\n",
    "#         \"wb\",\n",
    "#     ) as f:\n",
    "#         pickle.dump(statistics, f)\n",
    "#     print(f\"num pairs to certify {len(statistics[0].total_time_to_certify_pair)}\")\n",
    "#     print(f\"Certification of safe PRM for {plant.num_positions()} links in {t1 - t0}s\")\n",
    "#     print(\n",
    "#         f\"Frac edges safe = {sum([1 if s.certified_safe() else 0 for s in statistics])}/{len(statistics)}\"\n",
    "#     )\n",
    "#     print(\n",
    "#         f\"Unsafe inds = {[idx for idx, s in enumerate(statistics) if not s.certified_safe()]}\"\n",
    "#     )\n",
    "#     return statistics, cert_result\n",
    "# rrt_experiment(good_rrt, f\"bimanual_example_edges_GOOD_RRT.pkl\")\n",
    "# rrt_experiment(bad_rrt, f\"bimanual_example_edges_BAD_RRT.pkl\")"
   ]
  },
  {
   "cell_type": "code",
   "execution_count": 44,
   "metadata": {},
   "outputs": [
    {
     "data": {
      "text/plain": [
       "(12, 120)"
      ]
     },
     "execution_count": 44,
     "metadata": {},
     "output_type": "execute_result"
    }
   ],
   "source": [
    "make_line_polys(good_rrt.connected_tree).shape"
   ]
  },
  {
   "cell_type": "code",
   "execution_count": 26,
   "metadata": {},
   "outputs": [],
   "source": [
    "# file_name = path_to_data_save_folder / (f\"bimanual_example_edges_GOOD_RRT.pkl\")\n",
    "# with open(file_name, \"rb\") as f:\n",
    "#     statistics = pickle.load(f)\n",
    "# statistics"
   ]
  },
  {
   "cell_type": "code",
   "execution_count": 45,
   "metadata": {},
   "outputs": [
    {
     "name": "stdout",
     "output_type": "stream",
     "text": [
      "35.15886878967285\n"
     ]
    }
   ],
   "source": [
    "path_safe = make_line_polys_shortest_path(good_rrt)\n",
    "t0 = time.time()\n",
    "(\n",
    "    statistics_path_safe,\n",
    "    cert_result_path_safe,\n",
    ") = cspace_free_path.FindSeparationCertificateGivenPath(\n",
    "    path_safe, set(), cert_options\n",
    ")\n",
    "t1 = time.time()\n",
    "print(t1-t0)"
   ]
  },
  {
   "cell_type": "code",
   "execution_count": 46,
   "metadata": {},
   "outputs": [
    {
     "data": {
      "text/plain": [
       "1041.8965741046122"
      ]
     },
     "execution_count": 46,
     "metadata": {},
     "output_type": "execute_result"
    }
   ],
   "source": [
    "sum([s.total_time_to_solve_progs() for s in statistics_path_safe])/20"
   ]
  },
  {
   "cell_type": "code",
   "execution_count": 47,
   "metadata": {},
   "outputs": [
    {
     "name": "stdout",
     "output_type": "stream",
     "text": [
      "Average time = 11.711584202416665\n",
      "Total Time = 0.5855792101208334\n"
     ]
    }
   ],
   "source": [
    "total_times = [s.total_time_to_certify()/20 for s in statistics_path_safe]\n",
    "print(f\"Average time = {np.mean(total_times)/1000}\")\n",
    "print(f\"Total Time = {np.sum(total_times)/1000/60}\")"
   ]
  },
  {
   "cell_type": "code",
   "execution_count": 48,
   "metadata": {},
   "outputs": [
    {
     "name": "stdout",
     "output_type": "stream",
     "text": [
      "False\n",
      "False\n",
      "True\n"
     ]
    }
   ],
   "source": [
    "for s in statistics_path_safe:\n",
    "    print(s.certified_safe())"
   ]
  },
  {
   "cell_type": "code",
   "execution_count": 75,
   "metadata": {},
   "outputs": [],
   "source": [
    "# safe = [s.c() for s in statistics]\n",
    "# print(f\"Num Safe = {sum(safe)}\")\n",
    "fails =  []\n",
    "for k in statistics_path_safe[1].solution_statuses.keys():\n",
    "    if statistics_path_safe[1].solution_statuses[k] == 5:\n",
    "        fails.append(k)\n",
    "# print(fails)\n",
    "# len(cspace_free_path.separating_planes())\n",
    "planeid_to_geompair = {v:k for k,v in cspace_free_path.map_geometries_to_separating_planes().items()}\n",
    "unsafe_pairs = [planeid_to_geompair[id] for id in fails]\n",
    "for a in unsafe_pairs:\n",
    "    print('----------')\n",
    "    for g in a:\n",
    "        print(plant.GetBodyFromFrameId(inspector.GetFrameId(g)).name())"
   ]
  },
  {
   "cell_type": "code",
   "execution_count": 34,
   "metadata": {},
   "outputs": [],
   "source": [
    "# print(s.solution_statuses)"
   ]
  },
  {
   "cell_type": "code",
   "execution_count": 56,
   "metadata": {},
   "outputs": [
    {
     "data": {
      "text/plain": [
       "246"
      ]
     },
     "execution_count": 56,
     "metadata": {},
     "output_type": "execute_result"
    }
   ],
   "source": [
    "len(inspector.GetCollisionCandidates())"
   ]
  },
  {
   "cell_type": "markdown",
   "metadata": {},
   "source": [
    "## START PLANE PLOTTING"
   ]
  },
  {
   "cell_type": "code",
   "execution_count": 114,
   "metadata": {},
   "outputs": [],
   "source": [
    "geoms = []\n",
    "# for model_info in [plant.GetModelInstanceByName(\"shelves1\"), plant.GetModelInstanceByName(\"shelves2\")]:\n",
    "\n",
    "names = [\"top\", \"bottom\", \"right\", \"left\", \"shelf1\", \"shelf2\"]\n",
    "for n in names:\n",
    "# shelf_geom = plant.GetBodyByName(, model_info)\n",
    "\n",
    "    for s in [\"shelves1\"]:\n",
    "        path = f\"/drake/visualizer/{s}/{n}\"\n",
    "        \n",
    "        meshcat.SetProperty(path, \"color\", np.array([0.5,0.95,0.6,1]))  \n",
    "        \n",
    "for n in [\"left\",\"right\"]:\n",
    "# shelf_geom = plant.GetBodyByName(, model_info)\n",
    "\n",
    "    for s in [\"shelves1\"]:\n",
    "        path = f\"/drake/visualizer/{s}/{n}\"\n",
    "        \n",
    "        meshcat.SetProperty(path, \"color\", np.array([0.5,0.95,0.6,0.5]))  \n",
    "#     #meshcat.SetProperty(path+body, \"color\", np.array([0.8,.2,0,0.3]))\n",
    "#     meshcat.SetProperty(f\"visualizer/hyperplane/{body}\", \"visible\", True)\n",
    "#     body_obs = plant.GetBodyFromFrameId(inspector.GetFrameId(pair[0]))\n",
    "#     if plant.GetModelInstanceByName('shelves2') ==body_obs.model_instance():\n",
    "#         path = f\"/drake/visualizer/shelves2/{body_obs.name()}\"\n",
    "#         meshcat.SetProperty(path, \"color\",np.array([color[0],color[1],color[2],1.0]))\n",
    "#     else:\n",
    "#         path = f\"/drake/visualizer/shelves1/{body_obs.name()}\"\n",
    "#         meshcat.SetProperty(path, \"color\",np.array([color[0],color[1],color[2],1.0]))\n",
    "#     body_obs = plant.GetBodyFromFrameId(inspector.GetFrameId(pair[1]))\n",
    "#     path = f\"/drake/visualizer/wsg/{body_obs.name()}\"\n",
    "#     meshcat.SetProperty(path, \"color\",np.array([1,0,0,1.0]))\n",
    "for i  in [1,2]:\n",
    "    path = f\"/drake/visualizer/wsg{i}/body\"\n",
    "    meshcat.SetProperty(path, \"color\",np.array([0.8,0.,.1,1.0]))\n",
    "    path = f\"/drake/visualizer/wsg{i}/left_finger\"\n",
    "    meshcat.SetProperty(path, \"color\",np.array([0.8,0.,.1,1.0]))\n",
    "    path = f\"/drake/visualizer/wsg{i}/right_finger\"\n",
    "    meshcat.SetProperty(path, \"color\",np.array([0.8,0.,.1,1.0]))\n"
   ]
  },
  {
   "cell_type": "code",
   "execution_count": 77,
   "metadata": {},
   "outputs": [],
   "source": [
    "t_breaks = np.arange(0,path_safe.shape[1]+1)\n",
    "traj_safe = PiecewisePolynomial(path_safe.T, t_breaks)\n"
   ]
  },
  {
   "cell_type": "code",
   "execution_count": 78,
   "metadata": {},
   "outputs": [
    {
     "name": "stdout",
     "output_type": "stream",
     "text": [
      "col\n",
      "col\n",
      "col\n",
      "col\n",
      "col\n",
      "col\n",
      "col\n",
      "col\n",
      "col\n",
      "col\n",
      "col\n",
      "col\n",
      "col\n",
      "col\n",
      "col\n",
      "col\n",
      "col\n",
      "col\n",
      "col\n",
      "col\n",
      "col\n",
      "col\n",
      "col\n",
      "col\n",
      "col\n",
      "col\n",
      "col\n",
      "col\n",
      "col\n",
      "col\n",
      "col\n",
      "col\n",
      "col\n"
     ]
    }
   ],
   "source": [
    "def animate_traj(traj, num_samples = int(1e3), do_break = False):\n",
    "    for t in np.linspace(traj.start_time(), traj.end_time(),num_samples):\n",
    "        s = traj.value(t)\n",
    "        showres_s(s)\n",
    "        time.sleep(0.01)\n",
    "        if col_func_handle(Ratfk.ComputeQValue(s, np.zeros(7))):\n",
    "            print('col')\n",
    "            if do_break:\n",
    "                break\n",
    "animate_traj(traj_safe)"
   ]
  },
  {
   "cell_type": "code",
   "execution_count": 95,
   "metadata": {},
   "outputs": [],
   "source": [
    "from pydrake.all import Evaluate\n",
    "from pydrake.all import AngleAxis,RigidTransform\n",
    "from scipy.linalg import null_space\n",
    "query = scene_graph.get_query_output_port().Eval(scene_graph.GetMyContextFromRoot(diagram_context))\n",
    "inspector = query.inspector()\n",
    "geompair_to_planes = CspaceFreePath.map_geometries_to_separating_planes(cspace_free_path)\n",
    "\n",
    "# cert result is indexed by the prm edge. \n",
    "# first_edge_cert_result = cert_result[0]\n",
    "\n",
    "desired_result_tuple = important_collision_pairs[0]\n",
    "def get_associated_plane_result_tuple(p1, p2, cert_result_for_edge):\n",
    "    key = (p1, p2) if (p1,p2) in cert_result_for_edge.keys() else (p2,p1)\n",
    "    return cert_result_for_edge[key]\n",
    "# sep_cert_result = get_associated_plane_result_tuple(*desired_result_tuple,\n",
    "#                                                     first_edge_cert_result)\n",
    "\n",
    "\n",
    "def compute_plane_transform(a, b, p1, p2):\n",
    "    try:\n",
    "        #determine normal\n",
    "        assert len(a)==3\n",
    "        p1 = p1.squeeze()\n",
    "        p2 = p2.squeeze()\n",
    "        mu = -b / (a.T @ (p2 - p1))\n",
    "        offset = mu * (p2 - p1)\n",
    "        axis = (a / np.linalg.norm(a))[:]\n",
    "        n = (a/np.linalg.norm(a)).squeeze()\n",
    "        a = a.squeeze()\n",
    "        target_vector = np.array([0, 0, 1])\n",
    "        cos_theta = np.dot(target_vector, n)\n",
    "        rotation_axis = np.cross(target_vector, n)\n",
    "        rotation_axis = rotation_axis/np.linalg.norm(rotation_axis) \n",
    "        theta = np.arccos(cos_theta)\n",
    "        rotation = AngleAxis(theta, rotation_axis).rotation()\n",
    "        #print(axis.shape)\n",
    "        P = null_space(axis.T)\n",
    "        rotation = np.hstack([P, axis])\n",
    "        R = RotationMatrix(rotation)\n",
    "        return RigidTransform(R, offset)\n",
    "    except:\n",
    "        return RigidTransform()\n",
    "# def compute_plane_transform(a, b, p1, p2):\n",
    "#     #determine normal\n",
    "#     assert len(a)==3\n",
    "#     p1 = p1.squeeze()\n",
    "#     p2 = p2.squeeze()\n",
    "#     mu = -b / (a.T @ (p2 - p1))\n",
    "#     offset = mu * (p2 - p1)\n",
    "#     axis = (a / np.linalg.norm(a))[:]\n",
    "#     n = (a/np.linalg.norm(a)).squeeze()\n",
    "#     a = a.squeeze()\n",
    "#     target_vector = np.array([0, 0, 1])\n",
    "#     cos_theta = np.dot(target_vector, n)\n",
    "#     rotation_axis = np.cross(target_vector, n)\n",
    "#     rotation_axis = rotation_axis/np.linalg.norm(rotation_axis) \n",
    "#     theta = np.arccos(cos_theta)\n",
    "#     rotation = AngleAxis(theta, rotation_axis).rotation()\n",
    "#     #print(axis.shape)\n",
    "#     #P = null_space(axis.T)\n",
    "#     #rotation = np.hstack([P, axis])\n",
    "#     R = RotationMatrix(rotation)\n",
    "#     return RigidTransform(R, offset)\n",
    "def compute_plane_transform(a, b, p1, p2):\n",
    "    #determine normal\n",
    "    assert len(a)==3\n",
    "    p1 = p1.squeeze()\n",
    "    p2 = p2.squeeze()\n",
    "    t = (-b -a.T@p2)/ (a.T @ (p1 - p2))\n",
    "    np.clip(t, 0,1)\n",
    "    offset = t*p1 + (1-t)*p2\n",
    "    #offset = mu * (p2 - p1)\n",
    "#         offset = 0.5*(p2 - p1)\n",
    "    axis = (a / np.linalg.norm(a))[:]\n",
    "    n = (a/np.linalg.norm(a)).squeeze()\n",
    "    a = a.squeeze()\n",
    "    target_vector = np.array([0, 0, 1])\n",
    "    cos_theta = np.dot(target_vector, n)\n",
    "    rotation_axis = np.cross(target_vector, n)\n",
    "    rotation_axis = rotation_axis/np.linalg.norm(rotation_axis) \n",
    "    theta = np.arccos(cos_theta)\n",
    "    rotation = AngleAxis(theta, rotation_axis).rotation()\n",
    "    #print(axis.shape)\n",
    "    #P = null_space(axis.T)\n",
    "    #rotation = np.hstack([P, axis])\n",
    "    R = RotationMatrix(rotation)\n",
    "    return RigidTransform(R, offset)\n",
    "#     translation = (-b-a@pt2)/(a@pt1-a@pt2) *pt1\n",
    "#     X = RigidTransform(RotationMatrix(rotation),translation)\n",
    "    #return X\n",
    "\n",
    "def get_hyperplane_transform_from_geom_pair(pair, mu_val, edge_result):\n",
    "    cert = get_associated_plane_result_tuple(*pair,\n",
    "                                            edge_result)\n",
    "    a = Evaluate(cert.a, {mu: mu_val for mu in cert.a[0].indeterminates()})\n",
    "    b = Evaluate(np.array([cert.b]), \n",
    "                 {mu: mu_val for mu in cert.b.indeterminates()})[0].item()\n",
    "    \n",
    "    plane_idx = geompair_to_planes[pair]\n",
    "    body_index = cspace_free_path.separating_planes()[plane_idx].expressed_body\n",
    "    expressed_body = plant.get_body(body_index)\n",
    "    X_WE = plant.EvalBodyPoseInWorld(\n",
    "                plant_context, expressed_body)\n",
    "    X_EW = X_WE.inverse()\n",
    "    f_ids = [inspector.GetFrameId(p) for p in pair]\n",
    "    bodies = [plant.GetBodyFromFrameId(f) for f in f_ids]\n",
    "    X_WG = [plant.EvalBodyPoseInWorld(plant_context,b) for b in bodies]\n",
    "    p1 = (X_EW @ X_WG[0]).translation()\n",
    "    p2 = (X_EW @ X_WG[1]).translation()\n",
    "    X_E_plane = compute_plane_transform(a,b,p1, p2)\n",
    "    \n",
    "    return X_WE @ X_E_plane\n",
    "    \n",
    "def set_hyperplane_transform_by_col_pair(p1, p2, X):\n",
    "    key = (p1, p2) if (p1,p2) in hyperplane_plants.keys() else (p2, p1)\n",
    "    plant = hyperplane_plants[key]\n",
    "    plant_context = hyperplane_plant_contexts[key]\n",
    "    p = X.translation()\n",
    "    quat = X.rotation().ToQuaternion().wxyz()\n",
    "    plant.SetPositions(plant_context, np.append(quat, p))"
   ]
  },
  {
   "cell_type": "code",
   "execution_count": 96,
   "metadata": {},
   "outputs": [
    {
     "name": "stdout",
     "output_type": "stream",
     "text": [
      "[<GeometryId value=118>, <GeometryId value=132>]\n",
      "[(<GeometryId value=118>, <GeometryId value=146>), (<GeometryId value=132>, <GeometryId value=146>), (<GeometryId value=118>, <GeometryId value=152>), (<GeometryId value=132>, <GeometryId value=152>), (<GeometryId value=118>, <GeometryId value=158>), (<GeometryId value=132>, <GeometryId value=158>), (<GeometryId value=118>, <GeometryId value=164>), (<GeometryId value=132>, <GeometryId value=164>), (<GeometryId value=118>, <GeometryId value=170>), (<GeometryId value=132>, <GeometryId value=170>), (<GeometryId value=118>, <GeometryId value=176>), (<GeometryId value=132>, <GeometryId value=176>), (<GeometryId value=118>, <GeometryId value=132>), (<GeometryId value=118>, <GeometryId value=132>)]\n"
     ]
    }
   ],
   "source": [
    "print(gripper_col_geoms_ids)\n",
    "print(important_collision_pairs)\n"
   ]
  },
  {
   "cell_type": "code",
   "execution_count": 97,
   "metadata": {},
   "outputs": [
    {
     "data": {
      "text/plain": [
       "RigidTransform(\n",
       "  R=RotationMatrix([\n",
       "    [-0.3622586368064893, -0.3357789123206901, -0.8694947970516206],\n",
       "    [0.05768060700151817, 0.9229926612508288, -0.38047009718642755],\n",
       "    [0.9302911520782301, -0.18798156643098698, -0.31499413176615193],\n",
       "  ]),\n",
       "  p=[-0.545422987726133, 0.09745360931221171, 0.25034806017646266],\n",
       ")"
      ]
     },
     "execution_count": 97,
     "metadata": {},
     "output_type": "execute_result"
    }
   ],
   "source": [
    "get_hyperplane_transform_from_geom_pair(important_collision_pairs[0],\n",
    "                                       1, cert_result_path_safe[-1])"
   ]
  },
  {
   "cell_type": "code",
   "execution_count": 98,
   "metadata": {},
   "outputs": [
    {
     "name": "stdout",
     "output_type": "stream",
     "text": [
      "{<GeometryId value=118>: 'body', <GeometryId value=146>: 'bottom', <GeometryId value=132>: 'body', <GeometryId value=152>: 'top', <GeometryId value=158>: 'right', <GeometryId value=164>: 'left', <GeometryId value=170>: 'shelf1', <GeometryId value=176>: 'shelf2'}\n"
     ]
    }
   ],
   "source": [
    "important_collision_id_to_body_name = dict()\n",
    "\n",
    "for elt in important_collision_pairs:\n",
    "    for p in elt:\n",
    "        frame_id = inspector.GetFrameId(p)\n",
    "        body = plant.GetBodyFromFrameId(frame_id)\n",
    "        important_collision_id_to_body_name[p] = body.name()\n",
    "print(important_collision_id_to_body_name)\n",
    "show_res_s_with_planes(traj_safe.value(traj_safe.end_time()),1, \n",
    "                       cert_result_path_safe[-1])"
   ]
  },
  {
   "cell_type": "code",
   "execution_count": 99,
   "metadata": {},
   "outputs": [],
   "source": [
    "pairs_to_show =important_collision_pairs[-1:]\n",
    "#important_collision_pairs\n",
    "def set_colors_col_pair(pair, color):\n",
    "    path = \"/drake/visualizer/hyperplane/\"\n",
    "    body = f\"hyperplane_{pair[0], pair[1]}\"\n",
    "    meshcat.SetProperty(path+body, \"color\", np.array([color[0],color[1],color[2],0.2]))  \n",
    "    #meshcat.SetProperty(path+body, \"color\", np.array([0.8,.2,0,0.3]))\n",
    "    meshcat.SetProperty(f\"visualizer/hyperplane/{body}\", \"visible\", True)\n",
    "for pair in pairs_to_show:\n",
    "    set_colors_col_pair(pair, np.array([1.0,0,0,0.1]))"
   ]
  },
  {
   "cell_type": "code",
   "execution_count": 100,
   "metadata": {},
   "outputs": [
    {
     "data": {
      "text/plain": [
       "(<GeometryId value=118>, <GeometryId value=132>)"
      ]
     },
     "execution_count": 100,
     "metadata": {},
     "output_type": "execute_result"
    }
   ],
   "source": [
    "important_collision_pairs[-1]"
   ]
  },
  {
   "cell_type": "code",
   "execution_count": 101,
   "metadata": {},
   "outputs": [
    {
     "data": {
      "text/plain": [
       "[(<GeometryId value=118>, <GeometryId value=146>),\n",
       " (<GeometryId value=132>, <GeometryId value=146>),\n",
       " (<GeometryId value=118>, <GeometryId value=152>),\n",
       " (<GeometryId value=132>, <GeometryId value=152>),\n",
       " (<GeometryId value=118>, <GeometryId value=158>),\n",
       " (<GeometryId value=132>, <GeometryId value=158>),\n",
       " (<GeometryId value=118>, <GeometryId value=164>),\n",
       " (<GeometryId value=132>, <GeometryId value=164>),\n",
       " (<GeometryId value=118>, <GeometryId value=170>),\n",
       " (<GeometryId value=132>, <GeometryId value=170>),\n",
       " (<GeometryId value=118>, <GeometryId value=176>),\n",
       " (<GeometryId value=132>, <GeometryId value=176>),\n",
       " (<GeometryId value=118>, <GeometryId value=132>),\n",
       " (<GeometryId value=118>, <GeometryId value=132>)]"
      ]
     },
     "execution_count": 101,
     "metadata": {},
     "output_type": "execute_result"
    }
   ],
   "source": [
    "important_collision_pairs"
   ]
  },
  {
   "cell_type": "code",
   "execution_count": 119,
   "metadata": {},
   "outputs": [
    {
     "name": "stderr",
     "output_type": "stream",
     "text": [
      "100%|██████████████████████████████████████| 1/1 [00:13<00:00, 13.45s/it]\n"
     ]
    }
   ],
   "source": [
    "from pydrake.all import PiecewisePolynomial\n",
    "from tqdm import tqdm\n",
    "traj = PiecewisePolynomial(path_safe.T,\n",
    "                           np.arange(path_safe.shape[1]+1))\n",
    "\n",
    "\n",
    "cert_result = cert_result_path_safe\n",
    "\n",
    "# for pair in important_collision_pairs:\n",
    "#     if pair not in pairs_to_show:\n",
    "#         path = \"/drake/visualizer/hyperplane/\"\n",
    "#         body = f\"hyperplane_{pair[0], pair[1]}\"\n",
    "#         meshcat.Delete(path+body)  \n",
    "# #pair = pairs_to_show\n",
    "# for pair in pairs_to_show:\n",
    "#     path = \"/drake/visualizer/hyperplane/\"\n",
    "#     body = f\"hyperplane_{pair[0], pair[1]}\"\n",
    "#     meshcat.SetProperty(path+body, \"color\", np.array([0.8,.2,0,0.3]))  \n",
    "\n",
    "#     name_obs = plant.GetBodyFromFrameId(inspector.GetFrameId(pair[1])).name()\n",
    "#     path = \"/drake/visualizer/obstacle/\"\n",
    "#     meshcat.SetProperty(path+name_obs, \"color\",np.array([0.8,.2,0,0.9]))  \n",
    "#     name_link = plant.GetBodyFromFrameId(inspector.GetFrameId(pair[0])).name()\n",
    "#     path = \"/drake/visualizer/pendulum/\"\n",
    "#     meshcat.SetProperty(path+name_link, \"color\",np.array([0.8,.2,0,0.9]))  \n",
    "    \n",
    "num_edges_to_navigate = path_safe.shape[1]\n",
    "animation = visualizer.StartRecording()\n",
    "\n",
    "def show_res_s_with_planes(s, path_time, cert_result):\n",
    "    q = Ratfk.ComputeQValue(s, q_star)\n",
    "    plant.SetPositions(plant_context, q)\n",
    "    if check_collision_q_by_query(q):\n",
    "        print(f\"COL at idx {idx}\")\n",
    "        has_col = True\n",
    "    for pair in pairs_to_show:\n",
    "        X = get_hyperplane_transform_from_geom_pair(pair, path_time, cert_result)\n",
    "        set_hyperplane_transform_by_col_pair(*pair, X)\n",
    "    diagram_context.SetTime(time.time())\n",
    "    diagram.ForcedPublish(diagram_context)\n",
    "diagram_context.SetTime(0)\n",
    "diagram.ForcedPublish(diagram_context)\n",
    "\n",
    "\n",
    "for idx in tqdm(range(1)):\n",
    "    has_col = False\n",
    "    for t in np.linspace(0.9,0,400):\n",
    "        cur_time = idx + t\n",
    "        s = traj.value(cur_time)\n",
    "        show_res_s_with_planes(s, t, cert_result[idx])\n",
    "        time.sleep(0.025)\n",
    "    for _ in range(100):\n",
    "        cur_time = idx + 0\n",
    "        s = traj.value(cur_time)\n",
    "        show_res_s_with_planes(s, 0, cert_result[idx])\n",
    "        time.sleep(0.025)\n",
    "visualizer.StopRecording()\n",
    "visualizer.PublishRecording()"
   ]
  },
  {
   "cell_type": "code",
   "execution_count": 63,
   "metadata": {},
   "outputs": [
    {
     "data": {
      "text/plain": [
       "2.0"
      ]
     },
     "execution_count": 63,
     "metadata": {},
     "output_type": "execute_result"
    }
   ],
   "source": [
    "traj.end_time()\n",
    "\n"
   ]
  },
  {
   "cell_type": "code",
   "execution_count": 67,
   "metadata": {},
   "outputs": [
    {
     "data": {
      "text/plain": [
       "[0.0, 1.0, 2.0]"
      ]
     },
     "execution_count": 67,
     "metadata": {},
     "output_type": "execute_result"
    }
   ],
   "source": [
    "traj.get_segment_times()"
   ]
  },
  {
   "cell_type": "markdown",
   "metadata": {},
   "source": [
    "## END PLANE PLOTTING"
   ]
  },
  {
   "cell_type": "code",
   "execution_count": null,
   "metadata": {},
   "outputs": [],
   "source": [
    "edges_safe = [np.all([val == 0 or val == 1 for val in s.solution_statuses.values()]) for s in statistics] \n",
    "print(len(edges_safe))\n",
    "print(f\"Num Safe = {sum(edges_safe)}\")"
   ]
  },
  {
   "cell_type": "code",
   "execution_count": null,
   "metadata": {},
   "outputs": [],
   "source": [
    "\n",
    "path_to_data_save_folder = Path(\n",
    "    \"/home/amice/Documents/coding_projects/drake/C_Iris_Examples/final_experiment_data\"\n",
    ")\n",
    "l = 100\n",
    "######### BUILD PRM ##########\n",
    "Ratfk = RationalForwardKinematics(plant)\n",
    "diagram_col_context = diagram.CreateDefaultContext()\n",
    "plant_col_context = diagram.GetMutableSubsystemContext(\n",
    "    plant, diagram_col_context\n",
    ")\n",
    "scene_graph_col_context = diagram.GetMutableSubsystemContext(\n",
    "    scene_graph, diagram_col_context\n",
    ")\n",
    "query_port = scene_graph.get_query_output_port()\n",
    "\n",
    "def check_collision_q_by_query(q):\n",
    "    if np.all(q >= plant.GetPositionLowerLimits()) and np.all(\n",
    "        q <= plant.GetPositionUpperLimits()\n",
    "    ):\n",
    "        plant.SetPositions(plant_col_context, q)\n",
    "        query_object = query_port.Eval(scene_graph_col_context)\n",
    "        return 1 if query_object.HasCollisions() else 0\n",
    "    else:\n",
    "        return 1\n",
    "\n",
    "def check_collision_s_by_query(s):\n",
    "    s = np.array(s)\n",
    "    q = Ratfk.ComputeQValue(s, q_star)\n",
    "    return check_collision_q_by_query(q)\n",
    "\n",
    "def sample_col_free_point():\n",
    "    q = np.random.uniform(\n",
    "        plant.GetPositionLowerLimits(),\n",
    "        plant.GetPositionUpperLimits(),\n",
    "    )\n",
    "    s = Ratfk.ComputeSValue(q, q_star)\n",
    "    return s\n",
    "\n",
    "collision_checker = StraightLineCollisionChecker(check_collision_s_by_query, 100)\n",
    "prm_save_name = (\n",
    "    path_to_data_save_folder / f\"bimanual_example_{l}_edges_PRM.pkl\"\n",
    ")\n",
    "print(str(prm_save_name))\n",
    "if True:#not prm_save_name.exists():\n",
    "    prm = PRMFixedEdges(\n",
    "        sample_col_free_point, l, collision_checker, dist_thresh=3\n",
    "    )\n",
    "    with open(prm_save_name, \"wb\") as f:\n",
    "        pickle.dump(prm, f)\n",
    "else:\n",
    "    with open(prm_save_name, \"rb\") as f:\n",
    "        prm = pickle.load(f)\n",
    "\n",
    "    diagram_vis_context = diagram.CreateDefaultContext()\n",
    "    plant_vis_context = diagram.GetMutableSubsystemContext(\n",
    "        plant, diagram_vis_context\n",
    "    )\n",
    "    vis_bundle = vis_utils.VisualizationBundle(\n",
    "        diagram,\n",
    "        diagram_context,\n",
    "        plant,\n",
    "        plant_vis_context,\n",
    "        Ratfk,\n",
    "        meshcat,\n",
    "        q_star,\n",
    "    )\n",
    "    end_effector = plant.GetBodyByName(f\"iiwa_link_{6}\", ModelInstanceIndex(3))\n",
    "\n",
    "prm.draw_tree(vis_bundle, end_effector)\n",
    "path_safe = make_line_polys(prm)\n",
    "############## CERTIFICATION ##################\n",
    "cert_options = CspaceFreePath.FindSeparationCertificateGivenPathOptions()\n",
    "cert_options.terminate_segment_certification_at_failure = False\n",
    "\n",
    "cert_options.num_threads = -1\n",
    "cert_options.verbose = False\n",
    "cert_options.solver_id = MosekSolver.id()\n",
    "cert_options.solver_options = SolverOptions()\n",
    "cert_options.terminate_path_certification_at_failure = False"
   ]
  },
  {
   "cell_type": "code",
   "execution_count": null,
   "metadata": {},
   "outputs": [],
   "source": [
    " t0 = time.time()\n",
    "(\n",
    "    statistics,\n",
    "    cert_result,\n",
    ") = cspace_free_path.FindSeparationCertificateGivenPath(\n",
    "    path_safe, set(), cert_options\n",
    ")\n",
    "t1 = time.time()\n",
    "file_name = path_to_data_save_folder / (\n",
    "    f\"bimanual_example_{l}_edges_STATISTIC.pkl\"\n",
    ")\n",
    "with open(\n",
    "    file_name,\n",
    "    \"wb\",\n",
    ") as f:\n",
    "    pickle.dump(statistics, f)\n",
    "print(f\"num pairs to certify {len(statistics[0].total_time_to_certify_pair)}\")\n",
    "print(f\"Certification of safe PRM for {plant.num_positions()} links in {t1 - t0}s\")\n",
    "print(\n",
    "    f\"Frac edges safe = {sum([1 if s.certified_safe() else 0 for s in statistics])}/{len(statistics)}\"\n",
    ")\n",
    "print(\n",
    "    f\"Unsafe inds = {[idx for idx, s in enumerate(statistics) if not s.certified_safe()]}\"\n",
    ")"
   ]
  },
  {
   "cell_type": "code",
   "execution_count": null,
   "metadata": {},
   "outputs": [],
   "source": [
    "unsafe_idx = [idx for idx, s in enumerate(statistics) if not s.certified_safe()]\n",
    "for idx in unsafe_idx:\n",
    "    cur_traj = PiecewisePolynomial([path_safe[:,idx]], [0,1])\n",
    "    for t in np.linspace(0,1,1000):\n",
    "        s = cur_traj.value(t)\n",
    "        q = Ratfk.ComputeQValue(s, q_star)\n",
    "        plant.SetPositions(plant_context, q)\n",
    "        diagram.ForcedPublish(diagram_context)\n",
    "#         time.sleep(0.01)\n",
    "        if check_collision_q_by_query(q):\n",
    "            print(\"collision detected\")\n",
    "            break"
   ]
  },
  {
   "cell_type": "code",
   "execution_count": null,
   "metadata": {},
   "outputs": [],
   "source": []
  },
  {
   "cell_type": "code",
   "execution_count": null,
   "metadata": {},
   "outputs": [],
   "source": []
  }
 ],
 "metadata": {
  "kernelspec": {
   "display_name": "Python 3 (ipykernel)",
   "language": "python",
   "name": "python3"
  },
  "language_info": {
   "codemirror_mode": {
    "name": "ipython",
    "version": 3
   },
   "file_extension": ".py",
   "mimetype": "text/x-python",
   "name": "python",
   "nbconvert_exporter": "python",
   "pygments_lexer": "ipython3",
   "version": "3.10.12"
  }
 },
 "nbformat": 4,
 "nbformat_minor": 2
}
