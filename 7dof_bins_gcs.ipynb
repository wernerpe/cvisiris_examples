{
 "cells": [
  {
   "cell_type": "code",
   "execution_count": 1,
   "metadata": {},
   "outputs": [],
   "source": [
    "import numpy as np\n",
    "from functools import partial\n",
    "import ipywidgets as widgets\n",
    "from IPython.display import display"
   ]
  },
  {
   "cell_type": "code",
   "execution_count": 2,
   "metadata": {},
   "outputs": [],
   "source": [
    "\n",
    "from pydrake.geometry.optimization import IrisOptions, HPolyhedron, Hyperellipsoid\n",
    "from pydrake.solvers import MosekSolver, CommonSolverOption, SolverOptions\n",
    "from pydrake.all import (PiecewisePolynomial, \n",
    "                         InverseKinematics, \n",
    "                         Sphere, \n",
    "                         Rgba, \n",
    "                         RigidTransform, \n",
    "                         RotationMatrix, \n",
    "                         Solve,\n",
    "                         MathematicalProgram,\n",
    "                         RollPitchYaw,\n",
    "                         Cylinder)\n",
    "import time\n",
    "import pydrake\n"
   ]
  },
  {
   "cell_type": "code",
   "execution_count": 3,
   "metadata": {},
   "outputs": [
    {
     "name": "stderr",
     "output_type": "stream",
     "text": [
      "INFO:drake:Meshcat listening for connections at http://localhost:7000\n"
     ]
    }
   ],
   "source": [
    "from environments import get_environment_builder\n",
    "\n",
    "plant_builder = get_environment_builder('7DOFBINS')\n",
    "plant, scene_graph, diagram, diagram_context, plant_context, meshcat = plant_builder(usemeshcat=True)\n",
    "\n",
    "scene_graph_context = scene_graph.GetMyMutableContextFromRoot(\n",
    "    diagram_context)"
   ]
  },
  {
   "cell_type": "code",
   "execution_count": 4,
   "metadata": {},
   "outputs": [],
   "source": [
    "\n",
    "def show_pose(qvis, plant, plant_context, diagram, diagram_context, endeff_frame, show_body_frame = None):\n",
    "    plant.SetPositions(plant_context, qvis)\n",
    "    diagram.ForcedPublish(diagram_context)\n",
    "    tf =plant.EvalBodyPoseInWorld(plant_context,  plant.GetBodyByName(endeff_frame))\n",
    "    transl = tf.translation()+tf.rotation()@np.array([0,0.1,0])\n",
    "    if show_body_frame is not None:\n",
    "        show_body_frame(RigidTransform(tf.rotation(), transl))\n",
    "\n",
    "def show_ik_target(pose, meshcat, name):\n",
    "    h = 0.2\n",
    "    if 'targ' in name:\n",
    "        colors = [Rgba(1,0.5,0, 0.5), Rgba(0.5,1,0, 0.5), Rgba(0.0,0.5,1, 0.5)]\n",
    "    else:\n",
    "        colors = [Rgba(1,0,0, 1), Rgba(0.,1,0, 1), Rgba(0.0,0.0,1, 1)]\n",
    "\n",
    "    rot = pose.rotation()@RotationMatrix.MakeYRotation(np.pi/2)\n",
    "    pos= pose.translation() +pose.rotation()@np.array([h/2, 0,0])\n",
    "    meshcat.SetObject(f\"/drake/ik_target{name}/triad1\",\n",
    "                                   Cylinder(0.01,0.2),\n",
    "                                   colors[0])\n",
    "    meshcat.SetTransform(f\"/drake/ik_target{name}/triad1\",RigidTransform(rot, pos))\n",
    "    rot = pose.rotation()@RotationMatrix.MakeXRotation(-np.pi/2)\n",
    "    pos= pose.translation() +pose.rotation()@np.array([0,h/2,0])\n",
    "\n",
    "    meshcat.SetObject(f\"/drake/ik_target{name}/triad2\",\n",
    "                                   Cylinder(0.01,0.2),\n",
    "                                   colors[1])\n",
    "    meshcat.SetTransform(f\"/drake/ik_target{name}/triad2\",RigidTransform(rot, pos))\n",
    "    pos= pose.translation().copy()\n",
    "    rot = pose.rotation()\n",
    "    pos = pos + rot@np.array([0,0,h/2])\n",
    "    meshcat.SetObject(f\"/drake/ik_target{name}/triad3\",\n",
    "                                   Cylinder(0.01,0.2),\n",
    "                                   colors[2])\n",
    "    meshcat.SetTransform(f\"/drake/ik_target{name}/triad3\",RigidTransform(rot, pos))\n",
    "\n",
    "# ik = InverseKinematics(plant, plant_context)\n",
    "# collision_constraint = ik.AddMinimumDistanceConstraint(0.001, 0.001)\n",
    "# def eval_cons(q, c, tol):\n",
    "#     return 1-1*float(c.evaluator().CheckSatisfied(q, tol))\n",
    "    \n",
    "# col_func_handle = partial(eval_cons, c=collision_constraint, tol=0.01)\n",
    "# col_shunk_col =  Rgba(0.8, 0.0, 0, 0.5)    \n",
    "# col_shunk_free =  Rgba(0.0, 0.8, 0.5, 0.5)"
   ]
  },
  {
   "cell_type": "code",
   "execution_count": 5,
   "metadata": {},
   "outputs": [],
   "source": [
    "show_body_frame = partial(show_ik_target, \n",
    "                          meshcat=meshcat, \n",
    "                          name='endeff_acutal', \n",
    "                          )\n",
    "showres = partial(show_pose, \n",
    "                  plant = plant, \n",
    "                  plant_context = plant_context, \n",
    "                  diagram = diagram, \n",
    "                  diagram_context = diagram_context,\n",
    "                  endeff_frame = 'body',\n",
    "                  show_body_frame=show_body_frame)"
   ]
  },
  {
   "cell_type": "code",
   "execution_count": 6,
   "metadata": {},
   "outputs": [
    {
     "data": {
      "application/vnd.jupyter.widget-view+json": {
       "model_id": "3c5e5608d70c49a7a8dad0c0ae8c28ee",
       "version_major": 2,
       "version_minor": 0
      },
      "text/plain": [
       "FloatSlider(value=0.0, description='q0', max=2.96706, min=-2.96706)"
      ]
     },
     "metadata": {},
     "output_type": "display_data"
    },
    {
     "data": {
      "application/vnd.jupyter.widget-view+json": {
       "model_id": "3d61de9f45454ffea4bd7d3179dc0f7a",
       "version_major": 2,
       "version_minor": 0
      },
      "text/plain": [
       "FloatSlider(value=0.0, description='q1', max=2.0944, min=-2.0944)"
      ]
     },
     "metadata": {},
     "output_type": "display_data"
    },
    {
     "data": {
      "application/vnd.jupyter.widget-view+json": {
       "model_id": "bb535acf841d4e9db0ee5660f6d659b0",
       "version_major": 2,
       "version_minor": 0
      },
      "text/plain": [
       "FloatSlider(value=0.0, description='q2', max=2.96706, min=-2.96706)"
      ]
     },
     "metadata": {},
     "output_type": "display_data"
    },
    {
     "data": {
      "application/vnd.jupyter.widget-view+json": {
       "model_id": "c1e6ec79eda741b49c15ca0cfbe43073",
       "version_major": 2,
       "version_minor": 0
      },
      "text/plain": [
       "FloatSlider(value=0.0, description='q3', max=2.0944, min=-2.0944)"
      ]
     },
     "metadata": {},
     "output_type": "display_data"
    },
    {
     "data": {
      "application/vnd.jupyter.widget-view+json": {
       "model_id": "9a6ac7c9e1fc4205aa44d1102a8de640",
       "version_major": 2,
       "version_minor": 0
      },
      "text/plain": [
       "FloatSlider(value=0.0, description='q4', max=2.96706, min=-2.96706)"
      ]
     },
     "metadata": {},
     "output_type": "display_data"
    },
    {
     "data": {
      "application/vnd.jupyter.widget-view+json": {
       "model_id": "9bee0b8a55cd4b94a73e9206563cd20b",
       "version_major": 2,
       "version_minor": 0
      },
      "text/plain": [
       "FloatSlider(value=0.0, description='q5', max=2.0944, min=-2.0944)"
      ]
     },
     "metadata": {},
     "output_type": "display_data"
    },
    {
     "data": {
      "application/vnd.jupyter.widget-view+json": {
       "model_id": "03e6aeb7f5f04a26887ddae9686c7a06",
       "version_major": 2,
       "version_minor": 0
      },
      "text/plain": [
       "FloatSlider(value=0.0, description='q6', max=3.05433, min=-3.05433)"
      ]
     },
     "metadata": {},
     "output_type": "display_data"
    }
   ],
   "source": [
    "q_meshcat = np.zeros(plant.num_positions())\n",
    "\n",
    "sliders = []\n",
    "for i in range(plant.num_positions()):\n",
    "    q_low = plant.GetPositionLowerLimits()[i]\n",
    "    q_high = plant.GetPositionUpperLimits()[i]\n",
    "    sliders.append(widgets.FloatSlider(min=q_low, max=q_high, value=0, description=f\"q{i}\"))\n",
    "\n",
    "def handle_slider_change(change, idx):\n",
    "    q_meshcat[idx] = change['new']\n",
    "    showres(q_meshcat)\n",
    "    \n",
    "idx = 0\n",
    "for slider in sliders:\n",
    "    slider.observe(partial(handle_slider_change, idx = idx), names='value')\n",
    "    idx+=1\n",
    "\n",
    "for slider in sliders:\n",
    "    display(slider)"
   ]
  },
  {
   "cell_type": "code",
   "execution_count": 7,
   "metadata": {},
   "outputs": [
    {
     "name": "stderr",
     "output_type": "stream",
     "text": [
      "/home/peter/.local/lib/python3.8/site-packages/scipy/__init__.py:143: UserWarning: A NumPy version >=1.19.5 and <1.27.0 is required for this version of SciPy (detected version 1.17.4)\n",
      "  warnings.warn(f\"A NumPy version >={np_minversion} and <{np_maxversion}\"\n"
     ]
    }
   ],
   "source": [
    "from task_space_seeding_utils import solve_ik_problem"
   ]
  },
  {
   "cell_type": "code",
   "execution_count": 8,
   "metadata": {},
   "outputs": [
    {
     "data": {
      "application/vnd.jupyter.widget-view+json": {
       "model_id": "4fa06c9752214aff9e18642195a366c6",
       "version_major": 2,
       "version_minor": 0
      },
      "text/plain": [
       "FloatSlider(value=0.25, description='x', max=1.0, min=-0.5)"
      ]
     },
     "metadata": {},
     "output_type": "display_data"
    },
    {
     "data": {
      "application/vnd.jupyter.widget-view+json": {
       "model_id": "019c9b365b60477aa6f4cb934d64cdb3",
       "version_major": 2,
       "version_minor": 0
      },
      "text/plain": [
       "FloatSlider(value=0.0, description='y', max=0.5, min=-0.5)"
      ]
     },
     "metadata": {},
     "output_type": "display_data"
    },
    {
     "data": {
      "application/vnd.jupyter.widget-view+json": {
       "model_id": "d7e95b789dda448fa2f3a8c81d036dff",
       "version_major": 2,
       "version_minor": 0
      },
      "text/plain": [
       "FloatSlider(value=0.505, description='z', max=1.0, min=0.01)"
      ]
     },
     "metadata": {},
     "output_type": "display_data"
    },
    {
     "data": {
      "application/vnd.jupyter.widget-view+json": {
       "model_id": "beb2aa2034a94698a99d17fe6c862c06",
       "version_major": 2,
       "version_minor": 0
      },
      "text/plain": [
       "FloatSlider(value=0.0, description='rx', max=3.141592653589793, min=-3.141592653589793)"
      ]
     },
     "metadata": {},
     "output_type": "display_data"
    },
    {
     "data": {
      "application/vnd.jupyter.widget-view+json": {
       "model_id": "1c59d72e2efd40a0b7ed97e93238d1e0",
       "version_major": 2,
       "version_minor": 0
      },
      "text/plain": [
       "FloatSlider(value=0.0, description='ry', max=3.141592653589793, min=-3.141592653589793)"
      ]
     },
     "metadata": {},
     "output_type": "display_data"
    },
    {
     "data": {
      "application/vnd.jupyter.widget-view+json": {
       "model_id": "18bfdc223ed644edb0974481fb1242f5",
       "version_major": 2,
       "version_minor": 0
      },
      "text/plain": [
       "FloatSlider(value=0.0, description='rz', max=3.141592653589793, min=-3.141592653589793)"
      ]
     },
     "metadata": {},
     "output_type": "display_data"
    }
   ],
   "source": [
    "#ik sliders \n",
    "show_ik_targets = partial(show_ik_target, \n",
    "                          meshcat=meshcat, \n",
    "                          name='endeff_targ', \n",
    "                          )\n",
    "\n",
    "ik_solver = partial(solve_ik_problem, \n",
    "                    plant_ik = plant,\n",
    "                    plant_context_ik = plant_context,\n",
    "                    frames = [plant.GetFrameByName('body')],\n",
    "                    offsets = [np.array([0,0.1,0])],\n",
    "                    collision_free=False,\n",
    "                    track_orientation=False)\n",
    "sliders_ik = []\n",
    "pos_min = np.array([-0.5,-0.5, 0.01, -np.pi,-np.pi, -np.pi])\n",
    "pos_max = np.array([1.0,0.5, 1, np.pi,np.pi, np.pi])\n",
    "names = ['x', 'y', 'z','rx', 'ry', 'rz']\n",
    "q0 = np.zeros(7)#np.array([ 0.23294, -0.2944 , -0.36706, -1.5944 , -0.16706,  0.     ,\n",
    "       # 1.64567])\n",
    "_ik_positions = np.zeros(6)\n",
    "\n",
    "for i in range(6):\n",
    "    sliders_ik.append(widgets.FloatSlider(min=pos_min[i], \n",
    "                                       max=pos_max[i], \n",
    "                                       value=0.5*(pos_max[i]-pos_min[i])+pos_min[i], \n",
    "                                       description=names[i]))\n",
    "q_ik = np.zeros(plant.num_positions())\n",
    "def handle_slider_change_ik(change, idx):\n",
    "    _ik_positions[idx] = change['new']\n",
    "    rot = RotationMatrix.MakeXRotation(_ik_positions[3])@RotationMatrix.MakeYRotation(_ik_positions[4])@RotationMatrix.MakeZRotation(_ik_positions[5])\n",
    "\n",
    "    RollPitchYaw(_ik_positions[3],\n",
    "                       _ik_positions[4],\n",
    "                       _ik_positions[5]).ToRotationMatrix()\n",
    "    tf = RigidTransform(rot, _ik_positions[:3])\n",
    "    show_ik_targets(tf)\n",
    "    res = ik_solver([tf], q0)\n",
    "    q_ik[:] = res\n",
    "    if res is not None:\n",
    "        showres(res)\n",
    "\n",
    "idx = 0\n",
    "for slider in sliders_ik:\n",
    "    slider.observe(partial(handle_slider_change_ik, idx = idx), names='value')\n",
    "    idx+=1\n",
    "\n",
    "for slider in sliders_ik:\n",
    "    display(slider)"
   ]
  },
  {
   "cell_type": "code",
   "execution_count": 9,
   "metadata": {},
   "outputs": [
    {
     "data": {
      "text/plain": [
       "array([0., 0., 0., 0., 0., 0., 0.])"
      ]
     },
     "execution_count": 9,
     "metadata": {},
     "output_type": "execute_result"
    }
   ],
   "source": [
    "q_meshcat"
   ]
  },
  {
   "cell_type": "code",
   "execution_count": 10,
   "metadata": {},
   "outputs": [],
   "source": [
    "from visualization_utils import plot_points, plot_regions\n",
    "from pydrake.all import VPolytope, Role\n",
    "from task_space_seeding_utils import (get_cvx_hulls_of_bodies,\n",
    "                                      get_AABB_cvxhull,\n",
    "                                      task_space_sampler_mp,\n",
    "                                      task_space_sampler)"
   ]
  },
  {
   "cell_type": "code",
   "execution_count": 11,
   "metadata": {},
   "outputs": [],
   "source": [
    "#Determine task space regions of interest\n",
    "from visibility_utils import generate_distinct_colors\n",
    "geom_names = [#'bin_base', \n",
    "              #'bin_base', \n",
    "              'shelves_body']\n",
    "model_names = [#'binL', \n",
    "               #'binR', \n",
    "               'shelves']\n",
    "default_pos = [#np.array([ 1.53294,  0.4056 ,  0.23294, -0.5944 ,0.,0.9056 ,0.]),\n",
    "               #np.array([-1.53294,  0.4056 ,  0.23294, -0.5944 ,0.,  0.9056 ,0. ]),\n",
    "               np.array([ 0., -0.08940423,  0., -1.7087849,  0., 1.32867852,  0.])]\n",
    "approach_dir = [#2, \n",
    "                #2, \n",
    "                0] \n",
    "scale = 1.0\n",
    "ts_samplers = []\n",
    "cols = generate_distinct_colors(2*len(model_names), rgb = True)[1:]\n",
    "#cols = [list(c)+[1] for c in cols]\n",
    "AABB_sampling_regions = []\n",
    "for i, (g, m) in enumerate(zip(geom_names, model_names)):\n",
    "    cvx_hulls_of_ROI_unsc, bodies = get_cvx_hulls_of_bodies([g], [m], plant, scene_graph, scene_graph_context, scaling = 1.0)\n",
    "    verts = [VPolytope(c).vertices().T for c in cvx_hulls_of_ROI_unsc]\n",
    "    cvx_hulls_of_ROI = []\n",
    "    for v in verts:\n",
    "        v[:,approach_dir[i]] = scale*(v[:,approach_dir[i]] - np.mean(v[:,approach_dir[i]])) +  np.mean(v[:,approach_dir[i]])\n",
    "        cvx_hulls_of_ROI.append(HPolyhedron(VPolytope(v.T)))\n",
    "    ts_min, ts_max, cvxh_hpoly = get_AABB_cvxhull(cvx_hulls_of_ROI)\n",
    "    AABB_sampling_regions.append([ts_min, ts_max])\n",
    "    plot_regions(meshcat, cvx_hulls_of_ROI, region_suffix=m,opacity=0.2, colors=[cols[i]])\n",
    "    q0  = default_pos[i] #np.zeros(7)\n",
    "    plant.SetPositions(plant_context, q0)\n",
    "    plant.ForcedPublish(plant_context)\n",
    "    showres(q0)\n",
    "    t0 = plant.EvalBodyPoseInWorld(plant_context,  plant.GetBodyByName(\"body\")).translation()       \n",
    "    sample_handle_ts = partial(task_space_sampler_mp,\n",
    "                            q0 = q0,\n",
    "                            t0 = t0,\n",
    "                            plant_builder = plant_builder,\n",
    "                            frame_names = ['body'],\n",
    "                            offsets = [np.array([0,0.1,0])],\n",
    "                            cvx_hulls_of_ROI =cvx_hulls_of_ROI,\n",
    "                            ts_min = ts_min,\n",
    "                            ts_max = ts_max,\n",
    "                            collision_free = True,\n",
    "                            track_orientation = True,\n",
    "                            axis_alignment = approach_dir[i]\n",
    "                            )\n",
    "    ts_samplers.append(sample_handle_ts)"
   ]
  },
  {
   "cell_type": "code",
   "execution_count": 12,
   "metadata": {},
   "outputs": [
    {
     "name": "stderr",
     "output_type": "stream",
     "text": [
      "INFO:drake:Allocating contexts to support 20 parallel queries given omp_num_threads 20 omp_max_threads 20 and omp_thread_limit 2147483647 OpenMP enabled in build? true\n"
     ]
    }
   ],
   "source": [
    "from pydrake.all import SceneGraphCollisionChecker\n",
    "from visibility_utils import vgraph\n",
    "from clique_covers import compute_greedy_clique_partition\n",
    "\n",
    "robot_instances = [plant.GetModelInstanceByName(\"iiwa\"), plant.GetModelInstanceByName(\"wsg\")]\n",
    "checker = SceneGraphCollisionChecker(model = diagram,#.Clone(), \n",
    "                    robot_model_instances = robot_instances,\n",
    "                    distance_function_weights =  [1] * plant.num_positions(),\n",
    "                    #configuration_distance_function = _configuration_distance,\n",
    "                    edge_step_size = 0.125)\n",
    "vgraph_handle = partial(vgraph, checker = checker, parallelize = True) "
   ]
  },
  {
   "cell_type": "code",
   "execution_count": 16,
   "metadata": {},
   "outputs": [
    {
     "name": "stderr",
     "output_type": "stream",
     "text": [
      "100%|██████████| 5/5 [00:01<00:00,  2.64it/s]\n",
      "100%|██████████| 5/5 [00:02<00:00,  2.11it/s]\n",
      "100%|██████████| 5/5 [00:02<00:00,  2.03it/s]\n",
      "100%|██████████| 5/5 [00:02<00:00,  1.80it/s]\n",
      "100%|██████████| 5/5 [00:03<00:00,  1.57it/s]\n",
      "100%|██████████| 5/5 [00:03<00:00,  1.58it/s]\n",
      "100%|██████████| 5/5 [00:03<00:00,  1.39it/s]\n",
      "100%|██████████| 5/5 [00:03<00:00,  1.49it/s]\n",
      "100%|██████████| 5/5 [00:04<00:00,  1.22it/s]\n",
      "100%|██████████| 5/5 [00:04<00:00,  1.23it/s]\n",
      "100%|██████████| 5/5 [00:04<00:00,  1.15it/s]\n",
      "100%|██████████| 5/5 [00:04<00:00,  1.09it/s]\n",
      "100%|██████████| 5/5 [00:05<00:00,  1.08s/it]\n",
      "100%|██████████| 5/5 [00:05<00:00,  1.19s/it]\n",
      "100%|██████████| 5/5 [00:06<00:00,  1.22s/it]\n",
      "100%|██████████| 5/5 [00:06<00:00,  1.25s/it]\n",
      "100%|██████████| 5/5 [00:06<00:00,  1.27s/it]\n",
      "100%|██████████| 5/5 [00:06<00:00,  1.34s/it]\n",
      "100%|██████████| 5/5 [00:06<00:00,  1.37s/it]\n",
      "100%|██████████| 5/5 [00:08<00:00,  1.68s/it]\n"
     ]
    }
   ],
   "source": [
    "import os\n",
    "import pickle\n",
    "Npts= 100\n",
    "if f\"7dof_bin_sampl73_3{Npts}_{scale}.pkl\" in os.listdir('tmp'):\n",
    "    with open(f\"tmp/7dof_bin_sampl7_{Npts}_{scale}.pkl\", 'rb') as f:\n",
    "        d = pickle.load(f)\n",
    "        q_obj = d['q_obj']\n",
    "        t_obj = d['t_obj']\n",
    "        ad_mat = d['ad_obj']\n",
    "else:\n",
    "    q_obj = []\n",
    "    t_obj = []\n",
    "    ad_obj = []\n",
    "    for sh in ts_samplers:\n",
    "        q, t, _, res = sh(Npts,[])\n",
    "        ad_mat = vgraph_handle(q)\n",
    "        q_obj +=[q]\n",
    "        t_obj +=[t]\n",
    "        ad_obj +=[ad_obj]\n",
    "    with open(f\"tmp/7dof_bin_sampl7_{Npts}_{scale}.pkl\", 'wb') as f:\n",
    "        pickle.dump({'q_obj':q_obj, 't_obj':t_obj, 'ad_obj': ad_obj}, f)"
   ]
  },
  {
   "cell_type": "code",
   "execution_count": 17,
   "metadata": {},
   "outputs": [],
   "source": [
    "#desnify using jacobian\n",
    "from pydrake.all import JacobianWrtVariable\n",
    "\n",
    "def getendeffpos(q):\n",
    "    plant.SetPositions(plant_context, q)\n",
    "    #diagram.ForcedPublish(diagram_context)\n",
    "    tf =plant.EvalBodyPoseInWorld(plant_context,  plant.GetBodyByName('body'))\n",
    "    transl = tf.translation()+tf.rotation()@np.array([0,0.1,0])\n",
    "    return transl\n",
    "\n",
    "shunk = plant.GetBodyByName(\"body\")\n",
    "shunk_frame = shunk.body_frame()\n",
    "world_frame = plant.world_frame() \n",
    "densify_samples = 20\n",
    "scaling_trans =0.02\n",
    "scaling_rot = 0.2\n",
    "scaling_noise = 0.1\n",
    "q_dense_obj = []\n",
    "t_dense_obj = []\n",
    "np.random.seed(1)\n",
    "meshcat.Delete(\"/drake/denseseed_0\")\n",
    "for q_roi, t_roi, aabb_h in zip(q_obj, t_obj, AABB_sampling_regions):\n",
    "    ts_min, ts_max = aabb_h\n",
    "    ts_diff = ts_max - ts_min\n",
    "    q_dense = [q for q in q_roi]\n",
    "    t_dense = [t for t in t_roi]\n",
    "    for qpt, tpt in zip(q_roi, t_roi):\n",
    "        plant.SetPositions(plant_context, qpt)\n",
    "        J = plant.CalcJacobianSpatialVelocity(plant_context, \n",
    "                                                JacobianWrtVariable.kQDot,\n",
    "                                                shunk_frame,\n",
    "                                                [0,0,0],\n",
    "                                                world_frame,\n",
    "                                                world_frame)\n",
    "        Jpinv = np.linalg.pinv(J[:,:])\n",
    "        num_found = 0\n",
    "        while True:\n",
    "            #shunk = plant.get_body(pydrake.multibody.tree.BodyIndex(9))\n",
    "            dir_trans = np.random.randn(3)\n",
    "            dir_rot = np.random.randn(3)\n",
    "            dir_trans/=np.linalg.norm(dir_trans)\n",
    "            dir_trans *= np.random.rand()\n",
    "            dir_rot/=np.linalg.norm(dir_rot)\n",
    "            ang_rot = 2*np.pi*(np.random.rand()-0.5)\n",
    "            nxt_tpt = tpt + dir_trans#ts_diff*np.random.rand(3) + ts_min\n",
    "            rot = ang_rot * dir_rot\n",
    "            dq = Jpinv@np.concatenate((scaling_rot*rot, scaling_trans*(nxt_tpt-tpt))) + scaling_noise*2*(np.random.rand(7)-0.5)\n",
    "            #dist_trans = 2*np.pi*(np.random.rand()-0.5)\n",
    "            if checker.CheckConfigCollisionFree(dq+qpt):\n",
    "                q_dense += [dq + qpt]\n",
    "                t_dense += [getendeffpos(dq+qpt)]    #[tpt + scaling_trans*(nxt_tpt-tpt)]\n",
    "                num_found+=1\n",
    "                if num_found == densify_samples:\n",
    "                    break\n",
    "    q_dense_obj.append(np.array(q_dense))\n",
    "    t_dense_obj.append(np.array(t_dense))\n",
    "for i, t in enumerate(t_dense_obj):\n",
    "    plot_points(meshcat, t, f\"denseseed_{i}\", size=0.01, color = Rgba(1,0,0,1))"
   ]
  },
  {
   "cell_type": "code",
   "execution_count": 18,
   "metadata": {},
   "outputs": [
    {
     "data": {
      "image/png": "[encoded data removed]",
      "text/plain": [
       "<Figure size 432x288 with 1 Axes>"
      ]
     },
     "metadata": {
      "needs_background": "light"
     },
     "output_type": "display_data"
    }
   ],
   "source": [
    "#cluster points\n",
    "from sklearn.cluster import KMeans\n",
    "from sklearn.metrics import silhouette_score\n",
    "import matplotlib.pyplot as plt\n",
    "cliques_obj = []\n",
    "num_clusters_obj = []\n",
    "cluster_sizes_obj = []\n",
    "for i, (q, t) in enumerate(zip(q_dense_obj, t_dense_obj)):\n",
    "    q_regularized = (q - np.mean(q, axis = 0))/np.std(q, axis = 0)\n",
    "    sil = []\n",
    "    kmsol = []\n",
    "    min_k = 2#[5,5, 5]\n",
    "    max_k = 30#[20, 20, 100 ]\n",
    "    clus_vals = np.arange(min_k,max_k)\n",
    "    for k in clus_vals:\n",
    "        #print(k)\n",
    "        km = KMeans(n_clusters=k).fit(q_regularized)\n",
    "        kmsol.append(km)\n",
    "        labels = km.labels_\n",
    "        sil.append(silhouette_score(q_regularized, labels, metric='euclidean'))\n",
    "\n",
    "    fig = plt.figure()\n",
    "    plt.plot(clus_vals,sil)\n",
    "\n",
    "    best_clustering = kmsol[np.argmax(sil)]\n",
    "    num_clusters = clus_vals[np.argmax(sil)]\n",
    "    q_clus = [q[np.where(best_clustering.labels_ == l )[0], :] for l in range(num_clusters)]\n",
    "    t_clus = [t[np.where(best_clustering.labels_ == l )[0], :] for l in range(num_clusters)]\n",
    "    idx_clus = [np.where(best_clustering.labels_ == l )[0] for l in range(num_clusters)]\n",
    "    clus_sizes = [len(qc) for qc in q_clus]\n",
    "    cluster_sizes_obj.append(clus_sizes)\n",
    "    num_clusters_obj.append(len(q_clus))\n",
    "    vgraph_clus = [vgraph_handle(qc) for qc in q_clus]\n",
    "    cliques_cluster = []\n",
    "    for ad in vgraph_clus:\n",
    "        smin = 14\n",
    "        cliques = compute_greedy_clique_partition(ad.toarray(), min_cliuqe_size=smin)\n",
    "        cl = []\n",
    "        for c in cliques:\n",
    "            if len(c)>=smin:\n",
    "               cl.append(c)\n",
    "        cliques_cluster.append(cl)\n",
    "    cliques_clusters_glob = []\n",
    "    for clus_idx, cliques in enumerate(cliques_cluster):\n",
    "        for c in cliques:\n",
    "            if len(c):\n",
    "                cliques_clusters_glob.append(idx_clus[clus_idx][c])\n",
    "    cliques_obj.append(cliques_clusters_glob)"
   ]
  },
  {
   "cell_type": "code",
   "execution_count": 19,
   "metadata": {},
   "outputs": [
    {
     "name": "stdout",
     "output_type": "stream",
     "text": [
      "cliques: 49\n",
      "clusters: 16\n",
      "mean cluster size: 131.25\n",
      "mean clique size: 30.06122448979592\n",
      "max clique size: 134\n",
      "min clique size: 14\n",
      "clique sizes: [17, 14, 113, 110, 63, 49, 27, 27, 25, 23, 21, 18, 42, 40, 28, 18, 42, 33, 18, 14, 21, 18, 14, 27, 17, 134, 36, 29, 28, 26, 26, 19, 20, 19, 23, 20, 14, 14, 18, 31, 30, 20, 19, 19, 17, 17, 15, 21, 19]\n",
      "num cliques: 49\n",
      "num clusters: 16\n"
     ]
    }
   ],
   "source": [
    "#stats on clusters\n",
    "cliques = 0\n",
    "clusters = 0\n",
    "for i in range(len(cluster_sizes_obj)):\n",
    "    print(f\"cliques: {len(cliques_obj[i])}\")\n",
    "    print(f\"clusters: { num_clusters_obj[i]}\")\n",
    "    print(f\"mean cluster size: {np.mean(cluster_sizes_obj[i])}\")\n",
    "    print(f\"mean clique size: {np.mean([len(c) for c in cliques_obj[i]])}\")\n",
    "    print(f\"max clique size: {np.max([len(c) for c in cliques_obj[i]])}\")\n",
    "    print(f\"min clique size: {np.min([len(c) for c in cliques_obj[i]])}\")\n",
    "    print(f\"clique sizes: {[len(c) for c in cliques_obj[i]]}\")\n",
    "    cliques += len(cliques_obj[i])\n",
    "    clusters += num_clusters_obj[i]\n",
    "\n",
    "print(f\"num cliques: {cliques}\")\n",
    "print(f\"num clusters: {clusters}\")"
   ]
  },
  {
   "cell_type": "code",
   "execution_count": 20,
   "metadata": {},
   "outputs": [],
   "source": [
    "t_tot = np.concatenate(tuple(t_dense_obj), axis=0)\n",
    "q_tot = np.concatenate(tuple(q_dense_obj))\n",
    "cliques_tot = []\n",
    "offset = 0\n",
    "for i, c in enumerate(cliques_obj):\n",
    "    if i>0:\n",
    "        offset+= len(q_dense_obj[i-1])\n",
    "    cliques_tot += [cl + offset for cl in c] \n",
    "# #plot_points(meshcat, t_tot, 'allsamp', size=0.005)\n",
    "# with open('cliques_tot.pkl', 'wb') as f:\n",
    "#     pickle.dump({'cliques_tot': cliques_tot, 'q_tot': q_tot, 't_tot': t_tot}, f)"
   ]
  },
  {
   "cell_type": "code",
   "execution_count": 21,
   "metadata": {},
   "outputs": [],
   "source": [
    "for q in q_tot[::2]:\n",
    "    showres(q)\n",
    "    time.sleep(0.02)"
   ]
  },
  {
   "cell_type": "code",
   "execution_count": 22,
   "metadata": {},
   "outputs": [
    {
     "name": "stderr",
     "output_type": "stream",
     "text": [
      "INFO:drake:MinimumVolumeCircumscribedEllipsoid solved with Mosek\n",
      "INFO:drake:MinimumVolumeCircumscribedEllipsoid solved with Mosek\n"
     ]
    },
    {
     "name": "stderr",
     "output_type": "stream",
     "text": [
      "INFO:drake:MinimumVolumeCircumscribedEllipsoid solved with Mosek\n",
      "INFO:drake:MinimumVolumeCircumscribedEllipsoid solved with Mosek\n",
      "INFO:drake:MinimumVolumeCircumscribedEllipsoid solved with Mosek\n",
      "INFO:drake:MinimumVolumeCircumscribedEllipsoid solved with Mosek\n",
      "INFO:drake:MinimumVolumeCircumscribedEllipsoid solved with Mosek\n",
      "INFO:drake:MinimumVolumeCircumscribedEllipsoid solved with Mosek\n",
      "INFO:drake:MinimumVolumeCircumscribedEllipsoid solved with Mosek\n",
      "INFO:drake:MinimumVolumeCircumscribedEllipsoid solved with Mosek\n",
      "INFO:drake:MinimumVolumeCircumscribedEllipsoid solved with Mosek\n",
      "INFO:drake:MinimumVolumeCircumscribedEllipsoid solved with Mosek\n",
      "INFO:drake:MinimumVolumeCircumscribedEllipsoid solved with Mosek\n",
      "INFO:drake:MinimumVolumeCircumscribedEllipsoid solved with Mosek\n",
      "INFO:drake:MinimumVolumeCircumscribedEllipsoid solved with Mosek\n",
      "INFO:drake:MinimumVolumeCircumscribedEllipsoid solved with Mosek\n",
      "INFO:drake:MinimumVolumeCircumscribedEllipsoid solved with Mosek\n",
      "INFO:drake:MinimumVolumeCircumscribedEllipsoid solved with Mosek\n",
      "INFO:drake:MinimumVolumeCircumscribedEllipsoid solved with Mosek\n",
      "INFO:drake:MinimumVolumeCircumscribedEllipsoid solved with Mosek\n",
      "INFO:drake:MinimumVolumeCircumscribedEllipsoid solved with Mosek\n",
      "INFO:drake:MinimumVolumeCircumscribedEllipsoid solved with Mosek\n",
      "INFO:drake:MinimumVolumeCircumscribedEllipsoid solved with Mosek\n",
      "INFO:drake:MinimumVolumeCircumscribedEllipsoid solved with Mosek\n",
      "INFO:drake:MinimumVolumeCircumscribedEllipsoid solved with Mosek\n",
      "INFO:drake:MinimumVolumeCircumscribedEllipsoid solved with Mosek\n",
      "INFO:drake:MinimumVolumeCircumscribedEllipsoid solved with Mosek\n",
      "INFO:drake:MinimumVolumeCircumscribedEllipsoid solved with Mosek\n",
      "INFO:drake:MinimumVolumeCircumscribedEllipsoid solved with Mosek\n",
      "INFO:drake:MinimumVolumeCircumscribedEllipsoid solved with Mosek\n",
      "INFO:drake:MinimumVolumeCircumscribedEllipsoid solved with Mosek\n",
      "INFO:drake:MinimumVolumeCircumscribedEllipsoid solved with Mosek\n",
      "INFO:drake:MinimumVolumeCircumscribedEllipsoid solved with Mosek\n",
      "INFO:drake:MinimumVolumeCircumscribedEllipsoid solved with Mosek\n",
      "INFO:drake:MinimumVolumeCircumscribedEllipsoid solved with Mosek\n",
      "INFO:drake:MinimumVolumeCircumscribedEllipsoid solved with Mosek\n",
      "INFO:drake:MinimumVolumeCircumscribedEllipsoid solved with Mosek\n",
      "INFO:drake:MinimumVolumeCircumscribedEllipsoid solved with Mosek\n",
      "INFO:drake:MinimumVolumeCircumscribedEllipsoid solved with Mosek\n",
      "INFO:drake:MinimumVolumeCircumscribedEllipsoid solved with Mosek\n",
      "INFO:drake:MinimumVolumeCircumscribedEllipsoid solved with Mosek\n",
      "INFO:drake:MinimumVolumeCircumscribedEllipsoid solved with Mosek\n",
      "INFO:drake:MinimumVolumeCircumscribedEllipsoid solved with Mosek\n",
      "INFO:drake:MinimumVolumeCircumscribedEllipsoid solved with Mosek\n",
      "INFO:drake:MinimumVolumeCircumscribedEllipsoid solved with Mosek\n",
      "INFO:drake:MinimumVolumeCircumscribedEllipsoid solved with Mosek\n",
      "INFO:drake:MinimumVolumeCircumscribedEllipsoid solved with Mosek\n",
      "INFO:drake:MinimumVolumeCircumscribedEllipsoid solved with Mosek\n",
      "INFO:drake:MinimumVolumeCircumscribedEllipsoid solved with Mosek\n"
     ]
    },
    {
     "data": {
      "text/plain": [
       "Text(0.5, 1.0, 'eigen value ratios of ellipsoids, clipped at 1e4')"
      ]
     },
     "execution_count": 22,
     "metadata": {},
     "output_type": "execute_result"
    },
    {
     "data": {
      "image/png": "[encoded data removed]",
      "text/plain": [
       "<Figure size 432x288 with 1 Axes>"
      ]
     },
     "metadata": {
      "needs_background": "light"
     },
     "output_type": "display_data"
    }
   ],
   "source": [
    "ells = []\n",
    "for c in cliques_tot:\n",
    "    clique_points = q_tot[c]\n",
    "    ells +=  [Hyperellipsoid.MinimumVolumeCircumscribedEllipsoid(clique_points.T)]\n",
    "min_eigs = []\n",
    "max_eigs = []\n",
    "ratios = []\n",
    "\n",
    "for e in ells:\n",
    "    eigs = np.linalg.eig(e.A()@e.A().T)[0]    \n",
    "    if len(eigs) <7:\n",
    "        maxe = 1e4\n",
    "        ratio = 1e4\n",
    "        mine =1 \n",
    "    else:\n",
    "        maxe = np.max(eigs)\n",
    "        mine = np.min(eigs)\n",
    "        ratio = maxe/mine\n",
    "    ratios += [ratio]\n",
    "    min_eigs +=[mine]\n",
    "    max_eigs +=[maxe]\n",
    "\n",
    "import matplotlib.pyplot as plt\n",
    "\n",
    "plt.figure()\n",
    "bins = plt.hist(np.clip(ratios,a_min = 0, a_max = 1e4))\n",
    "plt.xlabel('max eig / min eig')\n",
    "plt.ylabel(f\"number of ellipsoids (total {len(ratios)}) \")\n",
    "plt.title('eigen value ratios of ellipsoids, clipped at 1e4')"
   ]
  },
  {
   "cell_type": "code",
   "execution_count": 23,
   "metadata": {},
   "outputs": [],
   "source": [
    "from visibility_utils import get_coverage_estimator, get_sample_cfree_handle, get_col_func\n",
    "from clique_covers import get_iris_metrics\n",
    "from region_generation import SNOPT_IRIS_ellipsoid_parallel\n",
    "\n",
    "q_min = plant.GetPositionLowerLimits()*1\n",
    "q_max =  plant.GetPositionUpperLimits()*1\n",
    "col_func_handle_ = get_col_func(plant, plant_context)\n",
    "sample_cfree = get_sample_cfree_handle(q_min,q_max, col_func_handle_)\n",
    "\n",
    "require_sample_point_is_contained = True\n",
    "iteration_limit = 1\n",
    "configuration_space_margin = 1.e-3\n",
    "termination_threshold = -1\n",
    "num_collision_infeasible_samples = 100\n",
    "relative_termination_threshold = 0.02\n",
    "estimate_coverage = get_coverage_estimator(sample_cfree, pts = 3000)\n",
    "\n",
    "snopt_iris_options = IrisOptions()\n",
    "snopt_iris_options.require_sample_point_is_contained = require_sample_point_is_contained\n",
    "snopt_iris_options.iteration_limit = iteration_limit\n",
    "snopt_iris_options.configuration_space_margin = configuration_space_margin\n",
    "#snopt_iris_options.max_faces_per_collision_pair = 60\n",
    "snopt_iris_options.termination_threshold = termination_threshold\n",
    "#snopt_iris_options.q_star = np.zeros(3)\n",
    "snopt_iris_options.num_snopt_seed_guesses = 100\n",
    "snopt_iris_options.num_collision_infeasible_samples = num_collision_infeasible_samples\n",
    "snopt_iris_options.relative_termination_threshold = relative_termination_threshold\n",
    "def col_hnd(pt):\n",
    "    return 1- 1.0*checker.CheckConfigCollisionFree(pt)\n",
    "\n",
    "iris_handle = partial(SNOPT_IRIS_ellipsoid_parallel,\n",
    "                        region_obstacles = [],\n",
    "                        logger = None, \n",
    "                        plant_builder = plant_builder,\n",
    "                        snoptiris_options = snopt_iris_options,\n",
    "                        estimate_coverage = estimate_coverage,\n",
    "                        coverage_threshold = 1)"
   ]
  },
  {
   "cell_type": "code",
   "execution_count": 24,
   "metadata": {},
   "outputs": [
    {
     "name": "stderr",
     "output_type": "stream",
     "text": [
      "INFO:drake:IrisInConfigurationSpace iteration 0\n",
      "INFO:drake:IrisInConfigurationSpace iteration 0\n"
     ]
    },
    {
     "name": "stdout",
     "output_type": "stream",
     "text": [
      "[SNOPT IRIS Worker] Region failed at [-2.40944645 -1.42611943  1.95748985 -1.69710408 -2.04427752  1.42922686\n",
      "  3.11065024]!\n"
     ]
    },
    {
     "name": "stderr",
     "output_type": "stream",
     "text": [
      "INFO:drake:IrisInConfigurationSpace iteration 0\n",
      "INFO:drake:IrisInConfigurationSpace iteration 0\n",
      "INFO:drake:IrisInConfigurationSpace iteration 0\n",
      "INFO:drake:IrisInConfigurationSpace iteration 0\n",
      "INFO:drake:IrisInConfigurationSpace iteration 0\n",
      "INFO:drake:IrisInConfigurationSpace iteration 0\n",
      "INFO:drake:IrisInConfigurationSpace iteration 0\n",
      "INFO:drake:IrisInConfigurationSpace iteration 0\n",
      "INFO:drake:IrisInConfigurationSpace iteration 0\n",
      "INFO:drake:IrisInConfigurationSpace iteration 0\n",
      "INFO:drake:IrisInConfigurationSpace iteration 0\n",
      "INFO:drake:IrisInConfigurationSpace iteration 0\n",
      "INFO:drake:IrisInConfigurationSpace iteration 0\n",
      "INFO:drake:IrisInConfigurationSpace iteration 0\n",
      "INFO:drake:IrisInConfigurationSpace iteration 0\n",
      "INFO:drake:IrisInConfigurationSpace iteration 0\n"
     ]
    },
    {
     "name": "stdout",
     "output_type": "stream",
     "text": [
      "[SNOPT IRIS Worker]: Region:0 / 3\n"
     ]
    },
    {
     "name": "stderr",
     "output_type": "stream",
     "text": [
      "INFO:drake:IrisInConfigurationSpace iteration 0\n"
     ]
    },
    {
     "name": "stdout",
     "output_type": "stream",
     "text": [
      "[SNOPT IRIS Worker]: Region:0 / 3\n"
     ]
    },
    {
     "name": "stderr",
     "output_type": "stream",
     "text": [
      "INFO:drake:IrisInConfigurationSpace iteration 0\n"
     ]
    },
    {
     "name": "stdout",
     "output_type": "stream",
     "text": [
      "[SNOPT IRIS Worker]: Region:0 / 3\n"
     ]
    },
    {
     "name": "stderr",
     "output_type": "stream",
     "text": [
      "INFO:drake:IrisInConfigurationSpace iteration 0\n"
     ]
    },
    {
     "name": "stdout",
     "output_type": "stream",
     "text": [
      "[SNOPT IRIS Worker]: Region:0 / 2\n"
     ]
    },
    {
     "name": "stderr",
     "output_type": "stream",
     "text": [
      "INFO:drake:IrisInConfigurationSpace iteration 0\n"
     ]
    },
    {
     "name": "stdout",
     "output_type": "stream",
     "text": [
      "[SNOPT IRIS Worker]: Region:0 / 2\n"
     ]
    },
    {
     "name": "stderr",
     "output_type": "stream",
     "text": [
      "INFO:drake:IrisInConfigurationSpace iteration 0\n"
     ]
    },
    {
     "name": "stdout",
     "output_type": "stream",
     "text": [
      "[SNOPT IRIS Worker]: Region:0 / 2\n"
     ]
    },
    {
     "name": "stderr",
     "output_type": "stream",
     "text": [
      "INFO:drake:IrisInConfigurationSpace iteration 0\n"
     ]
    },
    {
     "name": "stdout",
     "output_type": "stream",
     "text": [
      "[SNOPT IRIS Worker]: Region:0 / 3\n"
     ]
    },
    {
     "name": "stderr",
     "output_type": "stream",
     "text": [
      "INFO:drake:IrisInConfigurationSpace iteration 0\n"
     ]
    },
    {
     "name": "stdout",
     "output_type": "stream",
     "text": [
      "[SNOPT IRIS Worker]: Region:0 / 3\n"
     ]
    },
    {
     "name": "stderr",
     "output_type": "stream",
     "text": [
      "INFO:drake:IrisInConfigurationSpace iteration 0\n"
     ]
    },
    {
     "name": "stdout",
     "output_type": "stream",
     "text": [
      "[SNOPT IRIS Worker]: Region:0 / 3\n"
     ]
    },
    {
     "name": "stderr",
     "output_type": "stream",
     "text": [
      "INFO:drake:IrisInConfigurationSpace iteration 0\n"
     ]
    },
    {
     "name": "stdout",
     "output_type": "stream",
     "text": [
      "[SNOPT IRIS Worker]: Region:0 / 3\n"
     ]
    },
    {
     "name": "stderr",
     "output_type": "stream",
     "text": [
      "INFO:drake:IrisInConfigurationSpace iteration 0\n"
     ]
    },
    {
     "name": "stdout",
     "output_type": "stream",
     "text": [
      "[SNOPT IRIS Worker]: Region:0 / 3\n"
     ]
    },
    {
     "name": "stderr",
     "output_type": "stream",
     "text": [
      "INFO:drake:IrisInConfigurationSpace iteration 0\n"
     ]
    },
    {
     "name": "stdout",
     "output_type": "stream",
     "text": [
      "[SNOPT IRIS Worker]: Region:0 / 2\n"
     ]
    },
    {
     "name": "stderr",
     "output_type": "stream",
     "text": [
      "INFO:drake:IrisInConfigurationSpace iteration 0\n"
     ]
    },
    {
     "name": "stdout",
     "output_type": "stream",
     "text": [
      "[SNOPT IRIS Worker]: Region:0 / 3\n"
     ]
    },
    {
     "name": "stderr",
     "output_type": "stream",
     "text": [
      "INFO:drake:IrisInConfigurationSpace iteration 0\n"
     ]
    },
    {
     "name": "stdout",
     "output_type": "stream",
     "text": [
      "[SNOPT IRIS Worker]: Region:0 / 3\n"
     ]
    },
    {
     "name": "stderr",
     "output_type": "stream",
     "text": [
      "INFO:drake:IrisInConfigurationSpace iteration 0\n"
     ]
    },
    {
     "name": "stdout",
     "output_type": "stream",
     "text": [
      "[SNOPT IRIS Worker]: Region:0 / 3\n"
     ]
    },
    {
     "name": "stderr",
     "output_type": "stream",
     "text": [
      "INFO:drake:IrisInConfigurationSpace iteration 0\n"
     ]
    },
    {
     "name": "stdout",
     "output_type": "stream",
     "text": [
      "[SNOPT IRIS Worker]: Region:1 / 2\n",
      "[SNOPT IRIS Worker]: Region:1 / 3\n"
     ]
    },
    {
     "name": "stderr",
     "output_type": "stream",
     "text": [
      "INFO:drake:IrisInConfigurationSpace iteration 0\n"
     ]
    },
    {
     "name": "stdout",
     "output_type": "stream",
     "text": [
      "[SNOPT IRIS Worker]: Region:1 / 3\n"
     ]
    },
    {
     "name": "stderr",
     "output_type": "stream",
     "text": [
      "INFO:drake:IrisInConfigurationSpace iteration 0\n"
     ]
    },
    {
     "name": "stdout",
     "output_type": "stream",
     "text": [
      "[SNOPT IRIS Worker]: Region:1 / 2\n",
      "[SNOPT IRIS Worker]: Region:1 / 2\n",
      "[SNOPT IRIS Worker]: Region:1 / 2\n",
      "[SNOPT IRIS Worker]: Region:0 / 3\n",
      "[SNOPT IRIS Worker] Region failed at [ 0.47133942  0.81236956 -0.65793456 -1.73632156 -3.03848955  1.05472354\n",
      "  1.80356216]!\n"
     ]
    },
    {
     "name": "stderr",
     "output_type": "stream",
     "text": [
      "INFO:drake:IrisInConfigurationSpace iteration 0\n"
     ]
    },
    {
     "name": "stdout",
     "output_type": "stream",
     "text": [
      "[SNOPT IRIS Worker]: Region:1 / 3\n"
     ]
    },
    {
     "name": "stderr",
     "output_type": "stream",
     "text": [
      "INFO:drake:IrisInConfigurationSpace iteration 0\n"
     ]
    },
    {
     "name": "stdout",
     "output_type": "stream",
     "text": [
      "[SNOPT IRIS Worker]: Region:1 / 3\n"
     ]
    },
    {
     "name": "stderr",
     "output_type": "stream",
     "text": [
      "INFO:drake:IrisInConfigurationSpace iteration 0\n"
     ]
    },
    {
     "name": "stdout",
     "output_type": "stream",
     "text": [
      "[SNOPT IRIS Worker]: Region:1 / 3\n",
      "[SNOPT IRIS Worker] Region failed at [ 2.89001237 -0.96436442 -2.60392948 -1.20092241  3.00113405  0.52053958\n",
      "  1.15589416]!\n",
      "[SNOPT IRIS Worker]: Region:1 / 3\n"
     ]
    },
    {
     "name": "stderr",
     "output_type": "stream",
     "text": [
      "INFO:drake:IrisInConfigurationSpace iteration 0\n"
     ]
    },
    {
     "name": "stdout",
     "output_type": "stream",
     "text": [
      "[SNOPT IRIS Worker]: Region:1 / 2\n",
      "[SNOPT IRIS Worker]: Region:1 / 3\n"
     ]
    },
    {
     "name": "stderr",
     "output_type": "stream",
     "text": [
      "INFO:drake:IrisInConfigurationSpace iteration 0\n"
     ]
    },
    {
     "name": "stdout",
     "output_type": "stream",
     "text": [
      "[SNOPT IRIS Worker]: Region:1 / 3\n"
     ]
    },
    {
     "name": "stderr",
     "output_type": "stream",
     "text": [
      "INFO:drake:IrisInConfigurationSpace iteration 0\n"
     ]
    },
    {
     "name": "stdout",
     "output_type": "stream",
     "text": [
      "[SNOPT IRIS Worker]: Region:0 / 3\n"
     ]
    },
    {
     "name": "stderr",
     "output_type": "stream",
     "text": [
      "INFO:drake:IrisInConfigurationSpace iteration 0\n"
     ]
    },
    {
     "name": "stdout",
     "output_type": "stream",
     "text": [
      "[SNOPT IRIS Worker]: Region:1 / 3\n"
     ]
    },
    {
     "name": "stderr",
     "output_type": "stream",
     "text": [
      "INFO:drake:IrisInConfigurationSpace iteration 0\n"
     ]
    },
    {
     "name": "stdout",
     "output_type": "stream",
     "text": [
      "[SNOPT IRIS Worker]: Region:1 / 3\n"
     ]
    },
    {
     "name": "stderr",
     "output_type": "stream",
     "text": [
      "INFO:drake:IrisInConfigurationSpace iteration 0\n"
     ]
    },
    {
     "name": "stdout",
     "output_type": "stream",
     "text": [
      "[SNOPT IRIS Worker]: Region:2 / 3\n",
      "[SNOPT IRIS Worker]: Region:1 / 3\n"
     ]
    },
    {
     "name": "stderr",
     "output_type": "stream",
     "text": [
      "INFO:drake:IrisInConfigurationSpace iteration 0\n"
     ]
    },
    {
     "name": "stdout",
     "output_type": "stream",
     "text": [
      "[SNOPT IRIS Worker]: Region:2 / 3\n",
      "[SNOPT IRIS Worker]: Region:2 / 3\n",
      "[SNOPT IRIS Worker]: Region:2 / 3\n",
      "[SNOPT IRIS Worker]: Region:2 / 3\n",
      "[SNOPT IRIS Worker]: Region:2 / 3\n",
      "[SNOPT IRIS Worker]: Region:2 / 3\n",
      "[SNOPT IRIS Worker]: Region:2 / 3\n",
      "[SNOPT IRIS Worker]: Region:1 / 3\n"
     ]
    },
    {
     "name": "stderr",
     "output_type": "stream",
     "text": [
      "INFO:drake:IrisInConfigurationSpace iteration 0\n"
     ]
    },
    {
     "name": "stdout",
     "output_type": "stream",
     "text": [
      "[SNOPT IRIS Worker]: Region:2 / 3\n",
      "[SNOPT IRIS Worker]: Region:2 / 3\n",
      "[SNOPT IRIS Worker]: Region:2 / 3\n",
      "[SNOPT IRIS Worker]: Region:2 / 3\n"
     ]
    }
   ],
   "source": [
    "seed_points, metrics, _ = get_iris_metrics([q_tot[c] for c in cliques_tot], col_hnd)\n",
    "regions_red, succs_sp, is_full = iris_handle(seed_points, metrics, [])"
   ]
  },
  {
   "cell_type": "code",
   "execution_count": 24,
   "metadata": {},
   "outputs": [
    {
     "name": "stderr",
     "output_type": "stream",
     "text": [
      "100%|██████████| 100/100 [00:29<00:00,  3.43it/s]\n"
     ]
    }
   ],
   "source": [
    "from task_space_seeding_utils import solve_ik_problem\n",
    "from visibility_utils import sample_in_union_of_polytopes\n",
    "from pydrake.all import AngleAxis\n",
    "from tqdm import tqdm\n",
    "\n",
    "def sample_grasp_pose(preferred_axis_alignment,\n",
    "                       q0, \n",
    "                       plant,\n",
    "                       plant_context,\n",
    "                       frame_names,\n",
    "                       offsets, \n",
    "                       cvx_hulls_of_ROI,\n",
    "                       ts_min, #bounding box in task space to sample in\n",
    "                       ts_max,\n",
    "                       collision_free = True, \n",
    "                       track_orientation = True):\n",
    "    sc = np.ones(3)\n",
    "    sc[preferred_axis_alignment] = 20\n",
    "    for _ in range(1000):\n",
    "        vecs = np.random.randn(1,3)*sc\n",
    "        vecs = vecs/np.linalg.norm(vecs)\n",
    "        angs = 0*np.pi*(np.random.rand(1)-0.5)\n",
    "        if preferred_axis_alignment ==2:\n",
    "            rot_corr = RotationMatrix.MakeXRotation(-np.pi/2)\n",
    "        if preferred_axis_alignment == 0:\n",
    "            rot_corr = RotationMatrix.MakeZRotation(-np.pi/2)\n",
    "        rotmat =  rot_corr@ RotationMatrix(AngleAxis(angs[0], vecs[0,:]) )\n",
    "        t_point = sample_in_union_of_polytopes(1, cvx_hulls_of_ROI, [ts_min, ts_max]).squeeze()\n",
    "        frames = [plant.GetFrameByName(f) for f in frame_names]\n",
    "        res = solve_ik_problem([RigidTransform(rotmat, t_point)], \n",
    "                                q0= q0,\n",
    "                                plant_ik=plant,\n",
    "                                plant_context_ik=plant_context,\n",
    "                                frames=frames,\n",
    "                                offsets=offsets,\n",
    "                                collision_free = collision_free,\n",
    "                                track_orientation =track_orientation)\n",
    "        if res is not None:\n",
    "            return  res, t_point\n",
    "    return None\n",
    "\n",
    "geom_names = [#'bin_base', \n",
    "              #'bin_base', \n",
    "              'shelves_body']\n",
    "model_names = [#'binL', \n",
    "               #'binR', \n",
    "               'shelves']\n",
    "default_pos = [#np.array([ 1.53294,  0.4056 ,  0.23294, -0.5944 ,0.,0.9056 ,0.]),\n",
    "               #np.array([-1.53294,  0.4056 ,  0.23294, -0.5944 ,0.,  0.9056 ,0. ]),\n",
    "                np.array([ 0., -0.08940423,  0., -1.7087849,  0., 1.32867852,  0.])]\n",
    "axis_alignments = [#2,\n",
    "                   #2,\n",
    "                   0]\n",
    "AABB_sampling_regions = []\n",
    "N_test_points = 100 \n",
    "q_test_obj = []\n",
    "t_test_obj = []\n",
    "for i, (g, m) in enumerate(zip(geom_names, model_names)):\n",
    "    cvx_hulls_of_ROI, bodies = get_cvx_hulls_of_bodies([g], [m], plant, scene_graph, scene_graph_context, scaling = 1.0)\n",
    "    ts_min, ts_max, cvxh_hpoly = get_AABB_cvxhull(cvx_hulls_of_ROI)\n",
    "    q0  = default_pos[i] #np.zeros(7)\n",
    "    \n",
    "    q_grasp, t_grasp = [],[]\n",
    "    for _ in tqdm(range(N_test_points)):\n",
    "        qr, tr = sample_grasp_pose(axis_alignments[i],\n",
    "                        q0,\n",
    "                        plant,\n",
    "                        plant_context,\n",
    "                        ['body'],\n",
    "                        offsets = [np.array([0,0.1,0])],\n",
    "                        cvx_hulls_of_ROI = cvx_hulls_of_ROI,\n",
    "                        ts_min =ts_min,\n",
    "                        ts_max = ts_max,)\n",
    "        q_grasp.append(qr)\n",
    "        t_grasp.append(tr) \n",
    "    q_test_obj.append(q_grasp)\n",
    "    t_test_obj.append(t_grasp)"
   ]
  },
  {
   "cell_type": "code",
   "execution_count": 25,
   "metadata": {},
   "outputs": [],
   "source": [
    "from visibility_utils import point_in_regions\n",
    "inreg = []\n",
    "inreg_q = []\n",
    "for tpt, pt in zip(t_test_obj[0],q_test_obj[0]):\n",
    "    if point_in_regions(pt, regions_red):\n",
    "        inreg.append(tpt)\n",
    "        inreg_q.append(pt)\n",
    "plot_points(meshcat, np.array(inreg), 'inregions', size = 0.01, color = Rgba(0,1,0,1))"
   ]
  },
  {
   "cell_type": "code",
   "execution_count": 43,
   "metadata": {},
   "outputs": [
    {
     "data": {
      "text/plain": [
       "(15, 7)"
      ]
     },
     "execution_count": 43,
     "metadata": {},
     "output_type": "execute_result"
    }
   ],
   "source": [
    "q.shape"
   ]
  },
  {
   "cell_type": "code",
   "execution_count": 41,
   "metadata": {},
   "outputs": [
    {
     "data": {
      "text/plain": [
       "KMeans(n_clusters=5)"
      ]
     },
     "execution_count": 41,
     "metadata": {},
     "output_type": "execute_result"
    }
   ],
   "source": [
    "best_clustering"
   ]
  },
  {
   "cell_type": "code",
   "execution_count": 21,
   "metadata": {},
   "outputs": [
    {
     "name": "stdout",
     "output_type": "stream",
     "text": [
      "cliques: 7\n",
      "clusters: 5\n",
      "mean cluster size: 101.0\n",
      "mean clique size: 49.0\n",
      "num cliques: 7\n",
      "num clusters: 5\n"
     ]
    }
   ],
   "source": []
  },
  {
   "cell_type": "code",
   "execution_count": 47,
   "metadata": {},
   "outputs": [],
   "source": []
  },
  {
   "cell_type": "code",
   "execution_count": 33,
   "metadata": {},
   "outputs": [
    {
     "data": {
      "text/plain": [
       "(550, 7)"
      ]
     },
     "execution_count": 33,
     "metadata": {},
     "output_type": "execute_result"
    }
   ],
   "source": [
    "q_dense_obj[0].shape"
   ]
  },
  {
   "cell_type": "code",
   "execution_count": 48,
   "metadata": {},
   "outputs": [
    {
     "name": "stderr",
     "output_type": "stream",
     "text": [
      "INFO:drake:MinimumVolumeCircumscribedEllipsoid solved with Mosek\n",
      "INFO:drake:MinimumVolumeCircumscribedEllipsoid solved with Mosek\n",
      "INFO:drake:MinimumVolumeCircumscribedEllipsoid solved with Mosek\n",
      "INFO:drake:MinimumVolumeCircumscribedEllipsoid solved with Mosek\n",
      "INFO:drake:MinimumVolumeCircumscribedEllipsoid solved with Mosek\n",
      "INFO:drake:MinimumVolumeCircumscribedEllipsoid solved with Mosek\n",
      "INFO:drake:MinimumVolumeCircumscribedEllipsoid solved with Mosek\n",
      "INFO:drake:MinimumVolumeCircumscribedEllipsoid solved with Mosek\n",
      "INFO:drake:MinimumVolumeCircumscribedEllipsoid solved with Mosek\n",
      "INFO:drake:MinimumVolumeCircumscribedEllipsoid solved with Mosek\n",
      "INFO:drake:MinimumVolumeCircumscribedEllipsoid solved with Mosek\n",
      "INFO:drake:MinimumVolumeCircumscribedEllipsoid solved with Mosek\n",
      "INFO:drake:MinimumVolumeCircumscribedEllipsoid solved with Mosek\n",
      "INFO:drake:MinimumVolumeCircumscribedEllipsoid solved with Mosek\n",
      "INFO:drake:MinimumVolumeCircumscribedEllipsoid solved with Mosek\n",
      "INFO:drake:MinimumVolumeCircumscribedEllipsoid solved with Mosek\n",
      "INFO:drake:MinimumVolumeCircumscribedEllipsoid solved with Mosek\n",
      "INFO:drake:MinimumVolumeCircumscribedEllipsoid solved with Mosek\n",
      "INFO:drake:MinimumVolumeCircumscribedEllipsoid solved with Mosek\n",
      "INFO:drake:MinimumVolumeCircumscribedEllipsoid solved with Mosek\n",
      "INFO:drake:MinimumVolumeCircumscribedEllipsoid solved with Mosek\n",
      "INFO:drake:MinimumVolumeCircumscribedEllipsoid solved with Mosek\n",
      "INFO:drake:MinimumVolumeCircumscribedEllipsoid solved with Mosek\n",
      "INFO:drake:MinimumVolumeCircumscribedEllipsoid solved with Mosek\n",
      "INFO:drake:MinimumVolumeCircumscribedEllipsoid solved with Mosek\n",
      "INFO:drake:MinimumVolumeCircumscribedEllipsoid solved with Mosek\n",
      "INFO:drake:MinimumVolumeCircumscribedEllipsoid solved with Mosek\n",
      "INFO:drake:MinimumVolumeCircumscribedEllipsoid solved with Mosek\n",
      "INFO:drake:MinimumVolumeCircumscribedEllipsoid solved with Mosek\n",
      "INFO:drake:MinimumVolumeCircumscribedEllipsoid solved with Mosek\n",
      "INFO:drake:MinimumVolumeCircumscribedEllipsoid solved with Mosek\n",
      "INFO:drake:MinimumVolumeCircumscribedEllipsoid solved with Mosek\n",
      "INFO:drake:MinimumVolumeCircumscribedEllipsoid solved with Mosek\n",
      "INFO:drake:MinimumVolumeCircumscribedEllipsoid solved with Mosek\n",
      "INFO:drake:MinimumVolumeCircumscribedEllipsoid solved with Mosek\n",
      "INFO:drake:MinimumVolumeCircumscribedEllipsoid solved with Mosek\n",
      "INFO:drake:MinimumVolumeCircumscribedEllipsoid solved with Mosek\n",
      "INFO:drake:MinimumVolumeCircumscribedEllipsoid solved with Mosek\n",
      "INFO:drake:MinimumVolumeCircumscribedEllipsoid solved with Mosek\n",
      "INFO:drake:MinimumVolumeCircumscribedEllipsoid solved with Mosek\n",
      "INFO:drake:MinimumVolumeCircumscribedEllipsoid solved with Mosek\n",
      "INFO:drake:MinimumVolumeCircumscribedEllipsoid solved with Mosek\n",
      "INFO:drake:MinimumVolumeCircumscribedEllipsoid solved with Mosek\n",
      "INFO:drake:MinimumVolumeCircumscribedEllipsoid solved with Mosek\n",
      "INFO:drake:MinimumVolumeCircumscribedEllipsoid solved with Mosek\n",
      "INFO:drake:MinimumVolumeCircumscribedEllipsoid solved with Mosek\n",
      "INFO:drake:MinimumVolumeCircumscribedEllipsoid solved with Mosek\n",
      "INFO:drake:MinimumVolumeCircumscribedEllipsoid solved with Mosek\n",
      "INFO:drake:MinimumVolumeCircumscribedEllipsoid solved with Mosek\n",
      "INFO:drake:MinimumVolumeCircumscribedEllipsoid solved with Mosek\n",
      "INFO:drake:MinimumVolumeCircumscribedEllipsoid solved with Mosek\n",
      "INFO:drake:MinimumVolumeCircumscribedEllipsoid solved with Mosek\n",
      "INFO:drake:MinimumVolumeCircumscribedEllipsoid solved with Mosek\n",
      "INFO:drake:MinimumVolumeCircumscribedEllipsoid solved with Mosek\n",
      "INFO:drake:MinimumVolumeCircumscribedEllipsoid solved with Mosek\n",
      "INFO:drake:MinimumVolumeCircumscribedEllipsoid solved with Mosek\n",
      "INFO:drake:MinimumVolumeCircumscribedEllipsoid solved with Mosek\n",
      "INFO:drake:MinimumVolumeCircumscribedEllipsoid solved with Mosek\n",
      "INFO:drake:MinimumVolumeCircumscribedEllipsoid solved with Mosek\n",
      "INFO:drake:MinimumVolumeCircumscribedEllipsoid solved with Mosek\n",
      "INFO:drake:MinimumVolumeCircumscribedEllipsoid solved with Mosek\n",
      "INFO:drake:MinimumVolumeCircumscribedEllipsoid solved with Mosek\n",
      "INFO:drake:MinimumVolumeCircumscribedEllipsoid solved with Mosek\n",
      "INFO:drake:MinimumVolumeCircumscribedEllipsoid solved with Mosek\n",
      "INFO:drake:MinimumVolumeCircumscribedEllipsoid solved with Mosek\n",
      "INFO:drake:MinimumVolumeCircumscribedEllipsoid solved with Mosek\n",
      "INFO:drake:MinimumVolumeCircumscribedEllipsoid solved with Mosek\n",
      "INFO:drake:MinimumVolumeCircumscribedEllipsoid solved with Mosek\n",
      "INFO:drake:MinimumVolumeCircumscribedEllipsoid solved with Mosek\n",
      "INFO:drake:MinimumVolumeCircumscribedEllipsoid solved with Mosek\n",
      "INFO:drake:MinimumVolumeCircumscribedEllipsoid solved with Mosek\n",
      "INFO:drake:MinimumVolumeCircumscribedEllipsoid solved with Mosek\n",
      "INFO:drake:MinimumVolumeCircumscribedEllipsoid solved with Mosek\n",
      "INFO:drake:MinimumVolumeCircumscribedEllipsoid solved with Mosek\n",
      "INFO:drake:MinimumVolumeCircumscribedEllipsoid solved with Mosek\n",
      "INFO:drake:MinimumVolumeCircumscribedEllipsoid solved with Mosek\n",
      "INFO:drake:MinimumVolumeCircumscribedEllipsoid solved with Mosek\n",
      "INFO:drake:MinimumVolumeCircumscribedEllipsoid solved with Mosek\n",
      "INFO:drake:MinimumVolumeCircumscribedEllipsoid solved with Mosek\n",
      "INFO:drake:MinimumVolumeCircumscribedEllipsoid solved with Mosek\n",
      "INFO:drake:MinimumVolumeCircumscribedEllipsoid solved with Mosek\n",
      "INFO:drake:MinimumVolumeCircumscribedEllipsoid solved with Mosek\n",
      "INFO:drake:MinimumVolumeCircumscribedEllipsoid solved with Mosek\n",
      "INFO:drake:MinimumVolumeCircumscribedEllipsoid solved with Mosek\n",
      "INFO:drake:MinimumVolumeCircumscribedEllipsoid solved with Mosek\n",
      "INFO:drake:MinimumVolumeCircumscribedEllipsoid solved with Mosek\n",
      "INFO:drake:MinimumVolumeCircumscribedEllipsoid solved with Mosek\n",
      "INFO:drake:MinimumVolumeCircumscribedEllipsoid solved with Mosek\n",
      "INFO:drake:MinimumVolumeCircumscribedEllipsoid solved with Mosek\n",
      "INFO:drake:MinimumVolumeCircumscribedEllipsoid solved with Mosek\n",
      "INFO:drake:MinimumVolumeCircumscribedEllipsoid solved with Mosek\n",
      "INFO:drake:MinimumVolumeCircumscribedEllipsoid solved with Mosek\n",
      "INFO:drake:MinimumVolumeCircumscribedEllipsoid solved with Mosek\n",
      "INFO:drake:MinimumVolumeCircumscribedEllipsoid solved with Mosek\n",
      "INFO:drake:MinimumVolumeCircumscribedEllipsoid solved with Mosek\n",
      "INFO:drake:MinimumVolumeCircumscribedEllipsoid solved with Mosek\n",
      "INFO:drake:MinimumVolumeCircumscribedEllipsoid solved with Mosek\n",
      "INFO:drake:MinimumVolumeCircumscribedEllipsoid solved with Mosek\n",
      "INFO:drake:MinimumVolumeCircumscribedEllipsoid solved with Mosek\n",
      "INFO:drake:MinimumVolumeCircumscribedEllipsoid solved with Mosek\n",
      "INFO:drake:MinimumVolumeCircumscribedEllipsoid solved with Mosek\n"
     ]
    }
   ],
   "source": [
    "ells = []\n",
    "for c in cliques_tot:\n",
    "    clique_points = q_tot[c]\n",
    "    ells +=  [Hyperellipsoid.MinimumVolumeCircumscribedEllipsoid(clique_points)]\n"
   ]
  },
  {
   "cell_type": "code",
   "execution_count": 49,
   "metadata": {},
   "outputs": [],
   "source": [
    "min_eigs = []\n",
    "max_eigs = []\n",
    "ratios = []\n",
    "\n",
    "for e in ells:\n",
    "    eigs = np.linalg.eig(e.A()@e.A().T)[0]    \n",
    "    #print(len(eigs))\n",
    "    maxe = np.max(eigs)\n",
    "    mine = np.min(eigs)\n",
    "    ratio = maxe/mine\n",
    "    ratios += [ratio]\n",
    "    min_eigs +=[min_eigs]\n",
    "    max_eigs +=[max_eigs]"
   ]
  },
  {
   "cell_type": "code",
   "execution_count": 50,
   "metadata": {},
   "outputs": [
    {
     "data": {
      "text/plain": [
       "Text(0.5, 1.0, 'eigen value ratios of ellipsoids, clipped at 1e4')"
      ]
     },
     "execution_count": 50,
     "metadata": {},
     "output_type": "execute_result"
    },
    {
     "data": {
      "image/png": "[encoded data removed]",
      "text/plain": [
       "<Figure size 432x288 with 1 Axes>"
      ]
     },
     "metadata": {
      "needs_background": "light"
     },
     "output_type": "display_data"
    }
   ],
   "source": [
    "import matplotlib.pyplot as plt\n",
    "\n",
    "plt.figure()\n",
    "bins = plt.hist(np.clip(ratios,a_min = 0, a_max = 1e4))\n",
    "plt.xlabel('max eig / min eig')\n",
    "plt.ylabel(f\"number of ellipsoids (total {len(ratios)}) \")\n",
    "plt.title('eigen value ratios of ellipsoids, clipped at 1e4')"
   ]
  },
  {
   "cell_type": "code",
   "execution_count": null,
   "metadata": {},
   "outputs": [],
   "source": [
    "RUNNING THEORY: CLUSTER CONTAIN MULTIPLE IK SOLUTIONS DENSIFYIUNG THEM MAKES THE CONDITIUON NUMBERS OF THE ELLIPOSIDS MUCH BETTER."
   ]
  },
  {
   "cell_type": "code",
   "execution_count": 27,
   "metadata": {},
   "outputs": [
    {
     "data": {
      "text/plain": [
       "(9300, 7)"
      ]
     },
     "execution_count": 27,
     "metadata": {},
     "output_type": "execute_result"
    }
   ],
   "source": []
  },
  {
   "cell_type": "code",
   "execution_count": null,
   "metadata": {},
   "outputs": [],
   "source": []
  },
  {
   "cell_type": "code",
   "execution_count": null,
   "metadata": {},
   "outputs": [],
   "source": [
    "def col_hnd(pt):\n",
    "        return 1- 1.0*checker.CheckConfigCollisionFree(pt)\n",
    "    seed_points, metrics, _ = get_iris_metrics([q_tot[c] for c in cliques_tot], col_hnd)"
   ]
  },
  {
   "cell_type": "code",
   "execution_count": null,
   "metadata": {},
   "outputs": [],
   "source": []
  },
  {
   "cell_type": "code",
   "execution_count": null,
   "metadata": {},
   "outputs": [],
   "source": []
  },
  {
   "cell_type": "code",
   "execution_count": null,
   "metadata": {},
   "outputs": [],
   "source": []
  },
  {
   "cell_type": "code",
   "execution_count": 48,
   "metadata": {},
   "outputs": [],
   "source": []
  },
  {
   "cell_type": "code",
   "execution_count": 51,
   "metadata": {},
   "outputs": [],
   "source": [
    "meshcat.Delete(f\"/drake/denseseed_2\")"
   ]
  },
  {
   "cell_type": "code",
   "execution_count": 52,
   "metadata": {},
   "outputs": [
    {
     "name": "stdout",
     "output_type": "stream",
     "text": [
      "82\n"
     ]
    }
   ],
   "source": [
    "from visibility_utils import generate_distinct_colors\n",
    "cols = generate_distinct_colors(len(cliques_tot)+5, rgb = True)[5:]\n",
    "cols = [list(c)+[1] for c in cols]\n",
    "\n",
    "for id, c in enumerate(cliques_tot):\n",
    "    plot_points(meshcat, t_tot[c], f\"ct{id}\", size = 0.01, color=Rgba(*cols[id]))\n",
    "for idx in range(len(cliques_tot)):\n",
    "        meshcat.SetProperty(f\"/drake/ct{idx}\", \"visible\", True)\n",
    "print(len(cliques_tot))"
   ]
  },
  {
   "cell_type": "code",
   "execution_count": 53,
   "metadata": {},
   "outputs": [],
   "source": [
    "def densify_waypoints(waypoints_q, densify = 200):\n",
    "    dists = []\n",
    "    dense_waypoints = []\n",
    "    for idx in range(len(waypoints_q[:-1])):\n",
    "        a = waypoints_q[idx]\n",
    "        b = waypoints_q[idx+1]\n",
    "        t = np.linspace(1,0, 10)\n",
    "        locs_endeff = []\n",
    "        dists_endeff = []\n",
    "        for tval in t:\n",
    "            a = a*tval + b*(1-tval)\n",
    "            qa = a#Ratfk.ComputeQValue(ta, np.zeros(7))\n",
    "            #showres(qa)\n",
    "            #time.sleep(0.1)            \n",
    "            plant.SetPositions(plant_context, qa)\n",
    "            tf_tot= plant.EvalBodyPoseInWorld(plant_context, plant.GetBodyByName('body'))\n",
    "            tf = tf_tot.translation() + tf_tot.GetAsMatrix4()[:3,:3][:,1] *0.13\n",
    "            locs_endeff.append(tf)\n",
    "        for i in range(len(locs_endeff)-1):\n",
    "            dists_endeff.append(np.linalg.norm(locs_endeff[i]- locs_endeff[i+1]))\n",
    "        d = np.sum(dists_endeff)\n",
    "        #print(d * densify)\n",
    "        t = np.linspace(1,0,int(densify*d))\n",
    "        for tval in t:\n",
    "            dense_waypoints.append(waypoints_q[idx]*tval + waypoints_q[idx+1]*(1-tval))\n",
    "    return dense_waypoints\n",
    "\n",
    "def plot_endeff_traj(dense_waypoints, name = '', color= (1,0,0,1)):\n",
    "    color = Rgba(color[0], color[1], color[2], color[3])\n",
    "    start_idx = 0\n",
    "    for i, qa in enumerate(dense_waypoiseed_points, metrics, _ = get_iris_metrics([q_tot[c] for c in cliques_tot], col_hnd)\n",
    "    regions_red, succs_sp, is_full = iris_handle(seed_points, metrics, [])nts):\n",
    "        #qa = Ratfk.ComputeQValue(ta, np.zeros(7))\n",
    "        #showres(qa)\n",
    "        #time.sleep(0.1)            \n",
    "        plant.SetPositions(plant_context, qa)\n",
    "        tf_tot= plant.EvalBodyPoseInWorld(plant_context, plant.GetBodyByName('body'))\n",
    "        tf = tf_tot.translation() + tf_tot.GetAsMatrix4()[:3,:3][:,1] *0.13\n",
    "\n",
    "        meshcat.SetObject(f\"/iris/points/traj/{name}/{i+start_idx}\",\n",
    "                               Sphere(0.01),\n",
    "                               color)\n",
    "\n",
    "        meshcat.SetTransform(f\"/iris/points/traj/{name}/{i+start_idx}\",\n",
    "                                   RigidTransform(RotationMatrix(),\n",
    "                                                  tf))"
   ]
  },
  {
   "cell_type": "code",
   "execution_count": 26,
   "metadata": {},
   "outputs": [
    {
     "data": {
      "text/plain": [
       "106"
      ]
     },
     "execution_count": 26,
     "metadata": {},
     "output_type": "execute_result"
    }
   ],
   "source": [
    "len(cliques_tot)"
   ]
  },
  {
   "cell_type": "code",
   "execution_count": 54,
   "metadata": {},
   "outputs": [],
   "source": [
    "clique_idx = 0\n",
    "for clique_idx in range(len(cliques_tot)):\n",
    "    for idx in range(len(cliques_tot)):\n",
    "        meshcat.SetProperty(f\"/drake/ct{idx}\", \"visible\", False)\n",
    "    meshcat.SetProperty(f\"/drake/ct{clique_idx}\", \"visible\", True)\n",
    "        \n",
    "    cliques_vis = cliques_tot[clique_idx]\n",
    "    start = q_tot[cliques_vis[0]]\n",
    "    target = q_tot[cliques_vis[np.random.randint(len(cliques_vis))]]\n",
    "    showres(target)\n",
    "    for i in range(3):\n",
    "        wpd = densify_waypoints([start, target], 50)\n",
    "        #print(f\"norm {np.linalg.norm(start-target)}\")\n",
    "        plot_endeff_traj(wpd, 'p', cols[clique_idx])\n",
    "        for qa in wpd:\n",
    "            showres(qa)\n",
    "            #diagram_context.SetTime(cur_time)\n",
    "            # if col_func_handle(qa):\n",
    "            #     print('col')\n",
    "            # cur_time+=frame_time\n",
    "            time.sleep(0.01)\n",
    "        meshcat.Delete('/iris/points/traj')\n",
    "        start = target\n",
    "        target = q_tot[cliques_vis[np.random.randint(len(cliques_vis))]]"
   ]
  },
  {
   "cell_type": "code",
   "execution_count": 51,
   "metadata": {},
   "outputs": [
    {
     "name": "stderr",
     "output_type": "stream",
     "text": [
      "INFO:drake:MinimumVolumeCircumscribedEllipsoid solved with Mosek\n",
      "INFO:drake:MinimumVolumeCircumscribedEllipsoid solved with Mosek\n",
      "INFO:drake:MinimumVolumeCircumscribedEllipsoid solved with Mosek\n",
      "INFO:drake:MinimumVolumeCircumscribedEllipsoid solved with Mosek\n",
      "INFO:drake:MinimumVolumeCircumscribedEllipsoid solved with Mosek\n",
      "INFO:drake:MinimumVolumeCircumscribedEllipsoid solved with Mosek\n",
      "INFO:drake:MinimumVolumeCircumscribedEllipsoid solved with Mosek\n",
      "INFO:drake:MinimumVolumeCircumscribedEllipsoid solved with Mosek\n",
      "INFO:drake:MinimumVolumeCircumscribedEllipsoid solved with Mosek\n",
      "INFO:drake:MinimumVolumeCircumscribedEllipsoid solved with Mosek\n",
      "INFO:drake:MinimumVolumeCircumscribedEllipsoid solved with Mosek\n",
      "INFO:drake:MinimumVolumeCircumscribedEllipsoid solved with Mosek\n",
      "INFO:drake:MinimumVolumeCircumscribedEllipsoid solved with Mosek\n",
      "INFO:drake:MinimumVolumeCircumscribedEllipsoid solved with Mosek\n",
      "INFO:drake:MinimumVolumeCircumscribedEllipsoid solved with Mosek\n",
      "INFO:drake:MinimumVolumeCircumscribedEllipsoid solved with Mosek\n",
      "INFO:drake:MinimumVolumeCircumscribedEllipsoid solved with Mosek\n",
      "INFO:drake:MinimumVolumeCircumscribedEllipsoid solved with Mosek\n",
      "INFO:drake:MinimumVolumeCircumscribedEllipsoid solved with Mosek\n",
      "INFO:drake:MinimumVolumeCircumscribedEllipsoid solved with Mosek\n",
      "INFO:drake:MinimumVolumeCircumscribedEllipsoid solved with Mosek\n",
      "INFO:drake:MinimumVolumeCircumscribedEllipsoid solved with Mosek\n",
      "INFO:drake:MinimumVolumeCircumscribedEllipsoid solved with Mosek\n",
      "INFO:drake:MinimumVolumeCircumscribedEllipsoid solved with Mosek\n",
      "INFO:drake:MinimumVolumeCircumscribedEllipsoid solved with Mosek\n",
      "INFO:drake:MinimumVolumeCircumscribedEllipsoid solved with Mosek\n",
      "INFO:drake:MinimumVolumeCircumscribedEllipsoid solved with Mosek\n",
      "INFO:drake:MinimumVolumeCircumscribedEllipsoid solved with Mosek\n"
     ]
    },
    {
     "name": "stdout",
     "output_type": "stream",
     "text": [
      "oh well\n"
     ]
    },
    {
     "name": "stderr",
     "output_type": "stream",
     "text": [
      "INFO:drake:MinimumVolumeCircumscribedEllipsoid solved with Mosek\n",
      "INFO:drake:MinimumVolumeCircumscribedEllipsoid solved with Mosek\n",
      "INFO:drake:MinimumVolumeCircumscribedEllipsoid solved with Mosek\n",
      "INFO:drake:MinimumVolumeCircumscribedEllipsoid solved with Mosek\n",
      "INFO:drake:MinimumVolumeCircumscribedEllipsoid solved with Mosek\n",
      "INFO:drake:MinimumVolumeCircumscribedEllipsoid solved with Mosek\n",
      "INFO:drake:MinimumVolumeCircumscribedEllipsoid solved with Mosek\n",
      "INFO:drake:MinimumVolumeCircumscribedEllipsoid solved with Mosek\n",
      "INFO:drake:MinimumVolumeCircumscribedEllipsoid solved with Mosek\n",
      "INFO:drake:MinimumVolumeCircumscribedEllipsoid solved with Mosek\n",
      "INFO:drake:MinimumVolumeCircumscribedEllipsoid solved with Mosek\n",
      "INFO:drake:MinimumVolumeCircumscribedEllipsoid solved with Mosek\n",
      "INFO:drake:MinimumVolumeCircumscribedEllipsoid solved with Mosek\n",
      "INFO:drake:MinimumVolumeCircumscribedEllipsoid solved with Mosek\n",
      "INFO:drake:MinimumVolumeCircumscribedEllipsoid solved with Mosek\n",
      "INFO:drake:MinimumVolumeCircumscribedEllipsoid solved with Mosek\n",
      "INFO:drake:MinimumVolumeCircumscribedEllipsoid solved with Mosek\n",
      "INFO:drake:MinimumVolumeCircumscribedEllipsoid solved with Mosek\n",
      "INFO:drake:MinimumVolumeCircumscribedEllipsoid solved with Mosek\n",
      "INFO:drake:MinimumVolumeCircumscribedEllipsoid solved with Mosek\n",
      "INFO:drake:MinimumVolumeCircumscribedEllipsoid solved with Mosek\n",
      "INFO:drake:MinimumVolumeCircumscribedEllipsoid solved with Mosek\n",
      "INFO:drake:MinimumVolumeCircumscribedEllipsoid solved with Mosek\n",
      "INFO:drake:MinimumVolumeCircumscribedEllipsoid solved with Mosek\n",
      "INFO:drake:MinimumVolumeCircumscribedEllipsoid solved with Mosek\n",
      "INFO:drake:MinimumVolumeCircumscribedEllipsoid solved with Mosek\n",
      "INFO:drake:MinimumVolumeCircumscribedEllipsoid solved with Mosek\n",
      "INFO:drake:MinimumVolumeCircumscribedEllipsoid solved with Mosek\n",
      "INFO:drake:MinimumVolumeCircumscribedEllipsoid solved with Mosek\n",
      "INFO:drake:MinimumVolumeCircumscribedEllipsoid solved with Mosek\n",
      "INFO:drake:MinimumVolumeCircumscribedEllipsoid solved with Mosek\n",
      "INFO:drake:MinimumVolumeCircumscribedEllipsoid solved with Mosek\n",
      "INFO:drake:MinimumVolumeCircumscribedEllipsoid solved with Mosek\n",
      "INFO:drake:MinimumVolumeCircumscribedEllipsoid solved with Mosek\n",
      "INFO:drake:MinimumVolumeCircumscribedEllipsoid solved with Mosek\n",
      "INFO:drake:MinimumVolumeCircumscribedEllipsoid solved with Mosek\n",
      "INFO:drake:MinimumVolumeCircumscribedEllipsoid solved with Mosek\n",
      "INFO:drake:MinimumVolumeCircumscribedEllipsoid solved with Mosek\n",
      "INFO:drake:MinimumVolumeCircumscribedEllipsoid solved with Mosek\n",
      "INFO:drake:MinimumVolumeCircumscribedEllipsoid solved with Mosek\n",
      "INFO:drake:MinimumVolumeCircumscribedEllipsoid solved with Mosek\n",
      "INFO:drake:MinimumVolumeCircumscribedEllipsoid solved with Mosek\n",
      "INFO:drake:MinimumVolumeCircumscribedEllipsoid solved with Mosek\n",
      "INFO:drake:MinimumVolumeCircumscribedEllipsoid solved with Mosek\n",
      "INFO:drake:MinimumVolumeCircumscribedEllipsoid solved with Mosek\n",
      "INFO:drake:MinimumVolumeCircumscribedEllipsoid solved with Mosek\n",
      "INFO:drake:MinimumVolumeCircumscribedEllipsoid solved with Mosek\n",
      "INFO:drake:MinimumVolumeCircumscribedEllipsoid solved with Mosek\n",
      "INFO:drake:MinimumVolumeCircumscribedEllipsoid solved with Mosek\n",
      "INFO:drake:MinimumVolumeCircumscribedEllipsoid solved with Mosek\n",
      "INFO:drake:MinimumVolumeCircumscribedEllipsoid solved with Mosek\n",
      "INFO:drake:MinimumVolumeCircumscribedEllipsoid solved with Mosek\n",
      "INFO:drake:MinimumVolumeCircumscribedEllipsoid solved with Mosek\n",
      "INFO:drake:MinimumVolumeCircumscribedEllipsoid solved with Mosek\n",
      "INFO:drake:MinimumVolumeCircumscribedEllipsoid solved with Mosek\n",
      "INFO:drake:MinimumVolumeCircumscribedEllipsoid solved with Mosek\n",
      "INFO:drake:MinimumVolumeCircumscribedEllipsoid solved with Mosek\n",
      "INFO:drake:MinimumVolumeCircumscribedEllipsoid solved with Mosek\n",
      "INFO:drake:MinimumVolumeCircumscribedEllipsoid solved with Mosek\n",
      "INFO:drake:MinimumVolumeCircumscribedEllipsoid solved with Mosek\n",
      "INFO:drake:MinimumVolumeCircumscribedEllipsoid solved with Mosek\n"
     ]
    },
    {
     "name": "stdout",
     "output_type": "stream",
     "text": [
      "oh well\n",
      "oh well\n",
      "oh well\n",
      "oh well\n",
      "oh well\n"
     ]
    },
    {
     "name": "stderr",
     "output_type": "stream",
     "text": [
      "INFO:drake:MinimumVolumeCircumscribedEllipsoid solved with Mosek\n",
      "INFO:drake:MinimumVolumeCircumscribedEllipsoid solved with Mosek\n",
      "INFO:drake:MinimumVolumeCircumscribedEllipsoid solved with Mosek\n",
      "INFO:drake:MinimumVolumeCircumscribedEllipsoid solved with Mosek\n",
      "INFO:drake:MinimumVolumeCircumscribedEllipsoid solved with Mosek\n",
      "INFO:drake:MinimumVolumeCircumscribedEllipsoid solved with Mosek\n",
      "INFO:drake:MinimumVolumeCircumscribedEllipsoid solved with Mosek\n",
      "INFO:drake:MinimumVolumeCircumscribedEllipsoid solved with Mosek\n",
      "INFO:drake:MinimumVolumeCircumscribedEllipsoid solved with Mosek\n",
      "INFO:drake:MinimumVolumeCircumscribedEllipsoid solved with Mosek\n",
      "INFO:drake:MinimumVolumeCircumscribedEllipsoid solved with Mosek\n",
      "INFO:drake:MinimumVolumeCircumscribedEllipsoid solved with Mosek\n"
     ]
    },
    {
     "name": "stdout",
     "output_type": "stream",
     "text": [
      "oh well\n",
      "oh well\n",
      "oh well\n",
      "oh well\n"
     ]
    }
   ],
   "source": [
    "regs_cvxh = []\n",
    "cond_worked = []\n",
    "cond_failed = []\n",
    "eigs_w = []\n",
    "for c in cliques_tot:\n",
    "    clique_points = q_tot[c]\n",
    "    ell =  Hyperellipsoid.MinimumVolumeCircumscribedEllipsoid(clique_points.T)\n",
    "    if ell.A().shape[1] ==7:\n",
    "        eigs = np.linalg.eig(ell.A().T@ell.A()+np.eye(7)*1e-10)[0]\n",
    "    try:\n",
    "        regs_cvxh+= [HPolyhedron(VPolytope(q_tot[c].T))]    \n",
    "    except:\n",
    "        print(f\"oh well\")    "
   ]
  },
  {
   "cell_type": "code",
   "execution_count": 52,
   "metadata": {},
   "outputs": [
    {
     "name": "stdout",
     "output_type": "stream",
     "text": [
      "[0.0, 0.0, 0.0, 0.0, 0.0, 0.0, 0.0, 0.0001, 0.0, 0.0, 0.0, 0.0001, 0.0001, 0.0, 0.0, 0.0002, 0.0001, 0.0001, 0.0, 0.0001, 0.0, 0.0, 0.0, 0.0, 0.0001, 0.0, 0.0, 0.0, 0.0, 0.0011, 0.0005, 0.0, 0.0, 0.0, 0.0, 0.0002, 0.0003, 0.0, 0.0003, 0.0, 0.0, 0.0005, 0.0, 0.0, 0.0, 0.0003, 0.0, 0.0, 0.0, 0.0, 0.0, 0.0, 0.0, 0.0, 0.0, 0.0, 0.0, 0.0, 0.0002, 0.0001, 0.0, 0.0, 0.0, 0.0, 0.0, 0.0, 0.0, 0.0, 0.0, 0.0002, 0.0, 0.0, 0.0, 0.0, 0.0, 0.0, 0.0, 0.0, 0.0003, 0.0, 0.0, 0.0, 0.0001, 0.0, 0.0002, 0.0, 0.0, 0.0, 0.0, 0.0, 0.0]\n"
     ]
    }
   ],
   "source": [
    "from pydrake.all import RandomGenerator\n",
    "gen = RandomGenerator(4)\n",
    "Ns = 10000\n",
    "s_reg = []\n",
    "for r in regs_cvxh:\n",
    "    samps = []\n",
    "    for _ in range(Ns):\n",
    "        if len(samps):\n",
    "            samps.append(r.UniformSample(gen, samps[-1]))\n",
    "        else:\n",
    "            \n",
    "            samps.append(r.UniformSample(gen))\n",
    "    s_reg.append(samps)\n",
    "\n",
    "frac_vol_in_collision = []\n",
    "for s in s_reg:\n",
    "    tot_col = 0\n",
    "    for pt in s:\n",
    "        if not checker.CheckConfigCollisionFree(pt):\n",
    "            tot_col+=1\n",
    "    frac_vol_in_collision.append(tot_col/Ns)\n",
    "\n",
    "print(frac_vol_in_collision)"
   ]
  },
  {
   "cell_type": "code",
   "execution_count": 30,
   "metadata": {},
   "outputs": [
    {
     "data": {
      "text/plain": [
       "[<pydrake.geometry.optimization.HPolyhedron at 0x7f804896e930>,\n",
       " <pydrake.geometry.optimization.HPolyhedron at 0x7f804896ea30>,\n",
       " <pydrake.geometry.optimization.HPolyhedron at 0x7f804896e7f0>,\n",
       " <pydrake.geometry.optimization.HPolyhedron at 0x7f804896ea70>,\n",
       " <pydrake.geometry.optimization.HPolyhedron at 0x7f804896e470>,\n",
       " <pydrake.geometry.optimization.HPolyhedron at 0x7f804896e0f0>,\n",
       " <pydrake.geometry.optimization.HPolyhedron at 0x7f804896e770>,\n",
       " <pydrake.geometry.optimization.HPolyhedron at 0x7f804896e5f0>,\n",
       " <pydrake.geometry.optimization.HPolyhedron at 0x7f804896c9b0>,\n",
       " <pydrake.geometry.optimization.HPolyhedron at 0x7f804896cfb0>,\n",
       " <pydrake.geometry.optimization.HPolyhedron at 0x7f8048909db0>,\n",
       " <pydrake.geometry.optimization.HPolyhedron at 0x7f8048909f30>,\n",
       " <pydrake.geometry.optimization.HPolyhedron at 0x7f8048909830>,\n",
       " <pydrake.geometry.optimization.HPolyhedron at 0x7f80489099b0>,\n",
       " <pydrake.geometry.optimization.HPolyhedron at 0x7f8048909e70>,\n",
       " <pydrake.geometry.optimization.HPolyhedron at 0x7f8048909070>,\n",
       " <pydrake.geometry.optimization.HPolyhedron at 0x7f8048909d30>,\n",
       " <pydrake.geometry.optimization.HPolyhedron at 0x7f8048909cb0>,\n",
       " <pydrake.geometry.optimization.HPolyhedron at 0x7f805a4bba30>,\n",
       " <pydrake.geometry.optimization.HPolyhedron at 0x7f8048909fb0>,\n",
       " <pydrake.geometry.optimization.HPolyhedron at 0x7f8048909a30>,\n",
       " <pydrake.geometry.optimization.HPolyhedron at 0x7f8048948e70>,\n",
       " <pydrake.geometry.optimization.HPolyhedron at 0x7f8048909e30>,\n",
       " <pydrake.geometry.optimization.HPolyhedron at 0x7f8048973bf0>,\n",
       " <pydrake.geometry.optimization.HPolyhedron at 0x7f8048973d70>,\n",
       " <pydrake.geometry.optimization.HPolyhedron at 0x7f8048973cf0>,\n",
       " <pydrake.geometry.optimization.HPolyhedron at 0x7f8048929c30>,\n",
       " <pydrake.geometry.optimization.HPolyhedron at 0x7f804896c4b0>,\n",
       " <pydrake.geometry.optimization.HPolyhedron at 0x7f8048909630>,\n",
       " <pydrake.geometry.optimization.HPolyhedron at 0x7f8048909eb0>,\n",
       " <pydrake.geometry.optimization.HPolyhedron at 0x7f8048929530>,\n",
       " <pydrake.geometry.optimization.HPolyhedron at 0x7f8048909370>,\n",
       " <pydrake.geometry.optimization.HPolyhedron at 0x7f80489b9e70>,\n",
       " <pydrake.geometry.optimization.HPolyhedron at 0x7f80489b9b70>,\n",
       " <pydrake.geometry.optimization.HPolyhedron at 0x7f80489b9630>,\n",
       " <pydrake.geometry.optimization.HPolyhedron at 0x7f80489482b0>,\n",
       " <pydrake.geometry.optimization.HPolyhedron at 0x7f8048929d30>,\n",
       " <pydrake.geometry.optimization.HPolyhedron at 0x7f8048929e70>,\n",
       " <pydrake.geometry.optimization.HPolyhedron at 0x7f8048909930>,\n",
       " <pydrake.geometry.optimization.HPolyhedron at 0x7f804890dcf0>,\n",
       " <pydrake.geometry.optimization.HPolyhedron at 0x7f804890ddf0>,\n",
       " <pydrake.geometry.optimization.HPolyhedron at 0x7f804890df70>,\n",
       " <pydrake.geometry.optimization.HPolyhedron at 0x7f804890def0>,\n",
       " <pydrake.geometry.optimization.HPolyhedron at 0x7f804890dd70>,\n",
       " <pydrake.geometry.optimization.HPolyhedron at 0x7f804890d730>,\n",
       " <pydrake.geometry.optimization.HPolyhedron at 0x7f804890d570>,\n",
       " <pydrake.geometry.optimization.HPolyhedron at 0x7f804890d670>,\n",
       " <pydrake.geometry.optimization.HPolyhedron at 0x7f804890d1f0>,\n",
       " <pydrake.geometry.optimization.HPolyhedron at 0x7f804890d1b0>,\n",
       " <pydrake.geometry.optimization.HPolyhedron at 0x7f804890d6f0>,\n",
       " <pydrake.geometry.optimization.HPolyhedron at 0x7f804890d230>,\n",
       " <pydrake.geometry.optimization.HPolyhedron at 0x7f804890db70>,\n",
       " <pydrake.geometry.optimization.HPolyhedron at 0x7f804890d0b0>,\n",
       " <pydrake.geometry.optimization.HPolyhedron at 0x7f804890d170>,\n",
       " <pydrake.geometry.optimization.HPolyhedron at 0x7f804890dbf0>,\n",
       " <pydrake.geometry.optimization.HPolyhedron at 0x7f804890dc70>,\n",
       " <pydrake.geometry.optimization.HPolyhedron at 0x7f804890d470>,\n",
       " <pydrake.geometry.optimization.HPolyhedron at 0x7f804890d7b0>,\n",
       " <pydrake.geometry.optimization.HPolyhedron at 0x7f804890d0f0>,\n",
       " <pydrake.geometry.optimization.HPolyhedron at 0x7f804890d8f0>,\n",
       " <pydrake.geometry.optimization.HPolyhedron at 0x7f804890d2f0>,\n",
       " <pydrake.geometry.optimization.HPolyhedron at 0x7f80489b9530>,\n",
       " <pydrake.geometry.optimization.HPolyhedron at 0x7f80489b9af0>,\n",
       " <pydrake.geometry.optimization.HPolyhedron at 0x7f804892edf0>,\n",
       " <pydrake.geometry.optimization.HPolyhedron at 0x7f804892e230>,\n",
       " <pydrake.geometry.optimization.HPolyhedron at 0x7f804890d070>,\n",
       " <pydrake.geometry.optimization.HPolyhedron at 0x7f804890d5f0>,\n",
       " <pydrake.geometry.optimization.HPolyhedron at 0x7f804892e930>,\n",
       " <pydrake.geometry.optimization.HPolyhedron at 0x7f804892e470>,\n",
       " <pydrake.geometry.optimization.HPolyhedron at 0x7f80489713b0>,\n",
       " <pydrake.geometry.optimization.HPolyhedron at 0x7f80489717b0>,\n",
       " <pydrake.geometry.optimization.HPolyhedron at 0x7f80489200f0>,\n",
       " <pydrake.geometry.optimization.HPolyhedron at 0x7f8048920bb0>,\n",
       " <pydrake.geometry.optimization.HPolyhedron at 0x7f804892ea70>,\n",
       " <pydrake.geometry.optimization.HPolyhedron at 0x7f8048920d70>,\n",
       " <pydrake.geometry.optimization.HPolyhedron at 0x7f804891cf70>,\n",
       " <pydrake.geometry.optimization.HPolyhedron at 0x7f804891c470>,\n",
       " <pydrake.geometry.optimization.HPolyhedron at 0x7f804891cb70>,\n",
       " <pydrake.geometry.optimization.HPolyhedron at 0x7f804892e370>,\n",
       " <pydrake.geometry.optimization.HPolyhedron at 0x7f804891c930>,\n",
       " <pydrake.geometry.optimization.HPolyhedron at 0x7f8048920cf0>,\n",
       " <pydrake.geometry.optimization.HPolyhedron at 0x7f8048909f70>,\n",
       " <pydrake.geometry.optimization.HPolyhedron at 0x7f8048922470>,\n",
       " <pydrake.geometry.optimization.HPolyhedron at 0x7f8048922bb0>,\n",
       " <pydrake.geometry.optimization.HPolyhedron at 0x7f8048922330>,\n",
       " <pydrake.geometry.optimization.HPolyhedron at 0x7f80489221b0>,\n",
       " <pydrake.geometry.optimization.HPolyhedron at 0x7f80489228f0>,\n",
       " <pydrake.geometry.optimization.HPolyhedron at 0x7f804891ccb0>]"
      ]
     },
     "execution_count": 30,
     "metadata": {},
     "output_type": "execute_result"
    }
   ],
   "source": [
    "regs_cvxh"
   ]
  },
  {
   "cell_type": "code",
   "execution_count": 53,
   "metadata": {},
   "outputs": [],
   "source": [
    "from visibility_utils import get_coverage_estimator, get_sample_cfree_handle, get_col_func\n",
    "from clique_covers import get_iris_metrics\n",
    "from region_generation import SNOPT_IRIS_ellipsoid_parallel\n",
    "\n",
    "q_min = plant.GetPositionLowerLimits()*1\n",
    "q_max =  plant.GetPositionUpperLimits()*1\n",
    "col_func_handle_ = get_col_func(plant, plant_context)\n",
    "sample_cfree = get_sample_cfree_handle(q_min,q_max, col_func_handle_)\n",
    "\n",
    "require_sample_point_is_contained = True\n",
    "iteration_limit = 1\n",
    "configuration_space_margin = 1.e-3\n",
    "termination_threshold = -1\n",
    "num_collision_infeasible_samples = 100\n",
    "relative_termination_threshold = 0.02\n",
    "estimate_coverage = get_coverage_estimator(sample_cfree, pts = 3000)\n",
    "\n",
    "snopt_iris_options = IrisOptions()\n",
    "snopt_iris_options.require_sample_point_is_contained = require_sample_point_is_contained\n",
    "snopt_iris_options.iteration_limit = iteration_limit\n",
    "snopt_iris_options.configuration_space_margin = configuration_space_margin\n",
    "#snopt_iris_options.max_faces_per_collision_pair = 60\n",
    "snopt_iris_options.termination_threshold = termination_threshold\n",
    "#snopt_iris_options.q_star = np.zeros(3)\n",
    "snopt_iris_options.num_snopt_seed_guesses = 100\n",
    "snopt_iris_options.num_collision_infeasible_samples = num_collision_infeasible_samples\n",
    "snopt_iris_options.relative_termination_threshold = relative_termination_threshold\n",
    "\n",
    "iris_handle = partial(SNOPT_IRIS_ellipsoid_parallel,\n",
    "                        region_obstacles = [],\n",
    "                        logger = None, \n",
    "                        plant_builder = plant_builder,\n",
    "                        snoptiris_options = snopt_iris_options,\n",
    "                        estimate_coverage = estimate_coverage,\n",
    "                        coverage_threshold = 1)"
   ]
  },
  {
   "cell_type": "code",
   "execution_count": 54,
   "metadata": {},
   "outputs": [
    {
     "name": "stdout",
     "output_type": "stream",
     "text": [
      "[IRIS METRIC] ELLIPSOID COMPUTATION FAILED\n"
     ]
    },
    {
     "name": "stderr",
     "output_type": "stream",
     "text": [
      "INFO:drake:IrisInConfigurationSpace iteration 0\n",
      "INFO:drake:IrisInConfigurationSpace iteration 0\n",
      "INFO:drake:IrisInConfigurationSpace iteration 0\n",
      "INFO:drake:IrisInConfigurationSpace iteration 0\n",
      "INFO:drake:IrisInConfigurationSpace iteration 0\n",
      "INFO:drake:IrisInConfigurationSpace iteration 0\n",
      "INFO:drake:IrisInConfigurationSpace iteration 0\n",
      "INFO:drake:IrisInConfigurationSpace iteration 0\n",
      "INFO:drake:IrisInConfigurationSpace iteration 0\n",
      "INFO:drake:IrisInConfigurationSpace iteration 0\n",
      "INFO:drake:IrisInConfigurationSpace iteration 0\n",
      "INFO:drake:IrisInConfigurationSpace iteration 0\n",
      "INFO:drake:IrisInConfigurationSpace iteration 0\n",
      "INFO:drake:IrisInConfigurationSpace iteration 0\n",
      "INFO:drake:IrisInConfigurationSpace iteration 0\n",
      "INFO:drake:IrisInConfigurationSpace iteration 0\n"
     ]
    },
    {
     "name": "stdout",
     "output_type": "stream",
     "text": [
      "[SNOPT IRIS Worker] Region failed at [-2.28450618  0.7848349   1.06605688 -1.49260043  1.25246512  1.09631378\n",
      " -3.3983535 ]!\n"
     ]
    },
    {
     "name": "stderr",
     "output_type": "stream",
     "text": [
      "INFO:drake:IrisInConfigurationSpace iteration 0\n",
      "INFO:drake:IrisInConfigurationSpace iteration 0\n"
     ]
    },
    {
     "name": "stdout",
     "output_type": "stream",
     "text": [
      "[SNOPT IRIS Worker] Region failed at [ 0.38838318  1.3693463  -2.30631748 -1.22658252  2.83622168  1.4033255\n",
      "  1.93763439]!\n"
     ]
    },
    {
     "name": "stderr",
     "output_type": "stream",
     "text": [
      "INFO:drake:IrisInConfigurationSpace iteration 0\n",
      "INFO:drake: Checking wsg::collision against shelves::shelf_upper has already required 1000 counter-example searches; still searching...\n",
      "INFO:drake: Finished checking wsg::collision against shelves::shelf_upper after 1133 counter-example searches.\n"
     ]
    },
    {
     "name": "stdout",
     "output_type": "stream",
     "text": [
      "[SNOPT IRIS Worker] Region failed at [-0.12802358  0.28375422 -0.68017772 -1.82765352  2.31713524  1.35685231\n",
      " -1.90777405]!\n"
     ]
    },
    {
     "name": "stderr",
     "output_type": "stream",
     "text": [
      "INFO:drake:IrisInConfigurationSpace iteration 0\n",
      "INFO:drake: Checking iiwa::iiwa_link_6_collision against shelves::shelf_lower has already required 1000 counter-example searches; still searching...\n",
      "INFO:drake: Finished checking iiwa::iiwa_link_6_collision against shelves::shelf_lower after 1780 counter-example searches.\n"
     ]
    },
    {
     "name": "stdout",
     "output_type": "stream",
     "text": [
      "[SNOPT IRIS Worker] Region failed at [-0.45555596  1.70677082 -1.89015757  1.12760534 -2.95372446 -1.45603411\n",
      "  1.01414726]!\n"
     ]
    },
    {
     "name": "stderr",
     "output_type": "stream",
     "text": [
      "INFO:drake:IrisInConfigurationSpace iteration 0\n",
      "INFO:drake: Checking iiwa::iiwa_link_7_collision against binR::front has already required 1000 counter-example searches; still searching...\n",
      "INFO:drake: Finished checking iiwa::iiwa_link_7_collision against binR::front after 1102 counter-example searches.\n"
     ]
    },
    {
     "name": "stdout",
     "output_type": "stream",
     "text": [
      "[SNOPT IRIS Worker]: Region:0 / 5\n",
      "[SNOPT IRIS Worker] Region failed at [-2.14136246 -1.46640068  1.52204696 -1.72092315 -3.19132017  0.9057849\n",
      " -2.26466948]!\n"
     ]
    },
    {
     "name": "stderr",
     "output_type": "stream",
     "text": [
      "INFO:drake:IrisInConfigurationSpace iteration 0\n"
     ]
    },
    {
     "name": "stdout",
     "output_type": "stream",
     "text": [
      "[SNOPT IRIS Worker]: Region:1 / 5\n"
     ]
    },
    {
     "name": "stderr",
     "output_type": "stream",
     "text": [
      "INFO:drake:IrisInConfigurationSpace iteration 0\n"
     ]
    },
    {
     "name": "stdout",
     "output_type": "stream",
     "text": [
      "[SNOPT IRIS Worker]: Region:0 / 5\n"
     ]
    },
    {
     "name": "stderr",
     "output_type": "stream",
     "text": [
      "INFO:drake:IrisInConfigurationSpace iteration 0\n",
      "INFO:drake: Checking wsg::collision against shelves::shelf_upper has already required 1000 counter-example searches; still searching...\n"
     ]
    },
    {
     "name": "stdout",
     "output_type": "stream",
     "text": [
      "[SNOPT IRIS Worker]: Region:0 / 5\n"
     ]
    },
    {
     "name": "stderr",
     "output_type": "stream",
     "text": [
      "INFO:drake:IrisInConfigurationSpace iteration 0\n",
      "INFO:drake: Checking wsg::collision against shelves::shelf_lower has already required 1000 counter-example searches; still searching...\n"
     ]
    },
    {
     "name": "stdout",
     "output_type": "stream",
     "text": [
      "[SNOPT IRIS Worker] Region failed at [ 2.36748775 -1.36941504 -2.34765663 -1.4180629  -0.73262431 -0.6497506\n",
      " -1.58017567]!\n"
     ]
    },
    {
     "name": "stderr",
     "output_type": "stream",
     "text": [
      "INFO:drake:IrisInConfigurationSpace iteration 0\n",
      "INFO:drake: Checking iiwa::iiwa_link_4_collision against binR::front has already required 1000 counter-example searches; still searching...\n"
     ]
    },
    {
     "name": "stdout",
     "output_type": "stream",
     "text": [
      "[SNOPT IRIS Worker] Region failed at [-0.18826265  2.02613204 -0.38472418  1.22533832  0.58845175  0.8082146\n",
      " -0.77065069]!\n"
     ]
    },
    {
     "name": "stderr",
     "output_type": "stream",
     "text": [
      "INFO:drake:IrisInConfigurationSpace iteration 0\n"
     ]
    },
    {
     "name": "stdout",
     "output_type": "stream",
     "text": [
      "[SNOPT IRIS Worker] Region failed at [-2.73516272 -1.1880339   1.76485041 -1.47118899  2.57053342  1.39785853\n",
      "  2.63629278]!\n"
     ]
    },
    {
     "name": "stderr",
     "output_type": "stream",
     "text": [
      "INFO:drake:IrisInConfigurationSpace iteration 0\n"
     ]
    },
    {
     "name": "stdout",
     "output_type": "stream",
     "text": [
      "[SNOPT IRIS Worker] Region failed at [-0.58817063  1.96953194  1.46525697 -1.74644078  2.81599448  1.44857029\n",
      "  1.70024849]!\n"
     ]
    },
    {
     "name": "stderr",
     "output_type": "stream",
     "text": [
      "INFO:drake:IrisInConfigurationSpace iteration 0\n"
     ]
    },
    {
     "name": "stdout",
     "output_type": "stream",
     "text": [
      "[SNOPT IRIS Worker] Region failed at [-2.86968661 -0.42515254  0.4271367   0.08875941 -0.61437576 -0.94979404\n",
      " -1.86514956]!\n"
     ]
    },
    {
     "name": "stderr",
     "output_type": "stream",
     "text": [
      "INFO:drake:IrisInConfigurationSpace iteration 0\n"
     ]
    },
    {
     "name": "stdout",
     "output_type": "stream",
     "text": [
      "[SNOPT IRIS Worker]: Region:1 / 6\n"
     ]
    },
    {
     "name": "stderr",
     "output_type": "stream",
     "text": [
      "INFO:drake:IrisInConfigurationSpace iteration 0\n"
     ]
    },
    {
     "name": "stdout",
     "output_type": "stream",
     "text": [
      "[SNOPT IRIS Worker]: Region:0 / 5\n"
     ]
    },
    {
     "name": "stderr",
     "output_type": "stream",
     "text": [
      "INFO:drake:IrisInConfigurationSpace iteration 0\n"
     ]
    },
    {
     "name": "stdout",
     "output_type": "stream",
     "text": [
      "[SNOPT IRIS Worker]: Region:2 / 5\n"
     ]
    },
    {
     "name": "stderr",
     "output_type": "stream",
     "text": [
      "INFO:drake:IrisInConfigurationSpace iteration 0\n"
     ]
    },
    {
     "name": "stdout",
     "output_type": "stream",
     "text": [
      "[SNOPT IRIS Worker]: Region:0 / 6\n"
     ]
    },
    {
     "name": "stderr",
     "output_type": "stream",
     "text": [
      "INFO:drake:IrisInConfigurationSpace iteration 0\n"
     ]
    },
    {
     "name": "stdout",
     "output_type": "stream",
     "text": [
      "[SNOPT IRIS Worker]: Region:0 / 6\n"
     ]
    },
    {
     "name": "stderr",
     "output_type": "stream",
     "text": [
      "INFO:drake:IrisInConfigurationSpace iteration 0\n"
     ]
    },
    {
     "name": "stdout",
     "output_type": "stream",
     "text": [
      "[SNOPT IRIS Worker]: Region:0 / 5\n"
     ]
    },
    {
     "name": "stderr",
     "output_type": "stream",
     "text": [
      "INFO:drake:IrisInConfigurationSpace iteration 0\n"
     ]
    },
    {
     "name": "stdout",
     "output_type": "stream",
     "text": [
      "[SNOPT IRIS Worker]: Region:0 / 6\n"
     ]
    },
    {
     "name": "stderr",
     "output_type": "stream",
     "text": [
      "INFO:drake:IrisInConfigurationSpace iteration 0\n"
     ]
    },
    {
     "name": "stdout",
     "output_type": "stream",
     "text": [
      "[SNOPT IRIS Worker]: Region:0 / 5\n"
     ]
    },
    {
     "name": "stderr",
     "output_type": "stream",
     "text": [
      "INFO:drake:IrisInConfigurationSpace iteration 0\n"
     ]
    },
    {
     "name": "stdout",
     "output_type": "stream",
     "text": [
      "[SNOPT IRIS Worker]: Region:2 / 5\n"
     ]
    },
    {
     "name": "stderr",
     "output_type": "stream",
     "text": [
      "INFO:drake:IrisInConfigurationSpace iteration 0\n"
     ]
    },
    {
     "name": "stdout",
     "output_type": "stream",
     "text": [
      "[SNOPT IRIS Worker]: Region:0 / 6\n"
     ]
    },
    {
     "name": "stderr",
     "output_type": "stream",
     "text": [
      "INFO:drake:IrisInConfigurationSpace iteration 0\n"
     ]
    },
    {
     "name": "stdout",
     "output_type": "stream",
     "text": [
      "[SNOPT IRIS Worker]: Region:0 / 6\n"
     ]
    },
    {
     "name": "stderr",
     "output_type": "stream",
     "text": [
      "INFO:drake:IrisInConfigurationSpace iteration 0\n"
     ]
    },
    {
     "name": "stdout",
     "output_type": "stream",
     "text": [
      "[SNOPT IRIS Worker]: Region:0 / 6\n"
     ]
    },
    {
     "name": "stderr",
     "output_type": "stream",
     "text": [
      "INFO:drake:IrisInConfigurationSpace iteration 0\n"
     ]
    },
    {
     "name": "stdout",
     "output_type": "stream",
     "text": [
      "[SNOPT IRIS Worker] Region failed at [-0.63940792 -1.56279196  1.34934642 -1.24649186  1.21624465  1.45232086\n",
      "  2.60670645]!\n"
     ]
    },
    {
     "name": "stderr",
     "output_type": "stream",
     "text": [
      "INFO:drake:IrisInConfigurationSpace iteration 0\n"
     ]
    },
    {
     "name": "stdout",
     "output_type": "stream",
     "text": [
      "[SNOPT IRIS Worker]: Region:0 / 6\n"
     ]
    },
    {
     "name": "stderr",
     "output_type": "stream",
     "text": [
      "INFO:drake:IrisInConfigurationSpace iteration 0\n"
     ]
    },
    {
     "name": "stdout",
     "output_type": "stream",
     "text": [
      "[SNOPT IRIS Worker]: Region:0 / 6\n"
     ]
    },
    {
     "name": "stderr",
     "output_type": "stream",
     "text": [
      "INFO:drake:IrisInConfigurationSpace iteration 0\n"
     ]
    },
    {
     "name": "stdout",
     "output_type": "stream",
     "text": [
      "[SNOPT IRIS Worker]: Region:4 / 5\n",
      "[SNOPT IRIS Worker]: Region:3 / 5\n"
     ]
    },
    {
     "name": "stderr",
     "output_type": "stream",
     "text": [
      "INFO:drake:IrisInConfigurationSpace iteration 0\n"
     ]
    },
    {
     "name": "stdout",
     "output_type": "stream",
     "text": [
      "[SNOPT IRIS Worker]: Region:3 / 5\n"
     ]
    },
    {
     "name": "stderr",
     "output_type": "stream",
     "text": [
      "INFO:drake:IrisInConfigurationSpace iteration 0\n"
     ]
    },
    {
     "name": "stdout",
     "output_type": "stream",
     "text": [
      "[SNOPT IRIS Worker]: Region:1 / 6\n"
     ]
    },
    {
     "name": "stderr",
     "output_type": "stream",
     "text": [
      "INFO:drake:IrisInConfigurationSpace iteration 0\n"
     ]
    },
    {
     "name": "stdout",
     "output_type": "stream",
     "text": [
      "[SNOPT IRIS Worker]: Region:2 / 5\n"
     ]
    },
    {
     "name": "stderr",
     "output_type": "stream",
     "text": [
      "INFO:drake:IrisInConfigurationSpace iteration 0\n"
     ]
    },
    {
     "name": "stdout",
     "output_type": "stream",
     "text": [
      "[SNOPT IRIS Worker]: Region:2 / 6\n"
     ]
    },
    {
     "name": "stderr",
     "output_type": "stream",
     "text": [
      "INFO:drake:IrisInConfigurationSpace iteration 0\n"
     ]
    },
    {
     "name": "stdout",
     "output_type": "stream",
     "text": [
      "[SNOPT IRIS Worker]: Region:1 / 5\n"
     ]
    },
    {
     "name": "stderr",
     "output_type": "stream",
     "text": [
      "INFO:drake:IrisInConfigurationSpace iteration 0\n"
     ]
    },
    {
     "name": "stdout",
     "output_type": "stream",
     "text": [
      "[SNOPT IRIS Worker]: Region:1 / 5\n"
     ]
    },
    {
     "name": "stderr",
     "output_type": "stream",
     "text": [
      "INFO:drake:IrisInConfigurationSpace iteration 0\n"
     ]
    },
    {
     "name": "stdout",
     "output_type": "stream",
     "text": [
      "[SNOPT IRIS Worker]: Region:1 / 6\n"
     ]
    },
    {
     "name": "stderr",
     "output_type": "stream",
     "text": [
      "INFO:drake:IrisInConfigurationSpace iteration 0\n"
     ]
    },
    {
     "name": "stdout",
     "output_type": "stream",
     "text": [
      "[SNOPT IRIS Worker]: Region:3 / 5\n"
     ]
    },
    {
     "name": "stderr",
     "output_type": "stream",
     "text": [
      "INFO:drake:IrisInConfigurationSpace iteration 0\n"
     ]
    },
    {
     "name": "stdout",
     "output_type": "stream",
     "text": [
      "[SNOPT IRIS Worker]: Region:0 / 6\n"
     ]
    },
    {
     "name": "stderr",
     "output_type": "stream",
     "text": [
      "INFO:drake:IrisInConfigurationSpace iteration 0\n"
     ]
    },
    {
     "name": "stdout",
     "output_type": "stream",
     "text": [
      "[SNOPT IRIS Worker]: Region:1 / 5\n"
     ]
    },
    {
     "name": "stderr",
     "output_type": "stream",
     "text": [
      "INFO:drake:IrisInConfigurationSpace iteration 0\n"
     ]
    },
    {
     "name": "stdout",
     "output_type": "stream",
     "text": [
      "[SNOPT IRIS Worker]: Region:1 / 6\n"
     ]
    },
    {
     "name": "stderr",
     "output_type": "stream",
     "text": [
      "INFO:drake:IrisInConfigurationSpace iteration 0\n"
     ]
    },
    {
     "name": "stdout",
     "output_type": "stream",
     "text": [
      "[SNOPT IRIS Worker]: Region:1 / 6\n"
     ]
    },
    {
     "name": "stderr",
     "output_type": "stream",
     "text": [
      "INFO:drake:IrisInConfigurationSpace iteration 0\n"
     ]
    },
    {
     "name": "stdout",
     "output_type": "stream",
     "text": [
      "[SNOPT IRIS Worker]: Region:4 / 5\n"
     ]
    },
    {
     "name": "stderr",
     "output_type": "stream",
     "text": [
      "INFO:drake: Checking wsg::collision against binR::front has already required 1000 counter-example searches; still searching...\n",
      "INFO:drake: Finished checking wsg::collision against binR::front after 1199 counter-example searches.\n"
     ]
    },
    {
     "name": "stdout",
     "output_type": "stream",
     "text": [
      "[SNOPT IRIS Worker]: Region:4 / 5\n",
      "[SNOPT IRIS Worker]: Region:3 / 5\n"
     ]
    },
    {
     "name": "stderr",
     "output_type": "stream",
     "text": [
      "INFO:drake:IrisInConfigurationSpace iteration 0\n"
     ]
    },
    {
     "name": "stdout",
     "output_type": "stream",
     "text": [
      "[SNOPT IRIS Worker]: Region:1 / 6\n"
     ]
    },
    {
     "name": "stderr",
     "output_type": "stream",
     "text": [
      "INFO:drake:IrisInConfigurationSpace iteration 0\n"
     ]
    },
    {
     "name": "stdout",
     "output_type": "stream",
     "text": [
      "[SNOPT IRIS Worker]: Region:3 / 6\n"
     ]
    },
    {
     "name": "stderr",
     "output_type": "stream",
     "text": [
      "INFO:drake:IrisInConfigurationSpace iteration 0\n"
     ]
    },
    {
     "name": "stdout",
     "output_type": "stream",
     "text": [
      "[SNOPT IRIS Worker]: Region:2 / 5\n"
     ]
    },
    {
     "name": "stderr",
     "output_type": "stream",
     "text": [
      "INFO:drake:IrisInConfigurationSpace iteration 0\n"
     ]
    },
    {
     "name": "stdout",
     "output_type": "stream",
     "text": [
      "[SNOPT IRIS Worker]: Region:2 / 5\n"
     ]
    },
    {
     "name": "stderr",
     "output_type": "stream",
     "text": [
      "INFO:drake:IrisInConfigurationSpace iteration 0\n"
     ]
    },
    {
     "name": "stdout",
     "output_type": "stream",
     "text": [
      "[SNOPT IRIS Worker]: Region:1 / 6\n"
     ]
    },
    {
     "name": "stderr",
     "output_type": "stream",
     "text": [
      "INFO:drake:IrisInConfigurationSpace iteration 0\n"
     ]
    },
    {
     "name": "stdout",
     "output_type": "stream",
     "text": [
      "[SNOPT IRIS Worker]: Region:2 / 5\n"
     ]
    },
    {
     "name": "stderr",
     "output_type": "stream",
     "text": [
      "INFO:drake:IrisInConfigurationSpace iteration 0\n"
     ]
    },
    {
     "name": "stdout",
     "output_type": "stream",
     "text": [
      "[SNOPT IRIS Worker]: Region:1 / 6\n"
     ]
    },
    {
     "name": "stderr",
     "output_type": "stream",
     "text": [
      "INFO:drake:IrisInConfigurationSpace iteration 0\n",
      "INFO:drake: Checking wsg::collision against table::table_top has already required 1000 counter-example searches; still searching...\n"
     ]
    },
    {
     "name": "stdout",
     "output_type": "stream",
     "text": [
      "[SNOPT IRIS Worker]: Region:2 / 6\n"
     ]
    },
    {
     "name": "stderr",
     "output_type": "stream",
     "text": [
      "INFO:drake:IrisInConfigurationSpace iteration 0\n"
     ]
    },
    {
     "name": "stdout",
     "output_type": "stream",
     "text": [
      "[SNOPT IRIS Worker]: Region:2 / 6\n"
     ]
    },
    {
     "name": "stderr",
     "output_type": "stream",
     "text": [
      "INFO:drake:IrisInConfigurationSpace iteration 0\n"
     ]
    },
    {
     "name": "stdout",
     "output_type": "stream",
     "text": [
      "[SNOPT IRIS Worker]: Region:4 / 5\n",
      "[SNOPT IRIS Worker]: Region:4 / 6\n"
     ]
    },
    {
     "name": "stderr",
     "output_type": "stream",
     "text": [
      "INFO:drake:IrisInConfigurationSpace iteration 0\n"
     ]
    },
    {
     "name": "stdout",
     "output_type": "stream",
     "text": [
      "[SNOPT IRIS Worker]: Region:2 / 6\n"
     ]
    },
    {
     "name": "stderr",
     "output_type": "stream",
     "text": [
      "INFO:drake:IrisInConfigurationSpace iteration 0\n",
      "INFO:drake: Finished checking wsg::collision against table::table_top after 3496 counter-example searches.\n"
     ]
    },
    {
     "name": "stdout",
     "output_type": "stream",
     "text": [
      "[SNOPT IRIS Worker]: Region:2 / 6\n"
     ]
    },
    {
     "name": "stderr",
     "output_type": "stream",
     "text": [
      "INFO:drake:IrisInConfigurationSpace iteration 0\n"
     ]
    },
    {
     "name": "stdout",
     "output_type": "stream",
     "text": [
      "[SNOPT IRIS Worker]: Region:3 / 5\n",
      "[SNOPT IRIS Worker] Region failed at [-0.03176673  0.56414598 -0.10212688 -1.88445086 -3.36120757  1.03671758\n",
      "  1.09624703]!\n"
     ]
    },
    {
     "name": "stderr",
     "output_type": "stream",
     "text": [
      "INFO:drake: Checking wsg::collision against shelves::shelf_lower has already required 1000 counter-example searches; still searching...\n"
     ]
    },
    {
     "name": "stdout",
     "output_type": "stream",
     "text": [
      "[SNOPT IRIS Worker]: Region:1 / 6\n"
     ]
    },
    {
     "name": "stderr",
     "output_type": "stream",
     "text": [
      "INFO:drake:IrisInConfigurationSpace iteration 0\n",
      "INFO:drake: Finished checking wsg::collision against shelves::shelf_lower after 1065 counter-example searches.\n"
     ]
    },
    {
     "name": "stdout",
     "output_type": "stream",
     "text": [
      "[SNOPT IRIS Worker]: Region:2 / 6\n"
     ]
    },
    {
     "name": "stderr",
     "output_type": "stream",
     "text": [
      "INFO:drake:IrisInConfigurationSpace iteration 0\n"
     ]
    },
    {
     "name": "stdout",
     "output_type": "stream",
     "text": [
      "[SNOPT IRIS Worker]: Region:2 / 6\n"
     ]
    },
    {
     "name": "stderr",
     "output_type": "stream",
     "text": [
      "INFO:drake:IrisInConfigurationSpace iteration 0\n"
     ]
    },
    {
     "name": "stdout",
     "output_type": "stream",
     "text": [
      "[SNOPT IRIS Worker]: Region:4 / 5\n",
      "[SNOPT IRIS Worker]: Region:3 / 5\n"
     ]
    },
    {
     "name": "stderr",
     "output_type": "stream",
     "text": [
      "INFO:drake:IrisInConfigurationSpace iteration 0\n",
      "INFO:drake: Checking iiwa::iiwa_link_4_collision against binR::right has already required 1000 counter-example searches; still searching...\n"
     ]
    },
    {
     "name": "stdout",
     "output_type": "stream",
     "text": [
      "[SNOPT IRIS Worker]: Region:2 / 6\n"
     ]
    },
    {
     "name": "stderr",
     "output_type": "stream",
     "text": [
      "INFO:drake:IrisInConfigurationSpace iteration 0\n"
     ]
    },
    {
     "name": "stdout",
     "output_type": "stream",
     "text": [
      "[SNOPT IRIS Worker]: Region:5 / 6\n",
      "[SNOPT IRIS Worker]: Region:4 / 5\n",
      "[SNOPT IRIS Worker]: Region:2 / 6\n"
     ]
    },
    {
     "name": "stderr",
     "output_type": "stream",
     "text": [
      "INFO:drake:IrisInConfigurationSpace iteration 0\n"
     ]
    },
    {
     "name": "stdout",
     "output_type": "stream",
     "text": [
      "[SNOPT IRIS Worker]: Region:3 / 6\n"
     ]
    },
    {
     "name": "stderr",
     "output_type": "stream",
     "text": [
      "INFO:drake:IrisInConfigurationSpace iteration 0\n"
     ]
    },
    {
     "name": "stdout",
     "output_type": "stream",
     "text": [
      "[SNOPT IRIS Worker] Region failed at [-0.35268504  1.83425565  1.53682253 -0.45980253  0.11011933  1.08451976\n",
      " -2.86537413]!\n"
     ]
    },
    {
     "name": "stderr",
     "output_type": "stream",
     "text": [
      "INFO:drake:IrisInConfigurationSpace iteration 0\n"
     ]
    },
    {
     "name": "stdout",
     "output_type": "stream",
     "text": [
      "[SNOPT IRIS Worker]: Region:2 / 6\n"
     ]
    },
    {
     "name": "stderr",
     "output_type": "stream",
     "text": [
      "INFO:drake:IrisInConfigurationSpace iteration 0\n"
     ]
    },
    {
     "name": "stdout",
     "output_type": "stream",
     "text": [
      "[SNOPT IRIS Worker]: Region:3 / 6\n"
     ]
    },
    {
     "name": "stderr",
     "output_type": "stream",
     "text": [
      "INFO:drake:IrisInConfigurationSpace iteration 0\n"
     ]
    },
    {
     "name": "stdout",
     "output_type": "stream",
     "text": [
      "[SNOPT IRIS Worker]: Region:3 / 6\n"
     ]
    },
    {
     "name": "stderr",
     "output_type": "stream",
     "text": [
      "INFO:drake:IrisInConfigurationSpace iteration 0\n"
     ]
    },
    {
     "name": "stdout",
     "output_type": "stream",
     "text": [
      "[SNOPT IRIS Worker]: Region:3 / 6\n"
     ]
    },
    {
     "name": "stderr",
     "output_type": "stream",
     "text": [
      "INFO:drake:IrisInConfigurationSpace iteration 0\n"
     ]
    },
    {
     "name": "stdout",
     "output_type": "stream",
     "text": [
      "[SNOPT IRIS Worker]: Region:3 / 6\n"
     ]
    },
    {
     "name": "stderr",
     "output_type": "stream",
     "text": [
      "INFO:drake:IrisInConfigurationSpace iteration 0\n"
     ]
    },
    {
     "name": "stdout",
     "output_type": "stream",
     "text": [
      "[SNOPT IRIS Worker]: Region:3 / 6\n"
     ]
    },
    {
     "name": "stderr",
     "output_type": "stream",
     "text": [
      "INFO:drake:IrisInConfigurationSpace iteration 0\n"
     ]
    },
    {
     "name": "stdout",
     "output_type": "stream",
     "text": [
      "[SNOPT IRIS Worker]: Region:3 / 6\n"
     ]
    },
    {
     "name": "stderr",
     "output_type": "stream",
     "text": [
      "INFO:drake:IrisInConfigurationSpace iteration 0\n"
     ]
    },
    {
     "name": "stdout",
     "output_type": "stream",
     "text": [
      "[SNOPT IRIS Worker]: Region:3 / 6\n"
     ]
    },
    {
     "name": "stderr",
     "output_type": "stream",
     "text": [
      "INFO:drake:IrisInConfigurationSpace iteration 0\n"
     ]
    },
    {
     "name": "stdout",
     "output_type": "stream",
     "text": [
      "[SNOPT IRIS Worker]: Region:4 / 6\n"
     ]
    },
    {
     "name": "stderr",
     "output_type": "stream",
     "text": [
      "INFO:drake:IrisInConfigurationSpace iteration 0\n"
     ]
    },
    {
     "name": "stdout",
     "output_type": "stream",
     "text": [
      "[SNOPT IRIS Worker]: Region:4 / 5\n",
      "[SNOPT IRIS Worker]: Region:4 / 6\n"
     ]
    },
    {
     "name": "stderr",
     "output_type": "stream",
     "text": [
      "INFO:drake:IrisInConfigurationSpace iteration 0\n"
     ]
    },
    {
     "name": "stdout",
     "output_type": "stream",
     "text": [
      "[SNOPT IRIS Worker]: Region:3 / 6\n"
     ]
    },
    {
     "name": "stderr",
     "output_type": "stream",
     "text": [
      "INFO:drake:IrisInConfigurationSpace iteration 0\n"
     ]
    },
    {
     "name": "stdout",
     "output_type": "stream",
     "text": [
      "[SNOPT IRIS Worker]: Region:4 / 6\n",
      "[SNOPT IRIS Worker] Region failed at [ 3.18774576  0.72750339 -1.76811364 -1.86733757  0.8356661   0.07639638\n",
      " -0.57026288]!\n",
      "[SNOPT IRIS Worker]: Region:4 / 6\n"
     ]
    },
    {
     "name": "stderr",
     "output_type": "stream",
     "text": [
      "INFO:drake:IrisInConfigurationSpace iteration 0\n"
     ]
    },
    {
     "name": "stdout",
     "output_type": "stream",
     "text": [
      "[SNOPT IRIS Worker]: Region:4 / 6\n"
     ]
    },
    {
     "name": "stderr",
     "output_type": "stream",
     "text": [
      "INFO:drake:IrisInConfigurationSpace iteration 0\n"
     ]
    },
    {
     "name": "stdout",
     "output_type": "stream",
     "text": [
      "[SNOPT IRIS Worker]: Region:4 / 6\n"
     ]
    },
    {
     "name": "stderr",
     "output_type": "stream",
     "text": [
      "INFO:drake:IrisInConfigurationSpace iteration 0\n"
     ]
    },
    {
     "name": "stdout",
     "output_type": "stream",
     "text": [
      "[SNOPT IRIS Worker]: Region:4 / 6\n"
     ]
    },
    {
     "name": "stderr",
     "output_type": "stream",
     "text": [
      "INFO:drake:IrisInConfigurationSpace iteration 0\n"
     ]
    },
    {
     "name": "stdout",
     "output_type": "stream",
     "text": [
      "[SNOPT IRIS Worker]: Region:5 / 6\n",
      "[SNOPT IRIS Worker]: Region:5 / 6\n",
      "[SNOPT IRIS Worker]: Region:4 / 6\n"
     ]
    },
    {
     "name": "stderr",
     "output_type": "stream",
     "text": [
      "INFO:drake:IrisInConfigurationSpace iteration 0\n"
     ]
    },
    {
     "name": "stdout",
     "output_type": "stream",
     "text": [
      "[SNOPT IRIS Worker]: Region:5 / 6\n",
      "[SNOPT IRIS Worker]: Region:5 / 6\n",
      "[SNOPT IRIS Worker]: Region:4 / 6\n"
     ]
    },
    {
     "name": "stderr",
     "output_type": "stream",
     "text": [
      "INFO:drake:IrisInConfigurationSpace iteration 0\n"
     ]
    },
    {
     "name": "stdout",
     "output_type": "stream",
     "text": [
      "[SNOPT IRIS Worker]: Region:5 / 6\n",
      "[SNOPT IRIS Worker]: Region:5 / 6\n",
      "[SNOPT IRIS Worker]: Region:5 / 6\n",
      "[SNOPT IRIS Worker]: Region:5 / 6\n"
     ]
    }
   ],
   "source": [
    "if f\"regions_clusjac5_{Npts}.pkl\" in os.listdir('tmp'):\n",
    "    with open(f\"tmp/regions_clusjac5_{Npts}.pkl\", 'rb') as f:\n",
    "        regions_red = pickle.load(f)\n",
    "else:\n",
    "    def col_hnd(pt):\n",
    "        return 1- 1.0*checker.CheckConfigCollisionFree(pt)\n",
    "    seed_points, metrics, _ = get_iris_metrics([q_tot[c] for c in cliques_tot], col_hnd)\n",
    "    regions_red, succs_sp, is_full = iris_handle(seed_points, metrics, [])\n",
    "    with open(f\"tmp/regions_clusjac5_{Npts}.pkl\", 'wb') as f:\n",
    "        pickle.dump({'regions': regions_red, 'succ_sp': succs_sp}, f)"
   ]
  },
  {
   "cell_type": "code",
   "execution_count": 58,
   "metadata": {},
   "outputs": [
    {
     "name": "stdout",
     "output_type": "stream",
     "text": [
      "[0.0, 0.0, 0.0, 0.0, 0.0, 0.0, 0.0, 0.0, 0.0, 0.0, 0.0, 0.0, 0.0, 0.0, 0.0, 0.0, 0.0, 0.0, 0.0, 0.0, 0.0, 0.0, 0.0, 0.0, 0.0, 0.0, 0.0, 0.0, 0.0, 0.0, 0.0, 0.0, 0.0, 0.0, 0.0, 0.0, 0.0, 0.0, 0.0, 0.0, 0.0, 0.0, 0.0, 0.0, 0.0, 0.0, 0.0, 0.0, 0.0, 0.0, 0.0, 0.0, 0.0, 0.0, 0.0, 0.0, 0.0, 0.0, 0.0, 0.0, 0.0, 0.0, 0.0, 0.0, 0.0, 0.0, 0.0, 0.0, 0.0, 0.0, 0.0, 0.0, 0.0, 0.0, 0.0, 0.0, 0.0]\n"
     ]
    }
   ],
   "source": [
    "from pydrake.all import RandomGenerator\n",
    "gen = RandomGenerator(4)\n",
    "Ns = 10000\n",
    "s_reg = []\n",
    "for r in regions_red:\n",
    "    samps = []\n",
    "    for _ in range(Ns):\n",
    "        if len(samps):\n",
    "            samps.append(r.UniformSample(gen, samps[-1]))\n",
    "        else:\n",
    "            \n",
    "            samps.append(r.UniformSample(gen))\n",
    "    s_reg.append(samps)\n",
    "\n",
    "frac_vol_in_collision = []\n",
    "for s in s_reg:\n",
    "    tot_col = 0\n",
    "    for pt in s:\n",
    "        if not checker.CheckConfigCollisionFree(pt):\n",
    "            tot_col+=1\n",
    "    frac_vol_in_collision.append(tot_col/Ns)\n",
    "\n",
    "print(frac_vol_in_collision)"
   ]
  },
  {
   "cell_type": "code",
   "execution_count": null,
   "metadata": {},
   "outputs": [
    {
     "data": {
      "text/plain": [
       "array([2.654e-01, 7.005e-01, 3.329e-01, 7.472e-01, 4.097e-01, 6.554e-01,\n",
       "       4.680e-01, 3.647e-01, 2.009e-01, 2.240e-02, 1.000e-04, 0.000e+00,\n",
       "       4.000e-04, 1.000e-03, 3.000e-04, 4.000e-04, 0.000e+00, 1.400e-03,\n",
       "       0.000e+00, 0.000e+00, 0.000e+00, 2.800e-03, 3.200e-03, 4.700e-02,\n",
       "       1.700e-03, 3.000e-04, 0.000e+00, 9.800e-03, 9.000e-04, 1.010e-02,\n",
       "       0.000e+00, 0.000e+00, 1.300e-03, 3.200e-03, 2.000e-02, 7.300e-03,\n",
       "       0.000e+00, 0.000e+00, 0.000e+00, 2.400e-03, 4.800e-03, 7.000e-04,\n",
       "       1.190e-02, 9.000e-04, 0.000e+00, 1.000e-04, 5.000e-04, 0.000e+00,\n",
       "       6.000e-04, 8.000e-04, 9.300e-03, 3.000e-04, 0.000e+00, 1.000e-04,\n",
       "       0.000e+00, 0.000e+00, 4.000e-04, 0.000e+00, 0.000e+00, 2.100e-03,\n",
       "       1.000e-04, 0.000e+00, 0.000e+00, 1.000e-04, 0.000e+00, 1.000e-04,\n",
       "       2.000e-04, 0.000e+00, 8.000e-04, 2.000e-04, 1.000e-04, 3.600e-01,\n",
       "       9.000e-04, 0.000e+00, 0.000e+00, 0.000e+00, 1.000e-04, 0.000e+00,\n",
       "       5.710e-01, 7.400e-01])"
      ]
     },
     "execution_count": 34,
     "metadata": {},
     "output_type": "execute_result"
    }
   ],
   "source": [
    "sizes = [r.A().shape[0] for r in regions_red]\n",
    "idxs = np.argsort(sizes)\n",
    "np.array(frac_vol_in_collision)[idxs]"
   ]
  },
  {
   "cell_type": "code",
   "execution_count": null,
   "metadata": {},
   "outputs": [
    {
     "name": "stdout",
     "output_type": "stream",
     "text": [
      "0.74\n",
      "(337, 7)\n"
     ]
    }
   ],
   "source": [
    "print(frac_vol_in_collision[19])\n",
    "print(regions_red[19].A().shape)"
   ]
  },
  {
   "cell_type": "code",
   "execution_count": 55,
   "metadata": {},
   "outputs": [],
   "source": [
    "from utils import load_regions_from_experiment_dir\n",
    "\n",
    "regions_c = load_regions_from_experiment_dir(\n",
    "                    'logs/experiment_7dof_iiwa_bins_taskspace_1_1500_0.400greedy20231024205238')\n",
    "regions = regions_c+ regions_red"
   ]
  },
  {
   "cell_type": "code",
   "execution_count": 56,
   "metadata": {},
   "outputs": [
    {
     "data": {
      "text/plain": [
       "Text(0.5, 1.0, 'connectivity')"
      ]
     },
     "execution_count": 56,
     "metadata": {},
     "output_type": "execute_result"
    },
    {
     "data": {
      "image/png": "[encoded data removed]",
      "text/plain": [
       "<Figure size 720x720 with 1 Axes>"
      ]
     },
     "metadata": {},
     "output_type": "display_data"
    }
   ],
   "source": [
    "import networkx as nx\n",
    "import matplotlib.pyplot as plt\n",
    "\n",
    "regs = regions\n",
    "connectivity_graph = nx.Graph()\n",
    "for idx in range(len(regs)):\n",
    "    connectivity_graph.add_node(idx)\n",
    "\n",
    "for idx1 in range(len(regs)):\n",
    "    for idx2 in range(idx1 +1, len(regs)):\n",
    "        r1 = regs[idx1]\n",
    "        r2 = regs[idx2]\n",
    "        if r1.IntersectsWith(r2):\n",
    "            connectivity_graph.add_edge(idx1,idx2)\n",
    "\n",
    "largest_con_comp = list(list(nx.connected_components(connectivity_graph))[0])\n",
    "regions_connected_component = [regs[i] for i in largest_con_comp]\n",
    "\n",
    "fig = plt.figure(figsize=(10,10))\n",
    "hues = generate_distinct_colors(2+1)[1:]\n",
    "colors = []\n",
    "for g, h in zip([regs], hues):\n",
    "    colors += [h]*len(g)\n",
    "\n",
    "nx.draw_spring(connectivity_graph, \n",
    "                with_labels = True, \n",
    "                node_color = colors)\n",
    "plt.title(f\"connectivity\")"
   ]
  },
  {
   "cell_type": "code",
   "execution_count": 45,
   "metadata": {},
   "outputs": [],
   "source": [
    "reg_dc = [regions[i] for i in [113, 112, 96]]"
   ]
  },
  {
   "cell_type": "code",
   "execution_count": 46,
   "metadata": {},
   "outputs": [],
   "source": [
    "reg_dc_c = [r.ChebyshevCenter() for r in reg_dc]"
   ]
  },
  {
   "cell_type": "code",
   "execution_count": 47,
   "metadata": {},
   "outputs": [],
   "source": [
    "for p in reg_dc_c:\n",
    "    showres(p)\n",
    "    time.sleep(0.1)"
   ]
  },
  {
   "cell_type": "code",
   "execution_count": 33,
   "metadata": {},
   "outputs": [
    {
     "name": "stdout",
     "output_type": "stream",
     "text": [
      "65\n",
      "117\n"
     ]
    }
   ],
   "source": [
    "print(len(regions_connected_component))\n",
    "print(len(regions))"
   ]
  },
  {
   "cell_type": "code",
   "execution_count": 33,
   "metadata": {},
   "outputs": [],
   "source": [
    "volumes = [r.MaximumVolumeInscribedEllipsoid().Volume() for r in regions]"
   ]
  },
  {
   "cell_type": "code",
   "execution_count": 34,
   "metadata": {},
   "outputs": [
    {
     "data": {
      "text/plain": [
       "(array([85.,  3.,  6.,  5.,  4.,  1.,  2.,  1.,  2.,  2.]),\n",
       " array([4.11557516e-05, 1.22996093e+02, 2.45992145e+02, 3.68988197e+02,\n",
       "        4.91984249e+02, 6.14980301e+02, 7.37976353e+02, 8.60972405e+02,\n",
       "        9.83968457e+02, 1.10696451e+03, 1.22996056e+03]),\n",
       " <a list of 10 Patch objects>)"
      ]
     },
     "execution_count": 34,
     "metadata": {},
     "output_type": "execute_result"
    },
    {
     "data": {
      "image/png": "[encoded data removed]",
      "text/plain": [
       "<Figure size 432x288 with 1 Axes>"
      ]
     },
     "metadata": {
      "needs_background": "light"
     },
     "output_type": "display_data"
    }
   ],
   "source": [
    "plt.hist(volumes)"
   ]
  },
  {
   "cell_type": "code",
   "execution_count": null,
   "metadata": {},
   "outputs": [
    {
     "data": {
      "text/plain": [
       "[0.00035765845891878764,\n",
       " 5.513278390338719e-06,\n",
       " 1.0495504193692355e-06,\n",
       " 0.00011080553623775562,\n",
       " 0.005718603080049145,\n",
       " 0.004211949440745282,\n",
       " 0.003102182352220558,\n",
       " 7.363470615345496e-05,\n",
       " 4.426131401942516e-05,\n",
       " 0.00037646546498924213,\n",
       " 0.002323271175707563,\n",
       " 0.00015562384376859994,\n",
       " 0.0002849375877712512,\n",
       " 0.00030473979870064284,\n",
       " 8.581102445690782e-05,\n",
       " 8.018091897296722e-07,\n",
       " 0.012713863724298518,\n",
       " 0.0013866927589055596,\n",
       " 0.0006216674395701125,\n",
       " 0.00022156825758984217,\n",
       " 1.0921777079699938e-06,\n",
       " 0.004106155412125959,\n",
       " 0.004243247160320456,\n",
       " 8.906340063459143e-07,\n",
       " 0.00027721626675436805,\n",
       " 7.193106308697508e-06,\n",
       " 1.5079613891952258e-07,\n",
       " 0.0004389012868624128,\n",
       " 0.00010942567029776661]"
      ]
     },
     "execution_count": 30,
     "metadata": {},
     "output_type": "execute_result"
    }
   ],
   "source": [
    "volumes[len(regions_red):]"
   ]
  },
  {
   "cell_type": "code",
   "execution_count": 25,
   "metadata": {},
   "outputs": [],
   "source": [
    "from visibility_utils import point_in_regions\n",
    "inreg = []\n",
    "inreg_q = []\n",
    "for tpt, pt in zip(t_tot,q_tot):\n",
    "    if point_in_regions(pt, regions):\n",
    "        inreg.append(tpt)\n",
    "        inreg_q.append(pt)\n",
    "plot_points(meshcat, np.array(inreg), 'inregions', size = 0.01, color = Rgba(0,1,0,1))"
   ]
  },
  {
   "cell_type": "code",
   "execution_count": 58,
   "metadata": {},
   "outputs": [
    {
     "name": "stderr",
     "output_type": "stream",
     "text": [
      "100%|██████████| 100/100 [00:16<00:00,  6.09it/s]\n",
      "100%|██████████| 100/100 [00:17<00:00,  5.82it/s]\n",
      "100%|██████████| 100/100 [00:28<00:00,  3.51it/s]\n"
     ]
    }
   ],
   "source": [
    "from task_space_seeding_utils import solve_ik_problem\n",
    "from visibility_utils import sample_in_union_of_polytopes\n",
    "from pydrake.all import AngleAxis\n",
    "from tqdm import tqdm\n",
    "\n",
    "def sample_grasp_pose(preferred_axis_alignment,\n",
    "                       q0, \n",
    "                       plant,\n",
    "                       plant_context,\n",
    "                       frame_names,\n",
    "                       offsets, \n",
    "                       cvx_hulls_of_ROI,\n",
    "                       ts_min, #bounding box in task space to sample in\n",
    "                       ts_max,\n",
    "                       collision_free = True, \n",
    "                       track_orientation = True):\n",
    "    sc = np.ones(3)\n",
    "    sc[preferred_axis_alignment] = 20\n",
    "    for _ in range(1000):\n",
    "        vecs = np.random.randn(1,3)*sc\n",
    "        vecs = vecs/np.linalg.norm(vecs)\n",
    "        angs = 0*np.pi*(np.random.rand(1)-0.5)\n",
    "        if preferred_axis_alignment ==2:\n",
    "            rot_corr = RotationMatrix.MakeXRotation(-np.pi/2)\n",
    "        if preferred_axis_alignment == 0:\n",
    "            rot_corr = RotationMatrix.MakeZRotation(-np.pi/2)\n",
    "        rotmat =  rot_corr@ RotationMatrix(AngleAxis(angs[0], vecs[0,:]) )\n",
    "        t_point = sample_in_union_of_polytopes(1, cvx_hulls_of_ROI, [ts_min, ts_max]).squeeze()\n",
    "        frames = [plant.GetFrameByName(f) for f in frame_names]\n",
    "        res = solve_ik_problem([RigidTransform(rotmat, t_point)], \n",
    "                                q0= q0,\n",
    "                                plant_ik=plant,\n",
    "                                plant_context_ik=plant_context,\n",
    "                                frames=frames,\n",
    "                                offsets=offsets,\n",
    "                                collision_free = collision_free,\n",
    "                                track_orientation =track_orientation)\n",
    "        if res is not None:\n",
    "            return  res, t_point\n",
    "    return None\n",
    "\n",
    "geom_names = ['bin_base', 'bin_base', 'shelves_body']\n",
    "model_names = ['binL', 'binR', 'shelves']\n",
    "default_pos = [np.array([ 1.53294,  0.4056 ,  0.23294, -0.5944 ,0.,0.9056 ,0.]),\n",
    "               np.array([-1.53294,  0.4056 ,  0.23294, -0.5944 ,0.,  0.9056 ,0. ]),\n",
    "        np.array([ 0., -0.08940423,  0., -1.7087849,  0., 1.32867852,  0.])]\n",
    "axis_alignments = [2,2,0]\n",
    "AABB_sampling_regions = []\n",
    "N_test_points = 100 \n",
    "q_test_obj = []\n",
    "t_test_obj = []\n",
    "for i, (g, m) in enumerate(zip(geom_names, model_names)):\n",
    "    cvx_hulls_of_ROI, bodies = get_cvx_hulls_of_bodies([g], [m], plant, scene_graph, scene_graph_context, scaling = 1.0)\n",
    "    ts_min, ts_max, cvxh_hpoly = get_AABB_cvxhull(cvx_hulls_of_ROI)\n",
    "    q0  = default_pos[i] #np.zeros(7)\n",
    "    \n",
    "    q_grasp, t_grasp = [],[]\n",
    "    for _ in tqdm(range(N_test_points)):\n",
    "        qr, tr = sample_grasp_pose(axis_alignments[i],\n",
    "                        q0,\n",
    "                        plant,\n",
    "                        plant_context,\n",
    "                        ['body'],\n",
    "                        offsets = [np.array([0,0.1,0])],\n",
    "                        cvx_hulls_of_ROI = cvx_hulls_of_ROI,\n",
    "                        ts_min =ts_min,\n",
    "                        ts_max = ts_max,)\n",
    "        q_grasp.append(qr)\n",
    "        t_grasp.append(tr) \n",
    "    q_test_obj.append(q_grasp)\n",
    "    t_test_obj.append(t_grasp)\n",
    "    "
   ]
  },
  {
   "cell_type": "code",
   "execution_count": 65,
   "metadata": {},
   "outputs": [],
   "source": [
    "from visibility_utils import point_in_regions \n",
    "# for pts in q_test_obj:\n",
    "#     for p in pts:\n",
    "#         showres(p)\n",
    "#         print(point_in_regions(p, regions))\n",
    "#         time.sleep(0.001)\n",
    "\n",
    "meshcat.Delete(\"/drake/inregions\")\n",
    "from visibility_utils import point_in_regions\n",
    "inreg = []\n",
    "inreg_q = []\n",
    "for tpts, qpts in zip(t_test_obj,q_test_obj):\n",
    "    for t,q in zip(tpts, qpts):\n",
    "        if point_in_regions(q, regs_cvxh):\n",
    "            inreg.append(t)\n",
    "            inreg_q.append(q)\n",
    "plot_points(meshcat, np.array(inreg), 'inregions', size = 0.01, color = Rgba(0,1,0,1))"
   ]
  },
  {
   "cell_type": "code",
   "execution_count": 62,
   "metadata": {},
   "outputs": [
    {
     "name": "stdout",
     "output_type": "stream",
     "text": [
      "[DijkstraSPP] Pre-Building adjacency matrix  0 / 106\n",
      "[DijkstraSPP] Pre-Building adjacency matrix  10 / 106\n",
      "[DijkstraSPP] Pre-Building adjacency matrix  20 / 106\n",
      "[DijkstraSPP] Pre-Building adjacency matrix  30 / 106\n",
      "[DijkstraSPP] Pre-Building adjacency matrix  40 / 106\n",
      "[DijkstraSPP] Pre-Building adjacency matrix  50 / 106\n",
      "[DijkstraSPP] Pre-Building adjacency matrix  60 / 106\n",
      "[DijkstraSPP] Pre-Building adjacency matrix  70 / 106\n",
      "[DijkstraSPP] Pre-Building adjacency matrix  80 / 106\n",
      "[DijkstraSPP] Pre-Building adjacency matrix  90 / 106\n",
      "[DijkstraSPP] Pre-Building adjacency matrix  100 / 106\n",
      "[DijkstraSPP] Pre-Building d-adjacency matrix  0 / 1721\n",
      "[DijkstraSPP] Pre-Building d-adjacency matrix  1000 / 1721\n"
     ]
    }
   ],
   "source": [
    "from dijkstraspp import DijkstraSPPsolver\n",
    "def dm(q):\n",
    "    return q\n",
    "dspp = DijkstraSPPsolver(regions_connected_component, dm)"
   ]
  },
  {
   "cell_type": "code",
   "execution_count": null,
   "metadata": {},
   "outputs": [],
   "source": []
  },
  {
   "cell_type": "code",
   "execution_count": 31,
   "metadata": {},
   "outputs": [
    {
     "name": "stdout",
     "output_type": "stream",
     "text": [
      "[[5, 623, array([ 1.53294,  0.4056 ,  0.23294, -0.5944 ,  0.     ,  0.9056 ,\n",
      "        0.     ]), array([-0.07111193,  0.67030353,  0.86397978])], [5, 849, array([ 1.53294,  0.4056 ,  0.23294, -0.5944 ,  0.     ,  0.9056 ,\n",
      "        0.     ]), array([-0.07111193,  0.67030353,  0.86397978])], [5, 478, array([ 1.53294,  0.4056 ,  0.23294, -0.5944 ,  0.     ,  0.9056 ,\n",
      "        0.     ]), array([-0.07111193,  0.67030353,  0.86397978])], [5, 873, array([ 1.53294,  0.4056 ,  0.23294, -0.5944 ,  0.     ,  0.9056 ,\n",
      "        0.     ]), array([-0.07111193,  0.67030353,  0.86397978])], [5, 195, array([ 1.53294,  0.4056 ,  0.23294, -0.5944 ,  0.     ,  0.9056 ,\n",
      "        0.     ]), array([-0.07111193,  0.67030353,  0.86397978])], [5, 971, array([ 1.53294,  0.4056 ,  0.23294, -0.5944 ,  0.     ,  0.9056 ,\n",
      "        0.     ]), array([-0.07111193,  0.67030353,  0.86397978])], [5, 810, array([ 1.53294,  0.4056 ,  0.23294, -0.5944 ,  0.     ,  0.9056 ,\n",
      "        0.     ]), array([-0.07111193,  0.67030353,  0.86397978])], [5, 308, array([ 1.53294,  0.4056 ,  0.23294, -0.5944 ,  0.     ,  0.9056 ,\n",
      "        0.     ]), array([-0.07111193,  0.67030353,  0.86397978])], [5, 216, array([ 1.53294,  0.4056 ,  0.23294, -0.5944 ,  0.     ,  0.9056 ,\n",
      "        0.     ]), array([-0.07111193,  0.67030353,  0.86397978])], [5, 987, array([ 1.53294,  0.4056 ,  0.23294, -0.5944 ,  0.     ,  0.9056 ,\n",
      "        0.     ]), array([-0.07111193,  0.67030353,  0.86397978])], [5, 682, array([ 1.53294,  0.4056 ,  0.23294, -0.5944 ,  0.     ,  0.9056 ,\n",
      "        0.     ]), array([-0.07111193,  0.67030353,  0.86397978])], [5, 836, array([ 1.53294,  0.4056 ,  0.23294, -0.5944 ,  0.     ,  0.9056 ,\n",
      "        0.     ]), array([-0.07111193,  0.67030353,  0.86397978])], [5, 357, array([ 1.53294,  0.4056 ,  0.23294, -0.5944 ,  0.     ,  0.9056 ,\n",
      "        0.     ]), array([-0.07111193,  0.67030353,  0.86397978])], [5, 377, array([ 1.53294,  0.4056 ,  0.23294, -0.5944 ,  0.     ,  0.9056 ,\n",
      "        0.     ]), array([-0.07111193,  0.67030353,  0.86397978])], [5, 132, array([ 1.53294,  0.4056 ,  0.23294, -0.5944 ,  0.     ,  0.9056 ,\n",
      "        0.     ]), array([-0.07111193,  0.67030353,  0.86397978])], [5, 342, array([ 1.53294,  0.4056 ,  0.23294, -0.5944 ,  0.     ,  0.9056 ,\n",
      "        0.     ]), array([-0.07111193,  0.67030353,  0.86397978])], [5, 563, array([ 1.53294,  0.4056 ,  0.23294, -0.5944 ,  0.     ,  0.9056 ,\n",
      "        0.     ]), array([-0.07111193,  0.67030353,  0.86397978])], [5, 926, array([ 1.53294,  0.4056 ,  0.23294, -0.5944 ,  0.     ,  0.9056 ,\n",
      "        0.     ]), array([-0.07111193,  0.67030353,  0.86397978])], [5, 53, array([ 1.53294,  0.4056 ,  0.23294, -0.5944 ,  0.     ,  0.9056 ,\n",
      "        0.     ]), array([-0.07111193,  0.67030353,  0.86397978])], [5, 415, array([ 1.53294,  0.4056 ,  0.23294, -0.5944 ,  0.     ,  0.9056 ,\n",
      "        0.     ]), array([-0.07111193,  0.67030353,  0.86397978])]]\n"
     ]
    },
    {
     "name": "stderr",
     "output_type": "stream",
     "text": [
      "100%|██████████| 5/5 [00:03<00:00,  1.64it/s]\n",
      "100%|██████████| 5/5 [00:04<00:00,  1.08it/s]\n",
      "100%|██████████| 5/5 [00:04<00:00,  1.06it/s]\n",
      "100%|██████████| 5/5 [00:05<00:00,  1.03s/it]\n",
      "100%|██████████| 5/5 [00:05<00:00,  1.03s/it]\n",
      "100%|██████████| 5/5 [00:06<00:00,  1.40s/it]\n",
      "100%|██████████| 5/5 [00:07<00:00,  1.41s/it]\n",
      "100%|██████████| 5/5 [00:07<00:00,  1.47s/it]\n",
      "100%|██████████| 5/5 [00:07<00:00,  1.56s/it]\n",
      "100%|██████████| 5/5 [00:07<00:00,  1.59s/it]\n",
      "100%|██████████| 5/5 [00:08<00:00,  1.69s/it]\n",
      "100%|██████████| 5/5 [00:08<00:00,  1.77s/it]\n",
      "100%|██████████| 5/5 [00:09<00:00,  1.89s/it]\n",
      "100%|██████████| 5/5 [00:10<00:00,  2.09s/it]\n",
      "100%|██████████| 5/5 [00:10<00:00,  2.19s/it]\n",
      "100%|██████████| 5/5 [00:11<00:00,  2.22s/it]\n",
      "100%|██████████| 5/5 [00:11<00:00,  2.29s/it]\n",
      "100%|██████████| 5/5 [00:12<00:00,  2.54s/it]\n",
      "100%|██████████| 5/5 [00:13<00:00,  2.65s/it]\n",
      "100%|██████████| 5/5 [00:13<00:00,  2.80s/it]\n"
     ]
    },
    {
     "name": "stdout",
     "output_type": "stream",
     "text": [
      "[[5, 206, array([-1.53294,  0.4056 ,  0.23294, -0.5944 ,  0.     ,  0.9056 ,\n",
      "        0.     ]), array([ 0.12161019, -0.66300429,  0.86397978])], [5, 327, array([-1.53294,  0.4056 ,  0.23294, -0.5944 ,  0.     ,  0.9056 ,\n",
      "        0.     ]), array([ 0.12161019, -0.66300429,  0.86397978])], [5, 385, array([-1.53294,  0.4056 ,  0.23294, -0.5944 ,  0.     ,  0.9056 ,\n",
      "        0.     ]), array([ 0.12161019, -0.66300429,  0.86397978])], [5, 237, array([-1.53294,  0.4056 ,  0.23294, -0.5944 ,  0.     ,  0.9056 ,\n",
      "        0.     ]), array([ 0.12161019, -0.66300429,  0.86397978])], [5, 526, array([-1.53294,  0.4056 ,  0.23294, -0.5944 ,  0.     ,  0.9056 ,\n",
      "        0.     ]), array([ 0.12161019, -0.66300429,  0.86397978])], [5, 745, array([-1.53294,  0.4056 ,  0.23294, -0.5944 ,  0.     ,  0.9056 ,\n",
      "        0.     ]), array([ 0.12161019, -0.66300429,  0.86397978])], [5, 963, array([-1.53294,  0.4056 ,  0.23294, -0.5944 ,  0.     ,  0.9056 ,\n",
      "        0.     ]), array([ 0.12161019, -0.66300429,  0.86397978])], [5, 711, array([-1.53294,  0.4056 ,  0.23294, -0.5944 ,  0.     ,  0.9056 ,\n",
      "        0.     ]), array([ 0.12161019, -0.66300429,  0.86397978])], [5, 45, array([-1.53294,  0.4056 ,  0.23294, -0.5944 ,  0.     ,  0.9056 ,\n",
      "        0.     ]), array([ 0.12161019, -0.66300429,  0.86397978])], [5, 443, array([-1.53294,  0.4056 ,  0.23294, -0.5944 ,  0.     ,  0.9056 ,\n",
      "        0.     ]), array([ 0.12161019, -0.66300429,  0.86397978])], [5, 382, array([-1.53294,  0.4056 ,  0.23294, -0.5944 ,  0.     ,  0.9056 ,\n",
      "        0.     ]), array([ 0.12161019, -0.66300429,  0.86397978])], [5, 434, array([-1.53294,  0.4056 ,  0.23294, -0.5944 ,  0.     ,  0.9056 ,\n",
      "        0.     ]), array([ 0.12161019, -0.66300429,  0.86397978])], [5, 116, array([-1.53294,  0.4056 ,  0.23294, -0.5944 ,  0.     ,  0.9056 ,\n",
      "        0.     ]), array([ 0.12161019, -0.66300429,  0.86397978])], [5, 630, array([-1.53294,  0.4056 ,  0.23294, -0.5944 ,  0.     ,  0.9056 ,\n",
      "        0.     ]), array([ 0.12161019, -0.66300429,  0.86397978])], [5, 310, array([-1.53294,  0.4056 ,  0.23294, -0.5944 ,  0.     ,  0.9056 ,\n",
      "        0.     ]), array([ 0.12161019, -0.66300429,  0.86397978])], [5, 504, array([-1.53294,  0.4056 ,  0.23294, -0.5944 ,  0.     ,  0.9056 ,\n",
      "        0.     ]), array([ 0.12161019, -0.66300429,  0.86397978])], [5, 293, array([-1.53294,  0.4056 ,  0.23294, -0.5944 ,  0.     ,  0.9056 ,\n",
      "        0.     ]), array([ 0.12161019, -0.66300429,  0.86397978])], [5, 515, array([-1.53294,  0.4056 ,  0.23294, -0.5944 ,  0.     ,  0.9056 ,\n",
      "        0.     ]), array([ 0.12161019, -0.66300429,  0.86397978])], [5, 193, array([-1.53294,  0.4056 ,  0.23294, -0.5944 ,  0.     ,  0.9056 ,\n",
      "        0.     ]), array([ 0.12161019, -0.66300429,  0.86397978])], [5, 276, array([-1.53294,  0.4056 ,  0.23294, -0.5944 ,  0.     ,  0.9056 ,\n",
      "        0.     ]), array([ 0.12161019, -0.66300429,  0.86397978])]]\n"
     ]
    },
    {
     "name": "stderr",
     "output_type": "stream",
     "text": [
      "100%|██████████| 5/5 [00:03<00:00,  1.63it/s]\n",
      "100%|██████████| 5/5 [00:04<00:00,  1.19it/s]\n",
      "100%|██████████| 5/5 [00:04<00:00,  1.03it/s]\n",
      "100%|██████████| 5/5 [00:05<00:00,  1.02s/it]\n",
      "100%|██████████| 5/5 [00:05<00:00,  1.06s/it]\n",
      "100%|██████████| 5/5 [00:06<00:00,  1.21s/it]\n",
      "100%|██████████| 5/5 [00:06<00:00,  1.29s/it]\n",
      "100%|██████████| 5/5 [00:06<00:00,  1.34s/it]\n",
      "100%|██████████| 5/5 [00:06<00:00,  1.34s/it]\n",
      "100%|██████████| 5/5 [00:07<00:00,  1.47s/it]\n",
      "100%|██████████| 5/5 [00:07<00:00,  1.47s/it]\n",
      "100%|██████████| 5/5 [00:08<00:00,  1.68s/it]\n",
      "100%|██████████| 5/5 [00:08<00:00,  1.75s/it]\n",
      "100%|██████████| 5/5 [00:08<00:00,  1.79s/it]\n",
      "100%|██████████| 5/5 [00:08<00:00,  1.80s/it]\n",
      "100%|██████████| 5/5 [00:10<00:00,  2.08s/it]\n",
      "100%|██████████| 5/5 [00:10<00:00,  2.19s/it]\n",
      "100%|██████████| 5/5 [00:11<00:00,  2.34s/it]\n",
      "100%|██████████| 5/5 [00:12<00:00,  2.52s/it]\n",
      "100%|██████████| 5/5 [00:14<00:00,  2.82s/it]\n"
     ]
    },
    {
     "name": "stdout",
     "output_type": "stream",
     "text": [
      "[[5, 10, array([ 0.        , -0.08940423,  0.        , -1.7087849 ,  0.        ,\n",
      "        1.32867852,  0.        ]), array([4.00766883e-01, 2.46608659e-16, 5.28133791e-01])], [5, 62, array([ 0.        , -0.08940423,  0.        , -1.7087849 ,  0.        ,\n",
      "        1.32867852,  0.        ]), array([4.00766883e-01, 2.46608659e-16, 5.28133791e-01])], [5, 611, array([ 0.        , -0.08940423,  0.        , -1.7087849 ,  0.        ,\n",
      "        1.32867852,  0.        ]), array([4.00766883e-01, 2.46608659e-16, 5.28133791e-01])], [5, 54, array([ 0.        , -0.08940423,  0.        , -1.7087849 ,  0.        ,\n",
      "        1.32867852,  0.        ]), array([4.00766883e-01, 2.46608659e-16, 5.28133791e-01])], [5, 787, array([ 0.        , -0.08940423,  0.        , -1.7087849 ,  0.        ,\n",
      "        1.32867852,  0.        ]), array([4.00766883e-01, 2.46608659e-16, 5.28133791e-01])], [5, 386, array([ 0.        , -0.08940423,  0.        , -1.7087849 ,  0.        ,\n",
      "        1.32867852,  0.        ]), array([4.00766883e-01, 2.46608659e-16, 5.28133791e-01])], [5, 659, array([ 0.        , -0.08940423,  0.        , -1.7087849 ,  0.        ,\n",
      "        1.32867852,  0.        ]), array([4.00766883e-01, 2.46608659e-16, 5.28133791e-01])], [5, 735, array([ 0.        , -0.08940423,  0.        , -1.7087849 ,  0.        ,\n",
      "        1.32867852,  0.        ]), array([4.00766883e-01, 2.46608659e-16, 5.28133791e-01])], [5, 453, array([ 0.        , -0.08940423,  0.        , -1.7087849 ,  0.        ,\n",
      "        1.32867852,  0.        ]), array([4.00766883e-01, 2.46608659e-16, 5.28133791e-01])], [5, 488, array([ 0.        , -0.08940423,  0.        , -1.7087849 ,  0.        ,\n",
      "        1.32867852,  0.        ]), array([4.00766883e-01, 2.46608659e-16, 5.28133791e-01])], [5, 243, array([ 0.        , -0.08940423,  0.        , -1.7087849 ,  0.        ,\n",
      "        1.32867852,  0.        ]), array([4.00766883e-01, 2.46608659e-16, 5.28133791e-01])], [5, 585, array([ 0.        , -0.08940423,  0.        , -1.7087849 ,  0.        ,\n",
      "        1.32867852,  0.        ]), array([4.00766883e-01, 2.46608659e-16, 5.28133791e-01])], [5, 99, array([ 0.        , -0.08940423,  0.        , -1.7087849 ,  0.        ,\n",
      "        1.32867852,  0.        ]), array([4.00766883e-01, 2.46608659e-16, 5.28133791e-01])], [5, 250, array([ 0.        , -0.08940423,  0.        , -1.7087849 ,  0.        ,\n",
      "        1.32867852,  0.        ]), array([4.00766883e-01, 2.46608659e-16, 5.28133791e-01])], [5, 116, array([ 0.        , -0.08940423,  0.        , -1.7087849 ,  0.        ,\n",
      "        1.32867852,  0.        ]), array([4.00766883e-01, 2.46608659e-16, 5.28133791e-01])], [5, 991, array([ 0.        , -0.08940423,  0.        , -1.7087849 ,  0.        ,\n",
      "        1.32867852,  0.        ]), array([4.00766883e-01, 2.46608659e-16, 5.28133791e-01])], [5, 513, array([ 0.        , -0.08940423,  0.        , -1.7087849 ,  0.        ,\n",
      "        1.32867852,  0.        ]), array([4.00766883e-01, 2.46608659e-16, 5.28133791e-01])], [5, 349, array([ 0.        , -0.08940423,  0.        , -1.7087849 ,  0.        ,\n",
      "        1.32867852,  0.        ]), array([4.00766883e-01, 2.46608659e-16, 5.28133791e-01])], [5, 782, array([ 0.        , -0.08940423,  0.        , -1.7087849 ,  0.        ,\n",
      "        1.32867852,  0.        ]), array([4.00766883e-01, 2.46608659e-16, 5.28133791e-01])], [5, 989, array([ 0.        , -0.08940423,  0.        , -1.7087849 ,  0.        ,\n",
      "        1.32867852,  0.        ]), array([4.00766883e-01, 2.46608659e-16, 5.28133791e-01])]]\n"
     ]
    },
    {
     "name": "stderr",
     "output_type": "stream",
     "text": [
      "100%|██████████| 5/5 [00:02<00:00,  1.89it/s]\n",
      "100%|██████████| 5/5 [00:04<00:00,  1.13it/s]\n",
      "100%|██████████| 5/5 [00:07<00:00,  1.46s/it]\n",
      "100%|██████████| 5/5 [00:07<00:00,  1.48s/it]\n",
      "100%|██████████| 5/5 [00:08<00:00,  1.66s/it]\n",
      "100%|██████████| 5/5 [00:08<00:00,  1.67s/it]\n",
      "100%|██████████| 5/5 [00:08<00:00,  1.76s/it]\n",
      "100%|██████████| 5/5 [00:09<00:00,  1.88s/it]\n",
      "100%|██████████| 5/5 [00:10<00:00,  2.00s/it]\n",
      "100%|██████████| 5/5 [00:10<00:00,  2.01s/it]\n",
      "100%|██████████| 5/5 [00:10<00:00,  2.02s/it]\n",
      "100%|██████████| 5/5 [00:10<00:00,  2.18s/it]\n",
      "100%|██████████| 5/5 [00:11<00:00,  2.27s/it]\n",
      "100%|██████████| 5/5 [00:12<00:00,  2.43s/it]\n",
      "100%|██████████| 5/5 [00:13<00:00,  2.64s/it]\n",
      "100%|██████████| 5/5 [00:13<00:00,  2.67s/it]\n",
      "100%|██████████| 5/5 [00:13<00:00,  2.73s/it]\n",
      "100%|██████████| 5/5 [00:15<00:00,  3.13s/it]\n",
      "100%|██████████| 5/5 [00:18<00:00,  3.61s/it]\n",
      "100%|██████████| 5/5 [00:18<00:00,  3.77s/it]\n"
     ]
    }
   ],
   "source": [
    "q_obj2 = []\n",
    "t_obj2 = []\n",
    "for sh in ts_samplers:\n",
    "    q, t, _, res = sh(100,[])\n",
    "    q_obj2.append(q)\n",
    "    t_obj2.append(t)"
   ]
  },
  {
   "cell_type": "code",
   "execution_count": 71,
   "metadata": {},
   "outputs": [
    {
     "name": "stdout",
     "output_type": "stream",
     "text": [
      "0\n",
      "1\n",
      "[DijkstraSPP] optimized distance/ start-distance = 4.61 / 5.19 = 0.89\n",
      "138\n",
      "2\n",
      "[DijkstraSPP] optimized distance/ start-distance = 4.60 / 6.22 = 0.74\n",
      "164\n",
      "1\n",
      "2\n",
      "2\n",
      "[DijkstraSPP] optimized distance/ start-distance = 6.12 / 7.92 = 0.77\n",
      "135\n",
      "0\n",
      "2\n",
      "2\n",
      "1\n",
      "2\n",
      "[DijkstraSPP] optimized distance/ start-distance = 5.84 / 7.92 = 0.74\n",
      "112\n",
      "1\n",
      "0\n",
      "2\n",
      "[DijkstraSPP] optimized distance/ start-distance = 4.73 / 6.15 = 0.77\n",
      "134\n",
      "2\n",
      "2\n",
      "0\n",
      "2\n",
      "[DijkstraSPP] optimized distance/ start-distance = 0.71 / 0.71 = 1.00\n",
      "12\n",
      "1\n",
      "1\n",
      "[DijkstraSPP] optimized distance/ start-distance = 4.60 / 6.07 = 0.76\n",
      "129\n",
      "2\n",
      "[DijkstraSPP] optimized distance/ start-distance = 0.06 / 0.06 = 1.00\n",
      "1\n",
      "0\n",
      "0\n",
      "0\n",
      "[DijkstraSPP] optimized distance/ start-distance = 4.70 / 6.08 = 0.77\n",
      "131\n",
      "2\n",
      "2\n",
      "2\n",
      "0\n",
      "0\n",
      "[DijkstraSPP] optimized distance/ start-distance = 0.53 / 0.53 = 1.00\n",
      "12\n",
      "1\n",
      "[DijkstraSPP] optimized distance/ start-distance = 0.56 / 0.56 = 1.00\n",
      "12\n",
      "0\n",
      "[DijkstraSPP] optimized distance/ start-distance = 4.79 / 6.12 = 0.78\n",
      "133\n",
      "2\n",
      "1\n",
      "2\n",
      "[DijkstraSPP] optimized distance/ start-distance = 0.41 / 0.41 = 1.00\n",
      "8\n",
      "1\n",
      "2\n",
      "[DijkstraSPP] optimized distance/ start-distance = 0.55 / 0.55 = 1.00\n",
      "10\n",
      "2\n",
      "2\n",
      "2\n",
      "0\n",
      "1\n",
      "1\n",
      "[DijkstraSPP] optimized distance/ start-distance = 0.17 / 0.17 = 1.00\n",
      "2\n",
      "2\n",
      "2\n",
      "2\n",
      "2\n",
      "2\n",
      "2\n",
      "2\n",
      "2\n",
      "2\n",
      "1\n",
      "2\n",
      "2\n",
      "2\n",
      "1\n",
      "2\n",
      "2\n",
      "2\n",
      "2\n",
      "[DijkstraSPP] optimized distance/ start-distance = 5.76 / 7.50 = 0.77\n",
      "126\n",
      "1\n",
      "2\n",
      "1\n",
      "[DijkstraSPP] optimized distance/ start-distance = 3.50 / 4.52 = 0.77\n",
      "41\n",
      "2\n",
      "2\n",
      "2\n",
      "2\n",
      "2\n",
      "2\n",
      "1\n",
      "2\n",
      "[DijkstraSPP] optimized distance/ start-distance = 5.43 / 7.47 = 0.73\n",
      "98\n",
      "2\n",
      "[DijkstraSPP] optimized distance/ start-distance = 5.49 / 7.61 = 0.72\n",
      "100\n",
      "2\n",
      "2\n",
      "2\n",
      "1\n",
      "[DijkstraSPP] optimized distance/ start-distance = 0.00 / 0.00 = nan\n",
      "0\n",
      "2\n",
      "2\n",
      "2\n",
      "2\n",
      "2\n",
      "1\n",
      "2\n",
      "[DijkstraSPP] optimized distance/ start-distance = 5.39 / 7.47 = 0.72\n",
      "98\n",
      "0\n",
      "2\n",
      "2\n",
      "2\n",
      "2\n",
      "1\n",
      "2\n",
      "1\n",
      "2\n",
      "2\n",
      "2\n",
      "2\n",
      "2\n",
      "2\n",
      "2\n",
      "2\n",
      "2\n",
      "1\n",
      "2\n",
      "2\n",
      "2\n",
      "2\n",
      "1\n",
      "2\n",
      "1\n",
      "2\n",
      "[DijkstraSPP] optimized distance/ start-distance = 0.41 / 0.41 = 1.00\n",
      "7\n",
      "0\n",
      "1\n",
      "[DijkstraSPP] optimized distance/ start-distance = 4.70 / 6.04 = 0.78\n",
      "127\n",
      "0\n",
      "[DijkstraSPP] optimized distance/ start-distance = 4.78 / 6.16 = 0.78\n",
      "130\n",
      "1\n",
      "[DijkstraSPP] optimized distance/ start-distance = 4.85 / 6.39 = 0.76\n",
      "135\n",
      "2\n",
      "[DijkstraSPP] optimized distance/ start-distance = 4.63 / 6.25 = 0.74\n",
      "134\n",
      "2\n",
      "1\n",
      "2\n",
      "[DijkstraSPP] optimized distance/ start-distance = 0.33 / 0.33 = 1.00\n",
      "8\n",
      "2\n",
      "1\n",
      "0\n",
      "[DijkstraSPP] optimized distance/ start-distance = 0.19 / 0.19 = 1.00\n",
      "4\n",
      "2\n",
      "2\n",
      "2\n",
      "0\n",
      "1\n",
      "2\n",
      "2\n",
      "0\n",
      "2\n",
      "2\n",
      "1\n",
      "[DijkstraSPP] optimized distance/ start-distance = 3.91 / 6.13 = 0.64\n",
      "84\n",
      "2\n",
      "[DijkstraSPP] optimized distance/ start-distance = 3.74 / 5.86 = 0.64\n",
      "83\n",
      "2\n",
      "0\n",
      "2\n",
      "0\n",
      "[DijkstraSPP] optimized distance/ start-distance = 3.71 / 5.83 = 0.64\n",
      "85\n",
      "2\n",
      "[DijkstraSPP] optimized distance/ start-distance = 2.73 / 4.29 = 0.64\n",
      "81\n",
      "2\n",
      "2\n",
      "2\n",
      "2\n",
      "1\n",
      "2\n",
      "2\n",
      "2\n",
      "[DijkstraSPP] optimized distance/ start-distance = 2.73 / 4.29 = 0.64\n",
      "81\n",
      "2\n",
      "2\n",
      "2\n",
      "2\n",
      "1\n",
      "2\n",
      "2\n",
      "2\n",
      "1\n",
      "2\n",
      "[DijkstraSPP] optimized distance/ start-distance = 3.87 / 5.95 = 0.65\n",
      "82\n",
      "1\n",
      "2\n",
      "[DijkstraSPP] optimized distance/ start-distance = 0.93 / 0.93 = 1.00\n",
      "18\n",
      "2\n",
      "2\n",
      "2\n",
      "0\n",
      "2\n",
      "2\n",
      "2\n",
      "2\n",
      "2\n",
      "2\n",
      "2\n",
      "[DijkstraSPP] optimized distance/ start-distance = 5.18 / 7.13 = 0.73\n",
      "97\n",
      "2\n",
      "2\n",
      "2\n",
      "2\n",
      "2\n",
      "2\n",
      "2\n",
      "2\n",
      "2\n",
      "2\n",
      "2\n",
      "0\n",
      "2\n",
      "[DijkstraSPP] optimized distance/ start-distance = 4.83 / 5.41 = 0.89\n",
      "71\n",
      "2\n",
      "2\n",
      "2\n",
      "0\n",
      "2\n",
      "1\n",
      "2\n",
      "2\n",
      "0\n",
      "2\n",
      "[DijkstraSPP] optimized distance/ start-distance = 0.37 / 0.37 = 1.00\n",
      "4\n",
      "2\n",
      "2\n",
      "2\n",
      "2\n",
      "1\n",
      "2\n",
      "[DijkstraSPP] optimized distance/ start-distance = 4.87 / 6.43 = 0.76\n",
      "129\n",
      "1\n",
      "[DijkstraSPP] optimized distance/ start-distance = 3.75 / 5.88 = 0.64\n",
      "85\n",
      "2\n",
      "2\n",
      "[DijkstraSPP] optimized distance/ start-distance = 4.20 / 5.26 = 0.80\n",
      "32\n",
      "2\n",
      "2\n",
      "2\n",
      "2\n",
      "2\n",
      "0\n",
      "2\n",
      "1\n",
      "2\n",
      "[DijkstraSPP] optimized distance/ start-distance = 5.18 / 7.15 = 0.73\n",
      "96\n",
      "2\n",
      "1\n",
      "0\n",
      "1\n",
      "[DijkstraSPP] optimized distance/ start-distance = 4.73 / 6.38 = 0.74\n",
      "134\n",
      "2\n",
      "2\n",
      "2\n",
      "2\n",
      "[DijkstraSPP] optimized distance/ start-distance = 4.67 / 5.40 = 0.86\n",
      "69\n",
      "2\n",
      "0\n",
      "2\n",
      "0\n",
      "[DijkstraSPP] optimized distance/ start-distance = 3.50 / 4.52 = 0.77\n",
      "41\n",
      "2\n",
      "[DijkstraSPP] optimized distance/ start-distance = 5.24 / 5.86 = 0.90\n",
      "100\n",
      "2\n",
      "2\n",
      "2\n",
      "2\n",
      "0\n",
      "2\n",
      "[DijkstraSPP] optimized distance/ start-distance = 0.18 / 0.18 = 1.00\n",
      "3\n",
      "2\n",
      "[DijkstraSPP] optimized distance/ start-distance = 4.16 / 5.54 = 0.75\n",
      "71\n",
      "2\n",
      "0\n",
      "2\n",
      "2\n",
      "[DijkstraSPP] optimized distance/ start-distance = 4.32 / 5.42 = 0.80\n",
      "31\n",
      "2\n",
      "2\n",
      "2\n",
      "2\n",
      "2\n",
      "[DijkstraSPP] optimized distance/ start-distance = 0.00 / 0.00 = nan\n",
      "0\n",
      "2\n",
      "1\n",
      "2\n",
      "[DijkstraSPP] optimized distance/ start-distance = 3.77 / 5.82 = 0.65\n",
      "83\n",
      "0\n",
      "0\n",
      "[DijkstraSPP] optimized distance/ start-distance = 4.71 / 5.99 = 0.79\n",
      "136\n",
      "2\n",
      "[DijkstraSPP] optimized distance/ start-distance = 0.28 / 0.28 = 1.00\n",
      "7\n",
      "2\n",
      "2\n",
      "2\n",
      "2\n",
      "1\n",
      "1\n",
      "[DijkstraSPP] optimized distance/ start-distance = 4.69 / 5.84 = 0.80\n",
      "135\n",
      "0\n",
      "2\n",
      "2\n",
      "[DijkstraSPP] optimized distance/ start-distance = 6.02 / 8.03 = 0.75\n",
      "131\n",
      "1\n",
      "2\n",
      "2\n",
      "2\n",
      "2\n",
      "[DijkstraSPP] optimized distance/ start-distance = 3.66 / 5.14 = 0.71\n",
      "48\n",
      "2\n",
      "2\n",
      "2\n",
      "2\n",
      "2\n",
      "2\n",
      "2\n",
      "2\n",
      "2\n",
      "2\n",
      "0\n",
      "2\n",
      "2\n",
      "2\n",
      "2\n",
      "0\n",
      "2\n",
      "[DijkstraSPP] optimized distance/ start-distance = 4.14 / 5.42 = 0.76\n",
      "72\n",
      "2\n",
      "0\n",
      "[DijkstraSPP] optimized distance/ start-distance = 4.18 / 5.78 = 0.72\n",
      "66\n",
      "2\n",
      "[DijkstraSPP] optimized distance/ start-distance = 4.17 / 5.85 = 0.71\n",
      "72\n",
      "2\n",
      "2\n",
      "2\n",
      "2\n",
      "0\n",
      "2\n",
      "2\n",
      "2\n",
      "2\n",
      "2\n",
      "2\n",
      "2\n",
      "2\n",
      "[DijkstraSPP] optimized distance/ start-distance = 4.01 / 5.40 = 0.74\n",
      "80\n",
      "2\n",
      "0\n",
      "[DijkstraSPP] optimized distance/ start-distance = 3.78 / 5.06 = 0.75\n",
      "51\n",
      "2\n",
      "2\n",
      "2\n",
      "2\n",
      "0\n",
      "2\n",
      "[DijkstraSPP] optimized distance/ start-distance = 4.97 / 6.65 = 0.75\n",
      "77\n",
      "2\n",
      "2\n",
      "2\n",
      "2\n",
      "2\n",
      "2\n",
      "2\n",
      "0\n",
      "2\n",
      "2\n",
      "2\n",
      "2\n",
      "2\n",
      "1\n",
      "2\n",
      "[DijkstraSPP] optimized distance/ start-distance = 4.82 / 6.43 = 0.75\n",
      "165\n",
      "2\n",
      "2\n",
      "2\n",
      "0\n",
      "2\n",
      "2\n",
      "2\n",
      "1\n",
      "1\n",
      "[DijkstraSPP] optimized distance/ start-distance = 0.23 / 0.23 = 1.00\n",
      "5\n",
      "2\n",
      "2\n",
      "2\n",
      "2\n",
      "[DijkstraSPP] optimized distance/ start-distance = 5.89 / 7.45 = 0.79\n",
      "129\n",
      "2\n",
      "2\n",
      "2\n",
      "1\n",
      "2\n",
      "2\n",
      "2\n",
      "2\n",
      "2\n",
      "1\n",
      "2\n",
      "[DijkstraSPP] optimized distance/ start-distance = 5.85 / 7.54 = 0.78\n",
      "125\n",
      "2\n",
      "2\n",
      "1\n",
      "0\n",
      "0\n",
      "2\n",
      "0\n",
      "2\n",
      "2\n",
      "0\n",
      "2\n",
      "2\n",
      "2\n",
      "0\n",
      "2\n",
      "2\n",
      "2\n",
      "2\n",
      "[DijkstraSPP] optimized distance/ start-distance = 6.31 / 7.32 = 0.86\n",
      "114\n",
      "2\n",
      "0\n",
      "2\n",
      "0\n",
      "0\n",
      "[DijkstraSPP] optimized distance/ start-distance = 4.74 / 5.47 = 0.87\n",
      "73\n",
      "1\n",
      "[DijkstraSPP] optimized distance/ start-distance = 0.25 / 0.25 = 1.00\n",
      "4\n",
      "1\n",
      "0\n",
      "2\n",
      "[DijkstraSPP] optimized distance/ start-distance = 0.34 / 0.34 = 1.00\n",
      "5\n",
      "1\n",
      "[DijkstraSPP] optimized distance/ start-distance = 2.61 / 4.18 = 0.63\n",
      "78\n",
      "2\n",
      "2\n",
      "2\n",
      "[DijkstraSPP] optimized distance/ start-distance = 0.58 / 0.58 = 1.00\n",
      "11\n",
      "2\n",
      "2\n",
      "2\n",
      "2\n",
      "2\n",
      "2\n",
      "2\n",
      "1\n",
      "2\n",
      "[DijkstraSPP] optimized distance/ start-distance = 3.76 / 6.04 = 0.62\n",
      "91\n",
      "2\n",
      "2\n",
      "2\n",
      "1\n",
      "2\n",
      "[DijkstraSPP] optimized distance/ start-distance = 0.48 / 1.02 = 0.47\n",
      "14\n",
      "2\n",
      "2\n",
      "2\n",
      "2\n",
      "2\n",
      "2\n",
      "2\n",
      "2\n",
      "2\n",
      "2\n",
      "2\n",
      "1\n",
      "0\n",
      "[DijkstraSPP] optimized distance/ start-distance = 0.29 / 0.29 = 1.00\n",
      "7\n",
      "2\n",
      "[DijkstraSPP] optimized distance/ start-distance = 4.78 / 6.19 = 0.77\n",
      "137\n",
      "0\n",
      "2\n",
      "1\n",
      "2\n",
      "1\n",
      "[DijkstraSPP] optimized distance/ start-distance = 2.67 / 3.74 = 0.71\n",
      "85\n",
      "2\n",
      "0\n",
      "[DijkstraSPP] optimized distance/ start-distance = 4.15 / 5.41 = 0.77\n",
      "50\n"
     ]
    },
    {
     "ename": "KeyboardInterrupt",
     "evalue": "",
     "output_type": "error",
     "traceback": [
      "\u001b[0;31m---------------------------------------------------------------------------\u001b[0m",
      "\u001b[0;31mKeyboardInterrupt\u001b[0m                         Traceback (most recent call last)",
      "\u001b[0;32m<ipython-input-71-8d9ee09dee92>\u001b[0m in \u001b[0;36m<module>\u001b[0;34m\u001b[0m\n\u001b[1;32m     54\u001b[0m             \u001b[0;31m#break\u001b[0m\u001b[0;34m\u001b[0m\u001b[0;34m\u001b[0m\u001b[0;34m\u001b[0m\u001b[0m\n\u001b[1;32m     55\u001b[0m         \u001b[0;31m#frame+=1\u001b[0m\u001b[0;34m\u001b[0m\u001b[0;34m\u001b[0m\u001b[0;34m\u001b[0m\u001b[0m\n\u001b[0;32m---> 56\u001b[0;31m         \u001b[0mtime\u001b[0m\u001b[0;34m.\u001b[0m\u001b[0msleep\u001b[0m\u001b[0;34m(\u001b[0m\u001b[0;36m0.01\u001b[0m\u001b[0;34m)\u001b[0m\u001b[0;34m\u001b[0m\u001b[0;34m\u001b[0m\u001b[0m\n\u001b[0m\u001b[1;32m     57\u001b[0m     \u001b[0mstart\u001b[0m \u001b[0;34m=\u001b[0m \u001b[0mnxt\u001b[0m\u001b[0;34m.\u001b[0m\u001b[0mcopy\u001b[0m\u001b[0;34m(\u001b[0m\u001b[0;34m)\u001b[0m\u001b[0;34m\u001b[0m\u001b[0;34m\u001b[0m\u001b[0m\n\u001b[1;32m     58\u001b[0m     \u001b[0mtime\u001b[0m\u001b[0;34m.\u001b[0m\u001b[0msleep\u001b[0m\u001b[0;34m(\u001b[0m\u001b[0;36m0.01\u001b[0m\u001b[0;34m)\u001b[0m\u001b[0;34m\u001b[0m\u001b[0;34m\u001b[0m\u001b[0m\n",
      "\u001b[0;31mKeyboardInterrupt\u001b[0m: "
     ]
    }
   ],
   "source": [
    "import time\n",
    "from visibility_utils import point_in_regions\n",
    "centers = [r.ChebyshevCenter() for r in regions_connected_component]\n",
    "# meshcat.SetProperty(f\"/Grid\", \"visible\", False)\n",
    "# meshcat.SetProperty(f\"/drake/visualizer/shunk\", \"visible\", False)\n",
    "objs = [0,1,2,2,2,2,2]\n",
    "\n",
    "np.random.seed(11)\n",
    "start = centers[1]\n",
    "cur_time = 0\n",
    "obj = 0\n",
    "dist_ratio = []\n",
    "for _ in range(100):\n",
    "    #nxt = vs.sample_in_regions() #\n",
    "    while True:\n",
    "        nxt = q_test_obj[obj][np.random.choice(len(q_test_obj[obj]))]\n",
    "        objidx = np.random.choice(len(objs))\n",
    "        obj = objs[objidx]\n",
    "        print(obj)\n",
    "        if point_in_regions(nxt, regions_connected_component):\n",
    "            break\n",
    "    #     #break\n",
    "    #     print('not in regions')\n",
    "    #nxt = inreg_q[np.random.choice(len(inreg_q))]#sample_cfree(1, 1000, [])[0]\n",
    "        # if point_in_regions(nxt_, regions_connected_component[9:]):\n",
    "        #     nxt = nxt_.squeeze()\n",
    "        #     break\n",
    "        # nxt = centers[np.random.choice(len(centers))] #sample_cfree(1, 1000, [])[0].reshape(-1,1)#\n",
    "        # #plot_endeff_pose(nxt, str(0))\n",
    "        # if nxt.squeeze()[0] != start.squeeze()[0]:\n",
    "        #     break\n",
    "    #print(f\"start {start} next {nxt}\")\n",
    "\n",
    "    wp, dist = dspp.solve(start, nxt, refine_path=True)#dijkstra_spp(start, nxt, node_intersections, base_ad_mat, vs.regions, point_conversion, optimize= True)\n",
    "    #wp2, dist2 = dspp2.solve(start, nxt, refine_path=True)\n",
    "    #dist_ratio.append([dist, dist2])\n",
    "    #print(dist)\n",
    "    meshcat.Delete(\"/iris/points/traj/\")\n",
    "    dense_waypoints = densify_waypoints(wp, densify=60)\n",
    "    dense_waypoints_plt = densify_waypoints(wp, densify=90)\n",
    "    plot_endeff_traj(dense_waypoints_plt)\n",
    "    print(len(dense_waypoints))\n",
    "    for qa in dense_waypoints:\n",
    "        #anim_endeff_traj(dense_waypoints_plt, animation, frame)\n",
    "        #qa = #Ratfk.ComputeQValue(ta, np.zeros(3))\n",
    "        showres(qa)\n",
    "        #diagram_context.SetTime(cur_time)\n",
    "        if not checker.CheckConfigCollisionFree(qa):\n",
    "            print('col')\n",
    "            break\n",
    "            # for idx, r in enumerate(regions_connected_component):\n",
    "            #     if point_in_regions(qa, [r]):\n",
    "            #         print(f\"collision in region {largest_con_comp[idx]}\")\n",
    "            #break\n",
    "        #frame+=1\n",
    "        time.sleep(0.01)\n",
    "    start = nxt.copy()\n",
    "    time.sleep(0.01)\n",
    "        \n",
    "        # meshcat.Delete(\"/iris/points/traj/\")\n"
   ]
  },
  {
   "cell_type": "code",
   "execution_count": 46,
   "metadata": {},
   "outputs": [],
   "source": [
    "ratios = [ d[0]/d[1] if d[1]>0 else -1 for d in dist_ratio]"
   ]
  },
  {
   "cell_type": "code",
   "execution_count": 47,
   "metadata": {},
   "outputs": [
    {
     "data": {
      "text/plain": [
       "[1.0,\n",
       " 0.8688239872538255,\n",
       " 1.0,\n",
       " 1.0,\n",
       " 1.0,\n",
       " -1,\n",
       " 1.0,\n",
       " 1.0,\n",
       " 1.0,\n",
       " 1.0,\n",
       " 1.0,\n",
       " 1.0,\n",
       " 1.0,\n",
       " 1.0,\n",
       " 1.0,\n",
       " 1.0,\n",
       " 1.0,\n",
       " -1,\n",
       " 1.0,\n",
       " 1.0,\n",
       " 1.0,\n",
       " 1.0,\n",
       " 1.0,\n",
       " 1.0,\n",
       " 1.0,\n",
       " 1.0,\n",
       " 1.0,\n",
       " 1.0,\n",
       " -1,\n",
       " 1.0,\n",
       " -1,\n",
       " -1,\n",
       " -1,\n",
       " 1.0,\n",
       " -1,\n",
       " 1.0,\n",
       " 1.0,\n",
       " 0.9285505159570876,\n",
       " 1.0,\n",
       " 1.0,\n",
       " 1.0,\n",
       " 1.0,\n",
       " 1.0,\n",
       " 1.0,\n",
       " 1.0,\n",
       " 1.0,\n",
       " 1.0,\n",
       " 1.0,\n",
       " 0.9285505160409769,\n",
       " 1.0,\n",
       " 1.0,\n",
       " 1.0,\n",
       " 1.0,\n",
       " 1.0,\n",
       " 1.0,\n",
       " 1.0,\n",
       " 1.0,\n",
       " -1,\n",
       " 1.0,\n",
       " 1.0,\n",
       " 0.9795628634134349,\n",
       " 1.0,\n",
       " 1.0,\n",
       " -1,\n",
       " -1,\n",
       " -1,\n",
       " 1.0,\n",
       " 1.0,\n",
       " 1.0,\n",
       " 1.0,\n",
       " 1.0,\n",
       " 1.0,\n",
       " 1.0,\n",
       " 1.0,\n",
       " 1.0,\n",
       " 1.0,\n",
       " 1.0,\n",
       " 1.0,\n",
       " 1.0,\n",
       " 1.0,\n",
       " 1.0,\n",
       " 1.0,\n",
       " 0.896786663408607,\n",
       " 1.0,\n",
       " 1.0,\n",
       " 0.896786663408607,\n",
       " 1.0,\n",
       " 1.0,\n",
       " 1.0,\n",
       " 1.0,\n",
       " 1.0,\n",
       " -1,\n",
       " 1.0,\n",
       " 0.8345875511131731,\n",
       " 0.9754095843093471,\n",
       " 1.0,\n",
       " 0.758561154981156,\n",
       " 1.0,\n",
       " 0.8688239872538255]"
      ]
     },
     "execution_count": 47,
     "metadata": {},
     "output_type": "execute_result"
    }
   ],
   "source": [
    "ratios"
   ]
  },
  {
   "cell_type": "code",
   "execution_count": 45,
   "metadata": {},
   "outputs": [
    {
     "data": {
      "text/plain": [
       "[[4.204401978409768, 4.204401978409768],\n",
       " [5.867827938695682, 6.7537591327821],\n",
       " [5.879262197142257, 5.879262197142257],\n",
       " [4.836261769751908, 4.836261769751908],\n",
       " [4.701778826359279, 4.701778826359279],\n",
       " [0.0, 0.0],\n",
       " [4.701778826361859, 4.701778826361859],\n",
       " [3.833280757240527, 3.833280757240527],\n",
       " [2.2911506457631163, 2.2911506457631163],\n",
       " [5.054746155608692, 5.054746155608692],\n",
       " [3.875287443144531, 3.875287443144531],\n",
       " [5.073897066989827, 5.073897066989827],\n",
       " [4.701778826361859, 4.701778826361859],\n",
       " [4.701778826359279, 4.701778826359279],\n",
       " [0.5965196616891915, 0.5965196616891915],\n",
       " [6.0609470695369545, 6.0609470695369545],\n",
       " [5.037060434625153, 5.037060434625153],\n",
       " [0.0, 0.0],\n",
       " [4.874672195808122, 4.874672195808122],\n",
       " [4.874672195691977, 4.874672195691977],\n",
       " [4.701778826359279, 4.701778826359279],\n",
       " [5.7720434899283655, 5.7720434899283655],\n",
       " [5.037060434625153, 5.037060434625153],\n",
       " [5.407049135950853, 5.407049135950853],\n",
       " [1.2260983856798937, 1.2260983856798937],\n",
       " [5.772043489900792, 5.772043489900792],\n",
       " [5.7720434899283655, 5.7720434899283655],\n",
       " [6.060947069503969, 6.060947069503969],\n",
       " [0.0, 0.0],\n",
       " [4.7023537124763966, 4.7023537124763966],\n",
       " [0.0, 0.0],\n",
       " [0.0, 0.0],\n",
       " [0.0, 0.0],\n",
       " [4.702353710592812, 4.702353710592812],\n",
       " [0.0, 0.0],\n",
       " [4.7023537124763966, 4.7023537124763966],\n",
       " [5.358030522719016, 5.358030522719016],\n",
       " [5.969135997680399, 6.428445081986535],\n",
       " [4.7023537124763966, 4.7023537124763966],\n",
       " [5.31076879066979, 5.31076879066979],\n",
       " [1.065257873412295, 1.065257873412295],\n",
       " [1.088983751331059, 1.088983751331059],\n",
       " [6.060947069503969, 6.060947069503969],\n",
       " [4.7023537124763966, 4.7023537124763966],\n",
       " [4.791289701768858, 4.791289701768858],\n",
       " [6.59146577564426, 6.59146577564426],\n",
       " [6.258387456190528, 6.258387456190528],\n",
       " [6.258387456200967, 6.258387456200967],\n",
       " [5.969135998294842, 6.428445082067483],\n",
       " [1.2611574202731444, 1.2611574202731444],\n",
       " [4.669119043889622, 4.669119043889622],\n",
       " [5.887322211053363, 5.887322211053363],\n",
       " [4.321129683859171, 4.321129683859171],\n",
       " [1.5296988079028353, 1.5296988079028353],\n",
       " [1.4911421729847467, 1.4911421729847467],\n",
       " [4.622988921716775, 4.622988921716775],\n",
       " [0.5965196616891915, 0.5965196616891915],\n",
       " [0.0, 0.0],\n",
       " [0.5965196616891915, 0.5965196616891915],\n",
       " [5.347893281359951, 5.347893281359951],\n",
       " [4.279403340607466, 4.368686789222734],\n",
       " [5.184150381382592, 5.184150381382592],\n",
       " [6.517262645107436, 6.517262645107436],\n",
       " [0.0, 0.0],\n",
       " [0.0, 0.0],\n",
       " [0.0, 0.0],\n",
       " [4.7023537124763966, 4.7023537124763966],\n",
       " [4.4227653095809085, 4.4227653095809085],\n",
       " [4.422765309543198, 4.422765309543198],\n",
       " [4.702353710592812, 4.702353710592812],\n",
       " [5.707347474470968, 5.707347474470968],\n",
       " [4.607740831063726, 4.607740831063726],\n",
       " [4.702353710592812, 4.702353710592812],\n",
       " [0.5965196616891915, 0.5965196616891915],\n",
       " [5.044461294748199, 5.044461294748199],\n",
       " [3.4746253799459152, 3.4746253799459152],\n",
       " [4.702353710592812, 4.702353710592812],\n",
       " [4.7023537124763966, 4.7023537124763966],\n",
       " [4.701778826359279, 4.701778826359279],\n",
       " [4.930382850355526, 4.930382850355526],\n",
       " [5.178373625093759, 5.178373625093759],\n",
       " [0.5965196616891915, 0.5965196616891915],\n",
       " [5.849702402868322, 6.5229587387418535],\n",
       " [1.210635630224479, 1.210635630224479],\n",
       " [5.789384417800555, 5.789384417800555],\n",
       " [5.849702402868322, 6.5229587387418535],\n",
       " [1.8692543926025036, 1.8692543926025036],\n",
       " [1.4512838863131512, 1.4512838863131512],\n",
       " [4.836261769751908, 4.836261769751908],\n",
       " [5.233514714866828, 5.233514714866828],\n",
       " [5.938018377463729, 5.938018377463729],\n",
       " [0.0, 0.0],\n",
       " [0.5965196616891915, 0.5965196616891915],\n",
       " [6.758813285768943, 8.098387373204927],\n",
       " [7.083939154215781, 7.262527730062922],\n",
       " [5.833499887888916, 5.833499887888916],\n",
       " [4.944968458570126, 6.518879099066137],\n",
       " [1.4287487161580827, 1.4287487161580827],\n",
       " [5.867827938695682, 6.7537591327821]]"
      ]
     },
     "execution_count": 45,
     "metadata": {},
     "output_type": "execute_result"
    }
   ],
   "source": [
    "dist_ratio"
   ]
  },
  {
   "cell_type": "code",
   "execution_count": null,
   "metadata": {},
   "outputs": [],
   "source": [
    "from pydrake.all import RandomGenerator\n",
    "gen = RandomGenerator(4)\n",
    "Ns = 10000\n",
    "s_reg = []\n",
    "for r in regions_red:\n",
    "    samps = []\n",
    "    for _ in range(Ns):\n",
    "        if len(samps):\n",
    "            samps.append(r.UniformSample(gen, samps[-1]))\n",
    "        else:\n",
    "            \n",
    "            samps.append(r.UniformSample(gen))\n",
    "    s_reg.append(samps)\n",
    "\n",
    "frac_vol_in_collision = []\n",
    "for s in s_reg:\n",
    "    tot_col = 0\n",
    "    for pt in s:\n",
    "        if not checker.CheckConfigCollisionFree(pt):\n",
    "            tot_col+=1\n",
    "    frac_vol_in_collision.append(tot_col/Ns)"
   ]
  },
  {
   "cell_type": "code",
   "execution_count": null,
   "metadata": {},
   "outputs": [
    {
     "data": {
      "text/plain": [
       "[0.0034,\n",
       " 0.0052,\n",
       " 0.0,\n",
       " 0.6628,\n",
       " 0.0,\n",
       " 0.2463,\n",
       " 0.0019,\n",
       " 0.0012,\n",
       " 0.0006,\n",
       " 0.0,\n",
       " 0.5147,\n",
       " 0.0,\n",
       " 0.9858,\n",
       " 0.0,\n",
       " 0.0,\n",
       " 0.3574,\n",
       " 0.0002,\n",
       " 0.0,\n",
       " 0.5887,\n",
       " 0.0002,\n",
       " 0.0003,\n",
       " 0.0004,\n",
       " 0.0,\n",
       " 0.0005,\n",
       " 0.0,\n",
       " 0.0014,\n",
       " 0.4302,\n",
       " 0.0,\n",
       " 0.1426,\n",
       " 0.0,\n",
       " 0.0001,\n",
       " 0.0,\n",
       " 0.0,\n",
       " 0.0015,\n",
       " 0.0686,\n",
       " 0.2216,\n",
       " 0.0,\n",
       " 0.0,\n",
       " 0.0,\n",
       " 0.0005,\n",
       " 0.3266,\n",
       " 0.0,\n",
       " 0.0001,\n",
       " 0.0018,\n",
       " 0.0032,\n",
       " 0.0,\n",
       " 0.0131,\n",
       " 0.2385,\n",
       " 0.0005,\n",
       " 0.0115,\n",
       " 0.0,\n",
       " 0.0003,\n",
       " 0.2041,\n",
       " 0.0004,\n",
       " 0.0211,\n",
       " 0.4811,\n",
       " 0.1709,\n",
       " 0.2005,\n",
       " 0.0,\n",
       " 0.0358,\n",
       " 0.0172,\n",
       " 0.4748,\n",
       " 0.0067,\n",
       " 0.0022,\n",
       " 0.0021,\n",
       " 1.0,\n",
       " 0.4247]"
      ]
     },
     "execution_count": 41,
     "metadata": {},
     "output_type": "execute_result"
    }
   ],
   "source": [
    "frac_vol_in_collision"
   ]
  },
  {
   "cell_type": "code",
   "execution_count": null,
   "metadata": {},
   "outputs": [],
   "source": [
    "from pydrake.all import RandomGenerator\n",
    "gen = RandomGenerator(33412)\n",
    "Ns = 10000\n",
    "s_reg = []\n",
    "for r in regions_red:\n",
    "    samps = []\n",
    "    for _ in range(Ns):\n",
    "        if len(samps):\n",
    "            samps.append(r.UniformSample(gen, samps[-1]))\n",
    "        else:\n",
    "            \n",
    "            samps.append(r.UniformSample(gen))\n",
    "    s_reg.append(samps)\n",
    "\n",
    "frac_vol_in_collision = []\n",
    "for s in s_reg:\n",
    "    tot_col = 0\n",
    "    for pt in s:\n",
    "        if not checker.CheckConfigCollisionFree(pt):\n",
    "            tot_col+=1\n",
    "    frac_vol_in_collision.append(tot_col/Ns)"
   ]
  },
  {
   "cell_type": "code",
   "execution_count": null,
   "metadata": {},
   "outputs": [
    {
     "data": {
      "text/plain": [
       "[0.0005,\n",
       " 0.0054,\n",
       " 0.0017,\n",
       " 0.6638,\n",
       " 0.0002,\n",
       " 0.4913,\n",
       " 0.0042,\n",
       " 0.0001,\n",
       " 0.0004,\n",
       " 0.0,\n",
       " 0.5063,\n",
       " 0.0,\n",
       " 0.8347,\n",
       " 0.0002,\n",
       " 0.0,\n",
       " 0.6147,\n",
       " 0.0,\n",
       " 0.0001,\n",
       " 0.1047,\n",
       " 0.0017,\n",
       " 0.0004,\n",
       " 0.0003,\n",
       " 0.0,\n",
       " 0.0001,\n",
       " 0.0,\n",
       " 0.0002,\n",
       " 0.0502,\n",
       " 0.0,\n",
       " 0.2121,\n",
       " 0.0,\n",
       " 0.0,\n",
       " 0.0,\n",
       " 0.0,\n",
       " 0.0001,\n",
       " 0.0583,\n",
       " 0.6258,\n",
       " 0.0,\n",
       " 0.0,\n",
       " 0.0,\n",
       " 0.0,\n",
       " 0.3231,\n",
       " 0.0001,\n",
       " 0.0,\n",
       " 0.0023,\n",
       " 0.0,\n",
       " 0.0,\n",
       " 0.0072,\n",
       " 0.5182,\n",
       " 0.0001,\n",
       " 0.0019,\n",
       " 0.0057,\n",
       " 0.0004,\n",
       " 0.3006,\n",
       " 0.0057,\n",
       " 0.0088,\n",
       " 0.9575,\n",
       " 0.2064,\n",
       " 0.2151,\n",
       " 0.0001,\n",
       " 0.0196,\n",
       " 0.0165,\n",
       " 0.3665,\n",
       " 0.0147,\n",
       " 0.0381,\n",
       " 0.0014,\n",
       " 0.9956,\n",
       " 0.6514]"
      ]
     },
     "execution_count": 43,
     "metadata": {},
     "output_type": "execute_result"
    }
   ],
   "source": [
    "frac_vol_in_collision"
   ]
  },
  {
   "cell_type": "code",
   "execution_count": null,
   "metadata": {},
   "outputs": [
    {
     "data": {
      "text/plain": [
       "(16, 7)"
      ]
     },
     "execution_count": 49,
     "metadata": {},
     "output_type": "execute_result"
    }
   ],
   "source": [
    "regions_red[5].A().shape"
   ]
  },
  {
   "cell_type": "code",
   "execution_count": null,
   "metadata": {},
   "outputs": [
    {
     "data": {
      "text/plain": [
       "[array([-0.66845007, -1.00933303,  1.84011241, -2.04607437, -0.70442195,\n",
       "        -0.76128834,  0.18641808]),\n",
       " array([-0.72266012, -1.00999948,  1.88550914, -2.02421623, -0.66999346,\n",
       "        -0.82294984,  0.19311457]),\n",
       " array([-0.70614915, -0.98281545,  1.90474785, -2.05539254, -0.68038083,\n",
       "        -0.80818826,  0.12860824]),\n",
       " array([-0.7051177 , -0.97757664,  1.91467906, -2.02182998, -0.68722512,\n",
       "        -0.81841709,  0.13578707]),\n",
       " array([-0.81237314, -0.99857314,  1.86801351, -2.06855446, -0.67360123,\n",
       "        -0.88706794, -0.05307073]),\n",
       " array([-0.81030782, -1.00057636,  1.87134403, -2.06576664, -0.67474857,\n",
       "        -0.89063243, -0.05551409]),\n",
       " array([-0.79422371, -1.02871154,  1.87321593, -2.08573148, -0.69828024,\n",
       "        -0.90594192, -0.07939196]),\n",
       " array([-0.77299872, -0.95891979,  1.77876446, -2.03882755, -0.74183377,\n",
       "        -0.89458927, -0.14905887]),\n",
       " array([-0.76966262, -0.91365999,  1.76178385, -1.94790977, -0.76168767,\n",
       "        -0.90519977, -0.27628483]),\n",
       " array([-0.61152444, -1.04102662,  1.84135971, -1.95967731, -0.76412455,\n",
       "        -0.73072673, -0.27962515]),\n",
       " array([-0.88627966, -0.92231032,  1.80395652, -1.85340527, -0.59514487,\n",
       "        -0.84580709, -0.54137187]),\n",
       " array([-0.84919671, -0.7252881 ,  1.66678889, -1.88140646, -0.62746836,\n",
       "        -0.9452492 , -0.53812621]),\n",
       " array([-0.84939298, -0.72537414,  1.66705449, -1.88292662, -0.62776658,\n",
       "        -0.94450876, -0.53838233]),\n",
       " array([-0.55158289, -0.71723599,  1.54820887, -1.88039307, -0.86692936,\n",
       "        -1.08565337, -0.86599618]),\n",
       " array([-0.5588817 , -0.73086975,  1.54344532, -1.88350359, -0.88617512,\n",
       "        -1.08671041, -0.87395012]),\n",
       " array([-0.55653835, -0.73476768,  1.54978891, -1.87885821, -0.88837596,\n",
       "        -1.09081564, -0.87088072]),\n",
       " array([-0.55260838, -0.87652375,  1.61863059, -1.92378624, -1.04534692,\n",
       "        -1.04569435, -0.97960767]),\n",
       " array([-0.57203605, -0.89981777,  1.69742513, -1.95516575, -0.88670136,\n",
       "        -1.13803243, -0.96795139]),\n",
       " array([-0.57638408, -0.90569595,  1.69614012, -1.94089642, -0.88420593,\n",
       "        -1.14511346, -0.95638244]),\n",
       " array([-0.7614732 , -0.75656121,  1.80752534, -2.00928405, -0.86389047,\n",
       "        -0.99760681, -1.00455002]),\n",
       " array([-0.70165015, -0.8733288 ,  1.82915164, -2.02504552, -0.81344957,\n",
       "        -1.05426494, -0.97973754]),\n",
       " array([-0.73830922, -0.7742728 ,  1.87831198, -1.98169476, -0.69850023,\n",
       "        -0.9237797 , -0.93999853]),\n",
       " array([-0.643841  , -0.89652351,  1.88926202, -2.04539331, -0.85680936,\n",
       "        -0.67845514, -1.02528512]),\n",
       " array([-0.64470737, -0.77838168,  1.93020608, -2.02361909, -0.73968203,\n",
       "        -0.5851389 , -1.00358819]),\n",
       " array([-0.69630728, -0.75771421,  1.94760751, -1.98014101, -0.74535499,\n",
       "        -0.58206207, -1.07290718]),\n",
       " array([-0.65621975, -0.75999695,  1.94688189, -1.92884759, -0.70495025,\n",
       "        -0.6025062 , -1.05274311]),\n",
       " array([-0.66078379, -0.81947385,  2.06511224, -2.02279415, -0.6165973 ,\n",
       "        -0.66183183, -1.11839819]),\n",
       " array([-0.68961403, -0.66808893,  1.95720607, -2.0494107 , -0.55363257,\n",
       "        -0.66091594, -1.10406669]),\n",
       " array([-0.70989081, -0.7292856 ,  1.99200622, -2.07101734, -0.5426501 ,\n",
       "        -0.62262154, -1.10094817]),\n",
       " array([-0.75805212, -0.70785329,  2.02910638, -2.04763903, -0.48153692,\n",
       "        -0.62117525, -1.087157  ]),\n",
       " array([-0.76451158, -0.68514352,  2.03053425, -2.03710552, -0.50570142,\n",
       "        -0.61472954, -1.04685313]),\n",
       " array([-0.75554436, -0.69944905,  2.04792437, -2.05096316, -0.52021641,\n",
       "        -0.63910088, -1.03802152]),\n",
       " array([-0.70151721, -0.71694392,  2.04187068, -1.96639611, -0.55059895,\n",
       "        -0.65928433, -1.05418801]),\n",
       " array([-0.75039684, -0.74631691,  2.12131375, -2.02844464, -0.52020637,\n",
       "        -0.65789623, -1.11655441]),\n",
       " array([-0.75797247, -0.7459014 ,  2.07365325, -2.0322745 , -0.48544915,\n",
       "        -0.6899151 , -1.10459255]),\n",
       " array([-0.79573499, -0.78367207,  2.10413517, -1.97634126, -0.58312008,\n",
       "        -0.75809165, -1.16602764]),\n",
       " array([-0.78108264, -0.78827861,  2.09288845, -2.02820389, -0.5592211 ,\n",
       "        -0.73020291, -1.20753291]),\n",
       " array([-0.84167538, -0.74741514,  2.03429882, -2.08734141, -0.55516939,\n",
       "        -0.68864774, -1.18665572]),\n",
       " array([-0.78742589, -0.75358052,  2.06925026, -2.08576755, -0.58446091,\n",
       "        -0.65845527, -1.16254096]),\n",
       " array([-0.79484993, -0.66356259,  2.06037797, -2.06685037, -0.60870467,\n",
       "        -0.63276549, -1.14082655]),\n",
       " array([-0.66428046, -0.75270984,  2.07342554, -2.06603695, -0.65570808,\n",
       "        -0.62741824, -1.03818663]),\n",
       " array([-0.66679758, -0.69611159,  2.01816268, -2.08401246, -0.58475323,\n",
       "        -0.61461209, -1.02393172]),\n",
       " array([-0.65311732, -0.70372881,  2.02108407, -2.07193162, -0.56191939,\n",
       "        -0.60121538, -1.03341417]),\n",
       " array([-0.65231387, -0.69227006,  2.05310343, -2.04697815, -0.56775728,\n",
       "        -0.60201043, -1.03853743]),\n",
       " array([-0.74541854, -0.46202735,  2.21358203, -1.93214472, -0.74096498,\n",
       "        -0.45525239, -1.31264906]),\n",
       " array([-0.74681465, -0.45062931,  2.22330047, -1.93695183, -0.75141171,\n",
       "        -0.45375596, -1.31311103]),\n",
       " array([-0.76257667, -0.42201209,  2.2294026 , -1.93063926, -0.7624439 ,\n",
       "        -0.45701635, -1.31102402]),\n",
       " array([-0.7685416 , -0.4262494 ,  2.22648568, -1.92917392, -0.76505948,\n",
       "        -0.45475485, -1.31355403]),\n",
       " array([-0.78102883, -0.42026128,  2.22743426, -1.92581809, -0.74483062,\n",
       "        -0.45511031, -1.29974894]),\n",
       " array([-0.7611103 , -0.37495064,  2.20851656, -1.95638763, -0.74238459,\n",
       "        -0.45410637, -1.30468056]),\n",
       " array([-0.7037157 , -0.36439322,  2.22702471, -2.00312254, -0.76355309,\n",
       "        -0.45682112, -1.30175332]),\n",
       " array([-0.67381723, -0.38722872,  2.23962361, -1.94028723, -0.83821714,\n",
       "        -0.43963266, -1.28460283]),\n",
       " array([-0.8109702 , -0.46050158,  2.1554002 , -2.00032501, -0.90697502,\n",
       "        -0.55989849, -1.29702395]),\n",
       " array([-0.77074901, -0.45578118,  2.14966878, -1.9976051 , -0.80465685,\n",
       "        -0.48243653, -1.38660134]),\n",
       " array([-0.80270568, -0.45472543,  2.16552704, -2.00106939, -0.81507852,\n",
       "        -0.47374464, -1.40121112]),\n",
       " array([-0.80562204, -0.44247586,  2.16715867, -2.00988917, -0.83279785,\n",
       "        -0.47789555, -1.41126112]),\n",
       " array([-0.83935558, -0.55038291,  2.17245905, -2.00828107, -0.76746221,\n",
       "        -0.50573689, -1.45121453]),\n",
       " array([-0.78036421, -0.56596768,  2.1283471 , -2.06039434, -0.78006788,\n",
       "        -0.46401165, -1.46107275]),\n",
       " array([-0.72158582, -0.48983885,  2.05261889, -2.02562129, -0.7891842 ,\n",
       "        -0.43985198, -1.43941102]),\n",
       " array([-0.75966147, -0.52826698,  2.05144514, -2.03670952, -0.74899753,\n",
       "        -0.44528534, -1.41672994]),\n",
       " array([-0.7574238 , -0.51570244,  2.06267101, -2.0557324 , -0.74467398,\n",
       "        -0.46355582, -1.4204676 ]),\n",
       " array([-0.77827622, -0.54297721,  2.05275239, -2.04663107, -0.72588547,\n",
       "        -0.48209271, -1.4033448 ]),\n",
       " array([-0.7819272 , -0.55561572,  2.0448212 , -2.0261964 , -0.73074908,\n",
       "        -0.50429179, -1.45090833]),\n",
       " array([-0.74288157, -0.48081819,  2.18107186, -1.97199627, -0.68851211,\n",
       "        -0.47592903, -1.49382007]),\n",
       " array([-0.62990318, -0.55554281,  2.05756167, -2.02396855, -0.59157707,\n",
       "        -0.32912516, -1.42238383]),\n",
       " array([-0.60867277, -0.55990278,  2.10537751, -2.05657234, -0.61399088,\n",
       "        -0.3273518 , -1.42916356]),\n",
       " array([-0.57993318, -0.54549409,  2.12376578, -2.00212642, -0.52236733,\n",
       "        -0.41582757, -1.51901055]),\n",
       " array([-0.61581209, -0.53709505,  2.09093291, -1.97595197, -0.48977647,\n",
       "        -0.43521509, -1.52392541]),\n",
       " array([-0.61576058, -0.53998321,  2.09139631, -1.97770115, -0.48799158,\n",
       "        -0.43367568, -1.52511031]),\n",
       " array([-0.61606838, -0.39866336,  2.19560482, -2.01408999, -0.52207849,\n",
       "        -0.48433497, -1.62582908]),\n",
       " array([-0.64382185, -0.37589985,  2.17908489, -1.95528624, -0.50237853,\n",
       "        -0.47605495, -1.63958702]),\n",
       " array([-0.66103857, -0.40701882,  2.18234506, -1.9751928 , -0.47119789,\n",
       "        -0.48951899, -1.59328638]),\n",
       " array([-0.64236675, -0.32435243,  2.13709854, -1.97700673, -0.54860122,\n",
       "        -0.30268538, -1.55489465]),\n",
       " array([-0.78676493, -0.37508218,  2.19144536, -1.91187378, -0.57332382,\n",
       "        -0.35279864, -1.4648803 ]),\n",
       " array([-0.80323358, -0.3960947 ,  2.18589297, -1.92526657, -0.57029358,\n",
       "        -0.36503886, -1.51065379]),\n",
       " array([-0.80656989, -0.39726441,  2.18345031, -1.92764242, -0.57172453,\n",
       "        -0.37099624, -1.51324834]),\n",
       " array([-0.81989689, -0.39993906,  2.2044545 , -1.9212833 , -0.5679992 ,\n",
       "        -0.4172675 , -1.46001089]),\n",
       " array([-0.70628937, -0.36065171,  2.23396833, -1.92730461, -0.44166237,\n",
       "        -0.40692185, -1.37585568]),\n",
       " array([-0.79612349, -0.29187012,  2.27371869, -1.91535524, -0.41276693,\n",
       "        -0.40429163, -1.37057993]),\n",
       " array([-0.8084387 , -0.30392128,  2.25426353, -1.94195909, -0.41511125,\n",
       "        -0.41374208, -1.37383597]),\n",
       " array([-0.7998612 , -0.29403567,  2.23814146, -1.95039229, -0.41992841,\n",
       "        -0.42386635, -1.38086955]),\n",
       " array([-0.78784594, -0.29542363,  2.24990569, -1.98314312, -0.3849116 ,\n",
       "        -0.41455816, -1.39530804]),\n",
       " array([-0.78478801, -0.32997456,  2.30235123, -1.9732339 , -0.43970931,\n",
       "        -0.42348856, -1.42146012]),\n",
       " array([-0.84037427, -0.270858  ,  2.22698763, -1.92434098, -0.29099735,\n",
       "        -0.40608342, -1.40170203]),\n",
       " array([-0.82855052, -0.27053272,  2.24309636, -1.91346002, -0.27714566,\n",
       "        -0.3961851 , -1.3928084 ]),\n",
       " array([-0.83746035, -0.29136029,  2.23798597, -1.91018523, -0.30508998,\n",
       "        -0.37083354, -1.3883743 ]),\n",
       " array([-0.82442432, -0.29869149,  2.24697999, -1.90720281, -0.30937332,\n",
       "        -0.36128516, -1.37469779]),\n",
       " array([-0.78613795, -0.38837593,  2.31117155, -2.00641875, -0.3021632 ,\n",
       "        -0.36248397, -1.22506663]),\n",
       " array([-0.53066049, -0.68298981,  2.22394427, -1.96863716, -0.34108243,\n",
       "        -0.06786774, -1.27339094]),\n",
       " array([-0.50446403, -0.65125546,  2.26497219, -1.95332091, -0.29998408,\n",
       "        -0.06582529, -1.23488243]),\n",
       " array([-0.50425617, -0.65099631,  2.2649052 , -1.95329407, -0.30009166,\n",
       "        -0.06578072, -1.23479658]),\n",
       " array([-0.47984301, -0.62095529,  2.25980625, -1.92660854, -0.28267064,\n",
       "        -0.05484716, -1.21697437]),\n",
       " array([-0.53476012, -0.63843738,  2.24843638, -1.92801623, -0.39472845,\n",
       "        -0.04417614, -1.30608285]),\n",
       " array([-0.5847744 , -0.62645395,  2.23452668, -1.93199175, -0.38186829,\n",
       "        -0.01087048, -1.33604747]),\n",
       " array([-0.57519934, -0.6205165 ,  2.24511129, -1.9070278 , -0.38867649,\n",
       "        -0.00469505, -1.3368449 ]),\n",
       " array([-0.57544662, -0.62097947,  2.24433901, -1.90494958, -0.38895601,\n",
       "        -0.00450279, -1.33654642]),\n",
       " array([-0.56415389, -0.62947602,  2.24643822, -1.95917147, -0.37601696,\n",
       "         0.01100557, -1.31285765]),\n",
       " array([-0.55982967, -0.63242926,  2.25255723, -1.95399878, -0.37251232,\n",
       "         0.01707227, -1.31693161]),\n",
       " array([-0.62745262, -0.68323368,  2.19497961, -1.97961303, -0.4070081 ,\n",
       "        -0.02721334, -1.30015522]),\n",
       " array([-0.65824559, -0.74700872,  2.09171843, -1.96195155, -0.30418838,\n",
       "        -0.14964873, -1.45792264]),\n",
       " array([-0.49540196, -0.68848113,  1.99780646, -1.91622431, -0.39607996,\n",
       "        -0.28541614, -1.41529157]),\n",
       " array([-0.41893122, -0.63030357,  2.00097639, -1.97033188, -0.2998098 ,\n",
       "        -0.31671463, -1.444066  ]),\n",
       " array([-0.50862628, -0.71649231,  1.94109002, -1.92571175, -0.20722982,\n",
       "        -0.27073165, -1.51704211]),\n",
       " array([-0.49588628, -0.82065544,  1.93337261, -2.01952719, -0.11411442,\n",
       "        -0.2191674 , -1.36687226]),\n",
       " array([-0.52564032, -0.91019977,  2.02959172, -2.04575689, -0.20218378,\n",
       "        -0.26913187, -1.27997407]),\n",
       " array([-0.52260356, -0.91867858,  2.02607466, -2.03071828, -0.17208497,\n",
       "        -0.28668528, -1.29195913]),\n",
       " array([-0.43196501, -0.85783725,  1.91820851, -2.02992066, -0.13139164,\n",
       "        -0.31007306, -1.25546081]),\n",
       " array([-0.44875301, -0.83298881,  1.90162489, -2.01904821, -0.13840275,\n",
       "        -0.34199944, -1.27081986]),\n",
       " array([-0.37407713, -0.85854418,  1.88794638, -1.92507466, -0.29692991,\n",
       "        -0.32050051, -1.31561877]),\n",
       " array([-0.36618224, -0.84508632,  1.87455585, -1.8871991 , -0.30845668,\n",
       "        -0.33467535, -1.31016343]),\n",
       " array([-0.36221609, -0.89078745,  1.90729462, -1.90401732, -0.28197501,\n",
       "        -0.36192922, -1.3712349 ]),\n",
       " array([-0.43538566, -0.8734739 ,  1.75272786, -1.98381647, -0.35130023,\n",
       "        -0.50908989, -1.30494324]),\n",
       " array([-0.45267433, -0.86225594,  1.77114987, -2.0076394 , -0.35026561,\n",
       "        -0.50470036, -1.29014991]),\n",
       " array([-0.47366406, -0.85663003,  1.8615179 , -2.01597041, -0.35731706,\n",
       "        -0.47769098, -1.28518611]),\n",
       " array([-0.43335502, -0.87680022,  1.91156364, -1.9222415 , -0.42524212,\n",
       "        -0.49662039, -1.32704885]),\n",
       " array([-0.42762143, -0.87680595,  1.91341138, -1.92616553, -0.41369473,\n",
       "        -0.50235425, -1.32319425]),\n",
       " array([-0.4477417 , -0.80394929,  1.90439463, -1.88234221, -0.45728165,\n",
       "        -0.41665284, -1.26201748]),\n",
       " array([-0.44563053, -0.80437462,  1.90835   , -1.88313684, -0.46128199,\n",
       "        -0.42022959, -1.26398081]),\n",
       " array([-0.44832856, -0.77804946,  1.88453662, -1.93342319, -0.46711359,\n",
       "        -0.42431644, -1.27261818]),\n",
       " array([-0.65610852, -1.07135008,  1.75774377, -1.92934738, -0.451338  ,\n",
       "        -0.43997363, -1.23047813]),\n",
       " array([-0.65766846, -1.06666095,  1.76779618, -1.90787181, -0.44661105,\n",
       "        -0.44080701, -1.23025646]),\n",
       " array([-0.67989827, -1.04222613,  1.69922454, -1.89880001, -0.47247947,\n",
       "        -0.46465089, -1.20787666]),\n",
       " array([-0.68255624, -1.0403227 ,  1.70191214, -1.8983336 , -0.46948957,\n",
       "        -0.46843682, -1.2107413 ]),\n",
       " array([-0.6546958 , -1.04452989,  1.69609437, -1.94940623, -0.51525957,\n",
       "        -0.4491274 , -1.20980523]),\n",
       " array([-0.57279747, -1.12013497,  1.82498249, -1.91803136, -0.48470543,\n",
       "        -0.47145104, -1.32989488]),\n",
       " array([-0.57218733, -1.23017239,  1.85771946, -2.0302511 , -0.10059285,\n",
       "        -0.35277148, -1.41019621]),\n",
       " array([-0.56539015, -1.23197063,  1.86691853, -2.02712258, -0.11328173,\n",
       "        -0.3642509 , -1.40276487]),\n",
       " array([-0.53994023, -1.25060167,  1.86406422, -2.00587942, -0.09559689,\n",
       "        -0.3805436 , -1.41521489]),\n",
       " array([-0.80016001, -0.98336386,  1.93457343, -1.90705318, -0.31433193,\n",
       "        -0.51000025, -0.92527877]),\n",
       " array([-0.81544903, -0.96841711,  1.93408579, -1.9090432 , -0.34621727,\n",
       "        -0.50226296, -0.92556885]),\n",
       " array([-0.80442888, -0.8920684 ,  2.04353358, -1.95971366, -0.28799324,\n",
       "        -0.66314409, -0.92115812]),\n",
       " array([-0.76154418, -0.82932565,  2.09546643, -1.93491487, -0.22275604,\n",
       "        -0.6570385 , -0.90786009]),\n",
       " array([-0.69951738, -0.76415988,  2.05903436, -1.93715175, -0.14631825,\n",
       "        -0.73298419, -0.90322519]),\n",
       " array([-0.69051905, -0.73833164,  2.04985487, -1.98734484, -0.16765917,\n",
       "        -0.74718288, -0.91156313]),\n",
       " array([-0.73756369, -0.7180572 ,  2.01107509, -1.98946668, -0.16010401,\n",
       "        -0.81812378, -0.89930429]),\n",
       " array([-0.74891022, -0.70309727,  2.0073834 , -2.00884896, -0.169001  ,\n",
       "        -0.81325767, -0.89763958]),\n",
       " array([-0.71070984, -0.77942214,  1.88717322, -2.01684156, -0.21591979,\n",
       "        -0.9871991 , -0.98813215]),\n",
       " array([-0.79477051, -0.81824362,  1.92365331, -2.05005944, -0.20426561,\n",
       "        -0.97010535, -1.07180139]),\n",
       " array([-0.8358744 , -0.82332742,  1.93428071, -2.02974   , -0.24643853,\n",
       "        -0.94857874, -1.09012383]),\n",
       " array([-0.82044718, -0.79044738,  1.89796193, -2.02331499, -0.19611825,\n",
       "        -0.92188563, -1.02114245]),\n",
       " array([-0.80471256, -0.74788052,  1.8576547 , -2.00562288, -0.20465997,\n",
       "        -0.92133541, -1.10469957]),\n",
       " array([-0.80707389, -0.71824806,  1.8779986 , -2.01554712, -0.20706941,\n",
       "        -0.9126319 , -1.10478148]),\n",
       " array([-0.76259787, -0.74999127,  1.83319441, -2.0777538 , -0.21736576,\n",
       "        -0.92188144, -1.08469959]),\n",
       " array([-0.91202752, -0.43267288,  1.86897488, -2.03651118, -0.35573898,\n",
       "        -1.11258331, -1.21072583]),\n",
       " array([-0.90438175, -0.4524568 ,  1.93854887, -2.08252026, -0.39493095,\n",
       "        -1.14357597, -1.2112292 ]),\n",
       " array([-0.90031127, -0.45595417,  1.94999485, -2.07846295, -0.39992652,\n",
       "        -1.14498148, -1.21657303]),\n",
       " array([-0.90157227, -0.38750446,  1.85297908, -2.01937246, -0.2972648 ,\n",
       "        -1.13391084, -1.23764271]),\n",
       " array([-0.89643965, -0.36458757,  1.86722586, -1.96149625, -0.24181958,\n",
       "        -1.10095707, -1.16897759]),\n",
       " array([-0.91864818, -0.36730008,  1.8799767 , -1.97310796, -0.2574674 ,\n",
       "        -1.10006441, -1.17352712]),\n",
       " array([-0.90253166, -0.37859156,  1.88328367, -1.95956076, -0.27489966,\n",
       "        -1.09937051, -1.16890109]),\n",
       " array([-0.87096166, -0.34976756,  1.85596795, -2.00567739, -0.27231653,\n",
       "        -1.12073891, -1.129938  ]),\n",
       " array([-0.78291911, -0.38743628,  1.83426639, -1.98614641, -0.25770205,\n",
       "        -1.12994093, -1.12685425]),\n",
       " array([-0.76576197, -0.44487095,  1.79998032, -2.07057184, -0.27995875,\n",
       "        -1.11009619, -1.05399335]),\n",
       " array([-0.73250026, -0.46810164,  1.81721847, -2.01675042, -0.36710409,\n",
       "        -1.16518989, -1.04544679]),\n",
       " array([-0.7922045 , -0.52159002,  1.74585284, -2.05763315, -0.36221332,\n",
       "        -1.16835183, -1.15149343]),\n",
       " array([-0.79041854, -0.52111115,  1.74737725, -2.06025173, -0.35895981,\n",
       "        -1.16554937, -1.1518691 ]),\n",
       " array([-0.79244434, -0.52874699,  1.74441862, -2.06097488, -0.35179104,\n",
       "        -1.16437265, -1.14777529]),\n",
       " array([-0.76648629, -0.60780948,  1.79439902, -1.96351429, -0.29874931,\n",
       "        -1.13662657, -1.12314892]),\n",
       " array([-0.76624863, -0.5927035 ,  1.71666338, -2.01057638, -0.35510049,\n",
       "        -1.10182312, -1.0666718 ]),\n",
       " array([-0.73103936, -0.47062578,  1.75038917, -1.98354018, -0.39883249,\n",
       "        -1.06437592, -1.1596211 ]),\n",
       " array([-0.75258742, -0.46428117,  1.72140523, -1.98290821, -0.4127921 ,\n",
       "        -1.06633339, -1.16155702]),\n",
       " array([-0.76309785, -0.45236904,  1.72217893, -1.99581395, -0.42312285,\n",
       "        -1.05109499, -1.16046533]),\n",
       " array([-0.75293532, -0.43611128,  1.75775323, -2.01380378, -0.39491079,\n",
       "        -1.05257492, -1.1640945 ]),\n",
       " array([-0.77832626, -0.41752577,  1.77598197, -2.03438735, -0.35227636,\n",
       "        -1.02342352, -1.18786043]),\n",
       " array([-0.71269495, -0.52656059,  1.75901239, -2.09182083, -0.33247465,\n",
       "        -1.02870966, -1.10634214]),\n",
       " array([-0.68058317, -0.60523141,  1.92016427, -1.96936044, -0.34047483,\n",
       "        -0.9829434 , -1.26095411]),\n",
       " array([-0.69528894, -0.58833963,  1.92133708, -1.9975044 , -0.35288871,\n",
       "        -0.97947971, -1.24692892]),\n",
       " array([-0.69668238, -0.58612622,  1.91897769, -1.99465265, -0.35101164,\n",
       "        -0.9799519 , -1.24773413]),\n",
       " array([-0.73289689, -0.60067909,  1.96132355, -1.95794196, -0.29118849,\n",
       "        -0.97167509, -1.21576128]),\n",
       " array([-0.79472063, -0.59363217,  2.08649713, -1.99095463, -0.20321377,\n",
       "        -1.01473547, -1.15687634]),\n",
       " array([-0.80146105, -0.58237697,  2.04673377, -2.04688003, -0.2184874 ,\n",
       "        -1.06840272, -1.28156281]),\n",
       " array([-0.78569016, -0.60123829,  2.01638308, -2.06572789, -0.21261406,\n",
       "        -1.07352676, -1.27382136]),\n",
       " array([-0.83953761, -0.59187426,  2.08705578, -2.03395143, -0.12907489,\n",
       "        -1.05394485, -1.28632898]),\n",
       " array([-0.83975658, -0.5890527 ,  2.09105599, -2.03652925, -0.13140431,\n",
       "        -1.04916544, -1.29051793]),\n",
       " array([-0.83046846, -0.54630777,  2.10814943, -2.06618119, -0.12423215,\n",
       "        -0.99916628, -1.32938643]),\n",
       " array([-0.84053101, -0.53978419,  2.11672336, -2.07543514, -0.13465153,\n",
       "        -0.99706845, -1.33297152]),\n",
       " array([-0.68142143, -0.73627743,  2.00108253, -2.06998127, -0.1947065 ,\n",
       "        -0.85954556, -1.27645123]),\n",
       " array([-0.69546005, -0.73160348,  1.98784915, -2.07657087, -0.20567042,\n",
       "        -0.87397613, -1.28034025]),\n",
       " array([-0.68888975, -0.74299455,  1.98562028, -2.06464403, -0.21335725,\n",
       "        -0.87440925, -1.28891248]),\n",
       " array([-0.66226413, -0.69856041,  1.71004651, -1.97956739, -0.12879607,\n",
       "        -0.97336931, -1.42395015]),\n",
       " array([-0.65203709, -0.7052469 ,  1.70103006, -1.99201872, -0.07759311,\n",
       "        -0.98028234, -1.41607329]),\n",
       " array([-0.66475124, -0.67234597,  1.69023061, -1.99074174, -0.07379085,\n",
       "        -0.98172444, -1.4137264 ]),\n",
       " array([-0.68974152, -0.67008487,  1.69502212, -1.99511404, -0.102253  ,\n",
       "        -1.04010076, -1.40584777]),\n",
       " array([-0.89127734, -0.92907492,  1.98380989, -1.99961156,  0.19046318,\n",
       "        -0.89291753, -1.36267609]),\n",
       " array([-0.87045138, -0.9067644 ,  1.98469433, -2.02727338,  0.20559942,\n",
       "        -0.89041866, -1.36656953]),\n",
       " array([-0.92772586, -0.99229372,  1.77342099, -2.01973196,  0.05366656,\n",
       "        -1.07028097, -1.39065029]),\n",
       " array([-0.89623411, -0.94720661,  1.65781271, -1.96213635,  0.07219889,\n",
       "        -1.09530221, -1.29441229]),\n",
       " array([-0.90480218, -0.95387472,  1.65421003, -1.9705925 ,  0.07169257,\n",
       "        -1.08522535, -1.30151466]),\n",
       " array([-0.85134594, -0.82031309,  1.72176798, -1.97925337,  0.01771614,\n",
       "        -1.17261201, -1.12459666]),\n",
       " array([-0.85130433, -0.83823518,  1.71933979, -2.01125788,  0.01021941,\n",
       "        -1.1540297 , -1.10326446]),\n",
       " array([-0.79616243, -0.81788471,  1.69153496, -1.94930169, -0.00981901,\n",
       "        -1.15573109, -1.08635751]),\n",
       " array([-0.83572205, -0.77356884,  1.67477416, -1.94249885,  0.00434547,\n",
       "        -1.14505004, -1.1188971 ]),\n",
       " array([-0.86187534, -0.65879913,  1.62600503, -2.00103083,  0.0343481 ,\n",
       "        -1.15143683, -1.0868725 ]),\n",
       " array([-0.82487381, -0.72857607,  1.64789135, -1.93016463, -0.04576767,\n",
       "        -1.08422401, -1.10631457]),\n",
       " array([-0.8940905 , -0.79909244,  1.67949449, -1.95726551, -0.10779352,\n",
       "        -1.06186915, -1.02380005]),\n",
       " array([-0.86406921, -0.70047382,  1.82028215, -1.97743032, -0.06783047,\n",
       "        -0.95092092, -1.06233623]),\n",
       " array([-0.85812633, -0.69207426,  1.80372277, -1.96669446, -0.04417598,\n",
       "        -0.93964217, -1.03510383]),\n",
       " array([-0.83448366, -0.67620135,  1.8201963 , -1.960092  , -0.01883772,\n",
       "        -0.94773158, -1.06236574]),\n",
       " array([-0.8562    , -0.58819453,  1.99987668, -2.03056936,  0.02797531,\n",
       "        -0.90260104, -1.13955408]),\n",
       " array([-0.82655642, -0.55484186,  2.04152482, -2.00772317, -0.00397101,\n",
       "        -0.87835862, -1.20483502]),\n",
       " array([-0.80189969, -0.55867806,  2.0570479 , -2.02906447,  0.01691537,\n",
       "        -0.84978791, -1.19347964]),\n",
       " array([-0.69191664, -0.59096598,  1.77450851, -1.94727296, -0.30754532,\n",
       "        -0.86293483, -1.28689394]),\n",
       " array([-0.6556156 , -0.51970308,  1.79016382, -1.96518304, -0.28329977,\n",
       "        -0.82241893, -1.26771034]),\n",
       " array([-0.66571275, -0.50343996,  1.7902393 , -1.98539231, -0.28405167,\n",
       "        -0.81807229, -1.28017645]),\n",
       " array([-0.64213899, -0.48704944,  1.88023366, -1.94477977, -0.29621118,\n",
       "        -0.825265  , -1.33824397]),\n",
       " array([-0.85718593, -0.34124182,  1.90571707, -2.05569565, -0.19433914,\n",
       "        -0.85233779, -1.47177515]),\n",
       " array([-0.86681139, -0.34672507,  1.91360115, -2.07175292, -0.18671722,\n",
       "        -0.86649755, -1.47478992]),\n",
       " array([-0.72665479, -0.37277304,  1.86626209, -1.99550173, -0.14939189,\n",
       "        -0.96894068, -1.54766853]),\n",
       " array([-0.72380527, -0.36967189,  1.84545855, -2.03276481, -0.16208736,\n",
       "        -0.97356588, -1.55145003]),\n",
       " array([-0.72558235, -0.36119532,  1.85488257, -2.00604923, -0.17223153,\n",
       "        -0.98549637, -1.5470445 ]),\n",
       " array([-0.76672134, -0.35919777,  1.80904677, -2.03407422, -0.13575681,\n",
       "        -0.99199234, -1.52528717]),\n",
       " array([-0.7677483 , -0.36205576,  1.80746079, -2.03569675, -0.13413423,\n",
       "        -0.978804  , -1.52325001]),\n",
       " array([-0.81679204, -0.43318939,  1.93638437, -2.06488578, -0.10227174,\n",
       "        -0.78931907, -1.42567811]),\n",
       " array([-0.81777251, -0.43357694,  1.93433067, -2.06614256, -0.10238917,\n",
       "        -0.78796969, -1.42763395]),\n",
       " array([-0.8279507 , -0.42787861,  1.93295142, -2.07342406, -0.11251056,\n",
       "        -0.78542227, -1.4321682 ]),\n",
       " array([-0.77129197, -0.44002382,  2.02348228, -2.00250087,  0.22689687,\n",
       "        -0.92416063, -1.33139396]),\n",
       " array([-0.66569906, -0.3886721 ,  1.93689532, -2.04295888,  0.16093055,\n",
       "        -0.90071896, -1.2613437 ]),\n",
       " array([-0.67206373, -0.36973613,  1.93985167, -2.03312023,  0.17580231,\n",
       "        -0.91521423, -1.26742159]),\n",
       " array([-0.67400396, -0.36817418,  1.94024752, -2.0360538 ,  0.17493332,\n",
       "        -0.91862586, -1.2670796 ]),\n",
       " array([-0.71742429, -0.52728575,  1.92543321, -2.08010256,  0.29393362,\n",
       "        -0.87655996, -1.30964136]),\n",
       " array([-0.8260653 , -0.55717361,  2.00228672, -2.07694916,  0.18376063,\n",
       "        -0.65291648, -1.22111726]),\n",
       " array([-0.79273149, -0.60112143,  1.92897226, -2.09400694,  0.25537991,\n",
       "        -0.56164525, -1.18249382]),\n",
       " array([-0.8312477 , -0.65799174,  1.9174261 , -2.08011361,  0.28371761,\n",
       "        -0.55875204, -1.13839006]),\n",
       " array([-0.82412178, -0.65700613,  1.83364623, -2.04753045,  0.32105448,\n",
       "        -0.5849543 , -1.11182552]),\n",
       " array([-0.85123236, -0.68680083,  1.82603603, -2.01596141,  0.45724186,\n",
       "        -0.55470666, -1.18319211]),\n",
       " array([-0.7930528 , -0.72817045,  1.82061725, -2.01634202,  0.42161634,\n",
       "        -0.53435511, -1.11516915]),\n",
       " array([-0.79050399, -0.71567613,  1.79286223, -2.0297744 ,  0.46249265,\n",
       "        -0.46208472, -1.13407906]),\n",
       " array([-0.79166475, -0.7159007 ,  1.79130741, -2.0293564 ,  0.46200305,\n",
       "        -0.46663795, -1.13377412]),\n",
       " array([-0.76663278, -0.70008861,  1.85282342, -2.01295224,  0.46653125,\n",
       "        -0.50033726, -1.1153292 ]),\n",
       " array([-0.782577  , -0.71962066,  1.86835422, -2.03899822,  0.45080523,\n",
       "        -0.51625489, -1.08623303]),\n",
       " array([-0.45642727, -0.97981852,  1.47428147, -2.04414338,  0.54806703,\n",
       "        -0.79709856, -0.83712052]),\n",
       " array([-0.44672716, -0.97752955,  1.47436138, -2.04078394,  0.54662435,\n",
       "        -0.79785285, -0.82918635]),\n",
       " array([-0.45039822, -0.97982124,  1.47170168, -2.04001124,  0.54360034,\n",
       "        -0.7936906 , -0.82459816]),\n",
       " array([-0.45447111, -0.98133259,  1.45505558, -2.04886896,  0.54647469,\n",
       "        -0.77065936, -0.81694862]),\n",
       " array([-0.42642622, -1.12306817,  1.4228647 , -2.06288729,  0.52597277,\n",
       "        -0.74539957, -0.77773425]),\n",
       " array([-0.42457173, -1.13681664,  1.42491772, -2.05975844,  0.52832411,\n",
       "        -0.76290401, -0.77931082]),\n",
       " array([-0.44514818, -1.11217946,  1.51197551, -2.08504844,  0.48496132,\n",
       "        -0.72729343, -0.77687145]),\n",
       " array([-0.41935332, -1.11812905,  1.48967601, -2.0691405 ,  0.4826028 ,\n",
       "        -0.74080189, -0.76758956]),\n",
       " array([-0.41328139, -1.1218442 ,  1.50491056, -2.04756635,  0.49440129,\n",
       "        -0.762666  , -0.75901595]),\n",
       " array([-0.41811389, -1.09776703,  1.48670487, -2.08328837,  0.48204373,\n",
       "        -0.78305916, -0.72818127]),\n",
       " array([-0.51176638, -1.08194974,  1.72762711, -1.87486135,  0.26645583,\n",
       "        -0.60496722, -0.75017507]),\n",
       " array([-0.54426762, -1.03146413,  1.73373436, -1.95959192,  0.23344084,\n",
       "        -0.58791466, -0.7271322 ]),\n",
       " array([-0.38440342, -1.03960876,  1.75562279, -2.02727364,  0.19860637,\n",
       "        -0.48944101, -0.62710246]),\n",
       " array([-0.38599471, -0.99668587,  1.823387  , -2.01129655,  0.11994452,\n",
       "        -0.46741376, -0.56800102]),\n",
       " array([-0.38525011, -0.99748616,  1.81962533, -2.01570678,  0.11817232,\n",
       "        -0.46986373, -0.5659782 ]),\n",
       " array([-0.32340546, -0.88023148,  1.77390146, -2.00478611, -0.00206867,\n",
       "        -0.51506872, -0.63697583]),\n",
       " array([-0.35492469, -0.83776606,  1.77875037, -1.97312926, -0.14708845,\n",
       "        -0.42380066, -0.49397769]),\n",
       " array([-0.35482151, -0.83782445,  1.77883169, -1.97312003, -0.14708158,\n",
       "        -0.42384994, -0.49399181]),\n",
       " array([-0.65039263, -0.9067514 ,  1.86424806, -2.03325445, -0.26869428,\n",
       "        -0.70804313, -0.55044214]),\n",
       " array([-0.7768057 , -0.52006379,  1.63708464, -2.06367362, -0.38727599,\n",
       "        -1.46345245, -0.52220976]),\n",
       " array([-0.77030499, -0.52523689,  1.61247983, -2.015998  , -0.38081892,\n",
       "        -1.4672817 , -0.51076911]),\n",
       " array([-0.75304625, -0.54794028,  1.62431003, -1.98970716, -0.34952064,\n",
       "        -1.45462742, -0.52982479]),\n",
       " array([-0.79950386, -0.57937498,  1.63889363, -2.0343118 , -0.44430411,\n",
       "        -1.43984804, -0.55373139]),\n",
       " array([-0.83415684, -0.56728244,  1.61512292, -2.0326185 , -0.47363125,\n",
       "        -1.42907798, -0.54684975]),\n",
       " array([-0.89147524, -0.60979082,  1.62207912, -2.0367861 , -0.5194111 ,\n",
       "        -1.49429736, -0.51635626]),\n",
       " array([-0.88173614, -0.59842089,  1.64791583, -2.03615969, -0.49653972,\n",
       "        -1.52206965, -0.56331617]),\n",
       " array([-0.87753852, -0.61179677,  1.6459087 , -2.03813622, -0.49089343,\n",
       "        -1.52933167, -0.56128311]),\n",
       " array([-0.87882989, -0.56211239,  1.5981551 , -2.04771207, -0.50375601,\n",
       "        -1.54043565, -0.57074434]),\n",
       " array([-0.87844459, -0.56173561,  1.59874857, -2.04777533, -0.50368208,\n",
       "        -1.54049137, -0.57125683]),\n",
       " array([-0.87842869, -0.56163745,  1.59881591, -2.04799344, -0.50373   ,\n",
       "        -1.54031874, -0.57124612]),\n",
       " array([-0.87831769, -0.56168083,  1.59865587, -2.04822049, -0.50383588,\n",
       "        -1.54022395, -0.57133289]),\n",
       " array([-0.92978737, -0.67312066,  1.62206453, -2.00158037, -0.55498646,\n",
       "        -1.51282385, -0.3760581 ]),\n",
       " array([-0.95525054, -0.68271246,  1.59873707, -2.01001326, -0.52524705,\n",
       "        -1.49214364, -0.38753382]),\n",
       " array([-0.91493541, -0.69890028,  1.62242697, -2.01937481, -0.47521685,\n",
       "        -1.46252003, -0.38249138]),\n",
       " array([-0.85010103, -0.69253967,  1.65767323, -1.98222948, -0.56653026,\n",
       "        -1.42708162, -0.37883573]),\n",
       " array([-0.90392438, -0.85994256,  1.75741624, -1.99407811, -0.52646961,\n",
       "        -1.42960532, -0.38446595]),\n",
       " array([-0.96047373, -0.91544969,  1.54828294, -1.83999294, -0.42933153,\n",
       "        -1.31196086, -0.36166896]),\n",
       " array([-0.88199468, -0.94767211,  1.39243618, -1.98409336, -0.60034171,\n",
       "        -1.32259084, -0.25619624]),\n",
       " array([-0.88054016, -0.94773663,  1.39393777, -1.98668265, -0.60100762,\n",
       "        -1.32131421, -0.25342928]),\n",
       " array([-0.64685545, -1.44592358,  1.32822724, -1.99418387, -0.504822  ,\n",
       "        -1.29691121, -0.4241297 ]),\n",
       " array([-0.67115668, -1.50250498,  1.27050084, -1.84142747, -0.59129179,\n",
       "        -1.1604228 , -0.53629115]),\n",
       " array([-0.63860749, -1.61713317,  1.35787017, -1.933195  , -0.39007137,\n",
       "        -1.05700834, -0.51930247]),\n",
       " array([-0.62332326, -1.65711423,  1.31694035, -1.85765575, -0.37623284,\n",
       "        -1.05296037, -0.47942574]),\n",
       " array([-0.47525117, -1.57316472,  1.08062385, -2.03772097, -0.61280266,\n",
       "        -1.22450231, -0.60040833]),\n",
       " array([-0.45105192, -1.58457601,  1.06842102, -2.0240534 , -0.61261773,\n",
       "        -1.19457966, -0.62854896]),\n",
       " array([-0.44378373, -1.59653296,  1.07609337, -2.0256849 , -0.61211441,\n",
       "        -1.19249402, -0.62168803]),\n",
       " array([-0.46641132, -1.58327754,  1.07374658, -2.02774111, -0.60484592,\n",
       "        -1.18744922, -0.63820227]),\n",
       " array([-0.45519167, -1.58557262,  1.18070557, -2.08691034, -0.60396977,\n",
       "        -1.22061708, -0.64902055]),\n",
       " array([-0.45837533, -1.6536035 ,  1.16740833, -2.07152966, -0.61464187,\n",
       "        -1.33999064, -0.68215144]),\n",
       " array([-0.49121003, -1.64898685,  1.12467654, -2.08044085, -0.60393767,\n",
       "        -1.31808806, -0.68118245]),\n",
       " array([-0.49302473, -1.65202723,  1.12101602, -2.07959483, -0.59850491,\n",
       "        -1.31205517, -0.6847582 ]),\n",
       " array([-0.47105811, -1.65283294,  1.10995665, -2.09412017, -0.63422782,\n",
       "        -1.35708112, -0.72682486]),\n",
       " array([-0.43186486, -1.64955705,  1.14399092, -2.07408111, -0.58985462,\n",
       "        -1.3721172 , -0.74893695]),\n",
       " array([-0.42802455, -1.64202348,  1.13994508, -2.08246066, -0.57961583,\n",
       "        -1.3694975 , -0.74422987]),\n",
       " array([-0.49346418, -1.76095188,  1.08342984, -2.0705476 , -0.51662271,\n",
       "        -1.31697835, -0.73894925]),\n",
       " array([-0.49487711, -1.7642642 ,  1.08120041, -2.07161687, -0.51808297,\n",
       "        -1.31537196, -0.74050037]),\n",
       " array([-0.49511111, -1.76449823,  1.08102638, -2.07209052, -0.51869204,\n",
       "        -1.31479258, -0.74101496]),\n",
       " array([-0.5355787 , -1.64556795,  1.17427786, -1.98349254, -0.57163992,\n",
       "        -1.43561378, -0.53109644]),\n",
       " array([-0.53154599, -1.64572506,  1.17342373, -1.97677983, -0.57636215,\n",
       "        -1.43742927, -0.53830424]),\n",
       " array([-0.55553112, -1.64615308,  1.20066002, -1.99193127, -0.62281451,\n",
       "        -1.47452762, -0.54855183]),\n",
       " array([-0.61805856, -1.65195   ,  1.26562423, -1.99898902, -0.65965717,\n",
       "        -1.50600677, -0.37068084]),\n",
       " array([-0.57608006, -1.67939855,  1.33876851, -2.02242432, -0.73188966,\n",
       "        -1.42994708, -0.44235313]),\n",
       " array([-0.57421262, -1.65242602,  1.27204924, -1.94528178, -0.70024651,\n",
       "        -1.43814635, -0.40029335]),\n",
       " array([-0.56851515, -1.66935682,  1.23448066, -1.930065  , -0.76179992,\n",
       "        -1.38866258, -0.43522473]),\n",
       " array([-0.65438118, -1.69795807,  1.15376223, -1.92939616, -0.73641566,\n",
       "        -1.32950154, -0.43539159]),\n",
       " array([-0.65655151, -1.69408759,  1.15548124, -1.92459034, -0.7315321 ,\n",
       "        -1.32675145, -0.43373399]),\n",
       " array([-0.67301361, -1.54461539,  1.07327255, -1.88847983, -0.70065761,\n",
       "        -1.32938632, -0.45031584]),\n",
       " array([-0.60711487, -1.61629985,  1.23297613, -1.89016878, -0.62845811,\n",
       "        -1.41426697, -0.39275497]),\n",
       " array([-0.62651405, -1.65695006,  1.20724974, -1.93514495, -0.5897895 ,\n",
       "        -1.50405659, -0.51020076]),\n",
       " array([-0.61995123, -1.64946824,  1.20912766, -1.94429097, -0.58251118,\n",
       "        -1.51008679, -0.51680542]),\n",
       " array([-0.65318458, -1.67571616,  1.19464511, -1.92631576, -0.59266773,\n",
       "        -1.54161915, -0.5032946 ]),\n",
       " array([-0.68917285, -1.66085753,  1.23396324, -1.93753855, -0.57908989,\n",
       "        -1.52874645, -0.49537661]),\n",
       " array([-0.69059012, -1.62078198,  1.17449055, -1.94286615, -0.48001258,\n",
       "        -1.52037337, -0.40885184]),\n",
       " array([-0.63553203, -1.72314804,  1.02639563, -1.86484778, -0.77227046,\n",
       "        -1.51863444, -0.51533038]),\n",
       " array([-0.64477132, -1.69739165,  1.03901723, -1.85838404, -0.77702289,\n",
       "        -1.53051491, -0.55026387]),\n",
       " array([-0.64305655, -1.70280574,  1.02959599, -1.85799847, -0.77631292,\n",
       "        -1.5227434 , -0.55291191]),\n",
       " array([-0.65600728, -1.71432735,  1.03151927, -1.84162568, -0.78108012,\n",
       "        -1.51852389, -0.54711921]),\n",
       " array([-0.65519009, -1.71274332,  1.02409697, -1.85535544, -0.78379993,\n",
       "        -1.52481318, -0.54615928]),\n",
       " array([-0.65820254, -1.71363345,  1.01923889, -1.85792226, -0.78827994,\n",
       "        -1.5245267 , -0.54312716]),\n",
       " array([-0.65041208, -1.7020263 ,  1.02031379, -1.84619363, -0.77496718,\n",
       "        -1.50902367, -0.57577948]),\n",
       " array([-0.64838481, -1.6951139 ,  1.02713406, -1.84289768, -0.78864259,\n",
       "        -1.50704841, -0.59192077]),\n",
       " array([-0.65223608, -1.68970965,  1.02007486, -1.84896996, -0.78631509,\n",
       "        -1.50445619, -0.59832268]),\n",
       " array([-0.65465315, -1.6885938 ,  1.02331469, -1.85040772, -0.78715478,\n",
       "        -1.50543682, -0.60349192]),\n",
       " array([-0.66226943, -1.69219095,  1.02614242, -1.85496368, -0.79030288,\n",
       "        -1.52451958, -0.61341456]),\n",
       " array([-0.66535194, -1.69547267,  1.033744  , -1.85476961, -0.79312833,\n",
       "        -1.51342938, -0.60956841]),\n",
       " array([-0.66011078, -1.68779035,  1.05121096, -1.8639598 , -0.79202261,\n",
       "        -1.51868494, -0.6034127 ]),\n",
       " array([-0.64382185, -1.68619036,  1.04479563, -1.86835005, -0.78113092,\n",
       "        -1.5231776 , -0.61195346]),\n",
       " array([-0.65099012, -1.68858084,  1.04497917, -1.86806048, -0.79040335,\n",
       "        -1.52464447, -0.61098125]),\n",
       " array([-0.64279211, -1.68106902,  1.03312045, -1.8622231 , -0.79737954,\n",
       "        -1.52752852, -0.60625734]),\n",
       " array([-0.64598862, -1.68070873,  1.03229102, -1.85883218, -0.79550405,\n",
       "        -1.52779146, -0.60350247]),\n",
       " array([-0.63259551, -1.64526274,  1.00127749, -1.87315081, -0.84949389,\n",
       "        -1.47502615, -0.64710162]),\n",
       " array([-0.64042622, -1.64342734,  1.01787524, -1.88970332, -0.82626311,\n",
       "        -1.49080153, -0.63632386]),\n",
       " array([-0.64418274, -1.54281436,  1.19927257, -1.88067782, -0.73525544,\n",
       "        -1.45632564, -0.59030665]),\n",
       " array([-0.64043678, -1.55573214,  1.217065  , -1.87302338, -0.72786523,\n",
       "        -1.47281495, -0.59921744]),\n",
       " array([-0.67754695, -1.28981056,  1.1799379 , -1.92269268, -0.93226343,\n",
       "        -1.39070501, -0.37064388]),\n",
       " array([-0.68235985, -1.32999944,  1.1383104 , -1.94984478, -0.92088134,\n",
       "        -1.41201914, -0.36435512]),\n",
       " array([-0.69415992, -1.34492675,  1.14814747, -1.93754587, -0.90824716,\n",
       "        -1.45038667, -0.32949421]),\n",
       " array([-0.69243515, -1.34429469,  1.14695577, -1.93704237, -0.90904102,\n",
       "        -1.4508569 , -0.33059102]),\n",
       " array([-0.66390604, -1.35037752,  1.17513678, -1.93649809, -0.89340154,\n",
       "        -1.49269511, -0.32183073]),\n",
       " array([-0.66777465, -1.35208545,  1.17920256, -1.93377644, -0.89573926,\n",
       "        -1.49078583, -0.32563899]),\n",
       " array([-0.6131172 , -1.34203206,  1.14095426, -1.98427765, -0.83355128,\n",
       "        -1.50832006, -0.28270521]),\n",
       " array([-0.58724167, -1.24195306,  1.16061841, -1.90116928, -0.90756951,\n",
       "        -1.48887255, -0.35219001]),\n",
       " array([-0.52773206, -1.12158783,  1.24187451, -1.91981457, -0.89514942,\n",
       "        -1.49013521, -0.46506696]),\n",
       " array([-0.53271995, -1.11851602,  1.23791796, -1.91243037, -0.89516695,\n",
       "        -1.49055574, -0.46186269]),\n",
       " array([-0.53115012, -1.1196803 ,  1.23751108, -1.90965343, -0.89275077,\n",
       "        -1.49093878, -0.46359242]),\n",
       " array([-0.52307782, -1.13614629,  1.2604542 , -1.93938289, -0.89227149,\n",
       "        -1.46745423, -0.44415952]),\n",
       " array([-0.54866538, -1.10355456,  1.26365856, -1.89212075, -0.89076834,\n",
       "        -1.47227448, -0.44688189]),\n",
       " array([-0.5656706 , -1.08458929,  1.25924657, -1.90099368, -0.91451562,\n",
       "        -1.49299031, -0.4441412 ]),\n",
       " array([-0.56536653, -1.08598993,  1.26088969, -1.89590453, -0.91497711,\n",
       "        -1.49267384, -0.43904185]),\n",
       " array([-0.58999043, -1.36233616,  1.20972136, -1.91750864, -0.77038444,\n",
       "        -1.4283371 , -0.49292539]),\n",
       " array([-0.57632206, -1.31798728,  1.11357325, -1.9470384 , -0.82744015,\n",
       "        -1.41390799, -0.45573883]),\n",
       " array([-0.60244474, -1.39604772,  1.19382209, -1.87130653, -0.8030958 ,\n",
       "        -1.46999421, -0.5122843 ]),\n",
       " array([-0.68085921, -1.4296355 ,  1.18950812, -1.96056199, -0.84724651,\n",
       "        -1.44641558, -0.55070741]),\n",
       " array([-0.66609509, -1.42214923,  1.19058457, -1.95846743, -0.85246076,\n",
       "        -1.49543908, -0.52950514]),\n",
       " array([-0.59194854, -1.37437828,  1.21703801, -1.92802306, -0.79809685,\n",
       "        -1.45780897, -0.45208634]),\n",
       " array([-0.64503399, -1.36053732,  1.16837411, -1.96500944, -0.84129029,\n",
       "        -1.54152443, -0.39300022]),\n",
       " array([-0.96715647, -1.27019559,  1.54556297, -1.87405677, -0.81292179,\n",
       "        -1.40306721, -0.20820926]),\n",
       " array([-0.87131497, -1.26209027,  1.51162825, -1.85475916, -0.78808587,\n",
       "        -1.51508428, -0.11435702]),\n",
       " array([-0.9506661 , -1.2747367 ,  1.5376921 , -1.89466198, -0.80659045,\n",
       "        -1.4916895 , -0.15564913]),\n",
       " array([-0.96495241, -1.2573727 ,  1.54339186, -1.90868259, -0.82324693,\n",
       "        -1.49065154, -0.15742403]),\n",
       " array([-1.00431627, -1.27836917,  1.55844484, -1.91399641, -0.74428509,\n",
       "        -1.53201638, -0.16384365]),\n",
       " array([-0.99223634, -1.09971118,  1.50346227, -1.82014139, -0.80755788,\n",
       "        -1.51062983, -0.17732323]),\n",
       " array([-0.97606103, -1.07039318,  1.44661209, -1.83741095, -0.76668074,\n",
       "        -1.52081227, -0.13985604]),\n",
       " array([-0.98798061, -1.07780599,  1.44679897, -1.84091121, -0.7587365 ,\n",
       "        -1.52685182, -0.13280856]),\n",
       " array([-1.00498513, -1.05107396,  1.38860971, -1.82449611, -0.8446743 ,\n",
       "        -1.55459292, -0.018477  ]),\n",
       " array([-0.96689507, -1.03846447,  1.3813272 , -1.84195401, -0.86902237,\n",
       "        -1.5626144 , -0.02771887]),\n",
       " array([-0.87594473, -1.07776796,  1.40449731, -1.80949079, -0.85886187,\n",
       "        -1.54413917, -0.16592475]),\n",
       " array([-0.99456059, -0.98932635,  1.48204555, -1.86283709, -0.84174202,\n",
       "        -1.52840583, -0.25102759]),\n",
       " array([-0.97550336, -1.00186436,  1.45175465, -1.87552835, -0.85709194,\n",
       "        -1.51067084, -0.18290594]),\n",
       " array([-0.96282087, -0.99735184,  1.47735842, -1.8922513 , -0.83210007,\n",
       "        -1.53351842, -0.18972229]),\n",
       " array([-0.96359688, -0.9993106 ,  1.47727983, -1.89581823, -0.83379286,\n",
       "        -1.53102107, -0.18916589]),\n",
       " array([-0.93400834, -1.09377059,  1.52822973, -1.85012683, -0.85126778,\n",
       "        -1.45204102, -0.14123698]),\n",
       " array([-0.92136953, -1.05411763,  1.59184206, -2.03284463, -0.8694857 ,\n",
       "        -1.33466979,  0.00974794]),\n",
       " array([-0.69894039, -1.15997573,  1.6077311 , -1.98854213, -0.99068405,\n",
       "        -1.39676373,  0.00676332]),\n",
       " array([-0.74752935, -0.96444214,  1.5689649 , -1.92504114, -1.00221706,\n",
       "        -1.53623126,  0.11851954]),\n",
       " array([-0.75881598, -0.95382862,  1.54945122, -1.89496568, -0.96285082,\n",
       "        -1.52313989,  0.11732673]),\n",
       " array([-0.83864938, -0.90109689,  1.63268232, -1.91257238, -1.01142411,\n",
       "        -1.54341481,  0.10230862]),\n",
       " array([-0.85989437, -0.89413882,  1.70762774, -1.9391155 , -0.89384279,\n",
       "        -1.51922198,  0.22596348]),\n",
       " array([-0.82994777, -0.8962415 ,  1.70768037, -1.92291466, -0.87793699,\n",
       "        -1.5502149 ,  0.21715457]),\n",
       " array([-0.84257759, -0.89945582,  1.70783684, -1.93207674, -0.8864772 ,\n",
       "        -1.52843376,  0.21448723]),\n",
       " array([-0.86403477, -1.01795368,  1.67881882, -1.81999173, -0.93944372,\n",
       "        -1.3822588 ,  0.35576903]),\n",
       " array([-0.81746359, -1.08276743,  1.65469843, -1.86003005, -1.00292877,\n",
       "        -1.47440146,  0.27289042]),\n",
       " array([-0.81440723, -1.08302294,  1.65480881, -1.85800611, -1.00575602,\n",
       "        -1.47601041,  0.27115016]),\n",
       " array([-0.92290622, -1.08823256,  1.41546818, -1.79244489, -1.22361714,\n",
       "        -1.39479645,  0.09627497]),\n",
       " array([-0.9412277 , -1.09740992,  1.5001704 , -1.73615286, -1.19215351,\n",
       "        -1.34830253,  0.10059323]),\n",
       " array([-0.92937048, -1.1152022 ,  1.49746088, -1.82548938, -1.09378383,\n",
       "        -1.32245236,  0.13383813]),\n",
       " array([-0.84436896, -0.57967555,  1.693262  , -1.82360112, -1.29042154,\n",
       "        -1.1885718 ,  0.23890843]),\n",
       " array([-0.82255845, -0.54465863,  1.66103954, -1.8206963 , -1.30596303,\n",
       "        -1.17649509,  0.21458731]),\n",
       " array([-0.91914887, -0.64550055,  1.74141748, -1.86013632, -1.25712234,\n",
       "        -1.38588546,  0.15879333]),\n",
       " array([-0.98117424, -0.60473286,  1.74087568, -1.85236171, -1.36115421,\n",
       "        -1.39638655,  0.14718714]),\n",
       " array([-1.03046689, -0.61685877,  1.79671237, -1.86506715, -1.39498873,\n",
       "        -1.3995197 ,  0.18429304]),\n",
       " array([-0.95203722, -0.61417277,  1.77143615, -1.80056591, -1.38751578,\n",
       "        -1.30812186,  0.13744087]),\n",
       " array([-0.99213906, -0.71841373,  1.80432443, -1.82474643, -1.39060036,\n",
       "        -1.31107761,  0.21007811]),\n",
       " array([-0.99425875, -0.72987108,  1.79687143, -1.82987729, -1.40455222,\n",
       "        -1.29985122,  0.2073104 ]),\n",
       " array([-0.98391122, -0.71804606,  1.79057738, -1.82466819, -1.40952132,\n",
       "        -1.30110027,  0.20501917]),\n",
       " array([-0.98171864, -0.70913389,  1.79368646, -1.8084442 , -1.41454246,\n",
       "        -1.30086051,  0.19715085]),\n",
       " array([-0.97394321, -0.72719846,  1.80978083, -1.82613082, -1.40618309,\n",
       "        -1.35057312,  0.17998299]),\n",
       " array([-0.98827569, -0.69074016,  1.89440789, -1.89064923, -1.32592685,\n",
       "        -1.3827611 ,  0.13714924]),\n",
       " array([-0.99406962, -0.68637144,  1.89058168, -1.88394192, -1.3231832 ,\n",
       "        -1.38312036,  0.12793967]),\n",
       " array([-1.01212436, -0.73492003,  1.92805992, -1.9987831 , -1.17185513,\n",
       "        -1.27941729,  0.2185625 ]),\n",
       " array([-1.01524709, -0.73465225,  1.9264506 , -1.99766125, -1.17456568,\n",
       "        -1.27981676,  0.21304836]),\n",
       " array([-1.03861621, -0.72496295,  1.96873299, -1.99361538, -1.13886377,\n",
       "        -1.30593529,  0.18781206]),\n",
       " array([-0.93670252, -0.77381828,  1.9877947 , -1.88125364, -1.2396404 ,\n",
       "        -1.45554738,  0.13729936]),\n",
       " array([-0.93396403, -0.74165125,  1.99649178, -1.83824556, -1.22539913,\n",
       "        -1.48200226,  0.13095698]),\n",
       " array([-0.93508984, -0.74611965,  1.9981187 , -1.84769663, -1.2208502 ,\n",
       "        -1.4785107 ,  0.12503135]),\n",
       " array([-0.92773139, -0.73557851,  2.00246357, -1.86060651, -1.22397151,\n",
       "        -1.47802383,  0.1426595 ]),\n",
       " array([-0.91819427, -0.73238044,  1.99887278, -1.86411644, -1.22938739,\n",
       "        -1.47352432,  0.13928116]),\n",
       " array([-0.92767834, -0.74783175,  1.9831527 , -1.87168593, -1.22292023,\n",
       "        -1.44812415,  0.1227659 ]),\n",
       " array([-0.94637816, -0.58320356,  1.96508426, -1.79253155, -1.03935016,\n",
       "        -1.21590894,  0.07228124]),\n",
       " array([-0.95999082, -0.61388381,  1.91646697, -1.80470578, -1.07366235,\n",
       "        -1.21911733,  0.07042695]),\n",
       " array([-0.96941093, -0.64187195,  1.91893204, -1.7938221 , -1.0755158 ,\n",
       "        -1.21504773,  0.04549544]),\n",
       " array([-0.98742541, -0.5949304 ,  1.9042406 , -1.80842775, -1.03290125,\n",
       "        -1.19131489,  0.07353837]),\n",
       " array([-0.9900306 , -0.68163584,  1.9101749 , -2.07874812, -0.90733555,\n",
       "        -1.26989515, -0.04303826]),\n",
       " array([-0.99185531, -0.66192339,  1.87874566, -2.07845033, -0.9384732 ,\n",
       "        -1.2578606 , -0.06914982]),\n",
       " array([-0.9059392 , -0.75455521,  1.93300201, -1.97884841, -0.85204444,\n",
       "        -1.09097413, -0.17082491]),\n",
       " array([-0.9017114 , -0.76946802,  1.92356246, -1.96650873, -0.83611575,\n",
       "        -1.1031738 , -0.17053023]),\n",
       " array([-0.76784376, -0.72503459,  1.90464671, -1.92047196, -1.04381433,\n",
       "        -0.95487259, -0.17524508]),\n",
       " array([-0.77604407, -0.72815094,  1.88902167, -1.9184555 , -1.04413659,\n",
       "        -0.9327899 , -0.17790244]),\n",
       " array([-0.79990326, -0.72573402,  1.90809907, -1.90740061, -1.03686135,\n",
       "        -0.93582866, -0.1739931 ]),\n",
       " array([-0.76117322, -0.84079549,  1.91490219, -1.94699582, -1.0743456 ,\n",
       "        -0.92525312, -0.19049476]),\n",
       " array([-0.52864179, -0.84529318,  1.67969805, -1.94941707, -0.65272943,\n",
       "        -0.8877425 , -0.15436025]),\n",
       " array([-0.51004709, -0.85825852,  1.73250653, -1.86405392, -0.65975262,\n",
       "        -0.91675513, -0.18176279]),\n",
       " array([-0.53176519, -0.84265443,  1.72288567, -1.86276601, -0.7020261 ,\n",
       "        -0.89544165, -0.13207526]),\n",
       " array([-0.61929284, -0.81741593,  1.63255045, -1.88588879, -0.74742936,\n",
       "        -0.88512616, -0.29455305]),\n",
       " array([-0.59590888, -0.83085624,  1.64740381, -1.8500379 , -0.80950581,\n",
       "        -0.91433786, -0.34123424]),\n",
       " array([-0.64451581, -1.0318196 ,  1.6271931 , -2.07338899, -0.21486065,\n",
       "        -1.09989028, -0.20320353]),\n",
       " array([-0.65863211, -1.01772863,  1.61531367, -2.08323116, -0.21710123,\n",
       "        -1.08627694, -0.19580131]),\n",
       " array([-0.81743652, -1.1267742 ,  1.68985103, -1.95563737, -0.56944448,\n",
       "        -1.15297106, -0.77993518]),\n",
       " array([-0.93535907, -1.12437515,  1.72827044, -2.03816916, -0.57983307,\n",
       "        -1.15505345, -0.72291396]),\n",
       " array([-0.8822573 , -1.16266033,  1.69340405, -2.05072981, -0.59028143,\n",
       "        -1.0927228 , -0.7956494 ]),\n",
       " array([-0.7659635 , -1.17427135,  1.65217537, -2.07768526, -0.53528499,\n",
       "        -1.1965462 , -0.91454866]),\n",
       " array([-0.73544709, -1.18145225,  1.64592887, -2.06575894, -0.52465425,\n",
       "        -1.23923344, -0.93731519]),\n",
       " array([-0.73111986, -1.25998583,  1.53537602, -1.99766957, -0.50920061,\n",
       "        -1.28120127, -0.95881928]),\n",
       " array([-0.77932349, -1.24627842,  1.48143067, -1.94851411, -0.37882626,\n",
       "        -1.22566954, -0.8889558 ]),\n",
       " array([-0.91628829, -0.88007928,  1.58021411, -2.05267526, -0.10362867,\n",
       "        -1.13428516, -0.80171609]),\n",
       " array([-0.88748607, -0.91731394,  1.6293603 , -2.03706144, -0.08480906,\n",
       "        -1.17874788, -0.75892385]),\n",
       " array([-0.84262288, -0.92296575,  1.65715877, -2.032246  , -0.09335666,\n",
       "        -1.14072472, -0.72168517]),\n",
       " array([-0.84633108, -0.93160147,  1.66905202, -2.03264274, -0.08453546,\n",
       "        -1.13400378, -0.72940539]),\n",
       " array([-0.72692225, -1.48667085,  1.61008597, -1.98697983, -0.08682707,\n",
       "        -0.97930124, -1.11404755]),\n",
       " array([-0.68989761, -1.27007864,  1.55199791, -2.02906027, -0.03933541,\n",
       "        -0.90612817, -1.40905677]),\n",
       " array([-0.65611736, -1.30155115,  1.62738925, -2.0156013 , -0.03486919,\n",
       "        -0.98235296, -1.52132391]),\n",
       " array([-0.65686147, -1.30368899,  1.6273123 , -2.02296809, -0.0341792 ,\n",
       "        -0.987843  , -1.52225748]),\n",
       " array([-0.65043975, -1.29049002,  1.62285517, -2.0174247 , -0.03944864,\n",
       "        -0.98963379, -1.52114503]),\n",
       " array([-0.55822331, -1.1169943 ,  1.58564286, -2.03374219, -0.19453413,\n",
       "        -0.87398155, -1.46757987]),\n",
       " array([-0.65306395, -1.10910432,  1.68798071, -2.00062527, -0.10101831,\n",
       "        -0.75841704, -1.2889442 ]),\n",
       " array([-0.69442586, -1.15278092,  1.80000782, -2.0274779 , -0.28113958,\n",
       "        -0.68353729, -1.30255391]),\n",
       " array([-0.7711585 , -1.14465143,  1.78470306, -1.93665214, -0.50060471,\n",
       "        -0.81751931, -1.13840251]),\n",
       " array([-0.77662829, -1.19374371,  1.84505724, -1.96817034, -0.43705007,\n",
       "        -0.92668335, -1.08325297]),\n",
       " array([-0.78180891, -1.18451182,  1.83159367, -1.96258114, -0.42884869,\n",
       "        -0.92113949, -1.07893371]),\n",
       " array([-0.75451329, -1.06774242,  1.7420795 , -2.00648229, -0.43865762,\n",
       "        -0.91650838, -1.13791188]),\n",
       " array([-0.86954252, -1.12104634,  1.77640573, -2.05304525, -0.43462176,\n",
       "        -0.95806344, -0.93663794]),\n",
       " array([-0.84161205, -1.15558283,  1.84807042, -2.02346007, -0.53691009,\n",
       "        -0.9784011 , -0.92822719]),\n",
       " array([-0.82995633, -1.13576949,  1.8509475 , -2.05516458, -0.56052655,\n",
       "        -0.99666589, -0.92383078]),\n",
       " array([-0.85042582, -1.06918648,  1.8573664 , -2.04046221, -0.72424282,\n",
       "        -0.99747037, -1.05873472]),\n",
       " array([-0.8498834 , -1.06932263,  1.85760788, -2.04040051, -0.7228421 ,\n",
       "        -1.00118703, -1.05576163]),\n",
       " array([-0.8054788 , -0.98931836,  1.8210074 , -2.04639466, -0.65740928,\n",
       "        -0.93312725, -1.12347756]),\n",
       " array([-0.88345092, -0.9867137 ,  1.75390796, -1.91875325, -0.71310847,\n",
       "        -1.11970316, -1.33895523]),\n",
       " array([-0.85817227, -0.9867653 ,  1.74869997, -1.93495264, -0.72538758,\n",
       "        -1.10609253, -1.29869065]),\n",
       " array([-0.79033797, -1.03704409,  1.75843325, -1.96678732, -0.7424424 ,\n",
       "        -1.11562317, -1.31451383]),\n",
       " array([-0.4849942 , -1.20035855,  1.56838689, -1.9353465 , -0.73561107,\n",
       "        -0.90140053, -1.28254005]),\n",
       " array([-0.52072277, -1.11972786,  1.61473279, -1.99079106, -0.73160648,\n",
       "        -0.89408964, -1.28782624]),\n",
       " array([-0.52072674, -1.10066354,  1.59983342, -2.00085992, -0.71838133,\n",
       "        -0.87607645, -1.29295157]),\n",
       " array([-0.39033199, -1.06379888,  1.60994532, -1.98826324, -0.76906154,\n",
       "        -0.98398279, -1.28769093]),\n",
       " array([-0.56304897, -0.96332816,  1.65181038, -1.96593632, -0.72691976,\n",
       "        -0.88231924, -1.19412625]),\n",
       " array([-0.64315098, -1.03185115,  1.84037102, -1.97163476, -0.69122105,\n",
       "        -0.9006122 , -1.1609306 ]),\n",
       " array([-0.6935639 , -1.13112932,  1.79569747, -1.97534769, -0.69078161,\n",
       "        -0.93791223, -1.1664434 ]),\n",
       " array([-0.60295135, -1.12768484,  1.81671374, -1.98920135, -0.73077691,\n",
       "        -1.01883845, -1.16161564]),\n",
       " array([-0.69747242, -1.09650186,  1.74304014, -1.92807471, -0.72600807,\n",
       "        -1.00588733, -1.2056376 ]),\n",
       " array([-0.71061443, -1.11561099,  1.80757189, -1.98352307, -0.76416976,\n",
       "        -0.99813541, -1.25792607]),\n",
       " array([-0.69268882, -1.10000407,  1.77404757, -1.97130365, -0.74153961,\n",
       "        -0.98181734, -1.25256231]),\n",
       " array([-0.68244773, -1.1517016 ,  1.76662663, -1.94006141, -0.7215563 ,\n",
       "        -1.00965666, -1.24579571]),\n",
       " array([-0.75858567, -1.29200619,  1.67338658, -1.98776388, -0.70510747,\n",
       "        -0.92364785, -1.14392006]),\n",
       " array([-0.71243839, -1.3886345 ,  1.55192076, -1.98940369, -0.61146444,\n",
       "        -0.85599363, -1.16086262]),\n",
       " array([-0.69050128, -1.40422354,  1.53824745, -2.01329482, -0.58064524,\n",
       "        -0.81932583, -1.17240861]),\n",
       " array([-0.6642738 , -1.05815724,  1.72579814, -2.05019246, -0.7422115 ,\n",
       "        -0.76608391, -0.9688427 ]),\n",
       " array([-0.74876599, -1.04199501,  1.61939051, -1.92467231, -0.67814291,\n",
       "        -0.79938034, -0.97201611]),\n",
       " array([-0.72123492, -1.09419253,  1.60335477, -1.9840167 , -0.83367586,\n",
       "        -0.89070816, -1.08696207]),\n",
       " array([-0.69886056, -1.24567807,  1.63778014, -1.98657139, -0.93753929,\n",
       "        -1.02770383, -0.98853607]),\n",
       " array([-0.66651402, -1.25651736,  1.54109916, -1.96900991, -0.9256338 ,\n",
       "        -1.03816255, -1.04604158]),\n",
       " array([-0.56671226, -1.27382467,  1.60427972, -1.93825098, -1.01185065,\n",
       "        -1.06622181, -1.05330785]),\n",
       " array([-0.55218732, -1.27541964,  1.60016698, -1.96617427, -0.98238443,\n",
       "        -1.03927637, -1.07824171]),\n",
       " array([-0.71778764, -1.1918812 ,  1.51575798, -1.96827547, -0.97442952,\n",
       "        -1.23965789, -1.04404098]),\n",
       " array([-0.59854017, -1.21927031,  1.56062258, -1.92311958, -0.91041269,\n",
       "        -1.21831645, -0.9934345 ]),\n",
       " array([-0.57034184, -1.2632262 ,  1.55762785, -1.95767738, -0.87088533,\n",
       "        -1.31185209, -0.97331135]),\n",
       " array([-0.73058614, -1.41271528,  1.5317613 , -1.90336394, -1.07253278,\n",
       "        -1.29827066, -0.9739928 ]),\n",
       " array([-0.72545915, -1.3953387 ,  1.51979446, -1.89482314, -1.08187853,\n",
       "        -1.30995162, -0.98436571]),\n",
       " array([-0.74199271, -1.40219959,  1.5248731 , -1.89936024, -1.0922802 ,\n",
       "        -1.31854992, -0.9907336 ]),\n",
       " array([-0.69538576, -1.40387479,  1.52682237, -1.91241351, -1.07833846,\n",
       "        -1.31517056, -0.98812398]),\n",
       " array([-0.71485555, -1.41893077,  1.53764853, -1.91111227, -1.11578168,\n",
       "        -1.27986717, -0.99483325]),\n",
       " array([-0.71780941, -1.36697883,  1.49948575, -2.00882663, -1.03502532,\n",
       "        -1.36347545, -0.89020645]),\n",
       " array([-0.72733976, -1.41440992,  1.51079351, -2.01067033, -1.01183367,\n",
       "        -1.34815944, -0.88956989]),\n",
       " array([-0.69889191, -1.34574876,  1.54126821, -2.01792844, -0.94779774,\n",
       "        -1.36739669, -0.88716699]),\n",
       " array([-0.67464197, -1.36967671,  1.53945258, -1.89436641, -0.95176722,\n",
       "        -1.28653847, -0.7962884 ]),\n",
       " array([-0.94330449, -1.26928594,  1.54935795, -1.93178504, -0.83031396,\n",
       "        -1.31852306, -0.68694822]),\n",
       " array([-0.8194508 , -1.27098718,  1.60210389, -1.90158937, -0.82385676,\n",
       "        -1.2570398 , -0.77423044]),\n",
       " array([-0.88746486, -1.29874023,  1.50484987, -1.89775295, -0.88471558,\n",
       "        -1.36745712, -0.82089026]),\n",
       " array([-0.92061201, -1.25635519,  1.48817457, -1.94583015, -0.84237795,\n",
       "        -1.35716947, -0.83979153]),\n",
       " array([-0.91860098, -1.25138801,  1.49179868, -1.94559767, -0.84100219,\n",
       "        -1.35768011, -0.83400387]),\n",
       " array([-0.89068333, -1.26501695,  1.54237856, -2.00545656, -0.82671781,\n",
       "        -1.31482089, -0.82879927]),\n",
       " array([-0.90718313, -1.24980759,  1.51062555, -1.94059564, -0.79598463,\n",
       "        -1.33145071, -0.76074265]),\n",
       " array([-0.74610697, -1.24336413,  1.38674922, -1.90614271, -0.75234515,\n",
       "        -1.3417584 , -0.9043711 ]),\n",
       " array([-0.73825644, -1.33938774,  1.57280343, -1.95105453, -0.74853276,\n",
       "        -1.37948333, -0.93467504]),\n",
       " array([-0.74276877, -1.34078325,  1.55848326, -1.9433861 , -0.76455881,\n",
       "        -1.37670724, -0.92213773]),\n",
       " array([-0.74289057, -1.34115035,  1.55823044, -1.94495652, -0.7643423 ,\n",
       "        -1.38182664, -0.91790648]),\n",
       " array([-0.81980835, -1.38924964,  1.50164841, -2.02917714, -0.7794723 ,\n",
       "        -1.3475623 , -0.96290175]),\n",
       " array([-0.82488988, -1.3842845 ,  1.50828436, -2.02502678, -0.78156778,\n",
       "        -1.34355673, -0.96819836]),\n",
       " array([-0.80578574, -1.34294104,  1.50867613, -1.97514204, -0.83760017,\n",
       "        -1.33277581, -0.99784632]),\n",
       " array([-0.76771031, -1.32210504,  1.41449024, -1.99367562, -0.44340744,\n",
       "        -1.33111943, -0.66230622]),\n",
       " array([-0.86346678, -0.84208388,  1.51817866, -1.94746524, -0.49309365,\n",
       "        -1.48912655, -0.63601942]),\n",
       " array([-0.84747643, -0.83692904,  1.48630018, -1.91230017, -0.4575613 ,\n",
       "        -1.4992081 , -0.64467072]),\n",
       " array([-0.85924051, -0.84407925,  1.49456685, -1.91103134, -0.45621591,\n",
       "        -1.50760156, -0.65153795]),\n",
       " array([-0.91092033, -0.8470127 ,  1.46567205, -1.88503593, -0.49561535,\n",
       "        -1.47971806, -0.65549294]),\n",
       " array([-0.91407528, -0.83560456,  1.48722404, -1.88396864, -0.50845817,\n",
       "        -1.48643875, -0.63851385]),\n",
       " array([-0.91414891, -0.82321909,  1.45094045, -1.87152464, -0.49586749,\n",
       "        -1.46819105, -0.64920683]),\n",
       " array([-0.95694774, -0.86870192,  1.43984122, -1.92481692, -0.49610877,\n",
       "        -1.43774441, -0.68593288]),\n",
       " array([-0.93486359, -0.83095748,  1.42058135, -1.92257501, -0.40417874,\n",
       "        -1.42689212, -0.67081101]),\n",
       " array([-0.95178771, -0.8230112 ,  1.41441641, -1.92051383, -0.4145972 ,\n",
       "        -1.42775932, -0.68103772]),\n",
       " array([-0.92179176, -0.80784123,  1.41252388, -1.89846411, -0.44113742,\n",
       "        -1.49550087, -0.67558042]),\n",
       " array([-0.88180268, -0.90104369,  1.4762472 , -1.91372517, -0.66839171,\n",
       "        -1.4802787 , -0.58860839]),\n",
       " array([-0.87719276, -0.90042734,  1.47615699, -1.91053514, -0.66999252,\n",
       "        -1.48100099, -0.58967603]),\n",
       " array([-0.8395548 , -0.89959058,  1.50446135, -1.9076324 , -0.68160988,\n",
       "        -1.50389319, -0.59375065]),\n",
       " array([-0.84428141, -0.8943617 ,  1.61819204, -1.93514201, -0.64356991,\n",
       "        -1.51464571, -0.59601572]),\n",
       " array([-0.8450443 , -0.90197859,  1.62208312, -1.93429671, -0.64571512,\n",
       "        -1.51533898, -0.60033845]),\n",
       " array([-0.84545538, -0.90395191,  1.62617691, -1.93800413, -0.6441168 ,\n",
       "        -1.51229107, -0.59925623]),\n",
       " array([-0.85230093, -0.88232859,  1.66021366, -2.01827287, -0.6130402 ,\n",
       "        -1.50405388, -0.597752  ]),\n",
       " array([-0.86486415, -0.85042428,  1.6318119 , -1.97746641, -0.59678004,\n",
       "        -1.4571958 , -0.5778807 ]),\n",
       " array([-0.85343799, -0.86200647,  1.64728696, -1.94900618, -0.60900125,\n",
       "        -1.46178459, -0.57063202]),\n",
       " array([-0.88732618, -0.77850322,  1.66304143, -2.00678264, -0.67518995,\n",
       "        -1.33640479, -0.58227992]),\n",
       " array([-0.8789555 , -0.75666104,  1.69100483, -1.99939947, -0.66550294,\n",
       "        -1.31873167, -0.51891965]),\n",
       " array([-0.91225799, -0.74188322,  1.70168326, -2.08256908, -0.65341509,\n",
       "        -1.3716902 , -0.54127771]),\n",
       " array([-0.98742806, -0.72010313,  1.71574217, -1.99745526, -0.64461213,\n",
       "        -1.44243339, -0.46171694]),\n",
       " array([-0.72063212, -0.65894082,  1.86799769, -1.98395448, -0.60738066,\n",
       "        -1.29823104, -0.51166177]),\n",
       " array([-0.67680966, -0.67421589,  1.91586453, -2.07882269, -0.54252702,\n",
       "        -1.28320383, -0.4918388 ]),\n",
       " array([-0.67803216, -0.67247507,  1.914935  , -2.09212332, -0.53788452,\n",
       "        -1.27776436, -0.49976839]),\n",
       " array([-0.60767279, -0.67691392,  1.86047857, -2.06850507, -0.62040815,\n",
       "        -1.21407745, -0.33638098]),\n",
       " array([-0.60762815, -0.67018546,  1.86467907, -2.07911688, -0.6250491 ,\n",
       "        -1.2098766 , -0.34030549]),\n",
       " array([-0.60630609, -0.66990591,  1.86472603, -2.07830512, -0.62458378,\n",
       "        -1.20945518, -0.33949808]),\n",
       " array([-0.82719195, -0.57528161,  1.75842365, -1.99989606, -0.82449691,\n",
       "        -1.13710101, -0.16018469]),\n",
       " array([-0.81173195, -0.73308066,  1.90498656, -2.01637238, -0.76344216,\n",
       "        -1.01584978, -0.1450445 ]),\n",
       " array([-0.82269161, -0.74082873,  1.89842195, -2.00706722, -0.79173807,\n",
       "        -1.01834477, -0.15072933]),\n",
       " array([-0.79406499, -0.72290041,  1.94372902, -2.02654177, -0.73386958,\n",
       "        -0.8583462 , -0.06152673]),\n",
       " array([-0.78100439, -0.72206233,  1.9276327 , -2.03505864, -0.76736562,\n",
       "        -0.85635294, -0.03634132]),\n",
       " array([-0.73708671, -0.43417622,  1.93986752, -1.81142035, -0.67399172,\n",
       "        -0.66968003, -0.02874361]),\n",
       " array([-0.69511481, -0.39022224,  2.04588134, -1.79145235, -0.58371099,\n",
       "        -0.56793119, -0.01065567]),\n",
       " array([-0.72494774, -0.45744623,  1.95463087, -1.91901689, -0.51791822,\n",
       "        -0.49306256, -0.17940426]),\n",
       " array([-0.76367193, -0.4749226 ,  2.00038613, -1.89325016, -0.44299572,\n",
       "        -0.5047893 , -0.19600983]),\n",
       " array([-0.81953659, -0.46069743,  2.06107724, -1.80232825, -0.50299938,\n",
       "        -0.52523392, -0.15691439]),\n",
       " array([-0.88597346, -0.46963123,  2.09306439, -1.86116637, -0.46893731,\n",
       "        -0.48132289, -0.14295812]),\n",
       " array([-0.88637384, -0.47202151,  2.09608977, -1.87531976, -0.46654095,\n",
       "        -0.4841361 , -0.14852812]),\n",
       " array([-0.86488305, -0.47593178,  2.10154019, -1.86154269, -0.45756761,\n",
       "        -0.49221978, -0.13823557]),\n",
       " array([-0.89930705, -0.66123911,  2.15301554, -1.88339845, -0.56156988,\n",
       "        -0.55405113, -0.2739031 ]),\n",
       " array([-0.88852016, -0.64961584,  2.1744927 , -1.89402547, -0.57605641,\n",
       "        -0.52740258, -0.26792826]),\n",
       " array([-0.8935078 , -0.76618675,  2.090783  , -1.94880161, -0.64340803,\n",
       "        -0.51005982, -0.22328976]),\n",
       " array([-0.91170755, -0.7259912 ,  2.05712133, -1.89545752, -0.59374726,\n",
       "        -0.69641909, -0.25500544]),\n",
       " array([-0.88026578, -0.61451196,  2.23283852, -1.8396386 , -0.59795913,\n",
       "        -0.78284352, -0.17888013]),\n",
       " array([-0.63700333, -0.94797824,  2.11413215, -1.95414965, -0.36540598,\n",
       "        -0.5393818 , -0.66933521]),\n",
       " array([-0.63614459, -0.94526116,  2.11439389, -1.95266211, -0.36515002,\n",
       "        -0.54047092, -0.66880956]),\n",
       " array([-0.59970962, -0.89230362,  2.06618275, -1.93918202, -0.46359664,\n",
       "        -0.61927159, -0.72173941]),\n",
       " array([-0.63278899, -0.92621417,  2.12923468, -1.96254267, -0.44423029,\n",
       "        -0.53098428, -0.74686001]),\n",
       " array([-0.75921341, -1.02588853,  1.94157932, -2.02344656, -0.35206981,\n",
       "        -0.5249509 , -0.66075302]),\n",
       " array([-0.83998306, -0.86293488,  1.97644768, -1.80011815, -0.45779355,\n",
       "        -0.66120859, -0.60550286]),\n",
       " array([-0.83466828, -0.83885669,  1.94698023, -1.83930065, -0.39355098,\n",
       "        -0.5776863 , -0.58381177]),\n",
       " array([-0.81459973, -0.8556334 ,  1.92784114, -1.86504416, -0.38303351,\n",
       "        -0.56037873, -0.55917829]),\n",
       " array([-0.81819212, -0.87162044,  1.94671464, -1.81331726, -0.37053829,\n",
       "        -0.58676095, -0.54452194]),\n",
       " array([-0.83920277, -0.9041579 ,  1.94320649, -1.85024952, -0.41395558,\n",
       "        -0.59195483, -0.57141317]),\n",
       " array([-0.82933915, -0.89880328,  1.95173845, -1.85116781, -0.40758563,\n",
       "        -0.59371953, -0.56276045]),\n",
       " array([-0.84116786, -0.90040588,  1.94753095, -1.86492548, -0.40692099,\n",
       "        -0.58249564, -0.53937195]),\n",
       " array([-0.76293473, -0.83266568,  1.94998727, -1.83059573, -0.43119611,\n",
       "        -0.56413235, -0.61754099]),\n",
       " array([-0.73312614, -0.82411496,  1.95051913, -1.83508003, -0.47762222,\n",
       "        -0.56326851, -0.65209172]),\n",
       " array([-0.63017473, -0.81984148,  1.94205976, -1.87495627, -0.47579971,\n",
       "        -0.46221353, -0.65043326]),\n",
       " array([-0.62186724, -0.76641133,  1.92090114, -1.97477316, -0.45596329,\n",
       "        -0.54574413, -0.80413476]),\n",
       " array([-0.59256556, -0.76561994,  1.93521751, -1.98598944, -0.44629681,\n",
       "        -0.55447466, -0.79348595]),\n",
       " array([-0.83054924, -0.95198382,  1.95610325, -1.93863444, -0.51510106,\n",
       "        -0.64848425, -0.82908958]),\n",
       " array([-0.83742662, -0.94510524,  1.9384472 , -1.92929487, -0.50533937,\n",
       "        -0.63332447, -0.82461652]),\n",
       " array([-0.85595147, -0.93174804,  2.03137785, -1.96716733, -0.57002047,\n",
       "        -0.68407838, -0.70855365]),\n",
       " array([-0.76599226, -0.95234653,  2.0111812 , -1.88594577, -0.5372465 ,\n",
       "        -0.72554978, -0.70282649]),\n",
       " array([-0.73181769, -0.96759837,  2.04113626, -1.88120452, -0.53609235,\n",
       "        -0.72670734, -0.66539619]),\n",
       " array([-0.63108016, -0.70788231,  2.05036302, -2.01027119, -0.5612146 ,\n",
       "        -0.49191789, -0.61234487]),\n",
       " array([-0.86924421, -0.73574902,  1.74872409, -1.90477392, -0.65625963,\n",
       "        -0.74391559, -0.66288653]),\n",
       " array([-0.86812798, -0.72985318,  1.74914719, -1.90516341, -0.65622762,\n",
       "        -0.74479285, -0.66464391]),\n",
       " array([-0.85092905, -0.73070907,  1.72010374, -1.92767896, -0.6598577 ,\n",
       "        -0.7293207 , -0.68781596]),\n",
       " array([-0.79211041, -0.77030015,  1.85504374, -1.92610774, -0.62040117,\n",
       "        -0.71230204, -0.71714342]),\n",
       " array([-0.8173574 , -0.73551355,  1.84377047, -1.82154689, -0.57714242,\n",
       "        -0.69843043, -0.74179363]),\n",
       " array([-0.8054861 , -0.6971749 ,  1.79163246, -1.83820522, -0.57635372,\n",
       "        -0.70865847, -0.74742517]),\n",
       " array([-0.7128956 , -0.67745915,  1.81566707, -1.84948802, -0.60359695,\n",
       "        -0.68941583, -0.75123009]),\n",
       " array([-0.80436371, -0.75907982,  1.83050654, -1.87649246, -0.52674177,\n",
       "        -0.67900513, -0.77225061]),\n",
       " array([-0.76413289, -0.6664603 ,  1.83389581, -1.991364  , -0.48211693,\n",
       "        -0.71582161, -0.84873356]),\n",
       " array([-0.69400001, -0.73733839,  1.80605906, -1.86272557, -0.23622668,\n",
       "        -0.68280977, -0.8776236 ]),\n",
       " array([-0.70907649, -0.66956903,  1.75770999, -1.87825297, -0.34576448,\n",
       "        -0.65839535, -0.9087702 ]),\n",
       " array([-0.77286955, -0.66441165,  1.77545879, -1.92949201, -0.37508679,\n",
       "        -0.67873717, -0.86925435]),\n",
       " array([-0.75675562, -0.66466307,  1.76801009, -1.91393572, -0.37225533,\n",
       "        -0.69567259, -0.87928835]),\n",
       " array([-0.75608565, -0.66393019,  1.7677579 , -1.91376393, -0.37022087,\n",
       "        -0.69506039, -0.87954521]),\n",
       " array([-0.74327761, -0.66661288,  1.79726268, -1.90334822, -0.36708407,\n",
       "        -0.6986615 , -0.85329474]),\n",
       " array([-0.75698867, -0.6687954 ,  1.95312121, -1.92900203, -0.23221673,\n",
       "        -0.82248217, -0.96693502]),\n",
       " array([-0.80433812, -0.74223186,  2.00168514, -1.98969025, -0.21687278,\n",
       "        -0.8428129 , -0.94634214]),\n",
       " array([-0.88538785, -0.7661287 ,  2.0640471 , -2.04710918, -0.22565424,\n",
       "        -0.8003099 , -0.98209225]),\n",
       " array([-0.90291007, -0.76943   ,  2.0479201 , -2.06208042, -0.16132225,\n",
       "        -0.71121358, -1.0169099 ]),\n",
       " array([-0.87268035, -0.73086791,  2.02121898, -2.07664683, -0.12543036,\n",
       "        -0.73041133, -1.03620923]),\n",
       " array([-0.75133382, -0.66770865,  2.01504474, -1.94401137, -0.15513021,\n",
       "        -0.82633153, -0.99954318]),\n",
       " array([-0.76208946, -0.69414238,  2.03666208, -1.99955143, -0.13957877,\n",
       "        -0.8496635 , -1.06803613]),\n",
       " array([-0.81307156, -0.69766701,  2.00634261, -1.98604681, -0.1205372 ,\n",
       "        -0.80088877, -1.06966818]),\n",
       " array([-0.79999078, -0.68009719,  1.99680562, -1.9869265 , -0.12602561,\n",
       "        -0.80122289, -1.07597386]),\n",
       " array([-0.79880881, -0.67944768,  2.00759522, -1.98826845, -0.13153661,\n",
       "        -0.79761434, -1.07305599]),\n",
       " array([-0.84981491, -0.69937534,  2.04047708, -2.06052596, -0.34632345,\n",
       "        -0.65971891, -1.04004692]),\n",
       " array([-0.84587224, -0.62062965,  2.16468925, -1.87512598, -0.35368378,\n",
       "        -0.60377635, -1.02577852]),\n",
       " array([-0.85372607, -0.61774074,  2.16076077, -1.86956925, -0.35548022,\n",
       "        -0.60423646, -1.02108336]),\n",
       " array([-0.85023745, -0.61328666,  2.15905312, -1.87007737, -0.35614765,\n",
       "        -0.59762731, -1.0198285 ]),\n",
       " array([-0.8382377 , -0.59209123,  2.1461182 , -1.9311236 , -0.30812357,\n",
       "        -0.52989811, -1.03315755]),\n",
       " array([-0.8336765 , -0.60426926,  2.10081196, -2.06301054, -0.29030772,\n",
       "        -0.56586105, -1.07357498]),\n",
       " array([-0.84545133, -0.86047406,  2.03199366, -1.96710739, -0.23895622,\n",
       "        -0.86290452, -1.19024651]),\n",
       " array([-0.86709839, -0.84875562,  2.04964449, -2.03766533, -0.20357061,\n",
       "        -0.80609744, -1.08227911]),\n",
       " array([-0.85976797, -0.84492564,  2.03791056, -2.04182358, -0.21685723,\n",
       "        -0.80232544, -1.08444857]),\n",
       " array([-0.85920025, -0.84022215,  2.05505793, -2.03615346, -0.1961029 ,\n",
       "        -0.80730075, -1.09077685]),\n",
       " array([-0.83502712, -0.83184727,  2.05582805, -2.05226002, -0.1949092 ,\n",
       "        -0.8061288 , -1.0913163 ]),\n",
       " array([-0.89996046, -0.80275082,  2.07519857, -2.02875247, -0.16591251,\n",
       "        -0.75673565, -1.06540996]),\n",
       " array([-0.89109612, -0.8215332 ,  2.08362294, -2.0192659 , -0.17201558,\n",
       "        -0.75115806, -1.07039559]),\n",
       " array([-0.85594231, -0.8289914 ,  2.06191797, -2.01517973, -0.15747165,\n",
       "        -0.77752646, -1.03684476]),\n",
       " array([-0.89464022, -0.84297364,  2.01240699, -1.99292161, -0.2058445 ,\n",
       "        -0.78452277, -1.02267818]),\n",
       " array([-0.74378324, -0.93298621,  1.95346457, -2.06854343, -0.34966693,\n",
       "        -0.92371086, -1.05046493]),\n",
       " array([-0.75680696, -0.87236227,  1.92717377, -2.00136427, -0.22426061,\n",
       "        -0.94792694, -1.07116077]),\n",
       " array([-0.75760949, -0.86977971,  1.92404443, -2.00803857, -0.23170368,\n",
       "        -0.94277695, -1.06336569]),\n",
       " array([-0.56949628, -0.52941489,  1.84631935, -1.95433763, -0.03115939,\n",
       "        -0.849971  , -0.73499786]),\n",
       " array([-0.61943862, -0.55450211,  1.80972339, -1.93676535, -0.04029166,\n",
       "        -0.82431737, -0.73485343]),\n",
       " array([-0.61443874, -0.5975299 ,  1.84967866, -1.9046733 ,  0.01420829,\n",
       "        -0.80217598, -0.73792722]),\n",
       " array([-0.58435435, -0.60006627,  1.85466058, -1.94190895, -0.00693342,\n",
       "        -0.78807682, -0.73617356]),\n",
       " array([-0.62558852, -0.57048197,  1.79834627, -1.94949022,  0.02115027,\n",
       "        -0.77728265, -0.75155218]),\n",
       " array([-0.6587244 , -0.55856056,  1.82141781, -1.88553065,  0.01523343,\n",
       "        -0.80314084, -0.82966593]),\n",
       " array([-0.66074115, -0.5623111 ,  1.8311796 , -1.89714857,  0.02391116,\n",
       "        -0.8043662 , -0.82414152]),\n",
       " array([-0.65954563, -0.55729177,  1.8271673 , -1.89848176,  0.03325951,\n",
       "        -0.80493672, -0.82317863]),\n",
       " array([-0.64848581, -0.54233146,  1.80991037, -1.9074913 ,  0.05321237,\n",
       "        -0.78154007, -0.82878203]),\n",
       " array([-0.6731652 , -0.53023233,  1.80948107, -1.90830151,  0.05964113,\n",
       "        -0.83348196, -0.85093466]),\n",
       " array([-0.75313617, -0.42155335,  1.8146441 , -1.91661687, -0.2618401 ,\n",
       "        -0.77819799, -1.08061305]),\n",
       " array([-0.7534403 , -0.41553585,  1.81665446, -1.91140313, -0.26455731,\n",
       "        -0.78127039, -1.08111384]),\n",
       " array([-0.72590784, -0.38726734,  1.89844766, -1.91624264, -0.2788884 ,\n",
       "        -0.78540268, -1.12632288]),\n",
       " array([-0.73655514, -0.38552792,  1.89219728, -1.94508446, -0.2633341 ,\n",
       "        -0.77011461, -1.13679395]),\n",
       " array([-0.73881119, -0.39530247,  1.8938498 , -1.95442878, -0.27040512,\n",
       "        -0.7682025 , -1.13309347]),\n",
       " array([-0.73907908, -0.39472989,  1.89234095, -1.96040219, -0.26162535,\n",
       "        -0.76943497, -1.12821982]),\n",
       " array([-0.72378916, -0.35100252,  1.89416059, -1.97999625, -0.26608945,\n",
       "        -0.73249288, -1.12511797]),\n",
       " array([-0.74367107, -0.35862028,  1.8945656 , -1.98568591, -0.24974525,\n",
       "        -0.72569399, -1.11900405]),\n",
       " array([-0.74599389, -0.35590841,  1.89113703, -1.99359713, -0.25390113,\n",
       "        -0.72131751, -1.12214715]),\n",
       " array([-0.74523923, -0.35785371,  1.88832549, -2.00435852, -0.25266341,\n",
       "        -0.71862423, -1.13478155]),\n",
       " array([-0.78168719, -0.34658396,  1.98052588, -2.07722009, -0.38168808,\n",
       "        -0.72223799, -1.07154802]),\n",
       " array([-0.76732039, -0.28136636,  2.0071716 , -2.07112586, -0.49890086,\n",
       "        -0.86004572, -1.04556506]),\n",
       " array([-0.81178008, -0.2350938 ,  2.01121883, -1.97711842, -0.50222281,\n",
       "        -1.03580797, -1.11700085]),\n",
       " array([-0.83319068, -0.24454217,  2.00582057, -1.96724687, -0.48562244,\n",
       "        -1.03109007, -1.12258314]),\n",
       " array([-0.82645144, -0.25184066,  1.99903872, -1.96400614, -0.48541987,\n",
       "        -1.04711364, -1.13062996]),\n",
       " array([-0.9394767 , -0.28378012,  1.99304392, -1.96690752, -0.49617926,\n",
       "        -1.16806938, -1.07261213]),\n",
       " array([-0.87645484, -0.41982401,  1.84235703, -1.9261149 , -0.63414693,\n",
       "        -1.03747537, -1.18942099]),\n",
       " array([-0.89437722, -0.41347216,  1.85479668, -1.92451535, -0.6325492 ,\n",
       "        -1.03445911, -1.18384623]),\n",
       " array([-0.90045531, -0.41561895,  1.85616977, -1.9311433 , -0.63659109,\n",
       "        -1.03425601, -1.18175884]),\n",
       " array([-0.89820953, -0.41770931,  1.85555509, -1.93212356, -0.63993311,\n",
       "        -1.03147128, -1.18112746]),\n",
       " array([-0.8988495 , -0.42056224,  1.83187728, -1.96477483, -0.65248928,\n",
       "        -1.007813  , -1.19922404]),\n",
       " array([-0.9179421 , -0.42727091,  1.84055646, -1.96093948, -0.66153731,\n",
       "        -1.03835331, -1.19440283]),\n",
       " array([-0.89137804, -0.4488087 ,  1.88023601, -1.96163439, -0.62082263,\n",
       "        -1.00987393, -1.20910312]),\n",
       " array([-0.88025142, -0.47703051,  1.82278961, -1.96108365, -0.55960013,\n",
       "        -0.8872751 , -1.24388331]),\n",
       " array([-0.79007451, -0.50765571,  1.93215349, -1.938295  , -0.54149342,\n",
       "        -0.93229603, -1.33747137]),\n",
       " array([-0.76218591, -0.50505635,  1.83877512, -1.94291629, -0.5626118 ,\n",
       "        -0.91805427, -1.29645876]),\n",
       " array([-0.76874633, -0.5060945 ,  1.84671636, -1.94496083, -0.56107876,\n",
       "        -0.92083845, -1.3006162 ]),\n",
       " array([-0.76766766, -0.48912741,  1.83356651, -1.94593169, -0.5613352 ,\n",
       "        -0.9024417 , -1.29751235]),\n",
       " array([-0.74917824, -0.71466672,  1.9054495 , -1.98072458, -0.63241716,\n",
       "        -0.86961428, -1.23655455]),\n",
       " array([-0.74130273, -0.70309696,  1.89041425, -2.00967514, -0.61404358,\n",
       "        -0.84691566, -1.2869621 ]),\n",
       " array([-0.80917717, -0.66484585,  1.83411499, -2.03766676, -0.58818881,\n",
       "        -0.87889669, -1.26779491]),\n",
       " array([-0.833808  , -0.71100018,  1.81115204, -1.99091534, -0.58564532,\n",
       "        -0.84467296, -1.29339467]),\n",
       " array([-0.85844798, -0.70685175,  1.79209866, -2.02224944, -0.53203152,\n",
       "        -0.83929917, -1.31809562]),\n",
       " array([-0.69910003, -0.6799036 ,  1.74379892, -2.0734148 , -0.36967187,\n",
       "        -0.82541634, -1.28380399]),\n",
       " array([-0.70528464, -0.68296695,  1.74554299, -2.07607193, -0.36667829,\n",
       "        -0.82765432, -1.28433689]),\n",
       " array([-0.82597037, -0.65971444,  1.7767586 , -2.09279749, -0.45549022,\n",
       "        -0.84773285, -1.27672853]),\n",
       " array([-0.86049786, -0.55616924,  1.77517606, -2.05818358, -0.40684702,\n",
       "        -0.90102607, -1.19395625]),\n",
       " array([-0.69476643, -0.51561399,  1.64284963, -1.893456  , -0.4063809 ,\n",
       "        -1.06297045, -0.7041472 ]),\n",
       " array([-0.52830783, -0.82235634,  1.63740666, -2.01202978, -0.27272904,\n",
       "        -1.00637175, -0.61541353]),\n",
       " array([-0.57293892, -0.79587288,  1.59938745, -1.89659188, -0.2575725 ,\n",
       "        -1.04489918, -0.6406946 ]),\n",
       " array([-0.56881344, -0.79969579,  1.60224395, -1.90073519, -0.25394408,\n",
       "        -1.04757546, -0.64240154]),\n",
       " array([-0.65878474, -0.75101096,  1.57636337, -1.8607132 , -0.37620509,\n",
       "        -1.01462088, -0.75839129]),\n",
       " array([-0.65338384, -0.77012938,  1.53500804, -1.86990881, -0.40148009,\n",
       "        -1.00151553, -0.7697332 ]),\n",
       " array([-0.86310899, -0.97881856,  1.6987037 , -2.08970535, -0.48755257,\n",
       "        -1.09841436, -0.76473125]),\n",
       " array([-0.60692076, -1.0650142 ,  1.52802213, -1.88108305, -0.54318159,\n",
       "        -0.87535209, -0.85880468]),\n",
       " array([-0.5241947 , -1.08752541,  1.51145012, -1.99765832, -0.49086163,\n",
       "        -0.85481279, -0.74084282]),\n",
       " array([-0.49564651, -1.06549615,  1.48788234, -1.96644901, -0.50471027,\n",
       "        -0.90653218, -0.73805392]),\n",
       " array([-0.57322024, -1.03436912,  1.50924758, -1.97539078, -0.45668464,\n",
       "        -0.84212357, -0.75741809]),\n",
       " array([-0.58104531, -1.03099567,  1.50493121, -1.97583512, -0.43103759,\n",
       "        -0.85556316, -0.71870618]),\n",
       " array([-0.57364006, -1.01374393,  1.51782733, -1.95951323, -0.40354404,\n",
       "        -0.86406416, -0.73446005]),\n",
       " array([-0.59282536, -1.1418881 ,  1.48764333, -1.96951594, -0.4414817 ,\n",
       "        -0.75482949, -0.69213147]),\n",
       " array([-0.5923647 , -1.14201394,  1.48814886, -1.96947859, -0.44047501,\n",
       "        -0.75494393, -0.69316207]),\n",
       " array([-0.52107851, -1.27505806,  1.48669139, -1.98816287, -0.49717257,\n",
       "        -0.86848987, -0.9531485 ]),\n",
       " array([-0.37175866, -1.16780406,  1.45540987, -1.94160906, -0.28399544,\n",
       "        -0.9003256 , -0.76185007]),\n",
       " array([-0.44330883, -1.18743325,  1.35467951, -1.95853066, -0.3072622 ,\n",
       "        -0.91817863, -0.89963574]),\n",
       " array([-0.43920907, -1.19944331,  1.35824768, -1.95113146, -0.28746943,\n",
       "        -0.94151395, -0.8905398 ]),\n",
       " array([-0.44212117, -1.2341177 ,  1.4112133 , -2.05654674, -0.24799394,\n",
       "        -1.02623862, -0.87621627]),\n",
       " array([-0.4331805 , -1.21209964,  1.43732014, -2.08334362, -0.24338137,\n",
       "        -0.9967648 , -0.90874545]),\n",
       " array([-0.41654741, -1.19766588,  1.45794483, -2.07105529, -0.23494939,\n",
       "        -0.98742333, -0.90827475]),\n",
       " array([-0.39585151, -1.18891775,  1.46850959, -2.07443677, -0.30331008,\n",
       "        -1.03987437, -0.91709727]),\n",
       " array([-0.40372008, -1.11083168,  1.45071218, -2.03891889, -0.20137346,\n",
       "        -1.03269939, -0.90338953]),\n",
       " array([-0.39271606, -0.92405646,  1.55126686, -2.06115374, -0.26061578,\n",
       "        -0.91015245, -0.81879894]),\n",
       " array([-0.47792029, -0.9724996 ,  1.6035511 , -2.06865919, -0.30072613,\n",
       "        -0.95682663, -0.74536892]),\n",
       " array([-0.80230845, -0.89943014,  1.61862052, -2.02568295, -0.13872069,\n",
       "        -0.9150412 , -0.8404463 ]),\n",
       " array([-0.83338567, -0.84713461,  1.57230554, -2.02759053, -0.06809762,\n",
       "        -0.82822808, -0.86725608]),\n",
       " array([-0.82751115, -0.85609071,  1.55894787, -2.00376725, -0.06803163,\n",
       "        -0.82532023, -0.86560322]),\n",
       " array([-0.76850166, -0.8321343 ,  1.57845583, -1.94152865,  0.04421628,\n",
       "        -0.8498131 , -0.91763716]),\n",
       " array([-0.77587827, -0.91178676,  1.57570829, -1.97681442,  0.01749648,\n",
       "        -0.84779404, -0.86455622]),\n",
       " array([-0.68253639, -0.99095432,  1.4617639 , -1.98426357, -0.03744071,\n",
       "        -0.88307461, -0.88737244]),\n",
       " array([-0.58577676, -1.08112688,  1.49309674, -2.03456692, -0.05324928,\n",
       "        -0.75393396, -0.84582481]),\n",
       " array([-0.58640947, -1.14874021,  1.51973717, -2.04441613, -0.04845115,\n",
       "        -0.75696151, -0.83605424]),\n",
       " array([-0.60456254, -1.19947117,  1.48159106, -2.0124757 , -0.02180622,\n",
       "        -0.78709726, -0.81802819]),\n",
       " array([-0.60824012, -1.18576563,  1.4638667 , -2.03388916, -0.0058789 ,\n",
       "        -0.79673931, -0.81261852]),\n",
       " array([-0.52184364, -0.84832096,  1.58301722, -1.91003546,  0.08521313,\n",
       "        -0.80761743, -0.71321908]),\n",
       " array([-0.51142742, -0.85632652,  1.60421817, -1.92863197,  0.08229216,\n",
       "        -0.81426669, -0.70405806]),\n",
       " array([-0.40747568, -0.99076397,  1.6753153 , -1.93106739,  0.15948231,\n",
       "        -0.7542677 , -0.7696757 ]),\n",
       " array([-0.43959137, -0.89159389,  1.61221627, -1.98075477,  0.14757543,\n",
       "        -0.76705241, -0.77544342]),\n",
       " array([-0.67434037, -0.9996939 ,  1.67138516, -2.00466492,  0.09104359,\n",
       "        -1.00821605, -0.65607106]),\n",
       " array([-0.67081266, -0.99274647,  1.66984695, -1.99836115,  0.08964968,\n",
       "        -1.00466791, -0.66014626]),\n",
       " array([-0.6626443 , -0.95813588,  1.6532475 , -2.01788464,  0.12177562,\n",
       "        -1.02643437, -0.62983093]),\n",
       " array([-0.66137279, -0.82434601,  1.61533566, -1.90492681,  0.15212757,\n",
       "        -0.93644318, -0.70413675]),\n",
       " array([-0.68722185, -0.8184581 ,  1.60375587, -1.881042  ,  0.15323279,\n",
       "        -0.92769014, -0.70399617]),\n",
       " array([-0.69169283, -0.80753364,  1.63818196, -1.9061242 ,  0.14350765,\n",
       "        -0.95384586, -0.66505964]),\n",
       " array([-0.68249106, -0.75296959,  1.65797751, -1.9380676 ,  0.11766461,\n",
       "        -0.96113303, -0.65515432]),\n",
       " array([-0.68332063, -0.75854962,  1.78512803, -2.04584797,  0.14904512,\n",
       "        -0.95676635, -0.57535627]),\n",
       " array([-0.66382243, -1.03894722,  1.78560232, -1.89634702,  0.32452195,\n",
       "        -0.6797903 , -0.42008481]),\n",
       " array([-0.70467879, -1.00415925,  1.77504635, -1.87180158,  0.33765209,\n",
       "        -0.67794604, -0.51038282]),\n",
       " array([-0.71597973, -0.99977064,  1.78338732, -1.89188666,  0.36799475,\n",
       "        -0.68320638, -0.46856682]),\n",
       " array([-0.45604135, -0.86615805,  1.80177568, -1.99864008,  0.39004058,\n",
       "        -0.25675438,  0.26093958]),\n",
       " array([-0.45447458, -0.86527499,  1.80150437, -1.99710409,  0.38882088,\n",
       "        -0.25724927,  0.25853341]),\n",
       " array([-0.45739287, -0.87617167,  1.80156865, -2.03350985,  0.43764607,\n",
       "        -0.20696306,  0.26079256]),\n",
       " array([-0.43444972, -0.87864054,  1.85106752, -2.09203837,  0.5147596 ,\n",
       "        -0.25822063,  0.29093216]),\n",
       " array([-0.56125401, -0.9184009 ,  1.85780105, -1.89250096,  0.30398407,\n",
       "        -0.22040241,  0.2300072 ]),\n",
       " array([-0.49527159, -0.93735293,  1.8597708 , -1.89940709,  0.30615685,\n",
       "        -0.23183196,  0.226714  ]),\n",
       " array([-0.47245374, -0.93624042,  1.87937427, -1.8926649 ,  0.29999867,\n",
       "        -0.24646505,  0.23389539]),\n",
       " array([-0.46999763, -0.92234117,  1.87842884, -1.89571949,  0.3222101 ,\n",
       "        -0.23578894,  0.22699571]),\n",
       " array([-0.41904446, -0.88502668,  1.88306543, -1.91584543,  0.32185352,\n",
       "        -0.28869449,  0.26158753]),\n",
       " array([-0.46166271, -0.88410337,  1.84027062, -1.90953173,  0.34332416,\n",
       "        -0.28950328,  0.25892777]),\n",
       " array([-0.43006911, -0.77178819,  1.89628058, -1.89093276,  0.34841102,\n",
       "        -0.37778205,  0.28545222]),\n",
       " array([-0.56663261, -0.71390446,  1.82066032, -1.96980798,  0.28166433,\n",
       "        -0.437334  ,  0.24947616]),\n",
       " array([-0.70765572, -0.74398465,  1.76847619, -1.88689158,  0.41142838,\n",
       "        -0.48359332,  0.28425585]),\n",
       " array([-0.723147  , -0.76103321,  1.76128532, -1.84612278,  0.42744032,\n",
       "        -0.53492641,  0.26506308]),\n",
       " array([-0.69594559, -0.73795118,  1.76174645, -1.85898084,  0.44596576,\n",
       "        -0.52320908,  0.28267074]),\n",
       " array([-0.73670061, -1.04529628,  1.60759424, -2.05207318,  0.40623422,\n",
       "        -0.96830076,  0.51031332]),\n",
       " array([-0.88721808, -1.11886698,  1.4089531 , -1.91622358,  0.57596709,\n",
       "        -1.02252705,  0.38930177]),\n",
       " array([-0.8973514 , -1.09599243,  1.39216047, -1.91593841,  0.59758438,\n",
       "        -1.02224505,  0.39542478]),\n",
       " array([-0.89682462, -1.08766691,  1.39049022, -1.91179448,  0.59956022,\n",
       "        -1.01876819,  0.39339384]),\n",
       " array([-0.91613153, -1.06916573,  1.39982489, -1.90966627,  0.61332705,\n",
       "        -1.05575366,  0.37109598]),\n",
       " array([-0.91381978, -1.06479857,  1.40188463, -1.9176336 ,  0.61284009,\n",
       "        -1.03960768,  0.36935567]),\n",
       " array([-0.91219107, -1.06684414,  1.39954066, -1.91785529,  0.60982258,\n",
       "        -1.03829593,  0.37074089]),\n",
       " array([-0.87948964, -1.08221007,  1.42784831, -1.90767537,  0.64976016,\n",
       "        -0.98753534,  0.39564246]),\n",
       " array([-0.70386942, -1.17384201,  1.5060103 , -1.95991928,  0.54340338,\n",
       "        -1.08398384,  0.23957648]),\n",
       " array([-0.73890869, -1.14900351,  1.77747924, -1.90744835,  0.50221038,\n",
       "        -1.02466664,  0.09925385]),\n",
       " array([-0.74065368, -1.14509437,  1.77675905, -1.90457836,  0.50434057,\n",
       "        -1.02704635,  0.09950666]),\n",
       " array([-0.7374119 , -1.14077801,  1.78091342, -1.90721506,  0.49922971,\n",
       "        -1.03963806,  0.09654189]),\n",
       " array([-0.7119568 , -1.19090024,  1.73131561, -2.04503281,  0.59180301,\n",
       "        -0.8846919 ,  0.12705427]),\n",
       " array([-0.75890004, -1.19993692,  1.62111198, -2.04705229,  0.56174388,\n",
       "        -0.85961725,  0.05304098]),\n",
       " array([-7.06542436e-01, -1.22365302e+00,  1.57264327e+00, -2.01133679e+00,\n",
       "         5.68105142e-01, -8.97883036e-01, -1.11620463e-03]),\n",
       " array([-0.74004389, -1.03070335,  1.52108954, -2.02037964,  0.64435006,\n",
       "        -0.8182272 ,  0.11334338]),\n",
       " array([-0.8235953 , -1.03921714,  1.4410837 , -1.92793207,  0.5108701 ,\n",
       "        -0.85039194,  0.05481716]),\n",
       " array([-0.81682528, -1.03512262,  1.4157897 , -1.93017174,  0.50710883,\n",
       "        -0.90497231,  0.03447732]),\n",
       " array([-8.00908653e-01, -1.09468119e+00,  1.52903002e+00, -1.96654929e+00,\n",
       "         4.88436065e-01, -9.31882813e-01, -7.25167236e-04]),\n",
       " array([-0.60286018, -1.13234161,  1.60779148, -2.09048263,  0.53838288,\n",
       "        -0.80393848, -0.00702995]),\n",
       " array([-0.59822874, -1.16086303,  1.57500709, -2.08385011,  0.523823  ,\n",
       "        -0.79666787, -0.06157372]),\n",
       " array([-0.60878612, -1.1732712 ,  1.56987858, -2.07887032,  0.56561038,\n",
       "        -0.72070432, -0.04163188]),\n",
       " array([-0.59236869, -1.20387037,  1.6431726 , -2.09311589,  0.5568391 ,\n",
       "        -0.82215201,  0.01972384]),\n",
       " array([-0.62869411, -1.01241333,  1.62407956, -2.04888702,  0.58775801,\n",
       "        -0.96455023,  0.0480534 ]),\n",
       " array([-0.6514512 , -1.00269137,  1.63464034, -2.00805513,  0.59767075,\n",
       "        -0.95920989,  0.06730532]),\n",
       " array([-0.60332774, -0.92074587,  1.67158881, -2.04072488,  0.60672167,\n",
       "        -0.80356405,  0.00568748]),\n",
       " array([-0.59663234, -0.87662524,  1.68180675, -2.05047655,  0.60072281,\n",
       "        -0.8308438 , -0.03461427]),\n",
       " array([-0.55017047, -0.86837338,  1.73715823, -1.95755281,  0.6821976 ,\n",
       "        -0.84859554, -0.01762206]),\n",
       " array([-0.54629354, -0.88038516,  1.71866396, -1.98573986,  0.69165386,\n",
       "        -0.85403081,  0.00342474]),\n",
       " array([-5.46955562e-01, -8.82123920e-01,  1.71947579e+00, -1.98898277e+00,\n",
       "         6.78268498e-01, -8.56011934e-01, -5.87275339e-04]),\n",
       " array([-0.54208571, -0.89451709,  1.75189693, -2.07547347,  0.7119408 ,\n",
       "        -0.85642777,  0.08038522]),\n",
       " array([-0.86361818, -0.68266326,  1.76578709, -2.04929868,  0.65082075,\n",
       "        -0.74167596,  0.03299051]),\n",
       " array([-0.81075194, -0.76631045,  1.83370072, -2.02918338,  0.67158184,\n",
       "        -0.70061774,  0.02688924]),\n",
       " array([-0.81338621, -0.77428544,  1.81940058, -1.99970222,  0.6594561 ,\n",
       "        -0.68731474,  0.02790861]),\n",
       " array([-0.80188823, -0.70671851,  1.85880489, -1.94368049,  0.73507695,\n",
       "        -0.82024249,  0.07026209]),\n",
       " array([-0.71479111, -0.60704617,  1.89567872, -1.88868822,  0.67249032,\n",
       "        -0.82422427,  0.12371683]),\n",
       " array([-0.71469064, -0.6000306 ,  1.89503144, -1.8671348 ,  0.6613989 ,\n",
       "        -0.82653787,  0.11419474]),\n",
       " array([-0.73893884, -0.56593033,  1.88233517, -1.91713289,  0.68821129,\n",
       "        -0.84521189,  0.13088082]),\n",
       " array([-0.78207838, -0.68738958,  1.95352387, -1.93104139,  0.67965087,\n",
       "        -0.82947459,  0.11855988]),\n",
       " array([-0.77819863, -0.64263464,  1.89240761, -1.94081249,  0.66365569,\n",
       "        -0.84231282,  0.09914614]),\n",
       " array([-0.61027586, -0.51715354,  1.93621241, -2.06840391,  0.53033594,\n",
       "        -0.89000031, -0.13605062]),\n",
       " array([-0.59163639, -0.50283036,  1.92117285, -2.0473047 ,  0.55038375,\n",
       "        -0.89821118, -0.13308643]),\n",
       " array([-0.72126977, -0.45238808,  2.08531277, -2.07346847,  0.50444668,\n",
       "        -0.92834668, -0.18633029]),\n",
       " array([-0.71859143, -0.41431049,  2.0491225 , -2.077623  ,  0.57789015,\n",
       "        -0.86204744, -0.24601605]),\n",
       " array([-0.69347862, -0.44546757,  2.04923673, -2.06710962,  0.50996314,\n",
       "        -0.91229703, -0.15511892]),\n",
       " array([-0.68373621, -0.4821759 ,  2.04282117, -2.06203602,  0.52520276,\n",
       "        -0.93687251, -0.17033429]),\n",
       " array([-0.69800697, -0.49755188,  2.04254419, -2.09363376,  0.48117595,\n",
       "        -0.90991301, -0.14542383]),\n",
       " array([-0.67734393, -0.49647996,  2.04092398, -2.09013659,  0.47121853,\n",
       "        -0.92105624, -0.13603612]),\n",
       " array([-0.69572561, -0.4713243 ,  2.05544845, -2.04313013,  0.45990839,\n",
       "        -0.94953975, -0.13764543]),\n",
       " array([-0.70212198, -0.44910341,  1.9965296 , -2.04266571,  0.4571768 ,\n",
       "        -0.90386195, -0.13901963]),\n",
       " array([-0.70729636, -0.4091803 ,  1.98987457, -2.01599825,  0.4287542 ,\n",
       "        -0.88060116, -0.10430157]),\n",
       " array([-0.7420724 , -0.36141967,  1.9748939 , -1.89557671,  0.3661581 ,\n",
       "        -0.74224234,  0.0560108 ]),\n",
       " array([-7.53009730e-01, -3.72224269e-01,  1.88832730e+00, -2.04751687e+00,\n",
       "         2.55317168e-01, -6.60560348e-01, -3.29045411e-04]),\n",
       " array([-0.7720388 , -0.40580794,  2.23526353, -2.08346166,  0.17560876,\n",
       "        -0.80413193,  0.01165631]),\n",
       " array([-0.77963343, -0.40516609,  2.24364006, -2.04979397,  0.19594516,\n",
       "        -0.82173774,  0.03393147]),\n",
       " array([-0.80667103, -0.42118192,  2.26045485, -2.07348254,  0.18593233,\n",
       "        -0.8241315 ,  0.00736815]),\n",
       " array([-0.82317492, -0.41736717,  2.28008675, -2.06929727,  0.17942175,\n",
       "        -0.80170027,  0.01167716]),\n",
       " array([-0.80249083, -0.38063108,  2.27973223, -2.04748767,  0.16577287,\n",
       "        -0.80719559,  0.0125606 ]),\n",
       " array([-0.85728138, -0.63555207,  2.0911691 , -2.08991849,  0.20013413,\n",
       "        -0.78056372, -0.01634664]),\n",
       " array([-0.85428812, -0.63456615,  2.09187641, -2.08860673,  0.20130544,\n",
       "        -0.78101195, -0.01614602]),\n",
       " array([-0.90676848, -0.6492925 ,  1.97590316, -1.91646024,  0.11407368,\n",
       "        -0.75983399, -0.14292625]),\n",
       " array([-0.62634578, -0.83072536,  1.94521716, -2.01468584,  0.43617045,\n",
       "        -0.79263068, -0.19495876]),\n",
       " array([-0.55095287, -0.87074229,  1.95122384, -1.93754671,  0.4818123 ,\n",
       "        -0.76067915, -0.15606943]),\n",
       " array([-0.65281044, -0.87383318,  1.64210212, -2.09037927,  0.45261698,\n",
       "        -0.826277  , -0.08613979]),\n",
       " array([-0.66549652, -0.85550138,  1.57974424, -2.0853043 ,  0.45910162,\n",
       "        -0.85418936, -0.09338352]),\n",
       " array([-0.65914599, -0.78672356,  1.55011942, -2.04651468,  0.46128756,\n",
       "        -0.85608985, -0.12563594]),\n",
       " array([-0.64781996, -0.7980256 ,  1.54497147, -2.07533003,  0.5151317 ,\n",
       "        -0.83195384, -0.16439043]),\n",
       " array([-0.56270024, -0.68800558,  1.76797659, -2.04518769,  0.32497623,\n",
       "        -0.77666825, -0.08610797]),\n",
       " array([-0.65418112, -0.72901108,  1.83839169, -2.04189485,  0.34076711,\n",
       "        -0.74593514, -0.08974777]),\n",
       " array([-0.59168197, -0.84270742,  1.91023736, -2.02892751,  0.36478261,\n",
       "        -1.05181495, -0.12187718]),\n",
       " array([-0.59002092, -0.84308835,  1.91379798, -2.03065122,  0.36467658,\n",
       "        -1.05055797, -0.12312296]),\n",
       " array([-0.68669078, -0.8365993 ,  1.88207674, -2.08365488,  0.42750356,\n",
       "        -1.09139637, -0.07653936]),\n",
       " array([-0.80346514, -0.80547704,  1.86009166, -1.98377884,  0.46623237,\n",
       "        -0.95800788, -0.12643355]),\n",
       " array([-0.78927912, -0.84896224,  1.93201788, -1.89708692,  0.56982959,\n",
       "        -0.97332248, -0.08367139]),\n",
       " array([-0.83370415, -0.78465825,  1.79341637, -1.97310295,  0.41818165,\n",
       "        -0.90036301,  0.13878777]),\n",
       " array([-0.71138999, -0.67603793,  1.7018538 , -1.97495845,  0.3748912 ,\n",
       "        -0.87929466,  0.21199838]),\n",
       " array([-0.74336656, -0.65387073,  1.75552011, -1.92389931,  0.37330519,\n",
       "        -0.87754775,  0.23409215]),\n",
       " array([-0.76120497, -0.66751115,  1.78942942, -1.96099354,  0.39037888,\n",
       "        -0.88747048,  0.25057487]),\n",
       " array([-0.74754056, -0.6550077 ,  1.75907873, -1.90030659,  0.49056053,\n",
       "        -0.94839549,  0.18750974]),\n",
       " array([-0.74637514, -0.65760382,  1.76018024, -1.89870715,  0.49140369,\n",
       "        -0.94863362,  0.18776547]),\n",
       " array([-0.72693585, -0.61983184,  1.83159981, -1.87253238,  0.39388262,\n",
       "        -0.93300336,  0.22304568]),\n",
       " array([-0.73518266, -0.60461731,  1.80606943, -1.85581297,  0.37857286,\n",
       "        -0.91731718,  0.14003466]),\n",
       " array([-0.73440703, -0.61923532,  1.83244776, -1.83854252,  0.37773804,\n",
       "        -0.91115014,  0.13083817]),\n",
       " array([-0.66128076, -0.77002015,  1.81458517, -1.92270428,  0.52984133,\n",
       "        -0.79527139,  0.16158415]),\n",
       " array([-0.6959145 , -0.77651414,  1.64179691, -1.88125808,  0.44819984,\n",
       "        -0.67344081,  0.04548514]),\n",
       " array([-0.70497877, -0.77421256,  1.6538512 , -1.86279915,  0.44143939,\n",
       "        -0.68073177,  0.04433805]),\n",
       " array([-0.6888473 , -0.77119338,  1.6427123 , -1.87223814,  0.41882736,\n",
       "        -0.69454998,  0.05197289]),\n",
       " array([-6.79183048e-01, -5.49400435e-01,  1.80493883e+00, -2.08381194e+00,\n",
       "         1.00847558e-03, -7.04014259e-01,  2.78507990e-01]),\n",
       " array([-0.68393126, -0.5528116 ,  1.80636911, -2.08947068, -0.00773123,\n",
       "        -0.71151504,  0.27289335]),\n",
       " array([-0.69513518, -0.72456283,  1.80739539, -1.98589792, -0.06079596,\n",
       "        -0.70621323,  0.32642178]),\n",
       " array([-0.70127017, -0.70575785,  1.80896945, -2.00769285, -0.06256891,\n",
       "        -0.69759831,  0.32643349]),\n",
       " array([-0.72220548, -0.7038602 ,  1.79868956, -2.00706768, -0.05837797,\n",
       "        -0.69070431,  0.32552333]),\n",
       " array([-0.71907681, -0.69321664,  1.79379966, -2.007027  , -0.04435402,\n",
       "        -0.69367603,  0.33543832]),\n",
       " array([-0.57632314, -0.63058129,  1.87866969, -2.0933049 ,  0.1325096 ,\n",
       "        -0.65710843,  0.24054694]),\n",
       " array([-0.58475743, -0.62114632,  1.85789719, -2.09237509,  0.13725416,\n",
       "        -0.66679466,  0.2444271 ]),\n",
       " array([-0.49467139, -0.64510877,  1.84379323, -2.08868898,  0.07288276,\n",
       "        -0.56463736,  0.18592536]),\n",
       " array([-0.44451203, -0.64810791,  1.81118663, -2.081885  ,  0.05965952,\n",
       "        -0.63105368,  0.15867233]),\n",
       " array([-0.43632744, -0.66537698,  1.81496465, -2.09136537,  0.05576424,\n",
       "        -0.63548115,  0.1534061 ]),\n",
       " array([-0.41238386, -0.66146264,  1.79043101, -2.0850743 ,  0.01961339,\n",
       "        -0.60010025,  0.15699962]),\n",
       " array([-0.41229523, -0.6634827 ,  1.78749234, -2.08304254,  0.01964751,\n",
       "        -0.59941682,  0.15875494]),\n",
       " array([-0.39038087, -0.66725823,  1.81843085, -2.06726319,  0.0130505 ,\n",
       "        -0.57235745,  0.12527716]),\n",
       " array([-0.39312887, -0.66582136,  1.81732504, -2.06713245,  0.01350156,\n",
       "        -0.57434217,  0.12366868]),\n",
       " array([-0.44930035, -0.642351  ,  1.85072308, -2.01201284,  0.05447108,\n",
       "        -0.66622183, -0.06810942]),\n",
       " array([-0.51298103, -0.63531304,  1.91805615, -1.96165895,  0.03193808,\n",
       "        -0.68818197, -0.1480486 ]),\n",
       " array([-0.52182143, -0.68717764,  1.80643909, -1.94884637, -0.02343108,\n",
       "        -0.68934643, -0.09924509]),\n",
       " array([-0.51373756, -0.72028791,  1.72349228, -2.09384826,  0.08528135,\n",
       "        -0.74314754,  0.0875784 ]),\n",
       " array([-0.4268892 , -0.71320125,  1.67865955, -2.08925228,  0.15408477,\n",
       "        -0.80053206,  0.07871341]),\n",
       " array([-0.43930186, -0.73482998,  1.58147296, -1.98794666,  0.28248826,\n",
       "        -0.86668843,  0.16586944]),\n",
       " array([-0.55577432, -0.73687636,  1.57486054, -2.03851061,  0.22253455,\n",
       "        -0.98553291,  0.23027303]),\n",
       " array([-0.93208622, -0.70280237,  1.68452929, -1.85253272,  0.21024374,\n",
       "        -0.75164368,  0.15896465]),\n",
       " array([-0.62678742, -1.02424968,  1.58053748, -1.86302846, -0.08964955,\n",
       "        -1.01790694,  0.16752995]),\n",
       " array([-0.52813471, -0.90428222,  1.49936838, -1.80304022, -0.12852782,\n",
       "        -0.95811386,  0.13275406]),\n",
       " array([-0.62152878, -1.01508714,  1.42670234, -1.79506386, -0.30237301,\n",
       "        -0.97921368,  0.1371145 ]),\n",
       " array([-0.62412392, -0.94393647,  1.54140195, -1.96108796, -0.25730021,\n",
       "        -1.02870389,  0.11243283]),\n",
       " array([-0.58012082, -0.9401941 ,  1.60357681, -1.96370238, -0.26433259,\n",
       "        -1.06464466, -0.01287876]),\n",
       " array([-0.47671804, -0.94066913,  1.6320974 , -2.03665346, -0.43952534,\n",
       "        -1.03230358,  0.16737605]),\n",
       " array([-0.56684291, -1.06959123,  1.78553957, -2.08293971, -0.09492643,\n",
       "        -1.01042052,  0.22646121]),\n",
       " array([-0.64585053, -1.13563203,  1.78113774, -1.96729977, -0.14663297,\n",
       "        -1.00605747,  0.07039441]),\n",
       " array([-0.64771026, -1.14469349,  1.77901786, -1.96012501, -0.15683447,\n",
       "        -1.00074866,  0.07218324]),\n",
       " array([-0.65571003, -1.0949441 ,  1.80004407, -1.95242494, -0.19425871,\n",
       "        -1.02910299,  0.06410621]),\n",
       " array([-0.72240274, -1.1020281 ,  1.82529719, -1.93168035, -0.17953584,\n",
       "        -1.00182906,  0.06527813]),\n",
       " array([-0.5058067 , -0.95920849,  1.73031582, -2.02353595, -0.47646629,\n",
       "        -0.96374817,  0.07275444]),\n",
       " array([-0.77011851, -1.29937295,  1.55454701, -1.85216753, -0.53233723,\n",
       "        -1.01224917,  0.08856296]),\n",
       " array([-0.59222529, -1.24281944,  1.51867996, -2.03650639, -0.64910524,\n",
       "        -1.01435358,  0.08004365]),\n",
       " array([-0.5448913 , -1.2365892 ,  1.546412  , -2.06077149, -0.66153624,\n",
       "        -1.12336256,  0.02882878]),\n",
       " array([-0.54414594, -1.56858771,  1.5110614 , -1.78910846, -0.96535821,\n",
       "        -1.04097304, -0.0900311 ]),\n",
       " array([-0.75842216, -1.31447484,  1.3107877 , -1.98157259, -0.92870105,\n",
       "        -1.36494556, -0.10388837]),\n",
       " array([-0.73017738, -1.33656207,  1.34622764, -2.02351485, -0.92265281,\n",
       "        -1.35126186, -0.20030982]),\n",
       " array([-0.83013853, -1.29527522,  1.29609296, -1.81494662, -0.98192103,\n",
       "        -1.38012219, -0.15954022]),\n",
       " array([-0.81954938, -1.30488278,  1.30459361, -1.82678208, -0.97142208,\n",
       "        -1.39665649, -0.23981958]),\n",
       " array([-0.76761991, -1.30367067,  1.33869446, -1.8326142 , -0.92396371,\n",
       "        -1.44728205, -0.2413123 ]),\n",
       " array([-0.74671931, -1.2881527 ,  1.32236795, -1.81032521, -0.9479971 ,\n",
       "        -1.46141048, -0.19806251]),\n",
       " array([-0.72690214, -1.19933361,  1.23671342, -1.82396449, -0.87851576,\n",
       "        -1.56330972, -0.11809773]),\n",
       " array([-0.72714735, -1.19917721,  1.23658696, -1.82428001, -0.87880411,\n",
       "        -1.56285937, -0.11836171]),\n",
       " array([-0.73020647, -1.20471464,  1.23211798, -1.82838489, -0.87690532,\n",
       "        -1.57079734, -0.12412024]),\n",
       " array([-0.89305949, -1.13979007,  1.24859741, -1.84209266, -0.97157325,\n",
       "        -1.48948248, -0.12041871]),\n",
       " array([-0.84168529, -1.17602846,  1.31476891, -1.93716298, -1.00464813,\n",
       "        -1.49943947, -0.1860156 ]),\n",
       " array([-0.82950466, -1.13916909,  1.31791951, -1.92697303, -1.07047091,\n",
       "        -1.44345287, -0.145925  ]),\n",
       " array([-0.72710911, -1.13039893,  1.32151769, -1.87487678, -1.11080207,\n",
       "        -1.53721173, -0.0855203 ]),\n",
       " array([-0.71650143, -1.11435109,  1.36490316, -1.88888307, -1.13527411,\n",
       "        -1.53074772, -0.09116407]),\n",
       " array([-0.73622666, -1.10152789,  1.37732269, -1.91370233, -1.11811478,\n",
       "        -1.5299742 , -0.08284637]),\n",
       " array([-0.55329414, -1.00687021,  1.42782407, -1.8111955 , -1.05473169,\n",
       "        -1.07371529, -0.15453044]),\n",
       " array([-0.67939515, -1.14748192,  1.5782274 , -1.91452582, -1.04920734,\n",
       "        -1.12551104, -0.22802111]),\n",
       " array([-0.6623565 , -1.11881493,  1.60691451, -1.87511136, -1.03951426,\n",
       "        -1.11262299, -0.23240143]),\n",
       " array([-0.53484286, -1.03567456,  1.64406486, -2.0045029 , -0.94862455,\n",
       "        -1.1173548 , -0.35980421]),\n",
       " array([-0.81751258, -1.03237986,  1.77981783, -2.09279198, -0.87693183,\n",
       "        -0.9623275 , -0.60434245]),\n",
       " array([-0.73081829, -1.02071563,  1.79581349, -2.08213984, -0.88574611,\n",
       "        -1.01088818, -0.63306231]),\n",
       " array([-0.67706242, -0.93311537,  1.78757889, -1.87595183, -0.98117563,\n",
       "        -1.19573611, -0.49791367]),\n",
       " array([-0.74416912, -1.07495601,  1.54168141, -1.84887186, -1.19472026,\n",
       "        -1.13983132, -0.39809732]),\n",
       " array([-0.76928559, -1.04505056,  1.50597487, -1.81607806, -1.19852642,\n",
       "        -1.13994322, -0.37026644]),\n",
       " array([-0.72663013, -1.03585123,  1.46953956, -1.86779941, -1.18947099,\n",
       "        -1.19238765, -0.33721186]),\n",
       " array([-0.74415869, -0.92238083,  1.51119926, -1.83130544, -1.20297479,\n",
       "        -1.10687913, -0.33813236]),\n",
       " array([-0.73114507, -0.91870771,  1.49279858, -1.87983132, -1.17454409,\n",
       "        -1.17081807, -0.2756207 ]),\n",
       " array([-0.71576876, -0.91391093,  1.49374394, -1.87903775, -1.16709141,\n",
       "        -1.18023026, -0.27579765]),\n",
       " array([-0.72305912, -0.9052957 ,  1.47890377, -1.86177253, -1.15796092,\n",
       "        -1.17408845, -0.27596542]),\n",
       " array([-0.73327425, -0.89399846,  1.46276494, -1.86408755, -1.1545367 ,\n",
       "        -1.1601088 , -0.27677657]),\n",
       " array([-0.74872489, -0.89681627,  1.45508633, -1.81761769, -1.15163653,\n",
       "        -1.16726624, -0.26678205]),\n",
       " array([-0.74766471, -0.89549085,  1.45256874, -1.81689743, -1.15100817,\n",
       "        -1.16656269, -0.26673012]),\n",
       " array([-0.75592718, -0.88702268,  1.46134174, -1.80964542, -1.15204194,\n",
       "        -1.16309763, -0.26497158]),\n",
       " array([-0.74165913, -0.89878875,  1.4464289 , -1.82675238, -1.14588177,\n",
       "        -1.18031218, -0.28578083]),\n",
       " array([-0.67287824, -0.83665806,  1.46103065, -1.81671901, -1.10501458,\n",
       "        -1.15844391, -0.32425716]),\n",
       " array([-0.66429161, -0.8566084 ,  1.46452519, -1.80249262, -1.09254256,\n",
       "        -1.15266635, -0.32809037]),\n",
       " array([-0.62477562, -0.91983073,  1.58422135, -1.87547651, -1.10712243,\n",
       "        -1.27455197, -0.19627762]),\n",
       " array([-0.64411225, -0.91377388,  1.60169733, -1.85956685, -1.11276851,\n",
       "        -1.27954202, -0.18218881]),\n",
       " array([-0.65379327, -0.90049778,  1.62650553, -1.85619972, -1.1208332 ,\n",
       "        -1.27469757, -0.1988621 ]),\n",
       " array([-0.61170797, -0.89188208,  1.59172425, -1.92844014, -1.10737298,\n",
       "        -1.19808172, -0.22579698]),\n",
       " array([-0.64140381, -0.84519341,  1.5486833 , -1.85944847, -0.95060187,\n",
       "        -1.28350692, -0.15668904]),\n",
       " array([-0.637323  , -0.84712825,  1.55907821, -1.85529168, -0.95395267,\n",
       "        -1.2778022 , -0.14682902]),\n",
       " array([-0.68972982, -0.7479083 ,  1.450682  , -1.85700954, -0.92414679,\n",
       "        -1.27651645, -0.14026304]),\n",
       " array([-0.60627664, -0.8190756 ,  1.52150802, -1.81452755, -0.97433238,\n",
       "        -1.33090426, -0.05487751]),\n",
       " array([-0.54271627, -0.83789218,  1.4706261 , -1.85758279, -1.06535094,\n",
       "        -1.26770639, -0.10144755]),\n",
       " array([-0.71480709, -0.79828693,  1.61560909, -1.88398105, -0.88399037,\n",
       "        -1.25878033, -0.13559717]),\n",
       " array([-0.70598714, -0.80536176,  1.62698058, -1.89150307, -0.90702652,\n",
       "        -1.24746851, -0.12789812]),\n",
       " array([-0.70310571, -0.82889752,  1.58432174, -1.85706935, -0.93863155,\n",
       "        -1.33603567, -0.05942049]),\n",
       " array([-0.81664178, -0.90656261,  1.62047711, -1.94942708, -1.17100893,\n",
       "        -1.05309112, -0.22974168]),\n",
       " array([-0.75960369, -0.95842017,  1.7025672 , -1.9814857 , -1.09558627,\n",
       "        -1.00542502, -0.26405803]),\n",
       " array([-0.76453267, -0.94290299,  1.72215208, -1.98243577, -1.10767144,\n",
       "        -0.9960597 , -0.2687807 ]),\n",
       " array([-0.7769746 , -1.01879856,  1.59979831, -1.79334248, -1.21294599,\n",
       "        -0.86357481, -0.28822107]),\n",
       " array([-0.83764584, -1.04856661,  1.62627375, -1.83474958, -1.14890314,\n",
       "        -0.89212939, -0.29202961]),\n",
       " array([-0.82970368, -1.05473223,  1.62739175, -1.80925403, -1.13263283,\n",
       "        -0.89196462, -0.29245675]),\n",
       " array([-0.8192786 , -1.07858166,  1.60734974, -1.84497348, -1.11189481,\n",
       "        -0.87980596, -0.28388377]),\n",
       " array([-0.74600927, -0.99213284,  1.64124718, -1.87079423, -1.27886082,\n",
       "        -0.82499085, -0.34264916]),\n",
       " array([-0.765875  , -1.07934676,  1.65746604, -1.89955208, -1.2807835 ,\n",
       "        -0.88048749, -0.43100924]),\n",
       " array([-0.80861365, -1.0651507 ,  1.85618533, -1.82681269, -1.33819927,\n",
       "        -0.82713213, -0.45045831]),\n",
       " array([-0.57362635, -1.05919791,  1.62655639, -1.88959901, -1.39309479,\n",
       "        -0.70564251, -0.33555122]),\n",
       " array([-0.56227604, -1.06959813,  1.63496112, -1.87928275, -1.39353584,\n",
       "        -0.7115701 , -0.3205909 ]),\n",
       " array([-0.51505397, -1.08841309,  1.60064851, -1.88875436, -1.36467891,\n",
       "        -0.72320089, -0.32169611]),\n",
       " array([-0.3683353 , -1.0930621 ,  1.63204823, -1.95151123, -1.4225699 ,\n",
       "        -0.80474894, -0.19274726]),\n",
       " array([-0.37691794, -1.09765858,  1.65301402, -1.96238858, -1.3893954 ,\n",
       "        -0.86127146, -0.18220137]),\n",
       " array([-0.44162091, -1.15702152,  1.70372534, -1.90280927, -1.40201628,\n",
       "        -0.79355449, -0.23948132]),\n",
       " array([-0.43397404, -1.15122799,  1.69340736, -1.91397832, -1.39545344,\n",
       "        -0.77677554, -0.24143197]),\n",
       " array([-0.45484856, -1.11808228,  1.6950673 , -1.98712517, -1.35110948,\n",
       "        -0.77454362, -0.29138377]),\n",
       " array([-0.41594597, -1.11308608,  1.63555168, -1.84367998, -1.34804475,\n",
       "        -0.72953185, -0.3540104 ]),\n",
       " array([-0.44739649, -1.11611887,  1.7039191 , -1.80216127, -1.29324176,\n",
       "        -0.73464236, -0.31886305]),\n",
       " array([-0.55560046, -0.99233791,  1.84358591, -1.7406665 , -1.54212655,\n",
       "        -0.53267427, -0.28308386]),\n",
       " array([-0.51988178, -1.0634149 ,  1.97582239, -1.76178136, -1.44028185,\n",
       "        -0.61032058, -0.35695844]),\n",
       " array([-0.55357659, -1.06632616,  1.96171424, -1.73970496, -1.41913529,\n",
       "        -0.63466528, -0.3298126 ]),\n",
       " array([-0.55682057, -1.06411742,  1.95933393, -1.73880844, -1.41824215,\n",
       "        -0.63276101, -0.32767811]),\n",
       " array([-0.62099296, -1.06094796,  1.91461622, -1.8075233 , -1.46785234,\n",
       "        -0.60579754, -0.23981437]),\n",
       " array([-0.5618744 , -1.20072155,  1.88038033, -1.86676993, -1.42943281,\n",
       "        -0.63483615, -0.25859253]),\n",
       " array([-0.54895332, -1.22968514,  1.75068482, -1.95327991, -1.36720922,\n",
       "        -0.56880358, -0.16466329]),\n",
       " array([-0.55198391, -1.2278985 ,  1.62976391, -1.84999101, -1.29813755,\n",
       "        -0.46882353, -0.15131418]),\n",
       " array([-0.42834822, -1.24377927,  1.598579  , -1.86449792, -1.32743174,\n",
       "        -0.69480021, -0.19186414]),\n",
       " array([-0.46287225, -1.23970088,  1.59453008, -1.90382406, -1.33567036,\n",
       "        -0.57337249, -0.14016843]),\n",
       " array([-0.32055537, -1.32431558,  1.48822936, -1.91896351, -1.24983147,\n",
       "        -0.70258653, -0.21469312]),\n",
       " array([-0.33004346, -1.32345472,  1.4829014 , -1.91821307, -1.25332629,\n",
       "        -0.69152829, -0.22233108]),\n",
       " array([-0.29925906, -1.28520142,  1.44789578, -2.01440706, -1.18553463,\n",
       "        -0.87919244, -0.0242213 ]),\n",
       " array([-0.3682486 , -1.17719129,  1.5134582 , -2.00176821, -1.37338614,\n",
       "        -0.93298511,  0.00759776]),\n",
       " array([-0.42165128, -1.2873714 ,  1.40858014, -1.99789142, -1.28358698,\n",
       "        -0.96676193, -0.05658096]),\n",
       " array([-0.39195336, -1.29688725,  1.47288235, -2.02138786, -1.32987068,\n",
       "        -1.00394466, -0.03614802]),\n",
       " array([-0.54878928, -1.46104858,  1.4236158 , -1.9014133 , -1.43940504,\n",
       "        -0.98906098,  0.07930515]),\n",
       " array([-0.44795438, -1.43500083,  1.42048472, -1.98552735, -1.3901007 ,\n",
       "        -1.02735425,  0.0335194 ]),\n",
       " array([-0.46383815, -1.43981085,  1.45715189, -1.9686638 , -1.35858554,\n",
       "        -1.00713171,  0.01444552]),\n",
       " array([-0.45250431, -1.42467384,  1.39903443, -1.98018291, -1.31405097,\n",
       "        -0.94833916, -0.02043119]),\n",
       " array([-0.40755366, -1.41823534,  1.36670826, -1.94754042, -1.38846728,\n",
       "        -0.91538108, -0.11253228]),\n",
       " array([-0.29912939, -1.5033326 ,  1.40798214, -1.90646467, -1.41698902,\n",
       "        -1.01371529, -0.22889588]),\n",
       " array([-0.38349803, -1.43920483,  1.35920581, -1.90843062, -1.42746775,\n",
       "        -0.91640311, -0.16565148]),\n",
       " array([-0.39437976, -1.40929781,  1.37705941, -1.92153035, -1.42995326,\n",
       "        -0.90505197, -0.13711778]),\n",
       " array([-0.47122727, -1.20934422,  1.6017275 , -1.75974747, -1.42014463,\n",
       "        -0.84649478, -0.17610278]),\n",
       " array([-0.46816525, -1.20352524,  1.58116751, -1.77371753, -1.41430657,\n",
       "        -0.86250739, -0.17759105]),\n",
       " array([-0.43049632, -1.23063697,  1.58731868, -1.74981739, -1.41844066,\n",
       "        -0.87454482, -0.11829169]),\n",
       " array([-0.43148332, -1.22658909,  1.57910449, -1.74790896, -1.41825946,\n",
       "        -0.86120427, -0.10535399]),\n",
       " array([-0.26945043, -1.38356994,  1.55908938, -1.87641393, -1.44866507,\n",
       "        -0.7747261 , -0.10255071]),\n",
       " array([-0.24458788, -1.222814  ,  1.62112434, -1.99037717, -1.31439232,\n",
       "        -0.70906514, -0.00446631]),\n",
       " array([-0.20723503, -1.18823488,  1.60308048, -1.97359361, -1.30805577,\n",
       "        -0.68303827,  0.03910505]),\n",
       " array([-0.20862616, -1.20656781,  1.62825879, -1.99351136, -1.3193807 ,\n",
       "        -0.71321883,  0.06141305]),\n",
       " array([-0.20978848, -1.20873014,  1.6262767 , -1.99936408, -1.32156691,\n",
       "        -0.70409708,  0.06409698]),\n",
       " array([-0.20303773, -1.19581152,  1.63605824, -1.98695173, -1.28701376,\n",
       "        -0.71811477,  0.07157702]),\n",
       " array([-0.21022518, -1.19456591,  1.64274864, -1.98579592, -1.28586449,\n",
       "        -0.71844683,  0.07618155]),\n",
       " array([-0.21047252, -1.19464672,  1.64262325, -1.98586329, -1.28574251,\n",
       "        -0.71901127,  0.07578128]),\n",
       " array([-0.21325753, -1.18340224,  1.63961125, -1.98673753, -1.29192834,\n",
       "        -0.71260024,  0.06578113]),\n",
       " array([-0.28446558, -1.54757298,  1.45622504, -2.08898302, -0.91180567,\n",
       "        -0.60310276,  0.03975404]),\n",
       " array([-0.33233799, -1.55131631,  1.48870092, -2.07956165, -0.96488458,\n",
       "        -0.58291434,  0.04891192]),\n",
       " array([-0.34249942, -1.57128693,  1.49190607, -2.09290649, -0.96114978,\n",
       "        -0.58663106,  0.02877307]),\n",
       " array([-0.32707418, -1.58760192,  1.44550816, -2.05972676, -0.99597217,\n",
       "        -0.52894941, -0.04960203]),\n",
       " array([-0.20940396, -1.66040639,  1.43179088, -2.07828128, -0.97738372,\n",
       "        -0.61171027, -0.03823188]),\n",
       " array([-0.20679975, -1.65879246,  1.43281148, -2.07613914, -0.97807148,\n",
       "        -0.61118145, -0.04042886]),\n",
       " array([-0.21549325, -1.67015766,  1.43769874, -2.07236125, -0.98226089,\n",
       "        -0.60768264, -0.04803212]),\n",
       " array([-0.20787536, -1.69323495,  1.41244676, -2.04884528, -0.97630278,\n",
       "        -0.59419694, -0.02653913]),\n",
       " array([-0.37320286, -1.69579544,  1.28689281, -1.91679494, -0.98914962,\n",
       "        -0.65206029,  0.09679323]),\n",
       " array([-0.36991774, -1.69950824,  1.28555966, -1.91316398, -0.99053747,\n",
       "        -0.65331641,  0.09418235]),\n",
       " array([-0.32339489, -1.5964861 ,  1.38665805, -1.82983654, -0.89630408,\n",
       "        -0.57292216,  0.03235937]),\n",
       " array([-0.28468111, -1.63340771,  1.37048462, -1.89188533, -1.02898034,\n",
       "        -0.58362879,  0.01444112]),\n",
       " array([-0.25625722, -1.61865343,  1.38388457, -1.86886966, -1.01574446,\n",
       "        -0.62577694,  0.02739016]),\n",
       " array([-0.26951091, -1.5437524 ,  1.38241468, -1.86212108, -1.09881717,\n",
       "        -0.63225353,  0.06306804]),\n",
       " array([-0.3548459 , -1.57871624,  1.32824888, -1.93747776, -1.07170153,\n",
       "        -0.71283684,  0.06636313]),\n",
       " array([-0.33444472, -1.53630733,  1.40081209, -2.04968433, -1.06513403,\n",
       "        -0.7246716 ,  0.09876762]),\n",
       " array([-0.54942573, -1.62439052,  1.53536821, -2.0002754 , -0.86626815,\n",
       "        -0.71340079,  0.08034811]),\n",
       " array([-0.5648551 , -1.60428348,  1.53314026, -1.99664035, -0.90034206,\n",
       "        -0.71526828,  0.05795471]),\n",
       " array([-0.56588338, -1.60324312,  1.53270724, -1.9965292 , -0.89930978,\n",
       "        -0.71505864,  0.05923929]),\n",
       " array([-0.55892175, -1.62136833,  1.54424391, -1.98000475, -0.91579558,\n",
       "        -0.69892826,  0.09462026]),\n",
       " array([-0.54125834, -1.52155872,  1.48360296, -2.00111364, -0.86397344,\n",
       "        -0.65003073,  0.01893308]),\n",
       " array([-0.52401645, -1.50948887,  1.47939405, -2.01117279, -0.8708093 ,\n",
       "        -0.63697461,  0.02716677]),\n",
       " array([-0.62472931, -1.30827067,  1.66343138, -1.78266226, -0.94008657,\n",
       "        -0.9308688 , -0.04037982]),\n",
       " array([-0.59915826, -1.1674631 ,  1.80241737, -1.79732793, -1.05464935,\n",
       "        -0.9823029 ,  0.034423  ]),\n",
       " array([-0.57617838, -1.04708508,  1.85003949, -1.82745759, -1.12137009,\n",
       "        -0.90712852, -0.00720573]),\n",
       " array([-0.55013717, -0.96036234,  1.81878169, -1.84188019, -1.07645311,\n",
       "        -0.93786783,  0.05514024]),\n",
       " array([-0.55631372, -1.00539424,  1.51297365, -1.9372625 , -1.05712489,\n",
       "        -0.97778283, -0.25806583]),\n",
       " array([-0.55944968, -1.00747936,  1.51288212, -1.94045489, -1.05598749,\n",
       "        -0.98267457, -0.26335934]),\n",
       " array([-0.87919312, -1.06328422,  1.8728688 , -1.8973762 , -1.01011361,\n",
       "        -0.92363546, -0.2176384 ]),\n",
       " array([-0.87103538, -1.04326613,  1.89745868, -1.99491647, -1.08974028,\n",
       "        -0.94618985, -0.18609809]),\n",
       " array([-0.77519607, -1.1768254 ,  1.83604262, -1.95256009, -1.18632302,\n",
       "        -0.61928724, -0.20703994]),\n",
       " array([-0.77525446, -1.1766563 ,  1.8359517 , -1.95279309, -1.18604549,\n",
       "        -0.61925816, -0.20695084]),\n",
       " array([-0.53084127, -0.96767665,  1.92407545, -1.91091452, -1.14183627,\n",
       "        -0.64327442, -0.34117396]),\n",
       " array([-0.50827367, -0.93054643,  1.86948835, -1.93235536, -1.13249702,\n",
       "        -0.62594076, -0.2944344 ]),\n",
       " array([-0.53107544, -0.99114502,  1.86206912, -1.95024003, -1.1602097 ,\n",
       "        -0.62221479, -0.24609266]),\n",
       " array([-0.51612086, -0.96825078,  1.99370479, -1.8647687 , -1.19760954,\n",
       "        -0.58765411, -0.16167416]),\n",
       " array([-0.52168396, -0.97481228,  2.0199175 , -1.8830521 , -1.21108092,\n",
       "        -0.63305682, -0.16323441]),\n",
       " array([-0.54036835, -0.96732056,  2.00286783, -1.89672252, -1.18678984,\n",
       "        -0.58617013, -0.17989079]),\n",
       " array([-0.58157718, -0.87118467,  2.00630038, -1.86370486, -1.10938467,\n",
       "        -0.62800512, -0.21596423]),\n",
       " array([-0.59249199, -0.87507501,  1.99048389, -1.8516642 , -1.10185683,\n",
       "        -0.62836209, -0.21518328]),\n",
       " array([-0.58497638, -0.870307  ,  2.07498248, -1.89871534, -1.11174388,\n",
       "        -0.58887525, -0.27175236]),\n",
       " array([-0.59020393, -0.86231799,  2.08000095, -1.8873176 , -1.10721441,\n",
       "        -0.59500288, -0.27815307]),\n",
       " array([-0.61839114, -0.86720639,  2.06880202, -1.90416684, -1.10302516,\n",
       "        -0.59140037, -0.236036  ]),\n",
       " array([-0.94884815, -0.04845974,  1.95404666, -1.89363518, -0.45169364,\n",
       "        -1.22882129, -0.04752316]),\n",
       " array([-0.95115504, -0.0454252 ,  1.95182796, -1.89799829, -0.45536546,\n",
       "        -1.23680795, -0.04543429])]"
      ]
     },
     "execution_count": 28,
     "metadata": {},
     "output_type": "execute_result"
    }
   ],
   "source": [
    "s_reg[0]"
   ]
  },
  {
   "cell_type": "code",
   "execution_count": null,
   "metadata": {},
   "outputs": [
    {
     "data": {
      "text/plain": [
       "['__call__',\n",
       " '__class__',\n",
       " '__delattr__',\n",
       " '__dir__',\n",
       " '__doc__',\n",
       " '__eq__',\n",
       " '__format__',\n",
       " '__ge__',\n",
       " '__getattribute__',\n",
       " '__gt__',\n",
       " '__hash__',\n",
       " '__init__',\n",
       " '__init_subclass__',\n",
       " '__le__',\n",
       " '__lt__',\n",
       " '__module__',\n",
       " '__ne__',\n",
       " '__new__',\n",
       " '__reduce__',\n",
       " '__reduce_ex__',\n",
       " '__repr__',\n",
       " '__setattr__',\n",
       " '__sizeof__',\n",
       " '__str__',\n",
       " '__subclasshook__']"
      ]
     },
     "execution_count": 30,
     "metadata": {},
     "output_type": "execute_result"
    }
   ],
   "source": [
    "dir(gen)"
   ]
  },
  {
   "cell_type": "code",
   "execution_count": null,
   "metadata": {},
   "outputs": [
    {
     "data": {
      "text/plain": [
       "array([ 2.95209153,  2.08949437, -2.93700525,  0.59018067,  2.72195701,\n",
       "       -1.60210231, -0.58959434])"
      ]
     },
     "execution_count": 34,
     "metadata": {},
     "output_type": "execute_result"
    }
   ],
   "source": [
    "from pydrake.all import RandomGenerator\n",
    "gen = RandomGenerator(7)\n",
    "s = r.UniformSample(gen)\n",
    "r.UniformSample(gen,s)"
   ]
  },
  {
   "cell_type": "code",
   "execution_count": null,
   "metadata": {},
   "outputs": [
    {
     "data": {
      "text/plain": [
       "True"
      ]
     },
     "execution_count": 31,
     "metadata": {},
     "output_type": "execute_result"
    }
   ],
   "source": [
    "checker.CheckConfigCollisionFree(qa)"
   ]
  },
  {
   "cell_type": "code",
   "execution_count": null,
   "metadata": {},
   "outputs": [],
   "source": []
  },
  {
   "cell_type": "code",
   "execution_count": null,
   "metadata": {},
   "outputs": [
    {
     "name": "stderr",
     "output_type": "stream",
     "text": [
      "100%|██████████| 1000/1000 [00:10<00:00, 96.85it/s]\n"
     ]
    }
   ],
   "source": [
    "if f\"7dof_bin2_cliques_red_{Npts}.pkl\" in os.listdir('tmp'):\n",
    "    with open(f\"tmp/7dof_bin2_cliques_red_{Npts}.pkl\", 'rb') as f:\n",
    "        d = pickle.load(f)\n",
    "        cliques_red = d['cliques']\n",
    "        ad_mat_reduced = d['ad_mat_red'] \n",
    "else:\n",
    "    from tqdm import tqdm\n",
    "    distance_thresh = 2.0\n",
    "    ad_mat_reduced = ad_mat.copy()\n",
    "\n",
    "    for i in tqdm(range(ad_mat.shape[0])):\n",
    "        for j in range(i+1, ad_mat.shape[0]):\n",
    "            if ad_mat_reduced[i,j] ==1:\n",
    "                if np.linalg.norm(q[i,:] - q[j,:])>=distance_thresh:\n",
    "                    ad_mat_reduced[i,j] = ad_mat_reduced[j,i] = 0 \n",
    "    cliques_red = compute_greedy_clique_partition(ad_mat_reduced.toarray(), min_cliuqe_size=14)\n",
    "    with open(f\"tmp/7dof_bin2_cliques_red_{Npts}.pkl\", 'wb') as f:\n",
    "        pickle.dump({'cliques': cliques_red, 'ad_mat_red': ad_mat_reduced}, f)\n"
   ]
  },
  {
   "cell_type": "code",
   "execution_count": null,
   "metadata": {},
   "outputs": [],
   "source": [
    "from visibility_utils import generate_distinct_colors\n",
    "cols = generate_distinct_colors(len(cliques), rgb = True)\n",
    "cols = [list(c)+[1] for c in cols]\n",
    "\n",
    "for id, c in enumerate(cliques_red):\n",
    "    plot_points(meshcat, t[c], f\"cr{id}\", size = 0.01, color=Rgba(*cols[id]))"
   ]
  },
  {
   "cell_type": "code",
   "execution_count": null,
   "metadata": {},
   "outputs": [
    {
     "data": {
      "text/plain": [
       "[array([ 76,  90,  91, 195, 199, 209, 275, 280, 333, 335, 431, 486, 577,\n",
       "        625, 647, 675, 744, 906]),\n",
       " array([  8, 189, 318, 377, 555, 580, 692, 711, 740, 748, 755, 880, 942,\n",
       "        975]),\n",
       " array([162, 398, 471, 533, 669, 686, 742, 780, 857, 901, 997])]"
      ]
     },
     "execution_count": 25,
     "metadata": {},
     "output_type": "execute_result"
    }
   ],
   "source": []
  },
  {
   "cell_type": "code",
   "execution_count": null,
   "metadata": {},
   "outputs": [
    {
     "name": "stdout",
     "output_type": "stream",
     "text": [
      "norm 0.9356054101449567\n",
      "norm 1.1918248892594712\n",
      "norm 1.2021089529979632\n",
      "norm 1.0697816987668702\n",
      "norm 0.48456625471174075\n",
      "norm 1.129892400037575\n",
      "norm 0.7048114981712048\n",
      "norm 1.242946868788913\n",
      "norm 1.0047014465577075\n",
      "norm 1.3143652581542677\n",
      "norm 1.5634611591232723\n"
     ]
    }
   ],
   "source": [
    "clique_idx = 0\n",
    "for clique_idx in range(len(cliques_red)):\n",
    "    for idx in range(len(cliques_red)):\n",
    "        meshcat.SetProperty(f\"/drake/cr{idx}\", \"visible\", False)\n",
    "    meshcat.SetProperty(f\"/drake/cr{clique_idx}\", \"visible\", True)\n",
    "        \n",
    "    cliques_vis = cliques_red[clique_idx]\n",
    "    start = q[cliques_vis[0]]\n",
    "    target = q[cliques_vis[np.random.randint(len(cliques_vis))]]\n",
    "    for i in range(1):\n",
    "        wpd = densify_waypoints([start, target], 50)\n",
    "        print(f\"norm {np.linalg.norm(start-target)}\")\n",
    "        plot_endeff_traj(wpd, 'p', cols[clique_idx])\n",
    "        for qa in wpd:\n",
    "            showres(qa)\n",
    "            #diagram_context.SetTime(cur_time)\n",
    "            # if col_func_handle(qa):\n",
    "            #     print('col')\n",
    "            # cur_time+=frame_time\n",
    "            time.sleep(0.01)\n",
    "        meshcat.Delete('/iris/points/traj')\n",
    "        start = target\n",
    "        target = q[cliques_vis[np.random.randint(len(cliques_vis))]]"
   ]
  },
  {
   "cell_type": "code",
   "execution_count": null,
   "metadata": {},
   "outputs": [
    {
     "data": {
      "image/png": "[encoded data removed]",
      "text/plain": [
       "<Figure size 432x288 with 1 Axes>"
      ]
     },
     "metadata": {
      "needs_background": "light"
     },
     "output_type": "display_data"
    }
   ],
   "source": [
    "\n",
    "from sklearn.cluster import KMeans\n",
    "from sklearn.metrics import silhouette_score\n",
    "import matplotlib.pyplot as plt\n",
    "sil = []\n",
    "kmsol = []\n",
    "clus_vals = np.arange(5,20)\n",
    "for k in clus_vals:\n",
    "    #print(k)\n",
    "    km = KMeans(n_clusters=k).fit(q)\n",
    "    kmsol.append(km)\n",
    "    labels = km.labels_\n",
    "    sil.append(silhouette_score(q, labels, metric='euclidean'))\n",
    "\n",
    "fig = plt.figure()\n",
    "plt.plot(clus_vals,sil)\n",
    "\n",
    "best_clustering = kmsol[np.argmax(sil)]\n",
    "num_clusters = clus_vals[np.argmax(sil)]\n",
    "q_clus = [q[np.where(best_clustering.labels_ == l )[0], :] for l in clus_vals]\n",
    "t_clus = [t[np.where(best_clustering.labels_ == l )[0], :] for l in clus_vals]\n",
    "idx_clus = [np.where(best_clustering.labels_ == l )[0] for l in clus_vals]\n"
   ]
  },
  {
   "cell_type": "code",
   "execution_count": null,
   "metadata": {},
   "outputs": [],
   "source": [
    "vgraph_clus = [vgraph_handle(qc) for qc in q_clus]\n",
    "cliques_clusters = []\n",
    "for ad in vgraph_clus:\n",
    "    cliques = compute_greedy_clique_partition(ad.toarray(), min_cliuqe_size=14)\n",
    "    cliques_clusters.append(cliques)"
   ]
  },
  {
   "cell_type": "code",
   "execution_count": null,
   "metadata": {},
   "outputs": [],
   "source": [
    "cliques_clusters_glob = []\n",
    "for clus_idx, cliques in enumerate(cliques_clusters):\n",
    "    #print(clus_idx)\n",
    "    #print(len(idx_clus[clus_idx]))\n",
    "    #print(np.max(cliques))\n",
    "    for c in cliques:\n",
    "        #print(c)\n",
    "        if len(c):\n",
    "            cliques_clusters_glob.append(idx_clus[clus_idx][c])"
   ]
  },
  {
   "cell_type": "code",
   "execution_count": null,
   "metadata": {},
   "outputs": [],
   "source": [
    "from visibility_utils import generate_distinct_colors\n",
    "cols = generate_distinct_colors(len(cliques_clusters_glob), rgb = True)\n",
    "cols = [list(c)+[1] for c in cols]\n",
    "\n",
    "for id, c in enumerate(cliques_clusters_glob):\n",
    "    plot_points(meshcat, t[c], f\"ccl{id}\", size = 0.01, color=Rgba(*cols[id]))"
   ]
  },
  {
   "cell_type": "code",
   "execution_count": null,
   "metadata": {},
   "outputs": [
    {
     "name": "stdout",
     "output_type": "stream",
     "text": [
      "norm 4.817238489175589\n",
      "norm 3.6253770527295943\n",
      "norm 0.0\n",
      "norm 0.7658711592865077\n",
      "norm 0.0\n",
      "norm 2.0388676672145136\n",
      "norm 0.8067569797744668\n",
      "norm 0.8067569797744668\n",
      "norm 0.0\n",
      "norm 1.6636091669606334\n",
      "norm 0.0\n",
      "norm 3.7598479734820853\n",
      "norm 3.7598479734820853\n",
      "norm 3.1704185496772688\n",
      "norm 1.5037973287567017\n",
      "norm 0.7644271880135645\n",
      "norm 1.5138848620181602\n",
      "norm 3.0929472306164634\n",
      "norm 2.940162834732387\n",
      "norm 0.0\n",
      "norm 1.2264672365778782\n",
      "norm 0.7412926559489568\n",
      "norm 0.7412926559489568\n",
      "norm 0.7844694303097612\n",
      "norm 0.8445736009816552\n",
      "norm 1.2952335604516512\n",
      "norm 1.9106358302744815\n",
      "norm 1.8561726309363284\n",
      "norm 0.33085273888209354\n",
      "norm 1.947846370929725\n",
      "norm 0.0\n",
      "norm 1.7340752643973552\n",
      "norm 1.68880224200026\n",
      "norm 1.68880224200026\n",
      "norm 1.7679942038598615\n",
      "norm 1.2646739595721\n",
      "norm 1.1154869719327538\n",
      "norm 1.3382441074155897\n",
      "norm 2.006469794809785\n",
      "norm 2.096408510738067\n",
      "norm 0.5415085411453224\n",
      "norm 0.5415085411453224\n",
      "norm 0.6871941013909834\n",
      "norm 0.0\n",
      "norm 0.2100127656273558\n",
      "norm 0.7505064502623411\n",
      "norm 0.4054030432285827\n",
      "norm 0.17556654987061174\n",
      "norm 0.1572405721821174\n",
      "norm 1.2413782843988848\n",
      "norm 2.03655216195402\n",
      "norm 0.1708503916909767\n",
      "norm 1.4200640788770065\n",
      "norm 0.625437135615328\n",
      "norm 1.0770281113641738\n",
      "norm 0.0\n",
      "norm 1.4032729206355532\n",
      "norm 1.3519121571374038\n",
      "norm 0.0\n",
      "norm 2.233596616977742\n",
      "norm 1.2899968645050526\n",
      "norm 1.2899968645050526\n",
      "norm 0.0\n",
      "norm 0.0\n",
      "norm 0.6691215210958705\n",
      "norm 0.5846508185577333\n",
      "norm 0.5436525371262801\n",
      "norm 0.0\n",
      "norm 1.0946174324661375\n",
      "norm 1.5944479269953364\n",
      "norm 0.1604939261567911\n",
      "norm 1.4189662393993223\n",
      "norm 1.5889363529948755\n",
      "norm 0.46367741028203036\n",
      "norm 0.8931281695172257\n",
      "norm 0.8931281695172257\n",
      "norm 0.5622272027092908\n",
      "norm 1.236651751766124\n",
      "norm 1.7558973129798083\n",
      "norm 0.5346054704811384\n",
      "norm 1.336756678806776\n",
      "norm 0.6146364785982321\n",
      "norm 2.686881666847986\n",
      "norm 2.9970312231838565\n",
      "norm 3.2350705883545796\n",
      "norm 0.7003873829694227\n",
      "norm 3.061950713913072\n",
      "norm 3.6206183102174676\n",
      "norm 3.614917929627871\n",
      "norm 3.6868567856149115\n",
      "norm 1.6295156538765627\n",
      "norm 2.9740730807424978\n",
      "norm 3.44073966685201\n",
      "norm 3.3664777682293408\n",
      "norm 1.8281291114539022\n",
      "norm 0.0\n",
      "norm 2.327937648962688\n",
      "norm 2.662463894319413\n",
      "norm 0.0\n",
      "norm 3.162257606810443\n",
      "norm 3.363791444952326\n",
      "norm 1.5774276749890723\n",
      "norm 0.0\n",
      "norm 1.719547969702239\n",
      "norm 3.2776689769594936\n",
      "norm 0.6531090609070439\n",
      "norm 3.363791444952326\n",
      "norm 0.0\n",
      "norm 1.5774276749890723\n",
      "norm 1.719547969702239\n",
      "norm 2.024752608563216\n",
      "norm 2.024752608563216\n",
      "norm 1.3527844653901313\n",
      "norm 2.715604312645523\n",
      "norm 0.44003438562591507\n",
      "norm 0.44003438562591507\n",
      "norm 2.715604312645523\n",
      "norm 2.715604312645523\n",
      "norm 0.0\n",
      "norm 1.366440755930962\n",
      "norm 1.4719551693752089\n",
      "norm 1.4719551693752089\n",
      "norm 0.8217252574183393\n",
      "norm 0.0\n",
      "norm 1.4757800463049724\n",
      "norm 1.972642504138448\n",
      "norm 0.0\n",
      "norm 1.952482700000079\n",
      "norm 4.064178829806269\n",
      "norm 0.0\n",
      "norm 1.8288772727461449\n",
      "norm 0.962635127419372\n",
      "norm 0.962635127419372\n",
      "norm 1.297256756187477\n",
      "norm 0.6047867278857971\n",
      "norm 0.6047867278857971\n",
      "norm 1.1951462977369145\n",
      "norm 0.3845622436444125\n",
      "norm 0.3845622436444125\n",
      "norm 0.9400090726342901\n",
      "norm 1.3042832492159755\n",
      "norm 0.9692168028964641\n",
      "norm 2.6518699616745693\n",
      "norm 2.596148124666695\n",
      "norm 0.7141444577022261\n",
      "norm 0.5807990575043511\n",
      "norm 2.300611941356041\n",
      "norm 2.300611941356041\n",
      "norm 0.5724331315529613\n",
      "norm 2.170676944563517\n",
      "norm 4.331595954417259\n",
      "norm 4.331595954417259\n",
      "norm 0.0\n",
      "norm 4.378006647355147\n",
      "norm 0.7913515917428702\n",
      "norm 0.7759039797669686\n",
      "norm 4.714394642377922\n",
      "norm 4.992744060186115\n",
      "norm 4.729601597546819\n",
      "norm 4.564129116260318\n",
      "norm 2.1765894908899583\n",
      "norm 2.1802672954151836\n",
      "norm 0.9756296582017877\n",
      "norm 1.2649441799377874\n",
      "norm 0.4682481277064162\n",
      "norm 0.5240240368823929\n",
      "norm 1.3721160860831876\n",
      "norm 1.485584812877069\n",
      "norm 1.690036119204878\n",
      "norm 1.3030480291283713\n",
      "norm 2.7647735772879014\n",
      "norm 0.0\n",
      "norm 2.825608146546913\n",
      "norm 2.659862219881258\n",
      "norm 0.0\n",
      "norm 2.7088532151145945\n",
      "norm 0.5524930375525613\n",
      "norm 0.6898402146685391\n",
      "norm 2.8955559864140548\n",
      "norm 0.4991619374771593\n"
     ]
    }
   ],
   "source": [
    "clique_idx = 0\n",
    "for clique_idx in range(len(cliques_clusters_glob)):\n",
    "    for idx in range(len(cliques_clusters_glob)):\n",
    "        meshcat.SetProperty(f\"/drake/ccl{idx}\", \"visible\", False)\n",
    "    meshcat.SetProperty(f\"/drake/ccl{clique_idx}\", \"visible\", True)\n",
    "        \n",
    "    cliques_vis = cliques_clusters_glob[clique_idx]\n",
    "    start = q[cliques_vis[0]]\n",
    "    target = q[cliques_vis[np.random.randint(len(cliques_vis))]]\n",
    "    for i in range(10):\n",
    "        wpd = densify_waypoints([start, target], 50)\n",
    "        print(f\"norm {np.linalg.norm(start-target)}\")\n",
    "        plot_endeff_traj(wpd, 'p', cols[clique_idx])\n",
    "        for qa in wpd:\n",
    "            showres(qa)\n",
    "            #diagram_context.SetTime(cur_time)\n",
    "            # if col_func_handle(qa):\n",
    "            #     print('col')\n",
    "            # cur_time+=frame_time\n",
    "            time.sleep(0.01)\n",
    "        meshcat.Delete('/iris/points/traj')\n",
    "        start = target\n",
    "        target = q[cliques_vis[np.random.randint(len(cliques_vis))]]"
   ]
  },
  {
   "cell_type": "code",
   "execution_count": null,
   "metadata": {},
   "outputs": [],
   "source": [
    "all_clus_cliques = []\n",
    "for c in clique_points_clus:\n",
    "    all_clus_cliques+=c"
   ]
  },
  {
   "cell_type": "code",
   "execution_count": null,
   "metadata": {},
   "outputs": [],
   "source": [
    "from visibility_utils import get_coverage_estimator, get_sample_cfree_handle, get_col_func\n",
    "from clique_covers import get_iris_metrics\n",
    "from region_generation import SNOPT_IRIS_ellipsoid_parallel\n",
    "\n",
    "q_min = plant.GetPositionLowerLimits()*1\n",
    "q_max =  plant.GetPositionUpperLimits()*1\n",
    "col_func_handle_ = get_col_func(plant, plant_context)\n",
    "sample_cfree = get_sample_cfree_handle(q_min,q_max, col_func_handle_)\n",
    "\n",
    "require_sample_point_is_contained = True\n",
    "iteration_limit = 1\n",
    "configuration_space_margin = 2.e-3\n",
    "termination_threshold = -1\n",
    "num_collision_infeasible_samples = 15\n",
    "relative_termination_threshold = 0.02\n",
    "estimate_coverage = get_coverage_estimator(sample_cfree, pts = 3000)\n",
    "\n",
    "snopt_iris_options = IrisOptions()\n",
    "snopt_iris_options.require_sample_point_is_contained = require_sample_point_is_contained\n",
    "snopt_iris_options.iteration_limit = iteration_limit\n",
    "snopt_iris_options.configuration_space_margin = configuration_space_margin\n",
    "#snopt_iris_options.max_faces_per_collision_pair = 60\n",
    "snopt_iris_options.termination_threshold = termination_threshold\n",
    "#snopt_iris_options.q_star = np.zeros(3)\n",
    "snopt_iris_options.num_collision_infeasible_samples = num_collision_infeasible_samples\n",
    "snopt_iris_options.relative_termination_threshold = relative_termination_threshold\n",
    "\n",
    "iris_handle = partial(SNOPT_IRIS_ellipsoid_parallel,\n",
    "                        region_obstacles = [],\n",
    "                        logger = None, \n",
    "                        plant_builder = plant_builder,\n",
    "                        snoptiris_options = snopt_iris_options,\n",
    "                        estimate_coverage = estimate_coverage,\n",
    "                        coverage_threshold = 1)"
   ]
  },
  {
   "cell_type": "code",
   "execution_count": null,
   "metadata": {},
   "outputs": [],
   "source": [
    "if f\"regions_red_{Npts}.pkl\" in os.listdir('tmp'):\n",
    "    with open(f\"tmp/regions_red_{Npts}.pkl\", 'rb') as f:\n",
    "        regions_red = pickle.load(f)\n",
    "else:\n",
    "    seed_points, metrics, _ = get_iris_metrics([q[c] for c in cliques_red], col_func_handle_)\n",
    "    regions_red, succs_sp, is_full = iris_handle(seed_points, metrics, [])\n",
    "    with open(f\"tmp/regions_red_{Npts}.pkl\", 'wb') as f:\n",
    "        pickle.dump(regions_red, f)"
   ]
  },
  {
   "cell_type": "code",
   "execution_count": null,
   "metadata": {},
   "outputs": [],
   "source": [
    "\n",
    "if f\"regions_clus_cl_{Npts}.pkl\" in os.listdir('tmp'):\n",
    "    with open(f\"tmp/regions_clus_cl_{Npts}.pkl\", 'rb') as f:\n",
    "        regions_clus = pickle.load(f)\n",
    "else:\n",
    "    seed_points, metrics, _ = get_iris_metrics(all_clus_cliques, col_func_handle_)\n",
    "    regions_clus, succs_sp, is_full = iris_handle(seed_points, metrics, [])\n",
    "    with open(f\"tmp/regions_clus_cl_{Npts}.pkl\", 'wb') as f:\n",
    "        pickle.dump(regions_clus, f)"
   ]
  },
  {
   "cell_type": "code",
   "execution_count": null,
   "metadata": {},
   "outputs": [],
   "source": [
    "\n",
    "from utils import load_regions_from_experiment_dir\n",
    "\n",
    "regions_c = load_regions_from_experiment_dir(\n",
    "                    'logs/experiment_7dof_iiwa_bins_1_1500_0.300greedy20231018120325')"
   ]
  },
  {
   "cell_type": "code",
   "execution_count": null,
   "metadata": {},
   "outputs": [],
   "source": [
    "regions = regions_c + regions_clus"
   ]
  },
  {
   "cell_type": "code",
   "execution_count": null,
   "metadata": {},
   "outputs": [],
   "source": [
    "from visibility_utils import point_in_regions\n",
    "inreg = []\n",
    "for tpt, pt in zip(t,q):\n",
    "    if point_in_regions(pt, regions):\n",
    "        inreg.append(tpt)\n",
    "\n",
    "plot_points(meshcat, np.array(inreg), 'inregions', size = 0.01, color = Rgba(0,1,0,1))"
   ]
  },
  {
   "cell_type": "code",
   "execution_count": null,
   "metadata": {},
   "outputs": [],
   "source": [
    "plot_points(meshcat, t, 'samples', size=0.005)"
   ]
  },
  {
   "cell_type": "code",
   "execution_count": null,
   "metadata": {},
   "outputs": [
    {
     "data": {
      "text/plain": [
       "Text(0.5, 1.0, 'connectivity')"
      ]
     },
     "execution_count": 27,
     "metadata": {},
     "output_type": "execute_result"
    },
    {
     "data": {
      "image/png": "[encoded data removed]",
      "text/plain": [
       "<Figure size 720x720 with 1 Axes>"
      ]
     },
     "metadata": {},
     "output_type": "display_data"
    }
   ],
   "source": [
    "import networkx as nx\n",
    "import matplotlib.pyplot as plt\n",
    "\n",
    "regs = regions\n",
    "connectivity_graph = nx.Graph()\n",
    "for idx in range(len(regs)):\n",
    "    connectivity_graph.add_node(idx)\n",
    "\n",
    "for idx1 in range(len(regs)):\n",
    "    for idx2 in range(idx1 +1, len(regs)):\n",
    "        r1 = regs[idx1]\n",
    "        r2 = regs[idx2]\n",
    "        if r1.IntersectsWith(r2):\n",
    "            connectivity_graph.add_edge(idx1,idx2)\n",
    "\n",
    "largest_con_comp = list(list(nx.connected_components(connectivity_graph))[0])\n",
    "regions_connected_component = [regs[i] for i in largest_con_comp]\n",
    "\n",
    "fig = plt.figure(figsize=(10,10))\n",
    "hues = generate_distinct_colors(2+1)[1:]\n",
    "colors = []\n",
    "for g, h in zip([regions], hues):\n",
    "    colors += [h]*len(g)\n",
    "\n",
    "nx.draw_spring(connectivity_graph, \n",
    "                with_labels = True, \n",
    "                node_color = colors)\n",
    "plt.title(f\"connectivity\")"
   ]
  },
  {
   "cell_type": "code",
   "execution_count": null,
   "metadata": {},
   "outputs": [],
   "source": [
    "def densify_waypoints(waypoints_q, densify = 200):\n",
    "    dists = []\n",
    "    dense_waypoints = []\n",
    "    for idx in range(len(waypoints_q[:-1])):\n",
    "        a = waypoints_q[idx]\n",
    "        b = waypoints_q[idx+1]\n",
    "        t = np.linspace(1,0, 10)\n",
    "        locs_endeff = []\n",
    "        dists_endeff = []\n",
    "        for tval in t:\n",
    "            a = a*tval + b*(1-tval)\n",
    "            qa = a#Ratfk.ComputeQValue(ta, np.zeros(7))\n",
    "            #showres(qa)\n",
    "            #time.sleep(0.1)            \n",
    "            plant.SetPositions(plant_context, qa)\n",
    "            tf_tot= plant.EvalBodyPoseInWorld(plant_context, plant.get_body(pydrake.multibody.tree.BodyIndex(12)))\n",
    "            tf = tf_tot.translation() + tf_tot.GetAsMatrix4()[:3,:3][:,1] *0.13\n",
    "            locs_endeff.append(tf)\n",
    "        for i in range(len(locs_endeff)-1):\n",
    "            dists_endeff.append(np.linalg.norm(locs_endeff[i]- locs_endeff[i+1]))\n",
    "        d = np.sum(dists_endeff)\n",
    "        #print(d * densify)\n",
    "        t = np.linspace(1,0,int(densify*d))\n",
    "        for tval in t:\n",
    "            dense_waypoints.append(waypoints_q[idx]*tval + waypoints_q[idx+1]*(1-tval))\n",
    "    return dense_waypoints"
   ]
  },
  {
   "cell_type": "code",
   "execution_count": null,
   "metadata": {},
   "outputs": [],
   "source": [
    "def plot_endeff_traj(dense_waypoints, name = '', color= (1,0,0,1)):\n",
    "    color = Rgba(color[0], color[1], color[2], color[3])\n",
    "    start_idx = 0\n",
    "    for i, qa in enumerate(dense_waypoints):\n",
    "        #qa = Ratfk.ComputeQValue(ta, np.zeros(7))\n",
    "        #showres(qa)\n",
    "        #time.sleep(0.1)            \n",
    "        plant.SetPositions(plant_context, qa)\n",
    "        tf_tot= plant.EvalBodyPoseInWorld(plant_context, plant.get_body(pydrake.multibody.tree.BodyIndex(12)))\n",
    "        tf = tf_tot.translation() + tf_tot.GetAsMatrix4()[:3,:3][:,1] *0.13\n",
    "\n",
    "        meshcat.SetObject(f\"/iris/points/traj/{name}/{i+start_idx}\",\n",
    "                               Sphere(0.01),\n",
    "                               color)\n",
    "\n",
    "        meshcat.SetTransform(f\"/iris/points/traj/{name}/{i+start_idx}\",\n",
    "                                   RigidTransform(RotationMatrix(),\n",
    "                                                  tf))"
   ]
  },
  {
   "cell_type": "code",
   "execution_count": null,
   "metadata": {},
   "outputs": [],
   "source": []
  },
  {
   "cell_type": "code",
   "execution_count": null,
   "metadata": {},
   "outputs": [
    {
     "ename": "KeyboardInterrupt",
     "evalue": "",
     "output_type": "error",
     "traceback": [
      "\u001b[0;31m---------------------------------------------------------------------------\u001b[0m",
      "\u001b[0;31mKeyboardInterrupt\u001b[0m                         Traceback (most recent call last)",
      "\u001b[0;32m<ipython-input-57-94ebfc31b074>\u001b[0m in \u001b[0;36m<module>\u001b[0;34m\u001b[0m\n\u001b[1;32m     17\u001b[0m             \u001b[0;31m#     print('col')\u001b[0m\u001b[0;34m\u001b[0m\u001b[0;34m\u001b[0m\u001b[0;34m\u001b[0m\u001b[0m\n\u001b[1;32m     18\u001b[0m             \u001b[0;31m# cur_time+=frame_time\u001b[0m\u001b[0;34m\u001b[0m\u001b[0;34m\u001b[0m\u001b[0;34m\u001b[0m\u001b[0m\n\u001b[0;32m---> 19\u001b[0;31m             \u001b[0mtime\u001b[0m\u001b[0;34m.\u001b[0m\u001b[0msleep\u001b[0m\u001b[0;34m(\u001b[0m\u001b[0;36m0.006\u001b[0m\u001b[0;34m)\u001b[0m\u001b[0;34m\u001b[0m\u001b[0;34m\u001b[0m\u001b[0m\n\u001b[0m\u001b[1;32m     20\u001b[0m         \u001b[0mmeshcat\u001b[0m\u001b[0;34m.\u001b[0m\u001b[0mDelete\u001b[0m\u001b[0;34m(\u001b[0m\u001b[0;34m'/iris/points/traj'\u001b[0m\u001b[0;34m)\u001b[0m\u001b[0;34m\u001b[0m\u001b[0;34m\u001b[0m\u001b[0m\n\u001b[1;32m     21\u001b[0m         \u001b[0mstart\u001b[0m \u001b[0;34m=\u001b[0m \u001b[0mtarget\u001b[0m\u001b[0;34m\u001b[0m\u001b[0;34m\u001b[0m\u001b[0m\n",
      "\u001b[0;31mKeyboardInterrupt\u001b[0m: "
     ]
    }
   ],
   "source": [
    "clique_idx = 0\n",
    "for clique_idx in range(len(cliques)):\n",
    "    for idx in range(len(cliques)):\n",
    "        meshcat.SetProperty(f\"/drake/c{idx}\", \"visible\", False)\n",
    "    meshcat.SetProperty(f\"/drake/c{clique_idx}\", \"visible\", True)\n",
    "        \n",
    "    cliques_vis = cliques[clique_idx]\n",
    "    start = q[cliques_vis[0]]\n",
    "    target = q[cliques_vis[np.random.randint(len(cliques_vis))]]\n",
    "    for i in range(10):\n",
    "        wpd = densify_waypoints([start, target], 50)\n",
    "        plot_endeff_traj(wpd, 'p', cols[clique_idx])\n",
    "        for qa in wpd:\n",
    "            showres(qa)\n",
    "            #diagram_context.SetTime(cur_time)\n",
    "            # if col_func_handle(qa):\n",
    "            #     print('col')\n",
    "            # cur_time+=frame_time\n",
    "            time.sleep(0.006)\n",
    "        meshcat.Delete('/iris/points/traj')\n",
    "        start = target\n",
    "        target = q[cliques_vis[np.random.randint(len(cliques_vis))]]"
   ]
  },
  {
   "cell_type": "code",
   "execution_count": null,
   "metadata": {},
   "outputs": [
    {
     "ename": "IndexError",
     "evalue": "list index out of range",
     "output_type": "error",
     "traceback": [
      "\u001b[0;31m---------------------------------------------------------------------------\u001b[0m",
      "\u001b[0;31mIndexError\u001b[0m                                Traceback (most recent call last)",
      "\u001b[0;32m<ipython-input-58-247f65a31ca1>\u001b[0m in \u001b[0;36m<module>\u001b[0;34m\u001b[0m\n\u001b[0;32m----> 1\u001b[0;31m \u001b[0mreg_of_interest\u001b[0m \u001b[0;34m=\u001b[0m \u001b[0mregions\u001b[0m\u001b[0;34m[\u001b[0m\u001b[0;36m6\u001b[0m\u001b[0;34m]\u001b[0m\u001b[0;34m\u001b[0m\u001b[0;34m\u001b[0m\u001b[0m\n\u001b[0m\u001b[1;32m      2\u001b[0m \u001b[0mq_r\u001b[0m \u001b[0;34m=\u001b[0m \u001b[0mVPolytope\u001b[0m\u001b[0;34m(\u001b[0m\u001b[0mreg_of_interest\u001b[0m\u001b[0;34m)\u001b[0m\u001b[0;34m.\u001b[0m\u001b[0mvertices\u001b[0m\u001b[0;34m(\u001b[0m\u001b[0;34m)\u001b[0m\u001b[0;34m.\u001b[0m\u001b[0mT\u001b[0m\u001b[0;34m\u001b[0m\u001b[0;34m\u001b[0m\u001b[0m\n",
      "\u001b[0;31mIndexError\u001b[0m: list index out of range"
     ]
    }
   ],
   "source": [
    "reg_of_interest = regions[6]\n",
    "q_r = VPolytope(reg_of_interest).vertices().T"
   ]
  },
  {
   "cell_type": "code",
   "execution_count": null,
   "metadata": {},
   "outputs": [
    {
     "data": {
      "text/plain": [
       "<RigidBody name='body' index=12 model_instance=3>"
      ]
     },
     "execution_count": 40,
     "metadata": {},
     "output_type": "execute_result"
    }
   ],
   "source": [
    "plant.GetBodyByName(\"body\")"
   ]
  },
  {
   "cell_type": "code",
   "execution_count": null,
   "metadata": {},
   "outputs": [
    {
     "name": "stdout",
     "output_type": "stream",
     "text": [
      "RGB: (1.0, 0.6470588235294118, 0.0)\n"
     ]
    }
   ],
   "source": [
    "\n",
    "\n",
    "# Example usage\n",
    "hex_color = \"#FFA500\"  # Example hex color code (Orange)\n",
    "red, green, blue = hex_to_rgb(hex_color)\n",
    "print(f\"RGB: ({red}, {green}, {blue})\")"
   ]
  },
  {
   "cell_type": "code",
   "execution_count": null,
   "metadata": {},
   "outputs": [],
   "source": []
  },
  {
   "cell_type": "code",
   "execution_count": null,
   "metadata": {},
   "outputs": [],
   "source": []
  },
  {
   "cell_type": "code",
   "execution_count": null,
   "metadata": {},
   "outputs": [],
   "source": [
    "ik = InverseKinematics(plant, plant_context)"
   ]
  },
  {
   "cell_type": "code",
   "execution_count": null,
   "metadata": {},
   "outputs": [],
   "source": [
    "import pickle"
   ]
  },
  {
   "cell_type": "code",
   "execution_count": null,
   "metadata": {},
   "outputs": [
    {
     "name": "stderr",
     "output_type": "stream",
     "text": [
      "100%|██████████| 300/300 [03:44<00:00,  1.34it/s]\n"
     ]
    }
   ],
   "source": [
    "q, t, _ = sample_handle_ts(300, [])"
   ]
  },
  {
   "cell_type": "code",
   "execution_count": null,
   "metadata": {},
   "outputs": [],
   "source": [
    "plot_points(meshcat, t, 'a', size = 0.01)"
   ]
  },
  {
   "cell_type": "code",
   "execution_count": null,
   "metadata": {},
   "outputs": [],
   "source": [
    "# import time\n",
    "# for pt in q:\n",
    "#     showres(pt)\n",
    "#     time.sleep(0.2)"
   ]
  },
  {
   "cell_type": "markdown",
   "metadata": {},
   "source": []
  },
  {
   "cell_type": "code",
   "execution_count": null,
   "metadata": {},
   "outputs": [],
   "source": [
    "from utils import load_regions_from_experiment_dir\n",
    "\n",
    "regions = load_regions_from_experiment_dir(\n",
    "                    'logs/experiment_7dof_iiwa_bins_taskspace_1_1000_0.600greedy20231019114035')"
   ]
  },
  {
   "cell_type": "code",
   "execution_count": null,
   "metadata": {},
   "outputs": [],
   "source": [
    "with open('test.pkl', 'wb') as f:\n",
    "    pickle.dump(regions, f)"
   ]
  },
  {
   "cell_type": "code",
   "execution_count": null,
   "metadata": {},
   "outputs": [],
   "source": [
    "from visibility_utils import point_in_regions\n",
    "in_regs = []\n",
    "in_regs_t = []\n",
    "out_regs = []\n",
    "out_regs_t = []\n",
    "for tpt, pt in zip(t,q):\n",
    "    if point_in_regions(pt, regions):\n",
    "        in_regs.append(pt)\n",
    "        in_regs_t.append(tpt)\n",
    "    else:\n",
    "        out_regs.append(pt)\n",
    "        out_regs_t.append(tpt)"
   ]
  },
  {
   "cell_type": "code",
   "execution_count": null,
   "metadata": {},
   "outputs": [],
   "source": [
    "plot_points(meshcat, np.array(in_regs_t), 'in_regions', size=0.03, color=Rgba(0,1,0,1))"
   ]
  },
  {
   "cell_type": "code",
   "execution_count": null,
   "metadata": {},
   "outputs": [
    {
     "data": {
      "text/plain": [
       "300"
      ]
     },
     "execution_count": 19,
     "metadata": {},
     "output_type": "execute_result"
    }
   ],
   "source": [
    "len(out_regs)"
   ]
  },
  {
   "cell_type": "code",
   "execution_count": null,
   "metadata": {},
   "outputs": [
    {
     "name": "stdout",
     "output_type": "stream",
     "text": [
      "r\n",
      "r\n",
      "r\n",
      "r\n"
     ]
    }
   ],
   "source": [
    "for r in regions:\n",
    "    qv =VPolytope(r).vertices().T\n",
    "    print('r')\n",
    "    for q in qv[::100]:\n",
    "        showres(q)\n",
    "        time.sleep(0.001)"
   ]
  },
  {
   "cell_type": "code",
   "execution_count": null,
   "metadata": {},
   "outputs": [
    {
     "data": {
      "text/plain": [
       "(160420, 7)"
      ]
     },
     "execution_count": 18,
     "metadata": {},
     "output_type": "execute_result"
    }
   ],
   "source": [
    "qv.shape"
   ]
  },
  {
   "cell_type": "code",
   "execution_count": null,
   "metadata": {},
   "outputs": [],
   "source": [
    "import time\n",
    "for pt in in_regs:\n",
    "    showres(pt)\n",
    "    time.sleep(0.2)"
   ]
  },
  {
   "cell_type": "code",
   "execution_count": null,
   "metadata": {},
   "outputs": [],
   "source": [
    "seed = 1\n",
    "N = 1500\n",
    "eps = 0.3\n",
    "ts_fraction = 0.1\n",
    "max_iterations_clique = 10\n",
    "min_clique_size = 20\n",
    "approach = 1\n",
    "ap_names = ['redu', 'greedy', 'nx', 'cvxh', 'cvxh_ell']\n",
    "extend_cliques = False\n",
    "\n",
    "require_sample_point_is_contained = True\n",
    "iteration_limit = 1\n",
    "configuration_space_margin = 2.e-3\n",
    "termination_threshold = -1\n",
    "num_collision_infeasible_samples = 15\n",
    "relative_termination_threshold = 0.02\n",
    "\n",
    "pts_coverage_estimator = 5000\n",
    "cfg = {'seed': seed,\n",
    "        'N': N,\n",
    "        'eps': eps,\n",
    "        'use_ts': True,\n",
    "        'ts_fraction': ts_fraction,\n",
    "        'max_iterations_clique': max_iterations_clique,\n",
    "        'min_clique_size': min_clique_size,\n",
    "        'approach': approach,\n",
    "        'extend_cliques': extend_cliques,\n",
    "        'require_sample_point_is_contained':require_sample_point_is_contained,\n",
    "        'iteration_limit': iteration_limit,\n",
    "        'configuration_space_margin':configuration_space_margin,\n",
    "        'termination_threshold':termination_threshold,\n",
    "        'num_collision_infeasible_samples':num_collision_infeasible_samples,\n",
    "        'relative_termination_threshold':relative_termination_threshold,\n",
    "        'pts_coverage_estimator':pts_coverage_estimator}"
   ]
  },
  {
   "cell_type": "code",
   "execution_count": null,
   "metadata": {},
   "outputs": [],
   "source": [
    "from visibility_utils import (get_col_func, \n",
    "                              get_sample_cfree_handle,\n",
    "                              get_coverage_estimator,\n",
    "                              vgraph)\n",
    "from region_generation import SNOPT_IRIS_ellipsoid_parallel\n",
    "from pydrake.all import SceneGraphCollisionChecker\n",
    "from visibility_logging import CliqueApproachLogger\n",
    "from visibility_clique_decomposition import VisCliqueInflation"
   ]
  },
  {
   "cell_type": "code",
   "execution_count": null,
   "metadata": {},
   "outputs": [
    {
     "name": "stderr",
     "output_type": "stream",
     "text": [
      "INFO:drake:Allocating contexts to support 20 parallel queries given omp_num_threads 20 omp_max_threads 20 and omp_thread_limit 2147483647 OpenMP enabled in build? true\n"
     ]
    }
   ],
   "source": [
    "q_min = plant.GetPositionLowerLimits()*1\n",
    "q_max =  plant.GetPositionUpperLimits()*1\n",
    "\n",
    "col_func_handle_ = get_col_func(plant, plant_context)\n",
    "sample_cfree = get_sample_cfree_handle(q_min,q_max, col_func_handle_)\n",
    "estimate_coverage = get_coverage_estimator(sample_cfree, pts = pts_coverage_estimator)\n",
    "\n",
    "snopt_iris_options = IrisOptions()\n",
    "snopt_iris_options.require_sample_point_is_contained = require_sample_point_is_contained\n",
    "snopt_iris_options.iteration_limit = iteration_limit\n",
    "snopt_iris_options.configuration_space_margin = configuration_space_margin\n",
    "#snopt_iris_options.max_faces_per_collision_pair = 60\n",
    "snopt_iris_options.termination_threshold = termination_threshold\n",
    "#snopt_iris_options.q_star = np.zeros(3)\n",
    "snopt_iris_options.num_collision_infeasible_samples = num_collision_infeasible_samples\n",
    "snopt_iris_options.relative_termination_threshold = relative_termination_threshold\n",
    "robot_instances = [plant.GetModelInstanceByName(\"iiwa\"), plant.GetModelInstanceByName(\"wsg\")]\n",
    "\n",
    "checker = SceneGraphCollisionChecker(model = diagram.Clone(), \n",
    "                    robot_model_instances = robot_instances,\n",
    "                    distance_function_weights =  [1] * plant.num_positions(),\n",
    "                    #configuration_distance_function = _configuration_distance,\n",
    "                    edge_step_size = 0.125)\n",
    "\n",
    "def sample_handle_joint(N, M, regions, frac_ts_samples = ts_fraction, collision_free=True):\n",
    "    N_ts = int(frac_ts_samples*N)\n",
    "    N_c = N-N_ts\n",
    "    pts_q_ts, pts_t, is_full_ts = sample_handle_ts(N_ts, regions, collision_free=collision_free)\n",
    "    pts_q_c, is_full = sample_cfree(N_c, M, regions)\n",
    "    return np.concatenate((pts_q_ts, pts_q_c), axis=0), is_full\n",
    "\n",
    "vgraph_handle = partial(vgraph, checker = checker, parallelize = True) \n"
   ]
  },
  {
   "cell_type": "code",
   "execution_count": null,
   "metadata": {},
   "outputs": [
    {
     "name": "stdout",
     "output_type": "stream",
     "text": [
      "logdir created\n",
      "[16:03:25] [VisCliqueDecomp] Attempting to cover 70.0 '%' of Cfree \n"
     ]
    },
    {
     "name": "stderr",
     "output_type": "stream",
     "text": [
      "100%|██████████| 150/150 [00:18<00:00,  7.97it/s]\n"
     ]
    },
    {
     "name": "stdout",
     "output_type": "stream",
     "text": [
      "[16:06:21] [VisCliqueDecomp] Found  9  cliques\n"
     ]
    },
    {
     "name": "stderr",
     "output_type": "stream",
     "text": [
      "INFO:drake:IrisInConfigurationSpace iteration 0\n",
      "INFO:drake:IrisInConfigurationSpace iteration 0\n",
      "INFO:drake:IrisInConfigurationSpace iteration 0\n",
      "INFO:drake:IrisInConfigurationSpace iteration 0\n",
      "INFO:drake:IrisInConfigurationSpace iteration 0\n",
      "INFO:drake:IrisInConfigurationSpace iteration 0\n",
      "INFO:drake:IrisInConfigurationSpace iteration 0\n",
      "INFO:drake:IrisInConfigurationSpace iteration 0\n",
      "INFO:drake:IrisInConfigurationSpace iteration 0\n",
      "INFO:drake: Checking wsg::collision against shelves::top has already required 150 counter-example searches; still searching...\n",
      "INFO:drake: Finished checking wsg::collision against shelves::top after 161 counter-example searches.\n",
      "INFO:drake: Checking wsg::collision against shelves::top has already required 150 counter-example searches; still searching...\n",
      "INFO:drake: Finished checking wsg::collision against shelves::top after 157 counter-example searches.\n",
      "INFO:drake: Checking wsg::collision against shelves::top has already required 150 counter-example searches; still searching...\n",
      "INFO:drake: Finished checking wsg::collision against shelves::top after 215 counter-example searches.\n",
      "INFO:drake: Checking wsg::collision against shelves::top has already required 150 counter-example searches; still searching...\n",
      "INFO:drake: Finished checking wsg::collision against shelves::top after 174 counter-example searches.\n",
      "INFO:drake: Checking wsg::collision against shelves::top has already required 150 counter-example searches; still searching...\n",
      "INFO:drake: Checking wsg::collision against shelves::top has already required 150 counter-example searches; still searching...\n",
      "INFO:drake: Finished checking wsg::collision against shelves::top after 157 counter-example searches.\n",
      "INFO:drake: Finished checking wsg::collision against shelves::top after 372 counter-example searches.\n"
     ]
    },
    {
     "name": "stdout",
     "output_type": "stream",
     "text": [
      "[SNOPT IRIS Worker]: Region:0 / 1\n",
      "[SNOPT IRIS Worker]: Region:0 / 1\n",
      "[SNOPT IRIS Worker]: Region:0 / 1\n"
     ]
    },
    {
     "name": "stderr",
     "output_type": "stream",
     "text": [
      "INFO:drake: Checking wsg::collision against shelves::top has already required 150 counter-example searches; still searching...\n",
      "INFO:drake: Finished checking wsg::collision against shelves::top after 169 counter-example searches.\n"
     ]
    },
    {
     "name": "stdout",
     "output_type": "stream",
     "text": [
      "[SNOPT IRIS Worker]: Region:0 / 1\n"
     ]
    },
    {
     "name": "stderr",
     "output_type": "stream",
     "text": [
      "INFO:drake: Checking wsg::collision against shelves::top has already required 150 counter-example searches; still searching...\n",
      "INFO:drake: Finished checking wsg::collision against shelves::top after 151 counter-example searches.\n"
     ]
    },
    {
     "name": "stdout",
     "output_type": "stream",
     "text": [
      "[SNOPT IRIS Worker]: Region:0 / 1\n"
     ]
    },
    {
     "name": "stderr",
     "output_type": "stream",
     "text": [
      "INFO:drake: Checking wsg::collision against binR::left has already required 150 counter-example searches; still searching...\n",
      "INFO:drake: Finished checking wsg::collision against binR::left after 165 counter-example searches.\n"
     ]
    },
    {
     "name": "stdout",
     "output_type": "stream",
     "text": [
      "[SNOPT IRIS Worker]: Region:0 / 1\n",
      "[SNOPT IRIS Worker]: Region:0 / 1\n",
      "[SNOPT IRIS Worker]: Region:0 / 1\n",
      "[SNOPT IRIS Worker]: Region:0 / 1\n"
     ]
    },
    {
     "name": "stderr",
     "output_type": "stream",
     "text": [
      "100%|██████████| 150/150 [00:21<00:00,  6.95it/s]\n"
     ]
    }
   ],
   "source": [
    "clogger = CliqueApproachLogger(f\"7dof_iiwa_bins\",f\"{ap_names[approach]}\", estimate_coverage=estimate_coverage, cfg_dict=cfg)\n",
    "iris_handle = partial(SNOPT_IRIS_ellipsoid_parallel,\n",
    "                        region_obstacles = [],\n",
    "                        logger = clogger, \n",
    "                        plant_builder = plant_builder,\n",
    "                        snoptiris_options = snopt_iris_options,\n",
    "                        estimate_coverage = estimate_coverage,\n",
    "                        coverage_threshold = 1- eps)\n",
    "\n",
    "vcd = VisCliqueInflation(N, \n",
    "                    eps,\n",
    "                    max_iterations=max_iterations_clique,\n",
    "                    sample_cfree = sample_handle_joint,\n",
    "                    col_handle= col_func_handle_,\n",
    "                    build_vgraph=vgraph_handle,\n",
    "                    iris_w_obstacles=iris_handle,\n",
    "                    verbose = True,\n",
    "                    logger=clogger,\n",
    "                    approach=approach,\n",
    "                    extend_cliques=extend_cliques,\n",
    "                    min_clique_size = min_clique_size\n",
    "                    )\n",
    "regs = vcd.run()"
   ]
  },
  {
   "cell_type": "code",
   "execution_count": null,
   "metadata": {},
   "outputs": [
    {
     "data": {
      "text/plain": [
       "(100, 7)"
      ]
     },
     "execution_count": 36,
     "metadata": {},
     "output_type": "execute_result"
    }
   ],
   "source": []
  },
  {
   "cell_type": "code",
   "execution_count": null,
   "metadata": {},
   "outputs": [
    {
     "name": "stderr",
     "output_type": "stream",
     "text": [
      "100%|██████████| 100/100 [00:10<00:00,  9.67it/s]\n"
     ]
    }
   ],
   "source": [
    "pts_q, pts_t, _ = sample_handle_ts(100,[])\n",
    "plot_points(meshcat, pts_t.squeeze(), 'tspts', size=0.01)"
   ]
  },
  {
   "cell_type": "code",
   "execution_count": null,
   "metadata": {},
   "outputs": [
    {
     "name": "stdout",
     "output_type": "stream",
     "text": [
      "[DijkstraSPP] Pre-Building adjacency matrix  0 / 107\n",
      "[DijkstraSPP] Pre-Building adjacency matrix  10 / 107\n",
      "[DijkstraSPP] Pre-Building adjacency matrix  20 / 107\n",
      "[DijkstraSPP] Pre-Building adjacency matrix  30 / 107\n",
      "[DijkstraSPP] Pre-Building adjacency matrix  40 / 107\n",
      "[DijkstraSPP] Pre-Building adjacency matrix  50 / 107\n",
      "[DijkstraSPP] Pre-Building adjacency matrix  60 / 107\n",
      "[DijkstraSPP] Pre-Building adjacency matrix  70 / 107\n",
      "[DijkstraSPP] Pre-Building adjacency matrix  80 / 107\n",
      "[DijkstraSPP] Pre-Building adjacency matrix  90 / 107\n",
      "[DijkstraSPP] Pre-Building adjacency matrix  100 / 107\n",
      "[DijkstraSPP] Pre-Building d-adjacency matrix  0 / 5420\n",
      "[DijkstraSPP] Pre-Building d-adjacency matrix  1000 / 5420\n",
      "[DijkstraSPP] Pre-Building d-adjacency matrix  2000 / 5420\n",
      "[DijkstraSPP] Pre-Building d-adjacency matrix  3000 / 5420\n",
      "[DijkstraSPP] Pre-Building d-adjacency matrix  4000 / 5420\n"
     ]
    }
   ],
   "source": [
    "from dijkstraspp import DijkstraSPPsolver\n",
    "def dm(q):\n",
    "    return q\n",
    "dspp = DijkstraSPPsolver(regions, dm)"
   ]
  },
  {
   "cell_type": "code",
   "execution_count": null,
   "metadata": {},
   "outputs": [],
   "source": [
    "import pickle\n",
    "with open('dspp_bins_gcs.pkl', 'wb') as f:\n",
    "    pickle.dump(dspp)"
   ]
  },
  {
   "cell_type": "code",
   "execution_count": null,
   "metadata": {},
   "outputs": [],
   "source": [
    "import time\n",
    "for pt in q:\n",
    "    showres(pt)\n",
    "    time.sleep(0.01)"
   ]
  },
  {
   "cell_type": "code",
   "execution_count": null,
   "metadata": {},
   "outputs": [],
   "source": [
    "for i, v in enumerate(vp):\n",
    "    plot_points(meshcat, v.vertices().T, f\"vp{i}\")"
   ]
  },
  {
   "cell_type": "code",
   "execution_count": null,
   "metadata": {},
   "outputs": [],
   "source": [
    "ids = Inspector.GetGeometries(binL_body)\n",
    "shapes = [Inspector.GetShape(id) for id in ids]"
   ]
  },
  {
   "cell_type": "code",
   "execution_count": null,
   "metadata": {},
   "outputs": [
    {
     "data": {
      "text/plain": [
       "BodyIndex(15)"
      ]
     },
     "execution_count": 32,
     "metadata": {},
     "output_type": "execute_result"
    }
   ],
   "source": []
  },
  {
   "cell_type": "code",
   "execution_count": null,
   "metadata": {},
   "outputs": [
    {
     "data": {
      "text/plain": [
       "<pydrake.geometry.QueryObject at 0x7f5240f27ab0>"
      ]
     },
     "execution_count": 99,
     "metadata": {},
     "output_type": "execute_result"
    }
   ],
   "source": []
  },
  {
   "cell_type": "code",
   "execution_count": null,
   "metadata": {},
   "outputs": [
    {
     "data": {
      "text/plain": [
       "<pydrake.geometry.optimization.VPolytope at 0x7f5240f34b70>"
      ]
     },
     "execution_count": 100,
     "metadata": {},
     "output_type": "execute_result"
    }
   ],
   "source": []
  },
  {
   "cell_type": "code",
   "execution_count": null,
   "metadata": {},
   "outputs": [],
   "source": []
  },
  {
   "cell_type": "code",
   "execution_count": null,
   "metadata": {},
   "outputs": [],
   "source": [
    "from pydrake.all import PolygonSurfaceMesh"
   ]
  },
  {
   "cell_type": "code",
   "execution_count": null,
   "metadata": {},
   "outputs": [
    {
     "data": {
      "text/plain": [
       "<RigidBody name='top_and_bottom' index=16 model_instance=4>"
      ]
     },
     "execution_count": 66,
     "metadata": {},
     "output_type": "execute_result"
    }
   ],
   "source": [
    "plant.GetBodyByName('shelves_body', plant.GetModelInstanceByName('shelves'))\n",
    "plant.GetBodyByName('top_and_bottom', plant.GetModelInstanceByName('shelves'))\n"
   ]
  },
  {
   "cell_type": "code",
   "execution_count": null,
   "metadata": {},
   "outputs": [
    {
     "ename": "TypeError",
     "evalue": "GetFrameId(): incompatible function arguments. The following argument types are supported:\n    1. (self: pydrake.geometry.SceneGraphInspector, geometry_id: pydrake.geometry.GeometryId) -> pydrake.geometry.FrameId\n\nInvoked with: <pydrake.geometry.SceneGraphInspector object at 0x7f524109b770>",
     "output_type": "error",
     "traceback": [
      "\u001b[0;31m---------------------------------------------------------------------------\u001b[0m",
      "\u001b[0;31mTypeError\u001b[0m                                 Traceback (most recent call last)",
      "\u001b[0;32m<ipython-input-46-8beb52077fb1>\u001b[0m in \u001b[0;36m<module>\u001b[0;34m\u001b[0m\n\u001b[0;32m----> 1\u001b[0;31m \u001b[0mInspector\u001b[0m\u001b[0;34m.\u001b[0m\u001b[0mGetFrameId\u001b[0m\u001b[0;34m(\u001b[0m\u001b[0;34m)\u001b[0m\u001b[0;34m\u001b[0m\u001b[0;34m\u001b[0m\u001b[0m\n\u001b[0m",
      "\u001b[0;31mTypeError\u001b[0m: GetFrameId(): incompatible function arguments. The following argument types are supported:\n    1. (self: pydrake.geometry.SceneGraphInspector, geometry_id: pydrake.geometry.GeometryId) -> pydrake.geometry.FrameId\n\nInvoked with: <pydrake.geometry.SceneGraphInspector object at 0x7f524109b770>"
     ]
    }
   ],
   "source": [
    "Inspector.GetFrameId()"
   ]
  },
  {
   "cell_type": "code",
   "execution_count": null,
   "metadata": {},
   "outputs": [],
   "source": [
    "from pydrake.all import GlobalInverseKinematics"
   ]
  },
  {
   "cell_type": "code",
   "execution_count": null,
   "metadata": {},
   "outputs": [
    {
     "ename": "TypeError",
     "evalue": "GetGeometryIdByName(): incompatible function arguments. The following argument types are supported:\n    1. (self: pydrake.geometry.SceneGraphInspector, frame_id: pydrake.geometry.FrameId, role: pydrake.geometry.Role, name: str) -> pydrake.geometry.GeometryId\n\nInvoked with: <pydrake.geometry.SceneGraphInspector object at 0x7f524109b770>",
     "output_type": "error",
     "traceback": [
      "\u001b[0;31m---------------------------------------------------------------------------\u001b[0m",
      "\u001b[0;31mTypeError\u001b[0m                                 Traceback (most recent call last)",
      "\u001b[0;32m<ipython-input-51-c0a9f9660cc0>\u001b[0m in \u001b[0;36m<module>\u001b[0;34m\u001b[0m\n\u001b[0;32m----> 1\u001b[0;31m \u001b[0mInspector\u001b[0m\u001b[0;34m.\u001b[0m\u001b[0mGetGeometryIdByName\u001b[0m\u001b[0;34m(\u001b[0m\u001b[0;34m)\u001b[0m\u001b[0;34m\u001b[0m\u001b[0;34m\u001b[0m\u001b[0m\n\u001b[0m",
      "\u001b[0;31mTypeError\u001b[0m: GetGeometryIdByName(): incompatible function arguments. The following argument types are supported:\n    1. (self: pydrake.geometry.SceneGraphInspector, frame_id: pydrake.geometry.FrameId, role: pydrake.geometry.Role, name: str) -> pydrake.geometry.GeometryId\n\nInvoked with: <pydrake.geometry.SceneGraphInspector object at 0x7f524109b770>"
     ]
    }
   ],
   "source": [
    "Inspector.Get()"
   ]
  },
  {
   "cell_type": "code",
   "execution_count": null,
   "metadata": {},
   "outputs": [],
   "source": [
    "g_ik = GlobalInverseKinematics(plant)"
   ]
  },
  {
   "cell_type": "code",
   "execution_count": null,
   "metadata": {},
   "outputs": [
    {
     "ename": "NameError",
     "evalue": "name 'tf' is not defined",
     "output_type": "error",
     "traceback": [
      "\u001b[0;31m---------------------------------------------------------------------------\u001b[0m",
      "\u001b[0;31mNameError\u001b[0m                                 Traceback (most recent call last)",
      "\u001b[0;32m<ipython-input-22-13b072dfc13a>\u001b[0m in \u001b[0;36m<module>\u001b[0;34m\u001b[0m\n\u001b[1;32m      1\u001b[0m g_ik.AddWorldPositionConstraint(plant.GetBodyByName('base').index(), \n\u001b[1;32m      2\u001b[0m                                 \u001b[0mnp\u001b[0m\u001b[0;34m.\u001b[0m\u001b[0mzeros\u001b[0m\u001b[0;34m(\u001b[0m\u001b[0;36m3\u001b[0m\u001b[0;34m)\u001b[0m\u001b[0;34m,\u001b[0m\u001b[0;34m\u001b[0m\u001b[0;34m\u001b[0m\u001b[0m\n\u001b[0;32m----> 3\u001b[0;31m                                 \u001b[0mtf\u001b[0m\u001b[0;34m.\u001b[0m\u001b[0mtranslation\u001b[0m\u001b[0;34m(\u001b[0m\u001b[0;34m)\u001b[0m\u001b[0;34m-\u001b[0m\u001b[0;36m0.05\u001b[0m\u001b[0;34m,\u001b[0m\u001b[0;34m\u001b[0m\u001b[0;34m\u001b[0m\u001b[0m\n\u001b[0m\u001b[1;32m      4\u001b[0m                                 tf.translation()+0.05,)\n",
      "\u001b[0;31mNameError\u001b[0m: name 'tf' is not defined"
     ]
    }
   ],
   "source": [
    "g_ik.AddWorldPositionConstraint(plant.GetBodyByName('base').index(), \n",
    "                                np.zeros(3),\n",
    "                                tf.translation()-0.05,\n",
    "                                tf.translation()+0.05,)"
   ]
  },
  {
   "cell_type": "code",
   "execution_count": null,
   "metadata": {},
   "outputs": [],
   "source": [
    "def get_gik_problem_solver(plant_ik, plant_context_ik, body_indices, collision_free= False):\n",
    "    def solve_gik_problem(poses, q0, collision_free = collision_free):\n",
    "        q_min = plant.GetPositionLowerLimits()\n",
    "        q_max = plant.GetPositionUpperLimits()\n",
    "        q_diff =  q_max-q_min\n",
    "        gik = GlobalInverseKinematics(plant_ik)\n",
    "        #GlobalInverseKinematics(plant_ik) #InverseKinematics(plant_ik, plant_context_ik)\n",
    "    \n",
    "        for pose, b in zip(poses, body_indices):\n",
    "            gik.AddWorldPositionConstraint(\n",
    "                b,\n",
    "                np.zeros(3),\n",
    "                plant_ik.world_frame(),\n",
    "                pose.translation()-0.05,\n",
    "                pose.translation()+0.05,\n",
    "            )\n",
    "            # ik.AddWorldPositionConstraint(plant.GetBodyByName('ur_tool0').index(), \n",
    "            #                               pose.translation(),\n",
    "            #                               pose.translation()-0.05,\n",
    "            #                               pose.translation()+0.05)\n",
    "            gik.AddOrientationConstraint(\n",
    "                f,\n",
    "                RotationMatrix(),\n",
    "                plant_ik.world_frame(),\n",
    "                pose.rotation(),\n",
    "                0.01,\n",
    "            )\n",
    "        prog = ik.get_mutable_prog()\n",
    "        q = ik.q()\n",
    "        prog.AddQuadraticErrorCost(np.identity(len(q)), q0, q)\n",
    "        prog.SetInitialGuess(q, q0)\n",
    "        result = Solve(ik.prog())\n",
    "        if result.is_success():\n",
    "                return result.GetSolution(q)\n",
    "        return None\n",
    "    return solve_ik_problem"
   ]
  },
  {
   "cell_type": "code",
   "execution_count": null,
   "metadata": {},
   "outputs": [
    {
     "data": {
      "text/plain": [
       "['AddPostureCost',\n",
       " 'AddWorldOrientationConstraint',\n",
       " 'AddWorldPositionConstraint',\n",
       " 'AddWorldRelativePositionConstraint',\n",
       " 'Options',\n",
       " 'ReconstructGeneralizedPositionSolution',\n",
       " 'SetInitialGuess',\n",
       " '__class__',\n",
       " '__del__',\n",
       " '__delattr__',\n",
       " '__dir__',\n",
       " '__doc__',\n",
       " '__eq__',\n",
       " '__format__',\n",
       " '__ge__',\n",
       " '__getattribute__',\n",
       " '__gt__',\n",
       " '__hash__',\n",
       " '__init__',\n",
       " '__init_subclass__',\n",
       " '__le__',\n",
       " '__lt__',\n",
       " '__module__',\n",
       " '__ne__',\n",
       " '__new__',\n",
       " '__reduce__',\n",
       " '__reduce_ex__',\n",
       " '__repr__',\n",
       " '__setattr__',\n",
       " '__sizeof__',\n",
       " '__str__',\n",
       " '__subclasshook__',\n",
       " '_pybind11_del_orig',\n",
       " 'body_position',\n",
       " 'body_rotation_matrix',\n",
       " 'get_mutable_prog',\n",
       " 'prog']"
      ]
     },
     "execution_count": 18,
     "metadata": {},
     "output_type": "execute_result"
    }
   ],
   "source": [
    "dir(g_ik)"
   ]
  },
  {
   "cell_type": "code",
   "execution_count": null,
   "metadata": {},
   "outputs": [
    {
     "data": {
      "text/plain": [
       "GlobalInverseKinematics.Options(num_intervals_per_half_axis=2, approach=Approach.kBilinearMcCormick, interval_binning=IntervalBinning.kLogarithmic, linear_constraint_only=False)"
      ]
     },
     "execution_count": 27,
     "metadata": {},
     "output_type": "execute_result"
    }
   ],
   "source": [
    "GlobalInverseKinematics.Options()"
   ]
  },
  {
   "cell_type": "code",
   "execution_count": null,
   "metadata": {},
   "outputs": [],
   "source": []
  },
  {
   "cell_type": "code",
   "execution_count": null,
   "metadata": {},
   "outputs": [
    {
     "data": {
      "application/vnd.jupyter.widget-view+json": {
       "model_id": "83478ac6aeca4b5facfd2180d234908b",
       "version_major": 2,
       "version_minor": 0
      },
      "text/plain": [
       "FloatSlider(value=0.0, description='x', max=1.0, min=-0.5)"
      ]
     },
     "metadata": {},
     "output_type": "display_data"
    },
    {
     "data": {
      "application/vnd.jupyter.widget-view+json": {
       "model_id": "93154d84c9bd45fc9342d0f776c40ed7",
       "version_major": 2,
       "version_minor": 0
      },
      "text/plain": [
       "FloatSlider(value=0.0, description='y', max=0.5, min=-0.5)"
      ]
     },
     "metadata": {},
     "output_type": "display_data"
    },
    {
     "data": {
      "application/vnd.jupyter.widget-view+json": {
       "model_id": "2f0997b799224fb89835022eaf44188f",
       "version_major": 2,
       "version_minor": 0
      },
      "text/plain": [
       "FloatSlider(value=0.01, description='z', max=1.0, min=0.01)"
      ]
     },
     "metadata": {},
     "output_type": "display_data"
    },
    {
     "data": {
      "application/vnd.jupyter.widget-view+json": {
       "model_id": "e4dd2836b29949d2a8b7da4a3dcae673",
       "version_major": 2,
       "version_minor": 0
      },
      "text/plain": [
       "FloatSlider(value=0.0, description='rx', max=3.141592653589793, min=-3.141592653589793)"
      ]
     },
     "metadata": {},
     "output_type": "display_data"
    },
    {
     "data": {
      "application/vnd.jupyter.widget-view+json": {
       "model_id": "e804c3181a9548828e85c23d749290e8",
       "version_major": 2,
       "version_minor": 0
      },
      "text/plain": [
       "FloatSlider(value=0.0, description='ry', max=3.141592653589793, min=-3.141592653589793)"
      ]
     },
     "metadata": {},
     "output_type": "display_data"
    },
    {
     "data": {
      "application/vnd.jupyter.widget-view+json": {
       "model_id": "415989923be54a3092a7ab597918d540",
       "version_major": 2,
       "version_minor": 0
      },
      "text/plain": [
       "FloatSlider(value=0.0, description='rz', max=3.141592653589793, min=-3.141592653589793)"
      ]
     },
     "metadata": {},
     "output_type": "display_data"
    }
   ],
   "source": []
  },
  {
   "cell_type": "code",
   "execution_count": null,
   "metadata": {},
   "outputs": [],
   "source": []
  },
  {
   "cell_type": "code",
   "execution_count": null,
   "metadata": {},
   "outputs": [],
   "source": []
  },
  {
   "cell_type": "code",
   "execution_count": null,
   "metadata": {},
   "outputs": [],
   "source": []
  },
  {
   "cell_type": "code",
   "execution_count": null,
   "metadata": {},
   "outputs": [],
   "source": []
  },
  {
   "cell_type": "code",
   "execution_count": null,
   "metadata": {},
   "outputs": [],
   "source": []
  },
  {
   "cell_type": "code",
   "execution_count": null,
   "metadata": {},
   "outputs": [],
   "source": []
  },
  {
   "cell_type": "code",
   "execution_count": null,
   "metadata": {},
   "outputs": [],
   "source": []
  },
  {
   "cell_type": "code",
   "execution_count": null,
   "metadata": {},
   "outputs": [],
   "source": []
  },
  {
   "cell_type": "code",
   "execution_count": null,
   "metadata": {},
   "outputs": [],
   "source": []
  },
  {
   "cell_type": "code",
   "execution_count": null,
   "metadata": {},
   "outputs": [],
   "source": [
    "# start = np.array([-2.06706, -0.3944 ,  1.43294,  0.9056 ,  0.53294, -0.8944 ,\n",
    "#         0.74567])\n",
    "# end = np.array([ 1.23294, -0.1944 ,  0.     ,  1.6056 ,  1.43294,  1.1056 ,\n",
    "#         0.24567])\n",
    "\n",
    "poi =np.array([\n",
    "    #[-2.06706, -0.3944 ,  1.43294,  0.9056 ,  0.53294, -0.8944 ,\n",
    "     #   0.74567],\n",
    "        [ 1.83294, -0.0944 , -0.06706, -1.2944 ,  1.53294,  1.4056 ,\n",
    "        0.34567],\n",
    "        [ 1.23294, -0.1944 ,  0.     ,  1.6056 ,  1.43294,  1.1056 ,\n",
    "        0.24567],\n",
    "        [ 1.23294, -0.1944 ,  0.     ,  1.1056 ,  1.43294,  1.1056 ,\n",
    "       -0.15433],\n",
    "       [ 1.23294, -0.4944 , -0.06706,  2.0056 ,  1.23294,  1.3056 ,\n",
    "        0.94567],\n",
    "        \n",
    "        [ 1.83294,  0.3056 , -0.06706, -1.3944 ,  1.53294,  1.4056 ,\n",
    "       -0.05433],\n",
    "       [ 1.63294,  0.7056 ,  0.23294, -1.6944 ,  1.53294,  1.2056 ,\n",
    "       -0.65433]])\n",
    "showres(poi[0])"
   ]
  },
  {
   "cell_type": "code",
   "execution_count": null,
   "metadata": {},
   "outputs": [],
   "source": [
    "import os \n",
    "'experiment_7dof_iiwa__1_1500_0.300greedy20230908201834' in os.listdir('logs')"
   ]
  },
  {
   "cell_type": "code",
   "execution_count": null,
   "metadata": {},
   "outputs": [],
   "source": [
    "import pickle\n",
    "path = 'logs_icra_paper/experiment_7dof_iiwa__1_1500_0.300greedy20230908201834'\n",
    "with open(path+'/data/it_2.pkl', 'rb') as f:\n",
    "    data = pickle.load(f)\n",
    "\n",
    "regions = []\n",
    "for ga,gb in zip(data['ra'], data['rb']):\n",
    "    for a,b in zip(ga,gb):\n",
    "        regions.append(HPolyhedron(a,b))\n",
    "regions = regions[:43]"
   ]
  },
  {
   "cell_type": "code",
   "execution_count": null,
   "metadata": {},
   "outputs": [],
   "source": [
    "from visibility_utils import point_in_regions\n",
    "for p in poi:\n",
    "    print(point_in_regions(p, regions))"
   ]
  },
  {
   "cell_type": "code",
   "execution_count": null,
   "metadata": {},
   "outputs": [],
   "source": [
    "from region_generation import SNOPT_IRIS_obstacles\n",
    "def estimate_coverage(r):\n",
    "    return 0\n",
    "snopt_iris_options = IrisOptions()\n",
    "snopt_iris_options.require_sample_point_is_contained = True\n",
    "snopt_iris_options.iteration_limit = 6\n",
    "snopt_iris_options.configuration_space_margin = 2e-3\n",
    "#snopt_iris_options.max_faces_per_collision_pair = 60\n",
    "snopt_iris_options.termination_threshold = -1\n",
    "#snopt_iris_options.q_star = np.zeros(3)\n",
    "snopt_iris_options.num_collision_infeasible_samples = 15\n",
    "snopt_iris_options.relative_termination_threshold = 0.02\n",
    "\n",
    "iris_handle = partial(SNOPT_IRIS_obstacles, \n",
    "                        logger = None, \n",
    "                        plant = plant, \n",
    "                        context = diagram_context,\n",
    "                        snoptiris_options = snopt_iris_options,\n",
    "                        estimate_coverage = estimate_coverage,\n",
    "                        coverage_threshold = 1)\n",
    "\n",
    "\n",
    "showres(poi[4,:])\n",
    "\n",
    "# 213  054\n",
    "seq = [2,1,3,5,4,0,2] \n",
    "# r_poi,_ = iris_handle(poi, [], [])\n",
    "#r_poi = [r1[0],r2[0]]\n",
    "# with open('rpoi_3shelf.pkl', 'wb') as f:\n",
    "#     ra = [r.A() for r in r_poi]\n",
    "#     rb = [r.b() for r in r_poi]\n",
    "#     pickle.dump([ra, rb], f)"
   ]
  },
  {
   "cell_type": "code",
   "execution_count": null,
   "metadata": {},
   "outputs": [],
   "source": [
    "import pickle\n",
    "with open('tmp/rpoi_3shelf.pkl', 'rb') as f:\n",
    "    rpoilist = pickle.load(f)\n",
    "\n",
    "r_poi = []\n",
    "for ra, rb in zip(rpoilist[0], rpoilist[1]):\n",
    "    r_poi.append(HPolyhedron(ra,rb))\n",
    "    ra = [r.A() for r in r_poi]\n",
    "    rb = [r.b() for r in r_poi]\n",
    "    #pickle.dump([ra, rb], f)"
   ]
  },
  {
   "cell_type": "code",
   "execution_count": null,
   "metadata": {},
   "outputs": [],
   "source": [
    "import networkx as nx\n",
    "import matplotlib.pyplot as plt\n",
    "from visibility_utils import generate_distinct_colors\n",
    "\n",
    "regs = regions+r_poi\n",
    "connectivity_graph = nx.Graph()\n",
    "for idx in range(len(regs)):\n",
    "    connectivity_graph.add_node(idx)\n",
    "\n",
    "\n",
    "for idx1 in range(len(regs)):\n",
    "    for idx2 in range(idx1 +1, len(regs)):\n",
    "        r1 = regs[idx1]\n",
    "        r2 = regs[idx2]\n",
    "        if r1.IntersectsWith(r2):\n",
    "            connectivity_graph.add_edge(idx1,idx2)\n",
    "\n",
    "largest_con_comp = list(list(nx.connected_components(connectivity_graph))[0])\n",
    "regions_connected_component = [regs[i] for i in largest_con_comp]\n",
    "\n",
    "fig = plt.figure(figsize=(10,10))\n",
    "hues = generate_distinct_colors(2+1)[1:]\n",
    "colors = []\n",
    "for g, h in zip([regions, r_poi], hues):\n",
    "    colors += [h]*len(g)\n",
    "\n",
    "nx.draw_spring(connectivity_graph, \n",
    "                with_labels = True, \n",
    "                node_color = colors)\n",
    "plt.title(f\"connectivity\")\n",
    "\n",
    "def densify_waypoints(waypoints_q, densify = 200):\n",
    "    dists = []\n",
    "    dense_waypoints = []\n",
    "    for idx in range(len(waypoints_q[:-1])):\n",
    "        a = waypoints_q[idx]\n",
    "        b = waypoints_q[idx+1]\n",
    "        t = np.linspace(1,0, 10)\n",
    "        locs_endeff = []\n",
    "        dists_endeff = []\n",
    "        for tval in t:\n",
    "            a = a*tval + b*(1-tval)\n",
    "            qa = a#Ratfk.ComputeQValue(ta, np.zeros(7))\n",
    "            #showres(qa)\n",
    "            #time.sleep(0.1)            \n",
    "            plant.SetPositions(plant_context, qa)\n",
    "            tf_tot= plant.EvalBodyPoseInWorld(plant_context, plant.get_body(pydrake.multibody.tree.BodyIndex(9)))\n",
    "            tf = tf_tot.translation() + tf_tot.GetAsMatrix4()[:3,:3][:,1] *0.13\n",
    "            locs_endeff.append(tf)\n",
    "        for i in range(len(locs_endeff)-1):\n",
    "            dists_endeff.append(np.linalg.norm(locs_endeff[i]- locs_endeff[i+1]))\n",
    "        d = np.sum(dists_endeff)\n",
    "        #print(d * densify)\n",
    "        t = np.linspace(1,0,int(densify*d))\n",
    "        for tval in t:\n",
    "            dense_waypoints.append(waypoints_q[idx]*tval + waypoints_q[idx+1]*(1-tval))\n",
    "    return dense_waypoints\n",
    "\n",
    "def plot_endeff_traj_s(dense,name = '', color = (1,0,0,1)):\n",
    "    plot_endeff_traj(np.array([Ratfk.ComputeQValue(w,np.zeros(7)) for w in dense]), name, color)\n",
    "\n",
    "def plot_endeff_traj(dense_waypoints, name = '', color= (1,0,0,1)):\n",
    "    color = Rgba(color[0], color[1], color[2], color[3])\n",
    "    start_idx = 0\n",
    "    for i, qa in enumerate(dense_waypoints):\n",
    "        #qa = Ratfk.ComputeQValue(ta, np.zeros(7))\n",
    "        #showres(qa)\n",
    "        #time.sleep(0.1)            \n",
    "        plant.SetPositions(plant_context, qa)\n",
    "        tf_tot= plant.EvalBodyPoseInWorld(plant_context, plant.get_body(pydrake.multibody.tree.BodyIndex(9)))\n",
    "        tf = tf_tot.translation() + tf_tot.GetAsMatrix4()[:3,:3][:,1] *0.13\n",
    "\n",
    "        meshcat.SetObject(f\"/iris/points/traj/{name}/{i+start_idx}\",\n",
    "                               Sphere(0.01),\n",
    "                               color)\n",
    "\n",
    "        meshcat.SetTransform(f\"/iris/points/traj/{name}/{i+start_idx}\",\n",
    "                                   RigidTransform(RotationMatrix(),\n",
    "                                                  tf))"
   ]
  },
  {
   "cell_type": "code",
   "execution_count": null,
   "metadata": {},
   "outputs": [],
   "source": [
    "def conversion_dummy(q):\n",
    "    return q\n",
    "import dijkstraspp\n",
    "dspp = dijkstraspp.DijkstraSPPsolver(regions + r_poi, conversion_dummy)\n",
    "# import pickle\n",
    "# dsppname = \"7dofnew_dspp_small.pkl\"\n",
    "# with open(dsppname, 'rb') as f:\n",
    "#     dspp = pickle.load( f)\n",
    "import pickle\n",
    "dsppname = \"tmp/7dofnew_dspp_small.pkl\"\n",
    "with open(dsppname, 'wb') as f:\n",
    "    pickle.dump(dspp, f)"
   ]
  },
  {
   "cell_type": "code",
   "execution_count": null,
   "metadata": {},
   "outputs": [],
   "source": [
    "colors = [(1,0,0,1),(1,1,0,1),\n",
    "(0,1,0,1),\n",
    "(0,1,1,1),\n",
    "(0,0,1,1),\n",
    "(1,0,1,1),\n",
    "]\n",
    "\n",
    "meshcat.Delete(\"/iris/points/traj/\")\n",
    "for idx,i in enumerate(seq[:-1]):\n",
    "    wp, dist = dspp.solve(poi[i,:], poi[seq[idx+1],:], refine_path = True)\n",
    "    wpd = densify_waypoints(wp)\n",
    "    plot_endeff_traj(wpd, str(i), colors[i])\n",
    "\n",
    "\n"
   ]
  },
  {
   "cell_type": "code",
   "execution_count": null,
   "metadata": {},
   "outputs": [],
   "source": [
    "from pydrake.all import Mesh\n",
    "a = Mesh('display_signs/7dof_sign_arxiv.gltf')\n",
    "meshcat.SetObject('/instructionsign', a)\n",
    "meshcat.SetTransform('/instructionsign',RigidTransform(\n",
    "                            RotationMatrix.MakeZRotation(-np.pi/2)@RotationMatrix.MakeXRotation(-np.pi/2), \n",
    "                            np.array([0, 10 , 0])))"
   ]
  },
  {
   "cell_type": "code",
   "execution_count": null,
   "metadata": {},
   "outputs": [],
   "source": [
    "frame_time = 1/32.0\n",
    "cur_time = 0\n",
    "meshcat.SetProperty(f\"/Grid\", \"visible\", False)\n",
    "meshcat.SetProperty(f\"/drake/visualizer/shunk\", \"visible\", False)\n",
    "meshcat.StartRecording()\n",
    "animation = meshcat.get_mutable_recording()\n",
    "for i in range(20):\n",
    "    wp, dist = dspp.solve(poi[seq[(i)%len(seq)],:], poi[seq[(i+1)%len(seq)],:], refine_path = True)\n",
    "    wpd = densify_waypoints(wp, 50)\n",
    "    for qa in wpd:\n",
    "        showres(qa)\n",
    "        diagram_context.SetTime(cur_time)\n",
    "        if col_func_handle(qa):\n",
    "            print('col')\n",
    "        cur_time+=frame_time\n",
    "        time.sleep(frame_time)\n",
    "meshcat.StopRecording()\n",
    "animation.set_autoplay(True)\n",
    "meshcat.PublishRecording()\n",
    "with open(\"static_htmls/7DOF_IIWA_arxiv.html\", \"w+\") as f:\n",
    "    f.write(meshcat.StaticHtml())"
   ]
  },
  {
   "cell_type": "code",
   "execution_count": null,
   "metadata": {},
   "outputs": [],
   "source": [
    "def plot_endeff_traj_s(dense,name = '', color = (1,0,0,1)):\n",
    "    plot_endeff_traj(np.array([Ratfk.ComputeQValue(w,np.zeros(7)) for w in dense]), name, color)\n",
    "\n",
    "def plot_endeff_traj(dense_waypoints, name = '', color= (1,0,0,1)):\n",
    "    color = Rgba(color[0], color[1], color[2], color[3])\n",
    "    start_idx = 0\n",
    "    for i, qa in enumerate(dense_waypoints):\n",
    "        #qa = Ratfk.ComputeQValue(ta, np.zeros(7))\n",
    "        #showres(qa)\n",
    "        #time.sleep(0.1)            \n",
    "        plant.SetPositions(plant_context, qa)\n",
    "        tf_tot= plant.EvalBodyPoseInWorld(plant_context, plant.get_body(pydrake.multibody.tree.BodyIndex(9)))\n",
    "        tf = tf_tot.translation() + tf_tot.GetAsMatrix4()[:3,:3][:,1] *0.13\n",
    "\n",
    "        meshcat.SetObject(f\"/iris/points/traj/{name}/{i+start_idx}\",\n",
    "                               Sphere(0.01),\n",
    "                               color)\n",
    "\n",
    "        meshcat.SetTransform(f\"/iris/points/traj/{name}/{i+start_idx}\",\n",
    "                                   RigidTransform(RotationMatrix(),\n",
    "                                                  tf))"
   ]
  },
  {
   "cell_type": "code",
   "execution_count": null,
   "metadata": {},
   "outputs": [],
   "source": []
  }
 ],
 "metadata": {
  "kernelspec": {
   "display_name": "Python 3",
   "language": "python",
   "name": "python3"
  },
  "language_info": {
   "codemirror_mode": {
    "name": "ipython",
    "version": 3
   },
   "file_extension": ".py",
   "mimetype": "text/x-python",
   "name": "python",
   "nbconvert_exporter": "python",
   "pygments_lexer": "ipython3",
   "version": "3.8.10"
  },
  "orig_nbformat": 4
 },
 "nbformat": 4,
 "nbformat_minor": 2
}
