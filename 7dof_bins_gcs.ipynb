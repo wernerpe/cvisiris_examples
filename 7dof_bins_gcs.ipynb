{
 "cells": [
  {
   "cell_type": "code",
   "execution_count": 1,
   "metadata": {},
   "outputs": [],
   "source": [
    "import numpy as np\n",
    "from functools import partial\n",
    "import ipywidgets as widgets\n",
    "from IPython.display import display"
   ]
  },
  {
   "cell_type": "code",
   "execution_count": 2,
   "metadata": {},
   "outputs": [],
   "source": [
    "\n",
    "from pydrake.geometry.optimization import IrisOptions, HPolyhedron, Hyperellipsoid\n",
    "from pydrake.solvers import MosekSolver, CommonSolverOption, SolverOptions\n",
    "from pydrake.all import (PiecewisePolynomial, \n",
    "                         InverseKinematics, \n",
    "                         Sphere, \n",
    "                         Rgba, \n",
    "                         RigidTransform, \n",
    "                         RotationMatrix, \n",
    "                         Solve,\n",
    "                         MathematicalProgram,\n",
    "                         RollPitchYaw,\n",
    "                         Cylinder)\n",
    "import time\n",
    "import pydrake\n"
   ]
  },
  {
   "cell_type": "code",
   "execution_count": 3,
   "metadata": {},
   "outputs": [
    {
     "name": "stderr",
     "output_type": "stream",
     "text": [
      "INFO:drake:Meshcat listening for connections at http://localhost:7000\n"
     ]
    }
   ],
   "source": [
    "from environments import get_environment_builder\n",
    "\n",
    "plant_builder = get_environment_builder('7DOFBINS')\n",
    "plant, scene_graph, diagram, diagram_context, plant_context, meshcat = plant_builder(usemeshcat=True)\n",
    "\n",
    "scene_graph_context = scene_graph.GetMyMutableContextFromRoot(\n",
    "    diagram_context)\n",
    "import pydrake.multibody.rational as rational_forward_kinematics\n",
    "from pydrake.all import RationalForwardKinematics\n",
    "Ratfk = RationalForwardKinematics(plant)"
   ]
  },
  {
   "cell_type": "code",
   "execution_count": 4,
   "metadata": {},
   "outputs": [],
   "source": [
    "def get_ik_problem_solver(plant_ik, plant_context_ik, frames, collision_free= False):\n",
    "    def solve_ik_problem(poses, q0, collision_free = collision_free):\n",
    "        tries = 3\n",
    "        q_min = plant.GetPositionLowerLimits()\n",
    "        q_max = plant.GetPositionUpperLimits()\n",
    "        q_diff =  q_max-q_min\n",
    "        ik = InverseKinematics(plant_ik, plant_context_ik)\n",
    "        #GlobalInverseKinematics(plant_ik) #InverseKinematics(plant_ik, plant_context_ik)\n",
    "    \n",
    "        for pose, f in zip(poses, frames):\n",
    "            ik.AddPositionConstraint(\n",
    "                f,\n",
    "                [0, 0, 0],\n",
    "                plant_ik.world_frame(),\n",
    "                pose.translation()-0.02,\n",
    "                pose.translation()+0.02,\n",
    "            )\n",
    "            # ik.AddWorldPositionConstraint(plant.GetBodyByName('ur_tool0').index(), \n",
    "            #                               pose.translation(),\n",
    "            #                               pose.translation()-0.05,\n",
    "            #                               pose.translation()+0.05)\n",
    "            # ik.AddOrientationConstraint(\n",
    "            #     f,\n",
    "            #     RotationMatrix(),\n",
    "            #     plant_ik.world_frame(),\n",
    "            #     pose.rotation(),\n",
    "            #     0.1,\n",
    "            # )\n",
    "        if collision_free:\n",
    "            ik.AddMinimumDistanceConstraint(0.001, 0.1)\n",
    "        prog = ik.get_mutable_prog()\n",
    "        q = ik.q()\n",
    "        prog.AddQuadraticErrorCost(np.identity(len(q)), q0, q)\n",
    "        prog.SetInitialGuess(q, q0)\n",
    "        result = Solve(ik.prog())\n",
    "        if result.is_success():\n",
    "                return result.GetSolution(q)\n",
    "        return None\n",
    "    return solve_ik_problem\n",
    "\n",
    "def show_pose(qvis, plant, plant_context, diagram, diagram_context, endeff_frame, show_body_frame = None):\n",
    "    plant.SetPositions(plant_context, qvis)\n",
    "    diagram.ForcedPublish(diagram_context)\n",
    "    tf =plant.EvalBodyPoseInWorld(plant_context,  plant.GetBodyByName(endeff_frame))\n",
    "    if show_body_frame is not None:\n",
    "        show_body_frame(tf)\n",
    "\n",
    "def show_ik_target(pose, meshcat, name):\n",
    "    h = 0.2\n",
    "    if 'targ' in name:\n",
    "        colors = [Rgba(1,0.5,0, 0.5), Rgba(0.5,1,0, 0.5), Rgba(0.0,0.5,1, 0.5)]\n",
    "    else:\n",
    "        colors = [Rgba(1,0,0, 1), Rgba(0.,1,0, 1), Rgba(0.0,0.0,1, 1)]\n",
    "\n",
    "    rot = pose.rotation()@RotationMatrix.MakeYRotation(np.pi/2)\n",
    "    pos= pose.translation() +pose.rotation()@np.array([h/2, 0,0])\n",
    "    meshcat.SetObject(f\"/drake/ik_target{name}/triad1\",\n",
    "                                   Cylinder(0.01,0.2),\n",
    "                                   colors[0])\n",
    "    meshcat.SetTransform(f\"/drake/ik_target{name}/triad1\",RigidTransform(rot, pos))\n",
    "    rot = pose.rotation()@RotationMatrix.MakeXRotation(-np.pi/2)\n",
    "    pos= pose.translation() +pose.rotation()@np.array([0,h/2,0])\n",
    "\n",
    "    meshcat.SetObject(f\"/drake/ik_target{name}/triad2\",\n",
    "                                   Cylinder(0.01,0.2),\n",
    "                                   colors[1])\n",
    "    meshcat.SetTransform(f\"/drake/ik_target{name}/triad2\",RigidTransform(rot, pos))\n",
    "    pos= pose.translation().copy()\n",
    "    rot = pose.rotation()\n",
    "    pos = pos + rot@np.array([0,0,h/2])\n",
    "    meshcat.SetObject(f\"/drake/ik_target{name}/triad3\",\n",
    "                                   Cylinder(0.01,0.2),\n",
    "                                   colors[2])\n",
    "    meshcat.SetTransform(f\"/drake/ik_target{name}/triad3\",RigidTransform(rot, pos))\n",
    "\n",
    "# ik = InverseKinematics(plant, plant_context)\n",
    "# collision_constraint = ik.AddMinimumDistanceConstraint(0.001, 0.001)\n",
    "# def eval_cons(q, c, tol):\n",
    "#     return 1-1*float(c.evaluator().CheckSatisfied(q, tol))\n",
    "    \n",
    "# col_func_handle = partial(eval_cons, c=collision_constraint, tol=0.01)\n",
    "# col_shunk_col =  Rgba(0.8, 0.0, 0, 0.5)    \n",
    "# col_shunk_free =  Rgba(0.0, 0.8, 0.5, 0.5)"
   ]
  },
  {
   "cell_type": "code",
   "execution_count": 5,
   "metadata": {},
   "outputs": [],
   "source": [
    "show_body_frame = partial(show_ik_target, \n",
    "                          meshcat=meshcat, \n",
    "                          name='endeff_acutal', \n",
    "                          )\n",
    "showres = partial(show_pose, \n",
    "                  plant = plant, \n",
    "                  plant_context = plant_context, \n",
    "                  diagram = diagram, \n",
    "                  diagram_context = diagram_context,\n",
    "                  endeff_frame = 'body',\n",
    "                  show_body_frame=show_body_frame)"
   ]
  },
  {
   "cell_type": "code",
   "execution_count": 6,
   "metadata": {},
   "outputs": [
    {
     "data": {
      "application/vnd.jupyter.widget-view+json": {
       "model_id": "41496dc34cd040a9a5288da7b5ca0b45",
       "version_major": 2,
       "version_minor": 0
      },
      "text/plain": [
       "FloatSlider(value=0.0, description='q0', max=2.96705972839, min=-2.96705972839)"
      ]
     },
     "metadata": {},
     "output_type": "display_data"
    },
    {
     "data": {
      "application/vnd.jupyter.widget-view+json": {
       "model_id": "2e91cd4e3deb45afba887b65f40acb50",
       "version_major": 2,
       "version_minor": 0
      },
      "text/plain": [
       "FloatSlider(value=0.0, description='q1', max=2.09439510239, min=-2.09439510239)"
      ]
     },
     "metadata": {},
     "output_type": "display_data"
    },
    {
     "data": {
      "application/vnd.jupyter.widget-view+json": {
       "model_id": "15a9e941047b4fbcb60a56dd7c709709",
       "version_major": 2,
       "version_minor": 0
      },
      "text/plain": [
       "FloatSlider(value=0.0, description='q2', max=2.96705972839, min=-2.96705972839)"
      ]
     },
     "metadata": {},
     "output_type": "display_data"
    },
    {
     "data": {
      "application/vnd.jupyter.widget-view+json": {
       "model_id": "8640e5d68ffd4c77a5ecda2c5591558b",
       "version_major": 2,
       "version_minor": 0
      },
      "text/plain": [
       "FloatSlider(value=0.0, description='q3', max=2.09439510239, min=-2.09439510239)"
      ]
     },
     "metadata": {},
     "output_type": "display_data"
    },
    {
     "data": {
      "application/vnd.jupyter.widget-view+json": {
       "model_id": "2d487a31bab245c3911327975a22169c",
       "version_major": 2,
       "version_minor": 0
      },
      "text/plain": [
       "FloatSlider(value=0.0, description='q4', max=2.96705972839, min=-2.96705972839)"
      ]
     },
     "metadata": {},
     "output_type": "display_data"
    },
    {
     "data": {
      "application/vnd.jupyter.widget-view+json": {
       "model_id": "bbeb875700d546f3bb4c365036852b6d",
       "version_major": 2,
       "version_minor": 0
      },
      "text/plain": [
       "FloatSlider(value=0.0, description='q5', max=2.09439510239, min=-2.09439510239)"
      ]
     },
     "metadata": {},
     "output_type": "display_data"
    },
    {
     "data": {
      "application/vnd.jupyter.widget-view+json": {
       "model_id": "4d48af53ce864c89a604c5b6eaba6b02",
       "version_major": 2,
       "version_minor": 0
      },
      "text/plain": [
       "FloatSlider(value=0.0, description='q6', max=3.05432619099, min=-3.05432619099)"
      ]
     },
     "metadata": {},
     "output_type": "display_data"
    }
   ],
   "source": [
    "q = np.zeros(plant.num_positions())\n",
    "\n",
    "sliders = []\n",
    "for i in range(plant.num_positions()):\n",
    "    q_low = plant.GetPositionLowerLimits()[i]\n",
    "    q_high = plant.GetPositionUpperLimits()[i]\n",
    "    sliders.append(widgets.FloatSlider(min=q_low, max=q_high, value=0, description=f\"q{i}\"))\n",
    "\n",
    "def handle_slider_change(change, idx):\n",
    "    q[idx] = change['new']\n",
    "    showres(q)\n",
    "    \n",
    "idx = 0\n",
    "for slider in sliders:\n",
    "    slider.observe(partial(handle_slider_change, idx = idx), names='value')\n",
    "    idx+=1\n",
    "\n",
    "for slider in sliders:\n",
    "    display(slider)"
   ]
  },
  {
   "cell_type": "code",
   "execution_count": 7,
   "metadata": {},
   "outputs": [
    {
     "data": {
      "application/vnd.jupyter.widget-view+json": {
       "model_id": "6378a1ce8428449bbb66b3ed419841ed",
       "version_major": 2,
       "version_minor": 0
      },
      "text/plain": [
       "FloatSlider(value=0.25, description='x', max=1.0, min=-0.5)"
      ]
     },
     "metadata": {},
     "output_type": "display_data"
    },
    {
     "data": {
      "application/vnd.jupyter.widget-view+json": {
       "model_id": "60b6225606da496fa994aa4b431705d0",
       "version_major": 2,
       "version_minor": 0
      },
      "text/plain": [
       "FloatSlider(value=0.0, description='y', max=0.5, min=-0.5)"
      ]
     },
     "metadata": {},
     "output_type": "display_data"
    },
    {
     "data": {
      "application/vnd.jupyter.widget-view+json": {
       "model_id": "eb9f9d887dc146e58393c8e0f5334a01",
       "version_major": 2,
       "version_minor": 0
      },
      "text/plain": [
       "FloatSlider(value=0.505, description='z', max=1.0, min=0.01)"
      ]
     },
     "metadata": {},
     "output_type": "display_data"
    },
    {
     "data": {
      "application/vnd.jupyter.widget-view+json": {
       "model_id": "c352fe0bd45b4d05811845c8e8dbb191",
       "version_major": 2,
       "version_minor": 0
      },
      "text/plain": [
       "FloatSlider(value=0.0, description='rx', max=3.141592653589793, min=-3.141592653589793)"
      ]
     },
     "metadata": {},
     "output_type": "display_data"
    },
    {
     "data": {
      "application/vnd.jupyter.widget-view+json": {
       "model_id": "d08fddebc3a146a4b6766a513e0df635",
       "version_major": 2,
       "version_minor": 0
      },
      "text/plain": [
       "FloatSlider(value=0.0, description='ry', max=3.141592653589793, min=-3.141592653589793)"
      ]
     },
     "metadata": {},
     "output_type": "display_data"
    },
    {
     "data": {
      "application/vnd.jupyter.widget-view+json": {
       "model_id": "c629c1fc517f49bd9d53255b759fba8f",
       "version_major": 2,
       "version_minor": 0
      },
      "text/plain": [
       "FloatSlider(value=0.0, description='rz', max=3.141592653589793, min=-3.141592653589793)"
      ]
     },
     "metadata": {},
     "output_type": "display_data"
    }
   ],
   "source": [
    "#ik sliders \n",
    "show_ik_targets = partial(show_ik_target, \n",
    "                          meshcat=meshcat, \n",
    "                          name='endeff_targ', \n",
    "                          )\n",
    "\n",
    "ik_solver = get_ik_problem_solver(plant, \n",
    "                                  plant_context, \n",
    "                                  [plant.GetFrameByName('body')], \n",
    "                                  collision_free=False)\n",
    "sliders_ik = []\n",
    "pos_min = np.array([-0.5,-0.5, 0.01, -np.pi,-np.pi, -np.pi])\n",
    "pos_max = np.array([1.0,0.5, 1, np.pi,np.pi, np.pi])\n",
    "names = ['x', 'y', 'z','rx', 'ry', 'rz']\n",
    "q0 = np.zeros(7)#np.array([ 0.23294, -0.2944 , -0.36706, -1.5944 , -0.16706,  0.     ,\n",
    "       # 1.64567])\n",
    "_ik_positions = np.zeros(6)\n",
    "\n",
    "for i in range(6):\n",
    "    sliders_ik.append(widgets.FloatSlider(min=pos_min[i], \n",
    "                                       max=pos_max[i], \n",
    "                                       value=0.5*(pos_max[i]-pos_min[i])+pos_min[i], \n",
    "                                       description=names[i]))\n",
    "\n",
    "def handle_slider_change_ik(change, idx):\n",
    "    _ik_positions[idx] = change['new']\n",
    "    rot = RotationMatrix.MakeXRotation(_ik_positions[3])@RotationMatrix.MakeYRotation(_ik_positions[4])@RotationMatrix.MakeZRotation(_ik_positions[5])\n",
    "\n",
    "    RollPitchYaw(_ik_positions[3],\n",
    "                       _ik_positions[4],\n",
    "                       _ik_positions[5]).ToRotationMatrix()\n",
    "    tf = RigidTransform(rot, _ik_positions[:3])\n",
    "    show_ik_targets(tf)\n",
    "    res = ik_solver([tf], q0, collision_free=False)\n",
    "    if res is not None:\n",
    "        showres(res)\n",
    "\n",
    "idx = 0\n",
    "for slider in sliders_ik:\n",
    "    slider.observe(partial(handle_slider_change_ik, idx = idx), names='value')\n",
    "    idx+=1\n",
    "\n",
    "for slider in sliders_ik:\n",
    "    display(slider)"
   ]
  },
  {
   "cell_type": "code",
   "execution_count": 8,
   "metadata": {},
   "outputs": [
    {
     "name": "stderr",
     "output_type": "stream",
     "text": [
      "/home/peter/.local/lib/python3.8/site-packages/scipy/__init__.py:143: UserWarning: A NumPy version >=1.19.5 and <1.27.0 is required for this version of SciPy (detected version 1.17.4)\n",
      "  warnings.warn(f\"A NumPy version >={np_minversion} and <{np_maxversion}\"\n"
     ]
    }
   ],
   "source": [
    "from visualization_utils import plot_points, plot_regions\n",
    "from pydrake.all import VPolytope, Role"
   ]
  },
  {
   "cell_type": "code",
   "execution_count": 9,
   "metadata": {},
   "outputs": [],
   "source": [
    "inspector = scene_graph.model_inspector()"
   ]
  },
  {
   "cell_type": "code",
   "execution_count": 10,
   "metadata": {},
   "outputs": [],
   "source": [
    "binL_body = plant.GetBodyFrameIdIfExists(plant.GetBodyByName('bin_base', plant.GetModelInstanceByName('binL')).index())\n",
    "binR_body = plant.GetBodyFrameIdIfExists(plant.GetBodyByName('bin_base', plant.GetModelInstanceByName('binR')).index())\n",
    "sb = plant.GetBodyFrameIdIfExists(plant.GetBodyByName('shelves_body', plant.GetModelInstanceByName('shelves')).index())\n",
    "bodies_of_interest = [binL_body, binR_body, sb]\n",
    "\n",
    "cvx_hulls_of_ROI = []\n",
    "for b in bodies_of_interest:\n",
    "    ids = inspector.GetGeometries(b, Role.kProximity)\n",
    "\n",
    "\n",
    "    vp = [VPolytope(scene_graph.get_query_output_port().Eval(scene_graph_context), id) for id in ids]\n",
    "    verts = np.concatenate(tuple([v.vertices().T for v in vp]), axis=0)\n",
    "    cvx_hulls_of_ROI += [HPolyhedron(VPolytope(verts.T))]\n",
    "plot_regions(meshcat, cvx_hulls_of_ROI, opacity=0.2)"
   ]
  },
  {
   "cell_type": "code",
   "execution_count": 11,
   "metadata": {},
   "outputs": [],
   "source": [
    "#task space sampling\n",
    "from tqdm import tqdm\n",
    "from visibility_utils import get_AABB_cvxhull, sample_in_union_of_polytopes, point_in_regions\n",
    "min, max, cvxh_hpoly = get_AABB_cvxhull(cvx_hulls_of_ROI)\n",
    "\n",
    "# pts =  []\n",
    "# pts += [sample_in_union_of_polytopes(1, cvx_hulls_of_ROI, [min, max]) for i in range(2000)]\n",
    "# plot_points(meshcat, np.array(pts).squeeze(), 'tspts', size=0.01)\n",
    "\n",
    "q0  = np.zeros(7)\n",
    "plant.SetPositions(plant_context, q0)\n",
    "plant.ForcedPublish(plant_context)\n",
    "showres(q0)\n",
    "t0 = plant.EvalBodyPoseInWorld(plant_context,  plant.GetBodyByName(\"body\")).translation()       \n",
    "\n",
    "def task_space_sampler(n_points, M, regions, ik_solver, collision_free = True, MAXIT = 100, q0 = q0, t0 = t0):\n",
    "    q_points = [q0]\n",
    "    t_points = [t0]\n",
    "    for i in tqdm(range(n_points)):\n",
    "        for it in range(MAXIT):\n",
    "            t_point = sample_in_union_of_polytopes(1, cvx_hulls_of_ROI, [min, max]).squeeze() #t_min + t_diff*np.random.rand(3)\n",
    "\n",
    "            idx_closest = np.argmin(np.linalg.norm(np.array(t_points)-t_point))\n",
    "            q0 = q_points[idx_closest]\n",
    "            res = ik_solver([RigidTransform(RotationMatrix(), t_point)], \n",
    "                            q0= q0,\n",
    "                            collision_free = collision_free)\n",
    "            if res is not None and not point_in_regions(res, regions):\n",
    "                q_points.append(res)\n",
    "                t_points.append(t_point)\n",
    "                #print(f\"found point {i}\")\n",
    "                break\n",
    "            if it ==MAXIT:\n",
    "                print(\"[SAMPLER] CANT FIND IK SOLUTION\")\n",
    "                return None\n",
    "    return np.array(q_points[1:]), np.array(t_points[1:])\n",
    "\n",
    "ik_solver_S = get_ik_problem_solver(plant, \n",
    "                                  plant_context, \n",
    "                                  [plant.GetFrameByName('body')], \n",
    "                                  collision_free=True)\n",
    "\n",
    "sample_handle = partial(task_space_sampler, \n",
    "                        ik_solver =ik_solver_S,\n",
    "                        )"
   ]
  },
  {
   "cell_type": "code",
   "execution_count": 12,
   "metadata": {},
   "outputs": [
    {
     "name": "stderr",
     "output_type": "stream",
     "text": [
      " 30%|███       | 30/100 [00:10<00:24,  2.92it/s]\n"
     ]
    },
    {
     "ename": "KeyboardInterrupt",
     "evalue": "",
     "output_type": "error",
     "traceback": [
      "\u001b[0;31m---------------------------------------------------------------------------\u001b[0m",
      "\u001b[0;31mKeyboardInterrupt\u001b[0m                         Traceback (most recent call last)",
      "\u001b[0;32m<ipython-input-12-acc241bb0588>\u001b[0m in \u001b[0;36m<module>\u001b[0;34m\u001b[0m\n\u001b[0;32m----> 1\u001b[0;31m \u001b[0mpts_q\u001b[0m\u001b[0;34m,\u001b[0m \u001b[0mpts_t\u001b[0m \u001b[0;34m=\u001b[0m \u001b[0msample_handle\u001b[0m\u001b[0;34m(\u001b[0m\u001b[0;36m100\u001b[0m\u001b[0;34m,\u001b[0m \u001b[0;34m-\u001b[0m\u001b[0;36m1\u001b[0m\u001b[0;34m,\u001b[0m\u001b[0;34m[\u001b[0m\u001b[0;34m]\u001b[0m\u001b[0;34m)\u001b[0m\u001b[0;34m\u001b[0m\u001b[0;34m\u001b[0m\u001b[0m\n\u001b[0m\u001b[1;32m      2\u001b[0m \u001b[0mplot_points\u001b[0m\u001b[0;34m(\u001b[0m\u001b[0mmeshcat\u001b[0m\u001b[0;34m,\u001b[0m \u001b[0mpts_t\u001b[0m\u001b[0;34m.\u001b[0m\u001b[0msqueeze\u001b[0m\u001b[0;34m(\u001b[0m\u001b[0;34m)\u001b[0m\u001b[0;34m,\u001b[0m \u001b[0;34m'tspts'\u001b[0m\u001b[0;34m,\u001b[0m \u001b[0msize\u001b[0m\u001b[0;34m=\u001b[0m\u001b[0;36m0.01\u001b[0m\u001b[0;34m)\u001b[0m\u001b[0;34m\u001b[0m\u001b[0;34m\u001b[0m\u001b[0m\n",
      "\u001b[0;32m<ipython-input-11-912ecee1771a>\u001b[0m in \u001b[0;36mtask_space_sampler\u001b[0;34m(n_points, M, regions, ik_solver, collision_free, MAXIT, q0, t0)\u001b[0m\n\u001b[1;32m     23\u001b[0m             \u001b[0midx_closest\u001b[0m \u001b[0;34m=\u001b[0m \u001b[0mnp\u001b[0m\u001b[0;34m.\u001b[0m\u001b[0margmin\u001b[0m\u001b[0;34m(\u001b[0m\u001b[0mnp\u001b[0m\u001b[0;34m.\u001b[0m\u001b[0mlinalg\u001b[0m\u001b[0;34m.\u001b[0m\u001b[0mnorm\u001b[0m\u001b[0;34m(\u001b[0m\u001b[0mnp\u001b[0m\u001b[0;34m.\u001b[0m\u001b[0marray\u001b[0m\u001b[0;34m(\u001b[0m\u001b[0mt_points\u001b[0m\u001b[0;34m)\u001b[0m\u001b[0;34m-\u001b[0m\u001b[0mt_point\u001b[0m\u001b[0;34m)\u001b[0m\u001b[0;34m)\u001b[0m\u001b[0;34m\u001b[0m\u001b[0;34m\u001b[0m\u001b[0m\n\u001b[1;32m     24\u001b[0m             \u001b[0mq0\u001b[0m \u001b[0;34m=\u001b[0m \u001b[0mq_points\u001b[0m\u001b[0;34m[\u001b[0m\u001b[0midx_closest\u001b[0m\u001b[0;34m]\u001b[0m\u001b[0;34m\u001b[0m\u001b[0;34m\u001b[0m\u001b[0m\n\u001b[0;32m---> 25\u001b[0;31m             res = ik_solver([RigidTransform(RotationMatrix(), t_point)], \n\u001b[0m\u001b[1;32m     26\u001b[0m                             \u001b[0mq0\u001b[0m\u001b[0;34m=\u001b[0m \u001b[0mq0\u001b[0m\u001b[0;34m,\u001b[0m\u001b[0;34m\u001b[0m\u001b[0;34m\u001b[0m\u001b[0m\n\u001b[1;32m     27\u001b[0m                             collision_free = collision_free)\n",
      "\u001b[0;32m<ipython-input-4-4f01ef0de68e>\u001b[0m in \u001b[0;36msolve_ik_problem\u001b[0;34m(poses, q0, collision_free)\u001b[0m\n\u001b[1;32m     33\u001b[0m         \u001b[0mprog\u001b[0m\u001b[0;34m.\u001b[0m\u001b[0mAddQuadraticErrorCost\u001b[0m\u001b[0;34m(\u001b[0m\u001b[0mnp\u001b[0m\u001b[0;34m.\u001b[0m\u001b[0midentity\u001b[0m\u001b[0;34m(\u001b[0m\u001b[0mlen\u001b[0m\u001b[0;34m(\u001b[0m\u001b[0mq\u001b[0m\u001b[0;34m)\u001b[0m\u001b[0;34m)\u001b[0m\u001b[0;34m,\u001b[0m \u001b[0mq0\u001b[0m\u001b[0;34m,\u001b[0m \u001b[0mq\u001b[0m\u001b[0;34m)\u001b[0m\u001b[0;34m\u001b[0m\u001b[0;34m\u001b[0m\u001b[0m\n\u001b[1;32m     34\u001b[0m         \u001b[0mprog\u001b[0m\u001b[0;34m.\u001b[0m\u001b[0mSetInitialGuess\u001b[0m\u001b[0;34m(\u001b[0m\u001b[0mq\u001b[0m\u001b[0;34m,\u001b[0m \u001b[0mq0\u001b[0m\u001b[0;34m)\u001b[0m\u001b[0;34m\u001b[0m\u001b[0;34m\u001b[0m\u001b[0m\n\u001b[0;32m---> 35\u001b[0;31m         \u001b[0mresult\u001b[0m \u001b[0;34m=\u001b[0m \u001b[0mSolve\u001b[0m\u001b[0;34m(\u001b[0m\u001b[0mik\u001b[0m\u001b[0;34m.\u001b[0m\u001b[0mprog\u001b[0m\u001b[0;34m(\u001b[0m\u001b[0;34m)\u001b[0m\u001b[0;34m)\u001b[0m\u001b[0;34m\u001b[0m\u001b[0;34m\u001b[0m\u001b[0m\n\u001b[0m\u001b[1;32m     36\u001b[0m         \u001b[0;32mif\u001b[0m \u001b[0mresult\u001b[0m\u001b[0;34m.\u001b[0m\u001b[0mis_success\u001b[0m\u001b[0;34m(\u001b[0m\u001b[0;34m)\u001b[0m\u001b[0;34m:\u001b[0m\u001b[0;34m\u001b[0m\u001b[0;34m\u001b[0m\u001b[0m\n\u001b[1;32m     37\u001b[0m                 \u001b[0;32mreturn\u001b[0m \u001b[0mresult\u001b[0m\u001b[0;34m.\u001b[0m\u001b[0mGetSolution\u001b[0m\u001b[0;34m(\u001b[0m\u001b[0mq\u001b[0m\u001b[0;34m)\u001b[0m\u001b[0;34m\u001b[0m\u001b[0;34m\u001b[0m\u001b[0m\n",
      "\u001b[0;31mKeyboardInterrupt\u001b[0m: "
     ]
    }
   ],
   "source": [
    "pts_q, pts_t = sample_handle(100, -1,[])\n",
    "plot_points(meshcat, pts_t.squeeze(), 'tspts', size=0.01)"
   ]
  },
  {
   "cell_type": "code",
   "execution_count": 24,
   "metadata": {},
   "outputs": [],
   "source": [
    "import time\n",
    "for q in pts_q:\n",
    "    showres(q)\n",
    "    time.sleep(0.1)"
   ]
  },
  {
   "cell_type": "code",
   "execution_count": 17,
   "metadata": {},
   "outputs": [],
   "source": [
    "for i, v in enumerate(vp):\n",
    "    plot_points(meshcat, v.vertices().T, f\"vp{i}\")"
   ]
  },
  {
   "cell_type": "code",
   "execution_count": 74,
   "metadata": {},
   "outputs": [],
   "source": [
    "ids = Inspector.GetGeometries(binL_body)\n",
    "shapes = [Inspector.GetShape(id) for id in ids]"
   ]
  },
  {
   "cell_type": "code",
   "execution_count": 32,
   "metadata": {},
   "outputs": [
    {
     "data": {
      "text/plain": [
       "BodyIndex(15)"
      ]
     },
     "execution_count": 32,
     "metadata": {},
     "output_type": "execute_result"
    }
   ],
   "source": []
  },
  {
   "cell_type": "code",
   "execution_count": 99,
   "metadata": {},
   "outputs": [
    {
     "data": {
      "text/plain": [
       "<pydrake.geometry.QueryObject at 0x7f5240f27ab0>"
      ]
     },
     "execution_count": 99,
     "metadata": {},
     "output_type": "execute_result"
    }
   ],
   "source": []
  },
  {
   "cell_type": "code",
   "execution_count": 100,
   "metadata": {},
   "outputs": [
    {
     "data": {
      "text/plain": [
       "<pydrake.geometry.optimization.VPolytope at 0x7f5240f34b70>"
      ]
     },
     "execution_count": 100,
     "metadata": {},
     "output_type": "execute_result"
    }
   ],
   "source": []
  },
  {
   "cell_type": "code",
   "execution_count": null,
   "metadata": {},
   "outputs": [],
   "source": []
  },
  {
   "cell_type": "code",
   "execution_count": 78,
   "metadata": {},
   "outputs": [],
   "source": [
    "from pydrake.all import PolygonSurfaceMesh"
   ]
  },
  {
   "cell_type": "code",
   "execution_count": 66,
   "metadata": {},
   "outputs": [
    {
     "data": {
      "text/plain": [
       "<RigidBody name='top_and_bottom' index=16 model_instance=4>"
      ]
     },
     "execution_count": 66,
     "metadata": {},
     "output_type": "execute_result"
    }
   ],
   "source": [
    "plant.GetBodyByName('shelves_body', plant.GetModelInstanceByName('shelves'))\n",
    "plant.GetBodyByName('top_and_bottom', plant.GetModelInstanceByName('shelves'))\n"
   ]
  },
  {
   "cell_type": "code",
   "execution_count": 46,
   "metadata": {},
   "outputs": [
    {
     "ename": "TypeError",
     "evalue": "GetFrameId(): incompatible function arguments. The following argument types are supported:\n    1. (self: pydrake.geometry.SceneGraphInspector, geometry_id: pydrake.geometry.GeometryId) -> pydrake.geometry.FrameId\n\nInvoked with: <pydrake.geometry.SceneGraphInspector object at 0x7f524109b770>",
     "output_type": "error",
     "traceback": [
      "\u001b[0;31m---------------------------------------------------------------------------\u001b[0m",
      "\u001b[0;31mTypeError\u001b[0m                                 Traceback (most recent call last)",
      "\u001b[0;32m<ipython-input-46-8beb52077fb1>\u001b[0m in \u001b[0;36m<module>\u001b[0;34m\u001b[0m\n\u001b[0;32m----> 1\u001b[0;31m \u001b[0mInspector\u001b[0m\u001b[0;34m.\u001b[0m\u001b[0mGetFrameId\u001b[0m\u001b[0;34m(\u001b[0m\u001b[0;34m)\u001b[0m\u001b[0;34m\u001b[0m\u001b[0;34m\u001b[0m\u001b[0m\n\u001b[0m",
      "\u001b[0;31mTypeError\u001b[0m: GetFrameId(): incompatible function arguments. The following argument types are supported:\n    1. (self: pydrake.geometry.SceneGraphInspector, geometry_id: pydrake.geometry.GeometryId) -> pydrake.geometry.FrameId\n\nInvoked with: <pydrake.geometry.SceneGraphInspector object at 0x7f524109b770>"
     ]
    }
   ],
   "source": [
    "Inspector.GetFrameId()"
   ]
  },
  {
   "cell_type": "code",
   "execution_count": 31,
   "metadata": {},
   "outputs": [],
   "source": [
    "from pydrake.all import GlobalInverseKinematics"
   ]
  },
  {
   "cell_type": "code",
   "execution_count": 51,
   "metadata": {},
   "outputs": [
    {
     "ename": "TypeError",
     "evalue": "GetGeometryIdByName(): incompatible function arguments. The following argument types are supported:\n    1. (self: pydrake.geometry.SceneGraphInspector, frame_id: pydrake.geometry.FrameId, role: pydrake.geometry.Role, name: str) -> pydrake.geometry.GeometryId\n\nInvoked with: <pydrake.geometry.SceneGraphInspector object at 0x7f524109b770>",
     "output_type": "error",
     "traceback": [
      "\u001b[0;31m---------------------------------------------------------------------------\u001b[0m",
      "\u001b[0;31mTypeError\u001b[0m                                 Traceback (most recent call last)",
      "\u001b[0;32m<ipython-input-51-c0a9f9660cc0>\u001b[0m in \u001b[0;36m<module>\u001b[0;34m\u001b[0m\n\u001b[0;32m----> 1\u001b[0;31m \u001b[0mInspector\u001b[0m\u001b[0;34m.\u001b[0m\u001b[0mGetGeometryIdByName\u001b[0m\u001b[0;34m(\u001b[0m\u001b[0;34m)\u001b[0m\u001b[0;34m\u001b[0m\u001b[0;34m\u001b[0m\u001b[0m\n\u001b[0m",
      "\u001b[0;31mTypeError\u001b[0m: GetGeometryIdByName(): incompatible function arguments. The following argument types are supported:\n    1. (self: pydrake.geometry.SceneGraphInspector, frame_id: pydrake.geometry.FrameId, role: pydrake.geometry.Role, name: str) -> pydrake.geometry.GeometryId\n\nInvoked with: <pydrake.geometry.SceneGraphInspector object at 0x7f524109b770>"
     ]
    }
   ],
   "source": [
    "Inspector.Get()"
   ]
  },
  {
   "cell_type": "code",
   "execution_count": 17,
   "metadata": {},
   "outputs": [],
   "source": [
    "g_ik = GlobalInverseKinematics(plant)"
   ]
  },
  {
   "cell_type": "code",
   "execution_count": 22,
   "metadata": {},
   "outputs": [
    {
     "ename": "NameError",
     "evalue": "name 'tf' is not defined",
     "output_type": "error",
     "traceback": [
      "\u001b[0;31m---------------------------------------------------------------------------\u001b[0m",
      "\u001b[0;31mNameError\u001b[0m                                 Traceback (most recent call last)",
      "\u001b[0;32m<ipython-input-22-13b072dfc13a>\u001b[0m in \u001b[0;36m<module>\u001b[0;34m\u001b[0m\n\u001b[1;32m      1\u001b[0m g_ik.AddWorldPositionConstraint(plant.GetBodyByName('base').index(), \n\u001b[1;32m      2\u001b[0m                                 \u001b[0mnp\u001b[0m\u001b[0;34m.\u001b[0m\u001b[0mzeros\u001b[0m\u001b[0;34m(\u001b[0m\u001b[0;36m3\u001b[0m\u001b[0;34m)\u001b[0m\u001b[0;34m,\u001b[0m\u001b[0;34m\u001b[0m\u001b[0;34m\u001b[0m\u001b[0m\n\u001b[0;32m----> 3\u001b[0;31m                                 \u001b[0mtf\u001b[0m\u001b[0;34m.\u001b[0m\u001b[0mtranslation\u001b[0m\u001b[0;34m(\u001b[0m\u001b[0;34m)\u001b[0m\u001b[0;34m-\u001b[0m\u001b[0;36m0.05\u001b[0m\u001b[0;34m,\u001b[0m\u001b[0;34m\u001b[0m\u001b[0;34m\u001b[0m\u001b[0m\n\u001b[0m\u001b[1;32m      4\u001b[0m                                 tf.translation()+0.05,)\n",
      "\u001b[0;31mNameError\u001b[0m: name 'tf' is not defined"
     ]
    }
   ],
   "source": [
    "g_ik.AddWorldPositionConstraint(plant.GetBodyByName('base').index(), \n",
    "                                np.zeros(3),\n",
    "                                tf.translation()-0.05,\n",
    "                                tf.translation()+0.05,)"
   ]
  },
  {
   "cell_type": "code",
   "execution_count": null,
   "metadata": {},
   "outputs": [],
   "source": [
    "def get_gik_problem_solver(plant_ik, plant_context_ik, body_indices, collision_free= False):\n",
    "    def solve_gik_problem(poses, q0, collision_free = collision_free):\n",
    "        q_min = plant.GetPositionLowerLimits()\n",
    "        q_max = plant.GetPositionUpperLimits()\n",
    "        q_diff =  q_max-q_min\n",
    "        gik = GlobalInverseKinematics(plant_ik)\n",
    "        #GlobalInverseKinematics(plant_ik) #InverseKinematics(plant_ik, plant_context_ik)\n",
    "    \n",
    "        for pose, b in zip(poses, body_indices):\n",
    "            gik.AddWorldPositionConstraint(\n",
    "                b,\n",
    "                np.zeros(3),\n",
    "                plant_ik.world_frame(),\n",
    "                pose.translation()-0.05,\n",
    "                pose.translation()+0.05,\n",
    "            )\n",
    "            # ik.AddWorldPositionConstraint(plant.GetBodyByName('ur_tool0').index(), \n",
    "            #                               pose.translation(),\n",
    "            #                               pose.translation()-0.05,\n",
    "            #                               pose.translation()+0.05)\n",
    "            gik.AddOrientationConstraint(\n",
    "                f,\n",
    "                RotationMatrix(),\n",
    "                plant_ik.world_frame(),\n",
    "                pose.rotation(),\n",
    "                0.01,\n",
    "            )\n",
    "        prog = ik.get_mutable_prog()\n",
    "        q = ik.q()\n",
    "        prog.AddQuadraticErrorCost(np.identity(len(q)), q0, q)\n",
    "        prog.SetInitialGuess(q, q0)\n",
    "        result = Solve(ik.prog())\n",
    "        if result.is_success():\n",
    "                return result.GetSolution(q)\n",
    "        return None\n",
    "    return solve_ik_problem"
   ]
  },
  {
   "cell_type": "code",
   "execution_count": 18,
   "metadata": {},
   "outputs": [
    {
     "data": {
      "text/plain": [
       "['AddPostureCost',\n",
       " 'AddWorldOrientationConstraint',\n",
       " 'AddWorldPositionConstraint',\n",
       " 'AddWorldRelativePositionConstraint',\n",
       " 'Options',\n",
       " 'ReconstructGeneralizedPositionSolution',\n",
       " 'SetInitialGuess',\n",
       " '__class__',\n",
       " '__del__',\n",
       " '__delattr__',\n",
       " '__dir__',\n",
       " '__doc__',\n",
       " '__eq__',\n",
       " '__format__',\n",
       " '__ge__',\n",
       " '__getattribute__',\n",
       " '__gt__',\n",
       " '__hash__',\n",
       " '__init__',\n",
       " '__init_subclass__',\n",
       " '__le__',\n",
       " '__lt__',\n",
       " '__module__',\n",
       " '__ne__',\n",
       " '__new__',\n",
       " '__reduce__',\n",
       " '__reduce_ex__',\n",
       " '__repr__',\n",
       " '__setattr__',\n",
       " '__sizeof__',\n",
       " '__str__',\n",
       " '__subclasshook__',\n",
       " '_pybind11_del_orig',\n",
       " 'body_position',\n",
       " 'body_rotation_matrix',\n",
       " 'get_mutable_prog',\n",
       " 'prog']"
      ]
     },
     "execution_count": 18,
     "metadata": {},
     "output_type": "execute_result"
    }
   ],
   "source": [
    "dir(g_ik)"
   ]
  },
  {
   "cell_type": "code",
   "execution_count": 27,
   "metadata": {},
   "outputs": [
    {
     "data": {
      "text/plain": [
       "GlobalInverseKinematics.Options(num_intervals_per_half_axis=2, approach=Approach.kBilinearMcCormick, interval_binning=IntervalBinning.kLogarithmic, linear_constraint_only=False)"
      ]
     },
     "execution_count": 27,
     "metadata": {},
     "output_type": "execute_result"
    }
   ],
   "source": [
    "GlobalInverseKinematics.Options()"
   ]
  },
  {
   "cell_type": "code",
   "execution_count": null,
   "metadata": {},
   "outputs": [],
   "source": []
  },
  {
   "cell_type": "code",
   "execution_count": 13,
   "metadata": {},
   "outputs": [
    {
     "data": {
      "application/vnd.jupyter.widget-view+json": {
       "model_id": "83478ac6aeca4b5facfd2180d234908b",
       "version_major": 2,
       "version_minor": 0
      },
      "text/plain": [
       "FloatSlider(value=0.0, description='x', max=1.0, min=-0.5)"
      ]
     },
     "metadata": {},
     "output_type": "display_data"
    },
    {
     "data": {
      "application/vnd.jupyter.widget-view+json": {
       "model_id": "93154d84c9bd45fc9342d0f776c40ed7",
       "version_major": 2,
       "version_minor": 0
      },
      "text/plain": [
       "FloatSlider(value=0.0, description='y', max=0.5, min=-0.5)"
      ]
     },
     "metadata": {},
     "output_type": "display_data"
    },
    {
     "data": {
      "application/vnd.jupyter.widget-view+json": {
       "model_id": "2f0997b799224fb89835022eaf44188f",
       "version_major": 2,
       "version_minor": 0
      },
      "text/plain": [
       "FloatSlider(value=0.01, description='z', max=1.0, min=0.01)"
      ]
     },
     "metadata": {},
     "output_type": "display_data"
    },
    {
     "data": {
      "application/vnd.jupyter.widget-view+json": {
       "model_id": "e4dd2836b29949d2a8b7da4a3dcae673",
       "version_major": 2,
       "version_minor": 0
      },
      "text/plain": [
       "FloatSlider(value=0.0, description='rx', max=3.141592653589793, min=-3.141592653589793)"
      ]
     },
     "metadata": {},
     "output_type": "display_data"
    },
    {
     "data": {
      "application/vnd.jupyter.widget-view+json": {
       "model_id": "e804c3181a9548828e85c23d749290e8",
       "version_major": 2,
       "version_minor": 0
      },
      "text/plain": [
       "FloatSlider(value=0.0, description='ry', max=3.141592653589793, min=-3.141592653589793)"
      ]
     },
     "metadata": {},
     "output_type": "display_data"
    },
    {
     "data": {
      "application/vnd.jupyter.widget-view+json": {
       "model_id": "415989923be54a3092a7ab597918d540",
       "version_major": 2,
       "version_minor": 0
      },
      "text/plain": [
       "FloatSlider(value=0.0, description='rz', max=3.141592653589793, min=-3.141592653589793)"
      ]
     },
     "metadata": {},
     "output_type": "display_data"
    }
   ],
   "source": []
  },
  {
   "cell_type": "code",
   "execution_count": null,
   "metadata": {},
   "outputs": [],
   "source": []
  },
  {
   "cell_type": "code",
   "execution_count": null,
   "metadata": {},
   "outputs": [],
   "source": []
  },
  {
   "cell_type": "code",
   "execution_count": null,
   "metadata": {},
   "outputs": [],
   "source": []
  },
  {
   "cell_type": "code",
   "execution_count": null,
   "metadata": {},
   "outputs": [],
   "source": []
  },
  {
   "cell_type": "code",
   "execution_count": null,
   "metadata": {},
   "outputs": [],
   "source": []
  },
  {
   "cell_type": "code",
   "execution_count": null,
   "metadata": {},
   "outputs": [],
   "source": []
  },
  {
   "cell_type": "code",
   "execution_count": null,
   "metadata": {},
   "outputs": [],
   "source": []
  },
  {
   "cell_type": "code",
   "execution_count": null,
   "metadata": {},
   "outputs": [],
   "source": []
  },
  {
   "cell_type": "code",
   "execution_count": null,
   "metadata": {},
   "outputs": [],
   "source": []
  },
  {
   "cell_type": "code",
   "execution_count": null,
   "metadata": {},
   "outputs": [],
   "source": [
    "# start = np.array([-2.06706, -0.3944 ,  1.43294,  0.9056 ,  0.53294, -0.8944 ,\n",
    "#         0.74567])\n",
    "# end = np.array([ 1.23294, -0.1944 ,  0.     ,  1.6056 ,  1.43294,  1.1056 ,\n",
    "#         0.24567])\n",
    "\n",
    "poi =np.array([\n",
    "    #[-2.06706, -0.3944 ,  1.43294,  0.9056 ,  0.53294, -0.8944 ,\n",
    "     #   0.74567],\n",
    "        [ 1.83294, -0.0944 , -0.06706, -1.2944 ,  1.53294,  1.4056 ,\n",
    "        0.34567],\n",
    "        [ 1.23294, -0.1944 ,  0.     ,  1.6056 ,  1.43294,  1.1056 ,\n",
    "        0.24567],\n",
    "        [ 1.23294, -0.1944 ,  0.     ,  1.1056 ,  1.43294,  1.1056 ,\n",
    "       -0.15433],\n",
    "       [ 1.23294, -0.4944 , -0.06706,  2.0056 ,  1.23294,  1.3056 ,\n",
    "        0.94567],\n",
    "        \n",
    "        [ 1.83294,  0.3056 , -0.06706, -1.3944 ,  1.53294,  1.4056 ,\n",
    "       -0.05433],\n",
    "       [ 1.63294,  0.7056 ,  0.23294, -1.6944 ,  1.53294,  1.2056 ,\n",
    "       -0.65433]])\n",
    "showres(poi[0])"
   ]
  },
  {
   "cell_type": "code",
   "execution_count": null,
   "metadata": {},
   "outputs": [],
   "source": [
    "import os \n",
    "'experiment_7dof_iiwa__1_1500_0.300greedy20230908201834' in os.listdir('logs')"
   ]
  },
  {
   "cell_type": "code",
   "execution_count": null,
   "metadata": {},
   "outputs": [],
   "source": [
    "import pickle\n",
    "path = 'logs_icra_paper/experiment_7dof_iiwa__1_1500_0.300greedy20230908201834'\n",
    "with open(path+'/data/it_2.pkl', 'rb') as f:\n",
    "    data = pickle.load(f)\n",
    "\n",
    "regions = []\n",
    "for ga,gb in zip(data['ra'], data['rb']):\n",
    "    for a,b in zip(ga,gb):\n",
    "        regions.append(HPolyhedron(a,b))\n",
    "regions = regions[:43]"
   ]
  },
  {
   "cell_type": "code",
   "execution_count": null,
   "metadata": {},
   "outputs": [],
   "source": [
    "from visibility_utils import point_in_regions\n",
    "for p in poi:\n",
    "    print(point_in_regions(p, regions))"
   ]
  },
  {
   "cell_type": "code",
   "execution_count": null,
   "metadata": {},
   "outputs": [],
   "source": [
    "from region_generation import SNOPT_IRIS_obstacles\n",
    "def estimate_coverage(r):\n",
    "    return 0\n",
    "snopt_iris_options = IrisOptions()\n",
    "snopt_iris_options.require_sample_point_is_contained = True\n",
    "snopt_iris_options.iteration_limit = 6\n",
    "snopt_iris_options.configuration_space_margin = 2e-3\n",
    "#snopt_iris_options.max_faces_per_collision_pair = 60\n",
    "snopt_iris_options.termination_threshold = -1\n",
    "#snopt_iris_options.q_star = np.zeros(3)\n",
    "snopt_iris_options.num_collision_infeasible_samples = 15\n",
    "snopt_iris_options.relative_termination_threshold = 0.02\n",
    "\n",
    "iris_handle = partial(SNOPT_IRIS_obstacles, \n",
    "                        logger = None, \n",
    "                        plant = plant, \n",
    "                        context = diagram_context,\n",
    "                        snoptiris_options = snopt_iris_options,\n",
    "                        estimate_coverage = estimate_coverage,\n",
    "                        coverage_threshold = 1)\n",
    "\n",
    "\n",
    "showres(poi[4,:])\n",
    "\n",
    "# 213  054\n",
    "seq = [2,1,3,5,4,0,2] \n",
    "# r_poi,_ = iris_handle(poi, [], [])\n",
    "#r_poi = [r1[0],r2[0]]\n",
    "# with open('rpoi_3shelf.pkl', 'wb') as f:\n",
    "#     ra = [r.A() for r in r_poi]\n",
    "#     rb = [r.b() for r in r_poi]\n",
    "#     pickle.dump([ra, rb], f)"
   ]
  },
  {
   "cell_type": "code",
   "execution_count": null,
   "metadata": {},
   "outputs": [],
   "source": [
    "import pickle\n",
    "with open('tmp/rpoi_3shelf.pkl', 'rb') as f:\n",
    "    rpoilist = pickle.load(f)\n",
    "\n",
    "r_poi = []\n",
    "for ra, rb in zip(rpoilist[0], rpoilist[1]):\n",
    "    r_poi.append(HPolyhedron(ra,rb))\n",
    "    ra = [r.A() for r in r_poi]\n",
    "    rb = [r.b() for r in r_poi]\n",
    "    #pickle.dump([ra, rb], f)"
   ]
  },
  {
   "cell_type": "code",
   "execution_count": null,
   "metadata": {},
   "outputs": [],
   "source": [
    "import networkx as nx\n",
    "import matplotlib.pyplot as plt\n",
    "from visibility_utils import generate_distinct_colors\n",
    "\n",
    "regs = regions+r_poi\n",
    "connectivity_graph = nx.Graph()\n",
    "for idx in range(len(regs)):\n",
    "    connectivity_graph.add_node(idx)\n",
    "\n",
    "\n",
    "for idx1 in range(len(regs)):\n",
    "    for idx2 in range(idx1 +1, len(regs)):\n",
    "        r1 = regs[idx1]\n",
    "        r2 = regs[idx2]\n",
    "        if r1.IntersectsWith(r2):\n",
    "            connectivity_graph.add_edge(idx1,idx2)\n",
    "\n",
    "largest_con_comp = list(list(nx.connected_components(connectivity_graph))[0])\n",
    "regions_connected_component = [regs[i] for i in largest_con_comp]\n",
    "\n",
    "fig = plt.figure(figsize=(10,10))\n",
    "hues = generate_distinct_colors(2+1)[1:]\n",
    "colors = []\n",
    "for g, h in zip([regions, r_poi], hues):\n",
    "    colors += [h]*len(g)\n",
    "\n",
    "nx.draw_spring(connectivity_graph, \n",
    "                with_labels = True, \n",
    "                node_color = colors)\n",
    "plt.title(f\"connectivity\")\n",
    "\n",
    "def densify_waypoints(waypoints_q, densify = 200):\n",
    "    dists = []\n",
    "    dense_waypoints = []\n",
    "    for idx in range(len(waypoints_q[:-1])):\n",
    "        a = waypoints_q[idx]\n",
    "        b = waypoints_q[idx+1]\n",
    "        t = np.linspace(1,0, 10)\n",
    "        locs_endeff = []\n",
    "        dists_endeff = []\n",
    "        for tval in t:\n",
    "            a = a*tval + b*(1-tval)\n",
    "            qa = a#Ratfk.ComputeQValue(ta, np.zeros(7))\n",
    "            #showres(qa)\n",
    "            #time.sleep(0.1)            \n",
    "            plant.SetPositions(plant_context, qa)\n",
    "            tf_tot= plant.EvalBodyPoseInWorld(plant_context, plant.get_body(pydrake.multibody.tree.BodyIndex(9)))\n",
    "            tf = tf_tot.translation() + tf_tot.GetAsMatrix4()[:3,:3][:,1] *0.13\n",
    "            locs_endeff.append(tf)\n",
    "        for i in range(len(locs_endeff)-1):\n",
    "            dists_endeff.append(np.linalg.norm(locs_endeff[i]- locs_endeff[i+1]))\n",
    "        d = np.sum(dists_endeff)\n",
    "        #print(d * densify)\n",
    "        t = np.linspace(1,0,int(densify*d))\n",
    "        for tval in t:\n",
    "            dense_waypoints.append(waypoints_q[idx]*tval + waypoints_q[idx+1]*(1-tval))\n",
    "    return dense_waypoints\n",
    "\n",
    "def plot_endeff_traj_s(dense,name = '', color = (1,0,0,1)):\n",
    "    plot_endeff_traj(np.array([Ratfk.ComputeQValue(w,np.zeros(7)) for w in dense]), name, color)\n",
    "\n",
    "def plot_endeff_traj(dense_waypoints, name = '', color= (1,0,0,1)):\n",
    "    color = Rgba(color[0], color[1], color[2], color[3])\n",
    "    start_idx = 0\n",
    "    for i, qa in enumerate(dense_waypoints):\n",
    "        #qa = Ratfk.ComputeQValue(ta, np.zeros(7))\n",
    "        #showres(qa)\n",
    "        #time.sleep(0.1)            \n",
    "        plant.SetPositions(plant_context, qa)\n",
    "        tf_tot= plant.EvalBodyPoseInWorld(plant_context, plant.get_body(pydrake.multibody.tree.BodyIndex(9)))\n",
    "        tf = tf_tot.translation() + tf_tot.GetAsMatrix4()[:3,:3][:,1] *0.13\n",
    "\n",
    "        meshcat.SetObject(f\"/iris/points/traj/{name}/{i+start_idx}\",\n",
    "                               Sphere(0.01),\n",
    "                               color)\n",
    "\n",
    "        meshcat.SetTransform(f\"/iris/points/traj/{name}/{i+start_idx}\",\n",
    "                                   RigidTransform(RotationMatrix(),\n",
    "                                                  tf))"
   ]
  },
  {
   "cell_type": "code",
   "execution_count": null,
   "metadata": {},
   "outputs": [],
   "source": [
    "def conversion_dummy(q):\n",
    "    return q\n",
    "import dijkstraspp\n",
    "dspp = dijkstraspp.DijkstraSPPsolver(regions + r_poi, conversion_dummy)\n",
    "# import pickle\n",
    "# dsppname = \"7dofnew_dspp_small.pkl\"\n",
    "# with open(dsppname, 'rb') as f:\n",
    "#     dspp = pickle.load( f)\n",
    "import pickle\n",
    "dsppname = \"tmp/7dofnew_dspp_small.pkl\"\n",
    "with open(dsppname, 'wb') as f:\n",
    "    pickle.dump(dspp, f)"
   ]
  },
  {
   "cell_type": "code",
   "execution_count": null,
   "metadata": {},
   "outputs": [],
   "source": [
    "colors = [(1,0,0,1),(1,1,0,1),\n",
    "(0,1,0,1),\n",
    "(0,1,1,1),\n",
    "(0,0,1,1),\n",
    "(1,0,1,1),\n",
    "]\n",
    "\n",
    "meshcat.Delete(\"/iris/points/traj/\")\n",
    "for idx,i in enumerate(seq[:-1]):\n",
    "    wp, dist = dspp.solve(poi[i,:], poi[seq[idx+1],:], refine_path = True)\n",
    "    wpd = densify_waypoints(wp)\n",
    "    plot_endeff_traj(wpd, str(i), colors[i])\n",
    "\n",
    "\n"
   ]
  },
  {
   "cell_type": "code",
   "execution_count": null,
   "metadata": {},
   "outputs": [],
   "source": [
    "from pydrake.all import Mesh\n",
    "a = Mesh('display_signs/7dof_sign_arxiv.gltf')\n",
    "meshcat.SetObject('/instructionsign', a)\n",
    "meshcat.SetTransform('/instructionsign',RigidTransform(\n",
    "                            RotationMatrix.MakeZRotation(-np.pi/2)@RotationMatrix.MakeXRotation(-np.pi/2), \n",
    "                            np.array([0, 10 , 0])))"
   ]
  },
  {
   "cell_type": "code",
   "execution_count": null,
   "metadata": {},
   "outputs": [],
   "source": [
    "frame_time = 1/32.0\n",
    "cur_time = 0\n",
    "meshcat.SetProperty(f\"/Grid\", \"visible\", False)\n",
    "meshcat.SetProperty(f\"/drake/visualizer/shunk\", \"visible\", False)\n",
    "meshcat.StartRecording()\n",
    "animation = meshcat.get_mutable_recording()\n",
    "for i in range(20):\n",
    "    wp, dist = dspp.solve(poi[seq[(i)%len(seq)],:], poi[seq[(i+1)%len(seq)],:], refine_path = True)\n",
    "    wpd = densify_waypoints(wp, 50)\n",
    "    for qa in wpd:\n",
    "        showres(qa)\n",
    "        diagram_context.SetTime(cur_time)\n",
    "        if col_func_handle(qa):\n",
    "            print('col')\n",
    "        cur_time+=frame_time\n",
    "        time.sleep(frame_time)\n",
    "meshcat.StopRecording()\n",
    "animation.set_autoplay(True)\n",
    "meshcat.PublishRecording()\n",
    "with open(\"static_htmls/7DOF_IIWA_arxiv.html\", \"w+\") as f:\n",
    "    f.write(meshcat.StaticHtml())"
   ]
  },
  {
   "cell_type": "code",
   "execution_count": null,
   "metadata": {},
   "outputs": [],
   "source": [
    "def plot_endeff_traj_s(dense,name = '', color = (1,0,0,1)):\n",
    "    plot_endeff_traj(np.array([Ratfk.ComputeQValue(w,np.zeros(7)) for w in dense]), name, color)\n",
    "\n",
    "def plot_endeff_traj(dense_waypoints, name = '', color= (1,0,0,1)):\n",
    "    color = Rgba(color[0], color[1], color[2], color[3])\n",
    "    start_idx = 0\n",
    "    for i, qa in enumerate(dense_waypoints):\n",
    "        #qa = Ratfk.ComputeQValue(ta, np.zeros(7))\n",
    "        #showres(qa)\n",
    "        #time.sleep(0.1)            \n",
    "        plant.SetPositions(plant_context, qa)\n",
    "        tf_tot= plant.EvalBodyPoseInWorld(plant_context, plant.get_body(pydrake.multibody.tree.BodyIndex(9)))\n",
    "        tf = tf_tot.translation() + tf_tot.GetAsMatrix4()[:3,:3][:,1] *0.13\n",
    "\n",
    "        meshcat.SetObject(f\"/iris/points/traj/{name}/{i+start_idx}\",\n",
    "                               Sphere(0.01),\n",
    "                               color)\n",
    "\n",
    "        meshcat.SetTransform(f\"/iris/points/traj/{name}/{i+start_idx}\",\n",
    "                                   RigidTransform(RotationMatrix(),\n",
    "                                                  tf))"
   ]
  },
  {
   "cell_type": "code",
   "execution_count": null,
   "metadata": {},
   "outputs": [],
   "source": []
  }
 ],
 "metadata": {
  "kernelspec": {
   "display_name": "Python 3",
   "language": "python",
   "name": "python3"
  },
  "language_info": {
   "codemirror_mode": {
    "name": "ipython",
    "version": 3
   },
   "file_extension": ".py",
   "mimetype": "text/x-python",
   "name": "python",
   "nbconvert_exporter": "python",
   "pygments_lexer": "ipython3",
   "version": "3.8.10"
  },
  "orig_nbformat": 4
 },
 "nbformat": 4,
 "nbformat_minor": 2
}
