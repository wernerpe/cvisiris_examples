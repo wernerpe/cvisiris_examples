{
 "cells": [
  {
   "cell_type": "code",
   "execution_count": 1,
   "metadata": {},
   "outputs": [],
   "source": [
    "import numpy as np\n",
    "from functools import partial\n",
    "import ipywidgets as widgets\n",
    "from IPython.display import display"
   ]
  },
  {
   "cell_type": "code",
   "execution_count": 2,
   "metadata": {},
   "outputs": [],
   "source": [
    "\n",
    "from pydrake.geometry.optimization import IrisOptions, HPolyhedron, Hyperellipsoid\n",
    "from pydrake.solvers import MosekSolver, CommonSolverOption, SolverOptions\n",
    "from pydrake.all import (PiecewisePolynomial, \n",
    "                         InverseKinematics, \n",
    "                         Sphere, \n",
    "                         Rgba, \n",
    "                         RigidTransform, \n",
    "                         RotationMatrix, \n",
    "                         Solve,\n",
    "                         MathematicalProgram,\n",
    "                         RollPitchYaw,\n",
    "                         Cylinder)\n",
    "import time\n",
    "import pydrake\n"
   ]
  },
  {
   "cell_type": "code",
   "execution_count": 3,
   "metadata": {},
   "outputs": [
    {
     "name": "stderr",
     "output_type": "stream",
     "text": [
      "INFO:drake:Meshcat listening for connections at http://localhost:7000\n"
     ]
    }
   ],
   "source": [
    "from environments import get_environment_builder\n",
    "\n",
    "plant_builder = get_environment_builder('7DOFBINS')\n",
    "plant, scene_graph, diagram, diagram_context, plant_context, meshcat = plant_builder(usemeshcat=True)\n",
    "\n",
    "scene_graph_context = scene_graph.GetMyMutableContextFromRoot(\n",
    "    diagram_context)"
   ]
  },
  {
   "cell_type": "code",
   "execution_count": 4,
   "metadata": {},
   "outputs": [],
   "source": [
    "# def get_ik_problem_solver(plant_ik, plant_context_ik, frames, collision_free= False):\n",
    "#     def solve_ik_problem(poses, q0, collision_free = collision_free):\n",
    "#         tries = 3\n",
    "#         q_min = plant.GetPositionLowerLimits()\n",
    "#         q_max = plant.GetPositionUpperLimits()\n",
    "#         q_diff =  q_max-q_min\n",
    "#         ik = InverseKinematics(plant_ik, plant_context_ik)\n",
    "#         #GlobalInverseKinematics(plant_ik) #InverseKinematics(plant_ik, plant_context_ik)\n",
    "    \n",
    "#         for pose, f in zip(poses, frames):\n",
    "#             ik.AddPositionConstraint(\n",
    "#                 f,\n",
    "#                 [0, 0.10, 0],\n",
    "#                 plant_ik.world_frame(),\n",
    "#                 pose.translation()-0.02,\n",
    "#                 pose.translation()+0.02,\n",
    "#             )\n",
    "#             # ik.AddWorldPositionConstraint(plant.GetBodyByName('ur_tool0').index(), \n",
    "#             #                               pose.translation(),\n",
    "#             #                               pose.translation()-0.05,\n",
    "#             #                               pose.translation()+0.05)\n",
    "#             # ik.AddOrientationConstraint(\n",
    "#             #     f,\n",
    "#             #     RotationMatrix(),\n",
    "#             #     plant_ik.world_frame(),\n",
    "#             #     pose.rotation(),\n",
    "#             #     0.1,\n",
    "#             # )\n",
    "#         if collision_free:\n",
    "#             ik.AddMinimumDistanceConstraint(0.001, 0.1)\n",
    "#         prog = ik.get_mutable_prog()\n",
    "#         q = ik.q()\n",
    "#         prog.AddQuadraticErrorCost(np.identity(len(q)), q0, q)\n",
    "#         prog.SetInitialGuess(q, q0)\n",
    "#         result = Solve(ik.prog())\n",
    "#         if result.is_success():\n",
    "#                 return result.GetSolution(q)\n",
    "#         return None\n",
    "#     return solve_ik_problem\n",
    "\n",
    "def show_pose(qvis, plant, plant_context, diagram, diagram_context, endeff_frame, show_body_frame = None):\n",
    "    plant.SetPositions(plant_context, qvis)\n",
    "    diagram.ForcedPublish(diagram_context)\n",
    "    tf =plant.EvalBodyPoseInWorld(plant_context,  plant.GetBodyByName(endeff_frame))\n",
    "    transl = tf.translation()+tf.rotation()@np.array([0,0.1,0])\n",
    "    if show_body_frame is not None:\n",
    "        show_body_frame(RigidTransform(tf.rotation(), transl))\n",
    "\n",
    "def show_ik_target(pose, meshcat, name):\n",
    "    h = 0.2\n",
    "    if 'targ' in name:\n",
    "        colors = [Rgba(1,0.5,0, 0.5), Rgba(0.5,1,0, 0.5), Rgba(0.0,0.5,1, 0.5)]\n",
    "    else:\n",
    "        colors = [Rgba(1,0,0, 1), Rgba(0.,1,0, 1), Rgba(0.0,0.0,1, 1)]\n",
    "\n",
    "    rot = pose.rotation()@RotationMatrix.MakeYRotation(np.pi/2)\n",
    "    pos= pose.translation() +pose.rotation()@np.array([h/2, 0,0])\n",
    "    meshcat.SetObject(f\"/drake/ik_target{name}/triad1\",\n",
    "                                   Cylinder(0.01,0.2),\n",
    "                                   colors[0])\n",
    "    meshcat.SetTransform(f\"/drake/ik_target{name}/triad1\",RigidTransform(rot, pos))\n",
    "    rot = pose.rotation()@RotationMatrix.MakeXRotation(-np.pi/2)\n",
    "    pos= pose.translation() +pose.rotation()@np.array([0,h/2,0])\n",
    "\n",
    "    meshcat.SetObject(f\"/drake/ik_target{name}/triad2\",\n",
    "                                   Cylinder(0.01,0.2),\n",
    "                                   colors[1])\n",
    "    meshcat.SetTransform(f\"/drake/ik_target{name}/triad2\",RigidTransform(rot, pos))\n",
    "    pos= pose.translation().copy()\n",
    "    rot = pose.rotation()\n",
    "    pos = pos + rot@np.array([0,0,h/2])\n",
    "    meshcat.SetObject(f\"/drake/ik_target{name}/triad3\",\n",
    "                                   Cylinder(0.01,0.2),\n",
    "                                   colors[2])\n",
    "    meshcat.SetTransform(f\"/drake/ik_target{name}/triad3\",RigidTransform(rot, pos))\n",
    "\n",
    "# ik = InverseKinematics(plant, plant_context)\n",
    "# collision_constraint = ik.AddMinimumDistanceConstraint(0.001, 0.001)\n",
    "# def eval_cons(q, c, tol):\n",
    "#     return 1-1*float(c.evaluator().CheckSatisfied(q, tol))\n",
    "    \n",
    "# col_func_handle = partial(eval_cons, c=collision_constraint, tol=0.01)\n",
    "# col_shunk_col =  Rgba(0.8, 0.0, 0, 0.5)    \n",
    "# col_shunk_free =  Rgba(0.0, 0.8, 0.5, 0.5)"
   ]
  },
  {
   "cell_type": "code",
   "execution_count": 5,
   "metadata": {},
   "outputs": [],
   "source": [
    "show_body_frame = partial(show_ik_target, \n",
    "                          meshcat=meshcat, \n",
    "                          name='endeff_acutal', \n",
    "                          )\n",
    "showres = partial(show_pose, \n",
    "                  plant = plant, \n",
    "                  plant_context = plant_context, \n",
    "                  diagram = diagram, \n",
    "                  diagram_context = diagram_context,\n",
    "                  endeff_frame = 'body',\n",
    "                  show_body_frame=show_body_frame)"
   ]
  },
  {
   "cell_type": "code",
   "execution_count": 6,
   "metadata": {},
   "outputs": [
    {
     "data": {
      "application/vnd.jupyter.widget-view+json": {
       "model_id": "f5200fb3c86342c8aa01d3190122dca6",
       "version_major": 2,
       "version_minor": 0
      },
      "text/plain": [
       "FloatSlider(value=0.0, description='q0', max=2.96705972839, min=-2.96705972839)"
      ]
     },
     "metadata": {},
     "output_type": "display_data"
    },
    {
     "data": {
      "application/vnd.jupyter.widget-view+json": {
       "model_id": "ba658422bb764c2dbfcac514276274e1",
       "version_major": 2,
       "version_minor": 0
      },
      "text/plain": [
       "FloatSlider(value=0.0, description='q1', max=2.09439510239, min=-2.09439510239)"
      ]
     },
     "metadata": {},
     "output_type": "display_data"
    },
    {
     "data": {
      "application/vnd.jupyter.widget-view+json": {
       "model_id": "1601694e13b840949073e7b1a4681941",
       "version_major": 2,
       "version_minor": 0
      },
      "text/plain": [
       "FloatSlider(value=0.0, description='q2', max=2.96705972839, min=-2.96705972839)"
      ]
     },
     "metadata": {},
     "output_type": "display_data"
    },
    {
     "data": {
      "application/vnd.jupyter.widget-view+json": {
       "model_id": "7d5421fd8d8a41a5ae4f06a428788f25",
       "version_major": 2,
       "version_minor": 0
      },
      "text/plain": [
       "FloatSlider(value=0.0, description='q3', max=2.09439510239, min=-2.09439510239)"
      ]
     },
     "metadata": {},
     "output_type": "display_data"
    },
    {
     "data": {
      "application/vnd.jupyter.widget-view+json": {
       "model_id": "7fa063c88c674cf3b336f865ac0f52d6",
       "version_major": 2,
       "version_minor": 0
      },
      "text/plain": [
       "FloatSlider(value=0.0, description='q4', max=2.96705972839, min=-2.96705972839)"
      ]
     },
     "metadata": {},
     "output_type": "display_data"
    },
    {
     "data": {
      "application/vnd.jupyter.widget-view+json": {
       "model_id": "2853381b289c4c1bb8058eae02d60136",
       "version_major": 2,
       "version_minor": 0
      },
      "text/plain": [
       "FloatSlider(value=0.0, description='q5', max=2.09439510239, min=-2.09439510239)"
      ]
     },
     "metadata": {},
     "output_type": "display_data"
    },
    {
     "data": {
      "application/vnd.jupyter.widget-view+json": {
       "model_id": "aff1ed4273ab4f77ae9f7a02953fad96",
       "version_major": 2,
       "version_minor": 0
      },
      "text/plain": [
       "FloatSlider(value=0.0, description='q6', max=3.05432619099, min=-3.05432619099)"
      ]
     },
     "metadata": {},
     "output_type": "display_data"
    }
   ],
   "source": [
    "q = np.zeros(plant.num_positions())\n",
    "\n",
    "sliders = []\n",
    "for i in range(plant.num_positions()):\n",
    "    q_low = plant.GetPositionLowerLimits()[i]\n",
    "    q_high = plant.GetPositionUpperLimits()[i]\n",
    "    sliders.append(widgets.FloatSlider(min=q_low, max=q_high, value=0, description=f\"q{i}\"))\n",
    "\n",
    "def handle_slider_change(change, idx):\n",
    "    q[idx] = change['new']\n",
    "    showres(q)\n",
    "    \n",
    "idx = 0\n",
    "for slider in sliders:\n",
    "    slider.observe(partial(handle_slider_change, idx = idx), names='value')\n",
    "    idx+=1\n",
    "\n",
    "for slider in sliders:\n",
    "    display(slider)"
   ]
  },
  {
   "cell_type": "code",
   "execution_count": 7,
   "metadata": {},
   "outputs": [
    {
     "name": "stderr",
     "output_type": "stream",
     "text": [
      "/home/peter/.local/lib/python3.8/site-packages/scipy/__init__.py:143: UserWarning: A NumPy version >=1.19.5 and <1.27.0 is required for this version of SciPy (detected version 1.17.4)\n",
      "  warnings.warn(f\"A NumPy version >={np_minversion} and <{np_maxversion}\"\n"
     ]
    }
   ],
   "source": [
    "from task_space_seeding_utils import solve_ik_problem"
   ]
  },
  {
   "cell_type": "code",
   "execution_count": 8,
   "metadata": {},
   "outputs": [
    {
     "data": {
      "application/vnd.jupyter.widget-view+json": {
       "model_id": "962a01b6967d43549ed9fa20cd60459a",
       "version_major": 2,
       "version_minor": 0
      },
      "text/plain": [
       "FloatSlider(value=0.25, description='x', max=1.0, min=-0.5)"
      ]
     },
     "metadata": {},
     "output_type": "display_data"
    },
    {
     "data": {
      "application/vnd.jupyter.widget-view+json": {
       "model_id": "dac4af9c74bc496087753e4d117c91e7",
       "version_major": 2,
       "version_minor": 0
      },
      "text/plain": [
       "FloatSlider(value=0.0, description='y', max=0.5, min=-0.5)"
      ]
     },
     "metadata": {},
     "output_type": "display_data"
    },
    {
     "data": {
      "application/vnd.jupyter.widget-view+json": {
       "model_id": "d3a4f012edda42fcb18d51706aa9299a",
       "version_major": 2,
       "version_minor": 0
      },
      "text/plain": [
       "FloatSlider(value=0.505, description='z', max=1.0, min=0.01)"
      ]
     },
     "metadata": {},
     "output_type": "display_data"
    },
    {
     "data": {
      "application/vnd.jupyter.widget-view+json": {
       "model_id": "93e1ed4f6bd4459bac9d65db0a0990fc",
       "version_major": 2,
       "version_minor": 0
      },
      "text/plain": [
       "FloatSlider(value=0.0, description='rx', max=3.141592653589793, min=-3.141592653589793)"
      ]
     },
     "metadata": {},
     "output_type": "display_data"
    },
    {
     "data": {
      "application/vnd.jupyter.widget-view+json": {
       "model_id": "af27eb76db4c48b1b86e60abd974fc8f",
       "version_major": 2,
       "version_minor": 0
      },
      "text/plain": [
       "FloatSlider(value=0.0, description='ry', max=3.141592653589793, min=-3.141592653589793)"
      ]
     },
     "metadata": {},
     "output_type": "display_data"
    },
    {
     "data": {
      "application/vnd.jupyter.widget-view+json": {
       "model_id": "f397c25623bf4f26b7bb1b40081a4063",
       "version_major": 2,
       "version_minor": 0
      },
      "text/plain": [
       "FloatSlider(value=0.0, description='rz', max=3.141592653589793, min=-3.141592653589793)"
      ]
     },
     "metadata": {},
     "output_type": "display_data"
    }
   ],
   "source": [
    "#ik sliders \n",
    "show_ik_targets = partial(show_ik_target, \n",
    "                          meshcat=meshcat, \n",
    "                          name='endeff_targ', \n",
    "                          )\n",
    "\n",
    "ik_solver = partial(solve_ik_problem, \n",
    "                    plant_ik = plant,\n",
    "                    plant_context_ik = plant_context,\n",
    "                    frames = [plant.GetFrameByName('body')],\n",
    "                    offsets = [np.array([0,0.1,0])],\n",
    "                    collision_free=False,\n",
    "                    track_orientation=False)\n",
    "sliders_ik = []\n",
    "pos_min = np.array([-0.5,-0.5, 0.01, -np.pi,-np.pi, -np.pi])\n",
    "pos_max = np.array([1.0,0.5, 1, np.pi,np.pi, np.pi])\n",
    "names = ['x', 'y', 'z','rx', 'ry', 'rz']\n",
    "q0 = np.zeros(7)#np.array([ 0.23294, -0.2944 , -0.36706, -1.5944 , -0.16706,  0.     ,\n",
    "       # 1.64567])\n",
    "_ik_positions = np.zeros(6)\n",
    "\n",
    "for i in range(6):\n",
    "    sliders_ik.append(widgets.FloatSlider(min=pos_min[i], \n",
    "                                       max=pos_max[i], \n",
    "                                       value=0.5*(pos_max[i]-pos_min[i])+pos_min[i], \n",
    "                                       description=names[i]))\n",
    "\n",
    "def handle_slider_change_ik(change, idx):\n",
    "    _ik_positions[idx] = change['new']\n",
    "    rot = RotationMatrix.MakeXRotation(_ik_positions[3])@RotationMatrix.MakeYRotation(_ik_positions[4])@RotationMatrix.MakeZRotation(_ik_positions[5])\n",
    "\n",
    "    RollPitchYaw(_ik_positions[3],\n",
    "                       _ik_positions[4],\n",
    "                       _ik_positions[5]).ToRotationMatrix()\n",
    "    tf = RigidTransform(rot, _ik_positions[:3])\n",
    "    show_ik_targets(tf)\n",
    "    res = ik_solver([tf], q0)\n",
    "    if res is not None:\n",
    "        showres(res)\n",
    "\n",
    "idx = 0\n",
    "for slider in sliders_ik:\n",
    "    slider.observe(partial(handle_slider_change_ik, idx = idx), names='value')\n",
    "    idx+=1\n",
    "\n",
    "for slider in sliders_ik:\n",
    "    display(slider)"
   ]
  },
  {
   "cell_type": "code",
   "execution_count": 9,
   "metadata": {},
   "outputs": [],
   "source": [
    "from visualization_utils import plot_points, plot_regions\n",
    "from pydrake.all import VPolytope, Role\n",
    "from task_space_seeding_utils import (get_cvx_hulls_of_bodies,\n",
    "                                      get_AABB_cvxhull,\n",
    "                                      task_space_sampler_mp,\n",
    "                                      task_space_sampler)"
   ]
  },
  {
   "cell_type": "code",
   "execution_count": 10,
   "metadata": {},
   "outputs": [],
   "source": [
    "#Determine task space regions of interest\n",
    "geom_names = ['bin_base', 'bin_base', 'shelves_body']\n",
    "model_names = ['binL', 'binR', 'shelves']\n",
    "cvx_hulls_of_ROI, bodies = get_cvx_hulls_of_bodies(geom_names, model_names, plant, scene_graph, scene_graph_context)\n",
    "ts_min, ts_max, cvxh_hpoly = get_AABB_cvxhull(cvx_hulls_of_ROI)\n",
    "plot_regions(meshcat, cvx_hulls_of_ROI, opacity=0.2)"
   ]
  },
  {
   "cell_type": "code",
   "execution_count": 11,
   "metadata": {},
   "outputs": [],
   "source": [
    "# construct task space sampler\n",
    "#from task_space_seeding_utils import get_task_space_sampler\n",
    "# ik_solver_S = get_ik_problem_solver(plant, \n",
    "#                                   plant_context, \n",
    "#                                   [plant.GetFrameByName('body')],\n",
    "#                                   [np.array([0,0.1,0])], \n",
    "#                                   collision_free=True,\n",
    "#                                   track_orientation=True)\n",
    "q0  = np.zeros(7)\n",
    "plant.SetPositions(plant_context, q0)\n",
    "plant.ForcedPublish(plant_context)\n",
    "showres(q0)\n",
    "t0 = plant.EvalBodyPoseInWorld(plant_context,  plant.GetBodyByName(\"body\")).translation()       \n",
    "\n",
    "sample_handle_ts = partial(task_space_sampler_mp,\n",
    "                           q0 = q0,\n",
    "                           t0 = t0,\n",
    "                           plant_builder = plant_builder,\n",
    "                           frame_names = ['body'],\n",
    "                           offsets = [np.array([0,0.1,0])],\n",
    "                           cvx_hulls_of_ROI =cvx_hulls_of_ROI,\n",
    "                           ts_min = ts_min,\n",
    "                           ts_max = ts_max,\n",
    "                           collision_free = True,\n",
    "                           track_orientation = True,\n",
    "                           )"
   ]
  },
  {
   "cell_type": "code",
   "execution_count": 12,
   "metadata": {},
   "outputs": [
    {
     "name": "stdout",
     "output_type": "stream",
     "text": [
      "[[50, 175], [50, 158], [50, 697], [50, 149], [50, 166], [50, 335], [50, 789], [50, 545], [50, 395], [50, 690], [50, 379], [50, 363], [50, 393], [50, 344], [50, 515], [50, 506], [50, 251], [50, 424], [50, 28], [50, 439]]\n"
     ]
    },
    {
     "name": "stderr",
     "output_type": "stream",
     "text": [
      "100%|██████████| 50/50 [00:59<00:00,  1.20s/it]\n",
      "100%|██████████| 50/50 [01:01<00:00,  1.23s/it]\n",
      " 74%|███████▍  | 37/50 [01:05<00:34,  2.67s/it]\n",
      "100%|██████████| 50/50 [01:06<00:00,  1.32s/it]\n",
      "100%|██████████| 50/50 [01:08<00:00,  1.37s/it]\n",
      "100%|██████████| 50/50 [01:08<00:00,  1.38s/it]\n",
      "100%|██████████| 50/50 [01:09<00:00,  1.39s/it]\n",
      "100%|██████████| 50/50 [01:11<00:00,  1.43s/it]\n",
      "100%|██████████| 50/50 [01:14<00:00,  1.49s/it]\n",
      "100%|██████████| 50/50 [01:15<00:00,  1.51s/it]\n",
      "100%|██████████| 50/50 [01:15<00:00,  1.51s/it]\n",
      "100%|██████████| 50/50 [01:16<00:00,  1.52s/it]\n",
      "100%|██████████| 50/50 [01:17<00:00,  1.54s/it]\n",
      "100%|██████████| 50/50 [01:18<00:00,  1.57s/it]\n",
      "100%|██████████| 50/50 [01:18<00:00,  1.58s/it]\n",
      "100%|██████████| 50/50 [01:18<00:00,  1.58s/it]\n",
      "100%|██████████| 50/50 [01:19<00:00,  1.58s/it]\n",
      "100%|██████████| 50/50 [01:21<00:00,  1.63s/it]\n",
      "100%|██████████| 50/50 [01:25<00:00,  1.70s/it]\n",
      "100%|██████████| 50/50 [01:28<00:00,  1.76s/it]\n"
     ]
    }
   ],
   "source": [
    "q, t, _, res = sample_handle_ts(1000,[])"
   ]
  },
  {
   "cell_type": "code",
   "execution_count": null,
   "metadata": {},
   "outputs": [],
   "source": []
  },
  {
   "cell_type": "code",
   "execution_count": 14,
   "metadata": {},
   "outputs": [
    {
     "data": {
      "text/plain": [
       "[(array([[ 1.78284193,  1.05882945,  2.46091917,  1.58752357,  1.00860442,\n",
       "          -2.0943951 ,  1.98508903],\n",
       "         [-0.10585698,  1.92282782, -0.78898511, -0.02178501, -0.81038495,\n",
       "          -1.68270597, -0.38722604],\n",
       "         [ 1.37794971,  1.15678091,  2.41419818,  0.85808128,  1.29487004,\n",
       "          -1.62387567,  0.59862245],\n",
       "         [ 1.42551446, -1.28338466,  0.48369067,  0.89752582, -0.31802585,\n",
       "          -2.05113297, -1.44421526],\n",
       "         [-0.03042311, -1.96505061, -1.61572314,  2.0508234 , -0.75581356,\n",
       "           0.68103001, -2.27981919]]),\n",
       "  array([[-0.11567745,  0.37435174,  0.1888893 ],\n",
       "         [ 0.75546496,  0.18774235,  0.05394997],\n",
       "         [ 0.1762313 ,  0.74112466,  0.17836172],\n",
       "         [ 0.0056551 , -0.50436399,  0.10755127],\n",
       "         [-0.15917663,  0.6111459 ,  0.15246386]]),\n",
       "  False),\n",
       " (array([[ 1.78284193,  1.05882945,  2.46091917,  1.58752357,  1.00860442,\n",
       "          -2.0943951 ,  1.98508903],\n",
       "         [-0.10585698,  1.92282782, -0.78898511, -0.02178501, -0.81038495,\n",
       "          -1.68270597, -0.38722604],\n",
       "         [ 1.37794971,  1.15678091,  2.41419818,  0.85808128,  1.29487004,\n",
       "          -1.62387567,  0.59862245],\n",
       "         [ 1.42551446, -1.28338466,  0.48369067,  0.89752582, -0.31802585,\n",
       "          -2.05113297, -1.44421526],\n",
       "         [-0.03042311, -1.96505061, -1.61572314,  2.0508234 , -0.75581356,\n",
       "           0.68103001, -2.27981919]]),\n",
       "  array([[-0.11567745,  0.37435174,  0.1888893 ],\n",
       "         [ 0.75546496,  0.18774235,  0.05394997],\n",
       "         [ 0.1762313 ,  0.74112466,  0.17836172],\n",
       "         [ 0.0056551 , -0.50436399,  0.10755127],\n",
       "         [-0.15917663,  0.6111459 ,  0.15246386]]),\n",
       "  False),\n",
       " (array([[ 1.78284193,  1.05882945,  2.46091917,  1.58752357,  1.00860442,\n",
       "          -2.0943951 ,  1.98508903],\n",
       "         [-0.10585698,  1.92282782, -0.78898511, -0.02178501, -0.81038495,\n",
       "          -1.68270597, -0.38722604],\n",
       "         [ 1.37794971,  1.15678091,  2.41419818,  0.85808128,  1.29487004,\n",
       "          -1.62387567,  0.59862245],\n",
       "         [ 1.42551446, -1.28338466,  0.48369067,  0.89752582, -0.31802585,\n",
       "          -2.05113297, -1.44421526],\n",
       "         [-0.03042311, -1.96505061, -1.61572314,  2.0508234 , -0.75581356,\n",
       "           0.68103001, -2.27981919]]),\n",
       "  array([[-0.11567745,  0.37435174,  0.1888893 ],\n",
       "         [ 0.75546496,  0.18774235,  0.05394997],\n",
       "         [ 0.1762313 ,  0.74112466,  0.17836172],\n",
       "         [ 0.0056551 , -0.50436399,  0.10755127],\n",
       "         [-0.15917663,  0.6111459 ,  0.15246386]]),\n",
       "  False),\n",
       " (array([[ 1.78284193,  1.05882945,  2.46091917,  1.58752357,  1.00860442,\n",
       "          -2.0943951 ,  1.98508903],\n",
       "         [-0.10585698,  1.92282782, -0.78898511, -0.02178501, -0.81038495,\n",
       "          -1.68270597, -0.38722604],\n",
       "         [ 1.37794971,  1.15678091,  2.41419818,  0.85808128,  1.29487004,\n",
       "          -1.62387567,  0.59862245],\n",
       "         [ 1.42551446, -1.28338466,  0.48369067,  0.89752582, -0.31802586,\n",
       "          -2.05113297, -1.44421526],\n",
       "         [ 0.18690171,  0.44994762,  0.05260963, -1.9020926 ,  0.82517076,\n",
       "          -0.64933921,  0.37704949]]),\n",
       "  array([[-0.11567745,  0.37435174,  0.1888893 ],\n",
       "         [ 0.75546496,  0.18774235,  0.05394997],\n",
       "         [ 0.1762313 ,  0.74112466,  0.17836172],\n",
       "         [ 0.0056551 , -0.50436399,  0.10755127],\n",
       "         [ 0.70958984,  0.05902857,  0.35439329]]),\n",
       "  False),\n",
       " (array([[ 1.78284193,  1.05882945,  2.46091917,  1.58752357,  1.00860442,\n",
       "          -2.0943951 ,  1.98508903],\n",
       "         [-0.10585698,  1.92282782, -0.78898511, -0.02178501, -0.81038495,\n",
       "          -1.68270597, -0.38722604],\n",
       "         [ 1.37794971,  1.15678091,  2.41419818,  0.85808128,  1.29487004,\n",
       "          -1.62387567,  0.59862245],\n",
       "         [ 1.42551446, -1.28338466,  0.48369067,  0.89752582, -0.31802586,\n",
       "          -2.05113297, -1.44421526],\n",
       "         [-0.03042311, -1.96505061, -1.61572314,  2.0508234 , -0.75581356,\n",
       "           0.68103001, -2.27981919]]),\n",
       "  array([[-0.11567745,  0.37435174,  0.1888893 ],\n",
       "         [ 0.75546496,  0.18774235,  0.05394997],\n",
       "         [ 0.1762313 ,  0.74112466,  0.17836172],\n",
       "         [ 0.0056551 , -0.50436399,  0.10755127],\n",
       "         [-0.15917663,  0.6111459 ,  0.15246386]]),\n",
       "  False),\n",
       " (array([[ 1.78284193,  1.05882945,  2.46091917,  1.58752357,  1.00860442,\n",
       "          -2.0943951 ,  1.98508903],\n",
       "         [-0.10585698,  1.92282782, -0.78898511, -0.02178501, -0.81038495,\n",
       "          -1.68270597, -0.38722604],\n",
       "         [ 1.37794971,  1.15678091,  2.41419818,  0.85808128,  1.29487004,\n",
       "          -1.62387567,  0.59862245],\n",
       "         [ 1.42551446, -1.28338466,  0.48369067,  0.89752582, -0.31802586,\n",
       "          -2.05113297, -1.44421526],\n",
       "         [-0.2479196 ,  0.64280138,  0.81895749, -1.81013539, -2.12116179,\n",
       "           1.07593523,  3.05432619]]),\n",
       "  array([[-0.11567745,  0.37435174,  0.1888893 ],\n",
       "         [ 0.75546496,  0.18774235,  0.05394997],\n",
       "         [ 0.1762313 ,  0.74112466,  0.17836172],\n",
       "         [ 0.0056551 , -0.50436399,  0.10755127],\n",
       "         [ 0.70958984,  0.05902857,  0.35439329]]),\n",
       "  False),\n",
       " (array([[ 1.78284193,  1.05882945,  2.46091917,  1.58752357,  1.00860442,\n",
       "          -2.0943951 ,  1.98508903],\n",
       "         [-0.10585698,  1.92282782, -0.78898511, -0.02178501, -0.81038495,\n",
       "          -1.68270597, -0.38722604],\n",
       "         [ 1.37794971,  1.15678091,  2.41419818,  0.85808128,  1.29487004,\n",
       "          -1.62387567,  0.59862245],\n",
       "         [ 1.42551446, -1.28338466,  0.48369067,  0.89752582, -0.31802585,\n",
       "          -2.05113297, -1.44421526],\n",
       "         [-0.24791861,  0.64280135,  0.81895641, -1.8101354 , -2.12116211,\n",
       "           1.07593576,  3.05432619]]),\n",
       "  array([[-0.11567745,  0.37435174,  0.1888893 ],\n",
       "         [ 0.75546496,  0.18774235,  0.05394997],\n",
       "         [ 0.1762313 ,  0.74112466,  0.17836172],\n",
       "         [ 0.0056551 , -0.50436399,  0.10755127],\n",
       "         [ 0.70958984,  0.05902857,  0.35439329]]),\n",
       "  False),\n",
       " (array([[ 1.78284193,  1.05882945,  2.46091917,  1.58752357,  1.00860442,\n",
       "          -2.0943951 ,  1.98508903],\n",
       "         [-0.10585698,  1.92282782, -0.78898511, -0.02178501, -0.81038495,\n",
       "          -1.68270597, -0.38722604],\n",
       "         [ 1.37794971,  1.15678091,  2.41419818,  0.85808128,  1.29487004,\n",
       "          -1.62387567,  0.59862245],\n",
       "         [ 1.42551446, -1.28338466,  0.48369068,  0.89752582, -0.31802586,\n",
       "          -2.05113297, -1.44421526],\n",
       "         [-0.03042311, -1.96505061, -1.61572314,  2.0508234 , -0.75581356,\n",
       "           0.68103001, -2.27981919]]),\n",
       "  array([[-0.11567745,  0.37435174,  0.1888893 ],\n",
       "         [ 0.75546496,  0.18774235,  0.05394997],\n",
       "         [ 0.1762313 ,  0.74112466,  0.17836172],\n",
       "         [ 0.0056551 , -0.50436399,  0.10755127],\n",
       "         [-0.15917663,  0.6111459 ,  0.15246386]]),\n",
       "  False),\n",
       " (array([[ 1.78284193,  1.05882945,  2.46091917,  1.58752357,  1.00860442,\n",
       "          -2.0943951 ,  1.98508903],\n",
       "         [-0.10585698,  1.92282782, -0.78898511, -0.02178501, -0.81038495,\n",
       "          -1.68270597, -0.38722604],\n",
       "         [ 1.37794971,  1.15678091,  2.41419818,  0.85808128,  1.29487004,\n",
       "          -1.62387567,  0.59862245],\n",
       "         [ 1.42551446, -1.28338466,  0.48369067,  0.89752582, -0.31802585,\n",
       "          -2.05113297, -1.44421526],\n",
       "         [-0.03042311, -1.96505061, -1.61572314,  2.0508234 , -0.75581356,\n",
       "           0.68103001, -2.27981919]]),\n",
       "  array([[-0.11567745,  0.37435174,  0.1888893 ],\n",
       "         [ 0.75546496,  0.18774235,  0.05394997],\n",
       "         [ 0.1762313 ,  0.74112466,  0.17836172],\n",
       "         [ 0.0056551 , -0.50436399,  0.10755127],\n",
       "         [-0.15917663,  0.6111459 ,  0.15246386]]),\n",
       "  False),\n",
       " (array([[ 1.78284193,  1.05882945,  2.46091917,  1.58752357,  1.00860442,\n",
       "          -2.0943951 ,  1.98508903],\n",
       "         [-0.10585698,  1.92282782, -0.78898511, -0.02178501, -0.81038495,\n",
       "          -1.68270597, -0.38722604],\n",
       "         [ 1.37794971,  1.15678091,  2.41419818,  0.85808128,  1.29487004,\n",
       "          -1.62387567,  0.59862245],\n",
       "         [ 1.42551446, -1.28338466,  0.48369067,  0.89752582, -0.31802586,\n",
       "          -2.05113297, -1.44421526],\n",
       "         [-0.24791938,  0.64280128,  0.81895712, -1.81013549, -2.12116201,\n",
       "           1.07593513,  3.05432619]]),\n",
       "  array([[-0.11567745,  0.37435174,  0.1888893 ],\n",
       "         [ 0.75546496,  0.18774235,  0.05394997],\n",
       "         [ 0.1762313 ,  0.74112466,  0.17836172],\n",
       "         [ 0.0056551 , -0.50436399,  0.10755127],\n",
       "         [ 0.70958984,  0.05902857,  0.35439329]]),\n",
       "  False),\n",
       " (array([[ 1.78284193,  1.05882945,  2.46091917,  1.58752357,  1.00860442,\n",
       "          -2.0943951 ,  1.98508903],\n",
       "         [-0.10585698,  1.92282782, -0.78898511, -0.02178501, -0.81038495,\n",
       "          -1.68270597, -0.38722604],\n",
       "         [ 1.37794971,  1.15678091,  2.41419818,  0.85808128,  1.29487004,\n",
       "          -1.62387567,  0.59862245],\n",
       "         [ 1.42551446, -1.28338466,  0.48369067,  0.89752582, -0.31802586,\n",
       "          -2.05113297, -1.44421526],\n",
       "         [-0.03042311, -1.96505061, -1.61572314,  2.0508234 , -0.75581356,\n",
       "           0.68103001, -2.27981919]]),\n",
       "  array([[-0.11567745,  0.37435174,  0.1888893 ],\n",
       "         [ 0.75546496,  0.18774235,  0.05394997],\n",
       "         [ 0.1762313 ,  0.74112466,  0.17836172],\n",
       "         [ 0.0056551 , -0.50436399,  0.10755127],\n",
       "         [-0.15917663,  0.6111459 ,  0.15246386]]),\n",
       "  False),\n",
       " (array([[ 1.78284193,  1.05882945,  2.46091917,  1.58752357,  1.00860442,\n",
       "          -2.0943951 ,  1.98508903],\n",
       "         [-0.10585698,  1.92282782, -0.78898511, -0.02178501, -0.81038495,\n",
       "          -1.68270597, -0.38722604],\n",
       "         [ 1.37794971,  1.15678091,  2.41419818,  0.85808128,  1.29487004,\n",
       "          -1.62387567,  0.59862245],\n",
       "         [ 1.42551446, -1.28338466,  0.48369067,  0.89752582, -0.31802586,\n",
       "          -2.05113297, -1.44421526],\n",
       "         [-0.24791888,  0.64280111,  0.81895638, -1.81013563, -2.12116233,\n",
       "           1.07593507,  3.05432619]]),\n",
       "  array([[-0.11567745,  0.37435174,  0.1888893 ],\n",
       "         [ 0.75546496,  0.18774235,  0.05394997],\n",
       "         [ 0.1762313 ,  0.74112466,  0.17836172],\n",
       "         [ 0.0056551 , -0.50436399,  0.10755127],\n",
       "         [ 0.70958984,  0.05902857,  0.35439329]]),\n",
       "  False),\n",
       " (array([[ 1.78284193,  1.05882945,  2.46091917,  1.58752357,  1.00860442,\n",
       "          -2.0943951 ,  1.98508903],\n",
       "         [-0.10585698,  1.92282782, -0.78898511, -0.02178501, -0.81038495,\n",
       "          -1.68270597, -0.38722604],\n",
       "         [ 1.37794971,  1.15678091,  2.41419818,  0.85808128,  1.29487004,\n",
       "          -1.62387567,  0.59862245],\n",
       "         [ 1.42551446, -1.28338466,  0.48369067,  0.89752582, -0.31802585,\n",
       "          -2.05113297, -1.44421526],\n",
       "         [ 0.18690189,  0.44994762,  0.05260923, -1.90209278,  0.82516983,\n",
       "          -0.64933914,  0.37705074]]),\n",
       "  array([[-0.11567745,  0.37435174,  0.1888893 ],\n",
       "         [ 0.75546496,  0.18774235,  0.05394997],\n",
       "         [ 0.1762313 ,  0.74112466,  0.17836172],\n",
       "         [ 0.0056551 , -0.50436399,  0.10755127],\n",
       "         [ 0.70958984,  0.05902857,  0.35439329]]),\n",
       "  False),\n",
       " (array([[ 1.78284193,  1.05882945,  2.46091917,  1.58752357,  1.00860442,\n",
       "          -2.0943951 ,  1.98508903],\n",
       "         [-0.10585698,  1.92282782, -0.78898511, -0.02178501, -0.81038495,\n",
       "          -1.68270597, -0.38722604],\n",
       "         [ 1.37794971,  1.15678091,  2.41419818,  0.85808128,  1.29487004,\n",
       "          -1.62387567,  0.59862245],\n",
       "         [ 1.42551446, -1.28338466,  0.48369067,  0.89752582, -0.31802586,\n",
       "          -2.05113297, -1.44421526],\n",
       "         [-0.03042311, -1.96505061, -1.61572314,  2.0508234 , -0.75581356,\n",
       "           0.68103001, -2.27981919]]),\n",
       "  array([[-0.11567745,  0.37435174,  0.1888893 ],\n",
       "         [ 0.75546496,  0.18774235,  0.05394997],\n",
       "         [ 0.1762313 ,  0.74112466,  0.17836172],\n",
       "         [ 0.0056551 , -0.50436399,  0.10755127],\n",
       "         [-0.15917663,  0.6111459 ,  0.15246386]]),\n",
       "  False),\n",
       " (array([[ 1.78284193,  1.05882945,  2.46091917,  1.58752357,  1.00860442,\n",
       "          -2.0943951 ,  1.98508903],\n",
       "         [-0.10585698,  1.92282782, -0.78898511, -0.02178501, -0.81038495,\n",
       "          -1.68270597, -0.38722604],\n",
       "         [ 1.37794971,  1.15678091,  2.41419818,  0.85808128,  1.29487004,\n",
       "          -1.62387567,  0.59862245],\n",
       "         [ 1.42551446, -1.28338466,  0.48369067,  0.89752582, -0.31802585,\n",
       "          -2.05113297, -1.44421526],\n",
       "         [-0.24791872,  0.64280131,  0.81895646, -1.81013545, -2.12116214,\n",
       "           1.07593561,  3.05432619]]),\n",
       "  array([[-0.11567745,  0.37435174,  0.1888893 ],\n",
       "         [ 0.75546496,  0.18774235,  0.05394997],\n",
       "         [ 0.1762313 ,  0.74112466,  0.17836172],\n",
       "         [ 0.0056551 , -0.50436399,  0.10755127],\n",
       "         [ 0.70958984,  0.05902857,  0.35439329]]),\n",
       "  False),\n",
       " (array([[ 1.78284193,  1.05882945,  2.46091917,  1.58752357,  1.00860442,\n",
       "          -2.0943951 ,  1.98508903],\n",
       "         [-0.10585698,  1.92282782, -0.78898511, -0.02178501, -0.81038495,\n",
       "          -1.68270597, -0.38722604],\n",
       "         [ 1.37794971,  1.15678091,  2.41419818,  0.85808128,  1.29487004,\n",
       "          -1.62387567,  0.59862245],\n",
       "         [ 1.42551446, -1.28338466,  0.48369067,  0.89752582, -0.31802585,\n",
       "          -2.05113297, -1.44421526],\n",
       "         [-0.24791813,  0.64280133,  0.81895588, -1.8101354 , -2.12116225,\n",
       "           1.07593602,  3.05432619]]),\n",
       "  array([[-0.11567745,  0.37435174,  0.1888893 ],\n",
       "         [ 0.75546496,  0.18774235,  0.05394997],\n",
       "         [ 0.1762313 ,  0.74112466,  0.17836172],\n",
       "         [ 0.0056551 , -0.50436399,  0.10755127],\n",
       "         [ 0.70958984,  0.05902857,  0.35439329]]),\n",
       "  False),\n",
       " (array([[ 1.78284193,  1.05882945,  2.46091917,  1.58752357,  1.00860442,\n",
       "          -2.0943951 ,  1.98508903],\n",
       "         [-0.10585698,  1.92282782, -0.78898511, -0.02178501, -0.81038495,\n",
       "          -1.68270597, -0.38722604],\n",
       "         [ 1.37794971,  1.15678091,  2.41419818,  0.85808128,  1.29487004,\n",
       "          -1.62387567,  0.59862245],\n",
       "         [ 1.42551446, -1.28338466,  0.48369067,  0.89752582, -0.31802586,\n",
       "          -2.05113297, -1.44421526],\n",
       "         [ 0.18690189,  0.4499476 ,  0.05260941, -1.90209256,  0.82517093,\n",
       "          -0.64933906,  0.37704957]]),\n",
       "  array([[-0.11567745,  0.37435174,  0.1888893 ],\n",
       "         [ 0.75546496,  0.18774235,  0.05394997],\n",
       "         [ 0.1762313 ,  0.74112466,  0.17836172],\n",
       "         [ 0.0056551 , -0.50436399,  0.10755127],\n",
       "         [ 0.70958984,  0.05902857,  0.35439329]]),\n",
       "  False),\n",
       " (array([[ 1.78284193,  1.05882945,  2.46091917,  1.58752357,  1.00860442,\n",
       "          -2.0943951 ,  1.98508903],\n",
       "         [-0.10585698,  1.92282782, -0.78898511, -0.02178501, -0.81038495,\n",
       "          -1.68270597, -0.38722604],\n",
       "         [ 1.37794971,  1.15678091,  2.41419818,  0.85808128,  1.29487004,\n",
       "          -1.62387567,  0.59862245],\n",
       "         [ 1.42551446, -1.28338466,  0.48369067,  0.89752582, -0.31802586,\n",
       "          -2.05113297, -1.44421526],\n",
       "         [-0.03042311, -1.96505061, -1.61572314,  2.0508234 , -0.75581356,\n",
       "           0.68103001, -2.27981919]]),\n",
       "  array([[-0.11567745,  0.37435174,  0.1888893 ],\n",
       "         [ 0.75546496,  0.18774235,  0.05394997],\n",
       "         [ 0.1762313 ,  0.74112466,  0.17836172],\n",
       "         [ 0.0056551 , -0.50436399,  0.10755127],\n",
       "         [-0.15917663,  0.6111459 ,  0.15246386]]),\n",
       "  False),\n",
       " (array([[ 1.78284193,  1.05882945,  2.46091917,  1.58752357,  1.00860442,\n",
       "          -2.0943951 ,  1.98508903],\n",
       "         [-0.10585698,  1.92282782, -0.78898511, -0.02178501, -0.81038495,\n",
       "          -1.68270597, -0.38722604],\n",
       "         [ 1.37794971,  1.15678091,  2.41419818,  0.85808128,  1.29487004,\n",
       "          -1.62387567,  0.59862245],\n",
       "         [ 1.42551446, -1.28338466,  0.48369067,  0.89752582, -0.31802586,\n",
       "          -2.05113297, -1.44421526],\n",
       "         [ 0.18690217,  0.44994762,  0.05260906, -1.90209261,  0.82517066,\n",
       "          -0.64933908,  0.37704974]]),\n",
       "  array([[-0.11567745,  0.37435174,  0.1888893 ],\n",
       "         [ 0.75546496,  0.18774235,  0.05394997],\n",
       "         [ 0.1762313 ,  0.74112466,  0.17836172],\n",
       "         [ 0.0056551 , -0.50436399,  0.10755127],\n",
       "         [ 0.70958984,  0.05902857,  0.35439329]]),\n",
       "  False),\n",
       " (array([[ 1.78284193,  1.05882945,  2.46091917,  1.58752357,  1.00860442,\n",
       "          -2.0943951 ,  1.98508903],\n",
       "         [-0.10585698,  1.92282782, -0.78898511, -0.02178501, -0.81038495,\n",
       "          -1.68270597, -0.38722604],\n",
       "         [ 1.37794971,  1.15678091,  2.41419818,  0.85808128,  1.29487004,\n",
       "          -1.62387567,  0.59862245],\n",
       "         [ 1.42551446, -1.28338466,  0.48369067,  0.89752582, -0.31802585,\n",
       "          -2.05113297, -1.44421526],\n",
       "         [-0.03042311, -1.96505061, -1.61572314,  2.0508234 , -0.75581356,\n",
       "           0.68103001, -2.27981919]]),\n",
       "  array([[-0.11567745,  0.37435174,  0.1888893 ],\n",
       "         [ 0.75546496,  0.18774235,  0.05394997],\n",
       "         [ 0.1762313 ,  0.74112466,  0.17836172],\n",
       "         [ 0.0056551 , -0.50436399,  0.10755127],\n",
       "         [-0.15917663,  0.6111459 ,  0.15246386]]),\n",
       "  False)]"
      ]
     },
     "execution_count": 14,
     "metadata": {},
     "output_type": "execute_result"
    }
   ],
   "source": [
    "res\n"
   ]
  },
  {
   "cell_type": "code",
   "execution_count": 14,
   "metadata": {},
   "outputs": [],
   "source": [
    "ik = InverseKinematics(plant, plant_context)"
   ]
  },
  {
   "cell_type": "code",
   "execution_count": 14,
   "metadata": {},
   "outputs": [],
   "source": [
    "import pickle"
   ]
  },
  {
   "cell_type": "code",
   "execution_count": 12,
   "metadata": {},
   "outputs": [
    {
     "name": "stderr",
     "output_type": "stream",
     "text": [
      "100%|██████████| 300/300 [03:44<00:00,  1.34it/s]\n"
     ]
    }
   ],
   "source": [
    "q, t, _ = sample_handle_ts(300, [])"
   ]
  },
  {
   "cell_type": "code",
   "execution_count": 13,
   "metadata": {},
   "outputs": [],
   "source": [
    "plot_points(meshcat, t, 'a', size = 0.01)"
   ]
  },
  {
   "cell_type": "code",
   "execution_count": 14,
   "metadata": {},
   "outputs": [],
   "source": [
    "# import time\n",
    "# for pt in q:\n",
    "#     showres(pt)\n",
    "#     time.sleep(0.2)"
   ]
  },
  {
   "cell_type": "markdown",
   "metadata": {},
   "source": []
  },
  {
   "cell_type": "code",
   "execution_count": 15,
   "metadata": {},
   "outputs": [],
   "source": [
    "from utils import load_regions_from_experiment_dir\n",
    "\n",
    "regions = load_regions_from_experiment_dir(\n",
    "                    'logs/experiment_7dof_iiwa_bins_taskspace_1_1000_0.600greedy20231019114035')"
   ]
  },
  {
   "cell_type": "code",
   "execution_count": 16,
   "metadata": {},
   "outputs": [],
   "source": [
    "with open('test.pkl', 'wb') as f:\n",
    "    pickle.dump(regions, f)"
   ]
  },
  {
   "cell_type": "code",
   "execution_count": 17,
   "metadata": {},
   "outputs": [],
   "source": [
    "from visibility_utils import point_in_regions\n",
    "in_regs = []\n",
    "in_regs_t = []\n",
    "out_regs = []\n",
    "out_regs_t = []\n",
    "for tpt, pt in zip(t,q):\n",
    "    if point_in_regions(pt, regions):\n",
    "        in_regs.append(pt)\n",
    "        in_regs_t.append(tpt)\n",
    "    else:\n",
    "        out_regs.append(pt)\n",
    "        out_regs_t.append(tpt)"
   ]
  },
  {
   "cell_type": "code",
   "execution_count": 18,
   "metadata": {},
   "outputs": [],
   "source": [
    "plot_points(meshcat, np.array(in_regs_t), 'in_regions', size=0.03, color=Rgba(0,1,0,1))"
   ]
  },
  {
   "cell_type": "code",
   "execution_count": null,
   "metadata": {},
   "outputs": [
    {
     "data": {
      "text/plain": [
       "300"
      ]
     },
     "execution_count": 19,
     "metadata": {},
     "output_type": "execute_result"
    }
   ],
   "source": [
    "len(out_regs)"
   ]
  },
  {
   "cell_type": "code",
   "execution_count": 17,
   "metadata": {},
   "outputs": [
    {
     "name": "stdout",
     "output_type": "stream",
     "text": [
      "r\n",
      "r\n",
      "r\n",
      "r\n"
     ]
    }
   ],
   "source": [
    "for r in regions:\n",
    "    qv =VPolytope(r).vertices().T\n",
    "    print('r')\n",
    "    for q in qv[::100]:\n",
    "        showres(q)\n",
    "        time.sleep(0.001)"
   ]
  },
  {
   "cell_type": "code",
   "execution_count": 18,
   "metadata": {},
   "outputs": [
    {
     "data": {
      "text/plain": [
       "(160420, 7)"
      ]
     },
     "execution_count": 18,
     "metadata": {},
     "output_type": "execute_result"
    }
   ],
   "source": [
    "qv.shape"
   ]
  },
  {
   "cell_type": "code",
   "execution_count": 18,
   "metadata": {},
   "outputs": [],
   "source": [
    "import time\n",
    "for pt in in_regs:\n",
    "    showres(pt)\n",
    "    time.sleep(0.2)"
   ]
  },
  {
   "cell_type": "code",
   "execution_count": 12,
   "metadata": {},
   "outputs": [],
   "source": [
    "seed = 1\n",
    "N = 1500\n",
    "eps = 0.3\n",
    "ts_fraction = 0.1\n",
    "max_iterations_clique = 10\n",
    "min_clique_size = 20\n",
    "approach = 1\n",
    "ap_names = ['redu', 'greedy', 'nx', 'cvxh', 'cvxh_ell']\n",
    "extend_cliques = False\n",
    "\n",
    "require_sample_point_is_contained = True\n",
    "iteration_limit = 1\n",
    "configuration_space_margin = 2.e-3\n",
    "termination_threshold = -1\n",
    "num_collision_infeasible_samples = 15\n",
    "relative_termination_threshold = 0.02\n",
    "\n",
    "pts_coverage_estimator = 5000\n",
    "cfg = {'seed': seed,\n",
    "        'N': N,\n",
    "        'eps': eps,\n",
    "        'use_ts': True,\n",
    "        'ts_fraction': ts_fraction,\n",
    "        'max_iterations_clique': max_iterations_clique,\n",
    "        'min_clique_size': min_clique_size,\n",
    "        'approach': approach,\n",
    "        'extend_cliques': extend_cliques,\n",
    "        'require_sample_point_is_contained':require_sample_point_is_contained,\n",
    "        'iteration_limit': iteration_limit,\n",
    "        'configuration_space_margin':configuration_space_margin,\n",
    "        'termination_threshold':termination_threshold,\n",
    "        'num_collision_infeasible_samples':num_collision_infeasible_samples,\n",
    "        'relative_termination_threshold':relative_termination_threshold,\n",
    "        'pts_coverage_estimator':pts_coverage_estimator}"
   ]
  },
  {
   "cell_type": "code",
   "execution_count": 13,
   "metadata": {},
   "outputs": [],
   "source": [
    "from visibility_utils import (get_col_func, \n",
    "                              get_sample_cfree_handle,\n",
    "                              get_coverage_estimator,\n",
    "                              vgraph)\n",
    "from region_generation import SNOPT_IRIS_ellipsoid_parallel\n",
    "from pydrake.all import SceneGraphCollisionChecker\n",
    "from visibility_logging import CliqueApproachLogger\n",
    "from visibility_clique_decomposition import VisCliqueInflation"
   ]
  },
  {
   "cell_type": "code",
   "execution_count": 14,
   "metadata": {},
   "outputs": [
    {
     "name": "stderr",
     "output_type": "stream",
     "text": [
      "INFO:drake:Allocating contexts to support 20 parallel queries given omp_num_threads 20 omp_max_threads 20 and omp_thread_limit 2147483647 OpenMP enabled in build? true\n"
     ]
    }
   ],
   "source": [
    "q_min = plant.GetPositionLowerLimits()*1\n",
    "q_max =  plant.GetPositionUpperLimits()*1\n",
    "\n",
    "col_func_handle_ = get_col_func(plant, plant_context)\n",
    "sample_cfree = get_sample_cfree_handle(q_min,q_max, col_func_handle_)\n",
    "estimate_coverage = get_coverage_estimator(sample_cfree, pts = pts_coverage_estimator)\n",
    "\n",
    "snopt_iris_options = IrisOptions()\n",
    "snopt_iris_options.require_sample_point_is_contained = require_sample_point_is_contained\n",
    "snopt_iris_options.iteration_limit = iteration_limit\n",
    "snopt_iris_options.configuration_space_margin = configuration_space_margin\n",
    "#snopt_iris_options.max_faces_per_collision_pair = 60\n",
    "snopt_iris_options.termination_threshold = termination_threshold\n",
    "#snopt_iris_options.q_star = np.zeros(3)\n",
    "snopt_iris_options.num_collision_infeasible_samples = num_collision_infeasible_samples\n",
    "snopt_iris_options.relative_termination_threshold = relative_termination_threshold\n",
    "robot_instances = [plant.GetModelInstanceByName(\"iiwa\"), plant.GetModelInstanceByName(\"wsg\")]\n",
    "\n",
    "checker = SceneGraphCollisionChecker(model = diagram.Clone(), \n",
    "                    robot_model_instances = robot_instances,\n",
    "                    distance_function_weights =  [1] * plant.num_positions(),\n",
    "                    #configuration_distance_function = _configuration_distance,\n",
    "                    edge_step_size = 0.125)\n",
    "\n",
    "def sample_handle_joint(N, M, regions, frac_ts_samples = ts_fraction, collision_free=True):\n",
    "    N_ts = int(frac_ts_samples*N)\n",
    "    N_c = N-N_ts\n",
    "    pts_q_ts, pts_t, is_full_ts = sample_handle_ts(N_ts, regions, collision_free=collision_free)\n",
    "    pts_q_c, is_full = sample_cfree(N_c, M, regions)\n",
    "    return np.concatenate((pts_q_ts, pts_q_c), axis=0), is_full\n",
    "\n",
    "vgraph_handle = partial(vgraph, checker = checker, parallelize = True) \n"
   ]
  },
  {
   "cell_type": "code",
   "execution_count": 15,
   "metadata": {},
   "outputs": [
    {
     "name": "stdout",
     "output_type": "stream",
     "text": [
      "logdir created\n",
      "[16:03:25] [VisCliqueDecomp] Attempting to cover 70.0 '%' of Cfree \n"
     ]
    },
    {
     "name": "stderr",
     "output_type": "stream",
     "text": [
      "100%|██████████| 150/150 [00:18<00:00,  7.97it/s]\n"
     ]
    },
    {
     "name": "stdout",
     "output_type": "stream",
     "text": [
      "[16:06:21] [VisCliqueDecomp] Found  9  cliques\n"
     ]
    },
    {
     "name": "stderr",
     "output_type": "stream",
     "text": [
      "INFO:drake:IrisInConfigurationSpace iteration 0\n",
      "INFO:drake:IrisInConfigurationSpace iteration 0\n",
      "INFO:drake:IrisInConfigurationSpace iteration 0\n",
      "INFO:drake:IrisInConfigurationSpace iteration 0\n",
      "INFO:drake:IrisInConfigurationSpace iteration 0\n",
      "INFO:drake:IrisInConfigurationSpace iteration 0\n",
      "INFO:drake:IrisInConfigurationSpace iteration 0\n",
      "INFO:drake:IrisInConfigurationSpace iteration 0\n",
      "INFO:drake:IrisInConfigurationSpace iteration 0\n",
      "INFO:drake: Checking wsg::collision against shelves::top has already required 150 counter-example searches; still searching...\n",
      "INFO:drake: Finished checking wsg::collision against shelves::top after 161 counter-example searches.\n",
      "INFO:drake: Checking wsg::collision against shelves::top has already required 150 counter-example searches; still searching...\n",
      "INFO:drake: Finished checking wsg::collision against shelves::top after 157 counter-example searches.\n",
      "INFO:drake: Checking wsg::collision against shelves::top has already required 150 counter-example searches; still searching...\n",
      "INFO:drake: Finished checking wsg::collision against shelves::top after 215 counter-example searches.\n",
      "INFO:drake: Checking wsg::collision against shelves::top has already required 150 counter-example searches; still searching...\n",
      "INFO:drake: Finished checking wsg::collision against shelves::top after 174 counter-example searches.\n",
      "INFO:drake: Checking wsg::collision against shelves::top has already required 150 counter-example searches; still searching...\n",
      "INFO:drake: Checking wsg::collision against shelves::top has already required 150 counter-example searches; still searching...\n",
      "INFO:drake: Finished checking wsg::collision against shelves::top after 157 counter-example searches.\n",
      "INFO:drake: Finished checking wsg::collision against shelves::top after 372 counter-example searches.\n"
     ]
    },
    {
     "name": "stdout",
     "output_type": "stream",
     "text": [
      "[SNOPT IRIS Worker]: Region:0 / 1\n",
      "[SNOPT IRIS Worker]: Region:0 / 1\n",
      "[SNOPT IRIS Worker]: Region:0 / 1\n"
     ]
    },
    {
     "name": "stderr",
     "output_type": "stream",
     "text": [
      "INFO:drake: Checking wsg::collision against shelves::top has already required 150 counter-example searches; still searching...\n",
      "INFO:drake: Finished checking wsg::collision against shelves::top after 169 counter-example searches.\n"
     ]
    },
    {
     "name": "stdout",
     "output_type": "stream",
     "text": [
      "[SNOPT IRIS Worker]: Region:0 / 1\n"
     ]
    },
    {
     "name": "stderr",
     "output_type": "stream",
     "text": [
      "INFO:drake: Checking wsg::collision against shelves::top has already required 150 counter-example searches; still searching...\n",
      "INFO:drake: Finished checking wsg::collision against shelves::top after 151 counter-example searches.\n"
     ]
    },
    {
     "name": "stdout",
     "output_type": "stream",
     "text": [
      "[SNOPT IRIS Worker]: Region:0 / 1\n"
     ]
    },
    {
     "name": "stderr",
     "output_type": "stream",
     "text": [
      "INFO:drake: Checking wsg::collision against binR::left has already required 150 counter-example searches; still searching...\n",
      "INFO:drake: Finished checking wsg::collision against binR::left after 165 counter-example searches.\n"
     ]
    },
    {
     "name": "stdout",
     "output_type": "stream",
     "text": [
      "[SNOPT IRIS Worker]: Region:0 / 1\n",
      "[SNOPT IRIS Worker]: Region:0 / 1\n",
      "[SNOPT IRIS Worker]: Region:0 / 1\n",
      "[SNOPT IRIS Worker]: Region:0 / 1\n"
     ]
    },
    {
     "name": "stderr",
     "output_type": "stream",
     "text": [
      "100%|██████████| 150/150 [00:21<00:00,  6.95it/s]\n"
     ]
    }
   ],
   "source": [
    "clogger = CliqueApproachLogger(f\"7dof_iiwa_bins\",f\"{ap_names[approach]}\", estimate_coverage=estimate_coverage, cfg_dict=cfg)\n",
    "iris_handle = partial(SNOPT_IRIS_ellipsoid_parallel,\n",
    "                        region_obstacles = [],\n",
    "                        logger = clogger, \n",
    "                        plant_builder = plant_builder,\n",
    "                        snoptiris_options = snopt_iris_options,\n",
    "                        estimate_coverage = estimate_coverage,\n",
    "                        coverage_threshold = 1- eps)\n",
    "\n",
    "vcd = VisCliqueInflation(N, \n",
    "                    eps,\n",
    "                    max_iterations=max_iterations_clique,\n",
    "                    sample_cfree = sample_handle_joint,\n",
    "                    col_handle= col_func_handle_,\n",
    "                    build_vgraph=vgraph_handle,\n",
    "                    iris_w_obstacles=iris_handle,\n",
    "                    verbose = True,\n",
    "                    logger=clogger,\n",
    "                    approach=approach,\n",
    "                    extend_cliques=extend_cliques,\n",
    "                    min_clique_size = min_clique_size\n",
    "                    )\n",
    "regs = vcd.run()"
   ]
  },
  {
   "cell_type": "code",
   "execution_count": 36,
   "metadata": {},
   "outputs": [
    {
     "data": {
      "text/plain": [
       "(100, 7)"
      ]
     },
     "execution_count": 36,
     "metadata": {},
     "output_type": "execute_result"
    }
   ],
   "source": []
  },
  {
   "cell_type": "code",
   "execution_count": 17,
   "metadata": {},
   "outputs": [
    {
     "name": "stderr",
     "output_type": "stream",
     "text": [
      "100%|██████████| 100/100 [00:10<00:00,  9.67it/s]\n"
     ]
    }
   ],
   "source": [
    "pts_q, pts_t, _ = sample_handle_ts(100,[])\n",
    "plot_points(meshcat, pts_t.squeeze(), 'tspts', size=0.01)"
   ]
  },
  {
   "cell_type": "code",
   "execution_count": 32,
   "metadata": {},
   "outputs": [
    {
     "name": "stdout",
     "output_type": "stream",
     "text": [
      "[DijkstraSPP] Pre-Building adjacency matrix  0 / 107\n",
      "[DijkstraSPP] Pre-Building adjacency matrix  10 / 107\n",
      "[DijkstraSPP] Pre-Building adjacency matrix  20 / 107\n",
      "[DijkstraSPP] Pre-Building adjacency matrix  30 / 107\n",
      "[DijkstraSPP] Pre-Building adjacency matrix  40 / 107\n",
      "[DijkstraSPP] Pre-Building adjacency matrix  50 / 107\n",
      "[DijkstraSPP] Pre-Building adjacency matrix  60 / 107\n",
      "[DijkstraSPP] Pre-Building adjacency matrix  70 / 107\n",
      "[DijkstraSPP] Pre-Building adjacency matrix  80 / 107\n",
      "[DijkstraSPP] Pre-Building adjacency matrix  90 / 107\n",
      "[DijkstraSPP] Pre-Building adjacency matrix  100 / 107\n",
      "[DijkstraSPP] Pre-Building d-adjacency matrix  0 / 5420\n",
      "[DijkstraSPP] Pre-Building d-adjacency matrix  1000 / 5420\n",
      "[DijkstraSPP] Pre-Building d-adjacency matrix  2000 / 5420\n",
      "[DijkstraSPP] Pre-Building d-adjacency matrix  3000 / 5420\n",
      "[DijkstraSPP] Pre-Building d-adjacency matrix  4000 / 5420\n"
     ]
    }
   ],
   "source": [
    "from dijkstraspp import DijkstraSPPsolver\n",
    "def dm(q):\n",
    "    return q\n",
    "dspp = DijkstraSPPsolver(regions, dm)"
   ]
  },
  {
   "cell_type": "code",
   "execution_count": null,
   "metadata": {},
   "outputs": [],
   "source": [
    "import pickle\n",
    "with open('dspp_bins_gcs.pkl', 'wb') as f:\n",
    "    pickle.dump(dspp)"
   ]
  },
  {
   "cell_type": "code",
   "execution_count": 31,
   "metadata": {},
   "outputs": [],
   "source": [
    "import time\n",
    "for pt in q:\n",
    "    showres(pt)\n",
    "    time.sleep(0.01)"
   ]
  },
  {
   "cell_type": "code",
   "execution_count": 17,
   "metadata": {},
   "outputs": [],
   "source": [
    "for i, v in enumerate(vp):\n",
    "    plot_points(meshcat, v.vertices().T, f\"vp{i}\")"
   ]
  },
  {
   "cell_type": "code",
   "execution_count": 74,
   "metadata": {},
   "outputs": [],
   "source": [
    "ids = Inspector.GetGeometries(binL_body)\n",
    "shapes = [Inspector.GetShape(id) for id in ids]"
   ]
  },
  {
   "cell_type": "code",
   "execution_count": 32,
   "metadata": {},
   "outputs": [
    {
     "data": {
      "text/plain": [
       "BodyIndex(15)"
      ]
     },
     "execution_count": 32,
     "metadata": {},
     "output_type": "execute_result"
    }
   ],
   "source": []
  },
  {
   "cell_type": "code",
   "execution_count": 99,
   "metadata": {},
   "outputs": [
    {
     "data": {
      "text/plain": [
       "<pydrake.geometry.QueryObject at 0x7f5240f27ab0>"
      ]
     },
     "execution_count": 99,
     "metadata": {},
     "output_type": "execute_result"
    }
   ],
   "source": []
  },
  {
   "cell_type": "code",
   "execution_count": 100,
   "metadata": {},
   "outputs": [
    {
     "data": {
      "text/plain": [
       "<pydrake.geometry.optimization.VPolytope at 0x7f5240f34b70>"
      ]
     },
     "execution_count": 100,
     "metadata": {},
     "output_type": "execute_result"
    }
   ],
   "source": []
  },
  {
   "cell_type": "code",
   "execution_count": null,
   "metadata": {},
   "outputs": [],
   "source": []
  },
  {
   "cell_type": "code",
   "execution_count": 78,
   "metadata": {},
   "outputs": [],
   "source": [
    "from pydrake.all import PolygonSurfaceMesh"
   ]
  },
  {
   "cell_type": "code",
   "execution_count": 66,
   "metadata": {},
   "outputs": [
    {
     "data": {
      "text/plain": [
       "<RigidBody name='top_and_bottom' index=16 model_instance=4>"
      ]
     },
     "execution_count": 66,
     "metadata": {},
     "output_type": "execute_result"
    }
   ],
   "source": [
    "plant.GetBodyByName('shelves_body', plant.GetModelInstanceByName('shelves'))\n",
    "plant.GetBodyByName('top_and_bottom', plant.GetModelInstanceByName('shelves'))\n"
   ]
  },
  {
   "cell_type": "code",
   "execution_count": 46,
   "metadata": {},
   "outputs": [
    {
     "ename": "TypeError",
     "evalue": "GetFrameId(): incompatible function arguments. The following argument types are supported:\n    1. (self: pydrake.geometry.SceneGraphInspector, geometry_id: pydrake.geometry.GeometryId) -> pydrake.geometry.FrameId\n\nInvoked with: <pydrake.geometry.SceneGraphInspector object at 0x7f524109b770>",
     "output_type": "error",
     "traceback": [
      "\u001b[0;31m---------------------------------------------------------------------------\u001b[0m",
      "\u001b[0;31mTypeError\u001b[0m                                 Traceback (most recent call last)",
      "\u001b[0;32m<ipython-input-46-8beb52077fb1>\u001b[0m in \u001b[0;36m<module>\u001b[0;34m\u001b[0m\n\u001b[0;32m----> 1\u001b[0;31m \u001b[0mInspector\u001b[0m\u001b[0;34m.\u001b[0m\u001b[0mGetFrameId\u001b[0m\u001b[0;34m(\u001b[0m\u001b[0;34m)\u001b[0m\u001b[0;34m\u001b[0m\u001b[0;34m\u001b[0m\u001b[0m\n\u001b[0m",
      "\u001b[0;31mTypeError\u001b[0m: GetFrameId(): incompatible function arguments. The following argument types are supported:\n    1. (self: pydrake.geometry.SceneGraphInspector, geometry_id: pydrake.geometry.GeometryId) -> pydrake.geometry.FrameId\n\nInvoked with: <pydrake.geometry.SceneGraphInspector object at 0x7f524109b770>"
     ]
    }
   ],
   "source": [
    "Inspector.GetFrameId()"
   ]
  },
  {
   "cell_type": "code",
   "execution_count": 31,
   "metadata": {},
   "outputs": [],
   "source": [
    "from pydrake.all import GlobalInverseKinematics"
   ]
  },
  {
   "cell_type": "code",
   "execution_count": 51,
   "metadata": {},
   "outputs": [
    {
     "ename": "TypeError",
     "evalue": "GetGeometryIdByName(): incompatible function arguments. The following argument types are supported:\n    1. (self: pydrake.geometry.SceneGraphInspector, frame_id: pydrake.geometry.FrameId, role: pydrake.geometry.Role, name: str) -> pydrake.geometry.GeometryId\n\nInvoked with: <pydrake.geometry.SceneGraphInspector object at 0x7f524109b770>",
     "output_type": "error",
     "traceback": [
      "\u001b[0;31m---------------------------------------------------------------------------\u001b[0m",
      "\u001b[0;31mTypeError\u001b[0m                                 Traceback (most recent call last)",
      "\u001b[0;32m<ipython-input-51-c0a9f9660cc0>\u001b[0m in \u001b[0;36m<module>\u001b[0;34m\u001b[0m\n\u001b[0;32m----> 1\u001b[0;31m \u001b[0mInspector\u001b[0m\u001b[0;34m.\u001b[0m\u001b[0mGetGeometryIdByName\u001b[0m\u001b[0;34m(\u001b[0m\u001b[0;34m)\u001b[0m\u001b[0;34m\u001b[0m\u001b[0;34m\u001b[0m\u001b[0m\n\u001b[0m",
      "\u001b[0;31mTypeError\u001b[0m: GetGeometryIdByName(): incompatible function arguments. The following argument types are supported:\n    1. (self: pydrake.geometry.SceneGraphInspector, frame_id: pydrake.geometry.FrameId, role: pydrake.geometry.Role, name: str) -> pydrake.geometry.GeometryId\n\nInvoked with: <pydrake.geometry.SceneGraphInspector object at 0x7f524109b770>"
     ]
    }
   ],
   "source": [
    "Inspector.Get()"
   ]
  },
  {
   "cell_type": "code",
   "execution_count": 17,
   "metadata": {},
   "outputs": [],
   "source": [
    "g_ik = GlobalInverseKinematics(plant)"
   ]
  },
  {
   "cell_type": "code",
   "execution_count": 22,
   "metadata": {},
   "outputs": [
    {
     "ename": "NameError",
     "evalue": "name 'tf' is not defined",
     "output_type": "error",
     "traceback": [
      "\u001b[0;31m---------------------------------------------------------------------------\u001b[0m",
      "\u001b[0;31mNameError\u001b[0m                                 Traceback (most recent call last)",
      "\u001b[0;32m<ipython-input-22-13b072dfc13a>\u001b[0m in \u001b[0;36m<module>\u001b[0;34m\u001b[0m\n\u001b[1;32m      1\u001b[0m g_ik.AddWorldPositionConstraint(plant.GetBodyByName('base').index(), \n\u001b[1;32m      2\u001b[0m                                 \u001b[0mnp\u001b[0m\u001b[0;34m.\u001b[0m\u001b[0mzeros\u001b[0m\u001b[0;34m(\u001b[0m\u001b[0;36m3\u001b[0m\u001b[0;34m)\u001b[0m\u001b[0;34m,\u001b[0m\u001b[0;34m\u001b[0m\u001b[0;34m\u001b[0m\u001b[0m\n\u001b[0;32m----> 3\u001b[0;31m                                 \u001b[0mtf\u001b[0m\u001b[0;34m.\u001b[0m\u001b[0mtranslation\u001b[0m\u001b[0;34m(\u001b[0m\u001b[0;34m)\u001b[0m\u001b[0;34m-\u001b[0m\u001b[0;36m0.05\u001b[0m\u001b[0;34m,\u001b[0m\u001b[0;34m\u001b[0m\u001b[0;34m\u001b[0m\u001b[0m\n\u001b[0m\u001b[1;32m      4\u001b[0m                                 tf.translation()+0.05,)\n",
      "\u001b[0;31mNameError\u001b[0m: name 'tf' is not defined"
     ]
    }
   ],
   "source": [
    "g_ik.AddWorldPositionConstraint(plant.GetBodyByName('base').index(), \n",
    "                                np.zeros(3),\n",
    "                                tf.translation()-0.05,\n",
    "                                tf.translation()+0.05,)"
   ]
  },
  {
   "cell_type": "code",
   "execution_count": null,
   "metadata": {},
   "outputs": [],
   "source": [
    "def get_gik_problem_solver(plant_ik, plant_context_ik, body_indices, collision_free= False):\n",
    "    def solve_gik_problem(poses, q0, collision_free = collision_free):\n",
    "        q_min = plant.GetPositionLowerLimits()\n",
    "        q_max = plant.GetPositionUpperLimits()\n",
    "        q_diff =  q_max-q_min\n",
    "        gik = GlobalInverseKinematics(plant_ik)\n",
    "        #GlobalInverseKinematics(plant_ik) #InverseKinematics(plant_ik, plant_context_ik)\n",
    "    \n",
    "        for pose, b in zip(poses, body_indices):\n",
    "            gik.AddWorldPositionConstraint(\n",
    "                b,\n",
    "                np.zeros(3),\n",
    "                plant_ik.world_frame(),\n",
    "                pose.translation()-0.05,\n",
    "                pose.translation()+0.05,\n",
    "            )\n",
    "            # ik.AddWorldPositionConstraint(plant.GetBodyByName('ur_tool0').index(), \n",
    "            #                               pose.translation(),\n",
    "            #                               pose.translation()-0.05,\n",
    "            #                               pose.translation()+0.05)\n",
    "            gik.AddOrientationConstraint(\n",
    "                f,\n",
    "                RotationMatrix(),\n",
    "                plant_ik.world_frame(),\n",
    "                pose.rotation(),\n",
    "                0.01,\n",
    "            )\n",
    "        prog = ik.get_mutable_prog()\n",
    "        q = ik.q()\n",
    "        prog.AddQuadraticErrorCost(np.identity(len(q)), q0, q)\n",
    "        prog.SetInitialGuess(q, q0)\n",
    "        result = Solve(ik.prog())\n",
    "        if result.is_success():\n",
    "                return result.GetSolution(q)\n",
    "        return None\n",
    "    return solve_ik_problem"
   ]
  },
  {
   "cell_type": "code",
   "execution_count": 18,
   "metadata": {},
   "outputs": [
    {
     "data": {
      "text/plain": [
       "['AddPostureCost',\n",
       " 'AddWorldOrientationConstraint',\n",
       " 'AddWorldPositionConstraint',\n",
       " 'AddWorldRelativePositionConstraint',\n",
       " 'Options',\n",
       " 'ReconstructGeneralizedPositionSolution',\n",
       " 'SetInitialGuess',\n",
       " '__class__',\n",
       " '__del__',\n",
       " '__delattr__',\n",
       " '__dir__',\n",
       " '__doc__',\n",
       " '__eq__',\n",
       " '__format__',\n",
       " '__ge__',\n",
       " '__getattribute__',\n",
       " '__gt__',\n",
       " '__hash__',\n",
       " '__init__',\n",
       " '__init_subclass__',\n",
       " '__le__',\n",
       " '__lt__',\n",
       " '__module__',\n",
       " '__ne__',\n",
       " '__new__',\n",
       " '__reduce__',\n",
       " '__reduce_ex__',\n",
       " '__repr__',\n",
       " '__setattr__',\n",
       " '__sizeof__',\n",
       " '__str__',\n",
       " '__subclasshook__',\n",
       " '_pybind11_del_orig',\n",
       " 'body_position',\n",
       " 'body_rotation_matrix',\n",
       " 'get_mutable_prog',\n",
       " 'prog']"
      ]
     },
     "execution_count": 18,
     "metadata": {},
     "output_type": "execute_result"
    }
   ],
   "source": [
    "dir(g_ik)"
   ]
  },
  {
   "cell_type": "code",
   "execution_count": 27,
   "metadata": {},
   "outputs": [
    {
     "data": {
      "text/plain": [
       "GlobalInverseKinematics.Options(num_intervals_per_half_axis=2, approach=Approach.kBilinearMcCormick, interval_binning=IntervalBinning.kLogarithmic, linear_constraint_only=False)"
      ]
     },
     "execution_count": 27,
     "metadata": {},
     "output_type": "execute_result"
    }
   ],
   "source": [
    "GlobalInverseKinematics.Options()"
   ]
  },
  {
   "cell_type": "code",
   "execution_count": null,
   "metadata": {},
   "outputs": [],
   "source": []
  },
  {
   "cell_type": "code",
   "execution_count": 13,
   "metadata": {},
   "outputs": [
    {
     "data": {
      "application/vnd.jupyter.widget-view+json": {
       "model_id": "83478ac6aeca4b5facfd2180d234908b",
       "version_major": 2,
       "version_minor": 0
      },
      "text/plain": [
       "FloatSlider(value=0.0, description='x', max=1.0, min=-0.5)"
      ]
     },
     "metadata": {},
     "output_type": "display_data"
    },
    {
     "data": {
      "application/vnd.jupyter.widget-view+json": {
       "model_id": "93154d84c9bd45fc9342d0f776c40ed7",
       "version_major": 2,
       "version_minor": 0
      },
      "text/plain": [
       "FloatSlider(value=0.0, description='y', max=0.5, min=-0.5)"
      ]
     },
     "metadata": {},
     "output_type": "display_data"
    },
    {
     "data": {
      "application/vnd.jupyter.widget-view+json": {
       "model_id": "2f0997b799224fb89835022eaf44188f",
       "version_major": 2,
       "version_minor": 0
      },
      "text/plain": [
       "FloatSlider(value=0.01, description='z', max=1.0, min=0.01)"
      ]
     },
     "metadata": {},
     "output_type": "display_data"
    },
    {
     "data": {
      "application/vnd.jupyter.widget-view+json": {
       "model_id": "e4dd2836b29949d2a8b7da4a3dcae673",
       "version_major": 2,
       "version_minor": 0
      },
      "text/plain": [
       "FloatSlider(value=0.0, description='rx', max=3.141592653589793, min=-3.141592653589793)"
      ]
     },
     "metadata": {},
     "output_type": "display_data"
    },
    {
     "data": {
      "application/vnd.jupyter.widget-view+json": {
       "model_id": "e804c3181a9548828e85c23d749290e8",
       "version_major": 2,
       "version_minor": 0
      },
      "text/plain": [
       "FloatSlider(value=0.0, description='ry', max=3.141592653589793, min=-3.141592653589793)"
      ]
     },
     "metadata": {},
     "output_type": "display_data"
    },
    {
     "data": {
      "application/vnd.jupyter.widget-view+json": {
       "model_id": "415989923be54a3092a7ab597918d540",
       "version_major": 2,
       "version_minor": 0
      },
      "text/plain": [
       "FloatSlider(value=0.0, description='rz', max=3.141592653589793, min=-3.141592653589793)"
      ]
     },
     "metadata": {},
     "output_type": "display_data"
    }
   ],
   "source": []
  },
  {
   "cell_type": "code",
   "execution_count": null,
   "metadata": {},
   "outputs": [],
   "source": []
  },
  {
   "cell_type": "code",
   "execution_count": null,
   "metadata": {},
   "outputs": [],
   "source": []
  },
  {
   "cell_type": "code",
   "execution_count": null,
   "metadata": {},
   "outputs": [],
   "source": []
  },
  {
   "cell_type": "code",
   "execution_count": null,
   "metadata": {},
   "outputs": [],
   "source": []
  },
  {
   "cell_type": "code",
   "execution_count": null,
   "metadata": {},
   "outputs": [],
   "source": []
  },
  {
   "cell_type": "code",
   "execution_count": null,
   "metadata": {},
   "outputs": [],
   "source": []
  },
  {
   "cell_type": "code",
   "execution_count": null,
   "metadata": {},
   "outputs": [],
   "source": []
  },
  {
   "cell_type": "code",
   "execution_count": null,
   "metadata": {},
   "outputs": [],
   "source": []
  },
  {
   "cell_type": "code",
   "execution_count": null,
   "metadata": {},
   "outputs": [],
   "source": []
  },
  {
   "cell_type": "code",
   "execution_count": null,
   "metadata": {},
   "outputs": [],
   "source": [
    "# start = np.array([-2.06706, -0.3944 ,  1.43294,  0.9056 ,  0.53294, -0.8944 ,\n",
    "#         0.74567])\n",
    "# end = np.array([ 1.23294, -0.1944 ,  0.     ,  1.6056 ,  1.43294,  1.1056 ,\n",
    "#         0.24567])\n",
    "\n",
    "poi =np.array([\n",
    "    #[-2.06706, -0.3944 ,  1.43294,  0.9056 ,  0.53294, -0.8944 ,\n",
    "     #   0.74567],\n",
    "        [ 1.83294, -0.0944 , -0.06706, -1.2944 ,  1.53294,  1.4056 ,\n",
    "        0.34567],\n",
    "        [ 1.23294, -0.1944 ,  0.     ,  1.6056 ,  1.43294,  1.1056 ,\n",
    "        0.24567],\n",
    "        [ 1.23294, -0.1944 ,  0.     ,  1.1056 ,  1.43294,  1.1056 ,\n",
    "       -0.15433],\n",
    "       [ 1.23294, -0.4944 , -0.06706,  2.0056 ,  1.23294,  1.3056 ,\n",
    "        0.94567],\n",
    "        \n",
    "        [ 1.83294,  0.3056 , -0.06706, -1.3944 ,  1.53294,  1.4056 ,\n",
    "       -0.05433],\n",
    "       [ 1.63294,  0.7056 ,  0.23294, -1.6944 ,  1.53294,  1.2056 ,\n",
    "       -0.65433]])\n",
    "showres(poi[0])"
   ]
  },
  {
   "cell_type": "code",
   "execution_count": null,
   "metadata": {},
   "outputs": [],
   "source": [
    "import os \n",
    "'experiment_7dof_iiwa__1_1500_0.300greedy20230908201834' in os.listdir('logs')"
   ]
  },
  {
   "cell_type": "code",
   "execution_count": null,
   "metadata": {},
   "outputs": [],
   "source": [
    "import pickle\n",
    "path = 'logs_icra_paper/experiment_7dof_iiwa__1_1500_0.300greedy20230908201834'\n",
    "with open(path+'/data/it_2.pkl', 'rb') as f:\n",
    "    data = pickle.load(f)\n",
    "\n",
    "regions = []\n",
    "for ga,gb in zip(data['ra'], data['rb']):\n",
    "    for a,b in zip(ga,gb):\n",
    "        regions.append(HPolyhedron(a,b))\n",
    "regions = regions[:43]"
   ]
  },
  {
   "cell_type": "code",
   "execution_count": null,
   "metadata": {},
   "outputs": [],
   "source": [
    "from visibility_utils import point_in_regions\n",
    "for p in poi:\n",
    "    print(point_in_regions(p, regions))"
   ]
  },
  {
   "cell_type": "code",
   "execution_count": null,
   "metadata": {},
   "outputs": [],
   "source": [
    "from region_generation import SNOPT_IRIS_obstacles\n",
    "def estimate_coverage(r):\n",
    "    return 0\n",
    "snopt_iris_options = IrisOptions()\n",
    "snopt_iris_options.require_sample_point_is_contained = True\n",
    "snopt_iris_options.iteration_limit = 6\n",
    "snopt_iris_options.configuration_space_margin = 2e-3\n",
    "#snopt_iris_options.max_faces_per_collision_pair = 60\n",
    "snopt_iris_options.termination_threshold = -1\n",
    "#snopt_iris_options.q_star = np.zeros(3)\n",
    "snopt_iris_options.num_collision_infeasible_samples = 15\n",
    "snopt_iris_options.relative_termination_threshold = 0.02\n",
    "\n",
    "iris_handle = partial(SNOPT_IRIS_obstacles, \n",
    "                        logger = None, \n",
    "                        plant = plant, \n",
    "                        context = diagram_context,\n",
    "                        snoptiris_options = snopt_iris_options,\n",
    "                        estimate_coverage = estimate_coverage,\n",
    "                        coverage_threshold = 1)\n",
    "\n",
    "\n",
    "showres(poi[4,:])\n",
    "\n",
    "# 213  054\n",
    "seq = [2,1,3,5,4,0,2] \n",
    "# r_poi,_ = iris_handle(poi, [], [])\n",
    "#r_poi = [r1[0],r2[0]]\n",
    "# with open('rpoi_3shelf.pkl', 'wb') as f:\n",
    "#     ra = [r.A() for r in r_poi]\n",
    "#     rb = [r.b() for r in r_poi]\n",
    "#     pickle.dump([ra, rb], f)"
   ]
  },
  {
   "cell_type": "code",
   "execution_count": null,
   "metadata": {},
   "outputs": [],
   "source": [
    "import pickle\n",
    "with open('tmp/rpoi_3shelf.pkl', 'rb') as f:\n",
    "    rpoilist = pickle.load(f)\n",
    "\n",
    "r_poi = []\n",
    "for ra, rb in zip(rpoilist[0], rpoilist[1]):\n",
    "    r_poi.append(HPolyhedron(ra,rb))\n",
    "    ra = [r.A() for r in r_poi]\n",
    "    rb = [r.b() for r in r_poi]\n",
    "    #pickle.dump([ra, rb], f)"
   ]
  },
  {
   "cell_type": "code",
   "execution_count": null,
   "metadata": {},
   "outputs": [],
   "source": [
    "import networkx as nx\n",
    "import matplotlib.pyplot as plt\n",
    "from visibility_utils import generate_distinct_colors\n",
    "\n",
    "regs = regions+r_poi\n",
    "connectivity_graph = nx.Graph()\n",
    "for idx in range(len(regs)):\n",
    "    connectivity_graph.add_node(idx)\n",
    "\n",
    "\n",
    "for idx1 in range(len(regs)):\n",
    "    for idx2 in range(idx1 +1, len(regs)):\n",
    "        r1 = regs[idx1]\n",
    "        r2 = regs[idx2]\n",
    "        if r1.IntersectsWith(r2):\n",
    "            connectivity_graph.add_edge(idx1,idx2)\n",
    "\n",
    "largest_con_comp = list(list(nx.connected_components(connectivity_graph))[0])\n",
    "regions_connected_component = [regs[i] for i in largest_con_comp]\n",
    "\n",
    "fig = plt.figure(figsize=(10,10))\n",
    "hues = generate_distinct_colors(2+1)[1:]\n",
    "colors = []\n",
    "for g, h in zip([regions, r_poi], hues):\n",
    "    colors += [h]*len(g)\n",
    "\n",
    "nx.draw_spring(connectivity_graph, \n",
    "                with_labels = True, \n",
    "                node_color = colors)\n",
    "plt.title(f\"connectivity\")\n",
    "\n",
    "def densify_waypoints(waypoints_q, densify = 200):\n",
    "    dists = []\n",
    "    dense_waypoints = []\n",
    "    for idx in range(len(waypoints_q[:-1])):\n",
    "        a = waypoints_q[idx]\n",
    "        b = waypoints_q[idx+1]\n",
    "        t = np.linspace(1,0, 10)\n",
    "        locs_endeff = []\n",
    "        dists_endeff = []\n",
    "        for tval in t:\n",
    "            a = a*tval + b*(1-tval)\n",
    "            qa = a#Ratfk.ComputeQValue(ta, np.zeros(7))\n",
    "            #showres(qa)\n",
    "            #time.sleep(0.1)            \n",
    "            plant.SetPositions(plant_context, qa)\n",
    "            tf_tot= plant.EvalBodyPoseInWorld(plant_context, plant.get_body(pydrake.multibody.tree.BodyIndex(9)))\n",
    "            tf = tf_tot.translation() + tf_tot.GetAsMatrix4()[:3,:3][:,1] *0.13\n",
    "            locs_endeff.append(tf)\n",
    "        for i in range(len(locs_endeff)-1):\n",
    "            dists_endeff.append(np.linalg.norm(locs_endeff[i]- locs_endeff[i+1]))\n",
    "        d = np.sum(dists_endeff)\n",
    "        #print(d * densify)\n",
    "        t = np.linspace(1,0,int(densify*d))\n",
    "        for tval in t:\n",
    "            dense_waypoints.append(waypoints_q[idx]*tval + waypoints_q[idx+1]*(1-tval))\n",
    "    return dense_waypoints\n",
    "\n",
    "def plot_endeff_traj_s(dense,name = '', color = (1,0,0,1)):\n",
    "    plot_endeff_traj(np.array([Ratfk.ComputeQValue(w,np.zeros(7)) for w in dense]), name, color)\n",
    "\n",
    "def plot_endeff_traj(dense_waypoints, name = '', color= (1,0,0,1)):\n",
    "    color = Rgba(color[0], color[1], color[2], color[3])\n",
    "    start_idx = 0\n",
    "    for i, qa in enumerate(dense_waypoints):\n",
    "        #qa = Ratfk.ComputeQValue(ta, np.zeros(7))\n",
    "        #showres(qa)\n",
    "        #time.sleep(0.1)            \n",
    "        plant.SetPositions(plant_context, qa)\n",
    "        tf_tot= plant.EvalBodyPoseInWorld(plant_context, plant.get_body(pydrake.multibody.tree.BodyIndex(9)))\n",
    "        tf = tf_tot.translation() + tf_tot.GetAsMatrix4()[:3,:3][:,1] *0.13\n",
    "\n",
    "        meshcat.SetObject(f\"/iris/points/traj/{name}/{i+start_idx}\",\n",
    "                               Sphere(0.01),\n",
    "                               color)\n",
    "\n",
    "        meshcat.SetTransform(f\"/iris/points/traj/{name}/{i+start_idx}\",\n",
    "                                   RigidTransform(RotationMatrix(),\n",
    "                                                  tf))"
   ]
  },
  {
   "cell_type": "code",
   "execution_count": null,
   "metadata": {},
   "outputs": [],
   "source": [
    "def conversion_dummy(q):\n",
    "    return q\n",
    "import dijkstraspp\n",
    "dspp = dijkstraspp.DijkstraSPPsolver(regions + r_poi, conversion_dummy)\n",
    "# import pickle\n",
    "# dsppname = \"7dofnew_dspp_small.pkl\"\n",
    "# with open(dsppname, 'rb') as f:\n",
    "#     dspp = pickle.load( f)\n",
    "import pickle\n",
    "dsppname = \"tmp/7dofnew_dspp_small.pkl\"\n",
    "with open(dsppname, 'wb') as f:\n",
    "    pickle.dump(dspp, f)"
   ]
  },
  {
   "cell_type": "code",
   "execution_count": null,
   "metadata": {},
   "outputs": [],
   "source": [
    "colors = [(1,0,0,1),(1,1,0,1),\n",
    "(0,1,0,1),\n",
    "(0,1,1,1),\n",
    "(0,0,1,1),\n",
    "(1,0,1,1),\n",
    "]\n",
    "\n",
    "meshcat.Delete(\"/iris/points/traj/\")\n",
    "for idx,i in enumerate(seq[:-1]):\n",
    "    wp, dist = dspp.solve(poi[i,:], poi[seq[idx+1],:], refine_path = True)\n",
    "    wpd = densify_waypoints(wp)\n",
    "    plot_endeff_traj(wpd, str(i), colors[i])\n",
    "\n",
    "\n"
   ]
  },
  {
   "cell_type": "code",
   "execution_count": null,
   "metadata": {},
   "outputs": [],
   "source": [
    "from pydrake.all import Mesh\n",
    "a = Mesh('display_signs/7dof_sign_arxiv.gltf')\n",
    "meshcat.SetObject('/instructionsign', a)\n",
    "meshcat.SetTransform('/instructionsign',RigidTransform(\n",
    "                            RotationMatrix.MakeZRotation(-np.pi/2)@RotationMatrix.MakeXRotation(-np.pi/2), \n",
    "                            np.array([0, 10 , 0])))"
   ]
  },
  {
   "cell_type": "code",
   "execution_count": null,
   "metadata": {},
   "outputs": [],
   "source": [
    "frame_time = 1/32.0\n",
    "cur_time = 0\n",
    "meshcat.SetProperty(f\"/Grid\", \"visible\", False)\n",
    "meshcat.SetProperty(f\"/drake/visualizer/shunk\", \"visible\", False)\n",
    "meshcat.StartRecording()\n",
    "animation = meshcat.get_mutable_recording()\n",
    "for i in range(20):\n",
    "    wp, dist = dspp.solve(poi[seq[(i)%len(seq)],:], poi[seq[(i+1)%len(seq)],:], refine_path = True)\n",
    "    wpd = densify_waypoints(wp, 50)\n",
    "    for qa in wpd:\n",
    "        showres(qa)\n",
    "        diagram_context.SetTime(cur_time)\n",
    "        if col_func_handle(qa):\n",
    "            print('col')\n",
    "        cur_time+=frame_time\n",
    "        time.sleep(frame_time)\n",
    "meshcat.StopRecording()\n",
    "animation.set_autoplay(True)\n",
    "meshcat.PublishRecording()\n",
    "with open(\"static_htmls/7DOF_IIWA_arxiv.html\", \"w+\") as f:\n",
    "    f.write(meshcat.StaticHtml())"
   ]
  },
  {
   "cell_type": "code",
   "execution_count": null,
   "metadata": {},
   "outputs": [],
   "source": [
    "def plot_endeff_traj_s(dense,name = '', color = (1,0,0,1)):\n",
    "    plot_endeff_traj(np.array([Ratfk.ComputeQValue(w,np.zeros(7)) for w in dense]), name, color)\n",
    "\n",
    "def plot_endeff_traj(dense_waypoints, name = '', color= (1,0,0,1)):\n",
    "    color = Rgba(color[0], color[1], color[2], color[3])\n",
    "    start_idx = 0\n",
    "    for i, qa in enumerate(dense_waypoints):\n",
    "        #qa = Ratfk.ComputeQValue(ta, np.zeros(7))\n",
    "        #showres(qa)\n",
    "        #time.sleep(0.1)            \n",
    "        plant.SetPositions(plant_context, qa)\n",
    "        tf_tot= plant.EvalBodyPoseInWorld(plant_context, plant.get_body(pydrake.multibody.tree.BodyIndex(9)))\n",
    "        tf = tf_tot.translation() + tf_tot.GetAsMatrix4()[:3,:3][:,1] *0.13\n",
    "\n",
    "        meshcat.SetObject(f\"/iris/points/traj/{name}/{i+start_idx}\",\n",
    "                               Sphere(0.01),\n",
    "                               color)\n",
    "\n",
    "        meshcat.SetTransform(f\"/iris/points/traj/{name}/{i+start_idx}\",\n",
    "                                   RigidTransform(RotationMatrix(),\n",
    "                                                  tf))"
   ]
  },
  {
   "cell_type": "code",
   "execution_count": null,
   "metadata": {},
   "outputs": [],
   "source": []
  }
 ],
 "metadata": {
  "kernelspec": {
   "display_name": "Python 3",
   "language": "python",
   "name": "python3"
  },
  "language_info": {
   "codemirror_mode": {
    "name": "ipython",
    "version": 3
   },
   "file_extension": ".py",
   "mimetype": "text/x-python",
   "name": "python",
   "nbconvert_exporter": "python",
   "pygments_lexer": "ipython3",
   "version": "3.8.10"
  },
  "orig_nbformat": 4
 },
 "nbformat": 4,
 "nbformat_minor": 2
}
