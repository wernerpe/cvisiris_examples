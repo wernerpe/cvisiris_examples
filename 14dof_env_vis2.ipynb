{
 "cells": [
  {
   "cell_type": "code",
   "execution_count": 1,
   "metadata": {},
   "outputs": [],
   "source": [
    "import numpy as np\n",
    "from functools import partial\n",
    "import ipywidgets as widgets\n",
    "from IPython.display import display"
   ]
  },
  {
   "cell_type": "code",
   "execution_count": 2,
   "metadata": {},
   "outputs": [],
   "source": [
    "#pydrake imports\n",
    "from pydrake.all import RationalForwardKinematics\n",
    "from pydrake.geometry.optimization import IrisOptions, HPolyhedron, Hyperellipsoid\n",
    "from pydrake.solvers import MosekSolver, CommonSolverOption, SolverOptions\n",
    "from pydrake.all import PiecewisePolynomial, InverseKinematics, Sphere, Rgba, RigidTransform, RotationMatrix, IrisInConfigurationSpace\n",
    "import time\n",
    "import pydrake\n",
    "from pydrake.all import (SceneGraphCollisionChecker, \n",
    "                         StartMeshcat, \n",
    "                         RobotDiagramBuilder,\n",
    "                         ProcessModelDirectives,\n",
    "                         LoadModelDirectives,\n",
    "                         MeshcatVisualizer)\n",
    "from pydrake.all import GeometrySet, CollisionFilterDeclaration\n",
    "from scipy.special import comb\n",
    "import matplotlib.pyplot as plt\n",
    "import logging\n",
    "from C_Iris_Examples.visualization_utils import visualize_body_at_s\n",
    "from C_Iris_Examples.sampling_based_motion_planners import StraightLineCollisionChecker, PRMFixedEdges, BiRRT\n",
    "import C_Iris_Examples.visualization_utils as vis_utils\n",
    "from pathlib import Path\n",
    "import pickle\n",
    "from pydrake.all import ModelInstanceIndex\n",
    "from pydrake.polynomial import Polynomial as PolynomialCommon\n",
    "\n",
    "drake_logger = logging.getLogger(\"drake\")\n",
    "drake_logger.setLevel(logging.DEBUG)\n"
   ]
  },
  {
   "cell_type": "code",
   "execution_count": 3,
   "metadata": {},
   "outputs": [
    {
     "name": "stderr",
     "output_type": "stream",
     "text": [
      "DEBUG:drake:FindResource ignoring DRAKE_RESOURCE_ROOT because it is not set.\n",
      "DEBUG:drake:FindRunfile mechanism = RUNFILES_{MANIFEST_FILE,DIR}\n",
      "DEBUG:drake:cwd = \"/home/amice/Documents/coding_projects/drake/cvisiris_examples\"\n",
      "DEBUG:drake:FindRunfile found by-manifest '/home/amice/Documents/coding_projects/drake/.drake-find_resource-sentinel' (good) and by-directory '/home/amice/.cache/bazel/_bazel_amice/32fdbbecfa8a7ce8feece95e48c42006/execroot/drake/bazel-out/k8-opt/bin/cvisiris_examples/14dof_env_vis2.runfiles/drake/.drake-find_resource-sentinel' (good)\n",
      "DEBUG:drake:FindRunfile found by-manifest '/home/amice/.cache/bazel/_bazel_amice/32fdbbecfa8a7ce8feece95e48c42006/execroot/drake/bazel-out/k8-opt/bin/geometry/meshcat.js' (good) and by-directory '/home/amice/.cache/bazel/_bazel_amice/32fdbbecfa8a7ce8feece95e48c42006/execroot/drake/bazel-out/k8-opt/bin/cvisiris_examples/14dof_env_vis2.runfiles/drake/geometry/meshcat.js' (good)\n",
      "DEBUG:drake:FindResource ignoring DRAKE_RESOURCE_ROOT because it is not set.\n",
      "DEBUG:drake:FindRunfile found by-manifest '/home/amice/Documents/coding_projects/drake/.drake-find_resource-sentinel' (good) and by-directory '/home/amice/.cache/bazel/_bazel_amice/32fdbbecfa8a7ce8feece95e48c42006/execroot/drake/bazel-out/k8-opt/bin/cvisiris_examples/14dof_env_vis2.runfiles/drake/.drake-find_resource-sentinel' (good)\n",
      "DEBUG:drake:FindRunfile found by-manifest '/home/amice/.cache/bazel/_bazel_amice/32fdbbecfa8a7ce8feece95e48c42006/execroot/drake/bazel-out/k8-opt/bin/geometry/stats.min.js' (good) and by-directory '/home/amice/.cache/bazel/_bazel_amice/32fdbbecfa8a7ce8feece95e48c42006/execroot/drake/bazel-out/k8-opt/bin/cvisiris_examples/14dof_env_vis2.runfiles/drake/geometry/stats.min.js' (good)\n",
      "DEBUG:drake:FindResource ignoring DRAKE_RESOURCE_ROOT because it is not set.\n",
      "DEBUG:drake:FindRunfile found by-manifest '/home/amice/Documents/coding_projects/drake/.drake-find_resource-sentinel' (good) and by-directory '/home/amice/.cache/bazel/_bazel_amice/32fdbbecfa8a7ce8feece95e48c42006/execroot/drake/bazel-out/k8-opt/bin/cvisiris_examples/14dof_env_vis2.runfiles/drake/.drake-find_resource-sentinel' (good)\n",
      "DEBUG:drake:FindRunfile found by-manifest '/home/amice/.cache/bazel/_bazel_amice/32fdbbecfa8a7ce8feece95e48c42006/execroot/drake/bazel-out/k8-opt/bin/geometry/meshcat.ico' (good) and by-directory '/home/amice/.cache/bazel/_bazel_amice/32fdbbecfa8a7ce8feece95e48c42006/execroot/drake/bazel-out/k8-opt/bin/cvisiris_examples/14dof_env_vis2.runfiles/drake/geometry/meshcat.ico' (good)\n",
      "DEBUG:drake:FindResource ignoring DRAKE_RESOURCE_ROOT because it is not set.\n",
      "DEBUG:drake:FindRunfile found by-manifest '/home/amice/Documents/coding_projects/drake/.drake-find_resource-sentinel' (good) and by-directory '/home/amice/.cache/bazel/_bazel_amice/32fdbbecfa8a7ce8feece95e48c42006/execroot/drake/bazel-out/k8-opt/bin/cvisiris_examples/14dof_env_vis2.runfiles/drake/.drake-find_resource-sentinel' (good)\n",
      "DEBUG:drake:FindRunfile found by-manifest '/home/amice/Documents/coding_projects/drake/geometry/meshcat.html' (good) and by-directory '/home/amice/.cache/bazel/_bazel_amice/32fdbbecfa8a7ce8feece95e48c42006/execroot/drake/bazel-out/k8-opt/bin/cvisiris_examples/14dof_env_vis2.runfiles/drake/geometry/meshcat.html' (good)\n",
      "INFO:drake:Meshcat listening for connections at http://localhost:7000\n"
     ]
    }
   ],
   "source": [
    "meshcat = StartMeshcat()"
   ]
  },
  {
   "cell_type": "code",
   "execution_count": 9,
   "metadata": {},
   "outputs": [
    {
     "name": "stderr",
     "output_type": "stream",
     "text": [
      "DEBUG:drake:FindResource ignoring DRAKE_RESOURCE_ROOT because it is not set.\n",
      "DEBUG:drake:FindRunfile found by-manifest '/home/amice/Documents/coding_projects/drake/.drake-find_resource-sentinel' (good) and by-directory '/home/amice/.cache/bazel/_bazel_amice/32fdbbecfa8a7ce8feece95e48c42006/execroot/drake/bazel-out/k8-opt/bin/cvisiris_examples/14dof_env_vis2.runfiles/drake/.drake-find_resource-sentinel' (good)\n",
      "DEBUG:drake:FindRunfile found by-manifest '/home/amice/Documents/coding_projects/drake/package.xml' (good) and by-directory '/home/amice/.cache/bazel/_bazel_amice/32fdbbecfa8a7ce8feece95e48c42006/execroot/drake/bazel-out/k8-opt/bin/cvisiris_examples/14dof_env_vis2.runfiles/drake/package.xml' (good)\n",
      "DEBUG:drake:FindRunfile found by-manifest '/home/amice/.cache/bazel/_bazel_amice/32fdbbecfa8a7ce8feece95e48c42006/external/drake_models/package.xml' (good) and by-directory '/home/amice/.cache/bazel/_bazel_amice/32fdbbecfa8a7ce8feece95e48c42006/execroot/drake/bazel-out/k8-opt/bin/cvisiris_examples/14dof_env_vis2.runfiles/drake_models/package.xml' (good)\n",
      "DEBUG:drake:LoadModelDirectives: 14_dof_directives_newshelf.yaml\n",
      "DEBUG:drake:ParseModelDirectivesImpl(MultibodyPlant)\n",
      "DEBUG:drake:  add_model: iiwa1\n",
      "    package://drake/cvisiris_examples/assets/models/iiwa_description/iiwa6/iiwa6_with_box_collision.sdf\n",
      "DEBUG:drake:SDFormat Dbg [parser.cc:983] Converting a deprecated source[/home/amice/.cache/bazel/_bazel_amice/32fdbbecfa8a7ce8feece95e48c42006/execroot/drake/bazel-out/k8-opt/bin/cvisiris_examples/14dof_env_vis2.runfiles/drake/cvisiris_examples/assets/models/iiwa_description/iiwa6/iiwa6_with_box_collision.sdf].\n",
      "DEBUG:drake:SDFormat Dbg [Converter.cc:117] Version[1.7] to Version[1.10]\n",
      "  Please use the gz sdf tool to update your SDF files.\n",
      "    $ gz sdf -c [sdf_file]\n",
      "DEBUG:drake:  add_frame: iiwa1_origin\n",
      "DEBUG:drake:    resolved_name: WorldModelInstance::iiwa1_origin\n",
      "DEBUG:drake:  add_model: iiwa2\n",
      "    package://drake/cvisiris_examples/assets/models/iiwa_description/iiwa6/iiwa6_with_box_collision.sdf\n",
      "DEBUG:drake:SDFormat Dbg [parser.cc:983] Converting a deprecated source[/home/amice/.cache/bazel/_bazel_amice/32fdbbecfa8a7ce8feece95e48c42006/execroot/drake/bazel-out/k8-opt/bin/cvisiris_examples/14dof_env_vis2.runfiles/drake/cvisiris_examples/assets/models/iiwa_description/iiwa6/iiwa6_with_box_collision.sdf].\n",
      "DEBUG:drake:SDFormat Dbg [Converter.cc:117] Version[1.7] to Version[1.10]\n",
      "  Please use the gz sdf tool to update your SDF files.\n",
      "    $ gz sdf -c [sdf_file]\n",
      "DEBUG:drake:  add_frame: iiwa2_origin\n",
      "DEBUG:drake:    resolved_name: WorldModelInstance::iiwa2_origin\n",
      "DEBUG:drake:  add_model: wsg1\n",
      "    package://drake/cvisiris_examples/assets/models/wsg_50_description/sdf/schunk_wsg_50_welded_fingers_box_geom.sdf\n",
      "DEBUG:drake:SDFormat Dbg [parser.cc:983] Converting a deprecated source[/home/amice/.cache/bazel/_bazel_amice/32fdbbecfa8a7ce8feece95e48c42006/execroot/drake/bazel-out/k8-opt/bin/cvisiris_examples/14dof_env_vis2.runfiles/drake/cvisiris_examples/assets/models/wsg_50_description/sdf/schunk_wsg_50_welded_fingers_box_geom.sdf].\n",
      "DEBUG:drake:SDFormat Dbg [Converter.cc:117] Version[1.7] to Version[1.10]\n",
      "  Please use the gz sdf tool to update your SDF files.\n",
      "    $ gz sdf -c [sdf_file]\n",
      "DEBUG:drake:  add_frame: iiwa1::wsg_attach\n",
      "DEBUG:drake:    resolved_name: iiwa1::wsg_attach\n",
      "DEBUG:drake:  add_model: wsg2\n",
      "    package://drake/cvisiris_examples/assets/models/wsg_50_description/sdf/schunk_wsg_50_welded_fingers_box_geom.sdf\n",
      "DEBUG:drake:SDFormat Dbg [parser.cc:983] Converting a deprecated source[/home/amice/.cache/bazel/_bazel_amice/32fdbbecfa8a7ce8feece95e48c42006/execroot/drake/bazel-out/k8-opt/bin/cvisiris_examples/14dof_env_vis2.runfiles/drake/cvisiris_examples/assets/models/wsg_50_description/sdf/schunk_wsg_50_welded_fingers_box_geom.sdf].\n",
      "DEBUG:drake:SDFormat Dbg [Converter.cc:117] Version[1.7] to Version[1.10]\n",
      "  Please use the gz sdf tool to update your SDF files.\n",
      "    $ gz sdf -c [sdf_file]\n",
      "DEBUG:drake:  add_frame: iiwa2::wsg_attach\n",
      "DEBUG:drake:    resolved_name: iiwa2::wsg_attach\n",
      "DEBUG:drake:  add_model: shelves1\n",
      "    package://drake/cvisiris_examples/assets/shelves_big.sdf\n",
      "DEBUG:drake:SDFormat Dbg [parser.cc:983] Converting a deprecated source[/home/amice/.cache/bazel/_bazel_amice/32fdbbecfa8a7ce8feece95e48c42006/execroot/drake/bazel-out/k8-opt/bin/cvisiris_examples/14dof_env_vis2.runfiles/drake/cvisiris_examples/assets/shelves_big.sdf].\n",
      "DEBUG:drake:SDFormat Dbg [Converter.cc:117] Version[1.7] to Version[1.10]\n",
      "  Please use the gz sdf tool to update your SDF files.\n",
      "    $ gz sdf -c [sdf_file]\n",
      "DEBUG:drake:  add_frame: shelf1_origin\n",
      "DEBUG:drake:    resolved_name: WorldModelInstance::shelf1_origin\n",
      "DEBUG:drake:  add_model: ground\n",
      "    package://drake/cvisiris_examples/assets/ground_big.urdf\n",
      "DEBUG:drake:  add_frame: ground_origin\n",
      "DEBUG:drake:    resolved_name: WorldModelInstance::ground_origin\n"
     ]
    }
   ],
   "source": [
    "\n",
    "from pydrake.all import Role, MeshcatVisualizerParams\n",
    "def plant_builder(usemeshcat = False):\n",
    "#     if usemeshcat:\n",
    "#         meshcat = StartMeshcat()\n",
    "    meshcat.Delete()\n",
    "    builder = RobotDiagramBuilder()\n",
    "    plant = builder.plant()\n",
    "    scene_graph = builder.scene_graph()\n",
    "    parser = builder.parser()\n",
    "    #parser.package_map().Add(\"cvisirisexamples\", missing directory)\n",
    "    if usemeshcat:\n",
    "        meshcat_params = MeshcatVisualizerParams()\n",
    "#         meshcat_params.role = Role.kProximity\n",
    "        visualizer = MeshcatVisualizer.AddToBuilder(builder.builder(), scene_graph, meshcat,meshcat_params)\n",
    "    directives_file = \"14_dof_directives_newshelf.yaml\"#FindResourceOrThrow() \n",
    "    directives = LoadModelDirectives(directives_file)\n",
    "    models = ProcessModelDirectives(directives, plant, parser)\n",
    "    \n",
    "#     collision_filter_manager = scene_graph.collision_filter_manager()\n",
    "#     inspector = scene_graph.model_inspector()\n",
    "#     schunk_body = plant.GetBodyByName(\"body\")\n",
    "#     iiwa_link_7 = plant.GetBodyByName(\"iiwa_link_7\")\n",
    "#     iiwa_link_6 = plant.GetBodyByName(\"iiwa_link_6\")\n",
    "#     iiwa_links = [plant.GetBodyByName(f\"iiwa_link_{i}\") for i in range(8)]\n",
    "#     bodies = []\n",
    "#     for b in iiwa_links+[schunk_body]:#[schunk_body, iiwa_link_7, iiwa_link_6]:\n",
    "#         bodies += plant.GetCollisionGeometriesForBody(b)\n",
    "#     geom_set = GeometrySet(bodies)\n",
    "#     decl = CollisionFilterDeclaration().ExcludeWithin(geom_set)\n",
    "#     collision_filter_manager.Apply(decl)\n",
    "\n",
    "#     shelves = [plant.GetBodyByName(f\"shelf{i}\",\n",
    "#                                   plant.GetModelInstanceByName(f\"shelves{i}\")) for i in range(1,3)]\n",
    "#     bodies = []\n",
    "#     for b in iiwa_links[:5]+shelves:\n",
    "#         bodies += plant.GetCollisionGeometriesForBody(b)\n",
    "#     geom_set = GeometrySet(bodies)\n",
    "#     decl = CollisionFilterDeclaration().ExcludeWithin(geom_set)\n",
    "#     collision_filter_manager.Apply(decl)\n",
    "    \n",
    "    plant.Finalize()\n",
    "    diagram = builder.Build()\n",
    "    diagram_context = diagram.CreateDefaultContext()\n",
    "    plant_context = plant.GetMyContextFromRoot(diagram_context)\n",
    "    diagram.ForcedPublish(diagram_context)\n",
    "    return plant, scene_graph, diagram, diagram_context, plant_context, meshcat if usemeshcat else None\n",
    "\n",
    "plant, scene_graph, diagram, diagram_context, plant_context, meshcat = plant_builder(usemeshcat=True)\n",
    "\n",
    "scene_graph_context = scene_graph.GetMyMutableContextFromRoot(\n",
    "    diagram_context)\n",
    "import pydrake.multibody.rational as rational_forward_kinematics\n",
    "from pydrake.all import RationalForwardKinematics\n",
    "Ratfk = RationalForwardKinematics(plant)"
   ]
  },
  {
   "cell_type": "code",
   "execution_count": 11,
   "metadata": {},
   "outputs": [
    {
     "name": "stdout",
     "output_type": "stream",
     "text": [
      "12\n"
     ]
    }
   ],
   "source": [
    "# def compute_max_psd_size(plane_order, plant_deg, path_deg, num_objects = 100):\n",
    "#     poly_to_prove_pos_degree = plane_order + plant_deg * path_deg\n",
    "#     d = np.floor(poly_to_prove_pos_degree/2)\n",
    "#     max_psd_size = comb(d+2,2)\n",
    "# #     num_psd_needed = 8 * 2 * num_objects # everything is a box\n",
    "#     return max_psd_size\n",
    "\n",
    "# # plane_orders = np.arange(1, 11)\n",
    "# plane_order = 5\n",
    "# plant_degs = np.arange(2, 21)\n",
    "# path_degs = np.arange(1,4)\n",
    "# scaling_per_plant_deg = []\n",
    "# for plant_deg in plant_degs:\n",
    "#     ret = []\n",
    "#     for path_deg in path_degs:\n",
    "#         ret.append(compute_max_psd_size(plane_order, plant_deg, path_deg))\n",
    "#     scaling_per_plant_deg.append(np.array(ret))\n",
    "#     plt.plot(\n",
    "#         path_degs, scaling_per_plant_deg[-1], marker = \"o\", label=f\"plant_degree = {plant_deg}\"\n",
    "#     )\n",
    "# plt.xlabel(\"path degree\")\n",
    "# plt.ylabel(\"maximum size of PSD matrix\")\n",
    "# plt.legend()\n",
    "    \n",
    "# from pydrake.all import MathematicalProgram\n",
    "# prog = MathematicalProgram()\n",
    "# Qs = []\n",
    "# for i in range(8):\n",
    "#     poly_to_prove_pos_degree = plane_order + plant_degs[-1] * path_degs[-1]\n",
    "#     d = np.floor(poly_to_prove_pos_degree/2)\n",
    "#     Qs.append(\n",
    "#         prog.NewSymmetricContinuousVariables(int(d),\"Q\"))\n",
    "#     prog.AddPositiveSemidefiniteConstraint(Qs[0])\n",
    "static_html = meshcat.StaticHtml()\n",
    "with open('12dof.html', 'w') as f:\n",
    "    f.write(static_html)           \n",
    "       \n",
    "    \n",
    "print(plant.num_positions())\n"
   ]
  },
  {
   "cell_type": "code",
   "execution_count": 6,
   "metadata": {},
   "outputs": [
    {
     "name": "stdout",
     "output_type": "stream",
     "text": [
      "(12,)\n"
     ]
    }
   ],
   "source": [
    "from pydrake.geometry.optimization_dev import CspaceFreePath\n",
    "q_star = np.zeros(plant.num_positions())\n",
    "print(q_star.shape)\n"
   ]
  },
  {
   "cell_type": "code",
   "execution_count": 7,
   "metadata": {},
   "outputs": [],
   "source": [
    "# for plane_geom in cspace_free_path.plane_geometries_on_path():\n",
    "#     max_deg = 0\n",
    "#     for c in plane_geom.positive_side_conditions + plane_geom.negative_side_conditions:\n",
    "#         max_deg = max(max_deg, c.get_p().TotalDegree())\n",
    "#     print(max_deg)\n",
    "#     print()\n",
    "# print(f\"Expected max = {2*np.ceil(plant.num_positions()/2)+plane_order}\")"
   ]
  },
  {
   "cell_type": "code",
   "execution_count": 8,
   "metadata": {},
   "outputs": [],
   "source": [
    "# total_size_psd = 0\n",
    "# psd_sizes = []\n",
    "# for plane_geom in cspace_free_path.plane_geometries_on_path():\n",
    "#     for c in plane_geom.positive_side_conditions + plane_geom.negative_side_conditions:\n",
    "#         size = comb(c.get_lambda().TotalDegree()/2+2, 2) + comb(c.get_nu().TotalDegree()/2+2, 2)\n",
    "#         total_size_psd += size\n",
    "#         psd_sizes.append(size)\n",
    "# print(total_size_psd)\n",
    "# psd_sizes.sort()\n",
    "# plt.scatter(np.arange(len(psd_sizes)), np.array(psd_sizes))"
   ]
  },
  {
   "cell_type": "code",
   "execution_count": 9,
   "metadata": {},
   "outputs": [],
   "source": [
    "# total_num_psd = 0\n",
    "# for plane_geom in cspace_free_path.plane_geometries_on_path():\n",
    "#     for c in plane_geom.positive_side_conditions + plane_geom.negative_side_conditions:\n",
    "#         expected_psd_size = comb(c.get_lambda().TotalDegree()/2+2, 2) + comb(c.get_nu().TotalDegree()/2+2, 2)\n",
    "#         expected_plane_vars =  (plane_order+1)*4\n",
    "#         if expected_psd_size + expected_plane_vars != c.get_psatz_variables_and_psd_constraints().num_vars():\n",
    "#             print(c.get_poly())\n",
    "# #         print(c.get_lambda().indeterminates())\n",
    "#         print()\n",
    "# #         print(c.get_psatz_variables_and_psd_constraints())\n",
    "#     break\n",
    "#     print()"
   ]
  },
  {
   "cell_type": "code",
   "execution_count": 10,
   "metadata": {
    "scrolled": true
   },
   "outputs": [
    {
     "data": {
      "application/vnd.jupyter.widget-view+json": {
       "model_id": "e0c3fc4cc2be4faca499ad2676b2c465",
       "version_major": 2,
       "version_minor": 0
      },
      "text/plain": [
       "FloatSlider(value=-0.96706, description='q0', max=2.96706, min=-2.96706)"
      ]
     },
     "metadata": {},
     "output_type": "display_data"
    },
    {
     "data": {
      "application/vnd.jupyter.widget-view+json": {
       "model_id": "e0c3fc4cc2be4faca499ad2676b2c465",
       "version_major": 2,
       "version_minor": 0
      },
      "text/plain": [
       "FloatSlider(value=-0.96706, description='q0', max=2.96706, min=-2.96706)"
      ]
     },
     "metadata": {},
     "output_type": "display_data"
    },
    {
     "data": {
      "application/vnd.jupyter.widget-view+json": {
       "model_id": "b71c71f9e4b64e189937605ee96f5a54",
       "version_major": 2,
       "version_minor": 0
      },
      "text/plain": [
       "FloatSlider(value=0.3056, description='q1', max=2.0944, min=-2.0944)"
      ]
     },
     "metadata": {},
     "output_type": "display_data"
    },
    {
     "data": {
      "application/vnd.jupyter.widget-view+json": {
       "model_id": "4843cc51c3f549eb99b40701ac37470a",
       "version_major": 2,
       "version_minor": 0
      },
      "text/plain": [
       "FloatSlider(value=-0.26706, description='q2', max=2.96706, min=-2.96706)"
      ]
     },
     "metadata": {},
     "output_type": "display_data"
    },
    {
     "data": {
      "application/vnd.jupyter.widget-view+json": {
       "model_id": "de3777df79d2412b92353659038c12ce",
       "version_major": 2,
       "version_minor": 0
      },
      "text/plain": [
       "FloatSlider(value=-1.3944, description='q3', max=2.0944, min=-2.0944)"
      ]
     },
     "metadata": {},
     "output_type": "display_data"
    },
    {
     "data": {
      "application/vnd.jupyter.widget-view+json": {
       "model_id": "065d301a49194aa88189b75e01665b0e",
       "version_major": 2,
       "version_minor": 0
      },
      "text/plain": [
       "FloatSlider(value=-1.66706, description='q4', max=2.96706, min=-2.96706)"
      ]
     },
     "metadata": {},
     "output_type": "display_data"
    },
    {
     "data": {
      "application/vnd.jupyter.widget-view+json": {
       "model_id": "bd2bfd5c7ae64572ba44fcc77f7a240c",
       "version_major": 2,
       "version_minor": 0
      },
      "text/plain": [
       "FloatSlider(value=-0.6944, description='q5', max=2.0944, min=-2.0944)"
      ]
     },
     "metadata": {},
     "output_type": "display_data"
    },
    {
     "data": {
      "application/vnd.jupyter.widget-view+json": {
       "model_id": "7004dee6f7b843cb884b21a1126368f9",
       "version_major": 2,
       "version_minor": 0
      },
      "text/plain": [
       "FloatSlider(value=-1.76706, description='q6', max=2.96706, min=-2.96706)"
      ]
     },
     "metadata": {},
     "output_type": "display_data"
    },
    {
     "data": {
      "application/vnd.jupyter.widget-view+json": {
       "model_id": "bc8daf7c14724e98b47c7da1b958fd2f",
       "version_major": 2,
       "version_minor": 0
      },
      "text/plain": [
       "FloatSlider(value=-1.0944, description='q7', max=2.0944, min=-2.0944)"
      ]
     },
     "metadata": {},
     "output_type": "display_data"
    },
    {
     "data": {
      "application/vnd.jupyter.widget-view+json": {
       "model_id": "f048b84e1c1a4b6784c1cb9489c456ca",
       "version_major": 2,
       "version_minor": 0
      },
      "text/plain": [
       "FloatSlider(value=1.33294, description='q8', max=2.96706, min=-2.96706)"
      ]
     },
     "metadata": {},
     "output_type": "display_data"
    },
    {
     "data": {
      "application/vnd.jupyter.widget-view+json": {
       "model_id": "fae81c98c8f2411bb6a1f7bf0cde1c5e",
       "version_major": 2,
       "version_minor": 0
      },
      "text/plain": [
       "FloatSlider(value=0.9056, description='q9', max=2.0944, min=-2.0944)"
      ]
     },
     "metadata": {},
     "output_type": "display_data"
    },
    {
     "data": {
      "application/vnd.jupyter.widget-view+json": {
       "model_id": "3abf7e522ad14756980967b9b8d6efe6",
       "version_major": 2,
       "version_minor": 0
      },
      "text/plain": [
       "FloatSlider(value=0.73294, description='q10', max=2.96706, min=-2.96706)"
      ]
     },
     "metadata": {},
     "output_type": "display_data"
    },
    {
     "data": {
      "application/vnd.jupyter.widget-view+json": {
       "model_id": "d381a656d848416d9b15ed0dd3df1ca5",
       "version_major": 2,
       "version_minor": 0
      },
      "text/plain": [
       "FloatSlider(value=-1.29, description='q11', max=2.0944, min=-2.0944)"
      ]
     },
     "metadata": {},
     "output_type": "display_data"
    }
   ],
   "source": [
    "sliders = []\n",
    "\n",
    "rrt_end_q = np.array([\n",
    "    -0.96706,  0.3056 , -0.26706, -1.3944 , -1.66706, -0.6944 ,\n",
    "       -1.76706, -1.0944 ,  1.33294,  0.9056 ,  0.73294, -1.29\n",
    "])\n",
    "q = rrt_end_q.copy()\n",
    "\n",
    "for i in range(plant.num_positions()):\n",
    "    q_low = plant.GetPositionLowerLimits()[i]\n",
    "    q_high = plant.GetPositionUpperLimits()[i]\n",
    "    sliders.append(widgets.FloatSlider(min=q_low, max=q_high, value=q[i], description=f\"q{i}\"))\n",
    "#np.zeros(plant.num_positions())\n",
    "ik = InverseKinematics(plant, plant_context)\n",
    "collision_constraint = ik.AddMinimumDistanceConstraint(0.001, 0.001)\n",
    "def eval_cons(q, c, tol):\n",
    "    return 1-1*float(c.evaluator().CheckSatisfied(q, tol))\n",
    "diagram_col_context = diagram.CreateDefaultContext()\n",
    "plant_col_context = diagram.GetMutableSubsystemContext(plant, diagram_col_context)\n",
    "scene_graph_col_context = diagram.GetMutableSubsystemContext(\n",
    "        scene_graph, diagram_col_context\n",
    "    )\n",
    "query_port = scene_graph.get_query_output_port()\n",
    "\n",
    "\n",
    "def check_collision_q_by_query(q):\n",
    "#     if np.all(q >= plant.GetPositionLowerLimits()) and np.all(\n",
    "#         q <= plant.GetPositionUpperLimits()\n",
    "#     ):\n",
    "#         plant.SetPositions(plant_context, q)\n",
    "#         query_object = query_port.Eval(scene_graph_context)\n",
    "# #         if query_object.HasCollisions():\n",
    "# #         print(query_object.ComputePointPairPenetration())\n",
    "#         return 1 if query_object.HasCollisions() else 0\n",
    "#     else:\n",
    "#         print(\"exiting position limits\")\n",
    "#         print(np.logical_and(q >= plant.GetPositionLowerLimits(), \n",
    "#         q <= plant.GetPositionUpperLimits()))\n",
    "#         print(plant.GetPositionLowerLimits())\n",
    "#         print(q)\n",
    "\n",
    "#         print(plant.GetPositionUpperLimits())\n",
    "#         print()\n",
    "#         return 1\n",
    "    plant.SetPositions(plant_context, q)\n",
    "    query_object = query_port.Eval(scene_graph_context)\n",
    "#         if query_object.HasCollisions():\n",
    "#         print(query_object.ComputePointPairPenetration())\n",
    "    return 1 if query_object.HasCollisions() else 0\n",
    "    \n",
    "\n",
    "def check_collision_s_by_query(s):\n",
    "    s = np.array(s)\n",
    "    q = Ratfk.ComputeQValue(s, q_star)\n",
    "    return check_collision_q_by_query(q)\n",
    "\n",
    "\n",
    "    \n",
    "col_func_handle = check_collision_q_by_query#partial(eval_cons, c=collision_constraint, tol=0.01)\n",
    "# col_func_handle = partial(eval_cons, c=collision_constraint, tol=0.01)\n",
    "\n",
    "col_shunk_col =  Rgba(0.8, 0.0, 0, 0.5)    \n",
    "col_shunk_free =  Rgba(0.0, 0.8, 0.5, 0.5)   \n",
    "\n",
    "def handle_slider_change(change, idx):\n",
    "    q[idx] = change['new']\n",
    "    showres(q)\n",
    "\n",
    "def showres_s(s_vis):\n",
    "    showres(Ratfk.ComputeQValue(s_vis, np.zeros(7)))\n",
    "\n",
    "def showres(qvis):\n",
    "    plant.SetPositions(plant_context, qvis)\n",
    "    col = col_func_handle(qvis)\n",
    "    shunk = plant.get_body(pydrake.multibody.tree.BodyIndex(9))\n",
    "    tf_tot = shunk.EvalPoseInWorld(plant_context)\n",
    "    tf = tf_tot.translation()\n",
    "    \n",
    "   # tf_tot= plant.EvalBodyPoseInWorld(plant_context, plant.get_body(pydrake.multibody.tree.BodyIndex(7)))\n",
    "    #tf = tf_tot.translation() - tf_tot.GetAsMatrix4()[:3,:3][:,1] *0.15\n",
    "    if col:\n",
    "        meshcat.SetObject(f\"/drake/visualizer/shunk\",\n",
    "                                   Sphere(0.05),\n",
    "                                   col_shunk_col)\n",
    "    else:\n",
    "        meshcat.SetObject(f\"/drake/visualizer/shunk\",\n",
    "                                   Sphere(0.05),\n",
    "                                   col_shunk_free)\n",
    "    meshcat.SetTransform(f\"/drake/visualizer/shunk\",\n",
    "                                   RigidTransform(RotationMatrix(),\n",
    "                                                  tf))\n",
    "    \n",
    "    diagram.ForcedPublish(diagram_context)\n",
    "\n",
    "scaler = 1 #np.array([0.8, 1., 0.8, 1, 0.8, 1, 0.8]) #do you even geometry bro?\n",
    "q_min = np.array(q_low)*scaler\n",
    "q_max = np.array(q_high)*scaler\n",
    "q_diff = q_max-q_min\n",
    "\n",
    "# def sample_cfree_QPoint(MAXIT=1000):\n",
    "# \tit = 0\n",
    "# \twhile it<MAXIT:\n",
    "# \t\trand = np.random.rand(5)\n",
    "# \t\tq_s = q_min + rand*q_diff\n",
    "# \t\tcol = False\n",
    "# \t\tfor _ in range(10):\n",
    "# \t\t\tr  = 0.05*(np.random.rand(5)-0.5)\n",
    "# \t\t\tcol |= (col_func_handle(q_s+r) > 0)\n",
    "# \t\tif not col:\n",
    "# \t\t\treturn q_s #Ratfk.ComputeQValue(q_s, q_star)\n",
    "# \t\tit+=1\n",
    "# \traise ValueError(\"no col free point found\")\n",
    "\n",
    "idx = 0\n",
    "for slider in sliders:\n",
    "    slider.observe(partial(handle_slider_change, idx = idx), names='value')\n",
    "    idx+=1\n",
    "\n",
    "display(sliders[0])\n",
    "for slider in sliders:\n",
    "    display(slider)"
   ]
  },
  {
   "cell_type": "code",
   "execution_count": 11,
   "metadata": {},
   "outputs": [
    {
     "name": "stdout",
     "output_type": "stream",
     "text": [
      "array([-0.96706,  0.3056 , -0.26706, -1.3944 , -1.66706, -0.6944 ,\n",
      "       -1.76706, -1.0944 ,  1.33294,  0.9056 ,  0.73294, -1.2944 ])\n",
      "0\n"
     ]
    }
   ],
   "source": [
    "print(repr(q))\n",
    "print(check_collision_q_by_query(q))"
   ]
  },
  {
   "cell_type": "code",
   "execution_count": 12,
   "metadata": {},
   "outputs": [],
   "source": [
    "rrt_end_s = Ratfk.ComputeSValue(rrt_end_q, q_star)\n",
    "rrt_start_s = Ratfk.ComputeSValue(np.zeros_like(q_star), q_star)\n"
   ]
  },
  {
   "cell_type": "code",
   "execution_count": 13,
   "metadata": {},
   "outputs": [
    {
     "name": "stderr",
     "output_type": "stream",
     "text": [
      "100%|██████████████████████████████████████████████████████████████████| 100/100 [00:03<00:00, 29.20it/s]\n"
     ]
    },
    {
     "data": {
      "text/plain": [
       "True"
      ]
     },
     "execution_count": 13,
     "metadata": {},
     "output_type": "execute_result"
    }
   ],
   "source": [
    "np.random.seed(0)\n",
    "collision_checker = StraightLineCollisionChecker(check_collision_s_by_query, 200)\n",
    "good_rrt = BiRRT(tuple(rrt_end_s), tuple(rrt_start_s),\n",
    "           Ratfk.ComputeSValue(plant.GetPositionLowerLimits(),q_star),\n",
    "           Ratfk.ComputeSValue(plant.GetPositionUpperLimits(),q_star),\n",
    "           collision_checker, max_dist = 0.5)\n",
    "good_rrt.build_tree(int(100), exit_on_path = False)"
   ]
  },
  {
   "cell_type": "code",
   "execution_count": 14,
   "metadata": {},
   "outputs": [
    {
     "name": "stderr",
     "output_type": "stream",
     "text": [
      "100%|█████████████████████████████████████████████████████████████████| 100/100 [00:00<00:00, 301.66it/s]\n"
     ]
    },
    {
     "data": {
      "text/plain": [
       "True"
      ]
     },
     "execution_count": 14,
     "metadata": {},
     "output_type": "execute_result"
    }
   ],
   "source": [
    "np.random.seed(1)\n",
    "collision_checker = StraightLineCollisionChecker(check_collision_s_by_query, 10)\n",
    "bad_rrt = BiRRT(tuple(rrt_end_s), tuple(rrt_start_s),\n",
    "           Ratfk.ComputeSValue(plant.GetPositionLowerLimits(),q_star),\n",
    "           Ratfk.ComputeSValue(plant.GetPositionUpperLimits(),q_star),\n",
    "           collision_checker, max_dist = 1)\n",
    "bad_rrt.build_tree(int(1e2), exit_on_path = False)"
   ]
  },
  {
   "cell_type": "code",
   "execution_count": 15,
   "metadata": {},
   "outputs": [],
   "source": [
    "diagram_vis_context = diagram.CreateDefaultContext()\n",
    "plant_vis_context = diagram.GetMutableSubsystemContext(\n",
    "    plant, diagram_vis_context\n",
    ")\n",
    "vis_bundle = vis_utils.VisualizationBundle(\n",
    "        diagram,\n",
    "        diagram_context,\n",
    "        plant,\n",
    "        plant_vis_context,\n",
    "        Ratfk,\n",
    "        meshcat,\n",
    "        q_star,\n",
    "    )\n",
    "for i, body in enumerate([plant.GetBodyByName(f\"iiwa_link_{7}\", ModelInstanceIndex(3)), \n",
    "             plant.GetBodyByName(f\"iiwa_link_{7}\", ModelInstanceIndex(2))]):\n",
    "#     good_rrt.draw_tree(vis_bundle,\n",
    "#                  body,\n",
    "#                  prefix=f\"bi_rrt_{body.name()}{i}/\")\n",
    "    good_rrt.draw_start_target_path(vis_bundle,\n",
    "                 body,\n",
    "                 prefix=f\"bi_rrt_{body.name()}{i}/\")"
   ]
  },
  {
   "cell_type": "code",
   "execution_count": 16,
   "metadata": {},
   "outputs": [
    {
     "name": "stdout",
     "output_type": "stream",
     "text": [
      "collision detected\n"
     ]
    }
   ],
   "source": [
    "import networkx as nx\n",
    "def make_line_polys(tree, max_num_edges=-1):\n",
    "    polys = np.empty(\n",
    "        shape=(\n",
    "            plant.num_positions(),\n",
    "            len(tree.edges()) if max_num_edges < 0 else max_num_edges,\n",
    "        ),\n",
    "        dtype=object,\n",
    "    )\n",
    "    for i, (s0, s1) in enumerate(tree.edges()):\n",
    "        for j in range(plant.num_positions()):\n",
    "            if max_num_edges > 0 and not i < max_num_edges:\n",
    "                break\n",
    "            polys[j, i] = PolynomialCommon(np.array([s0[j], s1[j] - s0[j]]))\n",
    "\n",
    "    return polys\n",
    "\n",
    "def make_line_polys_shortest_path(rrt):\n",
    "    path = nx.dijkstra_path(rrt.connected_tree, rrt.start_pos, rrt.end_pos)\n",
    "    pairs = list(zip(path[:-1],path[1:]))\n",
    "    polys = np.empty(\n",
    "        shape=(\n",
    "            plant.num_positions(),\n",
    "            len(pairs),\n",
    "        ),\n",
    "        dtype=object,\n",
    "    )\n",
    "    for i, (s0, s1) in enumerate(pairs):\n",
    "        for j in range(plant.num_positions()):\n",
    "            polys[j, i] = PolynomialCommon(np.array([s0[j], s1[j] - s0[j]]))\n",
    "\n",
    "    return polys\n",
    "        \n",
    "    \n",
    "path_safe = make_line_polys_shortest_path(bad_rrt)\n",
    "for idx in range(path_safe.shape[1]):\n",
    "    cur_traj = PiecewisePolynomial([path_safe[:,idx]], [0,1])\n",
    "    for t in np.linspace(0,1,100):\n",
    "        s = cur_traj.value(t)\n",
    "        q = Ratfk.ComputeQValue(s, q_star)\n",
    "        plant.SetPositions(plant_context, q)\n",
    "        diagram.ForcedPublish(diagram_context)\n",
    "        time.sleep(0.01)\n",
    "        if check_collision_q_by_query(q):\n",
    "            print(\"collision detected\")\n",
    "            time.sleep(0.01)\n",
    "            break"
   ]
  },
  {
   "cell_type": "code",
   "execution_count": 17,
   "metadata": {},
   "outputs": [
    {
     "name": "stderr",
     "output_type": "stream",
     "text": [
      "DEBUG:drake:Generating collision pairs\n",
      "DEBUG:drake:Collision pairs generated in 0.000563798 seconds\n",
      "DEBUG:drake:Generating separating planes\n",
      "DEBUG:drake:Separating planes generated in 0.00229167 seconds\n",
      "DEBUG:drake:Generating TC-space rationals\n",
      "DEBUG:drake:TC-space rationals generated in 46.222916285 seconds\n",
      "DEBUG:drake:Pre-allocating PSD\n",
      "DEBUG:drake:PSD allocated in 0.288879629 seconds\n",
      "DEBUG:drake:Expanding rationals and pre-allocating programs\n",
      "DEBUG:drake:Path rationals and programs allocated in 821.641455026 seconds\n"
     ]
    },
    {
     "name": "stdout",
     "output_type": "stream",
     "text": [
      "Time to build collision checker 869.0792562961578\n"
     ]
    }
   ],
   "source": [
    "plane_order =1\n",
    "max_degree = 1\n",
    "t0 = time.time()\n",
    "cspace_free_path = CspaceFreePath(\n",
    "    plant,\n",
    "    scene_graph,\n",
    "    q_star,\n",
    "    maximum_path_degree=max_degree,\n",
    "    plane_order=plane_order,\n",
    ")\n",
    "t1 = time.time()\n",
    "print(f\"Time to build collision checker {t1-t0}\")"
   ]
  },
  {
   "cell_type": "code",
   "execution_count": 18,
   "metadata": {},
   "outputs": [],
   "source": [
    "path_to_data_save_folder = Path(\n",
    "    \"/home/amice/Documents/coding_projects/drake/C_Iris_Examples/final_experiment_data\"\n",
    ")\n",
    "############## CERTIFICATION ##################\n",
    "cert_options = CspaceFreePath.FindSeparationCertificateGivenPathOptions()\n",
    "cert_options.terminate_segment_certification_at_failure = False\n",
    "\n",
    "cert_options.num_threads = -1\n",
    "cert_options.verbose = False\n",
    "cert_options.solver_id = MosekSolver.id()\n",
    "cert_options.solver_options = SolverOptions()\n",
    "cert_options.terminate_path_certification_at_failure = False"
   ]
  },
  {
   "cell_type": "code",
   "execution_count": 36,
   "metadata": {},
   "outputs": [
    {
     "name": "stdout",
     "output_type": "stream",
     "text": [
      "(12, 120)\n",
      "num pairs to certify 246\n",
      "Certification of safe PRM for 12 links in 2191.152428627014s\n",
      "Frac edges safe = 31/120\n",
      "Unsafe inds = [0, 2, 3, 4, 5, 7, 8, 9, 10, 11, 12, 14, 15, 17, 19, 20, 22, 23, 24, 26, 30, 31, 38, 40, 41, 42, 43, 44, 45, 46, 47, 48, 49, 50, 51, 52, 53, 55, 57, 59, 60, 61, 62, 66, 67, 68, 69, 70, 73, 74, 75, 76, 77, 79, 81, 82, 84, 85, 86, 87, 89, 90, 91, 92, 94, 95, 96, 97, 98, 99, 100, 101, 102, 103, 104, 106, 107, 108, 109, 110, 111, 112, 113, 114, 115, 116, 117, 118, 119]\n",
      "(12, 132)\n",
      "num pairs to certify 246\n",
      "Certification of safe PRM for 12 links in 2439.5752124786377s\n",
      "Frac edges safe = 33/132\n",
      "Unsafe inds = [1, 2, 3, 7, 8, 9, 10, 11, 14, 15, 17, 18, 20, 22, 24, 26, 27, 28, 29, 31, 34, 35, 36, 38, 39, 40, 41, 42, 43, 44, 45, 46, 47, 48, 51, 53, 54, 55, 56, 57, 58, 59, 60, 61, 62, 64, 65, 66, 67, 68, 69, 70, 71, 72, 75, 76, 77, 79, 80, 81, 82, 84, 85, 86, 87, 90, 91, 92, 93, 94, 95, 96, 97, 99, 100, 101, 102, 103, 106, 107, 108, 109, 114, 115, 116, 117, 118, 120, 121, 122, 123, 124, 125, 126, 127, 128, 129, 130, 131]\n"
     ]
    },
    {
     "name": "stderr",
     "output_type": "stream",
     "text": [
      "DEBUG:drake:Meshcat connection opened from 0000:0000:0000:0000:0000:0000:0000:0001\n"
     ]
    }
   ],
   "source": [
    "def rrt_experiment(rrt, save_name):\n",
    "    edges = make_line_polys(rrt.connected_tree)\n",
    "    print(edges.shape)\n",
    "    t0 = time.time()\n",
    "    (\n",
    "        statistics,\n",
    "        cert_result,\n",
    "    ) = cspace_free_path.FindSeparationCertificateGivenPath(\n",
    "        edges, set(), cert_options\n",
    "    )\n",
    "    t1 = time.time()\n",
    "    file_name = path_to_data_save_folder / (save_name)\n",
    "    with open(\n",
    "        file_name,\n",
    "        \"wb\",\n",
    "    ) as f:\n",
    "        pickle.dump(statistics, f)\n",
    "    print(f\"num pairs to certify {len(statistics[0].total_time_to_certify_pair)}\")\n",
    "    print(f\"Certification of safe PRM for {plant.num_positions()} links in {t1 - t0}s\")\n",
    "    print(\n",
    "        f\"Frac edges safe = {sum([1 if s.certified_safe() else 0 for s in statistics])}/{len(statistics)}\"\n",
    "    )\n",
    "    print(\n",
    "        f\"Unsafe inds = {[idx for idx, s in enumerate(statistics) if not s.certified_safe()]}\"\n",
    "    )\n",
    "rrt_experiment(good_rrt, f\"bimanual_example_edges_GOOD_RRT.pkl\")\n",
    "rrt_experiment(bad_rrt, f\"bimanual_example_edges_BAD_RRT.pkl\")"
   ]
  },
  {
   "cell_type": "code",
   "execution_count": 34,
   "metadata": {},
   "outputs": [
    {
     "data": {
      "text/plain": [
       "(12, 120)"
      ]
     },
     "execution_count": 34,
     "metadata": {},
     "output_type": "execute_result"
    }
   ],
   "source": [
    "make_line_polys(good_rrt.connected_tree).shape"
   ]
  },
  {
   "cell_type": "code",
   "execution_count": 26,
   "metadata": {},
   "outputs": [
    {
     "data": {
      "text/plain": [
       "[<pydrake.geometry.optimization_dev.CspaceFreePath.FindSeparationCertificateStatistics at 0x7f4aadb09f70>,\n",
       " <pydrake.geometry.optimization_dev.CspaceFreePath.FindSeparationCertificateStatistics at 0x7f4aadccf2f0>]"
      ]
     },
     "execution_count": 26,
     "metadata": {},
     "output_type": "execute_result"
    }
   ],
   "source": [
    "file_name = path_to_data_save_folder / (f\"bimanual_example_edges_GOOD_RRT.pkl\")\n",
    "with open(file_name, \"rb\") as f:\n",
    "    statistics = pickle.load(f)\n",
    "statistics"
   ]
  },
  {
   "cell_type": "code",
   "execution_count": null,
   "metadata": {},
   "outputs": [],
   "source": [
    "\n",
    "path_to_data_save_folder = Path(\n",
    "    \"/home/amice/Documents/coding_projects/drake/C_Iris_Examples/final_experiment_data\"\n",
    ")\n",
    "l = 100\n",
    "######### BUILD PRM ##########\n",
    "Ratfk = RationalForwardKinematics(plant)\n",
    "diagram_col_context = diagram.CreateDefaultContext()\n",
    "plant_col_context = diagram.GetMutableSubsystemContext(\n",
    "    plant, diagram_col_context\n",
    ")\n",
    "scene_graph_col_context = diagram.GetMutableSubsystemContext(\n",
    "    scene_graph, diagram_col_context\n",
    ")\n",
    "query_port = scene_graph.get_query_output_port()\n",
    "\n",
    "def check_collision_q_by_query(q):\n",
    "    if np.all(q >= plant.GetPositionLowerLimits()) and np.all(\n",
    "        q <= plant.GetPositionUpperLimits()\n",
    "    ):\n",
    "        plant.SetPositions(plant_col_context, q)\n",
    "        query_object = query_port.Eval(scene_graph_col_context)\n",
    "        return 1 if query_object.HasCollisions() else 0\n",
    "    else:\n",
    "        return 1\n",
    "\n",
    "def check_collision_s_by_query(s):\n",
    "    s = np.array(s)\n",
    "    q = Ratfk.ComputeQValue(s, q_star)\n",
    "    return check_collision_q_by_query(q)\n",
    "\n",
    "def sample_col_free_point():\n",
    "    q = np.random.uniform(\n",
    "        plant.GetPositionLowerLimits(),\n",
    "        plant.GetPositionUpperLimits(),\n",
    "    )\n",
    "    s = Ratfk.ComputeSValue(q, q_star)\n",
    "    return s\n",
    "\n",
    "collision_checker = StraightLineCollisionChecker(check_collision_s_by_query, 100)\n",
    "prm_save_name = (\n",
    "    path_to_data_save_folder / f\"bimanual_example_{l}_edges_PRM.pkl\"\n",
    ")\n",
    "print(str(prm_save_name))\n",
    "if True:#not prm_save_name.exists():\n",
    "    prm = PRMFixedEdges(\n",
    "        sample_col_free_point, l, collision_checker, dist_thresh=3\n",
    "    )\n",
    "    with open(prm_save_name, \"wb\") as f:\n",
    "        pickle.dump(prm, f)\n",
    "else:\n",
    "    with open(prm_save_name, \"rb\") as f:\n",
    "        prm = pickle.load(f)\n",
    "\n",
    "    diagram_vis_context = diagram.CreateDefaultContext()\n",
    "    plant_vis_context = diagram.GetMutableSubsystemContext(\n",
    "        plant, diagram_vis_context\n",
    "    )\n",
    "    vis_bundle = vis_utils.VisualizationBundle(\n",
    "        diagram,\n",
    "        diagram_context,\n",
    "        plant,\n",
    "        plant_vis_context,\n",
    "        Ratfk,\n",
    "        meshcat,\n",
    "        q_star,\n",
    "    )\n",
    "    end_effector = plant.GetBodyByName(f\"iiwa_link_{6}\", ModelInstanceIndex(3))\n",
    "\n",
    "prm.draw_tree(vis_bundle, end_effector)\n",
    "path_safe = make_line_polys(prm)\n",
    "############## CERTIFICATION ##################\n",
    "cert_options = CspaceFreePath.FindSeparationCertificateGivenPathOptions()\n",
    "cert_options.terminate_segment_certification_at_failure = False\n",
    "\n",
    "cert_options.num_threads = -1\n",
    "cert_options.verbose = False\n",
    "cert_options.solver_id = MosekSolver.id()\n",
    "cert_options.solver_options = SolverOptions()\n",
    "cert_options.terminate_path_certification_at_failure = False"
   ]
  },
  {
   "cell_type": "code",
   "execution_count": null,
   "metadata": {},
   "outputs": [],
   "source": [
    " t0 = time.time()\n",
    "(\n",
    "    statistics,\n",
    "    cert_result,\n",
    ") = cspace_free_path.FindSeparationCertificateGivenPath(\n",
    "    path_safe, set(), cert_options\n",
    ")\n",
    "t1 = time.time()\n",
    "file_name = path_to_data_save_folder / (\n",
    "    f\"bimanual_example_{l}_edges_STATISTIC.pkl\"\n",
    ")\n",
    "with open(\n",
    "    file_name,\n",
    "    \"wb\",\n",
    ") as f:\n",
    "    pickle.dump(statistics, f)\n",
    "print(f\"num pairs to certify {len(statistics[0].total_time_to_certify_pair)}\")\n",
    "print(f\"Certification of safe PRM for {plant.num_positions()} links in {t1 - t0}s\")\n",
    "print(\n",
    "    f\"Frac edges safe = {sum([1 if s.certified_safe() else 0 for s in statistics])}/{len(statistics)}\"\n",
    ")\n",
    "print(\n",
    "    f\"Unsafe inds = {[idx for idx, s in enumerate(statistics) if not s.certified_safe()]}\"\n",
    ")"
   ]
  },
  {
   "cell_type": "code",
   "execution_count": null,
   "metadata": {},
   "outputs": [],
   "source": [
    "unsafe_idx = [idx for idx, s in enumerate(statistics) if not s.certified_safe()]\n",
    "for idx in unsafe_idx:\n",
    "    cur_traj = PiecewisePolynomial([path_safe[:,idx]], [0,1])\n",
    "    for t in np.linspace(0,1,1000):\n",
    "        s = cur_traj.value(t)\n",
    "        q = Ratfk.ComputeQValue(s, q_star)\n",
    "        plant.SetPositions(plant_context, q)\n",
    "        diagram.ForcedPublish(diagram_context)\n",
    "#         time.sleep(0.01)\n",
    "        if check_collision_q_by_query(q):\n",
    "            print(\"collision detected\")\n",
    "            break"
   ]
  },
  {
   "cell_type": "code",
   "execution_count": null,
   "metadata": {},
   "outputs": [],
   "source": [
    "waypoints =  np.array([[-2.06706, -0.3944 ,  1.43294,  0.9056 ,  0.53294, -0.8944 ,\n",
    "        0.74567],\n",
    "[-2.26706, -0.3944 ,  1.43294,  0.9056 ,  0.73294, -0.9944 ,\n",
    "        1.04567],\n",
    "[-2.96706, -0.344 ,  2.83294,  0.9056 ,  0.73294, -0.9944 ,\n",
    "        1.04567],\n",
    "[-1.06706,  0.1056 ,  2.43294,  0.9056 ,  0.73294,  0.2056 ,\n",
    "        1.04567],\n",
    "[-1.06706,  0.1056 ,  2.43294,  1.1056 ,  1.73294,  0.2056 ,\n",
    "        0.0567],\n",
    "[-1.56706,  0.1056 ,  2.43294,  1.2056 ,  1.73294,  0.8056 ,\n",
    "       -0.25433]])\n",
    "\n",
    "waypoints_col = waypoints.copy()\n",
    "\n",
    "# waypoints_col[1,:]=np.array([-2.36706, -0.3344 ,  1.43294,  0.8956 ,  0.73294, -0.9944 ,\n",
    "#         1.04567])\n",
    "waypoints_col[1,:]=np.array([-2.22706, -0.3944 ,  1.43294,  0.9056 ,  0.73294, -0.9944 ,\n",
    "        1.04567])\n",
    "#np.array([-2.0706, -0.3244 ,  1.43294,  0.8756 ,  0.73294, -0.9944 ,\n",
    "#      1.04567])\n",
    "from scipy.interpolate import CubicSpline\n",
    "\n",
    "t = np.linspace(0, 1, waypoints.shape[0])\n",
    "coord_splines = [CubicSpline(t,waypoints[:,i]) for i in range(7)]\n",
    "t_refined = np.linspace(0,1,30)\n",
    "waypoints_q_refined = [[c(t) for c in coord_splines]for t in t_refined] \n",
    "\n",
    "t = np.linspace(0, 1, waypoints_col.shape[0])\n",
    "coord_splines = [CubicSpline(t,waypoints_col[:,i]) for i in range(7)]\n",
    "t_refined = np.linspace(0,1,30)\n",
    "waypoints_q_col_refined = [[c(t) for c in coord_splines]for t in t_refined] \n",
    "\n",
    "waypoints_s = np.array([Ratfk.ComputeSValue(w, np.zeros(7)) for w in waypoints_q_refined])\n",
    "t = np.linspace(0, 1, waypoints_s.shape[0])\n",
    "coord_splines_s = [CubicSpline(t,waypoints_s[:,i]) for i in range(7)]\n",
    "t_refined = np.linspace(0,1,200)\n",
    "waypoints_s_refined = np.array([[c(t) for c in coord_splines_s]for t in t_refined] )\n",
    "\n",
    "waypoints_s_col = np.array([Ratfk.ComputeSValue(w, np.zeros(7)) for w in waypoints_q_col_refined])\n",
    "t = np.linspace(0, 1, waypoints_s_col.shape[0])\n",
    "coord_splines_s_col = [CubicSpline(t,waypoints_s_col[:,i]) for i in range(7)]\n",
    "t_refined = np.linspace(0,1,200)\n",
    "waypoints_s_col_refined = np.array([[c(t) for c in coord_splines_s_col]for t in t_refined] )\n",
    "\n",
    "#waypoints_q_backtransf = np.array([Ratfk.ComputeQValue(w, np.zeros(7)) for w in waypoints_s_refined])\n",
    "\n"
   ]
  },
  {
   "cell_type": "code",
   "execution_count": null,
   "metadata": {},
   "outputs": [],
   "source": [
    "# showres(waypoints_col[1,:])"
   ]
  },
  {
   "cell_type": "code",
   "execution_count": null,
   "metadata": {},
   "outputs": [],
   "source": [
    "# for w in waypoints_s_col_refined:\n",
    "#     showres_s(w)\n",
    "# #     break\n",
    "#     time.sleep(0.05)"
   ]
  },
  {
   "cell_type": "code",
   "execution_count": null,
   "metadata": {},
   "outputs": [],
   "source": [
    "def plot_endeff_traj_s(dense,name = '', color = (1,0,0,1)):\n",
    "    plot_endeff_traj(np.array([Ratfk.ComputeQValue(w,np.zeros(7)) for w in dense]), name, color)\n",
    "\n",
    "def plot_endeff_traj(dense_waypoints, name = '', color= (1,0,0,1)):\n",
    "    color = Rgba(color[0], color[1], color[2], color[3])\n",
    "    start_idx = 0\n",
    "    for i, qa in enumerate(dense_waypoints):\n",
    "        #qa = Ratfk.ComputeQValue(ta, np.zeros(7))\n",
    "        #showres(qa)\n",
    "        #time.sleep(0.1)            \n",
    "        plant.SetPositions(plant_context, qa)\n",
    "        tf_tot= plant.EvalBodyPoseInWorld(plant_context, plant.get_body(pydrake.multibody.tree.BodyIndex(9)))\n",
    "        tf = tf_tot.translation() + tf_tot.GetAsMatrix4()[:3,:3][:,1] *0.13\n",
    "\n",
    "        meshcat.SetObject(f\"/iris/points/traj/{name}/{i+start_idx}\",\n",
    "                               Sphere(0.01),\n",
    "                               color)\n",
    "\n",
    "        meshcat.SetTransform(f\"/iris/points/traj/{name}/{i+start_idx}\",\n",
    "                                   RigidTransform(RotationMatrix(),\n",
    "                                                  tf))"
   ]
  },
  {
   "cell_type": "code",
   "execution_count": null,
   "metadata": {},
   "outputs": [],
   "source": [
    "# plot_endeff_traj_s(waypoints_s_refined, 'free',(0,1,0,1))\n",
    "# plot_endeff_traj_s(waypoints_s_col_refined, 'col',(1,0,0,1))\n",
    "# #plot_endeff_traj(waypoints_q_backtransf, 'qb',(1,0.5,1,1))"
   ]
  },
  {
   "cell_type": "code",
   "execution_count": null,
   "metadata": {},
   "outputs": [],
   "source": [
    "for sa in waypoints_s_refined:\n",
    "    #qa = #Ratfk.ComputeQValue(ta, np.zeros(3))\n",
    "    showres_s(sa)\n",
    "    if col_func_handle(Ratfk.ComputeQValue(sa, np.zeros(7))):\n",
    "        print(col_func_handle(Ratfk.ComputeQValue(sa, np.zeros(7))))\n",
    "        query_object = query_port.Eval(scene_graph_context)\n",
    "        print(query_object.HasCollisions())\n",
    "        break\n",
    "        \n",
    "    time.sleep(0.01)"
   ]
  },
  {
   "cell_type": "code",
   "execution_count": null,
   "metadata": {},
   "outputs": [],
   "source": [
    "for sa in waypoints_s_col_refined:\n",
    "    #qa = #Ratfk.ComputeQValue(ta, np.zeros(3))\n",
    "    showres_s(sa)\n",
    "    if col_func_handle(Ratfk.ComputeQValue(sa, np.zeros(7))):\n",
    "        print('col')\n",
    "#         break\n",
    "    time.sleep(0.01)"
   ]
  },
  {
   "cell_type": "code",
   "execution_count": null,
   "metadata": {},
   "outputs": [],
   "source": [
    "#this is how you get the breakpoints and coefficients of the collision free spline\n",
    "\n",
    "print(f\"breakpoints: {coord_splines_s[0].x.shape}\")\n",
    "\n",
    "print(f\"coefficients: {coord_splines_s[0].c.shape}\")"
   ]
  },
  {
   "cell_type": "code",
   "execution_count": null,
   "metadata": {},
   "outputs": [],
   "source": [
    "#this is how you get the breakpoints and coefficients of the spline with collision\n",
    "\n",
    "print(f\"breakpoints: {coord_splines_s_col[0].x.shape}\")\n",
    "\n",
    "print(f\"coefficients: {coord_splines_s_col[0].c.shape}\")"
   ]
  },
  {
   "cell_type": "code",
   "execution_count": null,
   "metadata": {},
   "outputs": [],
   "source": [
    "import time\n",
    "from pydrake.geometry.optimization_dev import CspaceFreePath\n"
   ]
  },
  {
   "cell_type": "code",
   "execution_count": null,
   "metadata": {},
   "outputs": [],
   "source": [
    "from pydrake.all import PiecewisePolynomial\n",
    "from pydrake.polynomial import Polynomial as CommonPolynomial\n",
    "import logging\n",
    "drake_logger = logging.getLogger(\"drake\")\n",
    "drake_logger.setLevel(logging.DEBUG)\n",
    "\n",
    "breaks = np.arange(0, waypoints_s.shape[0])\n",
    "samples = waypoints_s\n",
    "derivs = np.zeros_like(waypoints_s)\n",
    "traj = PiecewisePolynomial.CubicHermite(breaks,samples.T, derivs.T)\n",
    "polys =np.array([traj.getPolynomialMatrix(i) for i in breaks[:-1]]).squeeze().T\n"
   ]
  },
  {
   "cell_type": "code",
   "execution_count": null,
   "metadata": {},
   "outputs": [],
   "source": [
    "polys[0,0].GetDegree()"
   ]
  },
  {
   "cell_type": "code",
   "execution_count": null,
   "metadata": {},
   "outputs": [],
   "source": [
    "# q_star = np.zeros(plant.num_positions())\n",
    "# plane_order = 2\n",
    "# max_degree = 3\n",
    "# t0 = time.time()\n",
    "# cspace_free_path = CspaceFreePath(\n",
    "#     plant,\n",
    "#     scene_graph,\n",
    "#     q_star,\n",
    "#     maximum_path_degree=max_degree,\n",
    "#     plane_order=plane_order,\n",
    "# )\n",
    "# t1 = time.time()\n",
    "# print(f\"Time to build collision checker {t1-t0}\")"
   ]
  },
  {
   "cell_type": "code",
   "execution_count": null,
   "metadata": {},
   "outputs": [],
   "source": [
    "len(cspace_free_path.separating_planes())"
   ]
  },
  {
   "cell_type": "code",
   "execution_count": null,
   "metadata": {},
   "outputs": [],
   "source": [
    "# for plane in cspace_free_path.separating_planes():\n",
    "#     pos_body_idx = plane.positive_side_geometry.body_index()\n",
    "#     neg_body_idx = plane.negative_side_geometry.body_index()\n",
    "#     pos_body_name = plant.get_body(pos_body_idx).name()\n",
    "#     neg_body_name = plant.get_body(neg_body_idx).name()\n",
    "#     print(pos_body_name, neg_body_name)\n",
    "print(len(cspace_free_path.separating_planes()))"
   ]
  },
  {
   "cell_type": "code",
   "execution_count": null,
   "metadata": {},
   "outputs": [],
   "source": [
    "cert_options = CspaceFreePath.FindSeparationCertificateGivenPathOptions()\n",
    "cert_options.terminate_segment_certification_at_failure = False\n",
    "cert_options.num_threads = -1\n",
    "cert_options.verbose = False\n",
    "cert_options.solver_id = MosekSolver.id()\n",
    "cert_options.solver_options = SolverOptions()\n",
    "cert_options.terminate_path_certification_at_failure = False"
   ]
  },
  {
   "cell_type": "code",
   "execution_count": null,
   "metadata": {},
   "outputs": [],
   "source": [
    "t0 = time.time()\n",
    "stats, res = cspace_free_path.FindSeparationCertificateGivenPath(polys,\n",
    "                                                                 set(),\n",
    "                                                                 cert_options)\n",
    "t1 = time.time()\n",
    "print(f\"Time to certify path {t1-t0}\")"
   ]
  },
  {
   "cell_type": "code",
   "execution_count": null,
   "metadata": {},
   "outputs": [],
   "source": [
    "for s in stats:\n",
    "    print(s.total_time_to_certify())\n",
    "    "
   ]
  },
  {
   "cell_type": "code",
   "execution_count": null,
   "metadata": {},
   "outputs": [],
   "source": []
  },
  {
   "cell_type": "code",
   "execution_count": null,
   "metadata": {},
   "outputs": [],
   "source": [
    "from pydrake.all import PiecewisePolynomial\n",
    "from pydrake.polynomial import Polynomial as CommonPolynomial\n",
    "import logging\n",
    "drake_logger = logging.getLogger(\"drake\")\n",
    "drake_logger.setLevel(logging.DEBUG)\n",
    "\n",
    "breaks = np.arange(0, waypoints_s_col.shape[0])\n",
    "samples = waypoints_s_col\n",
    "derivs = np.zeros_like(waypoints_s_col)\n",
    "traj_unsafe = PiecewisePolynomial.CubicHermite(breaks,samples.T, derivs.T)\n",
    "polys_unsafe =np.array([traj_unsafe.getPolynomialMatrix(i) for i in breaks[:-1]]).squeeze().T\n",
    "for t in np.linspace(traj_unsafe.start_time(), traj_unsafe.end_time(),int(1e3)):\n",
    "    s = traj_unsafe.value(t)\n",
    "    showres_s(s)\n",
    "    if col_func_handle(Ratfk.ComputeQValue(s, np.zeros(7))):\n",
    "        print('col')\n",
    "#         break\n",
    "    time.sleep(0.01)"
   ]
  },
  {
   "cell_type": "code",
   "execution_count": null,
   "metadata": {},
   "outputs": [],
   "source": [
    "t0 = time.time()\n",
    "stats, res = cspace_free_path.FindSeparationCertificateGivenPath(polys_unsafe,\n",
    "                                                                 set(),\n",
    "                                                                 cert_options)\n",
    "t1 = time.time()\n",
    "print(f\"Time to certify path {t1-t0}\")"
   ]
  },
  {
   "cell_type": "code",
   "execution_count": null,
   "metadata": {},
   "outputs": [],
   "source": [
    "for s in stats:\n",
    "    print(s.certified_safe())\n",
    "    "
   ]
  },
  {
   "cell_type": "code",
   "execution_count": null,
   "metadata": {},
   "outputs": [],
   "source": [
    "for s in stats:\n",
    "    print(s.total_time_to_certify())\n",
    "    print(s.total_time_to_solve_progs())\n",
    "    print(s.total_time_building_progs())\n",
    "    print()"
   ]
  },
  {
   "cell_type": "code",
   "execution_count": null,
   "metadata": {},
   "outputs": [],
   "source": [
    "print(stats[0].total_time_to_certify_pair[0])\n",
    "print(stats[0].time_to_build_prog[0])\n",
    "print(stats[0].time_to_solve_prog[0])"
   ]
  },
  {
   "cell_type": "code",
   "execution_count": null,
   "metadata": {},
   "outputs": [],
   "source": [
    "ur = UrDiagram(num_ur = 1, weld_wrist = True, add_shelf = True,\n",
    "                 add_gripper = True, use_meshcat=True)\n",
    "diagram_context = ur.diagram.CreateDefaultContext()\n",
    "diagram = ur.diagram.ForcedPublish(diagram_context)\n",
    "\n",
    "plant_context = ur.plant.GetMyMutableContextFromRoot(\n",
    "        diagram_context)\n",
    "scene_graph_context = ur.scene_graph.GetMyMutableContextFromRoot(\n",
    "    diagram_context)\n",
    "inspector = ur.scene_graph.model_inspector()        \n",
    "        \n",
    "# # construct the RationalForwardKinematics of this plant. This object handles the\n",
    "# # computations for the forward kinematics in the tangent-configuration space\n",
    "# Ratfk = RationalForwardKinematics(ur.plant)\n",
    "\n",
    "# # the point about which we will take the stereographic projections\n",
    "# q_star = np.zeros(ur.plant.num_positions())\n",
    "\n",
    "# # The object we will use to perform our certification.\n",
    "# cspace_free_polytope = CspaceFreePolytope(ur.plant, ur.scene_graph,\n",
    "#                                           SeparatingPlaneOrder.kAffine, q_star)\n",
    "\n",
    "#from pydrake.all import Box, GetVertices\n",
    "query = ur.scene_graph.get_query_output_port().Eval(ur.scene_graph.GetMyContextFromRoot(diagram_context))\n",
    "inspector = query.inspector()\n",
    "a = inspector.GetCollisionCandidates()\n",
    "geomids= []\n",
    "for b, c in a:\n",
    "    geomids.append(b)\n",
    "    geomids.append(c)\n",
    "ids = list(set(inspector.GetAllGeometryIds()))\n",
    "frame_id_dict = {}\n",
    "for idx in range(len(ids)):\n",
    "    #print(idx, plant.GetBodyFromFrameId(inspector.GetFrameId(ids[idx])))\n",
    "    if ur.plant.GetBodyFromFrameId(inspector.GetFrameId(ids[idx])).name() =='body':\n",
    "        frame_id_dict['body'] = ids[idx]\n",
    "    if ur.plant.GetBodyFromFrameId(inspector.GetFrameId(ids[idx])).name() =='left_finger':\n",
    "        frame_id_dict['left_finger'] = ids[idx]\n",
    "    if ur.plant.GetBodyFromFrameId(inspector.GetFrameId(ids[idx])).name() =='right_finger':\n",
    "        frame_id_dict['right_finger'] = ids[idx]\n",
    "    if ur.plant.GetBodyFromFrameId(inspector.GetFrameId(ids[idx])).name() =='ur_wrist_3_link':\n",
    "        frame_id_dict['ur_wrist_3_link'] = ids[idx]\n",
    "    if ur.plant.GetBodyFromFrameId(inspector.GetFrameId(ids[idx])).name() =='ur_wrist_2_link':\n",
    "        frame_id_dict['ur_wrist_2_link'] = ids[idx]\n",
    "\n",
    "print(frame_id_dict)\n",
    "geom_ids = [inspector.GetGeometries(inspector.GetFrameId(frame_id_dict[k]))[0] for k in ['ur_wrist_2_link','ur_wrist_3_link','body', 'left_finger', 'right_finger']]\n",
    "\n",
    "sh_frames = [6,7, 11,12,13]\n",
    "sh_geom = [inspector.GetShape(id) for id in geom_ids] \n",
    "sh_names = ['ur_wrist_2_link','ur_wrist_3_link', 'box', 'l','r']\n",
    "\n",
    "def plot_endeff_pose(q2, name = '', color = Rgba(1,1,0.1,0.8)):\n",
    "    ur.plant.SetPositions(plant_context, q2)\n",
    "    tfs = [ur.plant.EvalBodyPoseInWorld(plant_context, ur.plant.get_body(pydrake.multibody.tree.BodyIndex(fr))) for fr in sh_frames]\n",
    "    for n, f, geom in zip(sh_names[2:], tfs[2:], sh_geom[2:]):\n",
    "        #print(n,f,geom)\n",
    "        ur.meshcat.SetObject(\"/iris/shunk/\"+name+\"/\"+n,\n",
    "                                geom,\n",
    "                                color)\n",
    "        ur.meshcat.SetTransform(\"/iris/shunk/\"+name+\"/\"+n, f)\n",
    "# for i,p in enumerate(poi):\n",
    "#     plot_endeff_pose(p, str(i))\n",
    "def densify_waypoints(waypoints_q):\n",
    "    densify = 200\n",
    "    dists = []\n",
    "    dense_waypoints = []\n",
    "    for idx in range(len(waypoints_q[:-1])):\n",
    "        a = waypoints_q[idx]\n",
    "        b = waypoints_q[idx+1]\n",
    "        t = np.linspace(1,0, 10)\n",
    "        locs_endeff = []\n",
    "        dists_endeff = []\n",
    "        for tval in t:\n",
    "            a = a*tval + b*(1-tval)\n",
    "            qa = a#Ratfk.ComputeQValue(ta, np.zeros(7))\n",
    "            #showres(qa)\n",
    "            #time.sleep(0.1)            \n",
    "            ur.plant.SetPositions(plant_context, qa)\n",
    "            tf_tot= ur.plant.EvalBodyPoseInWorld(plant_context, ur.plant.get_body(pydrake.multibody.tree.BodyIndex(11)))\n",
    "            tf = tf_tot.translation() + tf_tot.GetAsMatrix4()[:3,:3][:,1] *0.15\n",
    "            locs_endeff.append(tf)\n",
    "        for i in range(len(locs_endeff)-1):\n",
    "            dists_endeff.append(np.linalg.norm(locs_endeff[i]- locs_endeff[i+1]))\n",
    "        d = np.sum(dists_endeff)\n",
    "        #print(d * densify)\n",
    "        t = np.linspace(1,0,int(densify*d))\n",
    "        for tval in t:\n",
    "            dense_waypoints.append(waypoints_q[idx]*tval + waypoints_q[idx+1]*(1-tval))\n",
    "    return dense_waypoints\n",
    "\n",
    "def plot_endeff_traj(dense_waypoints):\n",
    "    color = Rgba(1,0,0,1.0)\n",
    "    start_idx = 0\n",
    "    for i, qa in enumerate(dense_waypoints):\n",
    "        #qa = Ratfk.ComputeQValue(ta, np.zeros(7))\n",
    "        #showres(qa)\n",
    "        #time.sleep(0.1)            \n",
    "        ur.plant.SetPositions(plant_context, qa)\n",
    "        tf_tot= ur.plant.EvalBodyPoseInWorld(plant_context, ur.plant.get_body(pydrake.multibody.tree.BodyIndex(11)))\n",
    "        tf = tf_tot.translation() + tf_tot.GetAsMatrix4()[:3,:3][:,1] *0.15\n",
    "\n",
    "        ur.meshcat.SetObject(f\"/iris/points/traj/{i+start_idx}\",\n",
    "                               Sphere(0.005),\n",
    "                               color)\n",
    "\n",
    "        ur.meshcat.SetTransform(f\"/iris/points/traj/{i+start_idx}\",\n",
    "                                   RigidTransform(RotationMatrix(),\n",
    "                                                  tf))\n",
    "\n"
   ]
  },
  {
   "cell_type": "code",
   "execution_count": null,
   "metadata": {},
   "outputs": [],
   "source": [
    "import pickle\n",
    "import os\n",
    "\n",
    "exp_name = \"5DOf_ur_20230703210916_16_1000_0.050_0.140\"#\"5DOf_ur_20230703162006_12_1000_0.050_0.140\"\n",
    "poly_names = os.listdir(\"logs/\"+exp_name+\"/regions\")\n",
    "data_chkpts = os.listdir(\"logs/\"+exp_name+\"/data\")\n",
    "poly_names.sort()\n",
    "data_chkpts.sort()\n",
    "regions = []\n",
    "for p in poly_names:\n",
    "    with open(\"logs/\"+exp_name+\"/regions/\"+p, 'rb') as f:\n",
    "        d = pickle.load(f)\n",
    "    regions.append(HPolyhedron(d['ra'], d['rb']))\n",
    "\n",
    "with open(\"logs/\"+exp_name+\"/data/\"+data_chkpts[-1], 'rb') as f:\n",
    "    d2 = pickle.load(f)\n",
    "\n",
    "seed_points = d2['sp'][-1]"
   ]
  },
  {
   "cell_type": "code",
   "execution_count": null,
   "metadata": {},
   "outputs": [],
   "source": [
    "showres(seed_points[0, :])"
   ]
  },
  {
   "cell_type": "code",
   "execution_count": null,
   "metadata": {},
   "outputs": [],
   "source": [
    "def conversion_dummy(q):\n",
    "    return q\n",
    "import dijkstraspp\n",
    "dspp = dijkstraspp.DijkstraSPPsolver(regions, conversion_dummy)"
   ]
  },
  {
   "cell_type": "code",
   "execution_count": null,
   "metadata": {},
   "outputs": [],
   "source": [
    "sliders = []\n",
    "for i in range(ur.plant.num_positions()):\n",
    "    q_low = ur.plant.GetPositionLowerLimits()[i]\n",
    "    q_high = ur.plant.GetPositionUpperLimits()[i]\n",
    "    sliders.append(widgets.FloatSlider(min=q_low, max=q_high, value=0, description=f\"q{i}\"))\n",
    "\n",
    "q = np.zeros(ur.plant.num_positions())\n",
    "ik = InverseKinematics(ur.plant, plant_context)\n",
    "collision_constraint = ik.AddMinimumDistanceConstraint(0.001, 0.001)\n",
    "def eval_cons(q, c, tol):\n",
    "    return 1-1*float(c.evaluator().CheckSatisfied(q, tol))\n",
    "    \n",
    "col_func_handle = partial(eval_cons, c=collision_constraint, tol=0.01)\n",
    "col_shunk_col =  Rgba(0.8, 0.0, 0, 0.5)    \n",
    "col_shunk_free =  Rgba(0.0, 0.8, 0.5, 0.5)   \n",
    "\n",
    "def handle_slider_change(change, idx):\n",
    "    q[idx] = change['new']\n",
    "    showres_regions(q)\n",
    "\n",
    "def showres(qvis):\n",
    "    ur.plant.SetPositions(plant_context, qvis)\n",
    "    col = col_func_handle(qvis)\n",
    "    shunk = ur.plant.get_body(pydrake.multibody.tree.BodyIndex(11))\n",
    "    tf_tot = shunk.EvalPoseInWorld(plant_context)\n",
    "    tf = tf_tot.translation()\n",
    "    \n",
    "   # tf_tot= plant.EvalBodyPoseInWorld(plant_context, plant.get_body(pydrake.multibody.tree.BodyIndex(7)))\n",
    "    #tf = tf_tot.translation() - tf_tot.GetAsMatrix4()[:3,:3][:,1] *0.15\n",
    "    if col:\n",
    "        ur.meshcat.SetObject(f\"/drake/visualizer/shunk\",\n",
    "                                   Sphere(0.05),\n",
    "                                   col_shunk_col)\n",
    "    else:\n",
    "        ur.meshcat.SetObject(f\"/drake/visualizer/shunk\",\n",
    "                                   Sphere(0.05),\n",
    "                                   col_shunk_free)\n",
    "    ur.meshcat.SetTransform(f\"/drake/visualizer/shunk\",\n",
    "                                   RigidTransform(RotationMatrix(),\n",
    "                                                  tf))\n",
    "    \n",
    "    ur.diagram.ForcedPublish(diagram_context)\n",
    "\n",
    "from visibility_utils import point_in_regions\n",
    "\n",
    "def showres_regions(qvis):\n",
    "    ur.plant.SetPositions(plant_context, qvis)\n",
    "    is_in_regions = False #point_in_regions(qvis, regions)\n",
    "    col = col_func_handle(qvis)\n",
    "    shunk = ur.plant.get_body(pydrake.multibody.tree.BodyIndex(11))\n",
    "    tf_tot = shunk.EvalPoseInWorld(plant_context)\n",
    "    tf = tf_tot.translation()\n",
    "    \n",
    "   # tf_tot= plant.EvalBodyPoseInWorld(plant_context, plant.get_body(pydrake.multibody.tree.BodyIndex(7)))\n",
    "    #tf = tf_tot.translation() - tf_tot.GetAsMatrix4()[:3,:3][:,1] *0.15\n",
    "    if col:\n",
    "        ur.meshcat.SetObject(f\"/drake/visualizer/shunk\",\n",
    "                                   Sphere(0.05),\n",
    "                                   col_shunk_col)\n",
    "    else:\n",
    "        ur.meshcat.SetObject(f\"/drake/visualizer/shunk\",\n",
    "                                   Sphere(0.05),\n",
    "                                   col_shunk_free)\n",
    "    \n",
    "    ur.meshcat.SetTransform(f\"/drake/visualizer/shunk\",\n",
    "                                   RigidTransform(RotationMatrix(),\n",
    "                                                 tf))\n",
    "    \n",
    "        \n",
    "    if is_in_regions:\n",
    "        ur.meshcat.SetObject(f\"/drake/visualizer/inreg\",\n",
    "                                   Sphere(0.2),\n",
    "                                   col_shunk_free)\n",
    "    else:\n",
    "        ur.meshcat.SetObject(f\"/drake/visualizer/inreg\",\n",
    "                                   Sphere(0.2),\n",
    "                                   col_shunk_col)\n",
    "    ur.meshcat.SetTransform(f\"/drake/visualizer/inreg\",\n",
    "                                   RigidTransform(RotationMatrix(),\n",
    "                                                  np.array([0.5,0,0.5])))\n",
    "    \n",
    "    ur.diagram.ForcedPublish(diagram_context)\n",
    "\n",
    "scaler = 1 #np.array([0.8, 1., 0.8, 1, 0.8, 1, 0.8]) #do you even geometry bro?\n",
    "q_min = np.array(q_low)*scaler\n",
    "q_max = np.array(q_high)*scaler\n",
    "q_diff = q_max-q_min\n",
    "\n",
    "def sample_cfree_QPoint(MAXIT=1000):\n",
    "\tit = 0\n",
    "\twhile it<MAXIT:\n",
    "\t\trand = np.random.rand(5)\n",
    "\t\tq_s = q_min + rand*q_diff\n",
    "\t\tcol = False\n",
    "\t\tfor _ in range(10):\n",
    "\t\t\tr  = 0.05*(np.random.rand(5)-0.5)\n",
    "\t\t\tcol |= (col_func_handle(q_s+r) > 0)\n",
    "\t\tif not col:\n",
    "\t\t\treturn q_s #Ratfk.ComputeQValue(q_s, q_star)\n",
    "\t\tit+=1\n",
    "\traise ValueError(\"no col free point found\")\n",
    "\n",
    "idx = 0\n",
    "for slider in sliders:\n",
    "    slider.observe(partial(handle_slider_change, idx = idx), names='value')\n",
    "    idx+=1\n",
    "\n",
    "display(sliders[0])\n",
    "for slider in sliders:\n",
    "    display(slider)"
   ]
  },
  {
   "cell_type": "code",
   "execution_count": null,
   "metadata": {},
   "outputs": [],
   "source": [
    "ur.plant"
   ]
  },
  {
   "cell_type": "code",
   "execution_count": null,
   "metadata": {},
   "outputs": [],
   "source": [
    "points = np.array([sample_cfree_QPoint() for i in range(50)])"
   ]
  },
  {
   "cell_type": "code",
   "execution_count": null,
   "metadata": {},
   "outputs": [],
   "source": [
    "from pydrake.all import VisibilityGraph\n",
    "from pydrake.all import SceneGraphCollisionChecker, CollisionCheckerParams\n"
   ]
  },
  {
   "cell_type": "code",
   "execution_count": null,
   "metadata": {},
   "outputs": [],
   "source": [
    "ccp = CollisionCheckerParams()"
   ]
  },
  {
   "cell_type": "code",
   "execution_count": null,
   "metadata": {},
   "outputs": [],
   "source": [
    "ccp."
   ]
  },
  {
   "cell_type": "code",
   "execution_count": null,
   "metadata": {},
   "outputs": [],
   "source": [
    "VisibilityGraph()"
   ]
  },
  {
   "cell_type": "code",
   "execution_count": null,
   "metadata": {},
   "outputs": [],
   "source": [
    "SceneGraphCollisionChecker(ur.scene_graph, ur.diagram)"
   ]
  },
  {
   "cell_type": "code",
   "execution_count": null,
   "metadata": {},
   "outputs": [],
   "source": [
    "ur.diagram"
   ]
  },
  {
   "cell_type": "code",
   "execution_count": null,
   "metadata": {},
   "outputs": [],
   "source": [
    "q = seed_points[0, :].copy()\n",
    "print(q)"
   ]
  },
  {
   "cell_type": "code",
   "execution_count": null,
   "metadata": {},
   "outputs": [],
   "source": [
    "import time\n",
    "centers = [r.ChebyshevCenter() for r in regions]\n",
    "start = centers[0]\n",
    "for _ in range(50):\n",
    "    #nxt = vs.sample_in_regions() #\n",
    "    while True:\n",
    "        nxt = sample_cfree_QPoint()#centers[np.random.choice(len(centers))]\n",
    "        plot_endeff_pose(nxt, str(0))\n",
    "        if nxt[0] != start[0]:\n",
    "            break\n",
    "    wp, dist = dspp.solve(start, nxt, refine_path=True)#dijkstra_spp(start, nxt, node_intersections, base_ad_mat, vs.regions, point_conversion, optimize= True)\n",
    "    print(dist)\n",
    "    if dist >0:\n",
    "        dense_waypoints = densify_waypoints(wp)\n",
    "        plot_endeff_traj(dense_waypoints)\n",
    "        for qa in dense_waypoints:\n",
    "            #qa = #Ratfk.ComputeQValue(ta, np.zeros(3))\n",
    "            showres(qa)\n",
    "            if col_func_handle(qa):\n",
    "                print('col')\n",
    "                break\n",
    "            time.sleep(0.002)\n",
    "        start = nxt\n",
    "        time.sleep(0.01)\n",
    "        ur.meshcat.Delete(\"/iris/points/traj/\")\n",
    "        \n",
    "    else:\n",
    "        nxt = centers[np.random.choice(len(centers))]"
   ]
  },
  {
   "cell_type": "code",
   "execution_count": null,
   "metadata": {},
   "outputs": [],
   "source": [
    "plot_endeff_pose(centers[25],'0')\n",
    "plot_endeff_pose(centers[1],'1')\n",
    "\n",
    "\n"
   ]
  },
  {
   "cell_type": "code",
   "execution_count": null,
   "metadata": {},
   "outputs": [],
   "source": [
    "showres(centers[25])"
   ]
  },
  {
   "cell_type": "code",
   "execution_count": null,
   "metadata": {},
   "outputs": [],
   "source": [
    "# poi = []\n",
    "# poi.append(np.array([-0.32743, -0.92743,  0.47257,  0.07257, -0.02743]))\n",
    "# poi.append(np.array([-1.62743, -1.32743,  2.57257, -1.22743, -0.02743]))\n",
    "# poi.append(np.array([-1.62743, -2.02743,  1.67257,  0.37257, -0.02743]))\n",
    "# poi.append(np.array([-1.72743, -1.82743, -2.02743,  0.67257, -0.02743]))\n",
    "# poi.append(np.array([-1.72743, -1.92743,  1.07257, -2.32743, -0.02743]))\n",
    "# poi.append(np.array([-1.72743, -1.32743, -0.92743, -1.02743, -0.02743]))\n",
    "# poi.append(np.array([-1.52743, -2.42743,  0.87257, -1.62743, -0.02743]))\n",
    "# poi.append(np.array([-2.12743, -0.52743, -1.92743,  2.47257, -1.02743]))"
   ]
  },
  {
   "cell_type": "code",
   "execution_count": null,
   "metadata": {},
   "outputs": [],
   "source": [
    "dspp.solve(centers[25], centers[24], refine_path=True)"
   ]
  },
  {
   "cell_type": "code",
   "execution_count": null,
   "metadata": {},
   "outputs": [],
   "source": [
    "snopt_iris_options = IrisOptions()\n",
    "snopt_iris_options.require_sample_point_is_contained = True\n",
    "snopt_iris_options.iteration_limit = 8\n",
    "snopt_iris_options.configuration_space_margin = 1.5e-3\n",
    "#snopt_iris_options.max_faces_per_collision_pair = 60\n",
    "snopt_iris_options.termination_threshold = -1\n",
    "#snopt_iris_options.q_star = np.zeros(3)\n",
    "snopt_iris_options.num_collision_infeasible_samples = 15\n",
    "snopt_iris_options.relative_termination_threshold = 0.02\n",
    "\n",
    "def SNOPT_IRIS(q_seeds,  region_obstacles, logger, plant, context, snoptiris_options):\n",
    "\tregions = []\n",
    "\tfor reg_indx, q_seed in enumerate(q_seeds):\n",
    "\t\t#q_seed = Ratforwardkin.ComputeQValue(s_seed.reshape(-1,1), np.zeros((7,1)))\n",
    "\t\t#print('snopt iris call')\n",
    "\t\tsnoptiris_options.configuration_obstacles = []\n",
    "\t\tif len(region_obstacles):\n",
    "\t\t\tsnoptiris_options.configuration_obstacles = region_obstacles\n",
    "\t\tplant.SetPositions(plant.GetMyMutableContextFromRoot(context), q_seed.reshape(-1,1))\n",
    "\t\ttry:\n",
    "\t\t\t#r = IrisInRationalConfigurationSpace(plant, plant.GetMyContextFromRoot(context), q_star, snoptiris_options)\n",
    "\t\t\tr = IrisInConfigurationSpace(plant, plant_context, snoptiris_options)\n",
    "\t\t\tr_red = r.ReduceInequalities()\n",
    "\t\t\tprint(f\"[SNOPT IRIS]: Region:{reg_indx} / {len(q_seeds)}\")\n",
    "\t\t\t#run the certifier\n",
    "\t\t\t# cert = cspace_free_polytope.BinarySearch(set(),\n",
    "\t\t\t# \t\t\t\t\t\t\t\tr.A(),\n",
    "\t\t\t# \t\t\t\t\t\t\t\tr.b(), \n",
    "\t\t\t# \t\t\t\t\t\t\t\tnp.array(s_seed),\n",
    "\t\t\t# \t\t\t\t\t\t\t\tbinary_search_options)\n",
    "\t\t\tif logger is not None: logger.log_region(r_red)\n",
    "\t\t\t# r = cert.certified_polytope\n",
    "\t\t\tregions.append(r_red)\n",
    "\t\texcept:\n",
    "\t\t\tprint(\"error, SNOPT IRIS FAILED\")\n",
    "\treturn regions\n",
    "\n",
    "SNOPT_IRIS_Handle = partial(SNOPT_IRIS,\n",
    "                            plant = ur.plant,\n",
    "                            context = diagram_context,\n",
    "                            snoptiris_options = snopt_iris_options,\n",
    "\t\t\t    \t\t\t#binary_search_options = binary_search_options,\n",
    "                            #Ratforwardkin = Ratfk,\n",
    "                            )"
   ]
  },
  {
   "cell_type": "code",
   "execution_count": null,
   "metadata": {},
   "outputs": [],
   "source": [
    "#setup visibility seeding helpers\n",
    "from visibility_utils import point_in_regions\n",
    "from tqdm import tqdm\n",
    "from scipy.sparse import lil_matrix\n",
    "\n",
    "scaler = 1 #np.array([0.8, 1., 0.8, 1, 0.8, 1, 0.8]) #do you even geometry bro?\n",
    "q_min = np.array(q_low)*scaler\n",
    "q_max = np.array(q_high)*scaler\n",
    "q_diff = q_max-q_min\n",
    "\n",
    "alpha = 0.05\n",
    "eps = 0.25\n",
    "N = 1000\n",
    "seed = 1\n",
    "np.random.seed(seed)\n",
    "\n",
    "def estimate_coverage(regions, pts = 3000):\n",
    "\tpts_ = [sample_cfree_QPoint() for _ in range(pts)]\n",
    "\tinreg = 0\n",
    "\tfor pt in pts_:\n",
    "\t\tif point_in_regions(pt, regions): inreg+=1\n",
    "\treturn inreg/pts\n",
    "\n",
    "def sample_cfree_QPoint(MAXIT=1000):\n",
    "\tit = 0\n",
    "\twhile it<MAXIT:\n",
    "\t\trand = np.random.rand(5)\n",
    "\t\tq_s = q_min + rand*q_diff\n",
    "\t\tcol = False\n",
    "\t\tfor _ in range(10):\n",
    "\t\t\tr  = 0.05*(np.random.rand(5)-0.5)\n",
    "\t\t\tcol |= (col_func_handle(q_s+r) > 0)\n",
    "\t\tif not col:\n",
    "\t\t\treturn q_s #Ratfk.ComputeQValue(q_s, q_star)\n",
    "\t\tit+=1\n",
    "\traise ValueError(\"no col free point found\")\n",
    "\n",
    "def sample_cfree_QPoint_in_regions(regions):\n",
    "\tfor _ in range(1000):\n",
    "\t\tpt = sample_cfree_QPoint()\n",
    "\t\tif point_in_regions(pt, regions): return pt\n",
    "\treturn None\n",
    "\n",
    "def sample_cfree_handle(n, m, regions=None):\n",
    "\t\tpoints = np.zeros((n,5))\n",
    "\t\tif regions is None: regions = []\t\t\n",
    "\t\tfor i in range(n):\n",
    "\t\t\tbt_tries = 0\n",
    "\t\t\twhile bt_tries<m:\n",
    "\t\t\t\tpoint = sample_cfree_QPoint()\n",
    "\t\t\t\tcol = False\n",
    "\t\t\t\tfor _ in range(10):\n",
    "\t\t\t\t\tr  = 0.05*(np.random.rand(5)-0.5)\n",
    "\t\t\t\t\tcol |= point_in_regions(point+r, regions)\n",
    "\t\t\t\tif col:\n",
    "\t\t\t\t\tbt_tries += 1\n",
    "\t\t\t\t\tif bt_tries == m:\n",
    "\t\t\t\t\t\treturn points, True \n",
    "\t\t\t\telse:\n",
    "\t\t\t\t\tbreak\n",
    "\t\t\tpoints[i] = point\n",
    "\t\treturn points, False\n",
    "\n",
    "# def visSSpace(t1, t2, regions, num_checks, visualizer):\n",
    "# \tt1flat = t1.reshape(-1)\n",
    "# \tt2flat = t2.reshape(-1)\n",
    "# \tif np.linalg.norm(t1-t2) < 1e-6:\n",
    "# \t\treturn (1-col_func_handle(Ratfk.ComputeQValue(t1flat, q_star)))>0\n",
    "\t\t\t\t\n",
    "# \ttvec = np.linspace(0,1, num_checks)\n",
    "# \tfor t in tvec:\n",
    "# \t\ttinterp = t1flat*t + (1-t)*t2flat\n",
    "# \t\tif col_func_handle(Ratfk.ComputeQValue(tinterp, q_star)):\n",
    "# \t\t\treturn False\n",
    "# \t\telif point_in_regions(tinterp, regions):\n",
    "# \t\t\treturn False\n",
    "# \telse:\n",
    "# \t\treturn True\n",
    "\n",
    "def vis(q1, q2, regions, num_checks):\n",
    "\tq1flat = q1.reshape(-1)\n",
    "\tq2flat = q2.reshape(-1)\n",
    "\tif np.linalg.norm(q1-q2) < 1e-6:\n",
    "\t\treturn (1-col_func_handle(q1))>0\n",
    "\t\t\t\t\n",
    "\ttvec = np.linspace(0,1, num_checks)\n",
    "\tfor t in tvec:\n",
    "\t\tqinterp = q1flat*t + (1-t)*q2flat\n",
    "\t\tif col_func_handle(qinterp):\n",
    "\t\t\treturn False\n",
    "\t\telif point_in_regions(qinterp, regions):\n",
    "\t\t\treturn False\n",
    "\telse:\n",
    "\t\treturn True\n",
    "    \n",
    "visibility_checker = partial(vis, num_checks = 80)\n",
    "\n",
    "def vgraph_builder(points, regions):\n",
    "\tn = len(points)\n",
    "\tadj_mat = lil_matrix((n,n))\n",
    "\tfor i in tqdm(range(n)):\n",
    "\t\tpoint = points[i, :]\n",
    "\t\tfor j in range(len(points[:i])):\n",
    "\t\t\tother = points[j]\n",
    "\t\t\tresult = visibility_checker(point, other, regions)\n",
    "\t\t\t#print(result)\n",
    "\t\t\tif result:\n",
    "\t\t\t\tadj_mat[i,j] = adj_mat[j,i] = 1\n",
    "\treturn adj_mat"
   ]
  },
  {
   "cell_type": "code",
   "execution_count": null,
   "metadata": {},
   "outputs": [],
   "source": [
    "from doublegreedyhiddenset import HiddensetDoubleGreedy\n",
    "\n",
    "dg = HiddensetDoubleGreedy(\n",
    "    alpha=alpha,\n",
    "    eps = 0.01,\n",
    "    max_samples = 100000,\n",
    "    sample_node_handle=sample_cfree_handle,\n",
    "    los_handle=visibility_checker,\n",
    "    verbose=True\n",
    ")"
   ]
  },
  {
   "cell_type": "code",
   "execution_count": null,
   "metadata": {},
   "outputs": [],
   "source": [
    "dg.construct_independent_set([])\n"
   ]
  },
  {
   "cell_type": "code",
   "execution_count": null,
   "metadata": {},
   "outputs": [],
   "source": [
    "dg.refine_independent_set_greedy([])"
   ]
  },
  {
   "cell_type": "code",
   "execution_count": null,
   "metadata": {},
   "outputs": [],
   "source": [
    "from visibility_seeding import VisSeeder\n",
    "from visibility_logging import Logger\n",
    "import os\n",
    "LOAD_CHKPT = True\n",
    "\n",
    "if not LOAD_CHKPT:\n",
    "    logger = Logger(\"5DOf_ur\", seed, N, alpha, eps, estimate_coverage)\n",
    "    VS = VisSeeder(N = N,\n",
    "                alpha = alpha,\n",
    "                eps = eps,\n",
    "                max_iterations = 10,\n",
    "                sample_cfree = sample_cfree_handle,\n",
    "                build_vgraph = vgraph_builder,\n",
    "                iris_w_obstacles = SNOPT_IRIS_Handle,\n",
    "                verbose = True,\n",
    "                logger = logger\n",
    "                )\n",
    "    out = VS.run()\n",
    "else:\n",
    "    pass\n",
    "    #exp_name = \"7DOf_shelves_20230617114513_1_1000_0.050_0.200\"\n",
    "    #poly_names = os.listdir(\"logs/\"+exp_name+\"/regions\")"
   ]
  },
  {
   "cell_type": "code",
   "execution_count": null,
   "metadata": {},
   "outputs": [],
   "source": [
    "# r_poi = SNOPT_IRIS_Handle(poi, [], None)\n",
    "# import pickle\n",
    "# with open('r_poi_UR5_19.pkl', 'wb') as f:\n",
    "#     d = {'ra': [r.A() for r in r_poi], 'rb': [r.b() for r in r_poi]}\n",
    "#     pickle.dump(d, f)"
   ]
  },
  {
   "cell_type": "code",
   "execution_count": null,
   "metadata": {},
   "outputs": [],
   "source": [
    "for p in poi:\n",
    "    print(point_in_regions(p, VS.regions))"
   ]
  },
  {
   "cell_type": "code",
   "execution_count": null,
   "metadata": {},
   "outputs": [],
   "source": [
    "# r_poi = SNOPT_IRIS_Handle(poi, [], None) "
   ]
  },
  {
   "cell_type": "code",
   "execution_count": null,
   "metadata": {},
   "outputs": [],
   "source": [
    "import pickle\n",
    "with open('r_poi_UR5.pkl', 'wb') as f:\n",
    "    d = {'ra': [r.A() for r in r_poi], 'rb': [r.b() for r in r_poi]}\n",
    "    pickle.dump(d, f)"
   ]
  },
  {
   "cell_type": "code",
   "execution_count": null,
   "metadata": {},
   "outputs": [],
   "source": [
    "import pickle\n",
    "with open('r_poi_UR5.pkl', 'rb') as f:\n",
    "   data = pickle.load(f)\n",
    "\n",
    "r_poi = []\n",
    "for a,b in zip(data['ra'], data['rb']):\n",
    "   r_poi.append(HPolyhedron(a,b))"
   ]
  },
  {
   "cell_type": "code",
   "execution_count": null,
   "metadata": {},
   "outputs": [],
   "source": [
    "import pickle\n",
    "import networkx as nx\n",
    "from visibility_utils import generate_distinct_colors\n",
    "import matplotlib.pyplot as plt\n",
    "import os\n",
    "exp_name = \"5DOf_ur_20230628191053_5_1000_0.050_0.250\"\n",
    "poly_names = os.listdir(\"logs/\"+exp_name+\"/regions\")\n",
    "data_chkpts = os.listdir(\"logs/\"+exp_name+\"/data\")\n",
    "poly_names.sort()\n",
    "data_chkpts.sort()\n",
    "regions = []\n",
    "for p in poly_names:\n",
    "    with open(\"logs/\"+exp_name+\"/regions/\"+p, 'rb') as f:\n",
    "        d = pickle.load(f)\n",
    "    regions.append(HPolyhedron(d['ra'], d['rb']))\n",
    "\n",
    "with open(\"logs/\"+exp_name+\"/data/\"+data_chkpts[-1], 'rb') as f:\n",
    "    d = pickle.load(f)\n",
    "\n",
    "r_poi = []\n",
    "with open(\"r_poi_UR5_19.pkl\", 'rb') as f:\n",
    "    drpoi = pickle.load(f)\n",
    "    for A,b in zip(drpoi['ra'], drpoi['rb']):\n",
    "        r_poi.append(HPolyhedron(A,b))\n",
    "\n",
    "region_groups_sizes = [len(g) for g in d['rb']]\n",
    "len_reg = np.sum(region_groups_sizes) \n",
    "region_groups_sizes.append(len(regions)-len_reg)\n",
    "region_groups = []\n",
    "idx = 0\n",
    "for s in region_groups_sizes:\n",
    "    grp = []\n",
    "    for i in range(s):\n",
    "        grp.append(regions[i+idx])\n",
    "    idx+=len(grp)\n",
    "    region_groups.append(grp)\n",
    "\n",
    "regions+=r_poi\n",
    "region_groups.append(r_poi)\n",
    "connectivity_graph = nx.Graph()\n",
    "for idx in range(len(regions)):\n",
    "    connectivity_graph.add_node(idx)\n",
    "    \n",
    "for idx1 in range(len(regions)):\n",
    "    for idx2 in range(idx1 +1, len(regions)):\n",
    "        r1 = regions[idx1]\n",
    "        r2 = regions[idx2]\n",
    "        if r1.IntersectsWith(r2):\n",
    "            connectivity_graph.add_edge(idx1,idx2)\n",
    "\n",
    "fig = plt.figure(figsize=(10,10))\n",
    "hues = generate_distinct_colors(len(region_groups)+1)[1:]\n",
    "colors = []\n",
    "for g, h in zip(region_groups, hues):\n",
    "    colors += [h]*len(g)\n",
    "\n",
    "nx.draw_spring(connectivity_graph, \n",
    "                with_labels = True, \n",
    "                node_color = colors)\n",
    "plt.show()"
   ]
  },
  {
   "cell_type": "code",
   "execution_count": null,
   "metadata": {},
   "outputs": [],
   "source": [
    "for p in poi:\n",
    "    print(point_in_regions(p, regions))"
   ]
  },
  {
   "cell_type": "code",
   "execution_count": null,
   "metadata": {},
   "outputs": [],
   "source": [
    "#from pydrake.all import Box, GetVertices\n",
    "query = ur.scene_graph.get_query_output_port().Eval(ur.scene_graph.GetMyContextFromRoot(diagram_context))\n",
    "inspector = query.inspector()\n",
    "a = inspector.GetCollisionCandidates()\n",
    "geomids= []\n",
    "for b, c in a:\n",
    "    geomids.append(b)\n",
    "    geomids.append(c)\n",
    "ids = list(set(inspector.GetAllGeometryIds()))\n",
    "frame_id_dict = {}\n",
    "for idx in range(len(ids)):\n",
    "    #print(idx, plant.GetBodyFromFrameId(inspector.GetFrameId(ids[idx])))\n",
    "    if ur.plant.GetBodyFromFrameId(inspector.GetFrameId(ids[idx])).name() =='body':\n",
    "        frame_id_dict['body'] = ids[idx]\n",
    "    if ur.plant.GetBodyFromFrameId(inspector.GetFrameId(ids[idx])).name() =='left_finger':\n",
    "        frame_id_dict['left_finger'] = ids[idx]\n",
    "    if ur.plant.GetBodyFromFrameId(inspector.GetFrameId(ids[idx])).name() =='right_finger':\n",
    "        frame_id_dict['right_finger'] = ids[idx]\n",
    "    if ur.plant.GetBodyFromFrameId(inspector.GetFrameId(ids[idx])).name() =='ur_wrist_3_link':\n",
    "        frame_id_dict['ur_wrist_3_link'] = ids[idx]\n",
    "    if ur.plant.GetBodyFromFrameId(inspector.GetFrameId(ids[idx])).name() =='ur_wrist_2_link':\n",
    "        frame_id_dict['ur_wrist_2_link'] = ids[idx]\n",
    "\n",
    "print(frame_id_dict)\n",
    "geom_ids = [inspector.GetGeometries(inspector.GetFrameId(frame_id_dict[k]))[0] for k in ['ur_wrist_2_link','ur_wrist_3_link','body', 'left_finger', 'right_finger']]\n",
    "\n",
    "sh_frames = [6,7, 11,12,13]\n",
    "sh_geom = [inspector.GetShape(id) for id in geom_ids] \n",
    "sh_names = ['ur_wrist_2_link','ur_wrist_3_link', 'box', 'l','r']\n",
    "\n",
    "def plot_endeff_pose(q2, name = '', color = Rgba(1,1,0.1,0.8)):\n",
    "    ur.plant.SetPositions(plant_context, q2)\n",
    "    tfs = [ur.plant.EvalBodyPoseInWorld(plant_context, ur.plant.get_body(pydrake.multibody.tree.BodyIndex(fr))) for fr in sh_frames]\n",
    "    for n, f, geom in zip(sh_names, tfs, sh_geom):\n",
    "        #print(n,f,geom)\n",
    "        ur.meshcat.SetObject(\"/iris/shunk/\"+name+\"/\"+n,\n",
    "                                geom,\n",
    "                                color)\n",
    "        ur.meshcat.SetTransform(\"/iris/shunk/\"+name+\"/\"+n, f)\n",
    "# for i,p in enumerate(poi):\n",
    "#     plot_endeff_pose(p, str(i))"
   ]
  },
  {
   "cell_type": "code",
   "execution_count": null,
   "metadata": {},
   "outputs": [],
   "source": [
    "for i in ids:\n",
    "    #print(ur.plant.GetBodyFromFrameId(inspector.GetFrameId(i)).name())\n",
    "    print(inspector.GetFrameId(i), ur.plant.GetBodyFromFrameId(inspector.GetFrameId(i)).name())"
   ]
  },
  {
   "cell_type": "code",
   "execution_count": null,
   "metadata": {},
   "outputs": [],
   "source": []
  },
  {
   "cell_type": "code",
   "execution_count": null,
   "metadata": {},
   "outputs": [],
   "source": [
    "plot_endeff_pose(centers[0])"
   ]
  },
  {
   "cell_type": "code",
   "execution_count": null,
   "metadata": {},
   "outputs": [],
   "source": [
    "for i in range(15):\n",
    "    print(ur.plant.get_body(pydrake.multibody.tree.BodyIndex(i)))"
   ]
  },
  {
   "cell_type": "code",
   "execution_count": null,
   "metadata": {},
   "outputs": [],
   "source": [
    "def densify_waypoints(waypoints_q):\n",
    "    densify = 200\n",
    "    dists = []\n",
    "    dense_waypoints = []\n",
    "    for idx in range(len(waypoints_q[:-1])):\n",
    "        a = waypoints_q[idx]\n",
    "        b = waypoints_q[idx+1]\n",
    "        t = np.linspace(1,0, 10)\n",
    "        locs_endeff = []\n",
    "        dists_endeff = []\n",
    "        for tval in t:\n",
    "            a = a*tval + b*(1-tval)\n",
    "            qa = a#Ratfk.ComputeQValue(ta, np.zeros(7))\n",
    "            #showres(qa)\n",
    "            #time.sleep(0.1)            \n",
    "            ur.plant.SetPositions(plant_context, qa)\n",
    "            tf_tot= ur.plant.EvalBodyPoseInWorld(plant_context, ur.plant.get_body(pydrake.multibody.tree.BodyIndex(11)))\n",
    "            tf = tf_tot.translation() + tf_tot.GetAsMatrix4()[:3,:3][:,1] *0.15\n",
    "            locs_endeff.append(tf)\n",
    "        for i in range(len(locs_endeff)-1):\n",
    "            dists_endeff.append(np.linalg.norm(locs_endeff[i]- locs_endeff[i+1]))\n",
    "        d = np.sum(dists_endeff)\n",
    "        #print(d * densify)\n",
    "        t = np.linspace(1,0,int(densify*d))\n",
    "        for tval in t:\n",
    "            dense_waypoints.append(waypoints_q[idx]*tval + waypoints_q[idx+1]*(1-tval))\n",
    "    return dense_waypoints\n",
    "\n",
    "def plot_endeff_traj(dense_waypoints):\n",
    "    color = Rgba(1,0,0,1.0)\n",
    "    start_idx = 0\n",
    "    for i, qa in enumerate(dense_waypoints):\n",
    "        #qa = Ratfk.ComputeQValue(ta, np.zeros(7))\n",
    "        #showres(qa)\n",
    "        #time.sleep(0.1)            \n",
    "        ur.plant.SetPositions(plant_context, qa)\n",
    "        tf_tot= ur.plant.EvalBodyPoseInWorld(plant_context, ur.plant.get_body(pydrake.multibody.tree.BodyIndex(11)))\n",
    "        tf = tf_tot.translation() + tf_tot.GetAsMatrix4()[:3,:3][:,1] *0.15\n",
    "\n",
    "        ur.meshcat.SetObject(f\"/iris/points/traj/{i+start_idx}\",\n",
    "                               Sphere(0.005),\n",
    "                               color)\n",
    "\n",
    "        ur.meshcat.SetTransform(f\"/iris/points/traj/{i+start_idx}\",\n",
    "                                   RigidTransform(RotationMatrix(),\n",
    "                                                  tf))"
   ]
  },
  {
   "cell_type": "code",
   "execution_count": null,
   "metadata": {},
   "outputs": [],
   "source": [
    "def conversion_dummy(q):\n",
    "    return q\n",
    "import dijkstraspp\n",
    "dspp = dijkstraspp.DijkstraSPPsolver(regions, conversion_dummy)"
   ]
  },
  {
   "cell_type": "code",
   "execution_count": null,
   "metadata": {},
   "outputs": [],
   "source": [
    "# import pickle \n",
    "\n",
    "# with open('logs/5DOf_ur_20230619092515_1_1000_0.050_0.250/5DOf_ur_20230619092515_1_1000_0.050_0.250dspp.pkl', 'rb') as f:\n",
    "#     a = pickle.load(f)\n",
    "\n",
    "# dspp = a['dspp']"
   ]
  },
  {
   "cell_type": "code",
   "execution_count": null,
   "metadata": {},
   "outputs": [],
   "source": [
    "import time\n",
    "\n",
    "start = poi[np.random.choice(8)]\n",
    "for _ in range(50):\n",
    "    #nxt = vs.sample_in_regions() #\n",
    "    while True:\n",
    "        nxt = poi[np.random.choice(8)]\n",
    "        plot_endeff_pose(nxt, str(0))\n",
    "        if nxt[0] != start[0]:\n",
    "            break\n",
    "    wp, dist = dspp.solve(start, nxt, refine_path=True)#dijkstra_spp(start, nxt, node_intersections, base_ad_mat, vs.regions, point_conversion, optimize= True)\n",
    "    print(dist)\n",
    "    if dist >0:\n",
    "        dense_waypoints = densify_waypoints(wp)\n",
    "        plot_endeff_traj(dense_waypoints)\n",
    "        for qa in dense_waypoints:\n",
    "            #qa = #Ratfk.ComputeQValue(ta, np.zeros(3))\n",
    "            showres(qa)\n",
    "            #if col_func_handle(qa):\n",
    "            #print(col)\n",
    "            #break\n",
    "            time.sleep(0.01)\n",
    "        start = nxt\n",
    "        time.sleep(0.01)\n",
    "        ur.meshcat.Delete(\"/iris/points/traj/\")\n",
    "        \n",
    "    else:\n",
    "        nxt = poi[np.random.choice(8)]"
   ]
  },
  {
   "cell_type": "code",
   "execution_count": null,
   "metadata": {},
   "outputs": [],
   "source": [
    "### estimate overlapping region volume\n",
    "coverage = estimate_coverage(regions, pts = 5000)\n",
    "\n",
    "\n",
    "\n"
   ]
  },
  {
   "cell_type": "code",
   "execution_count": null,
   "metadata": {},
   "outputs": [],
   "source": [
    "def point_in_regions_multi(pt, regions):\n",
    "    nr_sets =0\n",
    "    for r in regions:\n",
    "        if r.PointInSet(pt.reshape(-1,1)):\n",
    "            nr_sets+=1\n",
    "    return nr_sets    \n",
    "\n",
    "npts = 5000\n",
    "pts_ = [sample_cfree_QPoint() for _ in range(npts)]\n",
    "inreg = 0\n",
    "inreg_mult = []\n",
    "for pt in pts_:\n",
    "    nr = point_in_regions_multi(pt, regions)\n",
    "    if nr>0: \n",
    "        inreg+=1\n",
    "        inreg_mult.append(nr)\n"
   ]
  },
  {
   "cell_type": "code",
   "execution_count": null,
   "metadata": {},
   "outputs": [],
   "source": [
    "print('coverage est ',  inreg/npts)\n",
    "mult = 0\n",
    "for i in  inreg_mult:\n",
    "    if i>1:\n",
    "        mult+=1\n",
    "print('multicoverage fraction est ', mult/npts)"
   ]
  },
  {
   "cell_type": "code",
   "execution_count": null,
   "metadata": {},
   "outputs": [],
   "source": [
    "coverage"
   ]
  },
  {
   "cell_type": "code",
   "execution_count": null,
   "metadata": {},
   "outputs": [],
   "source": [
    "connectivity_graph = nx.Graph()\n",
    "for idx in range(len(regions)):\n",
    "    connectivity_graph.add_node(idx)\n",
    "    \n",
    "for idx1 in range(len(regions)):\n",
    "    for idx2 in range(idx1 +1, len(regions)):\n",
    "        r1 = regions[idx1]\n",
    "        r2 = regions[idx2]\n",
    "        if r1.IntersectsWith(r2):\n",
    "            connectivity_graph.add_edge(idx1,idx2)\n",
    "\n",
    "fig = plt.figure(figsize=(10,10))\n",
    "hues = generate_distinct_colors(len(region_groups)+1)[1:]\n",
    "colors = []\n",
    "for g, h in zip(region_groups, hues):\n",
    "    colors += [h]*len(g)\n",
    "\n",
    "nx.draw_spring(connectivity_graph, \n",
    "                with_labels = True, \n",
    "                node_color = colors)\n",
    "plt.show()"
   ]
  },
  {
   "cell_type": "code",
   "execution_count": null,
   "metadata": {},
   "outputs": [],
   "source": [
    "len(connectivity_graph.edges)"
   ]
  },
  {
   "cell_type": "code",
   "execution_count": null,
   "metadata": {},
   "outputs": [],
   "source": [
    "coords = [2,3,4]\n",
    "\n",
    "q_low_vis = (np.array(ur.plant.GetPositionLowerLimits())[coords]).tolist()\n",
    "q_high_vis = (np.array(ur.plant.GetPositionUpperLimits())[coords]).tolist()\n",
    "#coordinates of q0 that are not in coords list are the ones we project onto \n",
    "q0 = np.array([0.0,-0.2,0,0,0])\n",
    "\n"
   ]
  },
  {
   "cell_type": "code",
   "execution_count": null,
   "metadata": {},
   "outputs": [],
   "source": [
    "from  pydrake.all import StartMeshcat, DiagramBuilder, AddMultibodyPlantSceneGraph, MeshcatVisualizer\n",
    "\n",
    "meshcat2 = StartMeshcat()\n",
    "builder2 = DiagramBuilder()\n",
    "plant2, scene_graph2 = AddMultibodyPlantSceneGraph(builder2, time_step=0.0)\n",
    "vis2 = MeshcatVisualizer.AddToBuilder(builder2, scene_graph2, meshcat2)"
   ]
  },
  {
   "cell_type": "code",
   "execution_count": null,
   "metadata": {},
   "outputs": [],
   "source": [
    "import old_vis_utils as viz_utils\n",
    "import mcubes\n",
    "from pydrake.all import  StartMeshcat, MeshcatVisualizer, DiagramBuilder, \\\n",
    "    AddMultibodyPlantSceneGraph, TriangleSurfaceMesh, Rgba, SurfaceTriangle, Sphere\n",
    "\n",
    "def transfrom_regions(regions, q_proj, dof_coords):\n",
    "    small_regs = []\n",
    "    for r in regions:\n",
    "        A_new = r.A()[:,dof_coords]\n",
    "        c_dofs = []\n",
    "        for i in range(5):\n",
    "            if i not in dof_coords:\n",
    "                c_dofs.append(i)\n",
    "        A_const = r.A()[:, c_dofs]  \n",
    "        b_new = r.b() - A_const@q_proj[c_dofs]\n",
    "        #check if region is empty\n",
    "        rn = HPolyhedron(A_new, b_new)\n",
    "        if not rn.IsEmpty():\n",
    "            small_regs.append(rn)\n",
    "        else:\n",
    "            print(\"projected region is empty\")\n",
    "    return small_regs\n",
    "\n",
    "def plot_regions(regions, ellipses = None,\n",
    "                     region_suffix = '', colors = None,\n",
    "                     wireframe = False,\n",
    "                     opacity = 0.7,\n",
    "                     fill = True,\n",
    "                     line_width = 10,\n",
    "                     darken_factor = .2,\n",
    "                     el_opacity = 0.3):\n",
    "        if colors is None:\n",
    "            colors = viz_utils.n_colors_random(len(regions), rgbs_ret=True)\n",
    "\n",
    "        for i, region in enumerate(regions):\n",
    "            c = Rgba(*[col/255 for col in colors[i]],opacity)\n",
    "            prefix = f\"/iris/regions{region_suffix}/{i}\"\n",
    "            name = prefix + \"/hpoly\"\n",
    "            if region.ambient_dimension() == 3:\n",
    "                plot_hpoly3d(name, region,\n",
    "                                  c, wireframe = wireframe, resolution = 50)\n",
    "\n",
    "def get_plot_poly_mesh(region, resolution):\n",
    "\n",
    "        def inpolycheck(q0, q1, q2, A, b):\n",
    "            q = np.array([q0, q1, q2])\n",
    "            res = np.min(1.0 * (A @ q - b <= 0))\n",
    "            # print(res)\n",
    "            return res\n",
    "\n",
    "        aabb_max, aabb_min = viz_utils.get_AABB_limits(region)\n",
    "\n",
    "        col_hand = partial(inpolycheck, A=region.A(), b=region.b())\n",
    "        vertices, triangles = mcubes.marching_cubes_func(tuple(aabb_min),\n",
    "                                                         tuple(aabb_max),\n",
    "                                                         resolution,\n",
    "                                                         resolution,\n",
    "                                                         resolution,\n",
    "                                                         col_hand,\n",
    "                                                         0.5)\n",
    "        tri_drake = [SurfaceTriangle(*t) for t in triangles]\n",
    "        return vertices, tri_drake\n",
    "\n",
    "def plot_hpoly3d( name, hpoly, color, wireframe = True, resolution = 30):\n",
    "        verts, triangles = get_plot_poly_mesh(hpoly,\n",
    "                                                   resolution=resolution)\n",
    "        meshcat2.SetObject(name, TriangleSurfaceMesh(triangles, verts),\n",
    "                                color, wireframe=wireframe)"
   ]
  },
  {
   "cell_type": "code",
   "execution_count": null,
   "metadata": {},
   "outputs": [],
   "source": [
    "def col_func_handle_vis(qv0,qv1,qv2):\n",
    "    q_eval = q0.copy()\n",
    "    q_eval[coords] = np.array([qv0,qv1,qv2])\n",
    "    return col_func_handle(q_eval)\n",
    "\n",
    "col_shunk_col =  Rgba(0.8, 0.0, 0, 0.5)    \n",
    "col_shunk_free =  Rgba(0.0, 0.8, 0.5, 0.5)   \n",
    "\n",
    "\n",
    "def showres_viz(qv):\n",
    "    #print(q2)\n",
    "    \n",
    "    ur.plant.SetPositions(plant_context, qv) #GetJointByName(f\"iiwa_joint_{joint_idx}\").set_angle(plant_context, q2[joint_idx-1])\n",
    "    col = col_func_handle(qv)\n",
    "    color = Rgba(1, 0.72, 0, 1) if col else Rgba(0.24, 1, 0, 1)\n",
    "    shunk = ur.plant.get_body(pydrake.multibody.tree.BodyIndex(11))\n",
    "    tf_tot = shunk.EvalPoseInWorld(plant_context)\n",
    "    tf = tf_tot.translation()\n",
    "    #diagram.Publish(context)\n",
    "    #self.visualize_planes(idx_list)\n",
    "    #don't change this order\n",
    "    meshcat2.SetObject(f\"/s\",\n",
    "                            Sphere(0.05),\n",
    "                            color)\n",
    "    meshcat2.SetTransform(f\"/s\",\n",
    "                                RigidTransform(RotationMatrix(),\n",
    "                                                qv[coords]))\n",
    "    \n",
    "    if col:\n",
    "        ur.meshcat.SetObject(f\"/drake/visualizer/shunk\",\n",
    "                                   Sphere(0.05),\n",
    "                                   col_shunk_col)\n",
    "    else:\n",
    "        ur.meshcat.SetObject(f\"/drake/visualizer/shunk\",\n",
    "                                   Sphere(0.05),\n",
    "                                   col_shunk_free)\n",
    "    ur.meshcat.SetTransform(f\"/drake/visualizer/shunk\",\n",
    "                                   RigidTransform(RotationMatrix(),\n",
    "                                                  tf))\n",
    "    \n",
    "    ur.diagram.ForcedPublish(diagram_context)\n",
    "\n",
    "def visualize_collision_constraint(vis2, N = 50, factor = 1, iso_surface = 0.5, wireframe = True):\n",
    "        \"\"\"\n",
    "        :param N: N is density of marchingcubes grid. Runtime scales cubically in N\n",
    "        :return:\n",
    "        \"\"\"\n",
    "\n",
    "        vertices, triangles = mcubes.marching_cubes_func(tuple(factor*q_low_vis),\n",
    "                                                         tuple(factor*q_high_vis),\n",
    "                                                         N, N, N, col_func_handle_vis, iso_surface)\n",
    "        tri_drake = [SurfaceTriangle(*t) for t in triangles]\n",
    "        meshcat2.SetObject(\"/collision_constraint\",\n",
    "                                      TriangleSurfaceMesh(tri_drake, vertices),\n",
    "                                      Rgba(1, 0, 0, 0.5), wireframe=wireframe)\n",
    "        return tri_drake, vertices\n",
    "tri, v = visualize_collision_constraint(vis2, N=40)"
   ]
  },
  {
   "cell_type": "code",
   "execution_count": null,
   "metadata": {},
   "outputs": [],
   "source": []
  },
  {
   "cell_type": "code",
   "execution_count": null,
   "metadata": {},
   "outputs": [],
   "source": [
    "r_s = transfrom_regions(regions, q0, coords)\n",
    "plot_regions(r_s)"
   ]
  },
  {
   "cell_type": "code",
   "execution_count": null,
   "metadata": {},
   "outputs": [],
   "source": [
    "\n",
    "sliders2 = []\n",
    "for joint_id in coords:\n",
    "    print(coords)\n",
    "    joint_idx = joint_id + 1\n",
    "    sliders2.append(\n",
    "        widgets.FloatSlider(\n",
    "        min= np.array(ur.plant.GetPositionLowerLimits())[joint_id],##plant.GetJointByName(f\"iiwa_joint_{joint_idx}\").position_lower_limit(), \n",
    "        max= np.array(ur.plant.GetPositionUpperLimits())[joint_id],#plant.GetJointByName(f\"iiwa_joint_{joint_idx}\").position_upper_limit(), \n",
    "        value=0, \n",
    "        description=f'ur_joint_{joint_idx}'\n",
    "        )\n",
    "    )\n",
    "\n",
    "q2 = 1.0*q0.copy()\n",
    "\n",
    "def handle_slider_change_viz(change, idx):\n",
    "    idch = coords[idx]\n",
    "    q2[idch] = change['new']\n",
    "    print(q2[coords[idx]])\n",
    "    showres_viz(q2)\n",
    "    \n",
    "idx = 0\n",
    "for s in sliders2:\n",
    "    s.observe(partial(handle_slider_change_viz, idx = idx), names='value')\n",
    "    idx+=1\n",
    "\n",
    "for s in sliders2:\n",
    "    display(s)\n",
    "    #-0.87237632  1.21614163 -1.68963116"
   ]
  },
  {
   "cell_type": "code",
   "execution_count": null,
   "metadata": {},
   "outputs": [],
   "source": [
    "coords"
   ]
  },
  {
   "cell_type": "code",
   "execution_count": null,
   "metadata": {},
   "outputs": [],
   "source": [
    "for i1, p1 in enumerate(poi[1:]):\n",
    "    for i2, p2 in enumerate(poi[1:]):\n",
    "        if i1 !=i2:\n",
    "            dspp.solve(p1, p2, refine_path=True)"
   ]
  },
  {
   "cell_type": "code",
   "execution_count": null,
   "metadata": {},
   "outputs": [],
   "source": [
    "with open(exp_name + 'dspp.pkl', 'wb') as f:\n",
    "    pickle.dump({'dspp': dspp}, f)"
   ]
  },
  {
   "cell_type": "code",
   "execution_count": null,
   "metadata": {},
   "outputs": [],
   "source": [
    "dspppath = \"logs/5DOf_ur_20230619092515_1_1000_0.050_0.250dspp.pkl\""
   ]
  },
  {
   "cell_type": "code",
   "execution_count": null,
   "metadata": {},
   "outputs": [],
   "source": [
    "from gcs.bezier import BezierGCS"
   ]
  },
  {
   "cell_type": "code",
   "execution_count": null,
   "metadata": {},
   "outputs": [],
   "source": [
    "convex_relaxation = True\n",
    "b_gcs = BezierGCS(regions, order=5, continuity=2)\n",
    "b_gcs.addTimeCost(1)\n",
    "b_gcs.addPathLengthCost(1)\n",
    "b_gcs.setSolver(MosekSolver())\n",
    "\n",
    "def solve_path(start, end):\n",
    "    b_gcs.addSourceTarget(start, end)\n",
    "    bezier_traj = b_gcs.SolvePath(convex_relaxation)[0]\n",
    "\n",
    "    samples = np.linspace(bezier_traj.start_time(), bezier_traj.end_time(), 200)\n",
    "    values = np.squeeze([bezier_traj.value(s) for s in samples])\n",
    "    return values"
   ]
  },
  {
   "cell_type": "code",
   "execution_count": null,
   "metadata": {},
   "outputs": [],
   "source": [
    "import time\n",
    "\n",
    "\n",
    "start = poi[1+np.random.choice(7)]\n",
    "for _ in range(50):\n",
    "    #nxt = vs.sample_in_regions() #\n",
    "    while True:\n",
    "        nxt = poi[1+np.random.choice(7)]\n",
    "        plot_endeff_pose(nxt, str(0))\n",
    "        if nxt[0] != start[0]:\n",
    "            break\n",
    "    #wp, dist = dspp.solve(start, nxt, refine_path=True)#dijkstra_spp(start, nxt, node_intersections, base_ad_mat, vs.regions, point_conversion, optimize= True)\n",
    "    dense_waypoints = solve_path(start, nxt)\n",
    "    dist =1\n",
    "    if dist >0:\n",
    "        #dense_waypoints = densify_waypoints(wp)\n",
    "        plot_endeff_traj(dense_waypoints)\n",
    "        for qa in dense_waypoints:\n",
    "            #qa = #Ratfk.ComputeQValue(ta, np.zeros(3))\n",
    "            showres(qa)\n",
    "            #if col_func_handle(qa):\n",
    "            #print(col)\n",
    "            #break\n",
    "            time.sleep(0.01)\n",
    "        start = nxt\n",
    "        time.sleep(0.01)\n",
    "        ur.meshcat.Delete(\"/iris/points/traj/\")\n",
    "        \n",
    "    else:\n",
    "        nxt = poi[1+np.random.choice(7)]"
   ]
  },
  {
   "cell_type": "code",
   "execution_count": null,
   "metadata": {},
   "outputs": [],
   "source": []
  },
  {
   "cell_type": "code",
   "execution_count": null,
   "metadata": {},
   "outputs": [],
   "source": []
  }
 ],
 "metadata": {
  "kernelspec": {
   "display_name": "Python 3 (ipykernel)",
   "language": "python",
   "name": "python3"
  },
  "language_info": {
   "codemirror_mode": {
    "name": "ipython",
    "version": 3
   },
   "file_extension": ".py",
   "mimetype": "text/x-python",
   "name": "python",
   "nbconvert_exporter": "python",
   "pygments_lexer": "ipython3",
   "version": "3.10.12"
  }
 },
 "nbformat": 4,
 "nbformat_minor": 2
}
