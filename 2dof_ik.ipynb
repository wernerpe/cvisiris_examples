{
 "cells": [
  {
   "cell_type": "code",
   "execution_count": 1,
   "metadata": {},
   "outputs": [],
   "source": [
    "import numpy as np\n",
    "from functools import partial\n",
    "import ipywidgets as widgets\n",
    "from IPython.display import display"
   ]
  },
  {
   "cell_type": "code",
   "execution_count": null,
   "metadata": {},
   "outputs": [],
   "source": [
    "from pydrake.geometry.optimization import IrisOptions, HPolyhedron, Hyperellipsoid\n",
    "from pydrake.solvers import MosekSolver, CommonSolverOption, SolverOptions\n",
    "from pydrake.all import (PiecewisePolynomial, \n",
    "                         InverseKinematics, \n",
    "                         Sphere, \n",
    "                         Rgba, \n",
    "                         RigidTransform, \n",
    "                         RotationMatrix, \n",
    "                         Solve,\n",
    "                         MathematicalProgram,\n",
    "                         RollPitchYaw,\n",
    "                         Cylinder)\n",
    "import time\n",
    "import pydrake"
   ]
  }
 ],
 "metadata": {
  "kernelspec": {
   "display_name": "Python 3",
   "language": "python",
   "name": "python3"
  },
  "language_info": {
   "codemirror_mode": {
    "name": "ipython",
    "version": 3
   },
   "file_extension": ".py",
   "mimetype": "text/x-python",
   "name": "python",
   "nbconvert_exporter": "python",
   "pygments_lexer": "ipython3",
   "version": "3.8.10"
  }
 },
 "nbformat": 4,
 "nbformat_minor": 2
}
