{
 "cells": [
  {
   "cell_type": "code",
   "execution_count": 1,
   "metadata": {},
   "outputs": [],
   "source": [
    "import numpy as np\n",
    "from functools import partial\n",
    "import ipywidgets as widgets\n",
    "from IPython.display import display"
   ]
  },
  {
   "cell_type": "code",
   "execution_count": 2,
   "metadata": {},
   "outputs": [],
   "source": [
    "from pydrake.geometry.optimization import IrisOptions, HPolyhedron, Hyperellipsoid\n",
    "from pydrake.solvers import MosekSolver, CommonSolverOption, SolverOptions\n",
    "from pydrake.all import (PiecewisePolynomial, \n",
    "                         InverseKinematics, \n",
    "                         Sphere, \n",
    "                         Rgba, \n",
    "                         RigidTransform, \n",
    "                         RotationMatrix, \n",
    "                         Solve,\n",
    "                         MathematicalProgram,\n",
    "                         RollPitchYaw,\n",
    "                         Cylinder,\n",
    "                         VPolytope,\n",
    "                         Role)\n",
    "import time\n",
    "import pydrake"
   ]
  },
  {
   "cell_type": "code",
   "execution_count": 3,
   "metadata": {},
   "outputs": [
    {
     "name": "stderr",
     "output_type": "stream",
     "text": [
      "INFO:drake:Meshcat listening for connections at http://localhost:7000\n"
     ]
    },
    {
     "name": "stdout",
     "output_type": "stream",
     "text": [
      "http://localhost:7000\n"
     ]
    }
   ],
   "source": [
    "from environments import get_environment_builder\n",
    "\n",
    "plant_builder = get_environment_builder('2DOFFLIPPER')\n",
    "plant, scene_graph, diagram, diagram_context, plant_context, meshcat = plant_builder(usemeshcat=True)\n",
    "\n",
    "scene_graph_context = scene_graph.GetMyMutableContextFromRoot(\n",
    "    diagram_context)"
   ]
  },
  {
   "cell_type": "code",
   "execution_count": 4,
   "metadata": {},
   "outputs": [],
   "source": [
    "inspector = scene_graph.model_inspector()\n",
    "b = plant.GetBodyFrameIdIfExists(plant.GetBodyByName(\"roi_box\", plant.GetModelInstanceByName(\"roi_box\")).index(), )\n",
    "ids = inspector.GetGeometries(b, Role.kIllustration)\n",
    "vp = [VPolytope(scene_graph.get_query_output_port().Eval(scene_graph_context), id) for id in ids]\n",
    "roi = HPolyhedron(vp[0])"
   ]
  },
  {
   "cell_type": "markdown",
   "metadata": {},
   "source": []
  },
  {
   "cell_type": "code",
   "execution_count": 5,
   "metadata": {},
   "outputs": [
    {
     "name": "stderr",
     "output_type": "stream",
     "text": [
      "/home/peter/.local/lib/python3.8/site-packages/scipy/__init__.py:143: UserWarning: A NumPy version >=1.19.5 and <1.27.0 is required for this version of SciPy (detected version 1.17.4)\n",
      "  warnings.warn(f\"A NumPy version >={np_minversion} and <{np_maxversion}\"\n"
     ]
    }
   ],
   "source": [
    "from visibility_utils import (sample_in_union_of_polytopes, \n",
    "                              get_AABB_cvxhull,\n",
    "                              )\n",
    "from visualization_utils import plot_points\n",
    "tmin, tmax, aabb = get_AABB_cvxhull([roi])\n",
    "# pts = sample_in_union_of_polytopes(100, [roi], [tmin, tmax])\n",
    "# pts[:,0] = 0\n",
    "# plot_points(meshcat, pts, 'roitarg', size = 0.01)"
   ]
  },
  {
   "cell_type": "code",
   "execution_count": 6,
   "metadata": {},
   "outputs": [],
   "source": [
    "\n",
    "_offset_meshcat_2 = np.array([-1,-5, 1.5])\n",
    "def show_pose(qvis, plant, plant_context, diagram, diagram_context, endeff_frame, show_body_frame = None):\n",
    "    plant.SetPositions(plant_context, qvis)\n",
    "    diagram.ForcedPublish(diagram_context)\n",
    "    tf =plant.EvalBodyPoseInWorld(plant_context,  plant.GetBodyByName(endeff_frame))\n",
    "    transl = tf.translation()+tf.rotation()@np.array([0,0.0,0.05])\n",
    "    meshcat.SetObject(f\"/drake/q\",\n",
    "                                   Sphere(0.1),\n",
    "                                   Rgba(0,1,0,1))\n",
    "    p = np.zeros(3)\n",
    "    p[1] = qvis[0]\n",
    "    p[2] = qvis[1]\n",
    "    meshcat.SetTransform(f\"/drake/q\",RigidTransform(p+_offset_meshcat_2))\n",
    "    \n",
    "    \n",
    "    if show_body_frame is not None:\n",
    "        show_body_frame(RigidTransform(tf.rotation(), transl))\n",
    "\n",
    "def show_ik_target(pose, meshcat, name):\n",
    "    h = 0.2\n",
    "    if 'targ' in name:\n",
    "        colors = [Rgba(1,0.5,0, 0.5), Rgba(0.5,1,0, 0.5), Rgba(0.0,0.5,1, 0.5)]\n",
    "    else:\n",
    "        colors = [Rgba(1,0,0, 1), Rgba(0.,1,0, 1), Rgba(0.0,0.0,1, 1)]\n",
    "\n",
    "    rot = pose.rotation()@RotationMatrix.MakeYRotation(np.pi/2)\n",
    "    pos= pose.translation() +pose.rotation()@np.array([h/2, 0,0])\n",
    "    meshcat.SetObject(f\"/drake/ik_target{name}/triad1\",\n",
    "                                   Cylinder(0.01,0.2),\n",
    "                                   colors[0])\n",
    "    meshcat.SetTransform(f\"/drake/ik_target{name}/triad1\",RigidTransform(rot, pos))\n",
    "    rot = pose.rotation()@RotationMatrix.MakeXRotation(-np.pi/2)\n",
    "    pos= pose.translation() +pose.rotation()@np.array([0,h/2,0])\n",
    "\n",
    "    meshcat.SetObject(f\"/drake/ik_target{name}/triad2\",\n",
    "                                   Cylinder(0.01,0.2),\n",
    "                                   colors[1])\n",
    "    meshcat.SetTransform(f\"/drake/ik_target{name}/triad2\",RigidTransform(rot, pos))\n",
    "    pos= pose.translation().copy()\n",
    "    rot = pose.rotation()\n",
    "    pos = pos + rot@np.array([0,0,h/2])\n",
    "    meshcat.SetObject(f\"/drake/ik_target{name}/triad3\",\n",
    "                                   Cylinder(0.01,0.2),\n",
    "                                   colors[2])\n",
    "    meshcat.SetTransform(f\"/drake/ik_target{name}/triad3\",RigidTransform(rot, pos))\n",
    "show_body_frame = partial(show_ik_target, \n",
    "                          meshcat=meshcat, \n",
    "                          name='endeff_acutal', \n",
    "                          )\n",
    "showres = partial(show_pose, \n",
    "                  plant = plant, \n",
    "                  plant_context = plant_context, \n",
    "                  diagram = diagram, \n",
    "                  diagram_context = diagram_context,\n",
    "                  endeff_frame = 'iiwa_twoDOF_link_7',\n",
    "                  show_body_frame=show_body_frame)"
   ]
  },
  {
   "cell_type": "code",
   "execution_count": 7,
   "metadata": {},
   "outputs": [
    {
     "data": {
      "application/vnd.jupyter.widget-view+json": {
       "model_id": "166269b6687a4694b18092cb50e3d4bc",
       "version_major": 2,
       "version_minor": 0
      },
      "text/plain": [
       "FloatSlider(value=0.0, description='q0', max=2.0944, min=-2.0944)"
      ]
     },
     "metadata": {},
     "output_type": "display_data"
    },
    {
     "data": {
      "application/vnd.jupyter.widget-view+json": {
       "model_id": "9183145825d043c2a623adcf7628b9f3",
       "version_major": 2,
       "version_minor": 0
      },
      "text/plain": [
       "FloatSlider(value=0.0, description='q1', max=2.0944, min=-2.0944)"
      ]
     },
     "metadata": {},
     "output_type": "display_data"
    }
   ],
   "source": [
    "q_meshcat = np.zeros(plant.num_positions())\n",
    "\n",
    "sliders = []\n",
    "for i in range(plant.num_positions()):\n",
    "    q_low = plant.GetPositionLowerLimits()[i]\n",
    "    q_high = plant.GetPositionUpperLimits()[i]\n",
    "    sliders.append(widgets.FloatSlider(min=q_low, max=q_high, value=0, description=f\"q{i}\"))\n",
    "\n",
    "def handle_slider_change(change, idx):\n",
    "    q_meshcat[idx] = change['new']\n",
    "    showres(q_meshcat)\n",
    "    \n",
    "idx = 0\n",
    "for slider in sliders:\n",
    "    slider.observe(partial(handle_slider_change, idx = idx), names='value')\n",
    "    idx+=1\n",
    "\n",
    "for slider in sliders:\n",
    "    display(slider)"
   ]
  },
  {
   "cell_type": "code",
   "execution_count": 8,
   "metadata": {},
   "outputs": [
    {
     "data": {
      "application/vnd.jupyter.widget-view+json": {
       "model_id": "c1fbc34c42e945ebbae34ba3a545df9b",
       "version_major": 2,
       "version_minor": 0
      },
      "text/plain": [
       "FloatSlider(value=0.5, description='y', max=2.0, min=-1.0)"
      ]
     },
     "metadata": {},
     "output_type": "display_data"
    },
    {
     "data": {
      "application/vnd.jupyter.widget-view+json": {
       "model_id": "afed874bf96c49b6b8d689f5822924cd",
       "version_major": 2,
       "version_minor": 0
      },
      "text/plain": [
       "FloatSlider(value=0.5, description='z', max=2.0, min=-1.0)"
      ]
     },
     "metadata": {},
     "output_type": "display_data"
    }
   ],
   "source": [
    "#ik sliders \n",
    "from task_space_seeding_utils import solve_ik_problem, task_space_sampler_mp\n",
    "\n",
    "show_ik_targets = partial(show_ik_target, \n",
    "                          meshcat=meshcat, \n",
    "                          name='endeff_targ', \n",
    "                          )\n",
    "\n",
    "ik_solver = partial(solve_ik_problem, \n",
    "                    plant_ik = plant,\n",
    "                    plant_context_ik = plant_context,\n",
    "                    frames = [plant.GetFrameByName('iiwa_twoDOF_link_7')],\n",
    "                    offsets = [np.array([0,0.0,0.05])],\n",
    "                    collision_free=True,\n",
    "                    track_orientation=False)\n",
    "sliders_ik = []\n",
    "pos_min = np.array([-1,-1])\n",
    "pos_max = np.array([2.0,2])\n",
    "names = ['y', 'z']\n",
    "q0 = np.zeros(2)#np.array([ 0.23294, -0.2944 , -0.36706, -1.5944 , -0.16706,  0.     ,\n",
    "       # 1.64567])\n",
    "_ik_positions = np.zeros(2)\n",
    "\n",
    "for i in range(2):\n",
    "    sliders_ik.append(widgets.FloatSlider(min=pos_min[i], \n",
    "                                       max=pos_max[i], \n",
    "                                       value=0.5*(pos_max[i]-pos_min[i])+pos_min[i], \n",
    "                                       description=names[i]))\n",
    "q_ik = np.zeros(plant.num_positions())\n",
    "def handle_slider_change_ik(change, idx):\n",
    "    _ik_positions[idx] = change['new']\n",
    "    rot = RotationMatrix()\n",
    "    pos = np.zeros(3)\n",
    "    pos[1] = _ik_positions[0]\n",
    "    pos[2] = _ik_positions[1]\n",
    "    tf = RigidTransform(rot, pos)\n",
    "    show_ik_targets(tf)\n",
    "    res = ik_solver([tf], q0)\n",
    "    q_ik[:] = res\n",
    "    if res is not None:\n",
    "        showres(res)\n",
    "\n",
    "idx = 0\n",
    "for slider in sliders_ik:\n",
    "    slider.observe(partial(handle_slider_change_ik, idx = idx), names='value')\n",
    "    idx+=1\n",
    "\n",
    "for slider in sliders_ik:\n",
    "    display(slider)"
   ]
  },
  {
   "cell_type": "code",
   "execution_count": 9,
   "metadata": {},
   "outputs": [],
   "source": [
    "#sample in roi using IK\n",
    "starting_confs = [np.array([1.5,1.0]),\n",
    "                  np.array([-0.3,-1.0])]\n",
    " \n",
    "ts_samplers = []\n",
    "for q0 in starting_confs:    \n",
    "    plant.SetPositions(plant_context, q0)\n",
    "    plant.ForcedPublish(plant_context)\n",
    "    showres(q0)\n",
    "    t0 = plant.EvalBodyPoseInWorld(plant_context,  plant.GetBodyByName(\"iiwa_twoDOF_link_7\")).translation()  \n",
    "    sample_handle_ts = partial(task_space_sampler_mp,\n",
    "                            q0 = q0,\n",
    "                            t0 = t0,\n",
    "                            plant_builder = plant_builder,\n",
    "                            frame_names = ['iiwa_twoDOF_link_7'],\n",
    "                            offsets = [np.array([0,0.0,0.05])],\n",
    "                            cvx_hulls_of_ROI = [roi],\n",
    "                            ts_min = tmin,\n",
    "                            ts_max = tmax,\n",
    "                            collision_free = True,\n",
    "                            track_orientation = False,\n",
    "                            \n",
    "                            )\n",
    "    ts_samplers.append(sample_handle_ts)\n"
   ]
  },
  {
   "cell_type": "code",
   "execution_count": 10,
   "metadata": {},
   "outputs": [
    {
     "name": "stderr",
     "output_type": "stream",
     "text": [
      "  0%|          | 0/5 [00:00<?, ?it/s].99it/s]\n",
      "100%|██████████| 5/5 [00:00<00:00, 112.65it/s]\n",
      "100%|██████████| 5/5 [00:00<00:00, 93.27it/s]\n",
      "100%|██████████| 5/5 [00:00<00:00, 117.92it/s]\n",
      "100%|██████████| 5/5 [00:00<00:00, 70.41it/s]\n",
      "100%|██████████| 5/5 [00:00<00:00, 93.45it/s]\n",
      "100%|██████████| 5/5 [00:00<00:00, 73.77it/s]\n",
      "100%|██████████| 5/5 [00:00<00:00, 80.88it/s]\n",
      "100%|██████████| 5/5 [00:00<00:00, 60.23it/s]\n",
      "100%|██████████| 5/5 [00:00<00:00, 59.73it/s]\n",
      "100%|██████████| 5/5 [00:00<00:00, 58.15it/s]\n",
      "\n",
      "100%|██████████| 5/5 [00:00<00:00, 118.85it/s]\n",
      "100%|██████████| 5/5 [00:00<00:00, 56.20it/s]\n",
      "100%|██████████| 5/5 [00:00<00:00, 59.07it/s]\n",
      "100%|██████████| 5/5 [00:00<00:00, 82.30it/s]\n",
      "100%|██████████| 5/5 [00:00<00:00, 61.26it/s]\n",
      "100%|██████████| 5/5 [00:00<00:00, 37.81it/s]\n",
      "100%|██████████| 5/5 [00:00<00:00, 34.21it/s]\n",
      "100%|██████████| 5/5 [00:00<00:00, 33.44it/s]\n",
      "100%|██████████| 5/5 [00:00<00:00, 136.54it/s]\n",
      "100%|██████████| 5/5 [00:00<00:00, 129.33it/s]\n",
      "100%|██████████| 5/5 [00:00<00:00, 128.20it/s]\n",
      "\n",
      "100%|██████████| 5/5 [00:00<00:00, 70.59it/s]\n",
      "100%|██████████| 5/5 [00:00<00:00, 56.32it/s]\n",
      "100%|██████████| 5/5 [00:00<00:00, 58.16it/s]\n",
      " 40%|████      | 2/5 [00:00<00:00, 17.20it/s]\n",
      "100%|██████████| 5/5 [00:00<00:00, 34.75it/s]\n",
      "100%|██████████| 5/5 [00:00<00:00, 37.06it/s]\n",
      "100%|██████████| 5/5 [00:00<00:00, 38.37it/s]\n",
      "100%|██████████| 5/5 [00:00<00:00, 29.39it/s]\n",
      "100%|██████████| 5/5 [00:00<00:00, 27.78it/s]\n",
      "100%|██████████| 5/5 [00:00<00:00, 28.74it/s]\n",
      "100%|██████████| 5/5 [00:00<00:00, 34.90it/s]\n",
      "100%|██████████| 5/5 [00:00<00:00, 34.27it/s]\n",
      "100%|██████████| 5/5 [00:00<00:00, 34.13it/s]\n",
      "100%|██████████| 5/5 [00:00<00:00, 20.82it/s]\n",
      "100%|██████████| 5/5 [00:00<00:00, 18.50it/s]\n",
      "100%|██████████| 5/5 [00:00<00:00, 11.79it/s]\n"
     ]
    }
   ],
   "source": [
    "q_obj = []\n",
    "t_obj = []\n",
    "Npts = 100\n",
    "for sh in ts_samplers:\n",
    "    q, t, _, res = sh(Npts,[])\n",
    "    q_obj +=[q]\n",
    "    t_obj +=[t]\n",
    "\n",
    "q_obj = np.concatenate(tuple(q_obj), axis=0)\n",
    "t_obj = np.concatenate(tuple(t_obj), axis=0)\n",
    "\n",
    "for i,t in enumerate([t_obj]):\n",
    "    plot_points(meshcat, t, f\"iksol{i}\", size = 0.01)"
   ]
  },
  {
   "cell_type": "code",
   "execution_count": 11,
   "metadata": {},
   "outputs": [],
   "source": [
    "import pickle, os, mcubes\n",
    "from pydrake.all import SurfaceTriangle, TriangleSurfaceMesh\n",
    "from visibility_utils import get_col_func\n",
    "q_min = np.concatenate((np.array([-0]),plant.GetPositionLowerLimits()))\n",
    "q_max =  np.concatenate((np.array([-0]),plant.GetPositionUpperLimits()))\n",
    "col_func_handle_ = get_col_func(plant, plant_context)\n",
    "def check_collision_by_ik(q0,q1,q2, min_dist=1e-5):\n",
    "    q = np.array([q1,q2])\n",
    "    if np.any(q>q_max[1:]):\n",
    "        return 0\n",
    "    if np.any(q<q_min[1:]):\n",
    "        return 0\n",
    "    if np.any(q0!=0):\n",
    "        return 1\n",
    "    return 1-1.*col_func_handle_(q) \n",
    "\n",
    "def plot_collision_constraint(N = 50, q_min = q_min, q_max= q_max):\n",
    "    if f\"col_cons2d2{N}.pkl\" in os.listdir('tmp'):\n",
    "        with open(f\"tmp/col_cons2d{N}.pkl\", 'rb') as f:\n",
    "            d = pickle.load(f)\n",
    "            vertices = d['vertices']\n",
    "            triangles = d['triangles']\n",
    "    else:  \n",
    "        vertices, triangles = mcubes.marching_cubes_func(\n",
    "        tuple(\n",
    "                q_min-0.3), tuple(\n",
    "                q_max+0.3), 3, N, N, check_collision_by_ik, 0.5)\n",
    "        with open(f\"tmp/col_cons2d{N}.pkl\", 'wb') as f:\n",
    "                d = {'vertices': vertices, 'triangles': triangles}\n",
    "                pickle.dump(d, f)\n",
    "\n",
    "    tri_drake = [SurfaceTriangle(*t) for t in triangles]\n",
    "\n",
    "    vertices += _offset_meshcat_2.reshape(-1,3)\n",
    "    meshcat.SetObject(\"/collision_constraint/c1\",\n",
    "                                    TriangleSurfaceMesh(tri_drake, vertices),\n",
    "                                    Rgba(1, 0, 0, 1))\n",
    "    meshcat.SetObject(\"/collision_constraint/c2\",\n",
    "                                    TriangleSurfaceMesh(tri_drake, vertices),\n",
    "                                    Rgba(0.6, 0.0, 0, 1), wireframe = True)\n",
    "    \n",
    "plot_collision_constraint(60)"
   ]
  },
  {
   "cell_type": "code",
   "execution_count": 12,
   "metadata": {},
   "outputs": [],
   "source": [
    "for i,q in enumerate([q_obj]):\n",
    "    qext = np.concatenate((np.zeros((q.shape[0],1)),q), axis =1)\n",
    "    plot_points(meshcat, qext+_offset_meshcat_2, f\"ik _{i}\", size = 0.03)"
   ]
  },
  {
   "cell_type": "code",
   "execution_count": 13,
   "metadata": {},
   "outputs": [
    {
     "name": "stderr",
     "output_type": "stream",
     "text": [
      "INFO:drake:Allocating contexts to support 20 parallel queries given omp_num_threads 20 omp_max_threads 20 and omp_thread_limit 2147483647 OpenMP enabled in build? true\n"
     ]
    }
   ],
   "source": [
    "from pydrake.all import SceneGraphCollisionChecker\n",
    "from visibility_utils import vgraph\n",
    "from clique_covers import compute_greedy_clique_partition\n",
    "\n",
    "robot_instances = [plant.GetModelInstanceByName(\"iiwatwodof\")]\n",
    "checker = SceneGraphCollisionChecker(model = diagram,#.Clone(), \n",
    "                    robot_model_instances = robot_instances,\n",
    "                    distance_function_weights =  [1] * plant.num_positions(),\n",
    "                    #configuration_distance_function = _configuration_distance,\n",
    "                    edge_step_size = 0.125)\n",
    "vgraph_handle = partial(vgraph, checker = checker, parallelize = True) "
   ]
  },
  {
   "cell_type": "code",
   "execution_count": 14,
   "metadata": {},
   "outputs": [
    {
     "data": {
      "image/png": "[encoded data removed]",
      "text/plain": [
       "<Figure size 432x288 with 1 Axes>"
      ]
     },
     "metadata": {
      "needs_background": "light"
     },
     "output_type": "display_data"
    }
   ],
   "source": [
    "#cluster points\n",
    "from sklearn.cluster import KMeans\n",
    "from sklearn.metrics import silhouette_score\n",
    "import matplotlib.pyplot as plt\n",
    "cliques_obj = []\n",
    "num_clusters_obj = []\n",
    "cluster_sizes_obj = []\n",
    "for i, (q, t) in enumerate(zip([q_obj], [t_obj])):\n",
    "    q_regularized = (q - np.mean(q, axis = 0))/np.std(q, axis = 0)\n",
    "    sil = []\n",
    "    kmsol = []\n",
    "    min_k = 2#[5,5, 5]\n",
    "    max_k = 6#[20, 20, 100 ]\n",
    "    clus_vals = np.arange(min_k,max_k)\n",
    "    for k in clus_vals:\n",
    "        #print(k)\n",
    "        km = KMeans(n_clusters=k).fit(q_regularized)\n",
    "        kmsol.append(km)\n",
    "        labels = km.labels_\n",
    "        sil.append(silhouette_score(q_regularized, labels, metric='euclidean'))\n",
    "\n",
    "    fig = plt.figure()\n",
    "    plt.plot(clus_vals,sil)\n",
    "\n",
    "    best_clustering = kmsol[np.argmax(sil)]\n",
    "    num_clusters = clus_vals[np.argmax(sil)]\n",
    "    q_clus = [q[np.where(best_clustering.labels_ == l )[0], :] for l in range(num_clusters)]\n",
    "    t_clus = [t[np.where(best_clustering.labels_ == l )[0], :] for l in range(num_clusters)]\n",
    "    idx_clus = [np.where(best_clustering.labels_ == l )[0] for l in range(num_clusters)]\n",
    "    clus_sizes = [len(qc) for qc in q_clus]\n",
    "    cluster_sizes_obj.append(clus_sizes)\n",
    "    num_clusters_obj.append(len(q_clus))\n",
    "    vgraph_clus = [vgraph_handle(qc) for qc in q_clus]\n",
    "    cliques_cluster = []\n",
    "    for ad in vgraph_clus:\n",
    "        smin = 3\n",
    "        cliques = compute_greedy_clique_partition(ad.toarray(), min_cliuqe_size=smin)\n",
    "        cl = []\n",
    "        for c in cliques:\n",
    "            if len(c)>=smin:\n",
    "               cl.append(c)\n",
    "        cliques_cluster.append(cl)\n",
    "    cliques_clusters_glob = []\n",
    "    for clus_idx, cliques in enumerate(cliques_cluster):\n",
    "        for c in cliques:\n",
    "            if len(c):\n",
    "                cliques_clusters_glob.append(idx_clus[clus_idx][c])\n",
    "    cliques_obj.append(cliques_clusters_glob)"
   ]
  },
  {
   "cell_type": "code",
   "execution_count": 17,
   "metadata": {},
   "outputs": [
    {
     "ename": "NameError",
     "evalue": "name 'cluster_sizes_obj' is not defined",
     "output_type": "error",
     "traceback": [
      "\u001b[0;31m---------------------------------------------------------------------------\u001b[0m",
      "\u001b[0;31mNameError\u001b[0m                                 Traceback (most recent call last)",
      "\u001b[0;32m<ipython-input-17-b1973b8ec9dd>\u001b[0m in \u001b[0;36m<module>\u001b[0;34m\u001b[0m\n\u001b[1;32m      2\u001b[0m \u001b[0mcliques\u001b[0m \u001b[0;34m=\u001b[0m \u001b[0;36m0\u001b[0m\u001b[0;34m\u001b[0m\u001b[0;34m\u001b[0m\u001b[0m\n\u001b[1;32m      3\u001b[0m \u001b[0mclusters\u001b[0m \u001b[0;34m=\u001b[0m \u001b[0;36m0\u001b[0m\u001b[0;34m\u001b[0m\u001b[0;34m\u001b[0m\u001b[0m\n\u001b[0;32m----> 4\u001b[0;31m \u001b[0;32mfor\u001b[0m \u001b[0mi\u001b[0m \u001b[0;32min\u001b[0m \u001b[0mrange\u001b[0m\u001b[0;34m(\u001b[0m\u001b[0mlen\u001b[0m\u001b[0;34m(\u001b[0m\u001b[0mcluster_sizes_obj\u001b[0m\u001b[0;34m)\u001b[0m\u001b[0;34m)\u001b[0m\u001b[0;34m:\u001b[0m\u001b[0;34m\u001b[0m\u001b[0;34m\u001b[0m\u001b[0m\n\u001b[0m\u001b[1;32m      5\u001b[0m     \u001b[0mprint\u001b[0m\u001b[0;34m(\u001b[0m\u001b[0;34mf\"cliques: {len(cliques_obj[i])}\"\u001b[0m\u001b[0;34m)\u001b[0m\u001b[0;34m\u001b[0m\u001b[0;34m\u001b[0m\u001b[0m\n\u001b[1;32m      6\u001b[0m     \u001b[0mprint\u001b[0m\u001b[0;34m(\u001b[0m\u001b[0;34mf\"clusters: { num_clusters_obj[i]}\"\u001b[0m\u001b[0;34m)\u001b[0m\u001b[0;34m\u001b[0m\u001b[0;34m\u001b[0m\u001b[0m\n",
      "\u001b[0;31mNameError\u001b[0m: name 'cluster_sizes_obj' is not defined"
     ]
    }
   ],
   "source": [
    "#stats on clusters\n",
    "cliques = 0\n",
    "clusters = 0\n",
    "for i in range(len(cluster_sizes_obj)):\n",
    "    print(f\"cliques: {len(cliques_obj[i])}\")\n",
    "    print(f\"clusters: { num_clusters_obj[i]}\")\n",
    "    print(f\"mean cluster size: {np.mean(cluster_sizes_obj[i])}\")\n",
    "    print(f\"mean clique size: {np.mean([len(c) for c in cliques_obj[i]])}\")\n",
    "    print(f\"max clique size: {np.max([len(c) for c in cliques_obj[i]])}\")\n",
    "    print(f\"min clique size: {np.min([len(c) for c in cliques_obj[i]])}\")\n",
    "    print(f\"clique sizes: {[len(c) for c in cliques_obj[i]]}\")\n",
    "    cliques += len(cliques_obj[i])\n",
    "    clusters += num_clusters_obj[i]\n",
    "\n",
    "print(f\"num cliques: {cliques}\")\n",
    "print(f\"num clusters: {clusters}\")"
   ]
  },
  {
   "cell_type": "code",
   "execution_count": 18,
   "metadata": {},
   "outputs": [
    {
     "ename": "NameError",
     "evalue": "name 'cliques_obj' is not defined",
     "output_type": "error",
     "traceback": [
      "\u001b[0;31m---------------------------------------------------------------------------\u001b[0m",
      "\u001b[0;31mNameError\u001b[0m                                 Traceback (most recent call last)",
      "\u001b[0;32m<ipython-input-18-14395ab1e951>\u001b[0m in \u001b[0;36m<module>\u001b[0;34m\u001b[0m\n\u001b[1;32m      3\u001b[0m \u001b[0mcliques_tot\u001b[0m \u001b[0;34m=\u001b[0m \u001b[0;34m[\u001b[0m\u001b[0;34m]\u001b[0m\u001b[0;34m\u001b[0m\u001b[0;34m\u001b[0m\u001b[0m\n\u001b[1;32m      4\u001b[0m \u001b[0moffset\u001b[0m \u001b[0;34m=\u001b[0m \u001b[0;36m0\u001b[0m\u001b[0;34m\u001b[0m\u001b[0;34m\u001b[0m\u001b[0m\n\u001b[0;32m----> 5\u001b[0;31m \u001b[0;32mfor\u001b[0m \u001b[0mi\u001b[0m\u001b[0;34m,\u001b[0m \u001b[0mc\u001b[0m \u001b[0;32min\u001b[0m \u001b[0menumerate\u001b[0m\u001b[0;34m(\u001b[0m\u001b[0mcliques_obj\u001b[0m\u001b[0;34m)\u001b[0m\u001b[0;34m:\u001b[0m\u001b[0;34m\u001b[0m\u001b[0;34m\u001b[0m\u001b[0m\n\u001b[0m\u001b[1;32m      6\u001b[0m     \u001b[0;32mif\u001b[0m \u001b[0mi\u001b[0m\u001b[0;34m>\u001b[0m\u001b[0;36m0\u001b[0m\u001b[0;34m:\u001b[0m\u001b[0;34m\u001b[0m\u001b[0;34m\u001b[0m\u001b[0m\n\u001b[1;32m      7\u001b[0m         \u001b[0moffset\u001b[0m\u001b[0;34m+=\u001b[0m \u001b[0mlen\u001b[0m\u001b[0;34m(\u001b[0m\u001b[0mq_obj\u001b[0m\u001b[0;34m[\u001b[0m\u001b[0mi\u001b[0m\u001b[0;34m-\u001b[0m\u001b[0;36m1\u001b[0m\u001b[0;34m]\u001b[0m\u001b[0;34m)\u001b[0m\u001b[0;34m\u001b[0m\u001b[0;34m\u001b[0m\u001b[0m\n",
      "\u001b[0;31mNameError\u001b[0m: name 'cliques_obj' is not defined"
     ]
    }
   ],
   "source": [
    "t_tot = t_obj\n",
    "q_tot = q_obj \n",
    "cliques_tot = []\n",
    "offset = 0\n",
    "for i, c in enumerate(cliques_obj):\n",
    "    if i>0:\n",
    "        offset+= len(q_obj[i-1])\n",
    "    cliques_tot += [cl + offset for cl in c] "
   ]
  },
  {
   "cell_type": "code",
   "execution_count": 19,
   "metadata": {},
   "outputs": [],
   "source": [
    "#direct region generation\n",
    "ad_tot = vgraph_handle(q_tot)\n",
    "from clique_covers import (compute_greedy_clique_partition_convex_hull,\n",
    "                           compute_greedy_clique_cover_w_ellipsoidal_convex_hull_constraint)\n",
    "\n",
    "cliques_no_clus = compute_greedy_clique_partition(ad_tot.toarray(), min_cliuqe_size=3)\n",
    "# cliques_no_clus = compute_greedy_clique_cover_w_ellipsoidal_convex_hull_constraint(ad_tot.toarray(), \n",
    "#                                                               q_tot,\n",
    "#                                                               smin = 3,\n",
    "#                                                               r_scale=1,\n",
    "                                                              #)"
   ]
  },
  {
   "cell_type": "code",
   "execution_count": 20,
   "metadata": {},
   "outputs": [],
   "source": [
    "from visibility_utils import get_coverage_estimator, get_sample_cfree_handle, get_col_func\n",
    "from clique_covers import get_iris_metrics\n",
    "from region_generation import SNOPT_IRIS_ellipsoid_parallel\n",
    "\n",
    "q_min = plant.GetPositionLowerLimits()*1\n",
    "q_max =  plant.GetPositionUpperLimits()*1\n",
    "col_func_handle_ = get_col_func(plant, plant_context)\n",
    "sample_cfree = get_sample_cfree_handle(q_min,q_max, col_func_handle_)\n",
    "\n",
    "require_sample_point_is_contained = True\n",
    "iteration_limit = 1\n",
    "configuration_space_margin = 1.e-3\n",
    "termination_threshold = -1\n",
    "num_collision_infeasible_samples = 100\n",
    "relative_termination_threshold = 0.02\n",
    "estimate_coverage = get_coverage_estimator(sample_cfree, pts = 3000)\n",
    "\n",
    "snopt_iris_options = IrisOptions()\n",
    "snopt_iris_options.require_sample_point_is_contained = require_sample_point_is_contained\n",
    "snopt_iris_options.iteration_limit = iteration_limit\n",
    "snopt_iris_options.configuration_space_margin = configuration_space_margin\n",
    "#snopt_iris_options.max_faces_per_collision_pair = 60\n",
    "snopt_iris_options.termination_threshold = termination_threshold\n",
    "#snopt_iris_options.q_star = np.zeros(3)\n",
    "snopt_iris_options.num_snopt_seed_guesses = 200\n",
    "snopt_iris_options.num_collision_infeasible_samples = num_collision_infeasible_samples\n",
    "snopt_iris_options.relative_termination_threshold = relative_termination_threshold\n",
    "def col_hnd(pt):\n",
    "    return 1- 1.0*checker.CheckConfigCollisionFree(pt)\n",
    "\n",
    "iris_handle = partial(SNOPT_IRIS_ellipsoid_parallel,\n",
    "                        region_obstacles = [],\n",
    "                        logger = None, \n",
    "                        plant_builder = plant_builder,\n",
    "                        snoptiris_options = snopt_iris_options,\n",
    "                        estimate_coverage = estimate_coverage,\n",
    "                        coverage_threshold = 1)"
   ]
  },
  {
   "cell_type": "code",
   "execution_count": 21,
   "metadata": {},
   "outputs": [],
   "source": [
    "seed_points, metrics, _ = get_iris_metrics([q_tot[c] for c in cliques_tot], col_hnd)\n",
    "regions_red, succs_sp, is_full = iris_handle(seed_points, metrics, [])"
   ]
  },
  {
   "cell_type": "code",
   "execution_count": 22,
   "metadata": {},
   "outputs": [
    {
     "name": "stderr",
     "output_type": "stream",
     "text": [
      "INFO:drake:IrisInConfigurationSpace iteration 0\n",
      "INFO:drake:IrisInConfigurationSpace iteration 0\n",
      "INFO:drake:IrisInConfigurationSpace iteration 0\n",
      "INFO:drake:IrisInConfigurationSpace iteration 0\n",
      "INFO:drake:IrisInConfigurationSpace iteration 0\n",
      "INFO:drake:IrisInConfigurationSpace iteration 0\n"
     ]
    },
    {
     "name": "stdout",
     "output_type": "stream",
     "text": [
      "[SNOPT IRIS Worker]: Region:0 / 1\n",
      "[SNOPT IRIS Worker]: Region:0 / 1\n",
      "[SNOPT IRIS Worker]: Region:0 / 1\n",
      "[SNOPT IRIS Worker]: Region:0 / 1\n",
      "[SNOPT IRIS Worker]: Region:0 / 1\n",
      "[SNOPT IRIS Worker]: Region:0 / 1\n"
     ]
    }
   ],
   "source": [
    "seed_points, metrics, _ = get_iris_metrics([q_tot[c] for c in cliques_no_clus], col_hnd)\n",
    "regions_no_clus, succs_sp, is_full = iris_handle(seed_points, metrics, [])"
   ]
  },
  {
   "cell_type": "code",
   "execution_count": 23,
   "metadata": {},
   "outputs": [],
   "source": [
    "def make_regions_3d(regions):\n",
    "    regions_3d = []\n",
    "    for r in regions:\n",
    "        Aex = np.concatenate((np.zeros((r.A().shape[0],1)),r.A()), axis =1)\n",
    "        Abox = np.array([[1,0,0],[-1,0,0]])\n",
    "        bbox = np.array([0.3,0.3])\n",
    "        Atot = np.concatenate((Aex, Abox), axis=0)\n",
    "        btot = np.concatenate((r.b(), bbox), axis = 0)\n",
    "        regions_3d.append(HPolyhedron(Atot, btot))\n",
    "    return regions_3d\n",
    "\n",
    "\n",
    "from visualization_utils import plot_regions, generate_maximally_different_colors\n",
    "\n",
    "colors = generate_maximally_different_colors(len(regions_red)+2)[2:]\n",
    "plot_regions(meshcat, make_regions_3d(regions_red),region_suffix='/clus/', colors=colors ,offset=_offset_meshcat_2)\n",
    "\n",
    "colors = generate_maximally_different_colors(len(regions_no_clus)+2)[2:]\n",
    "plot_regions(meshcat, make_regions_3d(regions_no_clus),region_suffix='/noclus/', colors=colors ,offset=_offset_meshcat_2)\n",
    "for i, (c, cl) in enumerate(zip(colors, cliques_no_clus)):\n",
    "    clique = np.concatenate((np.zeros((len(cl),1)),q_tot[cl]), axis =1) + _offset_meshcat_2\n",
    "    plot_points(meshcat, clique, name = f\"cl{i}\", size= 0.05, color = Rgba(c[0], c[1], c[2], 0.6))\n",
    "\n"
   ]
  },
  {
   "cell_type": "code",
   "execution_count": 26,
   "metadata": {},
   "outputs": [
    {
     "data": {
      "text/plain": [
       "array([[-1.        , -3.62194481,  2.78062873],\n",
       "       [-1.        , -3.52404419,  2.82267947],\n",
       "       [-1.        , -3.49328946,  2.83476462],\n",
       "       [-1.        , -3.49951323,  2.85458661],\n",
       "       [-1.        , -3.67376153,  2.68088234],\n",
       "       [-1.        , -3.54211666,  2.71507875],\n",
       "       [-1.        , -3.5638019 ,  2.76894443],\n",
       "       [-1.        , -3.61263576,  2.73881249],\n",
       "       [-1.        , -3.57568133,  2.75584068]])"
      ]
     },
     "execution_count": 26,
     "metadata": {},
     "output_type": "execute_result"
    }
   ],
   "source": [
    "clique"
   ]
  },
  {
   "cell_type": "code",
   "execution_count": null,
   "metadata": {},
   "outputs": [],
   "source": [
    "\n",
    "generate_maximally_different_colors(3)"
   ]
  }
 ],
 "metadata": {
  "kernelspec": {
   "display_name": "Python 3",
   "language": "python",
   "name": "python3"
  },
  "language_info": {
   "codemirror_mode": {
    "name": "ipython",
    "version": 3
   },
   "file_extension": ".py",
   "mimetype": "text/x-python",
   "name": "python",
   "nbconvert_exporter": "python",
   "pygments_lexer": "ipython3",
   "version": "3.8.10"
  }
 },
 "nbformat": 4,
 "nbformat_minor": 2
}
