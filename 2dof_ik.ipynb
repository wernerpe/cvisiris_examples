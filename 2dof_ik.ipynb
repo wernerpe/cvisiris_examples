{
 "cells": [
  {
   "cell_type": "code",
   "execution_count": 1,
   "metadata": {},
   "outputs": [],
   "source": [
    "import numpy as np\n",
    "from functools import partial\n",
    "import ipywidgets as widgets\n",
    "from IPython.display import display"
   ]
  },
  {
   "cell_type": "code",
   "execution_count": 2,
   "metadata": {},
   "outputs": [],
   "source": [
    "from pydrake.geometry.optimization import IrisOptions, HPolyhedron, Hyperellipsoid\n",
    "from pydrake.solvers import MosekSolver, CommonSolverOption, SolverOptions\n",
    "from pydrake.all import (PiecewisePolynomial, \n",
    "                         InverseKinematics, \n",
    "                         Sphere, \n",
    "                         Rgba, \n",
    "                         RigidTransform, \n",
    "                         RotationMatrix, \n",
    "                         Solve,\n",
    "                         MathematicalProgram,\n",
    "                         RollPitchYaw,\n",
    "                         Cylinder,\n",
    "                         VPolytope,\n",
    "                         Role)\n",
    "import time\n",
    "import pydrake"
   ]
  },
  {
   "cell_type": "code",
   "execution_count": 3,
   "metadata": {},
   "outputs": [
    {
     "name": "stderr",
     "output_type": "stream",
     "text": [
      "INFO:drake:Meshcat listening for connections at http://localhost:7000\n"
     ]
    },
    {
     "name": "stdout",
     "output_type": "stream",
     "text": [
      "http://localhost:7000\n"
     ]
    }
   ],
   "source": [
    "from environments import get_environment_builder\n",
    "\n",
    "plant_builder = get_environment_builder('2DOFFLIPPER')\n",
    "plant, scene_graph, diagram, diagram_context, plant_context, meshcat = plant_builder(usemeshcat=True)\n",
    "\n",
    "scene_graph_context = scene_graph.GetMyMutableContextFromRoot(\n",
    "    diagram_context)"
   ]
  },
  {
   "cell_type": "code",
   "execution_count": 4,
   "metadata": {},
   "outputs": [],
   "source": [
    "inspector = scene_graph.model_inspector()\n",
    "b = plant.GetBodyFrameIdIfExists(plant.GetBodyByName(\"roi_box\", plant.GetModelInstanceByName(\"roi_box\")).index(), )\n",
    "ids = inspector.GetGeometries(b, Role.kIllustration)\n",
    "vp = [VPolytope(scene_graph.get_query_output_port().Eval(scene_graph_context), id) for id in ids]\n",
    "roi = HPolyhedron(vp[0])"
   ]
  },
  {
   "cell_type": "markdown",
   "metadata": {},
   "source": []
  },
  {
   "cell_type": "code",
   "execution_count": 5,
   "metadata": {},
   "outputs": [
    {
     "name": "stderr",
     "output_type": "stream",
     "text": [
      "/home/peter/.local/lib/python3.8/site-packages/scipy/__init__.py:143: UserWarning: A NumPy version >=1.19.5 and <1.27.0 is required for this version of SciPy (detected version 1.17.4)\n",
      "  warnings.warn(f\"A NumPy version >={np_minversion} and <{np_maxversion}\"\n"
     ]
    }
   ],
   "source": [
    "from visibility_utils import (sample_in_union_of_polytopes, \n",
    "                              get_AABB_cvxhull,\n",
    "                              )\n",
    "from visualization_utils import plot_points\n",
    "tmin, tmax, aabb = get_AABB_cvxhull([roi])\n",
    "# pts = sample_in_union_of_polytopes(100, [roi], [tmin, tmax])\n",
    "# pts[:,0] = 0\n",
    "# plot_points(meshcat, pts, 'roitarg', size = 0.01)"
   ]
  },
  {
   "cell_type": "code",
   "execution_count": 6,
   "metadata": {},
   "outputs": [],
   "source": [
    "\n",
    "_offset_meshcat_2 = np.array([-1,-5, 1.5])\n",
    "def show_pose(qvis, plant, plant_context, diagram, diagram_context, endeff_frame, show_body_frame = None):\n",
    "    plant.SetPositions(plant_context, qvis)\n",
    "    diagram.ForcedPublish(diagram_context)\n",
    "    tf =plant.EvalBodyPoseInWorld(plant_context,  plant.GetBodyByName(endeff_frame))\n",
    "    transl = tf.translation()+tf.rotation()@np.array([0,0.0,0.05])\n",
    "    meshcat.SetObject(f\"/drake/q\",\n",
    "                                   Sphere(0.1),\n",
    "                                   Rgba(0,1,0,1))\n",
    "    p = np.zeros(3)\n",
    "    p[1] = qvis[0]\n",
    "    p[2] = qvis[1]\n",
    "    meshcat.SetTransform(f\"/drake/q\",RigidTransform(p+_offset_meshcat_2))\n",
    "    \n",
    "    \n",
    "    if show_body_frame is not None:\n",
    "        show_body_frame(RigidTransform(tf.rotation(), transl))\n",
    "\n",
    "def show_ik_target(pose, meshcat, name):\n",
    "    h = 0.2\n",
    "    if 'targ' in name:\n",
    "        colors = [Rgba(1,0.5,0, 0.5), Rgba(0.5,1,0, 0.5), Rgba(0.0,0.5,1, 0.5)]\n",
    "    else:\n",
    "        colors = [Rgba(1,0,0, 1), Rgba(0.,1,0, 1), Rgba(0.0,0.0,1, 1)]\n",
    "\n",
    "    rot = pose.rotation()@RotationMatrix.MakeYRotation(np.pi/2)\n",
    "    pos= pose.translation() +pose.rotation()@np.array([h/2, 0,0])\n",
    "    meshcat.SetObject(f\"/drake/ik_target{name}/triad1\",\n",
    "                                   Cylinder(0.01,0.2),\n",
    "                                   colors[0])\n",
    "    meshcat.SetTransform(f\"/drake/ik_target{name}/triad1\",RigidTransform(rot, pos))\n",
    "    rot = pose.rotation()@RotationMatrix.MakeXRotation(-np.pi/2)\n",
    "    pos= pose.translation() +pose.rotation()@np.array([0,h/2,0])\n",
    "\n",
    "    meshcat.SetObject(f\"/drake/ik_target{name}/triad2\",\n",
    "                                   Cylinder(0.01,0.2),\n",
    "                                   colors[1])\n",
    "    meshcat.SetTransform(f\"/drake/ik_target{name}/triad2\",RigidTransform(rot, pos))\n",
    "    pos= pose.translation().copy()\n",
    "    rot = pose.rotation()\n",
    "    pos = pos + rot@np.array([0,0,h/2])\n",
    "    meshcat.SetObject(f\"/drake/ik_target{name}/triad3\",\n",
    "                                   Cylinder(0.01,0.2),\n",
    "                                   colors[2])\n",
    "    meshcat.SetTransform(f\"/drake/ik_target{name}/triad3\",RigidTransform(rot, pos))\n",
    "show_body_frame = partial(show_ik_target, \n",
    "                          meshcat=meshcat, \n",
    "                          name='endeff_acutal', \n",
    "                          )\n",
    "showres = partial(show_pose, \n",
    "                  plant = plant, \n",
    "                  plant_context = plant_context, \n",
    "                  diagram = diagram, \n",
    "                  diagram_context = diagram_context,\n",
    "                  endeff_frame = 'iiwa_twoDOF_link_7',\n",
    "                  show_body_frame=show_body_frame)"
   ]
  },
  {
   "cell_type": "code",
   "execution_count": 7,
   "metadata": {},
   "outputs": [
    {
     "data": {
      "application/vnd.jupyter.widget-view+json": {
       "model_id": "28a839e29f4c47f9b25a8aaf7ca2e86d",
       "version_major": 2,
       "version_minor": 0
      },
      "text/plain": [
       "FloatSlider(value=0.0, description='q0', max=2.0944, min=-2.0944)"
      ]
     },
     "metadata": {},
     "output_type": "display_data"
    },
    {
     "data": {
      "application/vnd.jupyter.widget-view+json": {
       "model_id": "5cebe654a2d84d9bb00c2a4a898531b1",
       "version_major": 2,
       "version_minor": 0
      },
      "text/plain": [
       "FloatSlider(value=0.0, description='q1', max=2.0944, min=-2.0944)"
      ]
     },
     "metadata": {},
     "output_type": "display_data"
    }
   ],
   "source": [
    "q_meshcat = np.zeros(plant.num_positions())\n",
    "\n",
    "sliders = []\n",
    "for i in range(plant.num_positions()):\n",
    "    q_low = plant.GetPositionLowerLimits()[i]\n",
    "    q_high = plant.GetPositionUpperLimits()[i]\n",
    "    sliders.append(widgets.FloatSlider(min=q_low, max=q_high, value=0, description=f\"q{i}\"))\n",
    "\n",
    "def handle_slider_change(change, idx):\n",
    "    q_meshcat[idx] = change['new']\n",
    "    showres(q_meshcat)\n",
    "    \n",
    "idx = 0\n",
    "for slider in sliders:\n",
    "    slider.observe(partial(handle_slider_change, idx = idx), names='value')\n",
    "    idx+=1\n",
    "\n",
    "for slider in sliders:\n",
    "    display(slider)"
   ]
  },
  {
   "cell_type": "code",
   "execution_count": 8,
   "metadata": {},
   "outputs": [
    {
     "data": {
      "application/vnd.jupyter.widget-view+json": {
       "model_id": "85eaa7b76eb1410aacf074a085cf7a3c",
       "version_major": 2,
       "version_minor": 0
      },
      "text/plain": [
       "FloatSlider(value=0.0, description='y', max=1.0, min=-1.0)"
      ]
     },
     "metadata": {},
     "output_type": "display_data"
    },
    {
     "data": {
      "application/vnd.jupyter.widget-view+json": {
       "model_id": "3a5ed1fd0ff14655955ff7f6e3512842",
       "version_major": 2,
       "version_minor": 0
      },
      "text/plain": [
       "FloatSlider(value=0.0, description='z', max=1.0, min=-1.0)"
      ]
     },
     "metadata": {},
     "output_type": "display_data"
    }
   ],
   "source": [
    "#ik sliders \n",
    "from task_space_seeding_utils import solve_ik_problem, task_space_sampler_mp\n",
    "\n",
    "show_ik_targets = partial(show_ik_target, \n",
    "                          meshcat=meshcat, \n",
    "                          name='endeff_targ', \n",
    "                          )\n",
    "\n",
    "ik_solver = partial(solve_ik_problem, \n",
    "                    plant_ik = plant,\n",
    "                    plant_context_ik = plant_context,\n",
    "                    frames = [plant.GetFrameByName('iiwa_twoDOF_link_7')],\n",
    "                    offsets = [np.array([0,0.0,0.05])],\n",
    "                    collision_free=False,\n",
    "                    track_orientation=False)\n",
    "sliders_ik = []\n",
    "pos_min = np.array([-1,-1])\n",
    "pos_max = np.array([1.0,1])\n",
    "names = ['y', 'z']\n",
    "q0 = np.zeros(2)#np.array([ 0.23294, -0.2944 , -0.36706, -1.5944 , -0.16706,  0.     ,\n",
    "       # 1.64567])\n",
    "_ik_positions = np.zeros(2)\n",
    "\n",
    "for i in range(2):\n",
    "    sliders_ik.append(widgets.FloatSlider(min=pos_min[i], \n",
    "                                       max=pos_max[i], \n",
    "                                       value=0.5*(pos_max[i]-pos_min[i])+pos_min[i], \n",
    "                                       description=names[i]))\n",
    "q_ik = np.zeros(plant.num_positions())\n",
    "def handle_slider_change_ik(change, idx):\n",
    "    _ik_positions[idx] = change['new']\n",
    "    rot = RotationMatrix()\n",
    "    pos = np.zeros(3)\n",
    "    pos[1] = _ik_positions[0]\n",
    "    pos[2] = _ik_positions[1]\n",
    "    tf = RigidTransform(rot, pos)\n",
    "    show_ik_targets(tf)\n",
    "    res = ik_solver([tf], q0)\n",
    "    q_ik[:] = res\n",
    "    if res is not None:\n",
    "        showres(res)\n",
    "\n",
    "idx = 0\n",
    "for slider in sliders_ik:\n",
    "    slider.observe(partial(handle_slider_change_ik, idx = idx), names='value')\n",
    "    idx+=1\n",
    "\n",
    "for slider in sliders_ik:\n",
    "    display(slider)"
   ]
  },
  {
   "cell_type": "code",
   "execution_count": 9,
   "metadata": {},
   "outputs": [],
   "source": [
    "#sample in roi using IK\n",
    "starting_confs = [np.array([1.5,1.0]),\n",
    "                  np.array([-0.3,-1.0])]\n",
    " \n",
    "ts_samplers = []\n",
    "for q0 in starting_confs:    \n",
    "    plant.SetPositions(plant_context, q0)\n",
    "    plant.ForcedPublish(plant_context)\n",
    "    showres(q0)\n",
    "    t0 = plant.EvalBodyPoseInWorld(plant_context,  plant.GetBodyByName(\"iiwa_twoDOF_link_7\")).translation()  \n",
    "    sample_handle_ts = partial(task_space_sampler_mp,\n",
    "                            q0 = q0,\n",
    "                            t0 = t0,\n",
    "                            plant_builder = plant_builder,\n",
    "                            frame_names = ['iiwa_twoDOF_link_7'],\n",
    "                            offsets = [np.array([0,0.0,0.05])],\n",
    "                            cvx_hulls_of_ROI = [roi],\n",
    "                            ts_min = tmin,\n",
    "                            ts_max = tmax,\n",
    "                            collision_free = True,\n",
    "                            track_orientation = False,\n",
    "                            \n",
    "                            )\n",
    "    ts_samplers.append(sample_handle_ts)\n"
   ]
  },
  {
   "cell_type": "code",
   "execution_count": 14,
   "metadata": {},
   "outputs": [
    {
     "name": "stderr",
     "output_type": "stream",
     "text": [
      "100%|██████████| 5/5 [00:00<00:00, 173.78it/s]\n",
      "  0%|          | 0/5 [00:00<?, ?it/s]2.36it/s]\n",
      "100%|██████████| 5/5 [00:00<00:00, 131.30it/s]\n",
      "100%|██████████| 5/5 [00:00<00:00, 144.91it/s]\n",
      "100%|██████████| 5/5 [00:00<00:00, 126.91it/s]\n",
      "\n",
      "100%|██████████| 5/5 [00:00<00:00, 119.92it/s]\n",
      "\n",
      "100%|██████████| 5/5 [00:00<00:00, 223.10it/s]\n",
      "\n",
      "\n",
      "  0%|          | 0/5 [00:00<?, ?it/s]\n",
      "100%|██████████| 5/5 [00:00<00:00, 91.39it/s]\n",
      "100%|██████████| 5/5 [00:00<00:00, 98.11it/s]\n",
      "100%|██████████| 5/5 [00:00<00:00, 169.29it/s]\n",
      "100%|██████████| 5/5 [00:00<00:00, 92.56it/s]\n",
      "100%|██████████| 5/5 [00:00<00:00, 88.65it/s]\n",
      "100%|██████████| 5/5 [00:00<00:00, 137.12it/s]\n",
      "100%|██████████| 5/5 [00:00<00:00, 159.74it/s]\n",
      "100%|██████████| 5/5 [00:00<00:00, 107.90it/s]\n",
      "100%|██████████| 5/5 [00:00<00:00, 194.55it/s]\n",
      "100%|██████████| 5/5 [00:00<00:00, 171.66it/s]\n",
      "\n",
      "100%|██████████| 5/5 [00:00<00:00, 184.10it/s]\n",
      "  0%|          | 0/5 [00:00<?, ?it/s]3.31it/s]\n",
      "100%|██████████| 5/5 [00:00<00:00, 100.37it/s]\n",
      "100%|██████████| 5/5 [00:00<00:00, 108.27it/s]\n",
      "100%|██████████| 5/5 [00:00<00:00, 101.10it/s]\n",
      "100%|██████████| 5/5 [00:00<00:00, 87.27it/s]\n",
      "100%|██████████| 5/5 [00:00<00:00, 124.21it/s]\n",
      "100%|██████████| 5/5 [00:00<00:00, 78.93it/s]\n",
      "100%|██████████| 5/5 [00:00<00:00, 94.08it/s]\n",
      "100%|██████████| 5/5 [00:00<00:00, 70.43it/s]\n",
      "100%|██████████| 5/5 [00:00<00:00, 90.24it/s]\n",
      "100%|██████████| 5/5 [00:00<00:00, 99.45it/s]\n",
      "\n",
      "100%|██████████| 5/5 [00:00<00:00, 220.16it/s]\n",
      "100%|██████████| 5/5 [00:00<00:00, 64.60it/s]\n",
      "100%|██████████| 5/5 [00:00<00:00, 50.57it/s]\n",
      "100%|██████████| 5/5 [00:00<00:00, 78.09it/s]\n"
     ]
    }
   ],
   "source": [
    "q_obj = []\n",
    "t_obj = []\n",
    "Npts = 100\n",
    "for sh in ts_samplers:\n",
    "    q, t, _, res = sh(Npts,[])\n",
    "    q_obj +=[q]\n",
    "    t_obj +=[t]\n",
    "\n",
    "for i,t in enumerate(t_obj):\n",
    "    plot_points(meshcat, t, f\"iksol{i}\", size = 0.01)"
   ]
  },
  {
   "cell_type": "code",
   "execution_count": 11,
   "metadata": {},
   "outputs": [],
   "source": [
    "# import time\n",
    "# q_tot = np.concatenate(tuple(q_obj))\n",
    "# for q in q_tot:\n",
    "#     showres(q)\n",
    "#     time.sleep(0.1)"
   ]
  },
  {
   "cell_type": "code",
   "execution_count": 12,
   "metadata": {},
   "outputs": [],
   "source": [
    "import pickle, os, mcubes\n",
    "from pydrake.all import SurfaceTriangle, TriangleSurfaceMesh\n",
    "from visibility_utils import get_col_func\n",
    "q_min = np.array([0, -1.8, -2.3])\n",
    "q_max = np.array([0, 2.3,  2.3])\n",
    "col_func_handle_ = get_col_func(plant, plant_context)\n",
    "def check_collision_by_ik(q0,q1,q2, min_dist=1e-5):\n",
    "    q = np.array([q1,q2])\n",
    "    if np.any(q>q_max[1:]):\n",
    "        return 0\n",
    "    if np.any(q<q_min[1:]):\n",
    "        return 0\n",
    "    return 1.*col_func_handle_(q) \n",
    "\n",
    "def plot_collision_constraint(N = 50, q_min = q_min, q_max= q_max):\n",
    "    if f\"col_cons2d2{N}.pkl\" in os.listdir('tmp'):\n",
    "        with open(f\"tmp/col_cons2d{N}.pkl\", 'rb') as f:\n",
    "            d = pickle.load(f)\n",
    "            vertices = d['vertices']\n",
    "            triangles = d['triangles']\n",
    "    else:  \n",
    "        vertices, triangles = mcubes.marching_cubes_func(\n",
    "        tuple(\n",
    "                q_min-0.5), tuple(\n",
    "                q_max+0.5), 2, N, N, check_collision_by_ik, 0.5)\n",
    "        with open(f\"tmp/col_cons{N}.pkl\", 'wb') as f:\n",
    "                d = {'vertices': vertices, 'triangles': triangles}\n",
    "                pickle.dump(d, f)\n",
    "\n",
    "    tri_drake = [SurfaceTriangle(*t) for t in triangles]\n",
    "\n",
    "    vertices += _offset_meshcat_2.reshape(-1,3)\n",
    "    meshcat.SetObject(\"/collision_constraint/c1\",\n",
    "                                    TriangleSurfaceMesh(tri_drake, vertices),\n",
    "                                    Rgba(0, 0.6, 0, 0.2))\n",
    "    meshcat.SetObject(\"/collision_constraint/c2\",\n",
    "                                    TriangleSurfaceMesh(tri_drake, vertices),\n",
    "                                    Rgba(0.6, 0.0, 0, 1), wireframe = True)\n",
    "    \n",
    "\n",
    "plot_collision_constraint(111)"
   ]
  },
  {
   "cell_type": "code",
   "execution_count": 13,
   "metadata": {},
   "outputs": [],
   "source": [
    "for i,q in enumerate(q_obj):\n",
    "    qext = np.concatenate((np.zeros((q.shape[0],1)),q), axis =1)\n",
    "    plot_points(meshcat, qext+_offset_meshcat_2, f\"ik _{i}\", size = 0.03)"
   ]
  },
  {
   "cell_type": "code",
   "execution_count": 35,
   "metadata": {},
   "outputs": [
    {
     "data": {
      "text/plain": [
       "(100, 2)"
      ]
     },
     "execution_count": 35,
     "metadata": {},
     "output_type": "execute_result"
    }
   ],
   "source": [
    "q.shape"
   ]
  },
  {
   "cell_type": "code",
   "execution_count": null,
   "metadata": {},
   "outputs": [],
   "source": []
  }
 ],
 "metadata": {
  "kernelspec": {
   "display_name": "Python 3",
   "language": "python",
   "name": "python3"
  },
  "language_info": {
   "codemirror_mode": {
    "name": "ipython",
    "version": 3
   },
   "file_extension": ".py",
   "mimetype": "text/x-python",
   "name": "python",
   "nbconvert_exporter": "python",
   "pygments_lexer": "ipython3",
   "version": "3.8.10"
  }
 },
 "nbformat": 4,
 "nbformat_minor": 2
}
