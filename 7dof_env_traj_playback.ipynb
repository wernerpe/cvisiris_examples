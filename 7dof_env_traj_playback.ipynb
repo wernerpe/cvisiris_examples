{
 "cells": [
  {
   "cell_type": "code",
   "execution_count": 1,
   "metadata": {},
   "outputs": [],
   "source": [
    "import numpy as np\n",
    "from functools import partial\n",
    "import ipywidgets as widgets\n",
    "from IPython.display import display"
   ]
  },
  {
   "cell_type": "code",
   "execution_count": 2,
   "metadata": {},
   "outputs": [],
   "source": [
    "#pydrake imports\n",
    "from pydrake.all import RationalForwardKinematics\n",
    "from pydrake.geometry.optimization import IrisOptions, HPolyhedron, Hyperellipsoid\n",
    "from pydrake.solvers import MosekSolver, CommonSolverOption, SolverOptions\n",
    "from pydrake.all import PiecewisePolynomial, InverseKinematics, Sphere, Rgba, RigidTransform, RotationMatrix, IrisInConfigurationSpace\n",
    "import time\n",
    "import pydrake\n",
    "from pydrake.all import (SceneGraphCollisionChecker, \n",
    "                         StartMeshcat, \n",
    "                         RobotDiagramBuilder,\n",
    "                         ProcessModelDirectives,\n",
    "                         LoadModelDirectives,\n",
    "                         MeshcatVisualizer,\n",
    "                        DiagramBuilder,\n",
    "                         MultibodyPlant,\n",
    "                         AddMultibodyPlantSceneGraph,\n",
    "                         PiecewisePolynomial,\n",
    "                        Parser)\n",
    "from pydrake.all import GeometrySet, CollisionFilterDeclaration\n",
    "from scipy.special import comb\n",
    "import matplotlib.pyplot as plt\n",
    "import pydrake.multibody.rational as rational_forward_kinematics\n",
    "from pydrake.all import RationalForwardKinematics\n",
    "\n",
    "import time\n",
    "from pydrake.geometry.optimization_dev import CspaceFreePath\n",
    "from pydrake.all import Role, MeshcatVisualizerParams\n",
    "from pydrake.all import InverseDynamicsController, TrajectorySource,StateInterpolatorWithDiscreteDerivative\n"
   ]
  },
  {
   "cell_type": "code",
   "execution_count": 3,
   "metadata": {},
   "outputs": [],
   "source": [
    "from pydrake.examples import ManipulationStation\n"
   ]
  },
  {
   "cell_type": "code",
   "execution_count": 4,
   "metadata": {},
   "outputs": [
    {
     "name": "stderr",
     "output_type": "stream",
     "text": [
      "INFO:drake:Meshcat listening for connections at http://localhost:7000\n"
     ]
    }
   ],
   "source": [
    "meshcat = StartMeshcat()\n"
   ]
  },
  {
   "cell_type": "code",
   "execution_count": 5,
   "metadata": {},
   "outputs": [],
   "source": [
    "from pydrake.all import LeafSystem\n",
    "class ConvertSToQ(LeafSystem):\n",
    "    def __init__(self, q_star, Ratfk):\n",
    "        super().__init__()  \n",
    "        self.s_port = self.DeclareVectorInputPort(\"s\", q_star.shape[0])\n",
    "        self.DeclareVectorOutputPort(\"q\", q_star.shape[0], self.CalcOutput)\n",
    "        self.q_star = q_star\n",
    "        self.Ratfk = Ratfk\n",
    "        \n",
    "    def CalcOutput(self, context, output):\n",
    "        s = self.s_port.Eval(context)\n",
    "        q = self.Ratfk.ComputeQValue(s, self.q_star)\n",
    "        output.set_value(q)"
   ]
  },
  {
   "cell_type": "code",
   "execution_count": 6,
   "metadata": {},
   "outputs": [],
   "source": [
    "meshcat.Delete()\n",
    "builder = DiagramBuilder()\n",
    "iiwa_directive_file = \"7_dof_iiwa_directive.yaml\"\n",
    "shelf_directive_file = \"7_dof_iiwa_shelves_directive.yaml\"\n",
    "time_step = 0.002\n",
    "# Build one plant to model the world\n",
    "sim_plant, sim_scene_graph = AddMultibodyPlantSceneGraph(builder, time_step)\n",
    "sim_parser = Parser(sim_plant)\n",
    "iiwa_directive = LoadModelDirectives(iiwa_directive_file)\n",
    "shelf_directive = LoadModelDirectives(shelf_directive_file)\n",
    "models = []\n",
    "models += ProcessModelDirectives(iiwa_directive, sim_plant, sim_parser)\n",
    "models += ProcessModelDirectives(shelf_directive, sim_plant, sim_parser)\n",
    "## Add any other models you want the robot to manipulate here.\n",
    "sim_plant.Finalize()\n",
    "meshcat_params = MeshcatVisualizerParams()\n",
    "visualizer = MeshcatVisualizer.AddToBuilder(builder, sim_scene_graph, meshcat, meshcat_params)\n",
    "\n",
    "\n",
    "\n",
    "controller_plant = MultibodyPlant(time_step)\n",
    "ProcessModelDirectives(iiwa_directive, controller_plant, Parser(controller_plant))\n",
    "controller_plant.Finalize()\n",
    "Ratfk = RationalForwardKinematics(controller_plant)\n",
    "\n",
    "num_positions = controller_plant.num_positions()\n",
    "\n",
    "# Add an inverse dynamics controller which uses the controller_plant.\n",
    "inv_dynamics_controller = builder.AddSystem(\n",
    "    InverseDynamicsController(\n",
    "        controller_plant,\n",
    "        kp=[1000] * num_positions,\n",
    "        ki=[1] * num_positions,\n",
    "        kd=[20] * num_positions,\n",
    "        has_reference_acceleration=False,\n",
    "    )\n",
    ")\n",
    "\n",
    "inv_dynamics_controller.set_name(\"inv_dynamics_controller\")\n",
    "builder.Connect(\n",
    "    inv_dynamics_controller.get_output_port_control(),\n",
    "    sim_plant.get_actuation_input_port(),\n",
    ")\n",
    "\n",
    "iiwa = sim_plant.GetModelInstanceByName(\"iiwa\")\n",
    "builder.Connect(\n",
    "    sim_plant.get_state_output_port(iiwa), \n",
    "    inv_dynamics_controller.get_input_port_estimated_state()\n",
    ")\n",
    "\n",
    "desired_state_from_position = builder.AddSystem(\n",
    "    StateInterpolatorWithDiscreteDerivative(\n",
    "        controller_plant.num_positions(),\n",
    "        time_step,\n",
    "        suppress_initial_transient=True,\n",
    "    )\n",
    ")\n",
    "\n",
    "builder.Connect(\n",
    "    desired_state_from_position.get_output_port(),\n",
    "    inv_dynamics_controller.get_input_port_desired_state(),\n",
    ")\n",
    "\n",
    "s_to_q = builder.AddSystem(ConvertSToQ(np.zeros(controller_plant.num_positions()), RationalForwardKinematics(controller_plant)))\n",
    "s_trajectory_source = builder.AddSystem(\n",
    "    TrajectorySource(PiecewisePolynomial(np.zeros(controller_plant.num_positions())))\n",
    ")\n",
    "builder.Connect(s_trajectory_source.get_output_port(),\n",
    "               s_to_q.get_input_port())\n",
    "builder.Connect(s_to_q.get_output_port(),\n",
    "               desired_state_from_position.get_input_port())\n",
    "\n",
    "diagram = builder.Build()\n",
    "diagram_context = diagram.CreateDefaultContext()\n",
    "sim_plant_context = sim_plant.GetMyContextFromRoot(diagram_context)\n",
    "sim_scene_graph_context = sim_scene_graph.GetMyContextFromRoot(diagram_context)\n",
    "\n",
    "\n",
    "meshcat.SetProperty(\"/Axes\", \"visible\", False)\n",
    "meshcat.SetProperty(\"/Grid\", \"visible\", False)\n",
    "meshcat.SetProperty(\"/Background\", \"visible\", False)\n",
    "meshcat.SetCameraPose(\n",
    "    camera_in_world = np.array([1.5,1.75,1.5]),\n",
    "    target_in_world = np.array([0,0,0])\n",
    ")\n",
    "\n",
    "diagram.ForcedPublish(diagram_context)\n",
    "\n",
    "q_star = np.zeros(controller_plant.num_positions())"
   ]
  },
  {
   "cell_type": "code",
   "execution_count": 7,
   "metadata": {},
   "outputs": [],
   "source": [
    "from scipy.interpolate import CubicSpline\n",
    "waypoints_q =  np.array([[-2.06706, -0.3944 ,  1.43294,  0.9056 ,  0.53294, -0.8944 ,\n",
    "        0.74567],\n",
    "[-2.26706, -0.3944 ,  1.43294,  0.9056 ,  0.73294, -0.9944 ,\n",
    "        1.04567],\n",
    "[-2.96706, -0.344 ,  2.83294,  0.9056 ,  0.73294, -0.9944 ,\n",
    "        1.04567],\n",
    "[-1.06706,  0.1056 ,  2.43294,  0.9056 ,  0.73294,  0.2056 ,\n",
    "        1.04567],\n",
    "[-1.06706,  0.1056 ,  2.43294,  1.1056 ,  1.73294,  0.2056 ,\n",
    "        0.0567],\n",
    "[-1.56706,  0.1056 ,  2.43294,  1.2056 ,  1.73294,  0.8056 ,\n",
    "       -0.25433]])\n",
    "\n",
    "# waypoints_q[1,:]=np.array([\n",
    "#     -2.16706, -0.3944 ,  1.43294,  0.9056 ,  0.73294, -1.0944, 1.04567\n",
    "# ])\n",
    "\n",
    "t = np.linspace(0, 1, waypoints_q.shape[0])\n",
    "coord_splines = [CubicSpline(t,waypoints_q[:,i]) for i in range(7)]\n",
    "t_refined = np.linspace(0,1,30)\n",
    "waypoints_q_refined = [[c(t) for c in coord_splines]for t in t_refined] \n",
    "\n",
    "\n",
    "\n",
    "waypoints_s = np.array([Ratfk.ComputeSValue(w, np.zeros(7)) for w in waypoints_q_refined])\n",
    "\n",
    "\n",
    "waypoints_q_col = waypoints_q.copy()\n",
    "\n",
    "waypoints_q_col[1,:]=np.array([-2.22706, -0.3944 ,  1.43294,  0.9056 ,  0.73294, -0.9944 ,\n",
    "        1.04567])\n",
    "# waypoints_q_col[1,:]=np.array([\n",
    "#     -2.06706, -0.3944 ,  1.33294,  0.9056 ,  0.73294, -0.5944 ,  0.54567\n",
    "# ])\n",
    "# waypoints_q_col[2,:]=np.array([\n",
    "#     -2.06706, -0.3944 ,  1.33294,  0.9056 ,  0.73294, -0.5944 ,\n",
    "#         0.54567\n",
    "# ])\n",
    "\n",
    "t = np.linspace(0, 1, waypoints_q_col.shape[0])\n",
    "coord_splines = [CubicSpline(t,waypoints_q_col[:,i]) for i in range(7)]\n",
    "t_refined = np.linspace(0,1,30)\n",
    "waypoints_q_col_refined = [[c(t) for c in coord_splines]for t in t_refined] \n",
    "\n",
    "t = np.linspace(0, 1, waypoints_q_col.shape[0])\n",
    "coord_splines = [CubicSpline(t,waypoints_q_col[:,i]) for i in range(7)]\n",
    "t_refined = np.linspace(0,1,30)\n",
    "waypoints_q_col_refined = [[c(t) for c in coord_splines]for t in t_refined] \n",
    "\n",
    "\n",
    "waypoints_s_col = np.array([Ratfk.ComputeSValue(w, np.zeros(7)) for w in waypoints_q_col_refined])\n",
    "#np.array([-2.0706, -0.3244 ,  1.43294,  0.8756 ,  0.73294, -0.9944 ,\n",
    "#      1.04567])\n",
    "\n",
    "breaks = np.linspace(0, 1, waypoints_s.shape[0])\n",
    "samples = waypoints_s\n",
    "\n",
    "traj_time = 3\n",
    "\n",
    "# traj_safe = PiecewisePolynomial.CubicShapePreserving(breaks,samples.T)\n",
    "# polys_safe = np.array([traj_safe.getPolynomialMatrix(i) for i in breaks[:-1]]).squeeze().T\n",
    "traj_safe = PiecewisePolynomial.CubicWithContinuousSecondDerivatives(breaks,samples.T)\n",
    "traj_safe.ScaleTime(traj_time)\n",
    "polys_safe = np.array([traj_safe.getPolynomialMatrix(i) for i in range(len(breaks)-1)]).squeeze().T\n",
    "\n",
    "\n",
    "breaks = np.linspace(0, 1, waypoints_s_col.shape[0])\n",
    "samples = waypoints_s_col\n",
    "# traj_unsafe = PiecewisePolynomial.CubicShapePreserving(breaks,samples.T)\n",
    "# polys_unsafe = np.array([traj_safe.getPolynomialMatrix(i) for i in breaks[:-1]]).squeeze().T\n",
    "traj_unsafe = PiecewisePolynomial.CubicWithContinuousSecondDerivatives(breaks,samples.T)\n",
    "traj_unsafe.ScaleTime(traj_time)\n",
    "\n",
    "polys_unsafe = np.array([traj_safe.getPolynomialMatrix(i) for i in range(len(breaks)-1)]).squeeze().T\n",
    "\n"
   ]
  },
  {
   "cell_type": "code",
   "execution_count": 8,
   "metadata": {},
   "outputs": [],
   "source": [
    "# q = np.zeros(plant.num_positions())\n",
    "# ik = InverseKinematics(plant, plant_context)\n",
    "# collision_constraint = ik.AddMinimumDistanceConstraint(0.001, 0.001)\n",
    "# def eval_cons(q, c, tol):\n",
    "#     return 1-1*float(c.evaluator().CheckSatisfied(q, tol))\n",
    "# diagram_col_context = diagram.CreateDefaultContext()\n",
    "# plant_col_context = diagram.GetMutableSubsystemContext(sim_plant,\n",
    "#                                                        diagram_col_context)\n",
    "# scene_graph_col_context = diagram.GetMutableSubsystemContext(\n",
    "#         scene_graph, diagram_col_context\n",
    "#     )\n",
    "query_port = sim_scene_graph.get_query_output_port()\n",
    "\n",
    "def SetSimPlantIiwaPosition(q, context = sim_plant_context):\n",
    "    cur_q = sim_plant.GetPositions(context)\n",
    "    cur_q[:controller_plant.num_positions()] = q\n",
    "    sim_plant.SetPositions(context, cur_q)\n",
    "    \n",
    "def SetSimPlantIiwaPositionS(s, context = sim_plant_context):\n",
    "    s = np.array(s)\n",
    "    q = Ratfk.ComputeQValue(s, q_star)\n",
    "    SetSimPlantIiwaPosition(q, context)\n",
    "    \n",
    "def check_collision_q_by_query(q):\n",
    "    SetSimPlantIiwaPosition(q)\n",
    "    query_object = query_port.Eval(sim_scene_graph_context)\n",
    "    return 1 if query_object.HasCollisions() else 0\n",
    "    \n",
    "\n",
    "def check_collision_s_by_query(s):\n",
    "    s = np.array(s)\n",
    "    q = Ratfk.ComputeQValue(s, q_star)\n",
    "    return check_collision_q_by_query(q)\n",
    "\n",
    "\n",
    "    \n",
    "col_func_handle = check_collision_q_by_query#partial(eval_cons, c=collision_constraint, tol=0.01)\n",
    "# col_func_handle = partial(eval_cons, c=collision_constraint, tol=0.01)\n",
    "\n",
    "col_shunk_col =  Rgba(0.8, 0.0, 0, 0.5)    \n",
    "col_shunk_free =  Rgba(0.0, 0.8, 0.5, 0.5)   \n",
    "\n",
    "\n",
    "def showres_s(s_vis):\n",
    "    showres(Ratfk.ComputeQValue(s_vis, np.zeros(7)))\n",
    "\n",
    "def showres(qvis):\n",
    "    SetSimPlantIiwaPosition(qvis)\n",
    "    \n",
    "    col = col_func_handle(qvis)\n",
    "#     shunk = sim_plant.get_body(pydrake.multibody.tree.BodyIndex(9))\n",
    "#     shunk = sim_plant.GetBodyByName(\"body\")\n",
    "#     tf_tot = shunk.EvalPoseInWorld(sim_plant_context)\n",
    "#     tf = tf_tot.translation()\n",
    "    \n",
    "#    # tf_tot= plant.EvalBodyPoseInWorld(plant_context, plant.get_body(pydrake.multibody.tree.BodyIndex(7)))\n",
    "#     #tf = tf_tot.translation() - tf_tot.GetAsMatrix4()[:3,:3][:,1] *0.15\n",
    "#     if col:\n",
    "#         meshcat.SetObject(f\"/drake/visualizer/shunk\",\n",
    "#                                    Sphere(0.05),\n",
    "#                                    col_shunk_col)\n",
    "#     else:\n",
    "#         meshcat.SetObject(f\"/drake/visualizer/shunk\",\n",
    "#                                    Sphere(0.05),\n",
    "#                                    col_shunk_free)\n",
    "#     meshcat.SetTransform(f\"/drake/visualizer/shunk\",\n",
    "#                                    RigidTransform(RotationMatrix(),\n",
    "#                                                   tf))\n",
    "    \n",
    "    diagram.ForcedPublish(diagram_context)\n",
    "\n"
   ]
  },
  {
   "cell_type": "code",
   "execution_count": 9,
   "metadata": {},
   "outputs": [],
   "source": [
    "import C_Iris_Examples.visualization_utils as vis_utils\n",
    "q_star = np.zeros(controller_plant.num_positions())\n",
    "vis_bundle = vis_utils.VisualizationBundle(\n",
    "    diagram, diagram_context, sim_plant, sim_plant_context,\n",
    "    Ratfk, meshcat, q_star\n",
    ")\n",
    "pos_set_fun_s = SetSimPlantIiwaPositionS\n",
    "\n",
    "num_points = int(1e4)\n",
    "safe_color=Rgba(0,1,0,1)\n",
    "vis_utils.visualize_s_space_trajectory(\n",
    "    vis_bundle, traj_safe,\n",
    "    sim_plant.GetBodyByName(\"body\"), #shunk,\n",
    "    \"/safe_traj\",\n",
    "    vis_utils.TrajectoryVisualizationOptions(start_size = 0.001,\n",
    "                                            end_size=0.001,\n",
    "                                            start_color=safe_color,\n",
    "                                            end_color=safe_color,\n",
    "                                            path_color=safe_color,\n",
    "                                            num_points = num_points),\n",
    "    pos_set_fun_s\n",
    ")\n",
    "\n",
    "unsafe_color = Rgba(1,0,0,1)\n",
    "vis_utils.visualize_s_space_trajectory(\n",
    "    vis_bundle, traj_unsafe,\n",
    "    sim_plant.GetBodyByName(\"body\"), #shunk,\n",
    "    \"/unsafe_traj\",\n",
    "    vis_utils.TrajectoryVisualizationOptions(start_size = 0.001,\n",
    "                                            end_size=0.001,\n",
    "                                            start_color=unsafe_color,\n",
    "                                            end_color=unsafe_color,\n",
    "                                            path_color=unsafe_color,\n",
    "                                            num_points = num_points),\n",
    "    pos_set_fun_s\n",
    ")"
   ]
  },
  {
   "cell_type": "code",
   "execution_count": 10,
   "metadata": {},
   "outputs": [],
   "source": [
    "# for sa in waypoints_s_col_refined:\n",
    "#     #qa = #Ratfk.ComputeQValue(ta, np.zeros(3))\n",
    "#     showres_s(sa)\n",
    "#     if col_func_handle(Ratfk.ComputeQValue(sa, np.zeros(7))):\n",
    "#         print('col')\n",
    "# #         break\n",
    "#     time.sleep(0.01)"
   ]
  },
  {
   "cell_type": "markdown",
   "metadata": {},
   "source": [
    "## Now simulate the trajectory"
   ]
  },
  {
   "cell_type": "code",
   "execution_count": 11,
   "metadata": {},
   "outputs": [],
   "source": [
    "from pydrake.all import Simulator\n",
    "def simulate_s_traj(s_traj, end_time = None):\n",
    "    s_trajectory_source.UpdateTrajectory(s_traj)\n",
    "    simulator = Simulator(diagram)\n",
    "    simulator.Initialize()\n",
    "    simulator_context = simulator.get_mutable_context()\n",
    "    plant_context = sim_plant.GetMyContextFromRoot(simulator_context)\n",
    "#     print(sim_plant.GetPositions(plant_context))\n",
    "    SetSimPlantIiwaPositionS(s_traj.value(0).flatten(),\n",
    "                            context = plant_context)\n",
    "#     print(sim_plant.GetPositions(plant_context))\n",
    "\n",
    "#     simulator.set_target_realtime_rate(1.)\n",
    "    meshcat.StartRecording()\n",
    "    if end_time is None:\n",
    "        end_time = s_traj.end_time()\n",
    "    simulator.AdvanceTo(end_time)\n",
    "    meshcat.PublishRecording()\n",
    "#     print(sim_plant.GetPositions(plant_context))\n"
   ]
  },
  {
   "cell_type": "code",
   "execution_count": 12,
   "metadata": {},
   "outputs": [],
   "source": [
    "simulate_s_traj(traj_safe, end_time =5)\n",
    "time.sleep(2)\n"
   ]
  },
  {
   "cell_type": "code",
   "execution_count": 13,
   "metadata": {},
   "outputs": [],
   "source": [
    "simulate_s_traj(traj_unsafe, end_time = 5)"
   ]
  },
  {
   "cell_type": "code",
   "execution_count": 13,
   "metadata": {},
   "outputs": [
    {
     "ename": "ValueError",
     "evalue": "",
     "output_type": "error",
     "traceback": [
      "\u001b[0;31m---------------------------------------------------------------------------\u001b[0m",
      "\u001b[0;31mValueError\u001b[0m                                Traceback (most recent call last)",
      "\u001b[0;32m/tmp/ipykernel_148857/1518464500.py\u001b[0m in \u001b[0;36m<module>\u001b[0;34m\u001b[0m\n\u001b[0;32m----> 1\u001b[0;31m \u001b[0;32mraise\u001b[0m \u001b[0mValueError\u001b[0m\u001b[0;34m(\u001b[0m\u001b[0;34m)\u001b[0m\u001b[0;34m\u001b[0m\u001b[0;34m\u001b[0m\u001b[0m\n\u001b[0m",
      "\u001b[0;31mValueError\u001b[0m: "
     ]
    }
   ],
   "source": [
    "raise ValueError()"
   ]
  },
  {
   "cell_type": "code",
   "execution_count": null,
   "metadata": {},
   "outputs": [],
   "source": [
    "# \n",
    "# plane_order = 2\n",
    "# max_degree = 3\n",
    "# t0 = time.time()\n",
    "# cspace_free_path = CspaceFreePath(\n",
    "#     plant,\n",
    "#     scene_graph,\n",
    "#     q_star,\n",
    "#     maximum_path_degree=max_degree,\n",
    "#     plane_order=plane_order,\n",
    "# )\n",
    "# t1 = time.time()\n",
    "# print(f\"Time to build collision checker {t1-t0}\")"
   ]
  },
  {
   "cell_type": "code",
   "execution_count": null,
   "metadata": {},
   "outputs": [],
   "source": [
    "len(cspace_free_path.separating_planes())"
   ]
  },
  {
   "cell_type": "code",
   "execution_count": null,
   "metadata": {},
   "outputs": [],
   "source": [
    "# for plane in cspace_free_path.separating_planes():\n",
    "#     pos_body_idx = plane.positive_side_geometry.body_index()\n",
    "#     neg_body_idx = plane.negative_side_geometry.body_index()\n",
    "#     pos_body_name = plant.get_body(pos_body_idx).name()\n",
    "#     neg_body_name = plant.get_body(neg_body_idx).name()\n",
    "#     print(pos_body_name, neg_body_name)\n",
    "print(len(cspace_free_path.separating_planes()))"
   ]
  },
  {
   "cell_type": "code",
   "execution_count": null,
   "metadata": {},
   "outputs": [],
   "source": [
    "cert_options = CspaceFreePath.FindSeparationCertificateGivenPathOptions()\n",
    "cert_options.terminate_segment_certification_at_failure = False\n",
    "cert_options.num_threads = -1\n",
    "cert_options.verbose = False\n",
    "cert_options.solver_id = MosekSolver.id()\n",
    "cert_options.solver_options = SolverOptions()\n",
    "cert_options.terminate_path_certification_at_failure = False"
   ]
  },
  {
   "cell_type": "code",
   "execution_count": null,
   "metadata": {},
   "outputs": [],
   "source": [
    "q = waypoints_q[1,:].copy()\n",
    "def handle_slider_change(change, idx):\n",
    "    q[idx] = change['new']\n",
    "    showres(q)    \n",
    "sliders = []\n",
    "for i in range(7):\n",
    "    q_low = sim_plant.GetPositionLowerLimits()[i]\n",
    "    q_high = sim_plant.GetPositionUpperLimits()[i]\n",
    "    sliders.append(widgets.FloatSlider(min=q_low, max=q_high, value=q[i], description=f\"q{i}\"))\n",
    "\n",
    "    \n",
    "scaler = 1 #np.array([0.8, 1., 0.8, 1, 0.8, 1, 0.8]) #do you even geometry bro?\n",
    "q_min = np.array(q_low)*scaler\n",
    "q_max = np.array(q_high)*scaler\n",
    "q_diff = q_max-q_min\n",
    "\n",
    "idx = 0\n",
    "for slider in sliders:\n",
    "    slider.observe(partial(handle_slider_change, idx = idx), names='value')\n",
    "    idx+=1\n",
    "\n",
    "display(sliders[0])\n",
    "for slider in sliders:\n",
    "    display(slider)"
   ]
  },
  {
   "cell_type": "code",
   "execution_count": null,
   "metadata": {},
   "outputs": [],
   "source": [
    "print(repr(\n",
    "    sim_plant.GetPositions(sim_plant_context)[:7]\n",
    "))"
   ]
  },
  {
   "cell_type": "code",
   "execution_count": null,
   "metadata": {},
   "outputs": [],
   "source": [
    "t0 = time.time()\n",
    "stats, res = cspace_free_path.FindSeparationCertificateGivenPath(polys,\n",
    "                                                                 set(),\n",
    "                                                                 cert_options)\n",
    "t1 = time.time()\n",
    "print(f\"Time to certify path {t1-t0}\")"
   ]
  },
  {
   "cell_type": "code",
   "execution_count": null,
   "metadata": {},
   "outputs": [],
   "source": [
    "for s in stats:\n",
    "    print(s.certified_safe())\n",
    "    "
   ]
  },
  {
   "cell_type": "code",
   "execution_count": null,
   "metadata": {},
   "outputs": [],
   "source": [
    "print(f\"Total safe solver time = {sum([s.total_time_to_solve_progs()/20 for s in stats])}\")"
   ]
  },
  {
   "cell_type": "code",
   "execution_count": null,
   "metadata": {},
   "outputs": [],
   "source": []
  },
  {
   "cell_type": "code",
   "execution_count": null,
   "metadata": {},
   "outputs": [],
   "source": [
    "t0 = time.time()\n",
    "stats, res = cspace_free_path.FindSeparationCertificateGivenPath(polys_unsafe,\n",
    "                                                                 set(),\n",
    "                                                                 cert_options)\n",
    "t1 = time.time()\n",
    "print(f\"Time to certify path {t1-t0}\")"
   ]
  },
  {
   "cell_type": "code",
   "execution_count": null,
   "metadata": {},
   "outputs": [],
   "source": [
    "for s in stats:\n",
    "    print(s.certified_safe())\n",
    "    "
   ]
  },
  {
   "cell_type": "code",
   "execution_count": null,
   "metadata": {},
   "outputs": [],
   "source": [
    "print(f\"Total unsafe solver time = {sum([s.total_time_to_solve_progs()/20 for s in stats])}\")"
   ]
  },
  {
   "cell_type": "code",
   "execution_count": null,
   "metadata": {},
   "outputs": [],
   "source": [
    "print(sum([s.total_time_to_solve_progs()/20 for s in stats]))"
   ]
  },
  {
   "cell_type": "code",
   "execution_count": null,
   "metadata": {},
   "outputs": [],
   "source": [
    "for s in stats:\n",
    "    print(s.total_time_to_certify())\n",
    "    print(s.total_time_to_solve_progs())\n",
    "    print(s.total_time_building_progs())\n",
    "    print()"
   ]
  },
  {
   "cell_type": "code",
   "execution_count": null,
   "metadata": {},
   "outputs": [],
   "source": [
    "print(stats[0].total_time_to_certify_pair[0])\n",
    "print(stats[0].time_to_build_prog)\n",
    "print(stats[0].time_to_solve_prog[0])"
   ]
  }
 ],
 "metadata": {
  "kernelspec": {
   "display_name": "Python 3 (ipykernel)",
   "language": "python",
   "name": "python3"
  },
  "language_info": {
   "codemirror_mode": {
    "name": "ipython",
    "version": 3
   },
   "file_extension": ".py",
   "mimetype": "text/x-python",
   "name": "python",
   "nbconvert_exporter": "python",
   "pygments_lexer": "ipython3",
   "version": "3.10.12"
  }
 },
 "nbformat": 4,
 "nbformat_minor": 2
}
