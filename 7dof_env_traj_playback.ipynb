{
 "cells": [
  {
   "cell_type": "code",
   "execution_count": 1,
   "metadata": {},
   "outputs": [],
   "source": [
    "import numpy as np\n",
    "from functools import partial\n",
    "import ipywidgets as widgets\n",
    "from IPython.display import display"
   ]
  },
  {
   "cell_type": "code",
   "execution_count": 2,
   "metadata": {},
   "outputs": [],
   "source": [
    "#pydrake imports\n",
    "from pydrake.all import RationalForwardKinematics\n",
    "from pydrake.geometry.optimization import IrisOptions, HPolyhedron, Hyperellipsoid\n",
    "from pydrake.solvers import MosekSolver, CommonSolverOption, SolverOptions\n",
    "from pydrake.all import PiecewisePolynomial, InverseKinematics, Sphere, Rgba, RigidTransform, RotationMatrix, IrisInConfigurationSpace\n",
    "import time\n",
    "import pydrake\n",
    "from pydrake.all import (SceneGraphCollisionChecker, \n",
    "                         StartMeshcat, \n",
    "                         RobotDiagramBuilder,\n",
    "                         ProcessModelDirectives,\n",
    "                         LoadModelDirectives,\n",
    "                         MeshcatVisualizer)\n",
    "from pydrake.all import GeometrySet, CollisionFilterDeclaration\n",
    "from scipy.special import comb\n",
    "import matplotlib.pyplot as plt\n"
   ]
  },
  {
   "cell_type": "code",
   "execution_count": 3,
   "metadata": {},
   "outputs": [
    {
     "name": "stderr",
     "output_type": "stream",
     "text": [
      "INFO:drake:Meshcat listening for connections at http://localhost:7000\n"
     ]
    }
   ],
   "source": [
    "meshcat = StartMeshcat()"
   ]
  },
  {
   "cell_type": "code",
   "execution_count": 23,
   "metadata": {},
   "outputs": [
    {
     "ename": "AttributeError",
     "evalue": "'pydrake.geometry.Meshcat' object has no attribute 'SetCameraPose'",
     "output_type": "error",
     "traceback": [
      "\u001b[0;31m---------------------------------------------------------------------------\u001b[0m",
      "\u001b[0;31mAttributeError\u001b[0m                            Traceback (most recent call last)",
      "\u001b[0;32m/tmp/ipykernel_14984/439166355.py\u001b[0m in \u001b[0;36m<module>\u001b[0;34m\u001b[0m\n\u001b[1;32m     52\u001b[0m     \u001b[0;32mreturn\u001b[0m \u001b[0mplant\u001b[0m\u001b[0;34m,\u001b[0m \u001b[0mscene_graph\u001b[0m\u001b[0;34m,\u001b[0m \u001b[0mdiagram\u001b[0m\u001b[0;34m,\u001b[0m \u001b[0mdiagram_context\u001b[0m\u001b[0;34m,\u001b[0m \u001b[0mplant_context\u001b[0m\u001b[0;34m,\u001b[0m \u001b[0mmeshcat\u001b[0m \u001b[0;32mif\u001b[0m \u001b[0musemeshcat\u001b[0m \u001b[0;32melse\u001b[0m \u001b[0;32mNone\u001b[0m\u001b[0;34m\u001b[0m\u001b[0;34m\u001b[0m\u001b[0m\n\u001b[1;32m     53\u001b[0m \u001b[0;34m\u001b[0m\u001b[0m\n\u001b[0;32m---> 54\u001b[0;31m \u001b[0mplant\u001b[0m\u001b[0;34m,\u001b[0m \u001b[0mscene_graph\u001b[0m\u001b[0;34m,\u001b[0m \u001b[0mdiagram\u001b[0m\u001b[0;34m,\u001b[0m \u001b[0mdiagram_context\u001b[0m\u001b[0;34m,\u001b[0m \u001b[0mplant_context\u001b[0m\u001b[0;34m,\u001b[0m \u001b[0mmeshcat\u001b[0m \u001b[0;34m=\u001b[0m \u001b[0mplant_builder\u001b[0m\u001b[0;34m(\u001b[0m\u001b[0musemeshcat\u001b[0m\u001b[0;34m=\u001b[0m\u001b[0;32mTrue\u001b[0m\u001b[0;34m)\u001b[0m\u001b[0;34m\u001b[0m\u001b[0;34m\u001b[0m\u001b[0m\n\u001b[0m\u001b[1;32m     55\u001b[0m \u001b[0;34m\u001b[0m\u001b[0m\n\u001b[1;32m     56\u001b[0m scene_graph_context = scene_graph.GetMyMutableContextFromRoot(\n",
      "\u001b[0;32m/tmp/ipykernel_14984/439166355.py\u001b[0m in \u001b[0;36mplant_builder\u001b[0;34m(usemeshcat)\u001b[0m\n\u001b[1;32m      7\u001b[0m         \u001b[0mmeshcat\u001b[0m\u001b[0;34m.\u001b[0m\u001b[0mSetProperty\u001b[0m\u001b[0;34m(\u001b[0m\u001b[0;34m\"/Axes\"\u001b[0m\u001b[0;34m,\u001b[0m \u001b[0;34m\"visible\"\u001b[0m\u001b[0;34m,\u001b[0m \u001b[0;32mFalse\u001b[0m\u001b[0;34m)\u001b[0m\u001b[0;34m\u001b[0m\u001b[0;34m\u001b[0m\u001b[0m\n\u001b[1;32m      8\u001b[0m         \u001b[0mmeshcat\u001b[0m\u001b[0;34m.\u001b[0m\u001b[0mSetProperty\u001b[0m\u001b[0;34m(\u001b[0m\u001b[0;34m\"/Background\"\u001b[0m\u001b[0;34m,\u001b[0m \u001b[0;34m\"visible\"\u001b[0m\u001b[0;34m,\u001b[0m \u001b[0;32mFalse\u001b[0m\u001b[0;34m)\u001b[0m\u001b[0;34m\u001b[0m\u001b[0;34m\u001b[0m\u001b[0m\n\u001b[0;32m----> 9\u001b[0;31m         meshcat.SetCameraPose(camera_in_world= np.ones(3),\n\u001b[0m\u001b[1;32m     10\u001b[0m                             target_in_world=np.zeros(3))\n\u001b[1;32m     11\u001b[0m \u001b[0;34m\u001b[0m\u001b[0m\n",
      "\u001b[0;31mAttributeError\u001b[0m: 'pydrake.geometry.Meshcat' object has no attribute 'SetCameraPose'"
     ]
    }
   ],
   "source": [
    "from pydrake.all import Role, MeshcatVisualizerParams\n",
    "def plant_builder(usemeshcat = False):\n",
    "    if usemeshcat:\n",
    "#         meshcat = StartMeshcat()\n",
    "        meshcat.Delete()\n",
    "        meshcat.SetProperty(\"/Grid\", \"visible\", False)\n",
    "        meshcat.SetProperty(\"/Axes\", \"visible\", False)\n",
    "        meshcat.SetProperty(\"/Background\", \"visible\", False)\n",
    "        meshcat.SetCameraPose(camera_in_world= np.ones(3),\n",
    "                            target_in_world=np.zeros(3))\n",
    "        \n",
    "    builder = RobotDiagramBuilder()\n",
    "    plant = builder.plant()\n",
    "    scene_graph = builder.scene_graph()\n",
    "    parser = builder.parser()\n",
    "    #parser.package_map().Add(\"cvisirisexamples\", missing directory)\n",
    "    if usemeshcat:\n",
    "        meshcat_params = MeshcatVisualizerParams()\n",
    "#         meshcat_params.role = Role.kProximity\n",
    "        visualizer = MeshcatVisualizer.AddToBuilder(builder.builder(), scene_graph, meshcat,meshcat_params)\n",
    "    directives_file = \"7_dof_directives_newshelf.yaml\"#FindResourceOrThrow() \n",
    "    directives = LoadModelDirectives(directives_file)\n",
    "    models = ProcessModelDirectives(directives, plant, parser)\n",
    "    \n",
    "#     collision_filter_manager = scene_graph.collision_filter_manager()\n",
    "#     inspector = scene_graph.model_inspector()\n",
    "#     schunk_body = plant.GetBodyByName(\"body\")\n",
    "#     iiwa_link_7 = plant.GetBodyByName(\"iiwa_link_7\")\n",
    "#     iiwa_link_6 = plant.GetBodyByName(\"iiwa_link_6\")\n",
    "#     iiwa_links = [plant.GetBodyByName(f\"iiwa_link_{i}\") for i in range(8)]\n",
    "#     bodies = []\n",
    "#     for b in iiwa_links+[schunk_body]:#[schunk_body, iiwa_link_7, iiwa_link_6]:\n",
    "#         bodies += plant.GetCollisionGeometriesForBody(b)\n",
    "#     geom_set = GeometrySet(bodies)\n",
    "#     decl = CollisionFilterDeclaration().ExcludeWithin(geom_set)\n",
    "#     collision_filter_manager.Apply(decl)\n",
    "\n",
    "#     shelves = [plant.GetBodyByName(f\"shelf{i}\",\n",
    "#                                   plant.GetModelInstanceByName(f\"shelves{i}\")) for i in range(1,3)]\n",
    "#     bodies = []\n",
    "#     for b in iiwa_links[:5]+shelves:\n",
    "#         bodies += plant.GetCollisionGeometriesForBody(b)\n",
    "#     geom_set = GeometrySet(bodies)\n",
    "#     decl = CollisionFilterDeclaration().ExcludeWithin(geom_set)\n",
    "#     collision_filter_manager.Apply(decl)\n",
    "    \n",
    "    plant.Finalize()\n",
    "    diagram = builder.Build()\n",
    "    diagram_context = diagram.CreateDefaultContext()\n",
    "    plant_context = plant.GetMyContextFromRoot(diagram_context)\n",
    "    diagram.ForcedPublish(diagram_context)\n",
    "    return plant, scene_graph, diagram, diagram_context, plant_context, meshcat if usemeshcat else None\n",
    "\n",
    "plant, scene_graph, diagram, diagram_context, plant_context, meshcat = plant_builder(usemeshcat=True)\n",
    "\n",
    "scene_graph_context = scene_graph.GetMyMutableContextFromRoot(\n",
    "    diagram_context)\n",
    "import pydrake.multibody.rational as rational_forward_kinematics\n",
    "from pydrake.all import RationalForwardKinematics\n",
    "Ratfk = RationalForwardKinematics(plant)"
   ]
  },
  {
   "cell_type": "code",
   "execution_count": 5,
   "metadata": {},
   "outputs": [],
   "source": [
    "waypoints =  np.array([[-2.06706, -0.3944 ,  1.43294,  0.9056 ,  0.53294, -0.8944 ,\n",
    "        0.74567],\n",
    "[-2.26706, -0.3944 ,  1.43294,  0.9056 ,  0.73294, -0.9944 ,\n",
    "        1.04567],\n",
    "[-2.96706, -0.344 ,  2.83294,  0.9056 ,  0.73294, -0.9944 ,\n",
    "        1.04567],\n",
    "[-1.06706,  0.1056 ,  2.43294,  0.9056 ,  0.73294,  0.2056 ,\n",
    "        1.04567],\n",
    "[-1.06706,  0.1056 ,  2.43294,  1.1056 ,  1.73294,  0.2056 ,\n",
    "        0.0567],\n",
    "[-1.56706,  0.1056 ,  2.43294,  1.2056 ,  1.73294,  0.8056 ,\n",
    "       -0.25433]])\n",
    "\n",
    "waypoints_col = waypoints.copy()\n",
    "\n",
    "# waypoints_col[1,:]=np.array([-2.36706, -0.3344 ,  1.43294,  0.8956 ,  0.73294, -0.9944 ,\n",
    "#         1.04567])\n",
    "waypoints_col[1,:]=np.array([-2.22706, -0.3944 ,  1.43294,  0.9056 ,  0.73294, -0.9944 ,\n",
    "        1.04567])\n",
    "#np.array([-2.0706, -0.3244 ,  1.43294,  0.8756 ,  0.73294, -0.9944 ,\n",
    "#      1.04567])\n",
    "from scipy.interpolate import CubicSpline\n",
    "\n",
    "t = np.linspace(0, 1, waypoints.shape[0])\n",
    "coord_splines = [CubicSpline(t,waypoints[:,i]) for i in range(7)]\n",
    "t_refined = np.linspace(0,1,30)\n",
    "waypoints_q_refined = [[c(t) for c in coord_splines]for t in t_refined] \n",
    "\n",
    "t = np.linspace(0, 1, waypoints_col.shape[0])\n",
    "coord_splines = [CubicSpline(t,waypoints_col[:,i]) for i in range(7)]\n",
    "t_refined = np.linspace(0,1,30)\n",
    "waypoints_q_col_refined = [[c(t) for c in coord_splines]for t in t_refined] \n",
    "\n",
    "waypoints_s = np.array([Ratfk.ComputeSValue(w, np.zeros(7)) for w in waypoints_q_refined])\n",
    "t = np.linspace(0, 1, waypoints_s.shape[0])\n",
    "coord_splines_s = [CubicSpline(t,waypoints_s[:,i]) for i in range(7)]\n",
    "t_refined = np.linspace(0,1,200)\n",
    "waypoints_s_refined = np.array([[c(t) for c in coord_splines_s]for t in t_refined] )\n",
    "\n",
    "waypoints_s_col = np.array([Ratfk.ComputeSValue(w, np.zeros(7)) for w in waypoints_q_col_refined])\n",
    "t = np.linspace(0, 1, waypoints_s_col.shape[0])\n",
    "coord_splines_s_col = [CubicSpline(t,waypoints_s_col[:,i]) for i in range(7)]\n",
    "t_refined = np.linspace(0,1,200)\n",
    "waypoints_s_col_refined = np.array([[c(t) for c in coord_splines_s_col]for t in t_refined] )\n",
    "\n",
    "#waypoints_q_backtransf = np.array([Ratfk.ComputeQValue(w, np.zeros(7)) for w in waypoints_s_refined])\n",
    "\n"
   ]
  },
  {
   "cell_type": "code",
   "execution_count": 6,
   "metadata": {},
   "outputs": [],
   "source": [
    "def plot_endeff_traj_s(dense,name = '', color = (1,0,0,1)):\n",
    "    plot_endeff_traj(np.array([Ratfk.ComputeQValue(w,np.zeros(7)) for w in dense]), name, color)\n",
    "\n",
    "def plot_endeff_traj(dense_waypoints, name = '', color= (1,0,0,1)):\n",
    "    color = Rgba(color[0], color[1], color[2], color[3])\n",
    "    start_idx = 0\n",
    "    for i, qa in enumerate(dense_waypoints):\n",
    "        #qa = Ratfk.ComputeQValue(ta, np.zeros(7))\n",
    "        #showres(qa)\n",
    "        #time.sleep(0.1)            \n",
    "        plant.SetPositions(plant_context, qa)\n",
    "        tf_tot= plant.EvalBodyPoseInWorld(plant_context, plant.get_body(pydrake.multibody.tree.BodyIndex(9)))\n",
    "        tf = tf_tot.translation() + tf_tot.GetAsMatrix4()[:3,:3][:,1] *0.13\n",
    "\n",
    "        meshcat.SetObject(f\"/iris/points/traj/{name}/{i+start_idx}\",\n",
    "                               Sphere(0.01),\n",
    "                               color)\n",
    "\n",
    "        meshcat.SetTransform(f\"/iris/points/traj/{name}/{i+start_idx}\",\n",
    "                                   RigidTransform(RotationMatrix(),\n",
    "                                                  tf))"
   ]
  },
  {
   "cell_type": "code",
   "execution_count": 10,
   "metadata": {},
   "outputs": [],
   "source": [
    "q = np.zeros(plant.num_positions())\n",
    "ik = InverseKinematics(plant, plant_context)\n",
    "collision_constraint = ik.AddMinimumDistanceConstraint(0.001, 0.001)\n",
    "def eval_cons(q, c, tol):\n",
    "    return 1-1*float(c.evaluator().CheckSatisfied(q, tol))\n",
    "diagram_col_context = diagram.CreateDefaultContext()\n",
    "plant_col_context = diagram.GetMutableSubsystemContext(plant, diagram_col_context)\n",
    "scene_graph_col_context = diagram.GetMutableSubsystemContext(\n",
    "        scene_graph, diagram_col_context\n",
    "    )\n",
    "query_port = scene_graph.get_query_output_port()\n",
    "\n",
    "\n",
    "def check_collision_q_by_query(q):\n",
    "    plant.SetPositions(plant_context, q)\n",
    "    query_object = query_port.Eval(scene_graph_context)\n",
    "    return 1 if query_object.HasCollisions() else 0\n",
    "    \n",
    "\n",
    "def check_collision_s_by_query(s):\n",
    "    s = np.array(s)\n",
    "    q = Ratfk.ComputeQValue(s, q_star)\n",
    "    return check_collision_q_by_query(q)\n",
    "\n",
    "\n",
    "    \n",
    "col_func_handle = check_collision_q_by_query#partial(eval_cons, c=collision_constraint, tol=0.01)\n",
    "# col_func_handle = partial(eval_cons, c=collision_constraint, tol=0.01)\n",
    "\n",
    "col_shunk_col =  Rgba(0.8, 0.0, 0, 0.5)    \n",
    "col_shunk_free =  Rgba(0.0, 0.8, 0.5, 0.5)   \n",
    "\n",
    "def handle_slider_change(change, idx):\n",
    "    q[idx] = change['new']\n",
    "    showres(q)\n",
    "\n",
    "def showres_s(s_vis):\n",
    "    showres(Ratfk.ComputeQValue(s_vis, np.zeros(7)))\n",
    "\n",
    "def showres(qvis):\n",
    "    plant.SetPositions(plant_context, qvis)\n",
    "    col = col_func_handle(qvis)\n",
    "    shunk = plant.get_body(pydrake.multibody.tree.BodyIndex(9))\n",
    "    tf_tot = shunk.EvalPoseInWorld(plant_context)\n",
    "    tf = tf_tot.translation()\n",
    "    \n",
    "   # tf_tot= plant.EvalBodyPoseInWorld(plant_context, plant.get_body(pydrake.multibody.tree.BodyIndex(7)))\n",
    "    #tf = tf_tot.translation() - tf_tot.GetAsMatrix4()[:3,:3][:,1] *0.15\n",
    "    if col:\n",
    "        meshcat.SetObject(f\"/drake/visualizer/shunk\",\n",
    "                                   Sphere(0.05),\n",
    "                                   col_shunk_col)\n",
    "    else:\n",
    "        meshcat.SetObject(f\"/drake/visualizer/shunk\",\n",
    "                                   Sphere(0.05),\n",
    "                                   col_shunk_free)\n",
    "    meshcat.SetTransform(f\"/drake/visualizer/shunk\",\n",
    "                                   RigidTransform(RotationMatrix(),\n",
    "                                                  tf))\n",
    "    \n",
    "    diagram.ForcedPublish(diagram_context)\n",
    "\n"
   ]
  },
  {
   "cell_type": "code",
   "execution_count": 11,
   "metadata": {},
   "outputs": [],
   "source": [
    "for sa in waypoints_s_refined:\n",
    "    #qa = #Ratfk.ComputeQValue(ta, np.zeros(3))\n",
    "    showres_s(sa)\n",
    "    if col_func_handle(Ratfk.ComputeQValue(sa, np.zeros(7))):\n",
    "        print(col_func_handle(Ratfk.ComputeQValue(sa, np.zeros(7))))\n",
    "        query_object = query_port.Eval(scene_graph_context)\n",
    "        print(query_object.HasCollisions())\n",
    "        break\n",
    "        \n",
    "    time.sleep(0.01)"
   ]
  },
  {
   "cell_type": "code",
   "execution_count": 12,
   "metadata": {},
   "outputs": [],
   "source": [
    "for sa in waypoints_s_col_refined:\n",
    "    #qa = #Ratfk.ComputeQValue(ta, np.zeros(3))\n",
    "    showres_s(sa)\n",
    "    if col_func_handle(Ratfk.ComputeQValue(sa, np.zeros(7))):\n",
    "        print('col')\n",
    "#         break\n",
    "    time.sleep(0.01)"
   ]
  },
  {
   "cell_type": "code",
   "execution_count": 15,
   "metadata": {},
   "outputs": [],
   "source": [
    "plot_endeff_traj_s(waypoints_s_refined, 'free',(0,1,0,1))\n",
    "plot_endeff_traj_s(waypoints_s_col_refined, 'col',(1,0,0,1))\n",
    "#plot_endeff_traj(waypoints_q_backtransf, 'qb',(1,0.5,1,1))"
   ]
  },
  {
   "cell_type": "code",
   "execution_count": 19,
   "metadata": {},
   "outputs": [
    {
     "name": "stdout",
     "output_type": "stream",
     "text": [
      "breakpoints: (30,)\n",
      "coefficients: (4, 29)\n"
     ]
    }
   ],
   "source": [
    "#this is how you get the breakpoints and coefficients of the collision free spline\n",
    "\n",
    "print(f\"breakpoints: {coord_splines_s[0].x.shape}\")\n",
    "\n",
    "print(f\"coefficients: {coord_splines_s[0].c.shape}\")"
   ]
  },
  {
   "cell_type": "code",
   "execution_count": 20,
   "metadata": {},
   "outputs": [
    {
     "name": "stdout",
     "output_type": "stream",
     "text": [
      "breakpoints: (30,)\n",
      "coefficients: (4, 29)\n"
     ]
    }
   ],
   "source": [
    "#this is how you get the breakpoints and coefficients of the spline with collision\n",
    "\n",
    "print(f\"breakpoints: {coord_splines_s_col[0].x.shape}\")\n",
    "\n",
    "print(f\"coefficients: {coord_splines_s_col[0].c.shape}\")"
   ]
  },
  {
   "cell_type": "code",
   "execution_count": 21,
   "metadata": {},
   "outputs": [],
   "source": [
    "import time\n",
    "from pydrake.geometry.optimization_dev import CspaceFreePath\n"
   ]
  },
  {
   "cell_type": "code",
   "execution_count": 22,
   "metadata": {},
   "outputs": [],
   "source": [
    "from pydrake.all import PiecewisePolynomial\n",
    "from pydrake.polynomial import Polynomial as CommonPolynomial\n",
    "import logging\n",
    "drake_logger = logging.getLogger(\"drake\")\n",
    "drake_logger.setLevel(logging.DEBUG)\n",
    "\n",
    "breaks = np.arange(0, waypoints_s.shape[0])\n",
    "samples = waypoints_s\n",
    "derivs = np.zeros_like(waypoints_s)\n",
    "traj = PiecewisePolynomial.CubicHermite(breaks,samples.T, derivs.T)\n",
    "polys =np.array([traj.getPolynomialMatrix(i) for i in breaks[:-1]]).squeeze().T\n"
   ]
  },
  {
   "cell_type": "code",
   "execution_count": null,
   "metadata": {},
   "outputs": [],
   "source": [
    "    \n",
    "sliders = []\n",
    "for i in range(plant.num_positions()):\n",
    "    q_low = plant.GetPositionLowerLimits()[i]\n",
    "    q_high = plant.GetPositionUpperLimits()[i]\n",
    "    sliders.append(widgets.FloatSlider(min=q_low, max=q_high, value=0, description=f\"q{i}\"))\n",
    "\n",
    "    \n",
    "scaler = 1 #np.array([0.8, 1., 0.8, 1, 0.8, 1, 0.8]) #do you even geometry bro?\n",
    "q_min = np.array(q_low)*scaler\n",
    "q_max = np.array(q_high)*scaler\n",
    "q_diff = q_max-q_min\n",
    "\n",
    "idx = 0\n",
    "for slider in sliders:\n",
    "    slider.observe(partial(handle_slider_change, idx = idx), names='value')\n",
    "    idx+=1\n",
    "\n",
    "display(sliders[0])\n",
    "for slider in sliders:\n",
    "    display(slider)"
   ]
  },
  {
   "cell_type": "code",
   "execution_count": 23,
   "metadata": {},
   "outputs": [
    {
     "data": {
      "text/plain": [
       "3"
      ]
     },
     "execution_count": 23,
     "metadata": {},
     "output_type": "execute_result"
    }
   ],
   "source": [
    "polys[0,0].GetDegree()"
   ]
  },
  {
   "cell_type": "code",
   "execution_count": 24,
   "metadata": {},
   "outputs": [],
   "source": [
    "# q_star = np.zeros(plant.num_positions())\n",
    "# plane_order = 2\n",
    "# max_degree = 3\n",
    "# t0 = time.time()\n",
    "# cspace_free_path = CspaceFreePath(\n",
    "#     plant,\n",
    "#     scene_graph,\n",
    "#     q_star,\n",
    "#     maximum_path_degree=max_degree,\n",
    "#     plane_order=plane_order,\n",
    "# )\n",
    "# t1 = time.time()\n",
    "# print(f\"Time to build collision checker {t1-t0}\")"
   ]
  },
  {
   "cell_type": "code",
   "execution_count": 25,
   "metadata": {},
   "outputs": [
    {
     "data": {
      "text/plain": [
       "132"
      ]
     },
     "execution_count": 25,
     "metadata": {},
     "output_type": "execute_result"
    }
   ],
   "source": [
    "len(cspace_free_path.separating_planes())"
   ]
  },
  {
   "cell_type": "code",
   "execution_count": 26,
   "metadata": {},
   "outputs": [
    {
     "name": "stdout",
     "output_type": "stream",
     "text": [
      "132\n"
     ]
    }
   ],
   "source": [
    "# for plane in cspace_free_path.separating_planes():\n",
    "#     pos_body_idx = plane.positive_side_geometry.body_index()\n",
    "#     neg_body_idx = plane.negative_side_geometry.body_index()\n",
    "#     pos_body_name = plant.get_body(pos_body_idx).name()\n",
    "#     neg_body_name = plant.get_body(neg_body_idx).name()\n",
    "#     print(pos_body_name, neg_body_name)\n",
    "print(len(cspace_free_path.separating_planes()))"
   ]
  },
  {
   "cell_type": "code",
   "execution_count": 27,
   "metadata": {},
   "outputs": [],
   "source": [
    "cert_options = CspaceFreePath.FindSeparationCertificateGivenPathOptions()\n",
    "cert_options.terminate_segment_certification_at_failure = False\n",
    "cert_options.num_threads = -1\n",
    "cert_options.verbose = False\n",
    "cert_options.solver_id = MosekSolver.id()\n",
    "cert_options.solver_options = SolverOptions()\n",
    "cert_options.terminate_path_certification_at_failure = False"
   ]
  },
  {
   "cell_type": "code",
   "execution_count": 44,
   "metadata": {},
   "outputs": [
    {
     "name": "stdout",
     "output_type": "stream",
     "text": [
      "Time to certify path 328.44463086128235\n"
     ]
    }
   ],
   "source": [
    "t0 = time.time()\n",
    "stats, res = cspace_free_path.FindSeparationCertificateGivenPath(polys,\n",
    "                                                                 set(),\n",
    "                                                                 cert_options)\n",
    "t1 = time.time()\n",
    "print(f\"Time to certify path {t1-t0}\")"
   ]
  },
  {
   "cell_type": "code",
   "execution_count": 45,
   "metadata": {},
   "outputs": [
    {
     "name": "stdout",
     "output_type": "stream",
     "text": [
      "True\n",
      "True\n",
      "True\n",
      "True\n",
      "True\n",
      "True\n",
      "True\n",
      "True\n",
      "True\n",
      "True\n",
      "True\n",
      "True\n",
      "True\n",
      "True\n",
      "True\n",
      "True\n",
      "True\n",
      "True\n",
      "True\n",
      "True\n",
      "True\n",
      "True\n",
      "True\n",
      "True\n",
      "True\n",
      "True\n",
      "True\n",
      "True\n",
      "True\n"
     ]
    }
   ],
   "source": [
    "for s in stats:\n",
    "    print(s.certified_safe())\n",
    "    "
   ]
  },
  {
   "cell_type": "code",
   "execution_count": 46,
   "metadata": {},
   "outputs": [
    {
     "name": "stdout",
     "output_type": "stream",
     "text": [
      "Total safe solver time = 8899.895943000342\n"
     ]
    }
   ],
   "source": [
    "print(f\"Total safe solver time = {sum([s.total_time_to_solve_progs()/20 for s in stats])}\")"
   ]
  },
  {
   "cell_type": "code",
   "execution_count": null,
   "metadata": {},
   "outputs": [],
   "source": []
  },
  {
   "cell_type": "code",
   "execution_count": 47,
   "metadata": {},
   "outputs": [],
   "source": [
    "from pydrake.all import PiecewisePolynomial\n",
    "from pydrake.polynomial import Polynomial as CommonPolynomial\n",
    "import logging\n",
    "drake_logger = logging.getLogger(\"drake\")\n",
    "drake_logger.setLevel(logging.DEBUG)\n",
    "\n",
    "breaks = np.arange(0, waypoints_s_col.shape[0])\n",
    "samples = waypoints_s_col\n",
    "derivs = np.zeros_like(waypoints_s_col)\n",
    "traj_unsafe = PiecewisePolynomial.CubicHermite(breaks,samples.T, derivs.T)\n",
    "polys_unsafe =np.array([traj_unsafe.getPolynomialMatrix(i) for i in breaks[:-1]]).squeeze().T\n",
    "for t in np.linspace(traj_unsafe.start_time(), traj_unsafe.end_time(),int(1e3)):\n",
    "    s = traj_unsafe.value(t)\n",
    "    showres_s(s)\n",
    "    if col_func_handle(Ratfk.ComputeQValue(s, np.zeros(7))):\n",
    "        print('col')\n",
    "#         break\n",
    "    time.sleep(0.01)"
   ]
  },
  {
   "cell_type": "code",
   "execution_count": 48,
   "metadata": {},
   "outputs": [
    {
     "name": "stdout",
     "output_type": "stream",
     "text": [
      "Time to certify path 330.6732964515686\n"
     ]
    }
   ],
   "source": [
    "t0 = time.time()\n",
    "stats, res = cspace_free_path.FindSeparationCertificateGivenPath(polys_unsafe,\n",
    "                                                                 set(),\n",
    "                                                                 cert_options)\n",
    "t1 = time.time()\n",
    "print(f\"Time to certify path {t1-t0}\")"
   ]
  },
  {
   "cell_type": "code",
   "execution_count": 49,
   "metadata": {},
   "outputs": [
    {
     "name": "stdout",
     "output_type": "stream",
     "text": [
      "True\n",
      "True\n",
      "True\n",
      "True\n",
      "True\n",
      "True\n",
      "True\n",
      "True\n",
      "True\n",
      "True\n",
      "True\n",
      "True\n",
      "True\n",
      "True\n",
      "True\n",
      "True\n",
      "True\n",
      "True\n",
      "True\n",
      "True\n",
      "True\n",
      "True\n",
      "True\n",
      "True\n",
      "True\n",
      "True\n",
      "True\n",
      "True\n",
      "True\n"
     ]
    }
   ],
   "source": [
    "for s in stats:\n",
    "    print(s.certified_safe())\n",
    "    "
   ]
  },
  {
   "cell_type": "code",
   "execution_count": 43,
   "metadata": {},
   "outputs": [
    {
     "name": "stdout",
     "output_type": "stream",
     "text": [
      "9212.635742750183\n"
     ]
    }
   ],
   "source": [
    "print(f\"Total unsafe solver time = {sum([s.total_time_to_solve_progs()/20 for s in stats])}\")"
   ]
  },
  {
   "cell_type": "code",
   "execution_count": 42,
   "metadata": {},
   "outputs": [
    {
     "name": "stdout",
     "output_type": "stream",
     "text": [
      "9212.635742750183\n"
     ]
    }
   ],
   "source": [
    "print(sum([s.total_time_to_solve_progs()/20 for s in stats]))"
   ]
  },
  {
   "cell_type": "code",
   "execution_count": 33,
   "metadata": {},
   "outputs": [
    {
     "name": "stdout",
     "output_type": "stream",
     "text": [
      "168014.47310400003\n",
      "4322.967588999177\n",
      "160230.35126999998\n",
      "\n",
      "173150.850701\n",
      "5835.056909000741\n",
      "163140.82573200003\n",
      "\n",
      "174199.385644\n",
      "6118.294995000269\n",
      "163858.78152200003\n",
      "\n",
      "173831.430877\n",
      "5799.487221000163\n",
      "163869.019052\n",
      "\n",
      "174631.87088399997\n",
      "5806.443990001412\n",
      "165017.04459899993\n",
      "\n",
      "176004.348976\n",
      "5654.852515000243\n",
      "166192.533272\n",
      "\n",
      "174268.30602299995\n",
      "5576.655907000827\n",
      "164553.05775400007\n",
      "\n",
      "174484.68237\n",
      "5902.826082000161\n",
      "164462.998806\n",
      "\n",
      "176699.617266\n",
      "6753.752536999173\n",
      "165580.86317800003\n",
      "\n",
      "178394.220728\n",
      "7947.355267999114\n",
      "166367.817549\n",
      "\n",
      "179038.80646799997\n",
      "7574.192241999526\n",
      "167472.283656\n",
      "\n",
      "179410.106587\n",
      "7810.861185999443\n",
      "167730.97451200002\n",
      "\n",
      "182636.823029\n",
      "8228.949500999646\n",
      "170489.21485199995\n",
      "\n",
      "184222.38996099998\n",
      "8322.278869000456\n",
      "171591.102684\n",
      "\n",
      "198092.03800600002\n",
      "7739.645589000702\n",
      "186142.188188\n",
      "\n",
      "189197.630061\n",
      "6902.270496000369\n",
      "177404.251488\n",
      "\n",
      "178381.23100200001\n",
      "6303.81115199998\n",
      "167716.60378899996\n",
      "\n",
      "177517.83694799998\n",
      "6282.628220000333\n",
      "167055.02428900005\n",
      "\n",
      "177016.793781\n",
      "5929.018863999772\n",
      "167260.26326\n",
      "\n",
      "180605.162062\n",
      "5687.818997000022\n",
      "170594.7344\n",
      "\n",
      "188097.57609900006\n",
      "5927.623886999754\n",
      "177788.07333500005\n",
      "\n",
      "185046.0948769999\n",
      "5554.542336999475\n",
      "174842.99830700006\n",
      "\n",
      "181061.004086\n",
      "5786.113684000952\n",
      "170947.04201800004\n",
      "\n",
      "175964.24978500005\n",
      "5699.332282999649\n",
      "166290.215242\n",
      "\n",
      "183458.548771\n",
      "6627.127696000912\n",
      "172684.07809000002\n",
      "\n",
      "178010.73007899994\n",
      "6167.272663000858\n",
      "167436.489663\n",
      "\n",
      "177897.87593600003\n",
      "6031.706733999613\n",
      "167631.28860100004\n",
      "\n",
      "176783.33820700002\n",
      "6598.31468900029\n",
      "166251.388605\n",
      "\n",
      "160699.83560200006\n",
      "5361.512753000625\n",
      "151258.845309\n",
      "\n"
     ]
    }
   ],
   "source": [
    "for s in stats:\n",
    "    print(s.total_time_to_certify())\n",
    "    print(s.total_time_to_solve_progs())\n",
    "    print(s.total_time_building_progs())\n",
    "    print()"
   ]
  },
  {
   "cell_type": "code",
   "execution_count": 51,
   "metadata": {},
   "outputs": [
    {
     "name": "stdout",
     "output_type": "stream",
     "text": [
      "60.701769\n",
      "{131: 5405.897907, 130: 5476.079876, 129: 5446.079395, 128: 5212.450489, 127: 5158.15257, 58: 28.364769, 57: 30.383395, 56: 30.750884, 55: 30.798336, 54: 22.965872, 53: 40.85461, 52: 31.979158, 51: 29.865306, 50: 26.695953, 49: 36.547782, 48: 36.346835, 47: 63.778938, 46: 62.990056, 45: 37.058159, 44: 9.312171, 43: 5.72243, 42: 6.908101, 41: 4.913756, 40: 5.547493, 39: 8.17595, 38: 6.71698, 37: 6.547181, 36: 10.887158, 35: 5.317061, 34: 6.461782, 33: 17.5786, 32: 5.773999, 31: 5.808161, 30: 345.978192, 29: 321.707222, 12: 679.443445, 11: 546.8553, 10: 330.522124, 9: 32.032115, 8: 17.321657, 7: 5.683026, 6: 5299.729008, 5: 5497.459086, 4: 587.561733, 3: 273.798848, 2: 39.155673, 1: 22.061182, 0: 6.252049, 13: 2.396078, 14: 2.826924, 15: 2.835228, 16: 3.053019, 17: 3.280287, 18: 5.271041, 19: 3.148591, 20: 5.535016, 21: 3.191155, 22: 10.275938, 23: 13.529334, 24: 2.661719, 25: 3.248842, 26: 6.611062, 27: 28.86712, 28: 54.240155, 59: 30.450383, 60: 40.741326, 61: 14.99866, 62: 31.061063, 63: 47.438839, 64: 73.49731, 65: 54.866715, 66: 54.872477, 67: 58.864529, 68: 65.593323, 69: 64.366947, 70: 69.480083, 71: 62.220584, 72: 49.149958, 73: 71.572531, 74: 53.506379, 75: 63.354587, 76: 58.237661, 77: 7.0301, 78: 23.256434, 79: 344.932739, 80: 351.066117, 81: 349.158656, 82: 350.96162, 83: 345.495693, 84: 471.195032, 85: 369.520086, 86: 357.008066, 87: 335.537979, 88: 345.204498, 89: 389.026847, 90: 411.578828, 91: 351.505611, 92: 3.988888, 93: 666.045543, 94: 676.441533, 95: 737.569089, 96: 714.154431, 97: 705.650965, 98: 621.032297, 99: 686.476842, 100: 698.356719, 101: 686.143963, 102: 729.101336, 103: 614.294391, 104: 670.871419, 105: 658.166549, 106: 5418.384638, 107: 5183.607973, 108: 5579.432309, 109: 5070.829161, 110: 5274.723049, 111: 5103.768429, 112: 5731.732902, 113: 5635.115976, 114: 5469.947042, 115: 5321.702989, 116: 5277.812076, 117: 5236.55802, 118: 5517.087577, 119: 5378.949429, 120: 5217.718874, 121: 5296.70802, 122: 5344.975132, 123: 5303.022387, 124: 5109.857395, 125: 5522.655606, 126: 5400.182104}\n",
      "5.259031000150571\n"
     ]
    }
   ],
   "source": [
    "print(stats[0].total_time_to_certify_pair[0])\n",
    "print(stats[0].time_to_build_prog)\n",
    "print(stats[0].time_to_solve_prog[0])"
   ]
  },
  {
   "cell_type": "code",
   "execution_count": null,
   "metadata": {},
   "outputs": [],
   "source": [
    "ur = UrDiagram(num_ur = 1, weld_wrist = True, add_shelf = True,\n",
    "                 add_gripper = True, use_meshcat=True)\n",
    "diagram_context = ur.diagram.CreateDefaultContext()\n",
    "diagram = ur.diagram.ForcedPublish(diagram_context)\n",
    "\n",
    "plant_context = ur.plant.GetMyMutableContextFromRoot(\n",
    "        diagram_context)\n",
    "scene_graph_context = ur.scene_graph.GetMyMutableContextFromRoot(\n",
    "    diagram_context)\n",
    "inspector = ur.scene_graph.model_inspector()        \n",
    "        \n",
    "# # construct the RationalForwardKinematics of this plant. This object handles the\n",
    "# # computations for the forward kinematics in the tangent-configuration space\n",
    "# Ratfk = RationalForwardKinematics(ur.plant)\n",
    "\n",
    "# # the point about which we will take the stereographic projections\n",
    "# q_star = np.zeros(ur.plant.num_positions())\n",
    "\n",
    "# # The object we will use to perform our certification.\n",
    "# cspace_free_polytope = CspaceFreePolytope(ur.plant, ur.scene_graph,\n",
    "#                                           SeparatingPlaneOrder.kAffine, q_star)\n",
    "\n",
    "#from pydrake.all import Box, GetVertices\n",
    "query = ur.scene_graph.get_query_output_port().Eval(ur.scene_graph.GetMyContextFromRoot(diagram_context))\n",
    "inspector = query.inspector()\n",
    "a = inspector.GetCollisionCandidates()\n",
    "geomids= []\n",
    "for b, c in a:\n",
    "    geomids.append(b)\n",
    "    geomids.append(c)\n",
    "ids = list(set(inspector.GetAllGeometryIds()))\n",
    "frame_id_dict = {}\n",
    "for idx in range(len(ids)):\n",
    "    #print(idx, plant.GetBodyFromFrameId(inspector.GetFrameId(ids[idx])))\n",
    "    if ur.plant.GetBodyFromFrameId(inspector.GetFrameId(ids[idx])).name() =='body':\n",
    "        frame_id_dict['body'] = ids[idx]\n",
    "    if ur.plant.GetBodyFromFrameId(inspector.GetFrameId(ids[idx])).name() =='left_finger':\n",
    "        frame_id_dict['left_finger'] = ids[idx]\n",
    "    if ur.plant.GetBodyFromFrameId(inspector.GetFrameId(ids[idx])).name() =='right_finger':\n",
    "        frame_id_dict['right_finger'] = ids[idx]\n",
    "    if ur.plant.GetBodyFromFrameId(inspector.GetFrameId(ids[idx])).name() =='ur_wrist_3_link':\n",
    "        frame_id_dict['ur_wrist_3_link'] = ids[idx]\n",
    "    if ur.plant.GetBodyFromFrameId(inspector.GetFrameId(ids[idx])).name() =='ur_wrist_2_link':\n",
    "        frame_id_dict['ur_wrist_2_link'] = ids[idx]\n",
    "\n",
    "print(frame_id_dict)\n",
    "geom_ids = [inspector.GetGeometries(inspector.GetFrameId(frame_id_dict[k]))[0] for k in ['ur_wrist_2_link','ur_wrist_3_link','body', 'left_finger', 'right_finger']]\n",
    "\n",
    "sh_frames = [6,7, 11,12,13]\n",
    "sh_geom = [inspector.GetShape(id) for id in geom_ids] \n",
    "sh_names = ['ur_wrist_2_link','ur_wrist_3_link', 'box', 'l','r']\n",
    "\n",
    "def plot_endeff_pose(q2, name = '', color = Rgba(1,1,0.1,0.8)):\n",
    "    ur.plant.SetPositions(plant_context, q2)\n",
    "    tfs = [ur.plant.EvalBodyPoseInWorld(plant_context, ur.plant.get_body(pydrake.multibody.tree.BodyIndex(fr))) for fr in sh_frames]\n",
    "    for n, f, geom in zip(sh_names[2:], tfs[2:], sh_geom[2:]):\n",
    "        #print(n,f,geom)\n",
    "        ur.meshcat.SetObject(\"/iris/shunk/\"+name+\"/\"+n,\n",
    "                                geom,\n",
    "                                color)\n",
    "        ur.meshcat.SetTransform(\"/iris/shunk/\"+name+\"/\"+n, f)\n",
    "# for i,p in enumerate(poi):\n",
    "#     plot_endeff_pose(p, str(i))\n",
    "def densify_waypoints(waypoints_q):\n",
    "    densify = 200\n",
    "    dists = []\n",
    "    dense_waypoints = []\n",
    "    for idx in range(len(waypoints_q[:-1])):\n",
    "        a = waypoints_q[idx]\n",
    "        b = waypoints_q[idx+1]\n",
    "        t = np.linspace(1,0, 10)\n",
    "        locs_endeff = []\n",
    "        dists_endeff = []\n",
    "        for tval in t:\n",
    "            a = a*tval + b*(1-tval)\n",
    "            qa = a#Ratfk.ComputeQValue(ta, np.zeros(7))\n",
    "            #showres(qa)\n",
    "            #time.sleep(0.1)            \n",
    "            ur.plant.SetPositions(plant_context, qa)\n",
    "            tf_tot= ur.plant.EvalBodyPoseInWorld(plant_context, ur.plant.get_body(pydrake.multibody.tree.BodyIndex(11)))\n",
    "            tf = tf_tot.translation() + tf_tot.GetAsMatrix4()[:3,:3][:,1] *0.15\n",
    "            locs_endeff.append(tf)\n",
    "        for i in range(len(locs_endeff)-1):\n",
    "            dists_endeff.append(np.linalg.norm(locs_endeff[i]- locs_endeff[i+1]))\n",
    "        d = np.sum(dists_endeff)\n",
    "        #print(d * densify)\n",
    "        t = np.linspace(1,0,int(densify*d))\n",
    "        for tval in t:\n",
    "            dense_waypoints.append(waypoints_q[idx]*tval + waypoints_q[idx+1]*(1-tval))\n",
    "    return dense_waypoints\n",
    "\n",
    "def plot_endeff_traj(dense_waypoints):\n",
    "    color = Rgba(1,0,0,1.0)\n",
    "    start_idx = 0\n",
    "    for i, qa in enumerate(dense_waypoints):\n",
    "        #qa = Ratfk.ComputeQValue(ta, np.zeros(7))\n",
    "        #showres(qa)\n",
    "        #time.sleep(0.1)            \n",
    "        ur.plant.SetPositions(plant_context, qa)\n",
    "        tf_tot= ur.plant.EvalBodyPoseInWorld(plant_context, ur.plant.get_body(pydrake.multibody.tree.BodyIndex(11)))\n",
    "        tf = tf_tot.translation() + tf_tot.GetAsMatrix4()[:3,:3][:,1] *0.15\n",
    "\n",
    "        ur.meshcat.SetObject(f\"/iris/points/traj/{i+start_idx}\",\n",
    "                               Sphere(0.005),\n",
    "                               color)\n",
    "\n",
    "        ur.meshcat.SetTransform(f\"/iris/points/traj/{i+start_idx}\",\n",
    "                                   RigidTransform(RotationMatrix(),\n",
    "                                                  tf))\n",
    "\n"
   ]
  },
  {
   "cell_type": "code",
   "execution_count": null,
   "metadata": {},
   "outputs": [],
   "source": [
    "import pickle\n",
    "import os\n",
    "\n",
    "exp_name = \"5DOf_ur_20230703210916_16_1000_0.050_0.140\"#\"5DOf_ur_20230703162006_12_1000_0.050_0.140\"\n",
    "poly_names = os.listdir(\"logs/\"+exp_name+\"/regions\")\n",
    "data_chkpts = os.listdir(\"logs/\"+exp_name+\"/data\")\n",
    "poly_names.sort()\n",
    "data_chkpts.sort()\n",
    "regions = []\n",
    "for p in poly_names:\n",
    "    with open(\"logs/\"+exp_name+\"/regions/\"+p, 'rb') as f:\n",
    "        d = pickle.load(f)\n",
    "    regions.append(HPolyhedron(d['ra'], d['rb']))\n",
    "\n",
    "with open(\"logs/\"+exp_name+\"/data/\"+data_chkpts[-1], 'rb') as f:\n",
    "    d2 = pickle.load(f)\n",
    "\n",
    "seed_points = d2['sp'][-1]"
   ]
  },
  {
   "cell_type": "code",
   "execution_count": null,
   "metadata": {},
   "outputs": [],
   "source": [
    "showres(seed_points[0, :])"
   ]
  },
  {
   "cell_type": "code",
   "execution_count": null,
   "metadata": {},
   "outputs": [],
   "source": [
    "def conversion_dummy(q):\n",
    "    return q\n",
    "import dijkstraspp\n",
    "dspp = dijkstraspp.DijkstraSPPsolver(regions, conversion_dummy)"
   ]
  },
  {
   "cell_type": "code",
   "execution_count": null,
   "metadata": {},
   "outputs": [],
   "source": [
    "sliders = []\n",
    "for i in range(ur.plant.num_positions()):\n",
    "    q_low = ur.plant.GetPositionLowerLimits()[i]\n",
    "    q_high = ur.plant.GetPositionUpperLimits()[i]\n",
    "    sliders.append(widgets.FloatSlider(min=q_low, max=q_high, value=0, description=f\"q{i}\"))\n",
    "\n",
    "q = np.zeros(ur.plant.num_positions())\n",
    "ik = InverseKinematics(ur.plant, plant_context)\n",
    "collision_constraint = ik.AddMinimumDistanceConstraint(0.001, 0.001)\n",
    "def eval_cons(q, c, tol):\n",
    "    return 1-1*float(c.evaluator().CheckSatisfied(q, tol))\n",
    "    \n",
    "col_func_handle = partial(eval_cons, c=collision_constraint, tol=0.01)\n",
    "col_shunk_col =  Rgba(0.8, 0.0, 0, 0.5)    \n",
    "col_shunk_free =  Rgba(0.0, 0.8, 0.5, 0.5)   \n",
    "\n",
    "def handle_slider_change(change, idx):\n",
    "    q[idx] = change['new']\n",
    "    showres_regions(q)\n",
    "\n",
    "def showres(qvis):\n",
    "    ur.plant.SetPositions(plant_context, qvis)\n",
    "    col = col_func_handle(qvis)\n",
    "    shunk = ur.plant.get_body(pydrake.multibody.tree.BodyIndex(11))\n",
    "    tf_tot = shunk.EvalPoseInWorld(plant_context)\n",
    "    tf = tf_tot.translation()\n",
    "    \n",
    "   # tf_tot= plant.EvalBodyPoseInWorld(plant_context, plant.get_body(pydrake.multibody.tree.BodyIndex(7)))\n",
    "    #tf = tf_tot.translation() - tf_tot.GetAsMatrix4()[:3,:3][:,1] *0.15\n",
    "    if col:\n",
    "        ur.meshcat.SetObject(f\"/drake/visualizer/shunk\",\n",
    "                                   Sphere(0.05),\n",
    "                                   col_shunk_col)\n",
    "    else:\n",
    "        ur.meshcat.SetObject(f\"/drake/visualizer/shunk\",\n",
    "                                   Sphere(0.05),\n",
    "                                   col_shunk_free)\n",
    "    ur.meshcat.SetTransform(f\"/drake/visualizer/shunk\",\n",
    "                                   RigidTransform(RotationMatrix(),\n",
    "                                                  tf))\n",
    "    \n",
    "    ur.diagram.ForcedPublish(diagram_context)\n",
    "\n",
    "from visibility_utils import point_in_regions\n",
    "\n",
    "def showres_regions(qvis):\n",
    "    ur.plant.SetPositions(plant_context, qvis)\n",
    "    is_in_regions = False #point_in_regions(qvis, regions)\n",
    "    col = col_func_handle(qvis)\n",
    "    shunk = ur.plant.get_body(pydrake.multibody.tree.BodyIndex(11))\n",
    "    tf_tot = shunk.EvalPoseInWorld(plant_context)\n",
    "    tf = tf_tot.translation()\n",
    "    \n",
    "   # tf_tot= plant.EvalBodyPoseInWorld(plant_context, plant.get_body(pydrake.multibody.tree.BodyIndex(7)))\n",
    "    #tf = tf_tot.translation() - tf_tot.GetAsMatrix4()[:3,:3][:,1] *0.15\n",
    "    if col:\n",
    "        ur.meshcat.SetObject(f\"/drake/visualizer/shunk\",\n",
    "                                   Sphere(0.05),\n",
    "                                   col_shunk_col)\n",
    "    else:\n",
    "        ur.meshcat.SetObject(f\"/drake/visualizer/shunk\",\n",
    "                                   Sphere(0.05),\n",
    "                                   col_shunk_free)\n",
    "    \n",
    "    ur.meshcat.SetTransform(f\"/drake/visualizer/shunk\",\n",
    "                                   RigidTransform(RotationMatrix(),\n",
    "                                                 tf))\n",
    "    \n",
    "        \n",
    "    if is_in_regions:\n",
    "        ur.meshcat.SetObject(f\"/drake/visualizer/inreg\",\n",
    "                                   Sphere(0.2),\n",
    "                                   col_shunk_free)\n",
    "    else:\n",
    "        ur.meshcat.SetObject(f\"/drake/visualizer/inreg\",\n",
    "                                   Sphere(0.2),\n",
    "                                   col_shunk_col)\n",
    "    ur.meshcat.SetTransform(f\"/drake/visualizer/inreg\",\n",
    "                                   RigidTransform(RotationMatrix(),\n",
    "                                                  np.array([0.5,0,0.5])))\n",
    "    \n",
    "    ur.diagram.ForcedPublish(diagram_context)\n",
    "\n",
    "scaler = 1 #np.array([0.8, 1., 0.8, 1, 0.8, 1, 0.8]) #do you even geometry bro?\n",
    "q_min = np.array(q_low)*scaler\n",
    "q_max = np.array(q_high)*scaler\n",
    "q_diff = q_max-q_min\n",
    "\n",
    "def sample_cfree_QPoint(MAXIT=1000):\n",
    "\tit = 0\n",
    "\twhile it<MAXIT:\n",
    "\t\trand = np.random.rand(5)\n",
    "\t\tq_s = q_min + rand*q_diff\n",
    "\t\tcol = False\n",
    "\t\tfor _ in range(10):\n",
    "\t\t\tr  = 0.05*(np.random.rand(5)-0.5)\n",
    "\t\t\tcol |= (col_func_handle(q_s+r) > 0)\n",
    "\t\tif not col:\n",
    "\t\t\treturn q_s #Ratfk.ComputeQValue(q_s, q_star)\n",
    "\t\tit+=1\n",
    "\traise ValueError(\"no col free point found\")\n",
    "\n",
    "idx = 0\n",
    "for slider in sliders:\n",
    "    slider.observe(partial(handle_slider_change, idx = idx), names='value')\n",
    "    idx+=1\n",
    "\n",
    "display(sliders[0])\n",
    "for slider in sliders:\n",
    "    display(slider)"
   ]
  },
  {
   "cell_type": "code",
   "execution_count": null,
   "metadata": {},
   "outputs": [],
   "source": [
    "ur.plant"
   ]
  },
  {
   "cell_type": "code",
   "execution_count": null,
   "metadata": {},
   "outputs": [],
   "source": [
    "points = np.array([sample_cfree_QPoint() for i in range(50)])"
   ]
  },
  {
   "cell_type": "code",
   "execution_count": null,
   "metadata": {},
   "outputs": [],
   "source": [
    "from pydrake.all import VisibilityGraph\n",
    "from pydrake.all import SceneGraphCollisionChecker, CollisionCheckerParams\n"
   ]
  },
  {
   "cell_type": "code",
   "execution_count": null,
   "metadata": {},
   "outputs": [],
   "source": [
    "ccp = CollisionCheckerParams()"
   ]
  },
  {
   "cell_type": "code",
   "execution_count": null,
   "metadata": {},
   "outputs": [],
   "source": [
    "ccp."
   ]
  },
  {
   "cell_type": "code",
   "execution_count": null,
   "metadata": {},
   "outputs": [],
   "source": [
    "VisibilityGraph()"
   ]
  },
  {
   "cell_type": "code",
   "execution_count": null,
   "metadata": {},
   "outputs": [],
   "source": [
    "SceneGraphCollisionChecker(ur.scene_graph, ur.diagram)"
   ]
  },
  {
   "cell_type": "code",
   "execution_count": null,
   "metadata": {},
   "outputs": [],
   "source": [
    "ur.diagram"
   ]
  },
  {
   "cell_type": "code",
   "execution_count": null,
   "metadata": {},
   "outputs": [],
   "source": [
    "q = seed_points[0, :].copy()\n",
    "print(q)"
   ]
  },
  {
   "cell_type": "code",
   "execution_count": 13,
   "metadata": {},
   "outputs": [
    {
     "ename": "NameError",
     "evalue": "name 'regions' is not defined",
     "output_type": "error",
     "traceback": [
      "\u001b[0;31m---------------------------------------------------------------------------\u001b[0m",
      "\u001b[0;31mNameError\u001b[0m                                 Traceback (most recent call last)",
      "\u001b[0;32m/tmp/ipykernel_14984/1677423532.py\u001b[0m in \u001b[0;36m<module>\u001b[0;34m\u001b[0m\n\u001b[1;32m      1\u001b[0m \u001b[0;32mimport\u001b[0m \u001b[0mtime\u001b[0m\u001b[0;34m\u001b[0m\u001b[0;34m\u001b[0m\u001b[0m\n\u001b[0;32m----> 2\u001b[0;31m \u001b[0mcenters\u001b[0m \u001b[0;34m=\u001b[0m \u001b[0;34m[\u001b[0m\u001b[0mr\u001b[0m\u001b[0;34m.\u001b[0m\u001b[0mChebyshevCenter\u001b[0m\u001b[0;34m(\u001b[0m\u001b[0;34m)\u001b[0m \u001b[0;32mfor\u001b[0m \u001b[0mr\u001b[0m \u001b[0;32min\u001b[0m \u001b[0mregions\u001b[0m\u001b[0;34m]\u001b[0m\u001b[0;34m\u001b[0m\u001b[0;34m\u001b[0m\u001b[0m\n\u001b[0m\u001b[1;32m      3\u001b[0m \u001b[0mstart\u001b[0m \u001b[0;34m=\u001b[0m \u001b[0mcenters\u001b[0m\u001b[0;34m[\u001b[0m\u001b[0;36m0\u001b[0m\u001b[0;34m]\u001b[0m\u001b[0;34m\u001b[0m\u001b[0;34m\u001b[0m\u001b[0m\n\u001b[1;32m      4\u001b[0m \u001b[0;32mfor\u001b[0m \u001b[0m_\u001b[0m \u001b[0;32min\u001b[0m \u001b[0mrange\u001b[0m\u001b[0;34m(\u001b[0m\u001b[0;36m50\u001b[0m\u001b[0;34m)\u001b[0m\u001b[0;34m:\u001b[0m\u001b[0;34m\u001b[0m\u001b[0;34m\u001b[0m\u001b[0m\n\u001b[1;32m      5\u001b[0m     \u001b[0;31m#nxt = vs.sample_in_regions() #\u001b[0m\u001b[0;34m\u001b[0m\u001b[0;34m\u001b[0m\u001b[0m\n",
      "\u001b[0;31mNameError\u001b[0m: name 'regions' is not defined"
     ]
    }
   ],
   "source": [
    "import time\n",
    "centers = [r.ChebyshevCenter() for r in regions]\n",
    "start = centers[0]\n",
    "for _ in range(50):\n",
    "    #nxt = vs.sample_in_regions() #\n",
    "    while True:\n",
    "        nxt = sample_cfree_QPoint()#centers[np.random.choice(len(centers))]\n",
    "        plot_endeff_pose(nxt, str(0))\n",
    "        if nxt[0] != start[0]:\n",
    "            break\n",
    "    wp, dist = dspp.solve(start, nxt, refine_path=True)#dijkstra_spp(start, nxt, node_intersections, base_ad_mat, vs.regions, point_conversion, optimize= True)\n",
    "    print(dist)\n",
    "    if dist >0:\n",
    "        dense_waypoints = densify_waypoints(wp)\n",
    "        plot_endeff_traj(dense_waypoints)\n",
    "        for qa in dense_waypoints:\n",
    "            #qa = #Ratfk.ComputeQValue(ta, np.zeros(3))\n",
    "            showres(qa)\n",
    "            if col_func_handle(qa):\n",
    "                print('col')\n",
    "                break\n",
    "            time.sleep(0.002)\n",
    "        start = nxt\n",
    "        time.sleep(0.01)\n",
    "        ur.meshcat.Delete(\"/iris/points/traj/\")\n",
    "        \n",
    "    else:\n",
    "        nxt = centers[np.random.choice(len(centers))]"
   ]
  },
  {
   "cell_type": "code",
   "execution_count": null,
   "metadata": {},
   "outputs": [],
   "source": [
    "plot_endeff_pose(centers[25],'0')\n",
    "plot_endeff_pose(centers[1],'1')\n",
    "\n",
    "\n"
   ]
  },
  {
   "cell_type": "code",
   "execution_count": null,
   "metadata": {},
   "outputs": [],
   "source": [
    "showres(centers[25])"
   ]
  },
  {
   "cell_type": "code",
   "execution_count": null,
   "metadata": {},
   "outputs": [],
   "source": [
    "# poi = []\n",
    "# poi.append(np.array([-0.32743, -0.92743,  0.47257,  0.07257, -0.02743]))\n",
    "# poi.append(np.array([-1.62743, -1.32743,  2.57257, -1.22743, -0.02743]))\n",
    "# poi.append(np.array([-1.62743, -2.02743,  1.67257,  0.37257, -0.02743]))\n",
    "# poi.append(np.array([-1.72743, -1.82743, -2.02743,  0.67257, -0.02743]))\n",
    "# poi.append(np.array([-1.72743, -1.92743,  1.07257, -2.32743, -0.02743]))\n",
    "# poi.append(np.array([-1.72743, -1.32743, -0.92743, -1.02743, -0.02743]))\n",
    "# poi.append(np.array([-1.52743, -2.42743,  0.87257, -1.62743, -0.02743]))\n",
    "# poi.append(np.array([-2.12743, -0.52743, -1.92743,  2.47257, -1.02743]))"
   ]
  },
  {
   "cell_type": "code",
   "execution_count": null,
   "metadata": {},
   "outputs": [],
   "source": [
    "dspp.solve(centers[25], centers[24], refine_path=True)"
   ]
  },
  {
   "cell_type": "code",
   "execution_count": null,
   "metadata": {},
   "outputs": [],
   "source": [
    "snopt_iris_options = IrisOptions()\n",
    "snopt_iris_options.require_sample_point_is_contained = True\n",
    "snopt_iris_options.iteration_limit = 8\n",
    "snopt_iris_options.configuration_space_margin = 1.5e-3\n",
    "#snopt_iris_options.max_faces_per_collision_pair = 60\n",
    "snopt_iris_options.termination_threshold = -1\n",
    "#snopt_iris_options.q_star = np.zeros(3)\n",
    "snopt_iris_options.num_collision_infeasible_samples = 15\n",
    "snopt_iris_options.relative_termination_threshold = 0.02\n",
    "\n",
    "def SNOPT_IRIS(q_seeds,  region_obstacles, logger, plant, context, snoptiris_options):\n",
    "\tregions = []\n",
    "\tfor reg_indx, q_seed in enumerate(q_seeds):\n",
    "\t\t#q_seed = Ratforwardkin.ComputeQValue(s_seed.reshape(-1,1), np.zeros((7,1)))\n",
    "\t\t#print('snopt iris call')\n",
    "\t\tsnoptiris_options.configuration_obstacles = []\n",
    "\t\tif len(region_obstacles):\n",
    "\t\t\tsnoptiris_options.configuration_obstacles = region_obstacles\n",
    "\t\tplant.SetPositions(plant.GetMyMutableContextFromRoot(context), q_seed.reshape(-1,1))\n",
    "\t\ttry:\n",
    "\t\t\t#r = IrisInRationalConfigurationSpace(plant, plant.GetMyContextFromRoot(context), q_star, snoptiris_options)\n",
    "\t\t\tr = IrisInConfigurationSpace(plant, plant_context, snoptiris_options)\n",
    "\t\t\tr_red = r.ReduceInequalities()\n",
    "\t\t\tprint(f\"[SNOPT IRIS]: Region:{reg_indx} / {len(q_seeds)}\")\n",
    "\t\t\t#run the certifier\n",
    "\t\t\t# cert = cspace_free_polytope.BinarySearch(set(),\n",
    "\t\t\t# \t\t\t\t\t\t\t\tr.A(),\n",
    "\t\t\t# \t\t\t\t\t\t\t\tr.b(), \n",
    "\t\t\t# \t\t\t\t\t\t\t\tnp.array(s_seed),\n",
    "\t\t\t# \t\t\t\t\t\t\t\tbinary_search_options)\n",
    "\t\t\tif logger is not None: logger.log_region(r_red)\n",
    "\t\t\t# r = cert.certified_polytope\n",
    "\t\t\tregions.append(r_red)\n",
    "\t\texcept:\n",
    "\t\t\tprint(\"error, SNOPT IRIS FAILED\")\n",
    "\treturn regions\n",
    "\n",
    "SNOPT_IRIS_Handle = partial(SNOPT_IRIS,\n",
    "                            plant = ur.plant,\n",
    "                            context = diagram_context,\n",
    "                            snoptiris_options = snopt_iris_options,\n",
    "\t\t\t    \t\t\t#binary_search_options = binary_search_options,\n",
    "                            #Ratforwardkin = Ratfk,\n",
    "                            )"
   ]
  },
  {
   "cell_type": "code",
   "execution_count": null,
   "metadata": {},
   "outputs": [],
   "source": [
    "#setup visibility seeding helpers\n",
    "from visibility_utils import point_in_regions\n",
    "from tqdm import tqdm\n",
    "from scipy.sparse import lil_matrix\n",
    "\n",
    "scaler = 1 #np.array([0.8, 1., 0.8, 1, 0.8, 1, 0.8]) #do you even geometry bro?\n",
    "q_min = np.array(q_low)*scaler\n",
    "q_max = np.array(q_high)*scaler\n",
    "q_diff = q_max-q_min\n",
    "\n",
    "alpha = 0.05\n",
    "eps = 0.25\n",
    "N = 1000\n",
    "seed = 1\n",
    "np.random.seed(seed)\n",
    "\n",
    "def estimate_coverage(regions, pts = 3000):\n",
    "\tpts_ = [sample_cfree_QPoint() for _ in range(pts)]\n",
    "\tinreg = 0\n",
    "\tfor pt in pts_:\n",
    "\t\tif point_in_regions(pt, regions): inreg+=1\n",
    "\treturn inreg/pts\n",
    "\n",
    "def sample_cfree_QPoint(MAXIT=1000):\n",
    "\tit = 0\n",
    "\twhile it<MAXIT:\n",
    "\t\trand = np.random.rand(5)\n",
    "\t\tq_s = q_min + rand*q_diff\n",
    "\t\tcol = False\n",
    "\t\tfor _ in range(10):\n",
    "\t\t\tr  = 0.05*(np.random.rand(5)-0.5)\n",
    "\t\t\tcol |= (col_func_handle(q_s+r) > 0)\n",
    "\t\tif not col:\n",
    "\t\t\treturn q_s #Ratfk.ComputeQValue(q_s, q_star)\n",
    "\t\tit+=1\n",
    "\traise ValueError(\"no col free point found\")\n",
    "\n",
    "def sample_cfree_QPoint_in_regions(regions):\n",
    "\tfor _ in range(1000):\n",
    "\t\tpt = sample_cfree_QPoint()\n",
    "\t\tif point_in_regions(pt, regions): return pt\n",
    "\treturn None\n",
    "\n",
    "def sample_cfree_handle(n, m, regions=None):\n",
    "\t\tpoints = np.zeros((n,5))\n",
    "\t\tif regions is None: regions = []\t\t\n",
    "\t\tfor i in range(n):\n",
    "\t\t\tbt_tries = 0\n",
    "\t\t\twhile bt_tries<m:\n",
    "\t\t\t\tpoint = sample_cfree_QPoint()\n",
    "\t\t\t\tcol = False\n",
    "\t\t\t\tfor _ in range(10):\n",
    "\t\t\t\t\tr  = 0.05*(np.random.rand(5)-0.5)\n",
    "\t\t\t\t\tcol |= point_in_regions(point+r, regions)\n",
    "\t\t\t\tif col:\n",
    "\t\t\t\t\tbt_tries += 1\n",
    "\t\t\t\t\tif bt_tries == m:\n",
    "\t\t\t\t\t\treturn points, True \n",
    "\t\t\t\telse:\n",
    "\t\t\t\t\tbreak\n",
    "\t\t\tpoints[i] = point\n",
    "\t\treturn points, False\n",
    "\n",
    "# def visSSpace(t1, t2, regions, num_checks, visualizer):\n",
    "# \tt1flat = t1.reshape(-1)\n",
    "# \tt2flat = t2.reshape(-1)\n",
    "# \tif np.linalg.norm(t1-t2) < 1e-6:\n",
    "# \t\treturn (1-col_func_handle(Ratfk.ComputeQValue(t1flat, q_star)))>0\n",
    "\t\t\t\t\n",
    "# \ttvec = np.linspace(0,1, num_checks)\n",
    "# \tfor t in tvec:\n",
    "# \t\ttinterp = t1flat*t + (1-t)*t2flat\n",
    "# \t\tif col_func_handle(Ratfk.ComputeQValue(tinterp, q_star)):\n",
    "# \t\t\treturn False\n",
    "# \t\telif point_in_regions(tinterp, regions):\n",
    "# \t\t\treturn False\n",
    "# \telse:\n",
    "# \t\treturn True\n",
    "\n",
    "def vis(q1, q2, regions, num_checks):\n",
    "\tq1flat = q1.reshape(-1)\n",
    "\tq2flat = q2.reshape(-1)\n",
    "\tif np.linalg.norm(q1-q2) < 1e-6:\n",
    "\t\treturn (1-col_func_handle(q1))>0\n",
    "\t\t\t\t\n",
    "\ttvec = np.linspace(0,1, num_checks)\n",
    "\tfor t in tvec:\n",
    "\t\tqinterp = q1flat*t + (1-t)*q2flat\n",
    "\t\tif col_func_handle(qinterp):\n",
    "\t\t\treturn False\n",
    "\t\telif point_in_regions(qinterp, regions):\n",
    "\t\t\treturn False\n",
    "\telse:\n",
    "\t\treturn True\n",
    "    \n",
    "visibility_checker = partial(vis, num_checks = 80)\n",
    "\n",
    "def vgraph_builder(points, regions):\n",
    "\tn = len(points)\n",
    "\tadj_mat = lil_matrix((n,n))\n",
    "\tfor i in tqdm(range(n)):\n",
    "\t\tpoint = points[i, :]\n",
    "\t\tfor j in range(len(points[:i])):\n",
    "\t\t\tother = points[j]\n",
    "\t\t\tresult = visibility_checker(point, other, regions)\n",
    "\t\t\t#print(result)\n",
    "\t\t\tif result:\n",
    "\t\t\t\tadj_mat[i,j] = adj_mat[j,i] = 1\n",
    "\treturn adj_mat"
   ]
  },
  {
   "cell_type": "code",
   "execution_count": null,
   "metadata": {},
   "outputs": [],
   "source": [
    "from doublegreedyhiddenset import HiddensetDoubleGreedy\n",
    "\n",
    "dg = HiddensetDoubleGreedy(\n",
    "    alpha=alpha,\n",
    "    eps = 0.01,\n",
    "    max_samples = 100000,\n",
    "    sample_node_handle=sample_cfree_handle,\n",
    "    los_handle=visibility_checker,\n",
    "    verbose=True\n",
    ")"
   ]
  },
  {
   "cell_type": "code",
   "execution_count": null,
   "metadata": {},
   "outputs": [],
   "source": [
    "dg.construct_independent_set([])\n"
   ]
  },
  {
   "cell_type": "code",
   "execution_count": null,
   "metadata": {},
   "outputs": [],
   "source": [
    "dg.refine_independent_set_greedy([])"
   ]
  },
  {
   "cell_type": "code",
   "execution_count": null,
   "metadata": {},
   "outputs": [],
   "source": [
    "from visibility_seeding import VisSeeder\n",
    "from visibility_logging import Logger\n",
    "import os\n",
    "LOAD_CHKPT = True\n",
    "\n",
    "if not LOAD_CHKPT:\n",
    "    logger = Logger(\"5DOf_ur\", seed, N, alpha, eps, estimate_coverage)\n",
    "    VS = VisSeeder(N = N,\n",
    "                alpha = alpha,\n",
    "                eps = eps,\n",
    "                max_iterations = 10,\n",
    "                sample_cfree = sample_cfree_handle,\n",
    "                build_vgraph = vgraph_builder,\n",
    "                iris_w_obstacles = SNOPT_IRIS_Handle,\n",
    "                verbose = True,\n",
    "                logger = logger\n",
    "                )\n",
    "    out = VS.run()\n",
    "else:\n",
    "    pass\n",
    "    #exp_name = \"7DOf_shelves_20230617114513_1_1000_0.050_0.200\"\n",
    "    #poly_names = os.listdir(\"logs/\"+exp_name+\"/regions\")"
   ]
  },
  {
   "cell_type": "code",
   "execution_count": null,
   "metadata": {},
   "outputs": [],
   "source": [
    "# r_poi = SNOPT_IRIS_Handle(poi, [], None)\n",
    "# import pickle\n",
    "# with open('r_poi_UR5_19.pkl', 'wb') as f:\n",
    "#     d = {'ra': [r.A() for r in r_poi], 'rb': [r.b() for r in r_poi]}\n",
    "#     pickle.dump(d, f)"
   ]
  },
  {
   "cell_type": "code",
   "execution_count": null,
   "metadata": {},
   "outputs": [],
   "source": [
    "for p in poi:\n",
    "    print(point_in_regions(p, VS.regions))"
   ]
  },
  {
   "cell_type": "code",
   "execution_count": null,
   "metadata": {},
   "outputs": [],
   "source": [
    "# r_poi = SNOPT_IRIS_Handle(poi, [], None) "
   ]
  },
  {
   "cell_type": "code",
   "execution_count": null,
   "metadata": {},
   "outputs": [],
   "source": [
    "import pickle\n",
    "with open('r_poi_UR5.pkl', 'wb') as f:\n",
    "    d = {'ra': [r.A() for r in r_poi], 'rb': [r.b() for r in r_poi]}\n",
    "    pickle.dump(d, f)"
   ]
  },
  {
   "cell_type": "code",
   "execution_count": null,
   "metadata": {},
   "outputs": [],
   "source": [
    "import pickle\n",
    "with open('r_poi_UR5.pkl', 'rb') as f:\n",
    "   data = pickle.load(f)\n",
    "\n",
    "r_poi = []\n",
    "for a,b in zip(data['ra'], data['rb']):\n",
    "   r_poi.append(HPolyhedron(a,b))"
   ]
  },
  {
   "cell_type": "code",
   "execution_count": null,
   "metadata": {},
   "outputs": [],
   "source": [
    "import pickle\n",
    "import networkx as nx\n",
    "from visibility_utils import generate_distinct_colors\n",
    "import matplotlib.pyplot as plt\n",
    "import os\n",
    "exp_name = \"5DOf_ur_20230628191053_5_1000_0.050_0.250\"\n",
    "poly_names = os.listdir(\"logs/\"+exp_name+\"/regions\")\n",
    "data_chkpts = os.listdir(\"logs/\"+exp_name+\"/data\")\n",
    "poly_names.sort()\n",
    "data_chkpts.sort()\n",
    "regions = []\n",
    "for p in poly_names:\n",
    "    with open(\"logs/\"+exp_name+\"/regions/\"+p, 'rb') as f:\n",
    "        d = pickle.load(f)\n",
    "    regions.append(HPolyhedron(d['ra'], d['rb']))\n",
    "\n",
    "with open(\"logs/\"+exp_name+\"/data/\"+data_chkpts[-1], 'rb') as f:\n",
    "    d = pickle.load(f)\n",
    "\n",
    "r_poi = []\n",
    "with open(\"r_poi_UR5_19.pkl\", 'rb') as f:\n",
    "    drpoi = pickle.load(f)\n",
    "    for A,b in zip(drpoi['ra'], drpoi['rb']):\n",
    "        r_poi.append(HPolyhedron(A,b))\n",
    "\n",
    "region_groups_sizes = [len(g) for g in d['rb']]\n",
    "len_reg = np.sum(region_groups_sizes) \n",
    "region_groups_sizes.append(len(regions)-len_reg)\n",
    "region_groups = []\n",
    "idx = 0\n",
    "for s in region_groups_sizes:\n",
    "    grp = []\n",
    "    for i in range(s):\n",
    "        grp.append(regions[i+idx])\n",
    "    idx+=len(grp)\n",
    "    region_groups.append(grp)\n",
    "\n",
    "regions+=r_poi\n",
    "region_groups.append(r_poi)\n",
    "connectivity_graph = nx.Graph()\n",
    "for idx in range(len(regions)):\n",
    "    connectivity_graph.add_node(idx)\n",
    "    \n",
    "for idx1 in range(len(regions)):\n",
    "    for idx2 in range(idx1 +1, len(regions)):\n",
    "        r1 = regions[idx1]\n",
    "        r2 = regions[idx2]\n",
    "        if r1.IntersectsWith(r2):\n",
    "            connectivity_graph.add_edge(idx1,idx2)\n",
    "\n",
    "fig = plt.figure(figsize=(10,10))\n",
    "hues = generate_distinct_colors(len(region_groups)+1)[1:]\n",
    "colors = []\n",
    "for g, h in zip(region_groups, hues):\n",
    "    colors += [h]*len(g)\n",
    "\n",
    "nx.draw_spring(connectivity_graph, \n",
    "                with_labels = True, \n",
    "                node_color = colors)\n",
    "plt.show()"
   ]
  },
  {
   "cell_type": "code",
   "execution_count": null,
   "metadata": {},
   "outputs": [],
   "source": [
    "for p in poi:\n",
    "    print(point_in_regions(p, regions))"
   ]
  },
  {
   "cell_type": "code",
   "execution_count": null,
   "metadata": {},
   "outputs": [],
   "source": [
    "#from pydrake.all import Box, GetVertices\n",
    "query = ur.scene_graph.get_query_output_port().Eval(ur.scene_graph.GetMyContextFromRoot(diagram_context))\n",
    "inspector = query.inspector()\n",
    "a = inspector.GetCollisionCandidates()\n",
    "geomids= []\n",
    "for b, c in a:\n",
    "    geomids.append(b)\n",
    "    geomids.append(c)\n",
    "ids = list(set(inspector.GetAllGeometryIds()))\n",
    "frame_id_dict = {}\n",
    "for idx in range(len(ids)):\n",
    "    #print(idx, plant.GetBodyFromFrameId(inspector.GetFrameId(ids[idx])))\n",
    "    if ur.plant.GetBodyFromFrameId(inspector.GetFrameId(ids[idx])).name() =='body':\n",
    "        frame_id_dict['body'] = ids[idx]\n",
    "    if ur.plant.GetBodyFromFrameId(inspector.GetFrameId(ids[idx])).name() =='left_finger':\n",
    "        frame_id_dict['left_finger'] = ids[idx]\n",
    "    if ur.plant.GetBodyFromFrameId(inspector.GetFrameId(ids[idx])).name() =='right_finger':\n",
    "        frame_id_dict['right_finger'] = ids[idx]\n",
    "    if ur.plant.GetBodyFromFrameId(inspector.GetFrameId(ids[idx])).name() =='ur_wrist_3_link':\n",
    "        frame_id_dict['ur_wrist_3_link'] = ids[idx]\n",
    "    if ur.plant.GetBodyFromFrameId(inspector.GetFrameId(ids[idx])).name() =='ur_wrist_2_link':\n",
    "        frame_id_dict['ur_wrist_2_link'] = ids[idx]\n",
    "\n",
    "print(frame_id_dict)\n",
    "geom_ids = [inspector.GetGeometries(inspector.GetFrameId(frame_id_dict[k]))[0] for k in ['ur_wrist_2_link','ur_wrist_3_link','body', 'left_finger', 'right_finger']]\n",
    "\n",
    "sh_frames = [6,7, 11,12,13]\n",
    "sh_geom = [inspector.GetShape(id) for id in geom_ids] \n",
    "sh_names = ['ur_wrist_2_link','ur_wrist_3_link', 'box', 'l','r']\n",
    "\n",
    "def plot_endeff_pose(q2, name = '', color = Rgba(1,1,0.1,0.8)):\n",
    "    ur.plant.SetPositions(plant_context, q2)\n",
    "    tfs = [ur.plant.EvalBodyPoseInWorld(plant_context, ur.plant.get_body(pydrake.multibody.tree.BodyIndex(fr))) for fr in sh_frames]\n",
    "    for n, f, geom in zip(sh_names, tfs, sh_geom):\n",
    "        #print(n,f,geom)\n",
    "        ur.meshcat.SetObject(\"/iris/shunk/\"+name+\"/\"+n,\n",
    "                                geom,\n",
    "                                color)\n",
    "        ur.meshcat.SetTransform(\"/iris/shunk/\"+name+\"/\"+n, f)\n",
    "# for i,p in enumerate(poi):\n",
    "#     plot_endeff_pose(p, str(i))"
   ]
  },
  {
   "cell_type": "code",
   "execution_count": null,
   "metadata": {},
   "outputs": [],
   "source": [
    "for i in ids:\n",
    "    #print(ur.plant.GetBodyFromFrameId(inspector.GetFrameId(i)).name())\n",
    "    print(inspector.GetFrameId(i), ur.plant.GetBodyFromFrameId(inspector.GetFrameId(i)).name())"
   ]
  },
  {
   "cell_type": "code",
   "execution_count": null,
   "metadata": {},
   "outputs": [],
   "source": []
  },
  {
   "cell_type": "code",
   "execution_count": null,
   "metadata": {},
   "outputs": [],
   "source": [
    "plot_endeff_pose(centers[0])"
   ]
  },
  {
   "cell_type": "code",
   "execution_count": null,
   "metadata": {},
   "outputs": [],
   "source": [
    "for i in range(15):\n",
    "    print(ur.plant.get_body(pydrake.multibody.tree.BodyIndex(i)))"
   ]
  },
  {
   "cell_type": "code",
   "execution_count": null,
   "metadata": {},
   "outputs": [],
   "source": [
    "def densify_waypoints(waypoints_q):\n",
    "    densify = 200\n",
    "    dists = []\n",
    "    dense_waypoints = []\n",
    "    for idx in range(len(waypoints_q[:-1])):\n",
    "        a = waypoints_q[idx]\n",
    "        b = waypoints_q[idx+1]\n",
    "        t = np.linspace(1,0, 10)\n",
    "        locs_endeff = []\n",
    "        dists_endeff = []\n",
    "        for tval in t:\n",
    "            a = a*tval + b*(1-tval)\n",
    "            qa = a#Ratfk.ComputeQValue(ta, np.zeros(7))\n",
    "            #showres(qa)\n",
    "            #time.sleep(0.1)            \n",
    "            ur.plant.SetPositions(plant_context, qa)\n",
    "            tf_tot= ur.plant.EvalBodyPoseInWorld(plant_context, ur.plant.get_body(pydrake.multibody.tree.BodyIndex(11)))\n",
    "            tf = tf_tot.translation() + tf_tot.GetAsMatrix4()[:3,:3][:,1] *0.15\n",
    "            locs_endeff.append(tf)\n",
    "        for i in range(len(locs_endeff)-1):\n",
    "            dists_endeff.append(np.linalg.norm(locs_endeff[i]- locs_endeff[i+1]))\n",
    "        d = np.sum(dists_endeff)\n",
    "        #print(d * densify)\n",
    "        t = np.linspace(1,0,int(densify*d))\n",
    "        for tval in t:\n",
    "            dense_waypoints.append(waypoints_q[idx]*tval + waypoints_q[idx+1]*(1-tval))\n",
    "    return dense_waypoints\n",
    "\n",
    "def plot_endeff_traj(dense_waypoints):\n",
    "    color = Rgba(1,0,0,1.0)\n",
    "    start_idx = 0\n",
    "    for i, qa in enumerate(dense_waypoints):\n",
    "        #qa = Ratfk.ComputeQValue(ta, np.zeros(7))\n",
    "        #showres(qa)\n",
    "        #time.sleep(0.1)            \n",
    "        ur.plant.SetPositions(plant_context, qa)\n",
    "        tf_tot= ur.plant.EvalBodyPoseInWorld(plant_context, ur.plant.get_body(pydrake.multibody.tree.BodyIndex(11)))\n",
    "        tf = tf_tot.translation() + tf_tot.GetAsMatrix4()[:3,:3][:,1] *0.15\n",
    "\n",
    "        ur.meshcat.SetObject(f\"/iris/points/traj/{i+start_idx}\",\n",
    "                               Sphere(0.005),\n",
    "                               color)\n",
    "\n",
    "        ur.meshcat.SetTransform(f\"/iris/points/traj/{i+start_idx}\",\n",
    "                                   RigidTransform(RotationMatrix(),\n",
    "                                                  tf))"
   ]
  },
  {
   "cell_type": "code",
   "execution_count": null,
   "metadata": {},
   "outputs": [],
   "source": [
    "def conversion_dummy(q):\n",
    "    return q\n",
    "import dijkstraspp\n",
    "dspp = dijkstraspp.DijkstraSPPsolver(regions, conversion_dummy)"
   ]
  },
  {
   "cell_type": "code",
   "execution_count": null,
   "metadata": {},
   "outputs": [],
   "source": [
    "# import pickle \n",
    "\n",
    "# with open('logs/5DOf_ur_20230619092515_1_1000_0.050_0.250/5DOf_ur_20230619092515_1_1000_0.050_0.250dspp.pkl', 'rb') as f:\n",
    "#     a = pickle.load(f)\n",
    "\n",
    "# dspp = a['dspp']"
   ]
  },
  {
   "cell_type": "code",
   "execution_count": null,
   "metadata": {},
   "outputs": [],
   "source": [
    "import time\n",
    "\n",
    "start = poi[np.random.choice(8)]\n",
    "for _ in range(50):\n",
    "    #nxt = vs.sample_in_regions() #\n",
    "    while True:\n",
    "        nxt = poi[np.random.choice(8)]\n",
    "        plot_endeff_pose(nxt, str(0))\n",
    "        if nxt[0] != start[0]:\n",
    "            break\n",
    "    wp, dist = dspp.solve(start, nxt, refine_path=True)#dijkstra_spp(start, nxt, node_intersections, base_ad_mat, vs.regions, point_conversion, optimize= True)\n",
    "    print(dist)\n",
    "    if dist >0:\n",
    "        dense_waypoints = densify_waypoints(wp)\n",
    "        plot_endeff_traj(dense_waypoints)\n",
    "        for qa in dense_waypoints:\n",
    "            #qa = #Ratfk.ComputeQValue(ta, np.zeros(3))\n",
    "            showres(qa)\n",
    "            #if col_func_handle(qa):\n",
    "            #print(col)\n",
    "            #break\n",
    "            time.sleep(0.01)\n",
    "        start = nxt\n",
    "        time.sleep(0.01)\n",
    "        ur.meshcat.Delete(\"/iris/points/traj/\")\n",
    "        \n",
    "    else:\n",
    "        nxt = poi[np.random.choice(8)]"
   ]
  },
  {
   "cell_type": "code",
   "execution_count": null,
   "metadata": {},
   "outputs": [],
   "source": [
    "### estimate overlapping region volume\n",
    "coverage = estimate_coverage(regions, pts = 5000)\n",
    "\n",
    "\n",
    "\n"
   ]
  },
  {
   "cell_type": "code",
   "execution_count": null,
   "metadata": {},
   "outputs": [],
   "source": [
    "def point_in_regions_multi(pt, regions):\n",
    "    nr_sets =0\n",
    "    for r in regions:\n",
    "        if r.PointInSet(pt.reshape(-1,1)):\n",
    "            nr_sets+=1\n",
    "    return nr_sets    \n",
    "\n",
    "npts = 5000\n",
    "pts_ = [sample_cfree_QPoint() for _ in range(npts)]\n",
    "inreg = 0\n",
    "inreg_mult = []\n",
    "for pt in pts_:\n",
    "    nr = point_in_regions_multi(pt, regions)\n",
    "    if nr>0: \n",
    "        inreg+=1\n",
    "        inreg_mult.append(nr)\n"
   ]
  },
  {
   "cell_type": "code",
   "execution_count": null,
   "metadata": {},
   "outputs": [],
   "source": [
    "print('coverage est ',  inreg/npts)\n",
    "mult = 0\n",
    "for i in  inreg_mult:\n",
    "    if i>1:\n",
    "        mult+=1\n",
    "print('multicoverage fraction est ', mult/npts)"
   ]
  },
  {
   "cell_type": "code",
   "execution_count": null,
   "metadata": {},
   "outputs": [],
   "source": [
    "coverage"
   ]
  },
  {
   "cell_type": "code",
   "execution_count": null,
   "metadata": {},
   "outputs": [],
   "source": [
    "connectivity_graph = nx.Graph()\n",
    "for idx in range(len(regions)):\n",
    "    connectivity_graph.add_node(idx)\n",
    "    \n",
    "for idx1 in range(len(regions)):\n",
    "    for idx2 in range(idx1 +1, len(regions)):\n",
    "        r1 = regions[idx1]\n",
    "        r2 = regions[idx2]\n",
    "        if r1.IntersectsWith(r2):\n",
    "            connectivity_graph.add_edge(idx1,idx2)\n",
    "\n",
    "fig = plt.figure(figsize=(10,10))\n",
    "hues = generate_distinct_colors(len(region_groups)+1)[1:]\n",
    "colors = []\n",
    "for g, h in zip(region_groups, hues):\n",
    "    colors += [h]*len(g)\n",
    "\n",
    "nx.draw_spring(connectivity_graph, \n",
    "                with_labels = True, \n",
    "                node_color = colors)\n",
    "plt.show()"
   ]
  },
  {
   "cell_type": "code",
   "execution_count": null,
   "metadata": {},
   "outputs": [],
   "source": [
    "len(connectivity_graph.edges)"
   ]
  },
  {
   "cell_type": "code",
   "execution_count": null,
   "metadata": {},
   "outputs": [],
   "source": [
    "coords = [2,3,4]\n",
    "\n",
    "q_low_vis = (np.array(ur.plant.GetPositionLowerLimits())[coords]).tolist()\n",
    "q_high_vis = (np.array(ur.plant.GetPositionUpperLimits())[coords]).tolist()\n",
    "#coordinates of q0 that are not in coords list are the ones we project onto \n",
    "q0 = np.array([0.0,-0.2,0,0,0])\n",
    "\n"
   ]
  },
  {
   "cell_type": "code",
   "execution_count": null,
   "metadata": {},
   "outputs": [],
   "source": [
    "from  pydrake.all import StartMeshcat, DiagramBuilder, AddMultibodyPlantSceneGraph, MeshcatVisualizer\n",
    "\n",
    "meshcat2 = StartMeshcat()\n",
    "builder2 = DiagramBuilder()\n",
    "plant2, scene_graph2 = AddMultibodyPlantSceneGraph(builder2, time_step=0.0)\n",
    "vis2 = MeshcatVisualizer.AddToBuilder(builder2, scene_graph2, meshcat2)"
   ]
  },
  {
   "cell_type": "code",
   "execution_count": null,
   "metadata": {},
   "outputs": [],
   "source": [
    "import old_vis_utils as viz_utils\n",
    "import mcubes\n",
    "from pydrake.all import  StartMeshcat, MeshcatVisualizer, DiagramBuilder, \\\n",
    "    AddMultibodyPlantSceneGraph, TriangleSurfaceMesh, Rgba, SurfaceTriangle, Sphere\n",
    "\n",
    "def transfrom_regions(regions, q_proj, dof_coords):\n",
    "    small_regs = []\n",
    "    for r in regions:\n",
    "        A_new = r.A()[:,dof_coords]\n",
    "        c_dofs = []\n",
    "        for i in range(5):\n",
    "            if i not in dof_coords:\n",
    "                c_dofs.append(i)\n",
    "        A_const = r.A()[:, c_dofs]  \n",
    "        b_new = r.b() - A_const@q_proj[c_dofs]\n",
    "        #check if region is empty\n",
    "        rn = HPolyhedron(A_new, b_new)\n",
    "        if not rn.IsEmpty():\n",
    "            small_regs.append(rn)\n",
    "        else:\n",
    "            print(\"projected region is empty\")\n",
    "    return small_regs\n",
    "\n",
    "def plot_regions(regions, ellipses = None,\n",
    "                     region_suffix = '', colors = None,\n",
    "                     wireframe = False,\n",
    "                     opacity = 0.7,\n",
    "                     fill = True,\n",
    "                     line_width = 10,\n",
    "                     darken_factor = .2,\n",
    "                     el_opacity = 0.3):\n",
    "        if colors is None:\n",
    "            colors = viz_utils.n_colors_random(len(regions), rgbs_ret=True)\n",
    "\n",
    "        for i, region in enumerate(regions):\n",
    "            c = Rgba(*[col/255 for col in colors[i]],opacity)\n",
    "            prefix = f\"/iris/regions{region_suffix}/{i}\"\n",
    "            name = prefix + \"/hpoly\"\n",
    "            if region.ambient_dimension() == 3:\n",
    "                plot_hpoly3d(name, region,\n",
    "                                  c, wireframe = wireframe, resolution = 50)\n",
    "\n",
    "def get_plot_poly_mesh(region, resolution):\n",
    "\n",
    "        def inpolycheck(q0, q1, q2, A, b):\n",
    "            q = np.array([q0, q1, q2])\n",
    "            res = np.min(1.0 * (A @ q - b <= 0))\n",
    "            # print(res)\n",
    "            return res\n",
    "\n",
    "        aabb_max, aabb_min = viz_utils.get_AABB_limits(region)\n",
    "\n",
    "        col_hand = partial(inpolycheck, A=region.A(), b=region.b())\n",
    "        vertices, triangles = mcubes.marching_cubes_func(tuple(aabb_min),\n",
    "                                                         tuple(aabb_max),\n",
    "                                                         resolution,\n",
    "                                                         resolution,\n",
    "                                                         resolution,\n",
    "                                                         col_hand,\n",
    "                                                         0.5)\n",
    "        tri_drake = [SurfaceTriangle(*t) for t in triangles]\n",
    "        return vertices, tri_drake\n",
    "\n",
    "def plot_hpoly3d( name, hpoly, color, wireframe = True, resolution = 30):\n",
    "        verts, triangles = get_plot_poly_mesh(hpoly,\n",
    "                                                   resolution=resolution)\n",
    "        meshcat2.SetObject(name, TriangleSurfaceMesh(triangles, verts),\n",
    "                                color, wireframe=wireframe)"
   ]
  },
  {
   "cell_type": "code",
   "execution_count": null,
   "metadata": {},
   "outputs": [],
   "source": [
    "def col_func_handle_vis(qv0,qv1,qv2):\n",
    "    q_eval = q0.copy()\n",
    "    q_eval[coords] = np.array([qv0,qv1,qv2])\n",
    "    return col_func_handle(q_eval)\n",
    "\n",
    "col_shunk_col =  Rgba(0.8, 0.0, 0, 0.5)    \n",
    "col_shunk_free =  Rgba(0.0, 0.8, 0.5, 0.5)   \n",
    "\n",
    "\n",
    "def showres_viz(qv):\n",
    "    #print(q2)\n",
    "    \n",
    "    ur.plant.SetPositions(plant_context, qv) #GetJointByName(f\"iiwa_joint_{joint_idx}\").set_angle(plant_context, q2[joint_idx-1])\n",
    "    col = col_func_handle(qv)\n",
    "    color = Rgba(1, 0.72, 0, 1) if col else Rgba(0.24, 1, 0, 1)\n",
    "    shunk = ur.plant.get_body(pydrake.multibody.tree.BodyIndex(11))\n",
    "    tf_tot = shunk.EvalPoseInWorld(plant_context)\n",
    "    tf = tf_tot.translation()\n",
    "    #diagram.Publish(context)\n",
    "    #self.visualize_planes(idx_list)\n",
    "    #don't change this order\n",
    "    meshcat2.SetObject(f\"/s\",\n",
    "                            Sphere(0.05),\n",
    "                            color)\n",
    "    meshcat2.SetTransform(f\"/s\",\n",
    "                                RigidTransform(RotationMatrix(),\n",
    "                                                qv[coords]))\n",
    "    \n",
    "    if col:\n",
    "        ur.meshcat.SetObject(f\"/drake/visualizer/shunk\",\n",
    "                                   Sphere(0.05),\n",
    "                                   col_shunk_col)\n",
    "    else:\n",
    "        ur.meshcat.SetObject(f\"/drake/visualizer/shunk\",\n",
    "                                   Sphere(0.05),\n",
    "                                   col_shunk_free)\n",
    "    ur.meshcat.SetTransform(f\"/drake/visualizer/shunk\",\n",
    "                                   RigidTransform(RotationMatrix(),\n",
    "                                                  tf))\n",
    "    \n",
    "    ur.diagram.ForcedPublish(diagram_context)\n",
    "\n",
    "def visualize_collision_constraint(vis2, N = 50, factor = 1, iso_surface = 0.5, wireframe = True):\n",
    "        \"\"\"\n",
    "        :param N: N is density of marchingcubes grid. Runtime scales cubically in N\n",
    "        :return:\n",
    "        \"\"\"\n",
    "\n",
    "        vertices, triangles = mcubes.marching_cubes_func(tuple(factor*q_low_vis),\n",
    "                                                         tuple(factor*q_high_vis),\n",
    "                                                         N, N, N, col_func_handle_vis, iso_surface)\n",
    "        tri_drake = [SurfaceTriangle(*t) for t in triangles]\n",
    "        meshcat2.SetObject(\"/collision_constraint\",\n",
    "                                      TriangleSurfaceMesh(tri_drake, vertices),\n",
    "                                      Rgba(1, 0, 0, 0.5), wireframe=wireframe)\n",
    "        return tri_drake, vertices\n",
    "tri, v = visualize_collision_constraint(vis2, N=40)"
   ]
  },
  {
   "cell_type": "code",
   "execution_count": null,
   "metadata": {},
   "outputs": [],
   "source": []
  },
  {
   "cell_type": "code",
   "execution_count": null,
   "metadata": {},
   "outputs": [],
   "source": [
    "r_s = transfrom_regions(regions, q0, coords)\n",
    "plot_regions(r_s)"
   ]
  },
  {
   "cell_type": "code",
   "execution_count": null,
   "metadata": {},
   "outputs": [],
   "source": [
    "\n",
    "sliders2 = []\n",
    "for joint_id in coords:\n",
    "    print(coords)\n",
    "    joint_idx = joint_id + 1\n",
    "    sliders2.append(\n",
    "        widgets.FloatSlider(\n",
    "        min= np.array(ur.plant.GetPositionLowerLimits())[joint_id],##plant.GetJointByName(f\"iiwa_joint_{joint_idx}\").position_lower_limit(), \n",
    "        max= np.array(ur.plant.GetPositionUpperLimits())[joint_id],#plant.GetJointByName(f\"iiwa_joint_{joint_idx}\").position_upper_limit(), \n",
    "        value=0, \n",
    "        description=f'ur_joint_{joint_idx}'\n",
    "        )\n",
    "    )\n",
    "\n",
    "q2 = 1.0*q0.copy()\n",
    "\n",
    "def handle_slider_change_viz(change, idx):\n",
    "    idch = coords[idx]\n",
    "    q2[idch] = change['new']\n",
    "    print(q2[coords[idx]])\n",
    "    showres_viz(q2)\n",
    "    \n",
    "idx = 0\n",
    "for s in sliders2:\n",
    "    s.observe(partial(handle_slider_change_viz, idx = idx), names='value')\n",
    "    idx+=1\n",
    "\n",
    "for s in sliders2:\n",
    "    display(s)\n",
    "    #-0.87237632  1.21614163 -1.68963116"
   ]
  },
  {
   "cell_type": "code",
   "execution_count": null,
   "metadata": {},
   "outputs": [],
   "source": [
    "coords"
   ]
  },
  {
   "cell_type": "code",
   "execution_count": null,
   "metadata": {},
   "outputs": [],
   "source": [
    "for i1, p1 in enumerate(poi[1:]):\n",
    "    for i2, p2 in enumerate(poi[1:]):\n",
    "        if i1 !=i2:\n",
    "            dspp.solve(p1, p2, refine_path=True)"
   ]
  },
  {
   "cell_type": "code",
   "execution_count": null,
   "metadata": {},
   "outputs": [],
   "source": [
    "with open(exp_name + 'dspp.pkl', 'wb') as f:\n",
    "    pickle.dump({'dspp': dspp}, f)"
   ]
  },
  {
   "cell_type": "code",
   "execution_count": null,
   "metadata": {},
   "outputs": [],
   "source": [
    "dspppath = \"logs/5DOf_ur_20230619092515_1_1000_0.050_0.250dspp.pkl\""
   ]
  },
  {
   "cell_type": "code",
   "execution_count": null,
   "metadata": {},
   "outputs": [],
   "source": [
    "from gcs.bezier import BezierGCS"
   ]
  },
  {
   "cell_type": "code",
   "execution_count": null,
   "metadata": {},
   "outputs": [],
   "source": [
    "convex_relaxation = True\n",
    "b_gcs = BezierGCS(regions, order=5, continuity=2)\n",
    "b_gcs.addTimeCost(1)\n",
    "b_gcs.addPathLengthCost(1)\n",
    "b_gcs.setSolver(MosekSolver())\n",
    "\n",
    "def solve_path(start, end):\n",
    "    b_gcs.addSourceTarget(start, end)\n",
    "    bezier_traj = b_gcs.SolvePath(convex_relaxation)[0]\n",
    "\n",
    "    samples = np.linspace(bezier_traj.start_time(), bezier_traj.end_time(), 200)\n",
    "    values = np.squeeze([bezier_traj.value(s) for s in samples])\n",
    "    return values"
   ]
  },
  {
   "cell_type": "code",
   "execution_count": null,
   "metadata": {},
   "outputs": [],
   "source": [
    "import time\n",
    "\n",
    "\n",
    "start = poi[1+np.random.choice(7)]\n",
    "for _ in range(50):\n",
    "    #nxt = vs.sample_in_regions() #\n",
    "    while True:\n",
    "        nxt = poi[1+np.random.choice(7)]\n",
    "        plot_endeff_pose(nxt, str(0))\n",
    "        if nxt[0] != start[0]:\n",
    "            break\n",
    "    #wp, dist = dspp.solve(start, nxt, refine_path=True)#dijkstra_spp(start, nxt, node_intersections, base_ad_mat, vs.regions, point_conversion, optimize= True)\n",
    "    dense_waypoints = solve_path(start, nxt)\n",
    "    dist =1\n",
    "    if dist >0:\n",
    "        #dense_waypoints = densify_waypoints(wp)\n",
    "        plot_endeff_traj(dense_waypoints)\n",
    "        for qa in dense_waypoints:\n",
    "            #qa = #Ratfk.ComputeQValue(ta, np.zeros(3))\n",
    "            showres(qa)\n",
    "            #if col_func_handle(qa):\n",
    "            #print(col)\n",
    "            #break\n",
    "            time.sleep(0.01)\n",
    "        start = nxt\n",
    "        time.sleep(0.01)\n",
    "        ur.meshcat.Delete(\"/iris/points/traj/\")\n",
    "        \n",
    "    else:\n",
    "        nxt = poi[1+np.random.choice(7)]"
   ]
  },
  {
   "cell_type": "code",
   "execution_count": null,
   "metadata": {},
   "outputs": [],
   "source": []
  },
  {
   "cell_type": "code",
   "execution_count": null,
   "metadata": {},
   "outputs": [],
   "source": []
  }
 ],
 "metadata": {
  "kernelspec": {
   "display_name": "Python 3 (ipykernel)",
   "language": "python",
   "name": "python3"
  },
  "language_info": {
   "codemirror_mode": {
    "name": "ipython",
    "version": 3
   },
   "file_extension": ".py",
   "mimetype": "text/x-python",
   "name": "python",
   "nbconvert_exporter": "python",
   "pygments_lexer": "ipython3",
   "version": "3.10.12"
  }
 },
 "nbformat": 4,
 "nbformat_minor": 2
}
